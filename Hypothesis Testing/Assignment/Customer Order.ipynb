{
 "cells": [
  {
   "cell_type": "markdown",
   "id": "a7fb774d",
   "metadata": {},
   "source": [
    "Telecall uses 4 centers around the globe to process customer order forms.\n",
    "They audit a certain % of the customer order forms. Any error in order form\n",
    "renders it defective and must be reworked before processing. The manager\n",
    "wants to check whether the defective % varies by center. Please analyze\n",
    "the data at 5% significance level and help the manager draw appropriate\n",
    "inferences"
   ]
  },
  {
   "cell_type": "code",
   "execution_count": 1,
   "id": "e6fe47c2",
   "metadata": {},
   "outputs": [],
   "source": [
    "# Importing libraries\n",
    "\n",
    "import pandas as pd\n",
    "import numpy as np \n",
    "import seaborn as sns\n",
    "import matplotlib.pyplot as plt\n",
    "import scipy"
   ]
  },
  {
   "cell_type": "code",
   "execution_count": 2,
   "id": "1b4db4fe",
   "metadata": {
    "scrolled": true
   },
   "outputs": [
    {
     "data": {
      "text/html": [
       "<div>\n",
       "<style scoped>\n",
       "    .dataframe tbody tr th:only-of-type {\n",
       "        vertical-align: middle;\n",
       "    }\n",
       "\n",
       "    .dataframe tbody tr th {\n",
       "        vertical-align: top;\n",
       "    }\n",
       "\n",
       "    .dataframe thead th {\n",
       "        text-align: right;\n",
       "    }\n",
       "</style>\n",
       "<table border=\"1\" class=\"dataframe\">\n",
       "  <thead>\n",
       "    <tr style=\"text-align: right;\">\n",
       "      <th></th>\n",
       "      <th>Phillippines</th>\n",
       "      <th>Indonesia</th>\n",
       "      <th>Malta</th>\n",
       "      <th>India</th>\n",
       "    </tr>\n",
       "  </thead>\n",
       "  <tbody>\n",
       "    <tr>\n",
       "      <th>0</th>\n",
       "      <td>Error Free</td>\n",
       "      <td>Error Free</td>\n",
       "      <td>Defective</td>\n",
       "      <td>Error Free</td>\n",
       "    </tr>\n",
       "    <tr>\n",
       "      <th>1</th>\n",
       "      <td>Error Free</td>\n",
       "      <td>Error Free</td>\n",
       "      <td>Error Free</td>\n",
       "      <td>Defective</td>\n",
       "    </tr>\n",
       "    <tr>\n",
       "      <th>2</th>\n",
       "      <td>Error Free</td>\n",
       "      <td>Defective</td>\n",
       "      <td>Defective</td>\n",
       "      <td>Error Free</td>\n",
       "    </tr>\n",
       "    <tr>\n",
       "      <th>3</th>\n",
       "      <td>Error Free</td>\n",
       "      <td>Error Free</td>\n",
       "      <td>Error Free</td>\n",
       "      <td>Error Free</td>\n",
       "    </tr>\n",
       "    <tr>\n",
       "      <th>4</th>\n",
       "      <td>Error Free</td>\n",
       "      <td>Error Free</td>\n",
       "      <td>Defective</td>\n",
       "      <td>Error Free</td>\n",
       "    </tr>\n",
       "  </tbody>\n",
       "</table>\n",
       "</div>"
      ],
      "text/plain": [
       "  Phillippines   Indonesia       Malta       India\n",
       "0   Error Free  Error Free   Defective  Error Free\n",
       "1   Error Free  Error Free  Error Free   Defective\n",
       "2   Error Free   Defective   Defective  Error Free\n",
       "3   Error Free  Error Free  Error Free  Error Free\n",
       "4   Error Free  Error Free   Defective  Error Free"
      ]
     },
     "execution_count": 2,
     "metadata": {},
     "output_type": "execute_result"
    }
   ],
   "source": [
    "# Importing the dataset\n",
    "dataset = pd.read_csv('C:/Users/vaibh/Desktop/360 Digitmg/Hypothesis Testing/Assignment/CustomerOrderform.csv')\n",
    "dataset.head()"
   ]
  },
  {
   "cell_type": "code",
   "execution_count": 3,
   "id": "a78fbe4c",
   "metadata": {},
   "outputs": [
    {
     "data": {
      "text/plain": [
       "(315, 4)"
      ]
     },
     "execution_count": 3,
     "metadata": {},
     "output_type": "execute_result"
    }
   ],
   "source": [
    "# Dataset shape\n",
    "dataset.shape"
   ]
  },
  {
   "cell_type": "code",
   "execution_count": 4,
   "id": "145f5de0",
   "metadata": {
    "scrolled": false
   },
   "outputs": [
    {
     "data": {
      "text/plain": [
       "Phillippines    15\n",
       "Indonesia       15\n",
       "Malta           15\n",
       "India           15\n",
       "dtype: int64"
      ]
     },
     "execution_count": 4,
     "metadata": {},
     "output_type": "execute_result"
    }
   ],
   "source": [
    "# Checking for null values\n",
    "dataset.isnull().sum()"
   ]
  },
  {
   "cell_type": "markdown",
   "id": "1d14c23d",
   "metadata": {},
   "source": [
    "There are 15 null values"
   ]
  },
  {
   "cell_type": "code",
   "execution_count": 5,
   "id": "da99ac75",
   "metadata": {
    "scrolled": true
   },
   "outputs": [],
   "source": [
    "# Removing null rows\n",
    "dataset.dropna(inplace=True)"
   ]
  },
  {
   "cell_type": "code",
   "execution_count": 6,
   "id": "9ba13ce5",
   "metadata": {},
   "outputs": [
    {
     "data": {
      "text/plain": [
       "(300, 4)"
      ]
     },
     "execution_count": 6,
     "metadata": {},
     "output_type": "execute_result"
    }
   ],
   "source": [
    "dataset.shape # 15 rows removed "
   ]
  },
  {
   "cell_type": "code",
   "execution_count": 7,
   "id": "1ea99dad",
   "metadata": {
    "scrolled": false
   },
   "outputs": [
    {
     "data": {
      "text/html": [
       "<div>\n",
       "<style scoped>\n",
       "    .dataframe tbody tr th:only-of-type {\n",
       "        vertical-align: middle;\n",
       "    }\n",
       "\n",
       "    .dataframe tbody tr th {\n",
       "        vertical-align: top;\n",
       "    }\n",
       "\n",
       "    .dataframe thead th {\n",
       "        text-align: right;\n",
       "    }\n",
       "</style>\n",
       "<table border=\"1\" class=\"dataframe\">\n",
       "  <thead>\n",
       "    <tr style=\"text-align: right;\">\n",
       "      <th></th>\n",
       "      <th>count</th>\n",
       "      <th>unique</th>\n",
       "      <th>top</th>\n",
       "      <th>freq</th>\n",
       "    </tr>\n",
       "  </thead>\n",
       "  <tbody>\n",
       "    <tr>\n",
       "      <th>Phillippines</th>\n",
       "      <td>300</td>\n",
       "      <td>2</td>\n",
       "      <td>Error Free</td>\n",
       "      <td>271</td>\n",
       "    </tr>\n",
       "    <tr>\n",
       "      <th>Indonesia</th>\n",
       "      <td>300</td>\n",
       "      <td>2</td>\n",
       "      <td>Error Free</td>\n",
       "      <td>267</td>\n",
       "    </tr>\n",
       "    <tr>\n",
       "      <th>Malta</th>\n",
       "      <td>300</td>\n",
       "      <td>2</td>\n",
       "      <td>Error Free</td>\n",
       "      <td>269</td>\n",
       "    </tr>\n",
       "    <tr>\n",
       "      <th>India</th>\n",
       "      <td>300</td>\n",
       "      <td>2</td>\n",
       "      <td>Error Free</td>\n",
       "      <td>280</td>\n",
       "    </tr>\n",
       "  </tbody>\n",
       "</table>\n",
       "</div>"
      ],
      "text/plain": [
       "             count unique         top freq\n",
       "Phillippines   300      2  Error Free  271\n",
       "Indonesia      300      2  Error Free  267\n",
       "Malta          300      2  Error Free  269\n",
       "India          300      2  Error Free  280"
      ]
     },
     "execution_count": 7,
     "metadata": {},
     "output_type": "execute_result"
    }
   ],
   "source": [
    "# Checking for descriptive statistics\n",
    "dataset.describe().T"
   ]
  },
  {
   "cell_type": "code",
   "execution_count": 8,
   "id": "90f83e12",
   "metadata": {
    "scrolled": true
   },
   "outputs": [
    {
     "name": "stdout",
     "output_type": "stream",
     "text": [
      "Phillippines : \n",
      "Error Free    271\n",
      "Defective      29\n",
      "Name: Phillippines, dtype: int64\n",
      "\n",
      "Indonesia : \n",
      "Error Free    267\n",
      "Defective      33\n",
      "Name: Indonesia, dtype: int64\n",
      "\n",
      "Malta : \n",
      "Error Free    269\n",
      "Defective      31\n",
      "Name: Malta, dtype: int64\n",
      "\n",
      "India : \n",
      "Error Free    280\n",
      "Defective      20\n",
      "Name: India, dtype: int64\n"
     ]
    }
   ],
   "source": [
    "print(f'Phillippines : \\n{dataset.Phillippines.value_counts()}\\n') \n",
    "print(f'Indonesia : \\n{dataset.Indonesia.value_counts()}\\n')\n",
    "print(f'Malta : \\n{dataset.Malta.value_counts()}\\n')\n",
    "print(f'India : \\n{dataset.India.value_counts()}')"
   ]
  },
  {
   "cell_type": "code",
   "execution_count": 9,
   "id": "bf143dd9",
   "metadata": {},
   "outputs": [],
   "source": [
    "data = [[271,267,269,280],\n",
    "       [29,33,31,20]]"
   ]
  },
  {
   "cell_type": "code",
   "execution_count": 10,
   "id": "80aacb09",
   "metadata": {
    "scrolled": true
   },
   "outputs": [
    {
     "data": {
      "text/plain": [
       "(3.858960685820355,\n",
       " 0.2771020991233135,\n",
       " 3,\n",
       " array([[271.75, 271.75, 271.75, 271.75],\n",
       "        [ 28.25,  28.25,  28.25,  28.25]]))"
      ]
     },
     "execution_count": 10,
     "metadata": {},
     "output_type": "execute_result"
    }
   ],
   "source": [
    "# Chi-Squared test\n",
    "\n",
    "stats, p, dof, expected = scipy.stats.chi2_contingency(data)\n",
    "stats, p , dof, expected"
   ]
  },
  {
   "cell_type": "code",
   "execution_count": 11,
   "id": "76510817",
   "metadata": {},
   "outputs": [
    {
     "name": "stdout",
     "output_type": "stream",
     "text": [
      "p-value : 0.2771020991233135\n"
     ]
    }
   ],
   "source": [
    "print (f'p-value : {p}')"
   ]
  },
  {
   "cell_type": "markdown",
   "id": "52d74dd8",
   "metadata": {},
   "source": [
    "H0 ---> The defective % are same \n",
    "\n",
    "Ha ---> The defective % are different\n",
    "\n",
    "The p-value for the chi-squared test 0.277 is greater than the significance value of 0.05\n",
    "\n",
    "Hence, we accept the null hypothesis\n",
    "\n",
    "the defective % does not vary by center"
   ]
  }
 ],
 "metadata": {
  "kernelspec": {
   "display_name": "Python 3 (ipykernel)",
   "language": "python",
   "name": "python3"
  },
  "language_info": {
   "codemirror_mode": {
    "name": "ipython",
    "version": 3
   },
   "file_extension": ".py",
   "mimetype": "text/x-python",
   "name": "python",
   "nbconvert_exporter": "python",
   "pygments_lexer": "ipython3",
   "version": "3.9.12"
  }
 },
 "nbformat": 4,
 "nbformat_minor": 5
}
