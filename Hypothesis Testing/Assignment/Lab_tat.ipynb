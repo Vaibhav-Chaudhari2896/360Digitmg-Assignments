{
 "cells": [
  {
   "cell_type": "markdown",
   "id": "a7fb774d",
   "metadata": {},
   "source": [
    "A hospital wants to determine whether there is any difference in the average Turn Around Time (TAT) of reports of the laboratories on their preferred list. They collected a random sample and recorded TAT for reports of 4 laboratories. TAT is defined as sample collected to report dispatch.\n",
    "Analyze the data and determine whether there is any difference in average TAT among the different laboratories at 5% significance level."
   ]
  },
  {
   "cell_type": "code",
   "execution_count": 1,
   "id": "e6fe47c2",
   "metadata": {},
   "outputs": [],
   "source": [
    "# Importing libraries\n",
    "import pandas as pd\n",
    "import numpy as np \n",
    "import seaborn as sns\n",
    "import matplotlib.pyplot as plt\n",
    "import scipy\n",
    "import statsmodels as sm\n",
    "import pylab"
   ]
  },
  {
   "cell_type": "code",
   "execution_count": 2,
   "id": "1b4db4fe",
   "metadata": {
    "scrolled": true
   },
   "outputs": [
    {
     "data": {
      "text/html": [
       "<div>\n",
       "<style scoped>\n",
       "    .dataframe tbody tr th:only-of-type {\n",
       "        vertical-align: middle;\n",
       "    }\n",
       "\n",
       "    .dataframe tbody tr th {\n",
       "        vertical-align: top;\n",
       "    }\n",
       "\n",
       "    .dataframe thead th {\n",
       "        text-align: right;\n",
       "    }\n",
       "</style>\n",
       "<table border=\"1\" class=\"dataframe\">\n",
       "  <thead>\n",
       "    <tr style=\"text-align: right;\">\n",
       "      <th></th>\n",
       "      <th>Laboratory_1</th>\n",
       "      <th>Laboratory_2</th>\n",
       "      <th>Laboratory_3</th>\n",
       "      <th>Laboratory_4</th>\n",
       "    </tr>\n",
       "  </thead>\n",
       "  <tbody>\n",
       "    <tr>\n",
       "      <th>0</th>\n",
       "      <td>185.35</td>\n",
       "      <td>165.53</td>\n",
       "      <td>176.70</td>\n",
       "      <td>166.13</td>\n",
       "    </tr>\n",
       "    <tr>\n",
       "      <th>1</th>\n",
       "      <td>170.49</td>\n",
       "      <td>185.91</td>\n",
       "      <td>198.45</td>\n",
       "      <td>160.79</td>\n",
       "    </tr>\n",
       "    <tr>\n",
       "      <th>2</th>\n",
       "      <td>192.77</td>\n",
       "      <td>194.92</td>\n",
       "      <td>201.23</td>\n",
       "      <td>185.18</td>\n",
       "    </tr>\n",
       "    <tr>\n",
       "      <th>3</th>\n",
       "      <td>177.33</td>\n",
       "      <td>183.00</td>\n",
       "      <td>199.61</td>\n",
       "      <td>176.42</td>\n",
       "    </tr>\n",
       "    <tr>\n",
       "      <th>4</th>\n",
       "      <td>193.41</td>\n",
       "      <td>169.57</td>\n",
       "      <td>204.63</td>\n",
       "      <td>152.60</td>\n",
       "    </tr>\n",
       "  </tbody>\n",
       "</table>\n",
       "</div>"
      ],
      "text/plain": [
       "   Laboratory_1  Laboratory_2  Laboratory_3  Laboratory_4\n",
       "0        185.35        165.53        176.70        166.13\n",
       "1        170.49        185.91        198.45        160.79\n",
       "2        192.77        194.92        201.23        185.18\n",
       "3        177.33        183.00        199.61        176.42\n",
       "4        193.41        169.57        204.63        152.60"
      ]
     },
     "execution_count": 2,
     "metadata": {},
     "output_type": "execute_result"
    }
   ],
   "source": [
    "# Importing the dataset\n",
    "dataset = pd.read_csv('C:/Users/vaibh/Desktop/360 Digitmg/Hypothesis Testing/Assignment/lab_tat_updated.csv')\n",
    "dataset.head()"
   ]
  },
  {
   "cell_type": "code",
   "execution_count": 3,
   "id": "a78fbe4c",
   "metadata": {},
   "outputs": [
    {
     "data": {
      "text/plain": [
       "(120, 4)"
      ]
     },
     "execution_count": 3,
     "metadata": {},
     "output_type": "execute_result"
    }
   ],
   "source": [
    "# Dataset shape\n",
    "dataset.shape"
   ]
  },
  {
   "cell_type": "code",
   "execution_count": 4,
   "id": "145f5de0",
   "metadata": {
    "scrolled": false
   },
   "outputs": [
    {
     "data": {
      "text/plain": [
       "Laboratory_1    0\n",
       "Laboratory_2    0\n",
       "Laboratory_3    0\n",
       "Laboratory_4    0\n",
       "dtype: int64"
      ]
     },
     "execution_count": 4,
     "metadata": {},
     "output_type": "execute_result"
    }
   ],
   "source": [
    "# Checking for null values\n",
    "dataset.isnull().sum()"
   ]
  },
  {
   "cell_type": "markdown",
   "id": "1d14c23d",
   "metadata": {},
   "source": [
    "There are no null values"
   ]
  },
  {
   "cell_type": "code",
   "execution_count": 5,
   "id": "f3b8f042",
   "metadata": {
    "scrolled": true
   },
   "outputs": [
    {
     "data": {
      "text/plain": [
       "0"
      ]
     },
     "execution_count": 5,
     "metadata": {},
     "output_type": "execute_result"
    }
   ],
   "source": [
    "# Checking for duplicated rows\n",
    "dataset.duplicated().sum()"
   ]
  },
  {
   "cell_type": "markdown",
   "id": "fa3d1ce6",
   "metadata": {},
   "source": [
    "There are no duplicate rows"
   ]
  },
  {
   "cell_type": "code",
   "execution_count": 7,
   "id": "1ea99dad",
   "metadata": {
    "scrolled": true
   },
   "outputs": [
    {
     "data": {
      "text/html": [
       "<div>\n",
       "<style scoped>\n",
       "    .dataframe tbody tr th:only-of-type {\n",
       "        vertical-align: middle;\n",
       "    }\n",
       "\n",
       "    .dataframe tbody tr th {\n",
       "        vertical-align: top;\n",
       "    }\n",
       "\n",
       "    .dataframe thead th {\n",
       "        text-align: right;\n",
       "    }\n",
       "</style>\n",
       "<table border=\"1\" class=\"dataframe\">\n",
       "  <thead>\n",
       "    <tr style=\"text-align: right;\">\n",
       "      <th></th>\n",
       "      <th>count</th>\n",
       "      <th>mean</th>\n",
       "      <th>std</th>\n",
       "      <th>min</th>\n",
       "      <th>25%</th>\n",
       "      <th>50%</th>\n",
       "      <th>75%</th>\n",
       "      <th>max</th>\n",
       "    </tr>\n",
       "  </thead>\n",
       "  <tbody>\n",
       "    <tr>\n",
       "      <th>Laboratory_1</th>\n",
       "      <td>120.0</td>\n",
       "      <td>178.257333</td>\n",
       "      <td>13.919668</td>\n",
       "      <td>140.25</td>\n",
       "      <td>170.2675</td>\n",
       "      <td>179.055</td>\n",
       "      <td>187.2225</td>\n",
       "      <td>216.39</td>\n",
       "    </tr>\n",
       "    <tr>\n",
       "      <th>Laboratory_2</th>\n",
       "      <td>120.0</td>\n",
       "      <td>178.902917</td>\n",
       "      <td>14.957114</td>\n",
       "      <td>140.55</td>\n",
       "      <td>168.0250</td>\n",
       "      <td>178.870</td>\n",
       "      <td>189.1125</td>\n",
       "      <td>217.86</td>\n",
       "    </tr>\n",
       "    <tr>\n",
       "      <th>Laboratory_3</th>\n",
       "      <td>120.0</td>\n",
       "      <td>200.210167</td>\n",
       "      <td>15.794801</td>\n",
       "      <td>170.58</td>\n",
       "      <td>190.1825</td>\n",
       "      <td>198.610</td>\n",
       "      <td>211.1975</td>\n",
       "      <td>238.70</td>\n",
       "    </tr>\n",
       "    <tr>\n",
       "      <th>Laboratory_4</th>\n",
       "      <td>120.0</td>\n",
       "      <td>163.682750</td>\n",
       "      <td>15.085080</td>\n",
       "      <td>124.06</td>\n",
       "      <td>154.0500</td>\n",
       "      <td>164.425</td>\n",
       "      <td>172.8825</td>\n",
       "      <td>205.18</td>\n",
       "    </tr>\n",
       "  </tbody>\n",
       "</table>\n",
       "</div>"
      ],
      "text/plain": [
       "              count        mean        std     min       25%      50%  \\\n",
       "Laboratory_1  120.0  178.257333  13.919668  140.25  170.2675  179.055   \n",
       "Laboratory_2  120.0  178.902917  14.957114  140.55  168.0250  178.870   \n",
       "Laboratory_3  120.0  200.210167  15.794801  170.58  190.1825  198.610   \n",
       "Laboratory_4  120.0  163.682750  15.085080  124.06  154.0500  164.425   \n",
       "\n",
       "                   75%     max  \n",
       "Laboratory_1  187.2225  216.39  \n",
       "Laboratory_2  189.1125  217.86  \n",
       "Laboratory_3  211.1975  238.70  \n",
       "Laboratory_4  172.8825  205.18  "
      ]
     },
     "execution_count": 7,
     "metadata": {},
     "output_type": "execute_result"
    }
   ],
   "source": [
    "# Checking for descriptive statistics\n",
    "dataset.describe().T"
   ]
  },
  {
   "cell_type": "code",
   "execution_count": 12,
   "id": "49993ab6",
   "metadata": {
    "scrolled": false
   },
   "outputs": [
    {
     "data": {
      "image/png": "[encoded data removed]",
      "text/plain": [
       "<Figure size 432x288 with 1 Axes>"
      ]
     },
     "metadata": {
      "needs_background": "light"
     },
     "output_type": "display_data"
    },
    {
     "data": {
      "image/png": "[encoded data removed]",
      "text/plain": [
       "<Figure size 432x288 with 1 Axes>"
      ]
     },
     "metadata": {
      "needs_background": "light"
     },
     "output_type": "display_data"
    },
    {
     "data": {
      "image/png": "[encoded data removed]",
      "text/plain": [
       "<Figure size 432x288 with 1 Axes>"
      ]
     },
     "metadata": {
      "needs_background": "light"
     },
     "output_type": "display_data"
    },
    {
     "data": {
      "image/png": "[encoded data removed]",
      "text/plain": [
       "<Figure size 432x288 with 1 Axes>"
      ]
     },
     "metadata": {
      "needs_background": "light"
     },
     "output_type": "display_data"
    }
   ],
   "source": [
    "# Q-Q plot for features\n",
    "for col in dataset.columns:\n",
    "    scipy.stats.probplot(dataset[col], dist=\"norm\", plot=pylab)\n",
    "    plt.show()"
   ]
  },
  {
   "cell_type": "code",
   "execution_count": 13,
   "id": "2ff56af4",
   "metadata": {
    "scrolled": true
   },
   "outputs": [
    {
     "data": {
      "text/plain": [
       "<AxesSubplot:>"
      ]
     },
     "execution_count": 13,
     "metadata": {},
     "output_type": "execute_result"
    },
    {
     "data": {
      "image/png": "[encoded data removed]",
      "text/plain": [
       "<Figure size 432x288 with 1 Axes>"
      ]
     },
     "metadata": {
      "needs_background": "light"
     },
     "output_type": "display_data"
    }
   ],
   "source": [
    "# Boxplot to identify outliers\n",
    "sns.boxplot(data=dataset)"
   ]
  },
  {
   "cell_type": "markdown",
   "id": "d895cbbf",
   "metadata": {},
   "source": [
    "Laboratory 1 and 4 has outliers."
   ]
  },
  {
   "cell_type": "code",
   "execution_count": 16,
   "id": "a3bc5319",
   "metadata": {
    "scrolled": true
   },
   "outputs": [],
   "source": [
    "# Oultier Treatment\n",
    "for col in ['Laboratory_1','Laboratory_4']:\n",
    "\n",
    "    IQR = dataset[col].quantile(0.75) - dataset[col].quantile(0.25) # Calculating IQR range\n",
    "    low_end = dataset[col].quantile(0.25) - (1.5*IQR)               # Calculating lower whisker value\n",
    "    upper_end = dataset[col].quantile(0.75) + (1.5*IQR)             # Calculating upper whisker value\n",
    "    dataset[col] = pd.DataFrame(np.where(dataset[col] > upper_end,upper_end, \n",
    "                          np.where(dataset[col] < low_end,low_end,dataset[col])))"
   ]
  },
  {
   "cell_type": "code",
   "execution_count": 17,
   "id": "2f3cc4ae",
   "metadata": {},
   "outputs": [
    {
     "name": "stdout",
     "output_type": "stream",
     "text": [
      "Laboratory_1 : ShapiroResult(statistic=0.9867106676101685, pvalue=0.29082849621772766)\n",
      "Laboratory_2 : ShapiroResult(statistic=0.9936322569847107, pvalue=0.8637524843215942)\n",
      "Laboratory_3 : ShapiroResult(statistic=0.9796067476272583, pvalue=0.06547004729509354)\n",
      "Laboratory_4 : ShapiroResult(statistic=0.9902289509773254, pvalue=0.5549004673957825)\n"
     ]
    }
   ],
   "source": [
    "# Normality tests\n",
    "for col in dataset.columns:\n",
    "    print(f'{col} : {scipy.stats.shapiro(dataset[col])}')  "
   ]
  },
  {
   "cell_type": "markdown",
   "id": "060cd66c",
   "metadata": {},
   "source": [
    "H0 ---> Data is normal \n",
    "\n",
    "Ha ---> Data is not normal\n",
    "\n",
    "p-value is greater than 0.05, hence null hypothesis is accepted.\n",
    "\n",
    "Data is Normal. "
   ]
  },
  {
   "cell_type": "code",
   "execution_count": 18,
   "id": "80aacb09",
   "metadata": {
    "scrolled": true
   },
   "outputs": [
    {
     "data": {
      "text/plain": [
       "LeveneResult(statistic=1.1289013836695934, pvalue=0.3368989960176193)"
      ]
     },
     "execution_count": 18,
     "metadata": {},
     "output_type": "execute_result"
    }
   ],
   "source": [
    "# Variance Test\n",
    "\n",
    "scipy.stats.levene(dataset.Laboratory_1,dataset.Laboratory_2,dataset.Laboratory_3,dataset.Laboratory_4)"
   ]
  },
  {
   "cell_type": "markdown",
   "id": "de732558",
   "metadata": {},
   "source": [
    "p-value > 0.05, Hence variance are equal"
   ]
  },
  {
   "cell_type": "code",
   "execution_count": 19,
   "id": "76510817",
   "metadata": {},
   "outputs": [
    {
     "name": "stdout",
     "output_type": "stream",
     "text": [
      "7.0039897700517775e-59\n"
     ]
    }
   ],
   "source": [
    "# One - Way Anova\n",
    "ttest, pval = scipy.stats.f_oneway(dataset.Laboratory_1,dataset.Laboratory_2,dataset.Laboratory_3,dataset.Laboratory_4)\n",
    "print(pval)"
   ]
  },
  {
   "cell_type": "markdown",
   "id": "52d74dd8",
   "metadata": {},
   "source": [
    "H0 ---> The samples are same\n",
    "\n",
    "Ha ---> The samples are different\n",
    "\n",
    "The p-value for the one way ANOVA test is less than the significance value of 0.05\n",
    "\n",
    "Hence, we reject the null hypothesis\n",
    "\n",
    "There is a difference in the average TAT from the laborataries"
   ]
  }
 ],
 "metadata": {
  "kernelspec": {
   "display_name": "Python 3 (ipykernel)",
   "language": "python",
   "name": "python3"
  },
  "language_info": {
   "codemirror_mode": {
    "name": "ipython",
    "version": 3
   },
   "file_extension": ".py",
   "mimetype": "text/x-python",
   "name": "python",
   "nbconvert_exporter": "python",
   "pygments_lexer": "ipython3",
   "version": "3.9.12"
  }
 },
 "nbformat": 4,
 "nbformat_minor": 5
}
