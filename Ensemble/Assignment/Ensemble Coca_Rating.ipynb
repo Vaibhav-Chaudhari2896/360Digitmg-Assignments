{
 "cells": [
  {
   "cell_type": "code",
   "execution_count": 1,
   "id": "f59f37f3",
   "metadata": {},
   "outputs": [],
   "source": [
    "# Importing libraries\n",
    "\n",
    "import pandas as pd\n",
    "import numpy as np\n",
    "import matplotlib.pyplot as plt\n",
    "import seaborn as sns\n",
    "\n",
    "from sklearn.metrics import confusion_matrix,accuracy_score,f1_score\n",
    "%matplotlib inline"
   ]
  },
  {
   "cell_type": "code",
   "execution_count": 2,
   "id": "2ccce6ba",
   "metadata": {},
   "outputs": [],
   "source": [
    "# importing dataset\n",
    "dataset = pd.read_excel('C:/Users/vaibh/Desktop/360 Digitmg/Ensemble/Assignment/Coca_Rating_Ensemble.xlsx')"
   ]
  },
  {
   "cell_type": "code",
   "execution_count": 3,
   "id": "69d1c523",
   "metadata": {
    "scrolled": true
   },
   "outputs": [
    {
     "data": {
      "text/html": [
       "<div>\n",
       "<style scoped>\n",
       "    .dataframe tbody tr th:only-of-type {\n",
       "        vertical-align: middle;\n",
       "    }\n",
       "\n",
       "    .dataframe tbody tr th {\n",
       "        vertical-align: top;\n",
       "    }\n",
       "\n",
       "    .dataframe thead th {\n",
       "        text-align: right;\n",
       "    }\n",
       "</style>\n",
       "<table border=\"1\" class=\"dataframe\">\n",
       "  <thead>\n",
       "    <tr style=\"text-align: right;\">\n",
       "      <th></th>\n",
       "      <th>Company</th>\n",
       "      <th>Name</th>\n",
       "      <th>REF</th>\n",
       "      <th>Review</th>\n",
       "      <th>Cocoa_Percent</th>\n",
       "      <th>Company_Location</th>\n",
       "      <th>Rating</th>\n",
       "      <th>Bean_Type</th>\n",
       "      <th>Origin</th>\n",
       "    </tr>\n",
       "  </thead>\n",
       "  <tbody>\n",
       "    <tr>\n",
       "      <th>0</th>\n",
       "      <td>A. Morin</td>\n",
       "      <td>Agua Grande</td>\n",
       "      <td>1876.0</td>\n",
       "      <td>2016.0</td>\n",
       "      <td>0.63</td>\n",
       "      <td>France</td>\n",
       "      <td>3.75</td>\n",
       "      <td></td>\n",
       "      <td>Sao Tome</td>\n",
       "    </tr>\n",
       "    <tr>\n",
       "      <th>1</th>\n",
       "      <td>A. Morin</td>\n",
       "      <td>Kpime</td>\n",
       "      <td>1676.0</td>\n",
       "      <td>2015.0</td>\n",
       "      <td>0.70</td>\n",
       "      <td>France</td>\n",
       "      <td>2.75</td>\n",
       "      <td></td>\n",
       "      <td>Togo</td>\n",
       "    </tr>\n",
       "    <tr>\n",
       "      <th>2</th>\n",
       "      <td>A. Morin</td>\n",
       "      <td>Atsane</td>\n",
       "      <td>1676.0</td>\n",
       "      <td>2015.0</td>\n",
       "      <td>0.70</td>\n",
       "      <td>France</td>\n",
       "      <td>3.00</td>\n",
       "      <td></td>\n",
       "      <td>Togo</td>\n",
       "    </tr>\n",
       "    <tr>\n",
       "      <th>3</th>\n",
       "      <td>A. Morin</td>\n",
       "      <td>Akata</td>\n",
       "      <td>1680.0</td>\n",
       "      <td>2015.0</td>\n",
       "      <td>0.70</td>\n",
       "      <td>France</td>\n",
       "      <td>3.50</td>\n",
       "      <td></td>\n",
       "      <td>Togo</td>\n",
       "    </tr>\n",
       "    <tr>\n",
       "      <th>4</th>\n",
       "      <td>A. Morin</td>\n",
       "      <td>Quilla</td>\n",
       "      <td>1704.0</td>\n",
       "      <td>2015.0</td>\n",
       "      <td>0.70</td>\n",
       "      <td>France</td>\n",
       "      <td>3.50</td>\n",
       "      <td></td>\n",
       "      <td>Peru</td>\n",
       "    </tr>\n",
       "  </tbody>\n",
       "</table>\n",
       "</div>"
      ],
      "text/plain": [
       "    Company         Name     REF  Review  Cocoa_Percent Company_Location  \\\n",
       "0  A. Morin  Agua Grande  1876.0  2016.0           0.63           France   \n",
       "1  A. Morin        Kpime  1676.0  2015.0           0.70           France   \n",
       "2  A. Morin       Atsane  1676.0  2015.0           0.70           France   \n",
       "3  A. Morin        Akata  1680.0  2015.0           0.70           France   \n",
       "4  A. Morin       Quilla  1704.0  2015.0           0.70           France   \n",
       "\n",
       "   Rating Bean_Type    Origin  \n",
       "0    3.75            Sao Tome  \n",
       "1    2.75                Togo  \n",
       "2    3.00                Togo  \n",
       "3    3.50                Togo  \n",
       "4    3.50                Peru  "
      ]
     },
     "execution_count": 3,
     "metadata": {},
     "output_type": "execute_result"
    }
   ],
   "source": [
    "# Checing rows and columns in the dataset\n",
    "dataset.head()"
   ]
  },
  {
   "cell_type": "code",
   "execution_count": 4,
   "id": "3aa34925",
   "metadata": {},
   "outputs": [
    {
     "data": {
      "text/plain": [
       "(1795, 9)"
      ]
     },
     "execution_count": 4,
     "metadata": {},
     "output_type": "execute_result"
    }
   ],
   "source": [
    "# Checking dmensions of the dataset\n",
    "dataset.shape"
   ]
  },
  {
   "cell_type": "code",
   "execution_count": 5,
   "id": "cbec215a",
   "metadata": {},
   "outputs": [
    {
     "name": "stdout",
     "output_type": "stream",
     "text": [
      "<class 'pandas.core.frame.DataFrame'>\n",
      "RangeIndex: 1795 entries, 0 to 1794\n",
      "Data columns (total 9 columns):\n",
      " #   Column            Non-Null Count  Dtype  \n",
      "---  ------            --------------  -----  \n",
      " 0   Company           1795 non-null   object \n",
      " 1   Name              1795 non-null   object \n",
      " 2   REF               1795 non-null   float64\n",
      " 3   Review            1795 non-null   float64\n",
      " 4   Cocoa_Percent     1795 non-null   float64\n",
      " 5   Company_Location  1795 non-null   object \n",
      " 6   Rating            1795 non-null   float64\n",
      " 7   Bean_Type         1794 non-null   object \n",
      " 8   Origin            1794 non-null   object \n",
      "dtypes: float64(4), object(5)\n",
      "memory usage: 126.3+ KB\n"
     ]
    }
   ],
   "source": [
    "dataset.info()"
   ]
  },
  {
   "cell_type": "code",
   "execution_count": 6,
   "id": "c9fad8e7",
   "metadata": {
    "scrolled": true
   },
   "outputs": [
    {
     "data": {
      "text/plain": [
       "Company             0\n",
       "Name                0\n",
       "REF                 0\n",
       "Review              0\n",
       "Cocoa_Percent       0\n",
       "Company_Location    0\n",
       "Rating              0\n",
       "Bean_Type           1\n",
       "Origin              1\n",
       "dtype: int64"
      ]
     },
     "execution_count": 6,
     "metadata": {},
     "output_type": "execute_result"
    }
   ],
   "source": [
    "# Checking for null values\n",
    "dataset.isnull().sum()"
   ]
  },
  {
   "cell_type": "code",
   "execution_count": 7,
   "id": "1da57e0e",
   "metadata": {
    "scrolled": true
   },
   "outputs": [
    {
     "data": {
      "text/plain": [
       "                            887\n",
       "Trinitario                  419\n",
       "Criollo                     153\n",
       "Forastero                    87\n",
       "Forastero (Nacional)         52\n",
       "Blend                        41\n",
       "Criollo, Trinitario          39\n",
       "Forastero (Arriba)           37\n",
       "Criollo (Porcelana)          10\n",
       "Trinitario, Criollo           9\n",
       "Forastero (Parazinho)         8\n",
       "Forastero (Arriba) ASS        6\n",
       "Nacional (Arriba)             3\n",
       "Matina                        3\n",
       "EET                           3\n",
       "Beniano                       3\n",
       "Criollo (Ocumare 61)          2\n",
       "Trinitario, Forastero         2\n",
       "Trinitario (85% Criollo)      2\n",
       "Forastero (Catongo)           2\n",
       "Criollo, Forastero            2\n",
       "Amazon, ICS                   2\n",
       "Criollo (Amarru)              2\n",
       "Amazon mix                    2\n",
       "Nacional                      2\n",
       "Criollo (Ocumare)             1\n",
       "Criollo (Ocumare 67)          1\n",
       "Trinitario, TCGA              1\n",
       "Trinitario (Amelonado)        1\n",
       "Trinitario, Nacional          1\n",
       "Forastero (Amelonado)         1\n",
       "Forastero, Trinitario         1\n",
       "Forastero (Arriba) ASSS       1\n",
       "Forastero(Arriba, CCN)        1\n",
       "Criollo, +                    1\n",
       "Criollo (Wild)                1\n",
       "Trinitario (Scavina)          1\n",
       "Criollo (Ocumare 77)          1\n",
       "CCN51                         1\n",
       "Amazon                        1\n",
       "Blend-Forastero,Criollo       1\n",
       "Name: Bean_Type, dtype: int64"
      ]
     },
     "execution_count": 7,
     "metadata": {},
     "output_type": "execute_result"
    }
   ],
   "source": [
    "dataset.Bean_Type.value_counts()"
   ]
  },
  {
   "cell_type": "markdown",
   "id": "65e47c7d",
   "metadata": {},
   "source": [
    "Trinitario is the most used bean type followed by Criollo bean type"
   ]
  },
  {
   "cell_type": "code",
   "execution_count": 8,
   "id": "20f04d8a",
   "metadata": {},
   "outputs": [
    {
     "data": {
      "text/plain": [
       "Venezuela                214\n",
       "Ecuador                  193\n",
       "Peru                     165\n",
       "Madagascar               145\n",
       "Dominican Republic       141\n",
       "                        ... \n",
       "Peru, Belize               1\n",
       "Peru, Mad., Dom. Rep.      1\n",
       "PNG, Vanuatu, Mad          1\n",
       "Trinidad, Ecuador          1\n",
       "Venezuela, Carribean       1\n",
       "Name: Origin, Length: 100, dtype: int64"
      ]
     },
     "execution_count": 8,
     "metadata": {},
     "output_type": "execute_result"
    }
   ],
   "source": [
    "dataset.Origin.value_counts()"
   ]
  },
  {
   "cell_type": "markdown",
   "id": "d81b03c7",
   "metadata": {},
   "source": [
    "We can there are some a lot of missing values in Bean type. Replacing these missing values with Nan and then with the most appropriate value. \n",
    "\n"
   ]
  },
  {
   "cell_type": "markdown",
   "id": "d7e03780",
   "metadata": {},
   "source": [
    "First lets check which rows have missing values"
   ]
  },
  {
   "cell_type": "code",
   "execution_count": 9,
   "id": "2b26f628",
   "metadata": {},
   "outputs": [
    {
     "data": {
      "text/plain": [
       "'\\xa0'"
      ]
     },
     "execution_count": 9,
     "metadata": {},
     "output_type": "execute_result"
    }
   ],
   "source": [
    "dataset.Bean_Type[1]"
   ]
  },
  {
   "cell_type": "markdown",
   "id": "a02a41ce",
   "metadata": {},
   "source": [
    "The missing value is a string \\xa0"
   ]
  },
  {
   "cell_type": "code",
   "execution_count": 10,
   "id": "0adf2d2c",
   "metadata": {},
   "outputs": [
    {
     "data": {
      "text/html": [
       "<div>\n",
       "<style scoped>\n",
       "    .dataframe tbody tr th:only-of-type {\n",
       "        vertical-align: middle;\n",
       "    }\n",
       "\n",
       "    .dataframe tbody tr th {\n",
       "        vertical-align: top;\n",
       "    }\n",
       "\n",
       "    .dataframe thead th {\n",
       "        text-align: right;\n",
       "    }\n",
       "</style>\n",
       "<table border=\"1\" class=\"dataframe\">\n",
       "  <thead>\n",
       "    <tr style=\"text-align: right;\">\n",
       "      <th></th>\n",
       "      <th>Company</th>\n",
       "      <th>Name</th>\n",
       "      <th>REF</th>\n",
       "      <th>Review</th>\n",
       "      <th>Cocoa_Percent</th>\n",
       "      <th>Company_Location</th>\n",
       "      <th>Rating</th>\n",
       "      <th>Bean_Type</th>\n",
       "      <th>Origin</th>\n",
       "    </tr>\n",
       "  </thead>\n",
       "  <tbody>\n",
       "    <tr>\n",
       "      <th>0</th>\n",
       "      <td>A. Morin</td>\n",
       "      <td>Agua Grande</td>\n",
       "      <td>1876.0</td>\n",
       "      <td>2016.0</td>\n",
       "      <td>0.63</td>\n",
       "      <td>France</td>\n",
       "      <td>3.75</td>\n",
       "      <td></td>\n",
       "      <td>Sao Tome</td>\n",
       "    </tr>\n",
       "    <tr>\n",
       "      <th>1</th>\n",
       "      <td>A. Morin</td>\n",
       "      <td>Kpime</td>\n",
       "      <td>1676.0</td>\n",
       "      <td>2015.0</td>\n",
       "      <td>0.70</td>\n",
       "      <td>France</td>\n",
       "      <td>2.75</td>\n",
       "      <td></td>\n",
       "      <td>Togo</td>\n",
       "    </tr>\n",
       "    <tr>\n",
       "      <th>2</th>\n",
       "      <td>A. Morin</td>\n",
       "      <td>Atsane</td>\n",
       "      <td>1676.0</td>\n",
       "      <td>2015.0</td>\n",
       "      <td>0.70</td>\n",
       "      <td>France</td>\n",
       "      <td>3.00</td>\n",
       "      <td></td>\n",
       "      <td>Togo</td>\n",
       "    </tr>\n",
       "    <tr>\n",
       "      <th>3</th>\n",
       "      <td>A. Morin</td>\n",
       "      <td>Akata</td>\n",
       "      <td>1680.0</td>\n",
       "      <td>2015.0</td>\n",
       "      <td>0.70</td>\n",
       "      <td>France</td>\n",
       "      <td>3.50</td>\n",
       "      <td></td>\n",
       "      <td>Togo</td>\n",
       "    </tr>\n",
       "    <tr>\n",
       "      <th>4</th>\n",
       "      <td>A. Morin</td>\n",
       "      <td>Quilla</td>\n",
       "      <td>1704.0</td>\n",
       "      <td>2015.0</td>\n",
       "      <td>0.70</td>\n",
       "      <td>France</td>\n",
       "      <td>3.50</td>\n",
       "      <td></td>\n",
       "      <td>Peru</td>\n",
       "    </tr>\n",
       "    <tr>\n",
       "      <th>...</th>\n",
       "      <td>...</td>\n",
       "      <td>...</td>\n",
       "      <td>...</td>\n",
       "      <td>...</td>\n",
       "      <td>...</td>\n",
       "      <td>...</td>\n",
       "      <td>...</td>\n",
       "      <td>...</td>\n",
       "      <td>...</td>\n",
       "    </tr>\n",
       "    <tr>\n",
       "      <th>1787</th>\n",
       "      <td>Zotter</td>\n",
       "      <td>Santo Domingo</td>\n",
       "      <td>879.0</td>\n",
       "      <td>2012.0</td>\n",
       "      <td>0.70</td>\n",
       "      <td>Austria</td>\n",
       "      <td>3.75</td>\n",
       "      <td></td>\n",
       "      <td>Dominican Republic</td>\n",
       "    </tr>\n",
       "    <tr>\n",
       "      <th>1789</th>\n",
       "      <td>Zotter</td>\n",
       "      <td>Indianer, Raw</td>\n",
       "      <td>883.0</td>\n",
       "      <td>2012.0</td>\n",
       "      <td>0.58</td>\n",
       "      <td>Austria</td>\n",
       "      <td>3.50</td>\n",
       "      <td></td>\n",
       "      <td></td>\n",
       "    </tr>\n",
       "    <tr>\n",
       "      <th>1790</th>\n",
       "      <td>Zotter</td>\n",
       "      <td>Peru</td>\n",
       "      <td>647.0</td>\n",
       "      <td>2011.0</td>\n",
       "      <td>0.70</td>\n",
       "      <td>Austria</td>\n",
       "      <td>3.75</td>\n",
       "      <td></td>\n",
       "      <td>Peru</td>\n",
       "    </tr>\n",
       "    <tr>\n",
       "      <th>1793</th>\n",
       "      <td>Zotter</td>\n",
       "      <td>Kerala State</td>\n",
       "      <td>781.0</td>\n",
       "      <td>2011.0</td>\n",
       "      <td>0.62</td>\n",
       "      <td>Austria</td>\n",
       "      <td>3.25</td>\n",
       "      <td></td>\n",
       "      <td>India</td>\n",
       "    </tr>\n",
       "    <tr>\n",
       "      <th>1794</th>\n",
       "      <td>Zotter</td>\n",
       "      <td>Brazil, Mitzi Blue</td>\n",
       "      <td>486.0</td>\n",
       "      <td>2010.0</td>\n",
       "      <td>0.65</td>\n",
       "      <td>Austria</td>\n",
       "      <td>3.00</td>\n",
       "      <td></td>\n",
       "      <td>Brazil</td>\n",
       "    </tr>\n",
       "  </tbody>\n",
       "</table>\n",
       "<p>887 rows × 9 columns</p>\n",
       "</div>"
      ],
      "text/plain": [
       "       Company                Name     REF  Review  Cocoa_Percent  \\\n",
       "0     A. Morin         Agua Grande  1876.0  2016.0           0.63   \n",
       "1     A. Morin               Kpime  1676.0  2015.0           0.70   \n",
       "2     A. Morin              Atsane  1676.0  2015.0           0.70   \n",
       "3     A. Morin               Akata  1680.0  2015.0           0.70   \n",
       "4     A. Morin              Quilla  1704.0  2015.0           0.70   \n",
       "...        ...                 ...     ...     ...            ...   \n",
       "1787    Zotter       Santo Domingo   879.0  2012.0           0.70   \n",
       "1789    Zotter       Indianer, Raw   883.0  2012.0           0.58   \n",
       "1790    Zotter                Peru   647.0  2011.0           0.70   \n",
       "1793    Zotter        Kerala State   781.0  2011.0           0.62   \n",
       "1794    Zotter  Brazil, Mitzi Blue   486.0  2010.0           0.65   \n",
       "\n",
       "     Company_Location  Rating Bean_Type              Origin  \n",
       "0              France    3.75                      Sao Tome  \n",
       "1              France    2.75                          Togo  \n",
       "2              France    3.00                          Togo  \n",
       "3              France    3.50                          Togo  \n",
       "4              France    3.50                          Peru  \n",
       "...               ...     ...       ...                 ...  \n",
       "1787          Austria    3.75            Dominican Republic  \n",
       "1789          Austria    3.50                                \n",
       "1790          Austria    3.75                          Peru  \n",
       "1793          Austria    3.25                         India  \n",
       "1794          Austria    3.00                        Brazil  \n",
       "\n",
       "[887 rows x 9 columns]"
      ]
     },
     "execution_count": 10,
     "metadata": {},
     "output_type": "execute_result"
    }
   ],
   "source": [
    "dataset[dataset.Bean_Type == '\\xa0']"
   ]
  },
  {
   "cell_type": "markdown",
   "id": "8c9a9101",
   "metadata": {},
   "source": [
    "There is no pattern in the missing values. "
   ]
  },
  {
   "cell_type": "code",
   "execution_count": 11,
   "id": "a15161e3",
   "metadata": {},
   "outputs": [],
   "source": [
    "# Replacing missing values with mode of the feature\n",
    "\n",
    "dataset.Bean_Type = dataset.Bean_Type.replace('\\xa0',np.nan)\n",
    "dataset.Bean_Type = dataset.Bean_Type.fillna(dataset.Bean_Type.mode()[0])\n",
    "dataset.Origin = dataset.Origin.fillna(dataset.Origin.mode()[0])"
   ]
  },
  {
   "cell_type": "code",
   "execution_count": 12,
   "id": "159489d2",
   "metadata": {},
   "outputs": [
    {
     "data": {
      "text/plain": [
       "<AxesSubplot:ylabel='Company'>"
      ]
     },
     "execution_count": 12,
     "metadata": {},
     "output_type": "execute_result"
    },
    {
     "data": {
      "image/png": "[encoded data removed]",
      "text/plain": [
       "<Figure size 432x288 with 1 Axes>"
      ]
     },
     "metadata": {
      "needs_background": "light"
     },
     "output_type": "display_data"
    }
   ],
   "source": [
    "# Checking the top 5 companies \n",
    "sns.barplot(x = dataset.Company.value_counts().sort_values(ascending=False).head(5).index,\n",
    "            y = dataset.Company.value_counts().sort_values(ascending=False).head(5))"
   ]
  },
  {
   "cell_type": "markdown",
   "id": "0f2d8ae9",
   "metadata": {},
   "source": [
    "Soma Company has the highest number of chocalates in the dataset followed by Bonnat company "
   ]
  },
  {
   "cell_type": "code",
   "execution_count": 13,
   "id": "112a52c8",
   "metadata": {},
   "outputs": [
    {
     "data": {
      "text/plain": [
       "U.S.A.    764\n",
       "France    156\n",
       "Canada    125\n",
       "U.K.       96\n",
       "Italy      63\n",
       "Name: Company_Location, dtype: int64"
      ]
     },
     "execution_count": 13,
     "metadata": {},
     "output_type": "execute_result"
    }
   ],
   "source": [
    "dataset.Company_Location.value_counts().sort_values(ascending=False).head()"
   ]
  },
  {
   "cell_type": "markdown",
   "id": "1abee4e1",
   "metadata": {},
   "source": [
    "Majority of the chocalates in the dataset are from USA"
   ]
  },
  {
   "cell_type": "code",
   "execution_count": 14,
   "id": "6f8cfea9",
   "metadata": {},
   "outputs": [
    {
     "data": {
      "text/html": [
       "<div>\n",
       "<style scoped>\n",
       "    .dataframe tbody tr th:only-of-type {\n",
       "        vertical-align: middle;\n",
       "    }\n",
       "\n",
       "    .dataframe tbody tr th {\n",
       "        vertical-align: top;\n",
       "    }\n",
       "\n",
       "    .dataframe thead th {\n",
       "        text-align: right;\n",
       "    }\n",
       "</style>\n",
       "<table border=\"1\" class=\"dataframe\">\n",
       "  <thead>\n",
       "    <tr style=\"text-align: right;\">\n",
       "      <th></th>\n",
       "      <th>Company</th>\n",
       "      <th>Name</th>\n",
       "      <th>REF</th>\n",
       "      <th>Review</th>\n",
       "      <th>Cocoa_Percent</th>\n",
       "      <th>Company_Location</th>\n",
       "      <th>Rating</th>\n",
       "      <th>Bean_Type</th>\n",
       "      <th>Origin</th>\n",
       "    </tr>\n",
       "  </thead>\n",
       "  <tbody>\n",
       "    <tr>\n",
       "      <th>0</th>\n",
       "      <td>A. Morin</td>\n",
       "      <td>Agua Grande</td>\n",
       "      <td>1876.0</td>\n",
       "      <td>2016.0</td>\n",
       "      <td>0.63</td>\n",
       "      <td>France</td>\n",
       "      <td>3.75</td>\n",
       "      <td>Trinitario</td>\n",
       "      <td>Sao Tome</td>\n",
       "    </tr>\n",
       "    <tr>\n",
       "      <th>1</th>\n",
       "      <td>A. Morin</td>\n",
       "      <td>Kpime</td>\n",
       "      <td>1676.0</td>\n",
       "      <td>2015.0</td>\n",
       "      <td>0.70</td>\n",
       "      <td>France</td>\n",
       "      <td>2.75</td>\n",
       "      <td>Trinitario</td>\n",
       "      <td>Togo</td>\n",
       "    </tr>\n",
       "    <tr>\n",
       "      <th>2</th>\n",
       "      <td>A. Morin</td>\n",
       "      <td>Atsane</td>\n",
       "      <td>1676.0</td>\n",
       "      <td>2015.0</td>\n",
       "      <td>0.70</td>\n",
       "      <td>France</td>\n",
       "      <td>3.00</td>\n",
       "      <td>Trinitario</td>\n",
       "      <td>Togo</td>\n",
       "    </tr>\n",
       "    <tr>\n",
       "      <th>3</th>\n",
       "      <td>A. Morin</td>\n",
       "      <td>Akata</td>\n",
       "      <td>1680.0</td>\n",
       "      <td>2015.0</td>\n",
       "      <td>0.70</td>\n",
       "      <td>France</td>\n",
       "      <td>3.50</td>\n",
       "      <td>Trinitario</td>\n",
       "      <td>Togo</td>\n",
       "    </tr>\n",
       "    <tr>\n",
       "      <th>4</th>\n",
       "      <td>A. Morin</td>\n",
       "      <td>Quilla</td>\n",
       "      <td>1704.0</td>\n",
       "      <td>2015.0</td>\n",
       "      <td>0.70</td>\n",
       "      <td>France</td>\n",
       "      <td>3.50</td>\n",
       "      <td>Trinitario</td>\n",
       "      <td>Peru</td>\n",
       "    </tr>\n",
       "  </tbody>\n",
       "</table>\n",
       "</div>"
      ],
      "text/plain": [
       "    Company         Name     REF  Review  Cocoa_Percent Company_Location  \\\n",
       "0  A. Morin  Agua Grande  1876.0  2016.0           0.63           France   \n",
       "1  A. Morin        Kpime  1676.0  2015.0           0.70           France   \n",
       "2  A. Morin       Atsane  1676.0  2015.0           0.70           France   \n",
       "3  A. Morin        Akata  1680.0  2015.0           0.70           France   \n",
       "4  A. Morin       Quilla  1704.0  2015.0           0.70           France   \n",
       "\n",
       "   Rating   Bean_Type    Origin  \n",
       "0    3.75  Trinitario  Sao Tome  \n",
       "1    2.75  Trinitario      Togo  \n",
       "2    3.00  Trinitario      Togo  \n",
       "3    3.50  Trinitario      Togo  \n",
       "4    3.50  Trinitario      Peru  "
      ]
     },
     "execution_count": 14,
     "metadata": {},
     "output_type": "execute_result"
    }
   ],
   "source": [
    "dataset.head()"
   ]
  },
  {
   "cell_type": "code",
   "execution_count": 15,
   "id": "74168926",
   "metadata": {},
   "outputs": [
    {
     "data": {
      "text/plain": [
       "Trinitario               25\n",
       "Criollo                   8\n",
       "Blend                     4\n",
       "Forastero                 4\n",
       "Forastero (Nacional)      2\n",
       "Forastero (Parazinho)     1\n",
       "Forastero (Amelonado)     1\n",
       "Nacional                  1\n",
       "Trinitario, Nacional      1\n",
       "Name: Bean_Type, dtype: int64"
      ]
     },
     "execution_count": 15,
     "metadata": {},
     "output_type": "execute_result"
    }
   ],
   "source": [
    "# Cheking bean types used by Soma company\n",
    "\n",
    "dataset.Bean_Type[dataset.Company =='Soma'].value_counts()"
   ]
  },
  {
   "cell_type": "markdown",
   "id": "601ed527",
   "metadata": {},
   "source": [
    "Trinitario is the most used bean type by Soma companies."
   ]
  },
  {
   "cell_type": "code",
   "execution_count": 16,
   "id": "daa8eb03",
   "metadata": {},
   "outputs": [
    {
     "data": {
      "text/plain": [
       "<AxesSubplot:xlabel='Rating', ylabel='Company'>"
      ]
     },
     "execution_count": 16,
     "metadata": {},
     "output_type": "execute_result"
    },
    {
     "data": {
      "image/png": "[encoded data removed]",
      "text/plain": [
       "<Figure size 432x288 with 1 Axes>"
      ]
     },
     "metadata": {
      "needs_background": "light"
     },
     "output_type": "display_data"
    }
   ],
   "source": [
    "# Checking which chocalate has the highest rating\n",
    "\n",
    "top_rating = dataset.Rating.sort_values(ascending=False).head(10)\n",
    "top_rating_company = dataset.Company[top_rating.index].values\n",
    "\n",
    "data1 = pd.DataFrame([])\n",
    "data1['Company'] = top_rating_company\n",
    "data1['Rating'] = top_rating.values\n",
    "\n",
    "sns.barplot(y = data1.Company, x = data1.Rating)"
   ]
  },
  {
   "cell_type": "markdown",
   "id": "73fb0586",
   "metadata": {},
   "source": [
    "The top rated chocalates can be seen from Amedei Company"
   ]
  },
  {
   "cell_type": "code",
   "execution_count": 17,
   "id": "fc5c5aea",
   "metadata": {},
   "outputs": [
    {
     "data": {
      "text/plain": [
       "<AxesSubplot:ylabel='Company'>"
      ]
     },
     "execution_count": 17,
     "metadata": {},
     "output_type": "execute_result"
    },
    {
     "data": {
      "image/png": "[encoded data removed]",
      "text/plain": [
       "<Figure size 432x288 with 1 Axes>"
      ]
     },
     "metadata": {
      "needs_background": "light"
     },
     "output_type": "display_data"
    }
   ],
   "source": [
    "# Companies with highest Cocoa Percentage Chocalates\n",
    "\n",
    "top_coca_percent = dataset.Cocoa_Percent.groupby(dataset.Company).mean().sort_values(ascending=False).head(10)\n",
    "\n",
    "sns.barplot(x = top_coca_percent.values, y = top_coca_percent.index)"
   ]
  },
  {
   "cell_type": "markdown",
   "id": "9440f9c9",
   "metadata": {},
   "source": [
    "Bouga Cacao company have the highest cocoa percentage in their chocalates"
   ]
  },
  {
   "cell_type": "code",
   "execution_count": 18,
   "id": "3ae97c1d",
   "metadata": {},
   "outputs": [],
   "source": [
    "# Converting review feature to object\n",
    "dataset.Review = np.absolute(dataset.Review).astype(object)"
   ]
  },
  {
   "cell_type": "code",
   "execution_count": 19,
   "id": "b8c9118c",
   "metadata": {},
   "outputs": [
    {
     "data": {
      "text/plain": [
       "<AxesSubplot:xlabel='Review'>"
      ]
     },
     "execution_count": 19,
     "metadata": {},
     "output_type": "execute_result"
    },
    {
     "data": {
      "image/png": "[encoded data removed]",
      "text/plain": [
       "<Figure size 432x288 with 1 Axes>"
      ]
     },
     "metadata": {
      "needs_background": "light"
     },
     "output_type": "display_data"
    }
   ],
   "source": [
    "# Cocoa Percentage according to years\n",
    "\n",
    "temp = dataset.Cocoa_Percent.groupby(dataset.Review).mean()\n",
    "sns.lineplot(y=temp.values, x = temp.index)"
   ]
  },
  {
   "cell_type": "code",
   "execution_count": 20,
   "id": "1f950dae",
   "metadata": {},
   "outputs": [
    {
     "data": {
      "text/plain": [
       "<AxesSubplot:xlabel='Review'>"
      ]
     },
     "execution_count": 20,
     "metadata": {},
     "output_type": "execute_result"
    },
    {
     "data": {
      "image/png": "[encoded data removed]",
      "text/plain": [
       "<Figure size 432x288 with 1 Axes>"
      ]
     },
     "metadata": {
      "needs_background": "light"
     },
     "output_type": "display_data"
    }
   ],
   "source": [
    "# Ratings according to years\n",
    "\n",
    "temp = dataset.Rating.groupby(dataset.Review).mean()\n",
    "sns.lineplot(y=temp.values, x = temp.index)"
   ]
  },
  {
   "cell_type": "markdown",
   "id": "291d0435",
   "metadata": {},
   "source": [
    "Ratings were the lowest for year 2008, after which it shows an upward trend.\n",
    "In the same year 2008, we can see chocalates had the highest percentage of cocoa.\n",
    "As percentage in cocoa increased the ratings decreased."
   ]
  },
  {
   "cell_type": "code",
   "execution_count": 21,
   "id": "ba3e7fb3",
   "metadata": {},
   "outputs": [
    {
     "data": {
      "text/plain": [
       "<AxesSubplot:xlabel='Cocoa_Percent', ylabel='Rating'>"
      ]
     },
     "execution_count": 21,
     "metadata": {},
     "output_type": "execute_result"
    },
    {
     "data": {
      "image/png": "[encoded data removed]",
      "text/plain": [
       "<Figure size 432x288 with 1 Axes>"
      ]
     },
     "metadata": {
      "needs_background": "light"
     },
     "output_type": "display_data"
    }
   ],
   "source": [
    "sns.scatterplot(x = dataset.Cocoa_Percent, y = dataset.Rating)"
   ]
  },
  {
   "cell_type": "code",
   "execution_count": 22,
   "id": "4497854b",
   "metadata": {
    "scrolled": true
   },
   "outputs": [
    {
     "data": {
      "text/html": [
       "<div>\n",
       "<style scoped>\n",
       "    .dataframe tbody tr th:only-of-type {\n",
       "        vertical-align: middle;\n",
       "    }\n",
       "\n",
       "    .dataframe tbody tr th {\n",
       "        vertical-align: top;\n",
       "    }\n",
       "\n",
       "    .dataframe thead th {\n",
       "        text-align: right;\n",
       "    }\n",
       "</style>\n",
       "<table border=\"1\" class=\"dataframe\">\n",
       "  <thead>\n",
       "    <tr style=\"text-align: right;\">\n",
       "      <th></th>\n",
       "      <th>count</th>\n",
       "      <th>mean</th>\n",
       "      <th>std</th>\n",
       "      <th>min</th>\n",
       "      <th>25%</th>\n",
       "      <th>50%</th>\n",
       "      <th>75%</th>\n",
       "      <th>max</th>\n",
       "    </tr>\n",
       "  </thead>\n",
       "  <tbody>\n",
       "    <tr>\n",
       "      <th>REF</th>\n",
       "      <td>1795.0</td>\n",
       "      <td>1035.904735</td>\n",
       "      <td>552.886365</td>\n",
       "      <td>5.00</td>\n",
       "      <td>576.000</td>\n",
       "      <td>1069.00</td>\n",
       "      <td>1502.00</td>\n",
       "      <td>1952.0</td>\n",
       "    </tr>\n",
       "    <tr>\n",
       "      <th>Cocoa_Percent</th>\n",
       "      <td>1795.0</td>\n",
       "      <td>0.716983</td>\n",
       "      <td>0.063231</td>\n",
       "      <td>0.42</td>\n",
       "      <td>0.700</td>\n",
       "      <td>0.70</td>\n",
       "      <td>0.75</td>\n",
       "      <td>1.0</td>\n",
       "    </tr>\n",
       "    <tr>\n",
       "      <th>Rating</th>\n",
       "      <td>1795.0</td>\n",
       "      <td>3.185933</td>\n",
       "      <td>0.478062</td>\n",
       "      <td>1.00</td>\n",
       "      <td>2.875</td>\n",
       "      <td>3.25</td>\n",
       "      <td>3.50</td>\n",
       "      <td>5.0</td>\n",
       "    </tr>\n",
       "  </tbody>\n",
       "</table>\n",
       "</div>"
      ],
      "text/plain": [
       "                count         mean         std   min      25%      50%  \\\n",
       "REF            1795.0  1035.904735  552.886365  5.00  576.000  1069.00   \n",
       "Cocoa_Percent  1795.0     0.716983    0.063231  0.42    0.700     0.70   \n",
       "Rating         1795.0     3.185933    0.478062  1.00    2.875     3.25   \n",
       "\n",
       "                   75%     max  \n",
       "REF            1502.00  1952.0  \n",
       "Cocoa_Percent     0.75     1.0  \n",
       "Rating            3.50     5.0  "
      ]
     },
     "execution_count": 22,
     "metadata": {},
     "output_type": "execute_result"
    }
   ],
   "source": [
    "dataset.describe().T"
   ]
  },
  {
   "cell_type": "code",
   "execution_count": 23,
   "id": "c7ab0c89",
   "metadata": {},
   "outputs": [
    {
     "data": {
      "text/html": [
       "<div>\n",
       "<style scoped>\n",
       "    .dataframe tbody tr th:only-of-type {\n",
       "        vertical-align: middle;\n",
       "    }\n",
       "\n",
       "    .dataframe tbody tr th {\n",
       "        vertical-align: top;\n",
       "    }\n",
       "\n",
       "    .dataframe thead th {\n",
       "        text-align: right;\n",
       "    }\n",
       "</style>\n",
       "<table border=\"1\" class=\"dataframe\">\n",
       "  <thead>\n",
       "    <tr style=\"text-align: right;\">\n",
       "      <th></th>\n",
       "      <th>REF</th>\n",
       "      <th>Cocoa_Percent</th>\n",
       "      <th>Rating</th>\n",
       "    </tr>\n",
       "  </thead>\n",
       "  <tbody>\n",
       "    <tr>\n",
       "      <th>REF</th>\n",
       "      <td>1.000000</td>\n",
       "      <td>0.037791</td>\n",
       "      <td>0.10103</td>\n",
       "    </tr>\n",
       "    <tr>\n",
       "      <th>Cocoa_Percent</th>\n",
       "      <td>0.037791</td>\n",
       "      <td>1.000000</td>\n",
       "      <td>-0.16482</td>\n",
       "    </tr>\n",
       "    <tr>\n",
       "      <th>Rating</th>\n",
       "      <td>0.101030</td>\n",
       "      <td>-0.164820</td>\n",
       "      <td>1.00000</td>\n",
       "    </tr>\n",
       "  </tbody>\n",
       "</table>\n",
       "</div>"
      ],
      "text/plain": [
       "                    REF  Cocoa_Percent   Rating\n",
       "REF            1.000000       0.037791  0.10103\n",
       "Cocoa_Percent  0.037791       1.000000 -0.16482\n",
       "Rating         0.101030      -0.164820  1.00000"
      ]
     },
     "execution_count": 23,
     "metadata": {},
     "output_type": "execute_result"
    }
   ],
   "source": [
    "# Correlation between features\n",
    "dataset.corr()"
   ]
  },
  {
   "cell_type": "code",
   "execution_count": 24,
   "id": "4460e1f5",
   "metadata": {},
   "outputs": [],
   "source": [
    "# Dropping irrelevant feature\n",
    "# dataset.drop(columns=['Company','Name','REF','Review','Company_Location','Origin'],axis=1,inplace=True)\n",
    "dataset.drop(columns=['Company','Bean_Type','Name','REF','Review','Company_Location','Origin'],axis=1,inplace=True)"
   ]
  },
  {
   "cell_type": "code",
   "execution_count": 25,
   "id": "d2200154",
   "metadata": {},
   "outputs": [
    {
     "data": {
      "text/html": [
       "<div>\n",
       "<style scoped>\n",
       "    .dataframe tbody tr th:only-of-type {\n",
       "        vertical-align: middle;\n",
       "    }\n",
       "\n",
       "    .dataframe tbody tr th {\n",
       "        vertical-align: top;\n",
       "    }\n",
       "\n",
       "    .dataframe thead th {\n",
       "        text-align: right;\n",
       "    }\n",
       "</style>\n",
       "<table border=\"1\" class=\"dataframe\">\n",
       "  <thead>\n",
       "    <tr style=\"text-align: right;\">\n",
       "      <th></th>\n",
       "      <th>Cocoa_Percent</th>\n",
       "      <th>Rating</th>\n",
       "    </tr>\n",
       "  </thead>\n",
       "  <tbody>\n",
       "    <tr>\n",
       "      <th>0</th>\n",
       "      <td>0.63</td>\n",
       "      <td>3.75</td>\n",
       "    </tr>\n",
       "    <tr>\n",
       "      <th>1</th>\n",
       "      <td>0.70</td>\n",
       "      <td>2.75</td>\n",
       "    </tr>\n",
       "    <tr>\n",
       "      <th>2</th>\n",
       "      <td>0.70</td>\n",
       "      <td>3.00</td>\n",
       "    </tr>\n",
       "    <tr>\n",
       "      <th>3</th>\n",
       "      <td>0.70</td>\n",
       "      <td>3.50</td>\n",
       "    </tr>\n",
       "    <tr>\n",
       "      <th>4</th>\n",
       "      <td>0.70</td>\n",
       "      <td>3.50</td>\n",
       "    </tr>\n",
       "  </tbody>\n",
       "</table>\n",
       "</div>"
      ],
      "text/plain": [
       "   Cocoa_Percent  Rating\n",
       "0           0.63    3.75\n",
       "1           0.70    2.75\n",
       "2           0.70    3.00\n",
       "3           0.70    3.50\n",
       "4           0.70    3.50"
      ]
     },
     "execution_count": 25,
     "metadata": {},
     "output_type": "execute_result"
    }
   ],
   "source": [
    "dataset.head()"
   ]
  },
  {
   "cell_type": "code",
   "execution_count": 26,
   "id": "cbbf6459",
   "metadata": {
    "scrolled": false
   },
   "outputs": [
    {
     "data": {
      "text/plain": [
       "<AxesSubplot:xlabel='Rating', ylabel='count'>"
      ]
     },
     "execution_count": 26,
     "metadata": {},
     "output_type": "execute_result"
    },
    {
     "data": {
      "image/png": "[encoded data removed]",
      "text/plain": [
       "<Figure size 432x288 with 1 Axes>"
      ]
     },
     "metadata": {
      "needs_background": "light"
     },
     "output_type": "display_data"
    }
   ],
   "source": [
    "# Number of each ratings in the dataset\n",
    "sns.countplot(x = dataset.Rating)"
   ]
  },
  {
   "cell_type": "markdown",
   "id": "3a185abd",
   "metadata": {},
   "source": [
    "3.5 is the most occuring rating in the dataset"
   ]
  },
  {
   "cell_type": "code",
   "execution_count": 27,
   "id": "7e89a8a0",
   "metadata": {},
   "outputs": [],
   "source": [
    "# # Converting categorical to numerical feature \n",
    "# dataset = pd.get_dummies(data=dataset, columns=['Bean_Type','Company'],drop_first=True)\n",
    "# # dataset.drop(columns=['Bean_Type'],axis=1,inplace=True)"
   ]
  },
  {
   "cell_type": "code",
   "execution_count": 28,
   "id": "6bf8ae51",
   "metadata": {},
   "outputs": [
    {
     "data": {
      "text/html": [
       "<div>\n",
       "<style scoped>\n",
       "    .dataframe tbody tr th:only-of-type {\n",
       "        vertical-align: middle;\n",
       "    }\n",
       "\n",
       "    .dataframe tbody tr th {\n",
       "        vertical-align: top;\n",
       "    }\n",
       "\n",
       "    .dataframe thead th {\n",
       "        text-align: right;\n",
       "    }\n",
       "</style>\n",
       "<table border=\"1\" class=\"dataframe\">\n",
       "  <thead>\n",
       "    <tr style=\"text-align: right;\">\n",
       "      <th></th>\n",
       "      <th>Cocoa_Percent</th>\n",
       "      <th>Rating</th>\n",
       "    </tr>\n",
       "  </thead>\n",
       "  <tbody>\n",
       "    <tr>\n",
       "      <th>0</th>\n",
       "      <td>0.63</td>\n",
       "      <td>3.75</td>\n",
       "    </tr>\n",
       "    <tr>\n",
       "      <th>1</th>\n",
       "      <td>0.70</td>\n",
       "      <td>2.75</td>\n",
       "    </tr>\n",
       "    <tr>\n",
       "      <th>2</th>\n",
       "      <td>0.70</td>\n",
       "      <td>3.00</td>\n",
       "    </tr>\n",
       "    <tr>\n",
       "      <th>3</th>\n",
       "      <td>0.70</td>\n",
       "      <td>3.50</td>\n",
       "    </tr>\n",
       "    <tr>\n",
       "      <th>4</th>\n",
       "      <td>0.70</td>\n",
       "      <td>3.50</td>\n",
       "    </tr>\n",
       "  </tbody>\n",
       "</table>\n",
       "</div>"
      ],
      "text/plain": [
       "   Cocoa_Percent  Rating\n",
       "0           0.63    3.75\n",
       "1           0.70    2.75\n",
       "2           0.70    3.00\n",
       "3           0.70    3.50\n",
       "4           0.70    3.50"
      ]
     },
     "execution_count": 28,
     "metadata": {},
     "output_type": "execute_result"
    }
   ],
   "source": [
    "dataset.head()"
   ]
  },
  {
   "cell_type": "code",
   "execution_count": 29,
   "id": "6c47aef3",
   "metadata": {},
   "outputs": [],
   "source": [
    "# Splitting into independent and dependent features\n",
    "x = dataset.loc[:,dataset.columns != 'Rating']\n",
    "y = dataset.Rating"
   ]
  },
  {
   "cell_type": "code",
   "execution_count": 30,
   "id": "f4d35b8b",
   "metadata": {},
   "outputs": [],
   "source": [
    "# Train-Test split\n",
    "from sklearn.model_selection import train_test_split\n",
    "x_train_o, x_test_o, y_train, y_test = train_test_split(x, y, test_size=0.3,stratify=y, random_state=123)"
   ]
  },
  {
   "cell_type": "code",
   "execution_count": 31,
   "id": "40d7a48e",
   "metadata": {},
   "outputs": [
    {
     "data": {
      "text/plain": [
       "((1256, 1), (539, 1), (1256,), (539,))"
      ]
     },
     "execution_count": 31,
     "metadata": {},
     "output_type": "execute_result"
    }
   ],
   "source": [
    "x_train_o.shape, x_test_o.shape, y_train.shape, y_test.shape"
   ]
  },
  {
   "cell_type": "code",
   "execution_count": 32,
   "id": "5a7ce82f",
   "metadata": {},
   "outputs": [],
   "source": [
    "# Feature Scaling\n",
    "\n",
    "from sklearn.preprocessing import StandardScaler\n",
    "scaler = StandardScaler()\n",
    "x_train = scaler.fit_transform(x_train_o)\n",
    "x_test = scaler.transform(x_test_o)"
   ]
  },
  {
   "cell_type": "markdown",
   "id": "226bdbc9",
   "metadata": {},
   "source": [
    "# Decision Tree Regression"
   ]
  },
  {
   "cell_type": "code",
   "execution_count": 33,
   "id": "a850729f",
   "metadata": {
    "scrolled": true
   },
   "outputs": [
    {
     "name": "stdout",
     "output_type": "stream",
     "text": [
      "Test Data R2 Score: 0.022141250636908416\n",
      "Decision Tree Rmse for Test : 0.47378541963749105\n",
      "Train Data r2-Score: 0.1259965634652248\n"
     ]
    }
   ],
   "source": [
    "# Using Decision Tree\n",
    "\n",
    "from sklearn.tree import DecisionTreeRegressor  \n",
    "\n",
    "dt = DecisionTreeRegressor(criterion='squared_error')\n",
    "dt_train = dt.fit(x_train,y_train)  # fitting model to train data\n",
    "\n",
    "# Predicting results for test data\n",
    "yhat_test = dt.predict(x_test)\n",
    "\n",
    "# accuracy for test data\n",
    "from sklearn.metrics import mean_squared_error,r2_score\n",
    "test_r2 = r2_score(y_test,yhat_test)\n",
    "print(f'Test Data R2 Score: {test_r2}' ) \n",
    "dtc_test_mse = np.sqrt(mean_squared_error(y_test,yhat_test))\n",
    "print(f'Decision Tree Rmse for Test : {dtc_test_mse}')\n",
    "\n",
    "# Predicting results for train data\n",
    "yhat_train = dt.predict(x_train)\n",
    "train_r2 = r2_score(y_train,yhat_train)\n",
    "print(f'Train Data r2-Score: {train_r2}')\n",
    "\n",
    "# Confusion matrix for train data\n",
    "# from sklearn.metrics import confusion_matrix\n",
    "# print(confusion_matrix(y_train,yhat_train))"
   ]
  },
  {
   "cell_type": "code",
   "execution_count": 47,
   "id": "f5e8f5ac",
   "metadata": {},
   "outputs": [],
   "source": [
    "# from sklearn.linear_model import LinearRegression\n",
    "\n",
    "# lr = LinearRegression()\n",
    "# lr_train = lr.fit(x_train,y_train)  # fitting model to train data\n",
    "\n",
    "# # Predicting results for test data\n",
    "# lr_yhat_test = lr.predict(x_test)\n",
    "\n",
    "# # accuracy for test data\n",
    "# from sklearn.metrics import mean_squared_error,r2_score\n",
    "# lr_test_r2 = r2_score(y_test,lr_yhat_test)\n",
    "# print(f'Test Data R2 Score: {lr_test_r2}' ) \n",
    "# lr_test_mse = np.sqrt(mean_squared_error(y_test,lr_yhat_test))\n",
    "# print(f'Decision Tree Rmse for Test : {lr_test_mse}')\n",
    "\n",
    "# # Predicting results for train data\n",
    "# lr_yhat_train = lr.predict(x_train)\n",
    "# lr_train_r2 = r2_score(y_train,lr_yhat_train)\n",
    "# print(f'Train Data r2-Score: {lr_train_r2}')"
   ]
  },
  {
   "cell_type": "markdown",
   "id": "3be6cb5e",
   "metadata": {},
   "source": [
    "# GridSearchCV"
   ]
  },
  {
   "cell_type": "code",
   "execution_count": 35,
   "id": "e0c3d620",
   "metadata": {},
   "outputs": [
    {
     "name": "stdout",
     "output_type": "stream",
     "text": [
      "Best parameters are: {'max_depth': 7, 'max_features': 'sqrt', 'min_samples_leaf': 2}\n",
      "-----------------------------------------------------------------------------------------\n",
      "Test Data R2 Score using GridSearch: 0.03923093123489785 \n",
      "GridSearch RMSE for Test : 0.469627083664318\n",
      "Train Data R2-Score using GridSearch: 0.11875554213193562\n"
     ]
    }
   ],
   "source": [
    "# Finding best parameters for the model\n",
    "\n",
    "from sklearn.model_selection import GridSearchCV\n",
    "dt = DecisionTreeRegressor(criterion = 'squared_error',random_state=0)\n",
    "param_grid = {'min_samples_leaf': range(1,20), 'max_depth': range(1,20) ,'max_features': ['sqrt']}\n",
    "\n",
    "grid_search = GridSearchCV(estimator = dt, param_grid = param_grid, n_jobs = -1, cv = 5, \n",
    "                                refit=True, return_train_score=True)\n",
    "\n",
    "# Fitting GridSearch model \n",
    "grid_search.fit(x_train,y_train)\n",
    "# The best parameters for the model are given below\n",
    "print(f'Best parameters are: {grid_search.best_params_}')\n",
    "print('-----------------------------------------------------------------------------------------')\n",
    "\n",
    "# Accuracy of test data using GridSearch\n",
    "grid_yhat_test = grid_search.best_estimator_.predict(x_test)\n",
    "grid_test_r2 = r2_score(y_test,grid_yhat_test)\n",
    "print(f'Test Data R2 Score using GridSearch: {grid_test_r2} ' ) \n",
    "grid_test_rmse = np.sqrt(mean_squared_error(y_test, grid_yhat_test))\n",
    "print(f'GridSearch RMSE for Test : {grid_test_rmse}')\n",
    "\n",
    "# Accuracy of train data using GridSearch\n",
    "grid_yhat_train = grid_search.best_estimator_.predict(x_train)\n",
    "grid_train_r2 = r2_score(y_train,grid_yhat_train)\n",
    "print(f'Train Data R2-Score using GridSearch: {grid_train_r2}' )\n",
    "\n",
    "# Confusion matrix for test data using GridSearch\n",
    "# from sklearn.metrics import confusion_matrix\n",
    "# print(confusion_matrix(y_test,grid_yhat_test))"
   ]
  },
  {
   "cell_type": "code",
   "execution_count": 36,
   "id": "3d91abc0",
   "metadata": {
    "scrolled": false
   },
   "outputs": [
    {
     "data": {
      "image/svg+xml": [
       "<?xml version=\"1.0\" encoding=\"UTF-8\" standalone=\"no\"?>\n",
       "<!DOCTYPE svg PUBLIC \"-//W3C//DTD SVG 1.1//EN\"\n",
       " \"http://www.w3.org/Graphics/SVG/1.1/DTD/svg11.dtd\">\n",
       "<!-- Generated by graphviz version 2.50.0 (0)\n",
       " -->\n",
       "<!-- Title: Tree Pages: 1 -->\n",
       "<svg width=\"2503pt\" height=\"789pt\"\n",
       " viewBox=\"0.00 0.00 2503.00 789.00\" xmlns=\"http://www.w3.org/2000/svg\" xmlns:xlink=\"http://www.w3.org/1999/xlink\">\n",
       "<g id=\"graph0\" class=\"graph\" transform=\"scale(1 1) rotate(0) translate(4 785)\">\n",
       "<title>Tree</title>\n",
       "<polygon fill=\"white\" stroke=\"transparent\" points=\"-4,4 -4,-785 2499,-785 2499,4 -4,4\"/>\n",
       "<!-- 0 -->\n",
       "<g id=\"node1\" class=\"node\">\n",
       "<title>0</title>\n",
       "<polygon fill=\"none\" stroke=\"black\" points=\"1460,-781 1293,-781 1293,-713 1460,-713 1460,-781\"/>\n",
       "<text text-anchor=\"middle\" x=\"1376.5\" y=\"-765.8\" font-family=\"Helvetica,sans-Serif\" font-size=\"14.00\">Cocoa_Percent &lt;= 4.374</text>\n",
       "<text text-anchor=\"middle\" x=\"1376.5\" y=\"-750.8\" font-family=\"Helvetica,sans-Serif\" font-size=\"14.00\">squared_error = 0.228</text>\n",
       "<text text-anchor=\"middle\" x=\"1376.5\" y=\"-735.8\" font-family=\"Helvetica,sans-Serif\" font-size=\"14.00\">samples = 1256</text>\n",
       "<text text-anchor=\"middle\" x=\"1376.5\" y=\"-720.8\" font-family=\"Helvetica,sans-Serif\" font-size=\"14.00\">value = 3.186</text>\n",
       "</g>\n",
       "<!-- 1 -->\n",
       "<g id=\"node2\" class=\"node\">\n",
       "<title>1</title>\n",
       "<polygon fill=\"none\" stroke=\"black\" points=\"1369.5,-677 1209.5,-677 1209.5,-609 1369.5,-609 1369.5,-677\"/>\n",
       "<text text-anchor=\"middle\" x=\"1289.5\" y=\"-661.8\" font-family=\"Helvetica,sans-Serif\" font-size=\"14.00\">Cocoa_Percent &lt;= 0.59</text>\n",
       "<text text-anchor=\"middle\" x=\"1289.5\" y=\"-646.8\" font-family=\"Helvetica,sans-Serif\" font-size=\"14.00\">squared_error = 0.212</text>\n",
       "<text text-anchor=\"middle\" x=\"1289.5\" y=\"-631.8\" font-family=\"Helvetica,sans-Serif\" font-size=\"14.00\">samples = 1240</text>\n",
       "<text text-anchor=\"middle\" x=\"1289.5\" y=\"-616.8\" font-family=\"Helvetica,sans-Serif\" font-size=\"14.00\">value = 3.199</text>\n",
       "</g>\n",
       "<!-- 0&#45;&gt;1 -->\n",
       "<g id=\"edge1\" class=\"edge\">\n",
       "<title>0&#45;&gt;1</title>\n",
       "<path fill=\"none\" stroke=\"black\" d=\"M1348.25,-712.88C1340.66,-703.98 1332.35,-694.24 1324.43,-684.96\"/>\n",
       "<polygon fill=\"black\" stroke=\"black\" points=\"1327.05,-682.64 1317.9,-677.3 1321.73,-687.18 1327.05,-682.64\"/>\n",
       "<text text-anchor=\"middle\" x=\"1315.92\" y=\"-698.52\" font-family=\"Helvetica,sans-Serif\" font-size=\"14.00\">True</text>\n",
       "</g>\n",
       "<!-- 50 -->\n",
       "<g id=\"node51\" class=\"node\">\n",
       "<title>50</title>\n",
       "<polygon fill=\"none\" stroke=\"black\" points=\"1539,-669.5 1388,-669.5 1388,-616.5 1539,-616.5 1539,-669.5\"/>\n",
       "<text text-anchor=\"middle\" x=\"1463.5\" y=\"-654.3\" font-family=\"Helvetica,sans-Serif\" font-size=\"14.00\">squared_error = 0.443</text>\n",
       "<text text-anchor=\"middle\" x=\"1463.5\" y=\"-639.3\" font-family=\"Helvetica,sans-Serif\" font-size=\"14.00\">samples = 16</text>\n",
       "<text text-anchor=\"middle\" x=\"1463.5\" y=\"-624.3\" font-family=\"Helvetica,sans-Serif\" font-size=\"14.00\">value = 2.172</text>\n",
       "</g>\n",
       "<!-- 0&#45;&gt;50 -->\n",
       "<g id=\"edge50\" class=\"edge\">\n",
       "<title>0&#45;&gt;50</title>\n",
       "<path fill=\"none\" stroke=\"black\" d=\"M1404.75,-712.88C1414.5,-701.45 1425.43,-688.63 1435.19,-677.19\"/>\n",
       "<polygon fill=\"black\" stroke=\"black\" points=\"1437.91,-679.4 1441.73,-669.52 1432.58,-674.86 1437.91,-679.4\"/>\n",
       "<text text-anchor=\"middle\" x=\"1443.71\" y=\"-690.74\" font-family=\"Helvetica,sans-Serif\" font-size=\"14.00\">False</text>\n",
       "</g>\n",
       "<!-- 2 -->\n",
       "<g id=\"node3\" class=\"node\">\n",
       "<title>2</title>\n",
       "<polygon fill=\"none\" stroke=\"black\" points=\"1107.5,-573 935.5,-573 935.5,-505 1107.5,-505 1107.5,-573\"/>\n",
       "<text text-anchor=\"middle\" x=\"1021.5\" y=\"-557.8\" font-family=\"Helvetica,sans-Serif\" font-size=\"14.00\">Cocoa_Percent &lt;= &#45;1.459</text>\n",
       "<text text-anchor=\"middle\" x=\"1021.5\" y=\"-542.8\" font-family=\"Helvetica,sans-Serif\" font-size=\"14.00\">squared_error = 0.211</text>\n",
       "<text text-anchor=\"middle\" x=\"1021.5\" y=\"-527.8\" font-family=\"Helvetica,sans-Serif\" font-size=\"14.00\">samples = 1073</text>\n",
       "<text text-anchor=\"middle\" x=\"1021.5\" y=\"-512.8\" font-family=\"Helvetica,sans-Serif\" font-size=\"14.00\">value = 3.223</text>\n",
       "</g>\n",
       "<!-- 1&#45;&gt;2 -->\n",
       "<g id=\"edge2\" class=\"edge\">\n",
       "<title>1&#45;&gt;2</title>\n",
       "<path fill=\"none\" stroke=\"black\" d=\"M1209.45,-611.53C1180.51,-600.52 1147.52,-587.96 1117.36,-576.48\"/>\n",
       "<polygon fill=\"black\" stroke=\"black\" points=\"1118.26,-573.08 1107.67,-572.8 1115.77,-579.62 1118.26,-573.08\"/>\n",
       "</g>\n",
       "<!-- 31 -->\n",
       "<g id=\"node32\" class=\"node\">\n",
       "<title>31</title>\n",
       "<polygon fill=\"none\" stroke=\"black\" points=\"1677,-573 1510,-573 1510,-505 1677,-505 1677,-573\"/>\n",
       "<text text-anchor=\"middle\" x=\"1593.5\" y=\"-557.8\" font-family=\"Helvetica,sans-Serif\" font-size=\"14.00\">Cocoa_Percent &lt;= 1.063</text>\n",
       "<text text-anchor=\"middle\" x=\"1593.5\" y=\"-542.8\" font-family=\"Helvetica,sans-Serif\" font-size=\"14.00\">squared_error = 0.186</text>\n",
       "<text text-anchor=\"middle\" x=\"1593.5\" y=\"-527.8\" font-family=\"Helvetica,sans-Serif\" font-size=\"14.00\">samples = 167</text>\n",
       "<text text-anchor=\"middle\" x=\"1593.5\" y=\"-512.8\" font-family=\"Helvetica,sans-Serif\" font-size=\"14.00\">value = 3.043</text>\n",
       "</g>\n",
       "<!-- 1&#45;&gt;31 -->\n",
       "<g id=\"edge31\" class=\"edge\">\n",
       "<title>1&#45;&gt;31</title>\n",
       "<path fill=\"none\" stroke=\"black\" d=\"M1369.97,-611.98C1372.85,-610.97 1375.7,-609.97 1378.5,-609 1418.04,-595.33 1461.97,-581.07 1499.77,-569.08\"/>\n",
       "<polygon fill=\"black\" stroke=\"black\" points=\"1501.27,-572.28 1509.75,-565.93 1499.16,-565.61 1501.27,-572.28\"/>\n",
       "</g>\n",
       "<!-- 3 -->\n",
       "<g id=\"node4\" class=\"node\">\n",
       "<title>3</title>\n",
       "<polygon fill=\"none\" stroke=\"black\" points=\"591.5,-469 419.5,-469 419.5,-401 591.5,-401 591.5,-469\"/>\n",
       "<text text-anchor=\"middle\" x=\"505.5\" y=\"-453.8\" font-family=\"Helvetica,sans-Serif\" font-size=\"14.00\">Cocoa_Percent &lt;= &#45;2.799</text>\n",
       "<text text-anchor=\"middle\" x=\"505.5\" y=\"-438.8\" font-family=\"Helvetica,sans-Serif\" font-size=\"14.00\">squared_error = 0.176</text>\n",
       "<text text-anchor=\"middle\" x=\"505.5\" y=\"-423.8\" font-family=\"Helvetica,sans-Serif\" font-size=\"14.00\">samples = 64</text>\n",
       "<text text-anchor=\"middle\" x=\"505.5\" y=\"-408.8\" font-family=\"Helvetica,sans-Serif\" font-size=\"14.00\">value = 2.973</text>\n",
       "</g>\n",
       "<!-- 2&#45;&gt;3 -->\n",
       "<g id=\"edge3\" class=\"edge\">\n",
       "<title>2&#45;&gt;3</title>\n",
       "<path fill=\"none\" stroke=\"black\" d=\"M935.42,-520.98C843.34,-502.78 697.64,-473.98 601.8,-455.04\"/>\n",
       "<polygon fill=\"black\" stroke=\"black\" points=\"602.31,-451.57 591.82,-453.06 600.95,-458.44 602.31,-451.57\"/>\n",
       "</g>\n",
       "<!-- 14 -->\n",
       "<g id=\"node15\" class=\"node\">\n",
       "<title>14</title>\n",
       "<polygon fill=\"none\" stroke=\"black\" points=\"1107.5,-469 935.5,-469 935.5,-401 1107.5,-401 1107.5,-469\"/>\n",
       "<text text-anchor=\"middle\" x=\"1021.5\" y=\"-453.8\" font-family=\"Helvetica,sans-Serif\" font-size=\"14.00\">Cocoa_Percent &lt;= &#45;0.198</text>\n",
       "<text text-anchor=\"middle\" x=\"1021.5\" y=\"-438.8\" font-family=\"Helvetica,sans-Serif\" font-size=\"14.00\">squared_error = 0.209</text>\n",
       "<text text-anchor=\"middle\" x=\"1021.5\" y=\"-423.8\" font-family=\"Helvetica,sans-Serif\" font-size=\"14.00\">samples = 1009</text>\n",
       "<text text-anchor=\"middle\" x=\"1021.5\" y=\"-408.8\" font-family=\"Helvetica,sans-Serif\" font-size=\"14.00\">value = 3.239</text>\n",
       "</g>\n",
       "<!-- 2&#45;&gt;14 -->\n",
       "<g id=\"edge14\" class=\"edge\">\n",
       "<title>2&#45;&gt;14</title>\n",
       "<path fill=\"none\" stroke=\"black\" d=\"M1021.5,-504.88C1021.5,-496.78 1021.5,-487.98 1021.5,-479.47\"/>\n",
       "<polygon fill=\"black\" stroke=\"black\" points=\"1025,-479.3 1021.5,-469.3 1018,-479.3 1025,-479.3\"/>\n",
       "</g>\n",
       "<!-- 4 -->\n",
       "<g id=\"node5\" class=\"node\">\n",
       "<title>4</title>\n",
       "<polygon fill=\"none\" stroke=\"black\" points=\"401,-357.5 250,-357.5 250,-304.5 401,-304.5 401,-357.5\"/>\n",
       "<text text-anchor=\"middle\" x=\"325.5\" y=\"-342.3\" font-family=\"Helvetica,sans-Serif\" font-size=\"14.00\">squared_error = 0.125</text>\n",
       "<text text-anchor=\"middle\" x=\"325.5\" y=\"-327.3\" font-family=\"Helvetica,sans-Serif\" font-size=\"14.00\">samples = 3</text>\n",
       "<text text-anchor=\"middle\" x=\"325.5\" y=\"-312.3\" font-family=\"Helvetica,sans-Serif\" font-size=\"14.00\">value = 2.5</text>\n",
       "</g>\n",
       "<!-- 3&#45;&gt;4 -->\n",
       "<g id=\"edge4\" class=\"edge\">\n",
       "<title>3&#45;&gt;4</title>\n",
       "<path fill=\"none\" stroke=\"black\" d=\"M447.06,-400.88C425.32,-388.57 400.77,-374.65 379.46,-362.57\"/>\n",
       "<polygon fill=\"black\" stroke=\"black\" points=\"380.96,-359.41 370.54,-357.52 377.51,-365.5 380.96,-359.41\"/>\n",
       "</g>\n",
       "<!-- 5 -->\n",
       "<g id=\"node6\" class=\"node\">\n",
       "<title>5</title>\n",
       "<polygon fill=\"none\" stroke=\"black\" points=\"591.5,-365 419.5,-365 419.5,-297 591.5,-297 591.5,-365\"/>\n",
       "<text text-anchor=\"middle\" x=\"505.5\" y=\"-349.8\" font-family=\"Helvetica,sans-Serif\" font-size=\"14.00\">Cocoa_Percent &lt;= &#45;1.735</text>\n",
       "<text text-anchor=\"middle\" x=\"505.5\" y=\"-334.8\" font-family=\"Helvetica,sans-Serif\" font-size=\"14.00\">squared_error = 0.167</text>\n",
       "<text text-anchor=\"middle\" x=\"505.5\" y=\"-319.8\" font-family=\"Helvetica,sans-Serif\" font-size=\"14.00\">samples = 61</text>\n",
       "<text text-anchor=\"middle\" x=\"505.5\" y=\"-304.8\" font-family=\"Helvetica,sans-Serif\" font-size=\"14.00\">value = 2.996</text>\n",
       "</g>\n",
       "<!-- 3&#45;&gt;5 -->\n",
       "<g id=\"edge5\" class=\"edge\">\n",
       "<title>3&#45;&gt;5</title>\n",
       "<path fill=\"none\" stroke=\"black\" d=\"M505.5,-400.88C505.5,-392.78 505.5,-383.98 505.5,-375.47\"/>\n",
       "<polygon fill=\"black\" stroke=\"black\" points=\"509,-375.3 505.5,-365.3 502,-375.3 509,-375.3\"/>\n",
       "</g>\n",
       "<!-- 6 -->\n",
       "<g id=\"node7\" class=\"node\">\n",
       "<title>6</title>\n",
       "<polygon fill=\"none\" stroke=\"black\" points=\"340.5,-261 168.5,-261 168.5,-193 340.5,-193 340.5,-261\"/>\n",
       "<text text-anchor=\"middle\" x=\"254.5\" y=\"-245.8\" font-family=\"Helvetica,sans-Serif\" font-size=\"14.00\">Cocoa_Percent &lt;= &#45;2.247</text>\n",
       "<text text-anchor=\"middle\" x=\"254.5\" y=\"-230.8\" font-family=\"Helvetica,sans-Serif\" font-size=\"14.00\">squared_error = 0.148</text>\n",
       "<text text-anchor=\"middle\" x=\"254.5\" y=\"-215.8\" font-family=\"Helvetica,sans-Serif\" font-size=\"14.00\">samples = 44</text>\n",
       "<text text-anchor=\"middle\" x=\"254.5\" y=\"-200.8\" font-family=\"Helvetica,sans-Serif\" font-size=\"14.00\">value = 2.972</text>\n",
       "</g>\n",
       "<!-- 5&#45;&gt;6 -->\n",
       "<g id=\"edge6\" class=\"edge\">\n",
       "<title>5&#45;&gt;6</title>\n",
       "<path fill=\"none\" stroke=\"black\" d=\"M424.01,-296.88C398.89,-286.68 371.08,-275.38 345.38,-264.93\"/>\n",
       "<polygon fill=\"black\" stroke=\"black\" points=\"346.59,-261.65 336.01,-261.12 343.96,-268.13 346.59,-261.65\"/>\n",
       "</g>\n",
       "<!-- 11 -->\n",
       "<g id=\"node12\" class=\"node\">\n",
       "<title>11</title>\n",
       "<polygon fill=\"none\" stroke=\"black\" points=\"591.5,-261 419.5,-261 419.5,-193 591.5,-193 591.5,-261\"/>\n",
       "<text text-anchor=\"middle\" x=\"505.5\" y=\"-245.8\" font-family=\"Helvetica,sans-Serif\" font-size=\"14.00\">Cocoa_Percent &lt;= &#45;1.617</text>\n",
       "<text text-anchor=\"middle\" x=\"505.5\" y=\"-230.8\" font-family=\"Helvetica,sans-Serif\" font-size=\"14.00\">squared_error = 0.21</text>\n",
       "<text text-anchor=\"middle\" x=\"505.5\" y=\"-215.8\" font-family=\"Helvetica,sans-Serif\" font-size=\"14.00\">samples = 17</text>\n",
       "<text text-anchor=\"middle\" x=\"505.5\" y=\"-200.8\" font-family=\"Helvetica,sans-Serif\" font-size=\"14.00\">value = 3.059</text>\n",
       "</g>\n",
       "<!-- 5&#45;&gt;11 -->\n",
       "<g id=\"edge11\" class=\"edge\">\n",
       "<title>5&#45;&gt;11</title>\n",
       "<path fill=\"none\" stroke=\"black\" d=\"M505.5,-296.88C505.5,-288.78 505.5,-279.98 505.5,-271.47\"/>\n",
       "<polygon fill=\"black\" stroke=\"black\" points=\"509,-271.3 505.5,-261.3 502,-271.3 509,-271.3\"/>\n",
       "</g>\n",
       "<!-- 7 -->\n",
       "<g id=\"node8\" class=\"node\">\n",
       "<title>7</title>\n",
       "<polygon fill=\"none\" stroke=\"black\" points=\"151,-149.5 0,-149.5 0,-96.5 151,-96.5 151,-149.5\"/>\n",
       "<text text-anchor=\"middle\" x=\"75.5\" y=\"-134.3\" font-family=\"Helvetica,sans-Serif\" font-size=\"14.00\">squared_error = 0.085</text>\n",
       "<text text-anchor=\"middle\" x=\"75.5\" y=\"-119.3\" font-family=\"Helvetica,sans-Serif\" font-size=\"14.00\">samples = 10</text>\n",
       "<text text-anchor=\"middle\" x=\"75.5\" y=\"-104.3\" font-family=\"Helvetica,sans-Serif\" font-size=\"14.00\">value = 2.95</text>\n",
       "</g>\n",
       "<!-- 6&#45;&gt;7 -->\n",
       "<g id=\"edge7\" class=\"edge\">\n",
       "<title>6&#45;&gt;7</title>\n",
       "<path fill=\"none\" stroke=\"black\" d=\"M196.38,-192.88C174.77,-180.57 150.35,-166.65 129.16,-154.57\"/>\n",
       "<polygon fill=\"black\" stroke=\"black\" points=\"130.71,-151.43 120.28,-149.52 127.24,-157.51 130.71,-151.43\"/>\n",
       "</g>\n",
       "<!-- 8 -->\n",
       "<g id=\"node9\" class=\"node\">\n",
       "<title>8</title>\n",
       "<polygon fill=\"none\" stroke=\"black\" points=\"340,-157 169,-157 169,-89 340,-89 340,-157\"/>\n",
       "<text text-anchor=\"middle\" x=\"254.5\" y=\"-141.8\" font-family=\"Helvetica,sans-Serif\" font-size=\"14.00\">Cocoa_Percent &lt;= &#45;2.011</text>\n",
       "<text text-anchor=\"middle\" x=\"254.5\" y=\"-126.8\" font-family=\"Helvetica,sans-Serif\" font-size=\"14.00\">squared_error = 0.167</text>\n",
       "<text text-anchor=\"middle\" x=\"254.5\" y=\"-111.8\" font-family=\"Helvetica,sans-Serif\" font-size=\"14.00\">samples = 34</text>\n",
       "<text text-anchor=\"middle\" x=\"254.5\" y=\"-96.8\" font-family=\"Helvetica,sans-Serif\" font-size=\"14.00\">value = 2.978</text>\n",
       "</g>\n",
       "<!-- 6&#45;&gt;8 -->\n",
       "<g id=\"edge8\" class=\"edge\">\n",
       "<title>6&#45;&gt;8</title>\n",
       "<path fill=\"none\" stroke=\"black\" d=\"M254.5,-192.88C254.5,-184.78 254.5,-175.98 254.5,-167.47\"/>\n",
       "<polygon fill=\"black\" stroke=\"black\" points=\"258,-167.3 254.5,-157.3 251,-167.3 258,-167.3\"/>\n",
       "</g>\n",
       "<!-- 9 -->\n",
       "<g id=\"node10\" class=\"node\">\n",
       "<title>9</title>\n",
       "<polygon fill=\"none\" stroke=\"black\" points=\"245,-53 94,-53 94,0 245,0 245,-53\"/>\n",
       "<text text-anchor=\"middle\" x=\"169.5\" y=\"-37.8\" font-family=\"Helvetica,sans-Serif\" font-size=\"14.00\">squared_error = 0.175</text>\n",
       "<text text-anchor=\"middle\" x=\"169.5\" y=\"-22.8\" font-family=\"Helvetica,sans-Serif\" font-size=\"14.00\">samples = 6</text>\n",
       "<text text-anchor=\"middle\" x=\"169.5\" y=\"-7.8\" font-family=\"Helvetica,sans-Serif\" font-size=\"14.00\">value = 3.042</text>\n",
       "</g>\n",
       "<!-- 8&#45;&gt;9 -->\n",
       "<g id=\"edge9\" class=\"edge\">\n",
       "<title>8&#45;&gt;9</title>\n",
       "<path fill=\"none\" stroke=\"black\" d=\"M224.77,-88.95C216.54,-79.8 207.61,-69.87 199.37,-60.71\"/>\n",
       "<polygon fill=\"black\" stroke=\"black\" points=\"201.94,-58.33 192.65,-53.24 196.73,-63.01 201.94,-58.33\"/>\n",
       "</g>\n",
       "<!-- 10 -->\n",
       "<g id=\"node11\" class=\"node\">\n",
       "<title>10</title>\n",
       "<polygon fill=\"none\" stroke=\"black\" points=\"414,-53 263,-53 263,0 414,0 414,-53\"/>\n",
       "<text text-anchor=\"middle\" x=\"338.5\" y=\"-37.8\" font-family=\"Helvetica,sans-Serif\" font-size=\"14.00\">squared_error = 0.164</text>\n",
       "<text text-anchor=\"middle\" x=\"338.5\" y=\"-22.8\" font-family=\"Helvetica,sans-Serif\" font-size=\"14.00\">samples = 28</text>\n",
       "<text text-anchor=\"middle\" x=\"338.5\" y=\"-7.8\" font-family=\"Helvetica,sans-Serif\" font-size=\"14.00\">value = 2.964</text>\n",
       "</g>\n",
       "<!-- 8&#45;&gt;10 -->\n",
       "<g id=\"edge10\" class=\"edge\">\n",
       "<title>8&#45;&gt;10</title>\n",
       "<path fill=\"none\" stroke=\"black\" d=\"M283.88,-88.95C292.01,-79.8 300.84,-69.87 308.98,-60.71\"/>\n",
       "<polygon fill=\"black\" stroke=\"black\" points=\"311.6,-63.04 315.62,-53.24 306.36,-58.39 311.6,-63.04\"/>\n",
       "</g>\n",
       "<!-- 12 -->\n",
       "<g id=\"node13\" class=\"node\">\n",
       "<title>12</title>\n",
       "<polygon fill=\"none\" stroke=\"black\" points=\"509,-149.5 358,-149.5 358,-96.5 509,-96.5 509,-149.5\"/>\n",
       "<text text-anchor=\"middle\" x=\"433.5\" y=\"-134.3\" font-family=\"Helvetica,sans-Serif\" font-size=\"14.00\">squared_error = 0.132</text>\n",
       "<text text-anchor=\"middle\" x=\"433.5\" y=\"-119.3\" font-family=\"Helvetica,sans-Serif\" font-size=\"14.00\">samples = 8</text>\n",
       "<text text-anchor=\"middle\" x=\"433.5\" y=\"-104.3\" font-family=\"Helvetica,sans-Serif\" font-size=\"14.00\">value = 3.031</text>\n",
       "</g>\n",
       "<!-- 11&#45;&gt;12 -->\n",
       "<g id=\"edge12\" class=\"edge\">\n",
       "<title>11&#45;&gt;12</title>\n",
       "<path fill=\"none\" stroke=\"black\" d=\"M482.12,-192.88C474.21,-181.67 465.35,-169.13 457.4,-157.85\"/>\n",
       "<polygon fill=\"black\" stroke=\"black\" points=\"460.14,-155.67 451.51,-149.52 454.42,-159.71 460.14,-155.67\"/>\n",
       "</g>\n",
       "<!-- 13 -->\n",
       "<g id=\"node14\" class=\"node\">\n",
       "<title>13</title>\n",
       "<polygon fill=\"none\" stroke=\"black\" points=\"678,-149.5 527,-149.5 527,-96.5 678,-96.5 678,-149.5\"/>\n",
       "<text text-anchor=\"middle\" x=\"602.5\" y=\"-134.3\" font-family=\"Helvetica,sans-Serif\" font-size=\"14.00\">squared_error = 0.278</text>\n",
       "<text text-anchor=\"middle\" x=\"602.5\" y=\"-119.3\" font-family=\"Helvetica,sans-Serif\" font-size=\"14.00\">samples = 9</text>\n",
       "<text text-anchor=\"middle\" x=\"602.5\" y=\"-104.3\" font-family=\"Helvetica,sans-Serif\" font-size=\"14.00\">value = 3.083</text>\n",
       "</g>\n",
       "<!-- 11&#45;&gt;13 -->\n",
       "<g id=\"edge13\" class=\"edge\">\n",
       "<title>11&#45;&gt;13</title>\n",
       "<path fill=\"none\" stroke=\"black\" d=\"M536.99,-192.88C547.97,-181.34 560.29,-168.39 571.25,-156.86\"/>\n",
       "<polygon fill=\"black\" stroke=\"black\" points=\"573.88,-159.18 578.23,-149.52 568.8,-154.35 573.88,-159.18\"/>\n",
       "</g>\n",
       "<!-- 15 -->\n",
       "<g id=\"node16\" class=\"node\">\n",
       "<title>15</title>\n",
       "<polygon fill=\"none\" stroke=\"black\" points=\"1014.5,-365 842.5,-365 842.5,-297 1014.5,-297 1014.5,-365\"/>\n",
       "<text text-anchor=\"middle\" x=\"928.5\" y=\"-349.8\" font-family=\"Helvetica,sans-Serif\" font-size=\"14.00\">Cocoa_Percent &lt;= &#45;1.301</text>\n",
       "<text text-anchor=\"middle\" x=\"928.5\" y=\"-334.8\" font-family=\"Helvetica,sans-Serif\" font-size=\"14.00\">squared_error = 0.203</text>\n",
       "<text text-anchor=\"middle\" x=\"928.5\" y=\"-319.8\" font-family=\"Helvetica,sans-Serif\" font-size=\"14.00\">samples = 631</text>\n",
       "<text text-anchor=\"middle\" x=\"928.5\" y=\"-304.8\" font-family=\"Helvetica,sans-Serif\" font-size=\"14.00\">value = 3.268</text>\n",
       "</g>\n",
       "<!-- 14&#45;&gt;15 -->\n",
       "<g id=\"edge15\" class=\"edge\">\n",
       "<title>14&#45;&gt;15</title>\n",
       "<path fill=\"none\" stroke=\"black\" d=\"M991.31,-400.88C983.18,-391.98 974.3,-382.24 965.84,-372.96\"/>\n",
       "<polygon fill=\"black\" stroke=\"black\" points=\"968.19,-370.33 958.86,-365.3 963.01,-375.05 968.19,-370.33\"/>\n",
       "</g>\n",
       "<!-- 24 -->\n",
       "<g id=\"node25\" class=\"node\">\n",
       "<title>24</title>\n",
       "<polygon fill=\"none\" stroke=\"black\" points=\"1196.5,-365 1032.5,-365 1032.5,-297 1196.5,-297 1196.5,-365\"/>\n",
       "<text text-anchor=\"middle\" x=\"1114.5\" y=\"-349.8\" font-family=\"Helvetica,sans-Serif\" font-size=\"14.00\">Cocoa_Percent &lt;= &#45;0.04</text>\n",
       "<text text-anchor=\"middle\" x=\"1114.5\" y=\"-334.8\" font-family=\"Helvetica,sans-Serif\" font-size=\"14.00\">squared_error = 0.217</text>\n",
       "<text text-anchor=\"middle\" x=\"1114.5\" y=\"-319.8\" font-family=\"Helvetica,sans-Serif\" font-size=\"14.00\">samples = 378</text>\n",
       "<text text-anchor=\"middle\" x=\"1114.5\" y=\"-304.8\" font-family=\"Helvetica,sans-Serif\" font-size=\"14.00\">value = 3.189</text>\n",
       "</g>\n",
       "<!-- 14&#45;&gt;24 -->\n",
       "<g id=\"edge24\" class=\"edge\">\n",
       "<title>14&#45;&gt;24</title>\n",
       "<path fill=\"none\" stroke=\"black\" d=\"M1051.69,-400.88C1059.82,-391.98 1068.7,-382.24 1077.16,-372.96\"/>\n",
       "<polygon fill=\"black\" stroke=\"black\" points=\"1079.99,-375.05 1084.14,-365.3 1074.81,-370.33 1079.99,-375.05\"/>\n",
       "</g>\n",
       "<!-- 16 -->\n",
       "<g id=\"node17\" class=\"node\">\n",
       "<title>16</title>\n",
       "<polygon fill=\"none\" stroke=\"black\" points=\"825,-253.5 674,-253.5 674,-200.5 825,-200.5 825,-253.5\"/>\n",
       "<text text-anchor=\"middle\" x=\"749.5\" y=\"-238.3\" font-family=\"Helvetica,sans-Serif\" font-size=\"14.00\">squared_error = 0.126</text>\n",
       "<text text-anchor=\"middle\" x=\"749.5\" y=\"-223.3\" font-family=\"Helvetica,sans-Serif\" font-size=\"14.00\">samples = 10</text>\n",
       "<text text-anchor=\"middle\" x=\"749.5\" y=\"-208.3\" font-family=\"Helvetica,sans-Serif\" font-size=\"14.00\">value = 3.575</text>\n",
       "</g>\n",
       "<!-- 15&#45;&gt;16 -->\n",
       "<g id=\"edge16\" class=\"edge\">\n",
       "<title>15&#45;&gt;16</title>\n",
       "<path fill=\"none\" stroke=\"black\" d=\"M870.38,-296.88C848.77,-284.57 824.35,-270.65 803.16,-258.57\"/>\n",
       "<polygon fill=\"black\" stroke=\"black\" points=\"804.71,-255.43 794.28,-253.52 801.24,-261.51 804.71,-255.43\"/>\n",
       "</g>\n",
       "<!-- 17 -->\n",
       "<g id=\"node18\" class=\"node\">\n",
       "<title>17</title>\n",
       "<polygon fill=\"none\" stroke=\"black\" points=\"1015.5,-261 843.5,-261 843.5,-193 1015.5,-193 1015.5,-261\"/>\n",
       "<text text-anchor=\"middle\" x=\"929.5\" y=\"-245.8\" font-family=\"Helvetica,sans-Serif\" font-size=\"14.00\">Cocoa_Percent &lt;= &#45;0.986</text>\n",
       "<text text-anchor=\"middle\" x=\"929.5\" y=\"-230.8\" font-family=\"Helvetica,sans-Serif\" font-size=\"14.00\">squared_error = 0.203</text>\n",
       "<text text-anchor=\"middle\" x=\"929.5\" y=\"-215.8\" font-family=\"Helvetica,sans-Serif\" font-size=\"14.00\">samples = 621</text>\n",
       "<text text-anchor=\"middle\" x=\"929.5\" y=\"-200.8\" font-family=\"Helvetica,sans-Serif\" font-size=\"14.00\">value = 3.263</text>\n",
       "</g>\n",
       "<!-- 15&#45;&gt;17 -->\n",
       "<g id=\"edge17\" class=\"edge\">\n",
       "<title>15&#45;&gt;17</title>\n",
       "<path fill=\"none\" stroke=\"black\" d=\"M928.82,-296.88C928.9,-288.78 928.99,-279.98 929.07,-271.47\"/>\n",
       "<polygon fill=\"black\" stroke=\"black\" points=\"932.58,-271.33 929.17,-261.3 925.58,-271.26 932.58,-271.33\"/>\n",
       "</g>\n",
       "<!-- 18 -->\n",
       "<g id=\"node19\" class=\"node\">\n",
       "<title>18</title>\n",
       "<polygon fill=\"none\" stroke=\"black\" points=\"868.5,-157 696.5,-157 696.5,-89 868.5,-89 868.5,-157\"/>\n",
       "<text text-anchor=\"middle\" x=\"782.5\" y=\"-141.8\" font-family=\"Helvetica,sans-Serif\" font-size=\"14.00\">Cocoa_Percent &lt;= &#45;1.144</text>\n",
       "<text text-anchor=\"middle\" x=\"782.5\" y=\"-126.8\" font-family=\"Helvetica,sans-Serif\" font-size=\"14.00\">squared_error = 0.161</text>\n",
       "<text text-anchor=\"middle\" x=\"782.5\" y=\"-111.8\" font-family=\"Helvetica,sans-Serif\" font-size=\"14.00\">samples = 80</text>\n",
       "<text text-anchor=\"middle\" x=\"782.5\" y=\"-96.8\" font-family=\"Helvetica,sans-Serif\" font-size=\"14.00\">value = 3.162</text>\n",
       "</g>\n",
       "<!-- 17&#45;&gt;18 -->\n",
       "<g id=\"edge18\" class=\"edge\">\n",
       "<title>17&#45;&gt;18</title>\n",
       "<path fill=\"none\" stroke=\"black\" d=\"M881.77,-192.88C867.97,-183.3 852.77,-172.76 838.51,-162.86\"/>\n",
       "<polygon fill=\"black\" stroke=\"black\" points=\"840.45,-159.95 830.24,-157.12 836.46,-165.7 840.45,-159.95\"/>\n",
       "</g>\n",
       "<!-- 21 -->\n",
       "<g id=\"node22\" class=\"node\">\n",
       "<title>21</title>\n",
       "<polygon fill=\"none\" stroke=\"black\" points=\"1058.5,-157 886.5,-157 886.5,-89 1058.5,-89 1058.5,-157\"/>\n",
       "<text text-anchor=\"middle\" x=\"972.5\" y=\"-141.8\" font-family=\"Helvetica,sans-Serif\" font-size=\"14.00\">Cocoa_Percent &lt;= &#45;0.828</text>\n",
       "<text text-anchor=\"middle\" x=\"972.5\" y=\"-126.8\" font-family=\"Helvetica,sans-Serif\" font-size=\"14.00\">squared_error = 0.207</text>\n",
       "<text text-anchor=\"middle\" x=\"972.5\" y=\"-111.8\" font-family=\"Helvetica,sans-Serif\" font-size=\"14.00\">samples = 541</text>\n",
       "<text text-anchor=\"middle\" x=\"972.5\" y=\"-96.8\" font-family=\"Helvetica,sans-Serif\" font-size=\"14.00\">value = 3.278</text>\n",
       "</g>\n",
       "<!-- 17&#45;&gt;21 -->\n",
       "<g id=\"edge21\" class=\"edge\">\n",
       "<title>17&#45;&gt;21</title>\n",
       "<path fill=\"none\" stroke=\"black\" d=\"M943.46,-192.88C946.99,-184.51 950.83,-175.4 954.53,-166.63\"/>\n",
       "<polygon fill=\"black\" stroke=\"black\" points=\"957.8,-167.87 958.46,-157.3 951.35,-165.15 957.8,-167.87\"/>\n",
       "</g>\n",
       "<!-- 19 -->\n",
       "<g id=\"node20\" class=\"node\">\n",
       "<title>19</title>\n",
       "<polygon fill=\"none\" stroke=\"black\" points=\"689,-53 538,-53 538,0 689,0 689,-53\"/>\n",
       "<text text-anchor=\"middle\" x=\"613.5\" y=\"-37.8\" font-family=\"Helvetica,sans-Serif\" font-size=\"14.00\">squared_error = 0.145</text>\n",
       "<text text-anchor=\"middle\" x=\"613.5\" y=\"-22.8\" font-family=\"Helvetica,sans-Serif\" font-size=\"14.00\">samples = 23</text>\n",
       "<text text-anchor=\"middle\" x=\"613.5\" y=\"-7.8\" font-family=\"Helvetica,sans-Serif\" font-size=\"14.00\">value = 3.152</text>\n",
       "</g>\n",
       "<!-- 18&#45;&gt;19 -->\n",
       "<g id=\"edge19\" class=\"edge\">\n",
       "<title>18&#45;&gt;19</title>\n",
       "<path fill=\"none\" stroke=\"black\" d=\"M723.39,-88.95C705.48,-78.93 685.89,-67.98 668.27,-58.13\"/>\n",
       "<polygon fill=\"black\" stroke=\"black\" points=\"669.69,-54.91 659.26,-53.09 666.28,-61.02 669.69,-54.91\"/>\n",
       "</g>\n",
       "<!-- 20 -->\n",
       "<g id=\"node21\" class=\"node\">\n",
       "<title>20</title>\n",
       "<polygon fill=\"none\" stroke=\"black\" points=\"858,-53 707,-53 707,0 858,0 858,-53\"/>\n",
       "<text text-anchor=\"middle\" x=\"782.5\" y=\"-37.8\" font-family=\"Helvetica,sans-Serif\" font-size=\"14.00\">squared_error = 0.167</text>\n",
       "<text text-anchor=\"middle\" x=\"782.5\" y=\"-22.8\" font-family=\"Helvetica,sans-Serif\" font-size=\"14.00\">samples = 57</text>\n",
       "<text text-anchor=\"middle\" x=\"782.5\" y=\"-7.8\" font-family=\"Helvetica,sans-Serif\" font-size=\"14.00\">value = 3.167</text>\n",
       "</g>\n",
       "<!-- 18&#45;&gt;20 -->\n",
       "<g id=\"edge20\" class=\"edge\">\n",
       "<title>18&#45;&gt;20</title>\n",
       "<path fill=\"none\" stroke=\"black\" d=\"M782.5,-88.95C782.5,-80.72 782.5,-71.85 782.5,-63.48\"/>\n",
       "<polygon fill=\"black\" stroke=\"black\" points=\"786,-63.24 782.5,-53.24 779,-63.24 786,-63.24\"/>\n",
       "</g>\n",
       "<!-- 22 -->\n",
       "<g id=\"node23\" class=\"node\">\n",
       "<title>22</title>\n",
       "<polygon fill=\"none\" stroke=\"black\" points=\"1027,-53 876,-53 876,0 1027,0 1027,-53\"/>\n",
       "<text text-anchor=\"middle\" x=\"951.5\" y=\"-37.8\" font-family=\"Helvetica,sans-Serif\" font-size=\"14.00\">squared_error = 0.133</text>\n",
       "<text text-anchor=\"middle\" x=\"951.5\" y=\"-22.8\" font-family=\"Helvetica,sans-Serif\" font-size=\"14.00\">samples = 17</text>\n",
       "<text text-anchor=\"middle\" x=\"951.5\" y=\"-7.8\" font-family=\"Helvetica,sans-Serif\" font-size=\"14.00\">value = 3.397</text>\n",
       "</g>\n",
       "<!-- 21&#45;&gt;22 -->\n",
       "<g id=\"edge22\" class=\"edge\">\n",
       "<title>21&#45;&gt;22</title>\n",
       "<path fill=\"none\" stroke=\"black\" d=\"M965.16,-88.95C963.31,-80.62 961.31,-71.65 959.43,-63.2\"/>\n",
       "<polygon fill=\"black\" stroke=\"black\" points=\"962.81,-62.24 957.22,-53.24 955.97,-63.76 962.81,-62.24\"/>\n",
       "</g>\n",
       "<!-- 23 -->\n",
       "<g id=\"node24\" class=\"node\">\n",
       "<title>23</title>\n",
       "<polygon fill=\"none\" stroke=\"black\" points=\"1196,-53 1045,-53 1045,0 1196,0 1196,-53\"/>\n",
       "<text text-anchor=\"middle\" x=\"1120.5\" y=\"-37.8\" font-family=\"Helvetica,sans-Serif\" font-size=\"14.00\">squared_error = 0.209</text>\n",
       "<text text-anchor=\"middle\" x=\"1120.5\" y=\"-22.8\" font-family=\"Helvetica,sans-Serif\" font-size=\"14.00\">samples = 524</text>\n",
       "<text text-anchor=\"middle\" x=\"1120.5\" y=\"-7.8\" font-family=\"Helvetica,sans-Serif\" font-size=\"14.00\">value = 3.274</text>\n",
       "</g>\n",
       "<!-- 21&#45;&gt;23 -->\n",
       "<g id=\"edge23\" class=\"edge\">\n",
       "<title>21&#45;&gt;23</title>\n",
       "<path fill=\"none\" stroke=\"black\" d=\"M1024.26,-88.95C1039.59,-79.16 1056.33,-68.48 1071.48,-58.8\"/>\n",
       "<polygon fill=\"black\" stroke=\"black\" points=\"1073.65,-61.57 1080.19,-53.24 1069.88,-55.67 1073.65,-61.57\"/>\n",
       "</g>\n",
       "<!-- 25 -->\n",
       "<g id=\"node26\" class=\"node\">\n",
       "<title>25</title>\n",
       "<polygon fill=\"none\" stroke=\"black\" points=\"1188,-253.5 1037,-253.5 1037,-200.5 1188,-200.5 1188,-253.5\"/>\n",
       "<text text-anchor=\"middle\" x=\"1112.5\" y=\"-238.3\" font-family=\"Helvetica,sans-Serif\" font-size=\"14.00\">squared_error = 0.222</text>\n",
       "<text text-anchor=\"middle\" x=\"1112.5\" y=\"-223.3\" font-family=\"Helvetica,sans-Serif\" font-size=\"14.00\">samples = 24</text>\n",
       "<text text-anchor=\"middle\" x=\"1112.5\" y=\"-208.3\" font-family=\"Helvetica,sans-Serif\" font-size=\"14.00\">value = 3.042</text>\n",
       "</g>\n",
       "<!-- 24&#45;&gt;25 -->\n",
       "<g id=\"edge25\" class=\"edge\">\n",
       "<title>24&#45;&gt;25</title>\n",
       "<path fill=\"none\" stroke=\"black\" d=\"M1113.85,-296.88C1113.64,-286.22 1113.41,-274.35 1113.2,-263.52\"/>\n",
       "<polygon fill=\"black\" stroke=\"black\" points=\"1116.7,-263.45 1113,-253.52 1109.7,-263.59 1116.7,-263.45\"/>\n",
       "</g>\n",
       "<!-- 26 -->\n",
       "<g id=\"node27\" class=\"node\">\n",
       "<title>26</title>\n",
       "<polygon fill=\"none\" stroke=\"black\" points=\"1373,-261 1206,-261 1206,-193 1373,-193 1373,-261\"/>\n",
       "<text text-anchor=\"middle\" x=\"1289.5\" y=\"-245.8\" font-family=\"Helvetica,sans-Serif\" font-size=\"14.00\">Cocoa_Percent &lt;= 0.433</text>\n",
       "<text text-anchor=\"middle\" x=\"1289.5\" y=\"-230.8\" font-family=\"Helvetica,sans-Serif\" font-size=\"14.00\">squared_error = 0.215</text>\n",
       "<text text-anchor=\"middle\" x=\"1289.5\" y=\"-215.8\" font-family=\"Helvetica,sans-Serif\" font-size=\"14.00\">samples = 354</text>\n",
       "<text text-anchor=\"middle\" x=\"1289.5\" y=\"-200.8\" font-family=\"Helvetica,sans-Serif\" font-size=\"14.00\">value = 3.199</text>\n",
       "</g>\n",
       "<!-- 24&#45;&gt;26 -->\n",
       "<g id=\"edge26\" class=\"edge\">\n",
       "<title>24&#45;&gt;26</title>\n",
       "<path fill=\"none\" stroke=\"black\" d=\"M1171.32,-296.88C1188.06,-287.12 1206.52,-276.37 1223.77,-266.31\"/>\n",
       "<polygon fill=\"black\" stroke=\"black\" points=\"1225.79,-269.18 1232.67,-261.12 1222.27,-263.14 1225.79,-269.18\"/>\n",
       "</g>\n",
       "<!-- 27 -->\n",
       "<g id=\"node28\" class=\"node\">\n",
       "<title>27</title>\n",
       "<polygon fill=\"none\" stroke=\"black\" points=\"1373,-157 1206,-157 1206,-89 1373,-89 1373,-157\"/>\n",
       "<text text-anchor=\"middle\" x=\"1289.5\" y=\"-141.8\" font-family=\"Helvetica,sans-Serif\" font-size=\"14.00\">Cocoa_Percent &lt;= 0.314</text>\n",
       "<text text-anchor=\"middle\" x=\"1289.5\" y=\"-126.8\" font-family=\"Helvetica,sans-Serif\" font-size=\"14.00\">squared_error = 0.207</text>\n",
       "<text text-anchor=\"middle\" x=\"1289.5\" y=\"-111.8\" font-family=\"Helvetica,sans-Serif\" font-size=\"14.00\">samples = 200</text>\n",
       "<text text-anchor=\"middle\" x=\"1289.5\" y=\"-96.8\" font-family=\"Helvetica,sans-Serif\" font-size=\"14.00\">value = 3.208</text>\n",
       "</g>\n",
       "<!-- 26&#45;&gt;27 -->\n",
       "<g id=\"edge27\" class=\"edge\">\n",
       "<title>26&#45;&gt;27</title>\n",
       "<path fill=\"none\" stroke=\"black\" d=\"M1289.5,-192.88C1289.5,-184.78 1289.5,-175.98 1289.5,-167.47\"/>\n",
       "<polygon fill=\"black\" stroke=\"black\" points=\"1293,-167.3 1289.5,-157.3 1286,-167.3 1293,-167.3\"/>\n",
       "</g>\n",
       "<!-- 30 -->\n",
       "<g id=\"node31\" class=\"node\">\n",
       "<title>30</title>\n",
       "<polygon fill=\"none\" stroke=\"black\" points=\"1542,-149.5 1391,-149.5 1391,-96.5 1542,-96.5 1542,-149.5\"/>\n",
       "<text text-anchor=\"middle\" x=\"1466.5\" y=\"-134.3\" font-family=\"Helvetica,sans-Serif\" font-size=\"14.00\">squared_error = 0.224</text>\n",
       "<text text-anchor=\"middle\" x=\"1466.5\" y=\"-119.3\" font-family=\"Helvetica,sans-Serif\" font-size=\"14.00\">samples = 154</text>\n",
       "<text text-anchor=\"middle\" x=\"1466.5\" y=\"-104.3\" font-family=\"Helvetica,sans-Serif\" font-size=\"14.00\">value = 3.188</text>\n",
       "</g>\n",
       "<!-- 26&#45;&gt;30 -->\n",
       "<g id=\"edge30\" class=\"edge\">\n",
       "<title>26&#45;&gt;30</title>\n",
       "<path fill=\"none\" stroke=\"black\" d=\"M1346.97,-192.88C1368.34,-180.57 1392.48,-166.65 1413.44,-154.57\"/>\n",
       "<polygon fill=\"black\" stroke=\"black\" points=\"1415.3,-157.55 1422.22,-149.52 1411.8,-151.48 1415.3,-157.55\"/>\n",
       "</g>\n",
       "<!-- 28 -->\n",
       "<g id=\"node29\" class=\"node\">\n",
       "<title>28</title>\n",
       "<polygon fill=\"none\" stroke=\"black\" points=\"1365,-53 1214,-53 1214,0 1365,0 1365,-53\"/>\n",
       "<text text-anchor=\"middle\" x=\"1289.5\" y=\"-37.8\" font-family=\"Helvetica,sans-Serif\" font-size=\"14.00\">squared_error = 0.207</text>\n",
       "<text text-anchor=\"middle\" x=\"1289.5\" y=\"-22.8\" font-family=\"Helvetica,sans-Serif\" font-size=\"14.00\">samples = 159</text>\n",
       "<text text-anchor=\"middle\" x=\"1289.5\" y=\"-7.8\" font-family=\"Helvetica,sans-Serif\" font-size=\"14.00\">value = 3.195</text>\n",
       "</g>\n",
       "<!-- 27&#45;&gt;28 -->\n",
       "<g id=\"edge28\" class=\"edge\">\n",
       "<title>27&#45;&gt;28</title>\n",
       "<path fill=\"none\" stroke=\"black\" d=\"M1289.5,-88.95C1289.5,-80.72 1289.5,-71.85 1289.5,-63.48\"/>\n",
       "<polygon fill=\"black\" stroke=\"black\" points=\"1293,-63.24 1289.5,-53.24 1286,-63.24 1293,-63.24\"/>\n",
       "</g>\n",
       "<!-- 29 -->\n",
       "<g id=\"node30\" class=\"node\">\n",
       "<title>29</title>\n",
       "<polygon fill=\"none\" stroke=\"black\" points=\"1534,-53 1383,-53 1383,0 1534,0 1534,-53\"/>\n",
       "<text text-anchor=\"middle\" x=\"1458.5\" y=\"-37.8\" font-family=\"Helvetica,sans-Serif\" font-size=\"14.00\">squared_error = 0.203</text>\n",
       "<text text-anchor=\"middle\" x=\"1458.5\" y=\"-22.8\" font-family=\"Helvetica,sans-Serif\" font-size=\"14.00\">samples = 41</text>\n",
       "<text text-anchor=\"middle\" x=\"1458.5\" y=\"-7.8\" font-family=\"Helvetica,sans-Serif\" font-size=\"14.00\">value = 3.256</text>\n",
       "</g>\n",
       "<!-- 27&#45;&gt;29 -->\n",
       "<g id=\"edge29\" class=\"edge\">\n",
       "<title>27&#45;&gt;29</title>\n",
       "<path fill=\"none\" stroke=\"black\" d=\"M1348.61,-88.95C1366.52,-78.93 1386.11,-67.98 1403.73,-58.13\"/>\n",
       "<polygon fill=\"black\" stroke=\"black\" points=\"1405.72,-61.02 1412.74,-53.09 1402.31,-54.91 1405.72,-61.02\"/>\n",
       "</g>\n",
       "<!-- 32 -->\n",
       "<g id=\"node33\" class=\"node\">\n",
       "<title>32</title>\n",
       "<polygon fill=\"none\" stroke=\"black\" points=\"1677,-469 1510,-469 1510,-401 1677,-401 1677,-469\"/>\n",
       "<text text-anchor=\"middle\" x=\"1593.5\" y=\"-453.8\" font-family=\"Helvetica,sans-Serif\" font-size=\"14.00\">Cocoa_Percent &lt;= 0.906</text>\n",
       "<text text-anchor=\"middle\" x=\"1593.5\" y=\"-438.8\" font-family=\"Helvetica,sans-Serif\" font-size=\"14.00\">squared_error = 0.198</text>\n",
       "<text text-anchor=\"middle\" x=\"1593.5\" y=\"-423.8\" font-family=\"Helvetica,sans-Serif\" font-size=\"14.00\">samples = 54</text>\n",
       "<text text-anchor=\"middle\" x=\"1593.5\" y=\"-408.8\" font-family=\"Helvetica,sans-Serif\" font-size=\"14.00\">value = 3.111</text>\n",
       "</g>\n",
       "<!-- 31&#45;&gt;32 -->\n",
       "<g id=\"edge32\" class=\"edge\">\n",
       "<title>31&#45;&gt;32</title>\n",
       "<path fill=\"none\" stroke=\"black\" d=\"M1593.5,-504.88C1593.5,-496.78 1593.5,-487.98 1593.5,-479.47\"/>\n",
       "<polygon fill=\"black\" stroke=\"black\" points=\"1597,-479.3 1593.5,-469.3 1590,-479.3 1597,-479.3\"/>\n",
       "</g>\n",
       "<!-- 37 -->\n",
       "<g id=\"node38\" class=\"node\">\n",
       "<title>37</title>\n",
       "<polygon fill=\"none\" stroke=\"black\" points=\"2021,-469 1854,-469 1854,-401 2021,-401 2021,-469\"/>\n",
       "<text text-anchor=\"middle\" x=\"1937.5\" y=\"-453.8\" font-family=\"Helvetica,sans-Serif\" font-size=\"14.00\">Cocoa_Percent &lt;= 2.324</text>\n",
       "<text text-anchor=\"middle\" x=\"1937.5\" y=\"-438.8\" font-family=\"Helvetica,sans-Serif\" font-size=\"14.00\">squared_error = 0.176</text>\n",
       "<text text-anchor=\"middle\" x=\"1937.5\" y=\"-423.8\" font-family=\"Helvetica,sans-Serif\" font-size=\"14.00\">samples = 113</text>\n",
       "<text text-anchor=\"middle\" x=\"1937.5\" y=\"-408.8\" font-family=\"Helvetica,sans-Serif\" font-size=\"14.00\">value = 3.011</text>\n",
       "</g>\n",
       "<!-- 31&#45;&gt;37 -->\n",
       "<g id=\"edge37\" class=\"edge\">\n",
       "<title>31&#45;&gt;37</title>\n",
       "<path fill=\"none\" stroke=\"black\" d=\"M1677.21,-513.18C1727.56,-498.25 1791.77,-479.21 1843.81,-463.78\"/>\n",
       "<polygon fill=\"black\" stroke=\"black\" points=\"1845.12,-467.04 1853.71,-460.84 1843.13,-460.33 1845.12,-467.04\"/>\n",
       "</g>\n",
       "<!-- 33 -->\n",
       "<g id=\"node34\" class=\"node\">\n",
       "<title>33</title>\n",
       "<polygon fill=\"none\" stroke=\"black\" points=\"1589,-365 1422,-365 1422,-297 1589,-297 1589,-365\"/>\n",
       "<text text-anchor=\"middle\" x=\"1505.5\" y=\"-349.8\" font-family=\"Helvetica,sans-Serif\" font-size=\"14.00\">Cocoa_Percent &lt;= 0.748</text>\n",
       "<text text-anchor=\"middle\" x=\"1505.5\" y=\"-334.8\" font-family=\"Helvetica,sans-Serif\" font-size=\"14.00\">squared_error = 0.17</text>\n",
       "<text text-anchor=\"middle\" x=\"1505.5\" y=\"-319.8\" font-family=\"Helvetica,sans-Serif\" font-size=\"14.00\">samples = 43</text>\n",
       "<text text-anchor=\"middle\" x=\"1505.5\" y=\"-304.8\" font-family=\"Helvetica,sans-Serif\" font-size=\"14.00\">value = 3.035</text>\n",
       "</g>\n",
       "<!-- 32&#45;&gt;33 -->\n",
       "<g id=\"edge33\" class=\"edge\">\n",
       "<title>32&#45;&gt;33</title>\n",
       "<path fill=\"none\" stroke=\"black\" d=\"M1564.93,-400.88C1557.24,-391.98 1548.84,-382.24 1540.84,-372.96\"/>\n",
       "<polygon fill=\"black\" stroke=\"black\" points=\"1543.41,-370.58 1534.23,-365.3 1538.11,-375.16 1543.41,-370.58\"/>\n",
       "</g>\n",
       "<!-- 36 -->\n",
       "<g id=\"node37\" class=\"node\">\n",
       "<title>36</title>\n",
       "<polygon fill=\"none\" stroke=\"black\" points=\"1758,-357.5 1607,-357.5 1607,-304.5 1758,-304.5 1758,-357.5\"/>\n",
       "<text text-anchor=\"middle\" x=\"1682.5\" y=\"-342.3\" font-family=\"Helvetica,sans-Serif\" font-size=\"14.00\">squared_error = 0.196</text>\n",
       "<text text-anchor=\"middle\" x=\"1682.5\" y=\"-327.3\" font-family=\"Helvetica,sans-Serif\" font-size=\"14.00\">samples = 11</text>\n",
       "<text text-anchor=\"middle\" x=\"1682.5\" y=\"-312.3\" font-family=\"Helvetica,sans-Serif\" font-size=\"14.00\">value = 3.409</text>\n",
       "</g>\n",
       "<!-- 32&#45;&gt;36 -->\n",
       "<g id=\"edge36\" class=\"edge\">\n",
       "<title>32&#45;&gt;36</title>\n",
       "<path fill=\"none\" stroke=\"black\" d=\"M1622.4,-400.88C1632.38,-389.45 1643.55,-376.63 1653.54,-365.19\"/>\n",
       "<polygon fill=\"black\" stroke=\"black\" points=\"1656.3,-367.36 1660.23,-357.52 1651.02,-362.75 1656.3,-367.36\"/>\n",
       "</g>\n",
       "<!-- 34 -->\n",
       "<g id=\"node35\" class=\"node\">\n",
       "<title>34</title>\n",
       "<polygon fill=\"none\" stroke=\"black\" points=\"1542,-253.5 1391,-253.5 1391,-200.5 1542,-200.5 1542,-253.5\"/>\n",
       "<text text-anchor=\"middle\" x=\"1466.5\" y=\"-238.3\" font-family=\"Helvetica,sans-Serif\" font-size=\"14.00\">squared_error = 0.151</text>\n",
       "<text text-anchor=\"middle\" x=\"1466.5\" y=\"-223.3\" font-family=\"Helvetica,sans-Serif\" font-size=\"14.00\">samples = 17</text>\n",
       "<text text-anchor=\"middle\" x=\"1466.5\" y=\"-208.3\" font-family=\"Helvetica,sans-Serif\" font-size=\"14.00\">value = 2.985</text>\n",
       "</g>\n",
       "<!-- 33&#45;&gt;34 -->\n",
       "<g id=\"edge34\" class=\"edge\">\n",
       "<title>33&#45;&gt;34</title>\n",
       "<path fill=\"none\" stroke=\"black\" d=\"M1492.84,-296.88C1488.72,-286.11 1484.13,-274.11 1479.95,-263.18\"/>\n",
       "<polygon fill=\"black\" stroke=\"black\" points=\"1483.1,-261.61 1476.26,-253.52 1476.56,-264.11 1483.1,-261.61\"/>\n",
       "</g>\n",
       "<!-- 35 -->\n",
       "<g id=\"node36\" class=\"node\">\n",
       "<title>35</title>\n",
       "<polygon fill=\"none\" stroke=\"black\" points=\"1711,-253.5 1560,-253.5 1560,-200.5 1711,-200.5 1711,-253.5\"/>\n",
       "<text text-anchor=\"middle\" x=\"1635.5\" y=\"-238.3\" font-family=\"Helvetica,sans-Serif\" font-size=\"14.00\">squared_error = 0.181</text>\n",
       "<text text-anchor=\"middle\" x=\"1635.5\" y=\"-223.3\" font-family=\"Helvetica,sans-Serif\" font-size=\"14.00\">samples = 26</text>\n",
       "<text text-anchor=\"middle\" x=\"1635.5\" y=\"-208.3\" font-family=\"Helvetica,sans-Serif\" font-size=\"14.00\">value = 3.067</text>\n",
       "</g>\n",
       "<!-- 33&#45;&gt;35 -->\n",
       "<g id=\"edge35\" class=\"edge\">\n",
       "<title>33&#45;&gt;35</title>\n",
       "<path fill=\"none\" stroke=\"black\" d=\"M1547.71,-296.88C1562.85,-285.01 1579.87,-271.65 1594.87,-259.88\"/>\n",
       "<polygon fill=\"black\" stroke=\"black\" points=\"1597.27,-262.45 1602.97,-253.52 1592.95,-256.94 1597.27,-262.45\"/>\n",
       "</g>\n",
       "<!-- 38 -->\n",
       "<g id=\"node39\" class=\"node\">\n",
       "<title>38</title>\n",
       "<polygon fill=\"none\" stroke=\"black\" points=\"2021,-365 1854,-365 1854,-297 2021,-297 2021,-365\"/>\n",
       "<text text-anchor=\"middle\" x=\"1937.5\" y=\"-349.8\" font-family=\"Helvetica,sans-Serif\" font-size=\"14.00\">Cocoa_Percent &lt;= 1.378</text>\n",
       "<text text-anchor=\"middle\" x=\"1937.5\" y=\"-334.8\" font-family=\"Helvetica,sans-Serif\" font-size=\"14.00\">squared_error = 0.169</text>\n",
       "<text text-anchor=\"middle\" x=\"1937.5\" y=\"-319.8\" font-family=\"Helvetica,sans-Serif\" font-size=\"14.00\">samples = 97</text>\n",
       "<text text-anchor=\"middle\" x=\"1937.5\" y=\"-304.8\" font-family=\"Helvetica,sans-Serif\" font-size=\"14.00\">value = 2.997</text>\n",
       "</g>\n",
       "<!-- 37&#45;&gt;38 -->\n",
       "<g id=\"edge38\" class=\"edge\">\n",
       "<title>37&#45;&gt;38</title>\n",
       "<path fill=\"none\" stroke=\"black\" d=\"M1937.5,-400.88C1937.5,-392.78 1937.5,-383.98 1937.5,-375.47\"/>\n",
       "<polygon fill=\"black\" stroke=\"black\" points=\"1941,-375.3 1937.5,-365.3 1934,-375.3 1941,-375.3\"/>\n",
       "</g>\n",
       "<!-- 45 -->\n",
       "<g id=\"node46\" class=\"node\">\n",
       "<title>45</title>\n",
       "<polygon fill=\"none\" stroke=\"black\" points=\"2238.5,-365 2078.5,-365 2078.5,-297 2238.5,-297 2238.5,-365\"/>\n",
       "<text text-anchor=\"middle\" x=\"2158.5\" y=\"-349.8\" font-family=\"Helvetica,sans-Serif\" font-size=\"14.00\">Cocoa_Percent &lt;= 2.64</text>\n",
       "<text text-anchor=\"middle\" x=\"2158.5\" y=\"-334.8\" font-family=\"Helvetica,sans-Serif\" font-size=\"14.00\">squared_error = 0.21</text>\n",
       "<text text-anchor=\"middle\" x=\"2158.5\" y=\"-319.8\" font-family=\"Helvetica,sans-Serif\" font-size=\"14.00\">samples = 16</text>\n",
       "<text text-anchor=\"middle\" x=\"2158.5\" y=\"-304.8\" font-family=\"Helvetica,sans-Serif\" font-size=\"14.00\">value = 3.094</text>\n",
       "</g>\n",
       "<!-- 37&#45;&gt;45 -->\n",
       "<g id=\"edge45\" class=\"edge\">\n",
       "<title>37&#45;&gt;45</title>\n",
       "<path fill=\"none\" stroke=\"black\" d=\"M2009.25,-400.88C2031.07,-390.81 2055.21,-379.67 2077.59,-369.34\"/>\n",
       "<polygon fill=\"black\" stroke=\"black\" points=\"2079.12,-372.49 2086.73,-365.12 2076.18,-366.14 2079.12,-372.49\"/>\n",
       "</g>\n",
       "<!-- 39 -->\n",
       "<g id=\"node40\" class=\"node\">\n",
       "<title>39</title>\n",
       "<polygon fill=\"none\" stroke=\"black\" points=\"1880,-253.5 1729,-253.5 1729,-200.5 1880,-200.5 1880,-253.5\"/>\n",
       "<text text-anchor=\"middle\" x=\"1804.5\" y=\"-238.3\" font-family=\"Helvetica,sans-Serif\" font-size=\"14.00\">squared_error = 0.167</text>\n",
       "<text text-anchor=\"middle\" x=\"1804.5\" y=\"-223.3\" font-family=\"Helvetica,sans-Serif\" font-size=\"14.00\">samples = 50</text>\n",
       "<text text-anchor=\"middle\" x=\"1804.5\" y=\"-208.3\" font-family=\"Helvetica,sans-Serif\" font-size=\"14.00\">value = 3.02</text>\n",
       "</g>\n",
       "<!-- 38&#45;&gt;39 -->\n",
       "<g id=\"edge39\" class=\"edge\">\n",
       "<title>38&#45;&gt;39</title>\n",
       "<path fill=\"none\" stroke=\"black\" d=\"M1894.32,-296.88C1878.83,-285.01 1861.41,-271.65 1846.06,-259.88\"/>\n",
       "<polygon fill=\"black\" stroke=\"black\" points=\"1847.84,-256.83 1837.78,-253.52 1843.58,-262.38 1847.84,-256.83\"/>\n",
       "</g>\n",
       "<!-- 40 -->\n",
       "<g id=\"node41\" class=\"node\">\n",
       "<title>40</title>\n",
       "<polygon fill=\"none\" stroke=\"black\" points=\"2065,-261 1898,-261 1898,-193 2065,-193 2065,-261\"/>\n",
       "<text text-anchor=\"middle\" x=\"1981.5\" y=\"-245.8\" font-family=\"Helvetica,sans-Serif\" font-size=\"14.00\">Cocoa_Percent &lt;= 1.536</text>\n",
       "<text text-anchor=\"middle\" x=\"1981.5\" y=\"-230.8\" font-family=\"Helvetica,sans-Serif\" font-size=\"14.00\">squared_error = 0.171</text>\n",
       "<text text-anchor=\"middle\" x=\"1981.5\" y=\"-215.8\" font-family=\"Helvetica,sans-Serif\" font-size=\"14.00\">samples = 47</text>\n",
       "<text text-anchor=\"middle\" x=\"1981.5\" y=\"-200.8\" font-family=\"Helvetica,sans-Serif\" font-size=\"14.00\">value = 2.973</text>\n",
       "</g>\n",
       "<!-- 38&#45;&gt;40 -->\n",
       "<g id=\"edge40\" class=\"edge\">\n",
       "<title>38&#45;&gt;40</title>\n",
       "<path fill=\"none\" stroke=\"black\" d=\"M1951.79,-296.88C1955.4,-288.51 1959.33,-279.4 1963.11,-270.63\"/>\n",
       "<polygon fill=\"black\" stroke=\"black\" points=\"1966.39,-271.87 1967.14,-261.3 1959.96,-269.1 1966.39,-271.87\"/>\n",
       "</g>\n",
       "<!-- 41 -->\n",
       "<g id=\"node42\" class=\"node\">\n",
       "<title>41</title>\n",
       "<polygon fill=\"none\" stroke=\"black\" points=\"1926,-149.5 1775,-149.5 1775,-96.5 1926,-96.5 1926,-149.5\"/>\n",
       "<text text-anchor=\"middle\" x=\"1850.5\" y=\"-134.3\" font-family=\"Helvetica,sans-Serif\" font-size=\"14.00\">squared_error = 0.125</text>\n",
       "<text text-anchor=\"middle\" x=\"1850.5\" y=\"-119.3\" font-family=\"Helvetica,sans-Serif\" font-size=\"14.00\">samples = 3</text>\n",
       "<text text-anchor=\"middle\" x=\"1850.5\" y=\"-104.3\" font-family=\"Helvetica,sans-Serif\" font-size=\"14.00\">value = 2.5</text>\n",
       "</g>\n",
       "<!-- 40&#45;&gt;41 -->\n",
       "<g id=\"edge41\" class=\"edge\">\n",
       "<title>40&#45;&gt;41</title>\n",
       "<path fill=\"none\" stroke=\"black\" d=\"M1938.97,-192.88C1923.71,-181.01 1906.56,-167.65 1891.44,-155.88\"/>\n",
       "<polygon fill=\"black\" stroke=\"black\" points=\"1893.32,-152.9 1883.28,-149.52 1889.02,-158.43 1893.32,-152.9\"/>\n",
       "</g>\n",
       "<!-- 42 -->\n",
       "<g id=\"node43\" class=\"node\">\n",
       "<title>42</title>\n",
       "<polygon fill=\"none\" stroke=\"black\" points=\"2111,-157 1944,-157 1944,-89 2111,-89 2111,-157\"/>\n",
       "<text text-anchor=\"middle\" x=\"2027.5\" y=\"-141.8\" font-family=\"Helvetica,sans-Serif\" font-size=\"14.00\">Cocoa_Percent &lt;= 1.694</text>\n",
       "<text text-anchor=\"middle\" x=\"2027.5\" y=\"-126.8\" font-family=\"Helvetica,sans-Serif\" font-size=\"14.00\">squared_error = 0.158</text>\n",
       "<text text-anchor=\"middle\" x=\"2027.5\" y=\"-111.8\" font-family=\"Helvetica,sans-Serif\" font-size=\"14.00\">samples = 44</text>\n",
       "<text text-anchor=\"middle\" x=\"2027.5\" y=\"-96.8\" font-family=\"Helvetica,sans-Serif\" font-size=\"14.00\">value = 3.006</text>\n",
       "</g>\n",
       "<!-- 40&#45;&gt;42 -->\n",
       "<g id=\"edge42\" class=\"edge\">\n",
       "<title>40&#45;&gt;42</title>\n",
       "<path fill=\"none\" stroke=\"black\" d=\"M1996.43,-192.88C2000.21,-184.51 2004.32,-175.4 2008.27,-166.63\"/>\n",
       "<polygon fill=\"black\" stroke=\"black\" points=\"2011.56,-167.85 2012.48,-157.3 2005.18,-164.98 2011.56,-167.85\"/>\n",
       "</g>\n",
       "<!-- 43 -->\n",
       "<g id=\"node44\" class=\"node\">\n",
       "<title>43</title>\n",
       "<polygon fill=\"none\" stroke=\"black\" points=\"2018,-53 1867,-53 1867,0 2018,0 2018,-53\"/>\n",
       "<text text-anchor=\"middle\" x=\"1942.5\" y=\"-37.8\" font-family=\"Helvetica,sans-Serif\" font-size=\"14.00\">squared_error = 0.199</text>\n",
       "<text text-anchor=\"middle\" x=\"1942.5\" y=\"-22.8\" font-family=\"Helvetica,sans-Serif\" font-size=\"14.00\">samples = 16</text>\n",
       "<text text-anchor=\"middle\" x=\"1942.5\" y=\"-7.8\" font-family=\"Helvetica,sans-Serif\" font-size=\"14.00\">value = 3.062</text>\n",
       "</g>\n",
       "<!-- 42&#45;&gt;43 -->\n",
       "<g id=\"edge43\" class=\"edge\">\n",
       "<title>42&#45;&gt;43</title>\n",
       "<path fill=\"none\" stroke=\"black\" d=\"M1997.77,-88.95C1989.54,-79.8 1980.61,-69.87 1972.37,-60.71\"/>\n",
       "<polygon fill=\"black\" stroke=\"black\" points=\"1974.94,-58.33 1965.65,-53.24 1969.73,-63.01 1974.94,-58.33\"/>\n",
       "</g>\n",
       "<!-- 44 -->\n",
       "<g id=\"node45\" class=\"node\">\n",
       "<title>44</title>\n",
       "<polygon fill=\"none\" stroke=\"black\" points=\"2187,-53 2036,-53 2036,0 2187,0 2187,-53\"/>\n",
       "<text text-anchor=\"middle\" x=\"2111.5\" y=\"-37.8\" font-family=\"Helvetica,sans-Serif\" font-size=\"14.00\">squared_error = 0.131</text>\n",
       "<text text-anchor=\"middle\" x=\"2111.5\" y=\"-22.8\" font-family=\"Helvetica,sans-Serif\" font-size=\"14.00\">samples = 28</text>\n",
       "<text text-anchor=\"middle\" x=\"2111.5\" y=\"-7.8\" font-family=\"Helvetica,sans-Serif\" font-size=\"14.00\">value = 2.973</text>\n",
       "</g>\n",
       "<!-- 42&#45;&gt;44 -->\n",
       "<g id=\"edge44\" class=\"edge\">\n",
       "<title>42&#45;&gt;44</title>\n",
       "<path fill=\"none\" stroke=\"black\" d=\"M2056.88,-88.95C2065.01,-79.8 2073.84,-69.87 2081.98,-60.71\"/>\n",
       "<polygon fill=\"black\" stroke=\"black\" points=\"2084.6,-63.04 2088.62,-53.24 2079.36,-58.39 2084.6,-63.04\"/>\n",
       "</g>\n",
       "<!-- 46 -->\n",
       "<g id=\"node47\" class=\"node\">\n",
       "<title>46</title>\n",
       "<polygon fill=\"none\" stroke=\"black\" points=\"2233.5,-253.5 2083.5,-253.5 2083.5,-200.5 2233.5,-200.5 2233.5,-253.5\"/>\n",
       "<text text-anchor=\"middle\" x=\"2158.5\" y=\"-238.3\" font-family=\"Helvetica,sans-Serif\" font-size=\"14.00\">squared_error = 0.118</text>\n",
       "<text text-anchor=\"middle\" x=\"2158.5\" y=\"-223.3\" font-family=\"Helvetica,sans-Serif\" font-size=\"14.00\">samples = 6</text>\n",
       "<text text-anchor=\"middle\" x=\"2158.5\" y=\"-208.3\" font-family=\"Helvetica,sans-Serif\" font-size=\"14.00\">value = 3.333</text>\n",
       "</g>\n",
       "<!-- 45&#45;&gt;46 -->\n",
       "<g id=\"edge46\" class=\"edge\">\n",
       "<title>45&#45;&gt;46</title>\n",
       "<path fill=\"none\" stroke=\"black\" d=\"M2158.5,-296.88C2158.5,-286.33 2158.5,-274.6 2158.5,-263.85\"/>\n",
       "<polygon fill=\"black\" stroke=\"black\" points=\"2162,-263.52 2158.5,-253.52 2155,-263.52 2162,-263.52\"/>\n",
       "</g>\n",
       "<!-- 47 -->\n",
       "<g id=\"node48\" class=\"node\">\n",
       "<title>47</title>\n",
       "<polygon fill=\"none\" stroke=\"black\" points=\"2419,-261 2252,-261 2252,-193 2419,-193 2419,-261\"/>\n",
       "<text text-anchor=\"middle\" x=\"2335.5\" y=\"-245.8\" font-family=\"Helvetica,sans-Serif\" font-size=\"14.00\">Cocoa_Percent &lt;= 2.955</text>\n",
       "<text text-anchor=\"middle\" x=\"2335.5\" y=\"-230.8\" font-family=\"Helvetica,sans-Serif\" font-size=\"14.00\">squared_error = 0.21</text>\n",
       "<text text-anchor=\"middle\" x=\"2335.5\" y=\"-215.8\" font-family=\"Helvetica,sans-Serif\" font-size=\"14.00\">samples = 10</text>\n",
       "<text text-anchor=\"middle\" x=\"2335.5\" y=\"-200.8\" font-family=\"Helvetica,sans-Serif\" font-size=\"14.00\">value = 2.95</text>\n",
       "</g>\n",
       "<!-- 45&#45;&gt;47 -->\n",
       "<g id=\"edge47\" class=\"edge\">\n",
       "<title>45&#45;&gt;47</title>\n",
       "<path fill=\"none\" stroke=\"black\" d=\"M2215.97,-296.88C2232.9,-287.12 2251.57,-276.37 2269.02,-266.31\"/>\n",
       "<polygon fill=\"black\" stroke=\"black\" points=\"2271.1,-269.15 2278.02,-261.12 2267.61,-263.09 2271.1,-269.15\"/>\n",
       "</g>\n",
       "<!-- 48 -->\n",
       "<g id=\"node49\" class=\"node\">\n",
       "<title>48</title>\n",
       "<polygon fill=\"none\" stroke=\"black\" points=\"2326,-149.5 2175,-149.5 2175,-96.5 2326,-96.5 2326,-149.5\"/>\n",
       "<text text-anchor=\"middle\" x=\"2250.5\" y=\"-134.3\" font-family=\"Helvetica,sans-Serif\" font-size=\"14.00\">squared_error = 0.249</text>\n",
       "<text text-anchor=\"middle\" x=\"2250.5\" y=\"-119.3\" font-family=\"Helvetica,sans-Serif\" font-size=\"14.00\">samples = 8</text>\n",
       "<text text-anchor=\"middle\" x=\"2250.5\" y=\"-104.3\" font-family=\"Helvetica,sans-Serif\" font-size=\"14.00\">value = 2.906</text>\n",
       "</g>\n",
       "<!-- 47&#45;&gt;48 -->\n",
       "<g id=\"edge48\" class=\"edge\">\n",
       "<title>47&#45;&gt;48</title>\n",
       "<path fill=\"none\" stroke=\"black\" d=\"M2307.9,-192.88C2298.46,-181.56 2287.9,-168.88 2278.43,-157.52\"/>\n",
       "<polygon fill=\"black\" stroke=\"black\" points=\"2280.86,-154.96 2271.77,-149.52 2275.48,-159.44 2280.86,-154.96\"/>\n",
       "</g>\n",
       "<!-- 49 -->\n",
       "<g id=\"node50\" class=\"node\">\n",
       "<title>49</title>\n",
       "<polygon fill=\"none\" stroke=\"black\" points=\"2495,-149.5 2344,-149.5 2344,-96.5 2495,-96.5 2495,-149.5\"/>\n",
       "<text text-anchor=\"middle\" x=\"2419.5\" y=\"-134.3\" font-family=\"Helvetica,sans-Serif\" font-size=\"14.00\">squared_error = 0.016</text>\n",
       "<text text-anchor=\"middle\" x=\"2419.5\" y=\"-119.3\" font-family=\"Helvetica,sans-Serif\" font-size=\"14.00\">samples = 2</text>\n",
       "<text text-anchor=\"middle\" x=\"2419.5\" y=\"-104.3\" font-family=\"Helvetica,sans-Serif\" font-size=\"14.00\">value = 3.125</text>\n",
       "</g>\n",
       "<!-- 47&#45;&gt;49 -->\n",
       "<g id=\"edge49\" class=\"edge\">\n",
       "<title>47&#45;&gt;49</title>\n",
       "<path fill=\"none\" stroke=\"black\" d=\"M2362.77,-192.88C2372.1,-181.56 2382.54,-168.88 2391.89,-157.52\"/>\n",
       "<polygon fill=\"black\" stroke=\"black\" points=\"2394.83,-159.46 2398.48,-149.52 2389.42,-155.01 2394.83,-159.46\"/>\n",
       "</g>\n",
       "</g>\n",
       "</svg>\n"
      ],
      "text/plain": [
       "<graphviz.sources.Source at 0x1d783a53fd0>"
      ]
     },
     "execution_count": 36,
     "metadata": {},
     "output_type": "execute_result"
    },
    {
     "data": {
      "text/plain": [
       "<Figure size 360x144 with 0 Axes>"
      ]
     },
     "metadata": {},
     "output_type": "display_data"
    }
   ],
   "source": [
    "import graphviz \n",
    "import sklearn\n",
    "\n",
    "plt.figure(figsize=(5,2))\n",
    "dt = DecisionTreeRegressor(criterion='squared_error',max_depth=7,min_samples_leaf=2).fit(x_train,y_train)\n",
    "dot_data = sklearn.tree.export_graphviz(dt,feature_names = x.columns.tolist())\n",
    "graph = graphviz.Source(dot_data)\n",
    "graph "
   ]
  },
  {
   "cell_type": "markdown",
   "id": "bb1b2f7c",
   "metadata": {},
   "source": [
    "The above is decision tree based on GridSearch parameters"
   ]
  },
  {
   "cell_type": "markdown",
   "id": "b1d14f24",
   "metadata": {},
   "source": [
    "# RandomForestRegressor"
   ]
  },
  {
   "cell_type": "code",
   "execution_count": 37,
   "id": "4389268f",
   "metadata": {},
   "outputs": [
    {
     "name": "stdout",
     "output_type": "stream",
     "text": [
      "Test Data r2-score using RandomForest: 0.06732197921050964 \n",
      "RMSE for Test using RandomForest: 0.462710654472875 \n",
      "Train Data r2-score using RandomForest: 0.11530350249516419\n"
     ]
    }
   ],
   "source": [
    "from sklearn.ensemble import RandomForestRegressor\n",
    "\n",
    "clf = RandomForestRegressor(criterion='squared_error', random_state=0, min_samples_leaf=4, max_depth=7)\n",
    "clf.fit(x_train,y_train) # Fitting random forest model to train \n",
    "clf_yhat_test = clf.predict(x_test)\n",
    "\n",
    "# Accuracy of test data using RandomForest\n",
    "clf_test_r2 = r2_score(y_test, clf_yhat_test)\n",
    "print(f'Test Data r2-score using RandomForest: {clf_test_r2} ' ) \n",
    "clf_test_rmse = np.sqrt(mean_squared_error(y_test, clf_yhat_test))\n",
    "print(f'RMSE for Test using RandomForest: {clf_test_rmse} ' ) \n",
    "\n",
    "# Accuracy of train data using RandomForest\n",
    "clf_yhat_train = clf.predict(x_train)\n",
    "clf_train_r2 = r2_score(y_train, clf_yhat_train)\n",
    "print(f'Train Data r2-score using RandomForest: {clf_train_r2}' ) \n"
   ]
  },
  {
   "cell_type": "markdown",
   "id": "9b90156c",
   "metadata": {},
   "source": [
    "# Bagging "
   ]
  },
  {
   "cell_type": "code",
   "execution_count": 38,
   "id": "6f375427",
   "metadata": {},
   "outputs": [
    {
     "name": "stdout",
     "output_type": "stream",
     "text": [
      "Test Data r2-score using RandomForest: 0.05850415417084465 \n",
      "RMSE for Test using RandomForest: 0.4648928133689291 \n",
      "Train Data r2-score using RandomForest: 0.11792601226488819\n"
     ]
    }
   ],
   "source": [
    "from sklearn.ensemble import BaggingRegressor\n",
    "from sklearn.neighbors import KNeighborsRegressor\n",
    "\n",
    "knn = KNeighborsRegressor(n_neighbors=5)\n",
    "bg_model = BaggingRegressor(base_estimator=knn, n_estimators=100, n_jobs=-1,random_state=123)\n",
    "bg_model.fit(x_train,y_train)\n",
    "bg_test_pred = bg_model.predict(x_test)\n",
    "\n",
    "bg_test_r2 = r2_score(y_test, bg_test_pred)\n",
    "print(f'Test Data r2-score using RandomForest: {bg_test_r2} ' ) \n",
    "bg_test_rmse = np.sqrt(mean_squared_error(y_test, bg_test_pred))\n",
    "print(f'RMSE for Test using RandomForest: {bg_test_rmse} ' ) \n",
    "\n",
    "# Accuracy of train data using RandomForest\n",
    "bg_train_pred = bg_model.predict(x_train)\n",
    "bg_train_r2 = r2_score(y_train, bg_train_pred)\n",
    "print(f'Train Data r2-score using RandomForest: {bg_train_r2}' )"
   ]
  },
  {
   "cell_type": "markdown",
   "id": "c11975fe",
   "metadata": {},
   "source": [
    "# AdaBoost"
   ]
  },
  {
   "cell_type": "code",
   "execution_count": 39,
   "id": "249e8604",
   "metadata": {},
   "outputs": [
    {
     "name": "stdout",
     "output_type": "stream",
     "text": [
      "Test Data r2-score using AdaBoost: 0.021564188840175857 \n",
      "RMSE for Test using AdaBoost: 0.4739251960325169 \n",
      "Train Data r2-score using AdaBoost: 0.061751203189976955\n"
     ]
    }
   ],
   "source": [
    "from sklearn.ensemble import AdaBoostRegressor\n",
    "# from sklearn.neighbors import KNeighborsClassifier\n",
    "\n",
    "# knn = KNeighborsRegressor(n_neighbors=5)\n",
    "ada_model = AdaBoostRegressor(learning_rate=0.02, n_estimators=1000)\n",
    "ada_model.fit(x_train,y_train)\n",
    "ada_test_pred = ada_model.predict(x_test)\n",
    "\n",
    "ada_test_r2 = r2_score(y_test, ada_test_pred)\n",
    "print(f'Test Data r2-score using AdaBoost: {ada_test_r2} ' ) \n",
    "ada_test_rmse = np.sqrt(mean_squared_error(y_test, ada_test_pred))\n",
    "print(f'RMSE for Test using AdaBoost: {ada_test_rmse} ' ) \n",
    "\n",
    "# Accuracy of train data using RandomForest\n",
    "ada_train_pred = ada_model.predict(x_train)\n",
    "ada_train_r2 = r2_score(y_train, ada_train_pred)\n",
    "print(f'Train Data r2-score using AdaBoost: {ada_train_r2}' )"
   ]
  },
  {
   "cell_type": "markdown",
   "id": "ca22c8be",
   "metadata": {},
   "source": [
    "# Gradient Boosting"
   ]
  },
  {
   "cell_type": "code",
   "execution_count": 40,
   "id": "006874d3",
   "metadata": {},
   "outputs": [
    {
     "name": "stdout",
     "output_type": "stream",
     "text": [
      "Test Data r2-score using Gradient Boosting: 0.021564188840175857 \n",
      "RMSE for Test using Gradient Boosting: 0.4739251960325169 \n",
      "Train Data r2-score using Gradient Boosting: 0.0998158093160183\n"
     ]
    }
   ],
   "source": [
    "from sklearn.ensemble import GradientBoostingRegressor\n",
    "# from sklearn.neighbors import KNeighborsClassifier\n",
    "\n",
    "# knn = KNeighborsClassifier(n_neighbors=5)\n",
    "gbc_model = GradientBoostingRegressor(learning_rate=0.02, n_estimators=100)\n",
    "gbc_model.fit(x_train,y_train)\n",
    "gbc_test_pred = ada_model.predict(x_test)\n",
    "\n",
    "gbc_test_r2 = r2_score(y_test, gbc_test_pred)\n",
    "print(f'Test Data r2-score using Gradient Boosting: {gbc_test_r2} ' ) \n",
    "gbc_test_rmse = np.sqrt(mean_squared_error(y_test, gbc_test_pred))\n",
    "print(f'RMSE for Test using Gradient Boosting: {gbc_test_rmse} ' ) \n",
    "\n",
    "# Accuracy of train data using RandomForest\n",
    "gbc_train_pred = gbc_model.predict(x_train)\n",
    "gbc_train_r2 = r2_score(y_train, gbc_train_pred)\n",
    "print(f'Train Data r2-score using Gradient Boosting: {gbc_train_r2}' )"
   ]
  },
  {
   "cell_type": "markdown",
   "id": "6ae11b49",
   "metadata": {},
   "source": [
    "# XGBoost"
   ]
  },
  {
   "cell_type": "code",
   "execution_count": 41,
   "id": "5449bc85",
   "metadata": {},
   "outputs": [
    {
     "name": "stdout",
     "output_type": "stream",
     "text": [
      "Test Data r2-score using XGBoost: -30.201207720562106 \n",
      "RMSE for Test using XGBoost: 2.6762663341395725 \n",
      "Train Data r2-score using XGBoost: -30.38399085926405\n"
     ]
    }
   ],
   "source": [
    "import xgboost\n",
    "# from sklearn.neighbors import KNeighborsClassifier\n",
    "\n",
    "# knn = KNeighborsClassifier(n_neighbors=5)\n",
    "xgb_model = xgboost.XGBRFRegressor(n_estimators = 5000, learning_rate = 0.02, n_jobs = -1)\n",
    "xgb_model.fit(x_train,y_train)\n",
    "xgb_test_pred = xgb_model.predict(x_test)\n",
    "\n",
    "xgb_test_r2 = r2_score(y_test, xgb_test_pred)\n",
    "print(f'Test Data r2-score using XGBoost: {xgb_test_r2} ' ) \n",
    "xgb_test_rmse = np.sqrt(mean_squared_error(y_test, xgb_test_pred))\n",
    "print(f'RMSE for Test using XGBoost: {xgb_test_rmse} ' ) \n",
    "\n",
    "# Accuracy of train data using RandomForest\n",
    "xgb_train_pred = xgb_model.predict(x_train)\n",
    "xgb_train_r2 = r2_score(y_train, xgb_train_pred)\n",
    "print(f'Train Data r2-score using XGBoost: {xgb_train_r2}' )"
   ]
  },
  {
   "cell_type": "markdown",
   "id": "68076b4b",
   "metadata": {},
   "source": [
    "# Stacking"
   ]
  },
  {
   "cell_type": "code",
   "execution_count": 42,
   "id": "14683b05",
   "metadata": {},
   "outputs": [
    {
     "name": "stdout",
     "output_type": "stream",
     "text": [
      "Test Data r2-score using Stacking: 0.05850415417084465 \n",
      "RMSE for Test using Stacking: 0.46496804496741273 \n",
      "Train Data r2-score using Stacking: 0.10058858736391763\n"
     ]
    }
   ],
   "source": [
    "from sklearn.ensemble import StackingRegressor\n",
    "\n",
    "from sklearn.neighbors import KNeighborsRegressor\n",
    "from sklearn.linear_model import LinearRegression,Ridge\n",
    "from sklearn.tree import DecisionTreeRegressor\n",
    "\n",
    "knn = KNeighborsRegressor(n_neighbors=5)\n",
    "rr = Ridge()\n",
    "dtc = DecisionTreeRegressor(max_depth=4)\n",
    "base_learners = [('knn',knn),('rr',rr),('dtc',dtc)]\n",
    "\n",
    "stack_model = StackingRegressor(estimators=base_learners,final_estimator=LinearRegression(),cv = 3,n_jobs=-1)\n",
    "stack_model.fit(x_train,y_train)\n",
    "stack_test_pred = stack_model.predict(x_test)\n",
    "\n",
    "stack_test_r2 = r2_score(y_test, bg_test_pred)\n",
    "print(f'Test Data r2-score using Stacking: {stack_test_r2} ' ) \n",
    "stack_test_rmse = np.sqrt(mean_squared_error(y_test, stack_test_pred))\n",
    "print(f'RMSE for Test using Stacking: {stack_test_rmse} ' ) \n",
    "\n",
    "# Accuracy of train data using RandomForest\n",
    "stack_train_pred = stack_model.predict(x_train)\n",
    "stack_train_r2 = r2_score(y_train, stack_train_pred)\n",
    "print(f'Train Data r2-score using Stacking: {stack_train_r2}' )"
   ]
  },
  {
   "cell_type": "markdown",
   "id": "ae734a45",
   "metadata": {},
   "source": [
    "# Voting"
   ]
  },
  {
   "cell_type": "code",
   "execution_count": 43,
   "id": "9330abc9",
   "metadata": {},
   "outputs": [
    {
     "name": "stdout",
     "output_type": "stream",
     "text": [
      "Test Data r2-score using Voting: 0.04693440606543098 \n",
      "RMSE for Test using Voting: 0.46774055255953806 \n",
      "Train Data r2-score using Voting: 0.07667210689627779\n"
     ]
    }
   ],
   "source": [
    "from sklearn.ensemble import VotingRegressor\n",
    "\n",
    "from sklearn.neighbors import KNeighborsRegressor\n",
    "from sklearn.linear_model import LinearRegression,Ridge\n",
    "from sklearn.tree import DecisionTreeRegressor\n",
    "\n",
    "knn = KNeighborsRegressor(n_neighbors=5)\n",
    "rr = Ridge()\n",
    "dtc = DecisionTreeRegressor(max_depth=4)\n",
    "base_learners = [('knn',knn),('rr',rr),('dtc',dtc)]\n",
    "\n",
    "vote_model = VotingRegressor(estimators=base_learners,n_jobs=-1)\n",
    "vote_model.fit(x_train,y_train)\n",
    "vote_test_pred = vote_model.predict(x_test)\n",
    "\n",
    "vote_test_r2 = r2_score(y_test, vote_test_pred)\n",
    "print(f'Test Data r2-score using Voting: {vote_test_r2} ' ) \n",
    "vote_test_rmse = np.sqrt(mean_squared_error(y_test, vote_test_pred))\n",
    "print(f'RMSE for Test using Voting: {vote_test_rmse} ' ) \n",
    "\n",
    "# Accuracy of train data using RandomForest\n",
    "vote_train_pred = vote_model.predict(x_train)\n",
    "vote_train_r2 = r2_score(y_train, vote_train_pred)\n",
    "print(f'Train Data r2-score using Voting: {vote_train_r2}' )"
   ]
  },
  {
   "cell_type": "markdown",
   "id": "7c887502",
   "metadata": {},
   "source": [
    "# Conclusion"
   ]
  },
  {
   "cell_type": "code",
   "execution_count": 44,
   "id": "37f8e093",
   "metadata": {
    "scrolled": true
   },
   "outputs": [
    {
     "data": {
      "text/html": [
       "<div>\n",
       "<style scoped>\n",
       "    .dataframe tbody tr th:only-of-type {\n",
       "        vertical-align: middle;\n",
       "    }\n",
       "\n",
       "    .dataframe tbody tr th {\n",
       "        vertical-align: top;\n",
       "    }\n",
       "\n",
       "    .dataframe thead th {\n",
       "        text-align: right;\n",
       "    }\n",
       "</style>\n",
       "<table border=\"1\" class=\"dataframe\">\n",
       "  <thead>\n",
       "    <tr style=\"text-align: right;\">\n",
       "      <th></th>\n",
       "      <th>Model</th>\n",
       "      <th>Test R2 Score</th>\n",
       "      <th>Train R2 Score</th>\n",
       "      <th>Test RMSE</th>\n",
       "    </tr>\n",
       "  </thead>\n",
       "  <tbody>\n",
       "    <tr>\n",
       "      <th>0</th>\n",
       "      <td>Decision Tree</td>\n",
       "      <td>0.0221</td>\n",
       "      <td>0.1260</td>\n",
       "      <td>0.4738</td>\n",
       "    </tr>\n",
       "    <tr>\n",
       "      <th>1</th>\n",
       "      <td>GridSearch</td>\n",
       "      <td>0.0392</td>\n",
       "      <td>0.1188</td>\n",
       "      <td>0.4696</td>\n",
       "    </tr>\n",
       "    <tr>\n",
       "      <th>2</th>\n",
       "      <td>Random Forest</td>\n",
       "      <td>0.0673</td>\n",
       "      <td>0.1153</td>\n",
       "      <td>0.4627</td>\n",
       "    </tr>\n",
       "    <tr>\n",
       "      <th>3</th>\n",
       "      <td>Bagging</td>\n",
       "      <td>0.0585</td>\n",
       "      <td>0.1179</td>\n",
       "      <td>0.4649</td>\n",
       "    </tr>\n",
       "    <tr>\n",
       "      <th>4</th>\n",
       "      <td>AdaBoost</td>\n",
       "      <td>0.0216</td>\n",
       "      <td>0.0618</td>\n",
       "      <td>0.4739</td>\n",
       "    </tr>\n",
       "    <tr>\n",
       "      <th>5</th>\n",
       "      <td>Gradient Boosting</td>\n",
       "      <td>0.0216</td>\n",
       "      <td>0.0998</td>\n",
       "      <td>0.4739</td>\n",
       "    </tr>\n",
       "    <tr>\n",
       "      <th>6</th>\n",
       "      <td>XGBoost</td>\n",
       "      <td>-30.2012</td>\n",
       "      <td>-30.3840</td>\n",
       "      <td>2.6763</td>\n",
       "    </tr>\n",
       "    <tr>\n",
       "      <th>7</th>\n",
       "      <td>Stacking</td>\n",
       "      <td>0.0585</td>\n",
       "      <td>0.1006</td>\n",
       "      <td>0.4650</td>\n",
       "    </tr>\n",
       "    <tr>\n",
       "      <th>8</th>\n",
       "      <td>Voting</td>\n",
       "      <td>0.0469</td>\n",
       "      <td>0.0767</td>\n",
       "      <td>0.4677</td>\n",
       "    </tr>\n",
       "  </tbody>\n",
       "</table>\n",
       "</div>"
      ],
      "text/plain": [
       "               Model  Test R2 Score  Train R2 Score  Test RMSE\n",
       "0      Decision Tree         0.0221          0.1260     0.4738\n",
       "1         GridSearch         0.0392          0.1188     0.4696\n",
       "2      Random Forest         0.0673          0.1153     0.4627\n",
       "3            Bagging         0.0585          0.1179     0.4649\n",
       "4           AdaBoost         0.0216          0.0618     0.4739\n",
       "5  Gradient Boosting         0.0216          0.0998     0.4739\n",
       "6            XGBoost       -30.2012        -30.3840     2.6763\n",
       "7           Stacking         0.0585          0.1006     0.4650\n",
       "8             Voting         0.0469          0.0767     0.4677"
      ]
     },
     "execution_count": 44,
     "metadata": {},
     "output_type": "execute_result"
    }
   ],
   "source": [
    "Models_Report = pd.DataFrame([])\n",
    "\n",
    "Models_Report['Model']  =  ['Decision Tree','GridSearch', 'Random Forest','Bagging','AdaBoost','Gradient Boosting',\n",
    "                         'XGBoost','Stacking','Voting']\n",
    "\n",
    "Models_Report['Test R2 Score'] = np.round([test_r2, grid_test_r2, clf_test_r2, bg_test_r2, ada_test_r2,\n",
    "                            gbc_test_r2, xgb_test_r2, stack_test_r2, vote_test_r2],4)\n",
    "\n",
    "Models_Report['Train R2 Score'] = np.round([train_r2, grid_train_r2, clf_train_r2, bg_train_r2, ada_train_r2,\n",
    "                            gbc_train_r2, xgb_train_r2, stack_train_r2, vote_train_r2],4)\n",
    "\n",
    "Models_Report['Test RMSE'] = np.round([dtc_test_mse, grid_test_rmse, clf_test_rmse, bg_test_rmse, ada_test_rmse, \n",
    "                            gbc_test_rmse, xgb_test_rmse, stack_test_rmse, vote_test_rmse],4)\n",
    "\n",
    "Models_Report"
   ]
  },
  {
   "cell_type": "code",
   "execution_count": null,
   "id": "90440f6e",
   "metadata": {},
   "outputs": [],
   "source": []
  }
 ],
 "metadata": {
  "kernelspec": {
   "display_name": "Python 3 (ipykernel)",
   "language": "python",
   "name": "python3"
  },
  "language_info": {
   "codemirror_mode": {
    "name": "ipython",
    "version": 3
   },
   "file_extension": ".py",
   "mimetype": "text/x-python",
   "name": "python",
   "nbconvert_exporter": "python",
   "pygments_lexer": "ipython3",
   "version": "3.9.12"
  }
 },
 "nbformat": 4,
 "nbformat_minor": 5
}
