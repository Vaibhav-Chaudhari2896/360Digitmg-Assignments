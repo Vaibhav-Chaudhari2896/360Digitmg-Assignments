{
 "cells": [
  {
   "cell_type": "code",
   "execution_count": 1,
   "id": "f59f37f3",
   "metadata": {},
   "outputs": [],
   "source": [
    "# Importing libraries\n",
    "\n",
    "import pandas as pd\n",
    "import numpy as np\n",
    "import matplotlib.pyplot as plt\n",
    "import seaborn as sns\n",
    "from sklearn.metrics import confusion_matrix,accuracy_score,f1_score\n",
    "%matplotlib inline"
   ]
  },
  {
   "cell_type": "code",
   "execution_count": 2,
   "id": "2ccce6ba",
   "metadata": {},
   "outputs": [],
   "source": [
    "# importing dataset\n",
    "dataset = pd.read_csv('C:/Users/vaibh/Desktop/360 Digitmg/Ensemble/Assignment/Diabeted_Ensemble.csv')"
   ]
  },
  {
   "cell_type": "code",
   "execution_count": 3,
   "id": "69d1c523",
   "metadata": {
    "scrolled": true
   },
   "outputs": [
    {
     "data": {
      "text/html": [
       "<div>\n",
       "<style scoped>\n",
       "    .dataframe tbody tr th:only-of-type {\n",
       "        vertical-align: middle;\n",
       "    }\n",
       "\n",
       "    .dataframe tbody tr th {\n",
       "        vertical-align: top;\n",
       "    }\n",
       "\n",
       "    .dataframe thead th {\n",
       "        text-align: right;\n",
       "    }\n",
       "</style>\n",
       "<table border=\"1\" class=\"dataframe\">\n",
       "  <thead>\n",
       "    <tr style=\"text-align: right;\">\n",
       "      <th></th>\n",
       "      <th>Number of times pregnant</th>\n",
       "      <th>Plasma glucose concentration</th>\n",
       "      <th>Diastolic blood pressure</th>\n",
       "      <th>Triceps skin fold thickness</th>\n",
       "      <th>2-Hour serum insulin</th>\n",
       "      <th>Body mass index</th>\n",
       "      <th>Diabetes pedigree function</th>\n",
       "      <th>Age (years)</th>\n",
       "      <th>Class variable</th>\n",
       "    </tr>\n",
       "  </thead>\n",
       "  <tbody>\n",
       "    <tr>\n",
       "      <th>0</th>\n",
       "      <td>6</td>\n",
       "      <td>148</td>\n",
       "      <td>72</td>\n",
       "      <td>35</td>\n",
       "      <td>0</td>\n",
       "      <td>33.6</td>\n",
       "      <td>0.627</td>\n",
       "      <td>50</td>\n",
       "      <td>YES</td>\n",
       "    </tr>\n",
       "    <tr>\n",
       "      <th>1</th>\n",
       "      <td>1</td>\n",
       "      <td>85</td>\n",
       "      <td>66</td>\n",
       "      <td>29</td>\n",
       "      <td>0</td>\n",
       "      <td>26.6</td>\n",
       "      <td>0.351</td>\n",
       "      <td>31</td>\n",
       "      <td>NO</td>\n",
       "    </tr>\n",
       "    <tr>\n",
       "      <th>2</th>\n",
       "      <td>8</td>\n",
       "      <td>183</td>\n",
       "      <td>64</td>\n",
       "      <td>0</td>\n",
       "      <td>0</td>\n",
       "      <td>23.3</td>\n",
       "      <td>0.672</td>\n",
       "      <td>32</td>\n",
       "      <td>YES</td>\n",
       "    </tr>\n",
       "    <tr>\n",
       "      <th>3</th>\n",
       "      <td>1</td>\n",
       "      <td>89</td>\n",
       "      <td>66</td>\n",
       "      <td>23</td>\n",
       "      <td>94</td>\n",
       "      <td>28.1</td>\n",
       "      <td>0.167</td>\n",
       "      <td>21</td>\n",
       "      <td>NO</td>\n",
       "    </tr>\n",
       "    <tr>\n",
       "      <th>4</th>\n",
       "      <td>0</td>\n",
       "      <td>137</td>\n",
       "      <td>40</td>\n",
       "      <td>35</td>\n",
       "      <td>168</td>\n",
       "      <td>43.1</td>\n",
       "      <td>2.288</td>\n",
       "      <td>33</td>\n",
       "      <td>YES</td>\n",
       "    </tr>\n",
       "  </tbody>\n",
       "</table>\n",
       "</div>"
      ],
      "text/plain": [
       "    Number of times pregnant   Plasma glucose concentration  \\\n",
       "0                          6                            148   \n",
       "1                          1                             85   \n",
       "2                          8                            183   \n",
       "3                          1                             89   \n",
       "4                          0                            137   \n",
       "\n",
       "    Diastolic blood pressure   Triceps skin fold thickness  \\\n",
       "0                         72                            35   \n",
       "1                         66                            29   \n",
       "2                         64                             0   \n",
       "3                         66                            23   \n",
       "4                         40                            35   \n",
       "\n",
       "    2-Hour serum insulin   Body mass index   Diabetes pedigree function  \\\n",
       "0                      0              33.6                        0.627   \n",
       "1                      0              26.6                        0.351   \n",
       "2                      0              23.3                        0.672   \n",
       "3                     94              28.1                        0.167   \n",
       "4                    168              43.1                        2.288   \n",
       "\n",
       "    Age (years)  Class variable  \n",
       "0            50             YES  \n",
       "1            31              NO  \n",
       "2            32             YES  \n",
       "3            21              NO  \n",
       "4            33             YES  "
      ]
     },
     "execution_count": 3,
     "metadata": {},
     "output_type": "execute_result"
    }
   ],
   "source": [
    "# Checing rows and columns in the dataset\n",
    "dataset.head()"
   ]
  },
  {
   "cell_type": "code",
   "execution_count": 4,
   "id": "3aa34925",
   "metadata": {},
   "outputs": [
    {
     "data": {
      "text/plain": [
       "(768, 9)"
      ]
     },
     "execution_count": 4,
     "metadata": {},
     "output_type": "execute_result"
    }
   ],
   "source": [
    "# Checking dmensions of the dataset\n",
    "dataset.shape"
   ]
  },
  {
   "cell_type": "code",
   "execution_count": 5,
   "id": "c9fad8e7",
   "metadata": {
    "scrolled": true
   },
   "outputs": [
    {
     "data": {
      "text/plain": [
       " Number of times pregnant        0\n",
       " Plasma glucose concentration    0\n",
       " Diastolic blood pressure        0\n",
       " Triceps skin fold thickness     0\n",
       " 2-Hour serum insulin            0\n",
       " Body mass index                 0\n",
       " Diabetes pedigree function      0\n",
       " Age (years)                     0\n",
       " Class variable                  0\n",
       "dtype: int64"
      ]
     },
     "execution_count": 5,
     "metadata": {},
     "output_type": "execute_result"
    }
   ],
   "source": [
    "# Checking for null values\n",
    "dataset.isnull().sum()"
   ]
  },
  {
   "cell_type": "markdown",
   "id": "ea1dfb9a",
   "metadata": {},
   "source": [
    "There are no null values"
   ]
  },
  {
   "cell_type": "code",
   "execution_count": 6,
   "id": "cfb38e4d",
   "metadata": {
    "scrolled": true
   },
   "outputs": [
    {
     "data": {
      "text/plain": [
       "0"
      ]
     },
     "execution_count": 6,
     "metadata": {},
     "output_type": "execute_result"
    }
   ],
   "source": [
    "# Checking for duplicate values\n",
    "dataset.duplicated().sum()"
   ]
  },
  {
   "cell_type": "markdown",
   "id": "58783c52",
   "metadata": {},
   "source": [
    "There are no duplicated values"
   ]
  },
  {
   "cell_type": "code",
   "execution_count": 7,
   "id": "5533d521",
   "metadata": {
    "scrolled": false
   },
   "outputs": [
    {
     "name": "stdout",
     "output_type": "stream",
     "text": [
      "<class 'pandas.core.frame.DataFrame'>\n",
      "RangeIndex: 768 entries, 0 to 767\n",
      "Data columns (total 9 columns):\n",
      " #   Column                         Non-Null Count  Dtype  \n",
      "---  ------                         --------------  -----  \n",
      " 0    Number of times pregnant      768 non-null    int64  \n",
      " 1    Plasma glucose concentration  768 non-null    int64  \n",
      " 2    Diastolic blood pressure      768 non-null    int64  \n",
      " 3    Triceps skin fold thickness   768 non-null    int64  \n",
      " 4    2-Hour serum insulin          768 non-null    int64  \n",
      " 5    Body mass index               768 non-null    float64\n",
      " 6    Diabetes pedigree function    768 non-null    float64\n",
      " 7    Age (years)                   768 non-null    int64  \n",
      " 8    Class variable                768 non-null    object \n",
      "dtypes: float64(2), int64(6), object(1)\n",
      "memory usage: 54.1+ KB\n"
     ]
    }
   ],
   "source": [
    "# Checking datatypes of the features\n",
    "dataset.info()"
   ]
  },
  {
   "cell_type": "code",
   "execution_count": 8,
   "id": "3ebca068",
   "metadata": {
    "scrolled": true
   },
   "outputs": [
    {
     "data": {
      "text/html": [
       "<div>\n",
       "<style scoped>\n",
       "    .dataframe tbody tr th:only-of-type {\n",
       "        vertical-align: middle;\n",
       "    }\n",
       "\n",
       "    .dataframe tbody tr th {\n",
       "        vertical-align: top;\n",
       "    }\n",
       "\n",
       "    .dataframe thead th {\n",
       "        text-align: right;\n",
       "    }\n",
       "</style>\n",
       "<table border=\"1\" class=\"dataframe\">\n",
       "  <thead>\n",
       "    <tr style=\"text-align: right;\">\n",
       "      <th></th>\n",
       "      <th>Number of times pregnant</th>\n",
       "      <th>Plasma glucose concentration</th>\n",
       "      <th>Diastolic blood pressure</th>\n",
       "      <th>Triceps skin fold thickness</th>\n",
       "      <th>2-Hour serum insulin</th>\n",
       "      <th>Body mass index</th>\n",
       "      <th>Diabetes pedigree function</th>\n",
       "      <th>Age (years)</th>\n",
       "    </tr>\n",
       "    <tr>\n",
       "      <th>Class variable</th>\n",
       "      <th></th>\n",
       "      <th></th>\n",
       "      <th></th>\n",
       "      <th></th>\n",
       "      <th></th>\n",
       "      <th></th>\n",
       "      <th></th>\n",
       "      <th></th>\n",
       "    </tr>\n",
       "  </thead>\n",
       "  <tbody>\n",
       "    <tr>\n",
       "      <th>NO</th>\n",
       "      <td>3.298000</td>\n",
       "      <td>109.980000</td>\n",
       "      <td>68.184000</td>\n",
       "      <td>19.664000</td>\n",
       "      <td>68.792000</td>\n",
       "      <td>30.304200</td>\n",
       "      <td>0.429734</td>\n",
       "      <td>31.190000</td>\n",
       "    </tr>\n",
       "    <tr>\n",
       "      <th>YES</th>\n",
       "      <td>4.865672</td>\n",
       "      <td>141.257463</td>\n",
       "      <td>70.824627</td>\n",
       "      <td>22.164179</td>\n",
       "      <td>100.335821</td>\n",
       "      <td>35.142537</td>\n",
       "      <td>0.550500</td>\n",
       "      <td>37.067164</td>\n",
       "    </tr>\n",
       "  </tbody>\n",
       "</table>\n",
       "</div>"
      ],
      "text/plain": [
       "                  Number of times pregnant   Plasma glucose concentration  \\\n",
       " Class variable                                                             \n",
       "NO                                3.298000                     109.980000   \n",
       "YES                               4.865672                     141.257463   \n",
       "\n",
       "                  Diastolic blood pressure   Triceps skin fold thickness  \\\n",
       " Class variable                                                            \n",
       "NO                               68.184000                     19.664000   \n",
       "YES                              70.824627                     22.164179   \n",
       "\n",
       "                  2-Hour serum insulin   Body mass index  \\\n",
       " Class variable                                            \n",
       "NO                           68.792000         30.304200   \n",
       "YES                         100.335821         35.142537   \n",
       "\n",
       "                  Diabetes pedigree function   Age (years)  \n",
       " Class variable                                             \n",
       "NO                                  0.429734     31.190000  \n",
       "YES                                 0.550500     37.067164  "
      ]
     },
     "execution_count": 8,
     "metadata": {},
     "output_type": "execute_result"
    }
   ],
   "source": [
    "# Mean of dataset based on Sales \n",
    "dataset.groupby(dataset[' Class variable']).mean()"
   ]
  },
  {
   "cell_type": "code",
   "execution_count": 9,
   "id": "b5f78428",
   "metadata": {
    "scrolled": true
   },
   "outputs": [
    {
     "data": {
      "text/plain": [
       " Class variable\n",
       "NO     427\n",
       "YES    230\n",
       "Name:  Number of times pregnant, dtype: int64"
      ]
     },
     "execution_count": 9,
     "metadata": {},
     "output_type": "execute_result"
    }
   ],
   "source": [
    "(dataset[' Number of times pregnant'] != 0).groupby(dataset[' Class variable']).sum()"
   ]
  },
  {
   "cell_type": "markdown",
   "id": "6a3fa3d4",
   "metadata": {},
   "source": [
    "Average age of people with diabetes is 37 with higher BMI.\n",
    "Diabetes is less common in pregnant women.\n",
    "Higher Plasma gluscose concentration people have diabetes.\n",
    "2-hour serum insulin test shows higher value in case of diabetic people"
   ]
  },
  {
   "cell_type": "code",
   "execution_count": 10,
   "id": "02c30e08",
   "metadata": {
    "scrolled": true
   },
   "outputs": [
    {
     "name": "stdout",
     "output_type": "stream",
     "text": [
      "NO     500\n",
      "YES    268\n",
      "Name:  Class variable, dtype: int64\n"
     ]
    },
    {
     "data": {
      "image/png": "[encoded data removed]",
      "text/plain": [
       "<Figure size 432x288 with 1 Axes>"
      ]
     },
     "metadata": {
      "needs_background": "light"
     },
     "output_type": "display_data"
    }
   ],
   "source": [
    "# Countplot of Sales features\n",
    "sns.countplot(x = dataset[' Class variable'])\n",
    "print(dataset[' Class variable'].value_counts())"
   ]
  },
  {
   "cell_type": "markdown",
   "id": "fc37aeea",
   "metadata": {},
   "source": [
    "The dataset consists of majority of non-diabetic people."
   ]
  },
  {
   "cell_type": "code",
   "execution_count": 11,
   "id": "a2d8c8d7",
   "metadata": {},
   "outputs": [
    {
     "data": {
      "text/plain": [
       "<AxesSubplot:>"
      ]
     },
     "execution_count": 11,
     "metadata": {},
     "output_type": "execute_result"
    },
    {
     "data": {
      "image/png": "[encoded data removed]",
      "text/plain": [
       "<Figure size 432x288 with 2 Axes>"
      ]
     },
     "metadata": {
      "needs_background": "light"
     },
     "output_type": "display_data"
    }
   ],
   "source": [
    "# Correlation between features\n",
    "sns.heatmap(dataset.corr(),annot=True)"
   ]
  },
  {
   "cell_type": "markdown",
   "id": "e0d3dd8a",
   "metadata": {},
   "source": [
    "The features in the dataset are not highly correlated with each other"
   ]
  },
  {
   "cell_type": "code",
   "execution_count": 12,
   "id": "cbbf6459",
   "metadata": {
    "scrolled": false
   },
   "outputs": [
    {
     "data": {
      "image/png": "[encoded data removed]",
      "text/plain": [
       "<Figure size 1080x720 with 9 Axes>"
      ]
     },
     "metadata": {
      "needs_background": "light"
     },
     "output_type": "display_data"
    }
   ],
   "source": [
    "# Histogram for numerical data\n",
    "\n",
    "figure,axes = plt.subplots(3,3,figsize=(15,10))\n",
    "index = 0\n",
    "axes = axes.flatten()\n",
    "\n",
    "for i in dataset.columns[:-1]:\n",
    "    sns.histplot(data = dataset[i],kde = 1 ,ax=axes[index])\n",
    "    index +=1\n",
    "plt.tight_layout(h_pad=0.5, w_pad=0.5, pad=1)"
   ]
  },
  {
   "cell_type": "markdown",
   "id": "3a185abd",
   "metadata": {},
   "source": [
    "Most of the data seems to be right skewed."
   ]
  },
  {
   "cell_type": "code",
   "execution_count": 13,
   "id": "2d3ade44",
   "metadata": {
    "scrolled": false
   },
   "outputs": [
    {
     "data": {
      "image/png": "[encoded data removed]",
      "text/plain": [
       "<Figure size 1080x720 with 9 Axes>"
      ]
     },
     "metadata": {
      "needs_background": "light"
     },
     "output_type": "display_data"
    }
   ],
   "source": [
    "# Histogram for numerical data\n",
    "\n",
    "figure,axes = plt.subplots(3,3,figsize=(15,10))\n",
    "index = 0\n",
    "axes = axes.flatten()\n",
    "temp = dataset.columns[:-1]\n",
    "\n",
    "for i in temp:\n",
    "    sns.boxplot(y = dataset[i], ax=axes[index])\n",
    "    index +=1\n",
    "plt.tight_layout(h_pad=1, w_pad=1, pad=1)"
   ]
  },
  {
   "cell_type": "code",
   "execution_count": 14,
   "id": "1891cd00",
   "metadata": {},
   "outputs": [],
   "source": [
    "# Treating outliers\n",
    "\n",
    "# for col in dataset.columns[:-1]:\n",
    "#     IQR = dataset[col].quantile(0.75) - dataset[col].quantile(0.25)\n",
    "#     low_end = dataset[col].quantile(0.25) - (1.5*IQR)\n",
    "#     upper_end = dataset[col].quantile(0.75) + (1.5*IQR)\n",
    "#     dataset[col] = pd.DataFrame(np.where(dataset[col] > upper_end,upper_end, \n",
    "#                           np.where(dataset[col] < low_end,low_end,dataset[col])))"
   ]
  },
  {
   "cell_type": "code",
   "execution_count": 15,
   "id": "dd7e82d4",
   "metadata": {},
   "outputs": [],
   "source": [
    "# Converting categorical data to numerical data\n",
    "\n",
    "dataset[' Class variable'] = dataset[' Class variable'].map({'YES':1,'NO':0})"
   ]
  },
  {
   "cell_type": "code",
   "execution_count": 16,
   "id": "6c47aef3",
   "metadata": {},
   "outputs": [],
   "source": [
    "# Splitting into independent and dependent features\n",
    "x = dataset.iloc[:,1:]\n",
    "y = dataset[' Class variable']"
   ]
  },
  {
   "cell_type": "code",
   "execution_count": 17,
   "id": "f4d35b8b",
   "metadata": {},
   "outputs": [],
   "source": [
    "# Train-Test split\n",
    "from sklearn.model_selection import train_test_split\n",
    "x_train_o, x_test_o, y_train, y_test = train_test_split(x, y, test_size=0.3,stratify=y, random_state=123)"
   ]
  },
  {
   "cell_type": "code",
   "execution_count": 18,
   "id": "40d7a48e",
   "metadata": {},
   "outputs": [
    {
     "data": {
      "text/plain": [
       "((537, 8), (231, 8), (537,), (231,))"
      ]
     },
     "execution_count": 18,
     "metadata": {},
     "output_type": "execute_result"
    }
   ],
   "source": [
    "x_train_o.shape, x_test_o.shape, y_train.shape, y_test.shape"
   ]
  },
  {
   "cell_type": "code",
   "execution_count": 19,
   "id": "5a7ce82f",
   "metadata": {},
   "outputs": [],
   "source": [
    "# Feature Scaling\n",
    "\n",
    "from sklearn.preprocessing import StandardScaler\n",
    "scaler = StandardScaler()\n",
    "x_train = scaler.fit_transform(x_train_o)\n",
    "x_test = scaler.transform(x_test_o)"
   ]
  },
  {
   "cell_type": "markdown",
   "id": "226bdbc9",
   "metadata": {},
   "source": [
    "# Decision Tree Classifier"
   ]
  },
  {
   "cell_type": "code",
   "execution_count": 20,
   "id": "a850729f",
   "metadata": {},
   "outputs": [
    {
     "name": "stdout",
     "output_type": "stream",
     "text": [
      "Test Data Accuracy: 100.0 %\n",
      "DTC F1-Score for Test : 1.0\n",
      "Train Data Accuracy: 100.0 %\n"
     ]
    }
   ],
   "source": [
    "# Using Decision Tree\n",
    "\n",
    "from sklearn.tree import DecisionTreeClassifier\n",
    "\n",
    "dt = DecisionTreeClassifier(criterion='entropy')\n",
    "dt_train = dt.fit(x_train,y_train)  # fitting model to train data\n",
    "\n",
    "# Predicting results for test data\n",
    "yhat_test = dt.predict(x_test)\n",
    "\n",
    "# accuracy for test data\n",
    "from sklearn.metrics import accuracy_score\n",
    "test_acc = accuracy_score(y_test,yhat_test)\n",
    "print(f'Test Data Accuracy: {test_acc*100} %' ) \n",
    "dtc_test_f1 = f1_score(y_test,yhat_test)\n",
    "print(f'DTC F1-Score for Test : {dtc_test_f1}')\n",
    "\n",
    "# Predicting results for train data\n",
    "yhat_train = dt.predict(x_train)\n",
    "train_acc = accuracy_score(y_train,yhat_train)\n",
    "print(f'Train Data Accuracy: {train_acc*100} %')\n",
    "\n",
    "# Confusion matrix for train data\n",
    "# from sklearn.metrics import confusion_matrix\n",
    "# print(confusion_matrix(y_train,yhat_train))"
   ]
  },
  {
   "cell_type": "markdown",
   "id": "f6b09948",
   "metadata": {},
   "source": [
    "The model has been overfitted. \n",
    "Hyper parameter tuning will help with overfitting of the dataset"
   ]
  },
  {
   "cell_type": "markdown",
   "id": "3be6cb5e",
   "metadata": {},
   "source": [
    "# GridSearchCV"
   ]
  },
  {
   "cell_type": "code",
   "execution_count": 21,
   "id": "e0c3d620",
   "metadata": {},
   "outputs": [
    {
     "name": "stdout",
     "output_type": "stream",
     "text": [
      "Test Data Accuracy using GridSearch: 100.0 %\n",
      "GridSearch F1-Score for Test : 1.0\n",
      "Train Data Accuracy using GridSearch: 100.0 %\n"
     ]
    }
   ],
   "source": [
    "# Finding best parameters for the model\n",
    "\n",
    "from sklearn.model_selection import GridSearchCV\n",
    "dt = DecisionTreeClassifier(criterion = 'entropy',random_state=0)\n",
    "param_grid = {'min_samples_leaf': [1, 5, 10, 20], 'max_depth': [2, 4, 6, 8, 10],'max_features': ['sqrt']}\n",
    "\n",
    "grid_search = GridSearchCV(estimator = dt, param_grid = param_grid, scoring = 'accuracy', n_jobs = -1, cv = 5, \n",
    "                                refit=True, return_train_score=True)\n",
    "\n",
    "# Fitting GridSearch model \n",
    "grid_search.fit(x_train,y_train)\n",
    "# The best parameters for the model are given below\n",
    "grid_search.best_params_\n",
    "\n",
    "# Accuracy of test data using GridSearch\n",
    "grid_yhat_test = grid_search.best_estimator_.predict(x_test)\n",
    "grid_test_acc = accuracy_score(y_test,grid_yhat_test)\n",
    "print(f'Test Data Accuracy using GridSearch: {grid_test_acc*100} %' ) \n",
    "grid_test_f1 = f1_score(y_test, grid_yhat_test)\n",
    "print(f'GridSearch F1-Score for Test : {grid_test_f1}')\n",
    "\n",
    "# Accuracy of train data using GridSearch\n",
    "grid_yhat_train = grid_search.best_estimator_.predict(x_train)\n",
    "grid_train_acc = accuracy_score(y_train,grid_yhat_train)\n",
    "print(f'Train Data Accuracy using GridSearch: {grid_train_acc*100} %' )\n",
    "\n",
    "# Confusion matrix for test data using GridSearch\n",
    "# from sklearn.metrics import confusion_matrix\n",
    "# print(confusion_matrix(y_test,grid_yhat_test))"
   ]
  },
  {
   "cell_type": "code",
   "execution_count": 22,
   "id": "3d91abc0",
   "metadata": {
    "scrolled": false
   },
   "outputs": [
    {
     "data": {
      "image/svg+xml": [
       "<?xml version=\"1.0\" encoding=\"UTF-8\" standalone=\"no\"?>\n",
       "<!DOCTYPE svg PUBLIC \"-//W3C//DTD SVG 1.1//EN\"\n",
       " \"http://www.w3.org/Graphics/SVG/1.1/DTD/svg11.dtd\">\n",
       "<!-- Generated by graphviz version 2.50.0 (0)\n",
       " -->\n",
       "<!-- Title: Tree Pages: 1 -->\n",
       "<svg width=\"246pt\" height=\"165pt\"\n",
       " viewBox=\"0.00 0.00 246.00 165.00\" xmlns=\"http://www.w3.org/2000/svg\" xmlns:xlink=\"http://www.w3.org/1999/xlink\">\n",
       "<g id=\"graph0\" class=\"graph\" transform=\"scale(1 1) rotate(0) translate(4 161)\">\n",
       "<title>Tree</title>\n",
       "<polygon fill=\"white\" stroke=\"transparent\" points=\"-4,4 -4,-161 242,-161 242,4 -4,4\"/>\n",
       "<!-- 0 -->\n",
       "<g id=\"node1\" class=\"node\">\n",
       "<title>0</title>\n",
       "<polygon fill=\"none\" stroke=\"black\" points=\"200.5,-157 37.5,-157 37.5,-89 200.5,-89 200.5,-157\"/>\n",
       "<text text-anchor=\"middle\" x=\"119\" y=\"-141.8\" font-family=\"Helvetica,sans-Serif\" font-size=\"14.00\"> Class variable &lt;= 0.319</text>\n",
       "<text text-anchor=\"middle\" x=\"119\" y=\"-126.8\" font-family=\"Helvetica,sans-Serif\" font-size=\"14.00\">entropy = 0.932</text>\n",
       "<text text-anchor=\"middle\" x=\"119\" y=\"-111.8\" font-family=\"Helvetica,sans-Serif\" font-size=\"14.00\">samples = 537</text>\n",
       "<text text-anchor=\"middle\" x=\"119\" y=\"-96.8\" font-family=\"Helvetica,sans-Serif\" font-size=\"14.00\">value = [350, 187]</text>\n",
       "</g>\n",
       "<!-- 1 -->\n",
       "<g id=\"node2\" class=\"node\">\n",
       "<title>1</title>\n",
       "<polygon fill=\"none\" stroke=\"black\" points=\"110,-53 0,-53 0,0 110,0 110,-53\"/>\n",
       "<text text-anchor=\"middle\" x=\"55\" y=\"-37.8\" font-family=\"Helvetica,sans-Serif\" font-size=\"14.00\">entropy = 0.0</text>\n",
       "<text text-anchor=\"middle\" x=\"55\" y=\"-22.8\" font-family=\"Helvetica,sans-Serif\" font-size=\"14.00\">samples = 350</text>\n",
       "<text text-anchor=\"middle\" x=\"55\" y=\"-7.8\" font-family=\"Helvetica,sans-Serif\" font-size=\"14.00\">value = [350, 0]</text>\n",
       "</g>\n",
       "<!-- 0&#45;&gt;1 -->\n",
       "<g id=\"edge1\" class=\"edge\">\n",
       "<title>0&#45;&gt;1</title>\n",
       "<path fill=\"none\" stroke=\"black\" d=\"M96.62,-88.95C90.61,-80.07 84.1,-70.46 78.05,-61.54\"/>\n",
       "<polygon fill=\"black\" stroke=\"black\" points=\"80.94,-59.55 72.43,-53.24 75.14,-63.48 80.94,-59.55\"/>\n",
       "<text text-anchor=\"middle\" x=\"67.71\" y=\"-74.09\" font-family=\"Helvetica,sans-Serif\" font-size=\"14.00\">True</text>\n",
       "</g>\n",
       "<!-- 2 -->\n",
       "<g id=\"node3\" class=\"node\">\n",
       "<title>2</title>\n",
       "<polygon fill=\"none\" stroke=\"black\" points=\"238,-53 128,-53 128,0 238,0 238,-53\"/>\n",
       "<text text-anchor=\"middle\" x=\"183\" y=\"-37.8\" font-family=\"Helvetica,sans-Serif\" font-size=\"14.00\">entropy = 0.0</text>\n",
       "<text text-anchor=\"middle\" x=\"183\" y=\"-22.8\" font-family=\"Helvetica,sans-Serif\" font-size=\"14.00\">samples = 187</text>\n",
       "<text text-anchor=\"middle\" x=\"183\" y=\"-7.8\" font-family=\"Helvetica,sans-Serif\" font-size=\"14.00\">value = [0, 187]</text>\n",
       "</g>\n",
       "<!-- 0&#45;&gt;2 -->\n",
       "<g id=\"edge2\" class=\"edge\">\n",
       "<title>0&#45;&gt;2</title>\n",
       "<path fill=\"none\" stroke=\"black\" d=\"M141.38,-88.95C147.39,-80.07 153.9,-70.46 159.95,-61.54\"/>\n",
       "<polygon fill=\"black\" stroke=\"black\" points=\"162.86,-63.48 165.57,-53.24 157.06,-59.55 162.86,-63.48\"/>\n",
       "<text text-anchor=\"middle\" x=\"170.29\" y=\"-74.09\" font-family=\"Helvetica,sans-Serif\" font-size=\"14.00\">False</text>\n",
       "</g>\n",
       "</g>\n",
       "</svg>\n"
      ],
      "text/plain": [
       "<graphviz.sources.Source at 0x22b564dd6a0>"
      ]
     },
     "execution_count": 22,
     "metadata": {},
     "output_type": "execute_result"
    },
    {
     "data": {
      "text/plain": [
       "<Figure size 360x144 with 0 Axes>"
      ]
     },
     "metadata": {},
     "output_type": "display_data"
    }
   ],
   "source": [
    "import graphviz \n",
    "import sklearn\n",
    "\n",
    "plt.figure(figsize=(5,2))\n",
    "dt = DecisionTreeClassifier(criterion='entropy',max_depth=2,min_samples_leaf=1).fit(x_train,y_train)\n",
    "dot_data = sklearn.tree.export_graphviz(dt,feature_names = x.columns.tolist())\n",
    "graph = graphviz.Source(dot_data)\n",
    "graph "
   ]
  },
  {
   "cell_type": "markdown",
   "id": "bb1b2f7c",
   "metadata": {},
   "source": [
    "The above is decision tree based on GridSearch parameters"
   ]
  },
  {
   "cell_type": "markdown",
   "id": "b1d14f24",
   "metadata": {},
   "source": [
    "# RandomForestClassifier"
   ]
  },
  {
   "cell_type": "code",
   "execution_count": 23,
   "id": "4389268f",
   "metadata": {},
   "outputs": [
    {
     "name": "stdout",
     "output_type": "stream",
     "text": [
      "Test Data Accuracy using RandomForest: 100.0 %\n",
      "F1-Score for Test using RandomForest: 1.0 \n",
      "Train Data Accuracy using RandomForest: 100.0 %\n"
     ]
    }
   ],
   "source": [
    "from sklearn.ensemble import RandomForestClassifier\n",
    "\n",
    "clf = RandomForestClassifier(criterion='entropy', random_state=0, min_samples_leaf=5, max_depth=11)\n",
    "clf.fit(x_train,y_train) # Fitting random forest model to train \n",
    "clf_yhat_test = clf.predict(x_test)\n",
    "\n",
    "# Accuracy of test data using RandomForest\n",
    "clf_test_acc = accuracy_score(y_test, clf_yhat_test)\n",
    "print(f'Test Data Accuracy using RandomForest: {clf_test_acc*100} %' ) \n",
    "clf_test_f1 = f1_score(y_test, clf_yhat_test)\n",
    "print(f'F1-Score for Test using RandomForest: {clf_test_f1} ' ) \n",
    "\n",
    "# Accuracy of train data using RandomForest\n",
    "clf_yhat_train = clf.predict(x_train)\n",
    "clf_train_acc = accuracy_score(y_train, clf_yhat_train)\n",
    "print(f'Train Data Accuracy using RandomForest: {clf_train_acc*100} %' ) \n"
   ]
  },
  {
   "cell_type": "markdown",
   "id": "91487cb0",
   "metadata": {},
   "source": [
    "Using Random Forest we get a test accuracy of 100 %"
   ]
  },
  {
   "cell_type": "markdown",
   "id": "9b90156c",
   "metadata": {},
   "source": [
    "# Bagging "
   ]
  },
  {
   "cell_type": "code",
   "execution_count": 24,
   "id": "6f375427",
   "metadata": {},
   "outputs": [
    {
     "name": "stdout",
     "output_type": "stream",
     "text": [
      "Bagging Test Accuracy: 99.56709956709958 %\n",
      "Bagging F1-Score for Test : 0.9938650306748467\n",
      "Bagging Train Accuracy: 99.81378026070763 %\n"
     ]
    }
   ],
   "source": [
    "from sklearn.ensemble import BaggingClassifier\n",
    "from sklearn.neighbors import KNeighborsClassifier\n",
    "\n",
    "knn = KNeighborsClassifier(n_neighbors=5)\n",
    "bg_model = BaggingClassifier(base_estimator=knn, n_estimators=100, n_jobs=-1,random_state=123)\n",
    "bg_model.fit(x_train,y_train)\n",
    "bg_test_pred = bg_model.predict(x_test)\n",
    "\n",
    "bg_test_accuracy = accuracy_score(bg_test_pred, y_test)\n",
    "print(f'Bagging Test Accuracy: {bg_test_accuracy*100} %')\n",
    "bg_test_f1 = f1_score(y_test, bg_test_pred)\n",
    "print(f'Bagging F1-Score for Test : {bg_test_f1}') \n",
    "\n",
    "bg_train_pred = bg_model.predict(x_train)\n",
    "bg_train_accuracy = accuracy_score(bg_train_pred, y_train)\n",
    "print(f'Bagging Train Accuracy: {bg_train_accuracy*100} %')"
   ]
  },
  {
   "cell_type": "markdown",
   "id": "c11975fe",
   "metadata": {},
   "source": [
    "# AdaBoost"
   ]
  },
  {
   "cell_type": "code",
   "execution_count": 25,
   "id": "249e8604",
   "metadata": {},
   "outputs": [
    {
     "name": "stdout",
     "output_type": "stream",
     "text": [
      "AdaBoost Test Accuracy: 100.0 %\n",
      "AdaBoost F1-Score for Test : 1.0\n",
      "AdaBoost Train Accuracy: 100.0 %\n"
     ]
    }
   ],
   "source": [
    "from sklearn.ensemble import AdaBoostClassifier\n",
    "from sklearn.neighbors import KNeighborsClassifier\n",
    "\n",
    "knn = KNeighborsClassifier(n_neighbors=5)\n",
    "ada_model = AdaBoostClassifier(learning_rate=0.02, n_estimators=100)\n",
    "ada_model.fit(x_train,y_train)\n",
    "ada_test_pred = ada_model.predict(x_test)\n",
    "\n",
    "ada_test_accuracy = accuracy_score(ada_test_pred, y_test)\n",
    "print(f'AdaBoost Test Accuracy: {ada_test_accuracy*100} %')\n",
    "ada_test_f1 = f1_score(y_test, ada_test_pred)\n",
    "print(f'AdaBoost F1-Score for Test : {ada_test_f1}')\n",
    "\n",
    "ada_train_pred = ada_model.predict(x_train)\n",
    "ada_train_accuracy = accuracy_score(ada_train_pred, y_train)\n",
    "print(f'AdaBoost Train Accuracy: {ada_train_accuracy*100} %')"
   ]
  },
  {
   "cell_type": "markdown",
   "id": "ca22c8be",
   "metadata": {},
   "source": [
    "# Gradient Boosting"
   ]
  },
  {
   "cell_type": "code",
   "execution_count": 26,
   "id": "006874d3",
   "metadata": {},
   "outputs": [
    {
     "name": "stdout",
     "output_type": "stream",
     "text": [
      "Gradient Boosting Test Accuracy: 100.0 %\n",
      "Gradient Boosting F1-Score for Test : 1.0\n",
      "Gradient Boosting Train Accuracy: 100.0 %\n"
     ]
    }
   ],
   "source": [
    "from sklearn.ensemble import GradientBoostingClassifier\n",
    "from sklearn.neighbors import KNeighborsClassifier\n",
    "\n",
    "knn = KNeighborsClassifier(n_neighbors=5)\n",
    "gbc_model = GradientBoostingClassifier(learning_rate=0.02, n_estimators=100)\n",
    "gbc_model.fit(x_train,y_train)\n",
    "gbc_test_pred = ada_model.predict(x_test)\n",
    "\n",
    "gbc_test_accuracy = accuracy_score(gbc_test_pred, y_test)\n",
    "print(f'Gradient Boosting Test Accuracy: {gbc_test_accuracy*100} %')\n",
    "gbc_test_f1 = f1_score(y_test, gbc_test_pred)\n",
    "print(f'Gradient Boosting F1-Score for Test : {gbc_test_f1}')\n",
    "\n",
    "gbc_train_pred = gbc_model.predict(x_train)\n",
    "gbc_train_accuracy = accuracy_score(gbc_train_pred, y_train)\n",
    "print(f'Gradient Boosting Train Accuracy: {gbc_train_accuracy*100} %')"
   ]
  },
  {
   "cell_type": "markdown",
   "id": "6ae11b49",
   "metadata": {},
   "source": [
    "# XGBoost"
   ]
  },
  {
   "cell_type": "code",
   "execution_count": 27,
   "id": "5449bc85",
   "metadata": {},
   "outputs": [
    {
     "name": "stdout",
     "output_type": "stream",
     "text": [
      "XGBoost Test Accuracy: 100.0 %\n",
      "XGBoost F1-Score for Test : 1.0\n",
      "XGBoost Train Accuracy: 100.0 %\n"
     ]
    }
   ],
   "source": [
    "import xgboost\n",
    "from sklearn.neighbors import KNeighborsClassifier\n",
    "\n",
    "knn = KNeighborsClassifier(n_neighbors=5)\n",
    "xgb_model = xgboost.XGBRFClassifier(n_estimators = 100, learning_rate = 0.02, n_jobs = -1)\n",
    "xgb_model.fit(x_train,y_train)\n",
    "xgb_test_pred = xgb_model.predict(x_test)\n",
    "\n",
    "xgb_test_accuracy = accuracy_score(xgb_test_pred, y_test)\n",
    "print(f'XGBoost Test Accuracy: {xgb_test_accuracy*100} %')\n",
    "xgb_test_f1 = f1_score(y_test, xgb_test_pred)\n",
    "print(f'XGBoost F1-Score for Test : {xgb_test_f1}')\n",
    "\n",
    "xgb_train_pred = xgb_model.predict(x_train)\n",
    "xgb_train_accuracy = accuracy_score(xgb_train_pred, y_train)\n",
    "print(f'XGBoost Train Accuracy: {xgb_train_accuracy*100} %')"
   ]
  },
  {
   "cell_type": "markdown",
   "id": "68076b4b",
   "metadata": {},
   "source": [
    "# Stacking"
   ]
  },
  {
   "cell_type": "code",
   "execution_count": 28,
   "id": "14683b05",
   "metadata": {},
   "outputs": [
    {
     "name": "stdout",
     "output_type": "stream",
     "text": [
      "Stacking Test Accuracy: 100.0 %\n",
      "Stacking F1-Score for Test : 1.0\n",
      "Stacking Train Accuracy: 100.0 %\n"
     ]
    }
   ],
   "source": [
    "from sklearn.ensemble import StackingClassifier\n",
    "\n",
    "from sklearn.neighbors import KNeighborsClassifier\n",
    "from sklearn.naive_bayes import BernoulliNB\n",
    "from sklearn.tree import DecisionTreeClassifier\n",
    "\n",
    "knn = KNeighborsClassifier(n_neighbors=5)\n",
    "bnb = BernoulliNB(alpha=0.75)\n",
    "dtc = DecisionTreeClassifier(max_depth=4)\n",
    "base_learners = [('knn',knn),('bnb',bnb),('dtc',dtc)]\n",
    "\n",
    "stack_model = StackingClassifier(estimators=base_learners,cv = 3,n_jobs=-1)\n",
    "stack_model.fit(x_train,y_train)\n",
    "stack_test_pred = stack_model.predict(x_test)\n",
    "\n",
    "stack_test_accuracy = accuracy_score(stack_test_pred, y_test)\n",
    "print(f'Stacking Test Accuracy: {stack_test_accuracy*100} %')\n",
    "stack_test_f1 = f1_score(y_test, stack_test_pred)\n",
    "print(f'Stacking F1-Score for Test : {stack_test_f1}')\n",
    "\n",
    "stack_train_pred = stack_model.predict(x_train)\n",
    "stack_train_accuracy = accuracy_score(stack_train_pred, y_train)\n",
    "print(f'Stacking Train Accuracy: {stack_train_accuracy*100} %')"
   ]
  },
  {
   "cell_type": "markdown",
   "id": "ae734a45",
   "metadata": {},
   "source": [
    "# Voting"
   ]
  },
  {
   "cell_type": "code",
   "execution_count": 29,
   "id": "9330abc9",
   "metadata": {},
   "outputs": [
    {
     "name": "stdout",
     "output_type": "stream",
     "text": [
      "Voting Test Accuracy: 100.0 %\n",
      "Voting F1-Score for Test : 1.0\n",
      "Voting Train Accuracy: 100.0 %\n"
     ]
    }
   ],
   "source": [
    "from sklearn.ensemble import VotingClassifier\n",
    "\n",
    "from sklearn.neighbors import KNeighborsClassifier\n",
    "from sklearn.naive_bayes import BernoulliNB\n",
    "from sklearn.tree import DecisionTreeClassifier\n",
    "\n",
    "knn = KNeighborsClassifier(n_neighbors=5)\n",
    "bnb = BernoulliNB(alpha=0.75)\n",
    "dtc = DecisionTreeClassifier(max_depth=4)\n",
    "base_learners = [('knn',knn),('bnb',bnb),('dtc',dtc)]\n",
    "\n",
    "vote_model = VotingClassifier(estimators=base_learners,n_jobs=-1,voting='soft')\n",
    "vote_model.fit(x_train,y_train)\n",
    "vote_test_pred = vote_model.predict(x_test)\n",
    "\n",
    "vote_test_accuracy = accuracy_score(vote_test_pred, y_test)\n",
    "print(f'Voting Test Accuracy: {stack_test_accuracy*100} %')\n",
    "vote_test_f1 = f1_score(y_test, vote_test_pred)\n",
    "print(f'Voting F1-Score for Test : {vote_test_f1}')\n",
    "\n",
    "vote_train_pred = vote_model.predict(x_train)\n",
    "vote_train_accuracy = accuracy_score(vote_train_pred, y_train)\n",
    "print(f'Voting Train Accuracy: {vote_train_accuracy*100} %')"
   ]
  },
  {
   "cell_type": "markdown",
   "id": "7c887502",
   "metadata": {},
   "source": [
    "# Conclusion"
   ]
  },
  {
   "cell_type": "code",
   "execution_count": 30,
   "id": "37f8e093",
   "metadata": {},
   "outputs": [
    {
     "data": {
      "text/html": [
       "<div>\n",
       "<style scoped>\n",
       "    .dataframe tbody tr th:only-of-type {\n",
       "        vertical-align: middle;\n",
       "    }\n",
       "\n",
       "    .dataframe tbody tr th {\n",
       "        vertical-align: top;\n",
       "    }\n",
       "\n",
       "    .dataframe thead th {\n",
       "        text-align: right;\n",
       "    }\n",
       "</style>\n",
       "<table border=\"1\" class=\"dataframe\">\n",
       "  <thead>\n",
       "    <tr style=\"text-align: right;\">\n",
       "      <th></th>\n",
       "      <th>Model</th>\n",
       "      <th>Accuracy</th>\n",
       "      <th>F1-Score</th>\n",
       "    </tr>\n",
       "  </thead>\n",
       "  <tbody>\n",
       "    <tr>\n",
       "      <th>0</th>\n",
       "      <td>Decision Tree</td>\n",
       "      <td>1.000000</td>\n",
       "      <td>1.000000</td>\n",
       "    </tr>\n",
       "    <tr>\n",
       "      <th>1</th>\n",
       "      <td>GridSearch</td>\n",
       "      <td>1.000000</td>\n",
       "      <td>1.000000</td>\n",
       "    </tr>\n",
       "    <tr>\n",
       "      <th>2</th>\n",
       "      <td>Random Forest</td>\n",
       "      <td>1.000000</td>\n",
       "      <td>1.000000</td>\n",
       "    </tr>\n",
       "    <tr>\n",
       "      <th>3</th>\n",
       "      <td>Bagging</td>\n",
       "      <td>0.995671</td>\n",
       "      <td>0.993865</td>\n",
       "    </tr>\n",
       "    <tr>\n",
       "      <th>4</th>\n",
       "      <td>AdaBoost</td>\n",
       "      <td>1.000000</td>\n",
       "      <td>1.000000</td>\n",
       "    </tr>\n",
       "    <tr>\n",
       "      <th>5</th>\n",
       "      <td>Gradient Boosting</td>\n",
       "      <td>1.000000</td>\n",
       "      <td>1.000000</td>\n",
       "    </tr>\n",
       "    <tr>\n",
       "      <th>6</th>\n",
       "      <td>XGBoost</td>\n",
       "      <td>1.000000</td>\n",
       "      <td>1.000000</td>\n",
       "    </tr>\n",
       "    <tr>\n",
       "      <th>7</th>\n",
       "      <td>Stacking</td>\n",
       "      <td>1.000000</td>\n",
       "      <td>1.000000</td>\n",
       "    </tr>\n",
       "    <tr>\n",
       "      <th>8</th>\n",
       "      <td>Voting</td>\n",
       "      <td>1.000000</td>\n",
       "      <td>1.000000</td>\n",
       "    </tr>\n",
       "  </tbody>\n",
       "</table>\n",
       "</div>"
      ],
      "text/plain": [
       "               Model  Accuracy  F1-Score\n",
       "0      Decision Tree  1.000000  1.000000\n",
       "1         GridSearch  1.000000  1.000000\n",
       "2      Random Forest  1.000000  1.000000\n",
       "3            Bagging  0.995671  0.993865\n",
       "4           AdaBoost  1.000000  1.000000\n",
       "5  Gradient Boosting  1.000000  1.000000\n",
       "6            XGBoost  1.000000  1.000000\n",
       "7           Stacking  1.000000  1.000000\n",
       "8             Voting  1.000000  1.000000"
      ]
     },
     "execution_count": 30,
     "metadata": {},
     "output_type": "execute_result"
    }
   ],
   "source": [
    "Models_Report = pd.DataFrame(columns=['Model','Accuracy','F1-Score'])\n",
    "\n",
    "Models_Report['Model']  =  ['Decision Tree','GridSearch', 'Random Forest','Bagging','AdaBoost','Gradient Boosting',\n",
    "                         'XGBoost','Stacking','Voting']\n",
    "\n",
    "Models_Report['Accuracy'] = [test_acc, grid_test_acc, clf_test_acc, bg_test_accuracy, ada_test_accuracy,\n",
    "                            gbc_test_accuracy, xgb_test_accuracy, stack_test_accuracy, vote_test_accuracy]\n",
    "\n",
    "Models_Report['F1-Score'] = [dtc_test_f1, grid_test_f1, clf_test_f1, bg_test_f1, ada_test_f1, \n",
    "                            gbc_test_f1, xgb_test_f1, stack_test_f1, vote_test_f1]\n",
    "\n",
    "Models_Report"
   ]
  }
 ],
 "metadata": {
  "kernelspec": {
   "display_name": "Python 3 (ipykernel)",
   "language": "python",
   "name": "python3"
  },
  "language_info": {
   "codemirror_mode": {
    "name": "ipython",
    "version": 3
   },
   "file_extension": ".py",
   "mimetype": "text/x-python",
   "name": "python",
   "nbconvert_exporter": "python",
   "pygments_lexer": "ipython3",
   "version": "3.9.12"
  }
 },
 "nbformat": 4,
 "nbformat_minor": 5
}
