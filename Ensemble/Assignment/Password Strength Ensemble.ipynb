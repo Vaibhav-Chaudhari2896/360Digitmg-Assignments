{
 "cells": [
  {
   "cell_type": "code",
   "execution_count": 1,
   "id": "f59f37f3",
   "metadata": {},
   "outputs": [],
   "source": [
    "# Importing libraries\n",
    "\n",
    "import pandas as pd\n",
    "import numpy as np\n",
    "import matplotlib.pyplot as plt\n",
    "import seaborn as sns\n",
    "from sklearn.metrics import confusion_matrix,accuracy_score,f1_score\n",
    "%matplotlib inline"
   ]
  },
  {
   "cell_type": "code",
   "execution_count": 2,
   "id": "2ccce6ba",
   "metadata": {},
   "outputs": [],
   "source": [
    "# importing dataset\n",
    "dataset = pd.read_excel('C:/Users/vaibh/Desktop/360 Digitmg/Ensemble/Assignment/Ensemble_Password_Strength.xlsx')"
   ]
  },
  {
   "cell_type": "code",
   "execution_count": 3,
   "id": "69d1c523",
   "metadata": {
    "scrolled": true
   },
   "outputs": [
    {
     "data": {
      "text/html": [
       "<div>\n",
       "<style scoped>\n",
       "    .dataframe tbody tr th:only-of-type {\n",
       "        vertical-align: middle;\n",
       "    }\n",
       "\n",
       "    .dataframe tbody tr th {\n",
       "        vertical-align: top;\n",
       "    }\n",
       "\n",
       "    .dataframe thead th {\n",
       "        text-align: right;\n",
       "    }\n",
       "</style>\n",
       "<table border=\"1\" class=\"dataframe\">\n",
       "  <thead>\n",
       "    <tr style=\"text-align: right;\">\n",
       "      <th></th>\n",
       "      <th>characters</th>\n",
       "      <th>characters_strength</th>\n",
       "    </tr>\n",
       "  </thead>\n",
       "  <tbody>\n",
       "    <tr>\n",
       "      <th>0</th>\n",
       "      <td>kzde5577</td>\n",
       "      <td>1.0</td>\n",
       "    </tr>\n",
       "    <tr>\n",
       "      <th>1</th>\n",
       "      <td>kino3434</td>\n",
       "      <td>1.0</td>\n",
       "    </tr>\n",
       "    <tr>\n",
       "      <th>2</th>\n",
       "      <td>visi7k1yr</td>\n",
       "      <td>1.0</td>\n",
       "    </tr>\n",
       "    <tr>\n",
       "      <th>3</th>\n",
       "      <td>megzy123</td>\n",
       "      <td>1.0</td>\n",
       "    </tr>\n",
       "    <tr>\n",
       "      <th>4</th>\n",
       "      <td>lamborghin1</td>\n",
       "      <td>1.0</td>\n",
       "    </tr>\n",
       "  </tbody>\n",
       "</table>\n",
       "</div>"
      ],
      "text/plain": [
       "    characters  characters_strength\n",
       "0     kzde5577                  1.0\n",
       "1     kino3434                  1.0\n",
       "2    visi7k1yr                  1.0\n",
       "3     megzy123                  1.0\n",
       "4  lamborghin1                  1.0"
      ]
     },
     "execution_count": 3,
     "metadata": {},
     "output_type": "execute_result"
    }
   ],
   "source": [
    "# Checing rows and columns in the dataset\n",
    "dataset.head()"
   ]
  },
  {
   "cell_type": "code",
   "execution_count": 4,
   "id": "3aa34925",
   "metadata": {},
   "outputs": [
    {
     "data": {
      "text/plain": [
       "(1999, 2)"
      ]
     },
     "execution_count": 4,
     "metadata": {},
     "output_type": "execute_result"
    }
   ],
   "source": [
    "# Checking dmensions of the dataset\n",
    "dataset.shape"
   ]
  },
  {
   "cell_type": "code",
   "execution_count": 5,
   "id": "c9fad8e7",
   "metadata": {
    "scrolled": true
   },
   "outputs": [
    {
     "data": {
      "text/plain": [
       "characters             0\n",
       "characters_strength    0\n",
       "dtype: int64"
      ]
     },
     "execution_count": 5,
     "metadata": {},
     "output_type": "execute_result"
    }
   ],
   "source": [
    "# Checking for null values\n",
    "dataset.isnull().sum()"
   ]
  },
  {
   "cell_type": "markdown",
   "id": "ea1dfb9a",
   "metadata": {},
   "source": [
    "There are no null values"
   ]
  },
  {
   "cell_type": "code",
   "execution_count": 6,
   "id": "cfb38e4d",
   "metadata": {
    "scrolled": true
   },
   "outputs": [
    {
     "data": {
      "text/plain": [
       "0"
      ]
     },
     "execution_count": 6,
     "metadata": {},
     "output_type": "execute_result"
    }
   ],
   "source": [
    "# Checking for duplicate values\n",
    "dataset.duplicated().sum()"
   ]
  },
  {
   "cell_type": "markdown",
   "id": "58783c52",
   "metadata": {},
   "source": [
    "There are no duplicated values"
   ]
  },
  {
   "cell_type": "code",
   "execution_count": 7,
   "id": "5533d521",
   "metadata": {
    "scrolled": false
   },
   "outputs": [
    {
     "name": "stdout",
     "output_type": "stream",
     "text": [
      "<class 'pandas.core.frame.DataFrame'>\n",
      "RangeIndex: 1999 entries, 0 to 1998\n",
      "Data columns (total 2 columns):\n",
      " #   Column               Non-Null Count  Dtype  \n",
      "---  ------               --------------  -----  \n",
      " 0   characters           1999 non-null   object \n",
      " 1   characters_strength  1999 non-null   float64\n",
      "dtypes: float64(1), object(1)\n",
      "memory usage: 31.4+ KB\n"
     ]
    }
   ],
   "source": [
    "# Checking datatypes of the features\n",
    "dataset.info()"
   ]
  },
  {
   "cell_type": "code",
   "execution_count": 8,
   "id": "3ebca068",
   "metadata": {
    "scrolled": true
   },
   "outputs": [
    {
     "data": {
      "text/plain": [
       "array([1., 0.])"
      ]
     },
     "execution_count": 8,
     "metadata": {},
     "output_type": "execute_result"
    }
   ],
   "source": [
    "# Unique values in character strength\n",
    "dataset.characters_strength.unique()"
   ]
  },
  {
   "cell_type": "code",
   "execution_count": 9,
   "id": "b5f78428",
   "metadata": {
    "scrolled": true
   },
   "outputs": [],
   "source": [
    "# Typecasting\n",
    "dataset.characters_strength = dataset.characters_strength.astype('int64')"
   ]
  },
  {
   "cell_type": "code",
   "execution_count": 10,
   "id": "02c30e08",
   "metadata": {
    "scrolled": true
   },
   "outputs": [
    {
     "data": {
      "text/html": [
       "<div>\n",
       "<style scoped>\n",
       "    .dataframe tbody tr th:only-of-type {\n",
       "        vertical-align: middle;\n",
       "    }\n",
       "\n",
       "    .dataframe tbody tr th {\n",
       "        vertical-align: top;\n",
       "    }\n",
       "\n",
       "    .dataframe thead th {\n",
       "        text-align: right;\n",
       "    }\n",
       "</style>\n",
       "<table border=\"1\" class=\"dataframe\">\n",
       "  <thead>\n",
       "    <tr style=\"text-align: right;\">\n",
       "      <th></th>\n",
       "      <th>count</th>\n",
       "      <th>mean</th>\n",
       "      <th>std</th>\n",
       "      <th>min</th>\n",
       "      <th>25%</th>\n",
       "      <th>50%</th>\n",
       "      <th>75%</th>\n",
       "      <th>max</th>\n",
       "    </tr>\n",
       "  </thead>\n",
       "  <tbody>\n",
       "    <tr>\n",
       "      <th>characters_strength</th>\n",
       "      <td>1999.0</td>\n",
       "      <td>0.857929</td>\n",
       "      <td>0.34921</td>\n",
       "      <td>0.0</td>\n",
       "      <td>1.0</td>\n",
       "      <td>1.0</td>\n",
       "      <td>1.0</td>\n",
       "      <td>1.0</td>\n",
       "    </tr>\n",
       "  </tbody>\n",
       "</table>\n",
       "</div>"
      ],
      "text/plain": [
       "                      count      mean      std  min  25%  50%  75%  max\n",
       "characters_strength  1999.0  0.857929  0.34921  0.0  1.0  1.0  1.0  1.0"
      ]
     },
     "execution_count": 10,
     "metadata": {},
     "output_type": "execute_result"
    }
   ],
   "source": [
    "# Descriptive Statistics\n",
    "dataset.describe().T"
   ]
  },
  {
   "cell_type": "code",
   "execution_count": 11,
   "id": "a2d8c8d7",
   "metadata": {},
   "outputs": [
    {
     "name": "stdout",
     "output_type": "stream",
     "text": [
      "1    1715\n",
      "0     284\n",
      "Name: characters_strength, dtype: int64\n"
     ]
    },
    {
     "data": {
      "text/plain": [
       "<AxesSubplot:xlabel='characters_strength', ylabel='count'>"
      ]
     },
     "execution_count": 11,
     "metadata": {},
     "output_type": "execute_result"
    },
    {
     "data": {
      "image/png": "[encoded data removed]",
      "text/plain": [
       "<Figure size 432x288 with 1 Axes>"
      ]
     },
     "metadata": {
      "needs_background": "light"
     },
     "output_type": "display_data"
    }
   ],
   "source": [
    "# Countplot \n",
    "print(dataset.characters_strength.value_counts())\n",
    "sns.countplot(x = dataset.characters_strength)"
   ]
  },
  {
   "cell_type": "markdown",
   "id": "a6b14029",
   "metadata": {
    "scrolled": false
   },
   "source": [
    "The dataset consists more strong passwords"
   ]
  },
  {
   "cell_type": "code",
   "execution_count": 12,
   "id": "23c697cf",
   "metadata": {
    "scrolled": true
   },
   "outputs": [],
   "source": [
    "def splitter(data):\n",
    "    data1 = []\n",
    "    for i in data:\n",
    "        data1.append(str(i))\n",
    "    return data1"
   ]
  },
  {
   "cell_type": "code",
   "execution_count": 13,
   "id": "d3beb9b9",
   "metadata": {},
   "outputs": [],
   "source": [
    "dataset['split_characters'] = [splitter(str(password)) for password in dataset.characters]"
   ]
  },
  {
   "cell_type": "code",
   "execution_count": 14,
   "id": "3b1f473b",
   "metadata": {
    "scrolled": true
   },
   "outputs": [
    {
     "data": {
      "text/html": [
       "<div>\n",
       "<style scoped>\n",
       "    .dataframe tbody tr th:only-of-type {\n",
       "        vertical-align: middle;\n",
       "    }\n",
       "\n",
       "    .dataframe tbody tr th {\n",
       "        vertical-align: top;\n",
       "    }\n",
       "\n",
       "    .dataframe thead th {\n",
       "        text-align: right;\n",
       "    }\n",
       "</style>\n",
       "<table border=\"1\" class=\"dataframe\">\n",
       "  <thead>\n",
       "    <tr style=\"text-align: right;\">\n",
       "      <th></th>\n",
       "      <th>characters</th>\n",
       "      <th>characters_strength</th>\n",
       "      <th>split_characters</th>\n",
       "    </tr>\n",
       "  </thead>\n",
       "  <tbody>\n",
       "    <tr>\n",
       "      <th>0</th>\n",
       "      <td>kzde5577</td>\n",
       "      <td>1</td>\n",
       "      <td>[k, z, d, e, 5, 5, 7, 7]</td>\n",
       "    </tr>\n",
       "    <tr>\n",
       "      <th>1</th>\n",
       "      <td>kino3434</td>\n",
       "      <td>1</td>\n",
       "      <td>[k, i, n, o, 3, 4, 3, 4]</td>\n",
       "    </tr>\n",
       "    <tr>\n",
       "      <th>2</th>\n",
       "      <td>visi7k1yr</td>\n",
       "      <td>1</td>\n",
       "      <td>[v, i, s, i, 7, k, 1, y, r]</td>\n",
       "    </tr>\n",
       "    <tr>\n",
       "      <th>3</th>\n",
       "      <td>megzy123</td>\n",
       "      <td>1</td>\n",
       "      <td>[m, e, g, z, y, 1, 2, 3]</td>\n",
       "    </tr>\n",
       "    <tr>\n",
       "      <th>4</th>\n",
       "      <td>lamborghin1</td>\n",
       "      <td>1</td>\n",
       "      <td>[l, a, m, b, o, r, g, h, i, n, 1]</td>\n",
       "    </tr>\n",
       "  </tbody>\n",
       "</table>\n",
       "</div>"
      ],
      "text/plain": [
       "    characters  characters_strength                   split_characters\n",
       "0     kzde5577                    1           [k, z, d, e, 5, 5, 7, 7]\n",
       "1     kino3434                    1           [k, i, n, o, 3, 4, 3, 4]\n",
       "2    visi7k1yr                    1        [v, i, s, i, 7, k, 1, y, r]\n",
       "3     megzy123                    1           [m, e, g, z, y, 1, 2, 3]\n",
       "4  lamborghin1                    1  [l, a, m, b, o, r, g, h, i, n, 1]"
      ]
     },
     "execution_count": 14,
     "metadata": {},
     "output_type": "execute_result"
    }
   ],
   "source": [
    "dataset.head()"
   ]
  },
  {
   "cell_type": "code",
   "execution_count": 15,
   "id": "38004f0f",
   "metadata": {
    "scrolled": true
   },
   "outputs": [],
   "source": [
    "# Separating lower case, upper case, digits and special characters\n",
    "\n",
    "digits = ['1','2','3','4','5','6','7','8','9','0']\n",
    "dataset['length'] = [len(q) for q in dataset.split_characters]\n",
    "dataset['lower'] = dataset.split_characters.apply(lambda x: len([q for q in x if q.islower()]))\n",
    "dataset['upper'] = dataset.split_characters.apply(lambda x: len([q for q in x if q.isupper()]))\n",
    "dataset['digit'] = dataset.split_characters.apply(lambda x: len([q for q in x if q in digits]))\n",
    "dataset['special'] = dataset.length - dataset.lower - dataset.upper - dataset.digit"
   ]
  },
  {
   "cell_type": "code",
   "execution_count": 16,
   "id": "7ac392c7",
   "metadata": {
    "scrolled": true
   },
   "outputs": [
    {
     "data": {
      "text/html": [
       "<div>\n",
       "<style scoped>\n",
       "    .dataframe tbody tr th:only-of-type {\n",
       "        vertical-align: middle;\n",
       "    }\n",
       "\n",
       "    .dataframe tbody tr th {\n",
       "        vertical-align: top;\n",
       "    }\n",
       "\n",
       "    .dataframe thead th {\n",
       "        text-align: right;\n",
       "    }\n",
       "</style>\n",
       "<table border=\"1\" class=\"dataframe\">\n",
       "  <thead>\n",
       "    <tr style=\"text-align: right;\">\n",
       "      <th></th>\n",
       "      <th>characters</th>\n",
       "      <th>characters_strength</th>\n",
       "      <th>split_characters</th>\n",
       "      <th>length</th>\n",
       "      <th>lower</th>\n",
       "      <th>upper</th>\n",
       "      <th>digit</th>\n",
       "      <th>special</th>\n",
       "    </tr>\n",
       "  </thead>\n",
       "  <tbody>\n",
       "    <tr>\n",
       "      <th>0</th>\n",
       "      <td>kzde5577</td>\n",
       "      <td>1</td>\n",
       "      <td>[k, z, d, e, 5, 5, 7, 7]</td>\n",
       "      <td>8</td>\n",
       "      <td>4</td>\n",
       "      <td>0</td>\n",
       "      <td>4</td>\n",
       "      <td>0</td>\n",
       "    </tr>\n",
       "    <tr>\n",
       "      <th>1</th>\n",
       "      <td>kino3434</td>\n",
       "      <td>1</td>\n",
       "      <td>[k, i, n, o, 3, 4, 3, 4]</td>\n",
       "      <td>8</td>\n",
       "      <td>4</td>\n",
       "      <td>0</td>\n",
       "      <td>4</td>\n",
       "      <td>0</td>\n",
       "    </tr>\n",
       "    <tr>\n",
       "      <th>2</th>\n",
       "      <td>visi7k1yr</td>\n",
       "      <td>1</td>\n",
       "      <td>[v, i, s, i, 7, k, 1, y, r]</td>\n",
       "      <td>9</td>\n",
       "      <td>7</td>\n",
       "      <td>0</td>\n",
       "      <td>2</td>\n",
       "      <td>0</td>\n",
       "    </tr>\n",
       "    <tr>\n",
       "      <th>3</th>\n",
       "      <td>megzy123</td>\n",
       "      <td>1</td>\n",
       "      <td>[m, e, g, z, y, 1, 2, 3]</td>\n",
       "      <td>8</td>\n",
       "      <td>5</td>\n",
       "      <td>0</td>\n",
       "      <td>3</td>\n",
       "      <td>0</td>\n",
       "    </tr>\n",
       "    <tr>\n",
       "      <th>4</th>\n",
       "      <td>lamborghin1</td>\n",
       "      <td>1</td>\n",
       "      <td>[l, a, m, b, o, r, g, h, i, n, 1]</td>\n",
       "      <td>11</td>\n",
       "      <td>10</td>\n",
       "      <td>0</td>\n",
       "      <td>1</td>\n",
       "      <td>0</td>\n",
       "    </tr>\n",
       "  </tbody>\n",
       "</table>\n",
       "</div>"
      ],
      "text/plain": [
       "    characters  characters_strength                   split_characters  \\\n",
       "0     kzde5577                    1           [k, z, d, e, 5, 5, 7, 7]   \n",
       "1     kino3434                    1           [k, i, n, o, 3, 4, 3, 4]   \n",
       "2    visi7k1yr                    1        [v, i, s, i, 7, k, 1, y, r]   \n",
       "3     megzy123                    1           [m, e, g, z, y, 1, 2, 3]   \n",
       "4  lamborghin1                    1  [l, a, m, b, o, r, g, h, i, n, 1]   \n",
       "\n",
       "   length  lower  upper  digit  special  \n",
       "0       8      4      0      4        0  \n",
       "1       8      4      0      4        0  \n",
       "2       9      7      0      2        0  \n",
       "3       8      5      0      3        0  \n",
       "4      11     10      0      1        0  "
      ]
     },
     "execution_count": 16,
     "metadata": {},
     "output_type": "execute_result"
    }
   ],
   "source": [
    "dataset.head()"
   ]
  },
  {
   "cell_type": "code",
   "execution_count": 18,
   "id": "1e882e42",
   "metadata": {},
   "outputs": [],
   "source": [
    "dataset.drop(columns=['split_characters','characters'],axis=1,inplace=True)"
   ]
  },
  {
   "cell_type": "code",
   "execution_count": 19,
   "id": "a10c1a0f",
   "metadata": {
    "scrolled": true
   },
   "outputs": [],
   "source": [
    "# Splitting into independent and dependent features\n",
    "\n",
    "x = dataset.loc[:,dataset.columns != 'characters_strength']\n",
    "y = dataset.characters_strength"
   ]
  },
  {
   "cell_type": "code",
   "execution_count": 20,
   "id": "0e3d5929",
   "metadata": {},
   "outputs": [
    {
     "data": {
      "text/html": [
       "<div>\n",
       "<style scoped>\n",
       "    .dataframe tbody tr th:only-of-type {\n",
       "        vertical-align: middle;\n",
       "    }\n",
       "\n",
       "    .dataframe tbody tr th {\n",
       "        vertical-align: top;\n",
       "    }\n",
       "\n",
       "    .dataframe thead th {\n",
       "        text-align: right;\n",
       "    }\n",
       "</style>\n",
       "<table border=\"1\" class=\"dataframe\">\n",
       "  <thead>\n",
       "    <tr style=\"text-align: right;\">\n",
       "      <th></th>\n",
       "      <th>characters_strength</th>\n",
       "      <th>length</th>\n",
       "      <th>lower</th>\n",
       "      <th>upper</th>\n",
       "      <th>digit</th>\n",
       "      <th>special</th>\n",
       "    </tr>\n",
       "  </thead>\n",
       "  <tbody>\n",
       "    <tr>\n",
       "      <th>0</th>\n",
       "      <td>1</td>\n",
       "      <td>8</td>\n",
       "      <td>4</td>\n",
       "      <td>0</td>\n",
       "      <td>4</td>\n",
       "      <td>0</td>\n",
       "    </tr>\n",
       "    <tr>\n",
       "      <th>1</th>\n",
       "      <td>1</td>\n",
       "      <td>8</td>\n",
       "      <td>4</td>\n",
       "      <td>0</td>\n",
       "      <td>4</td>\n",
       "      <td>0</td>\n",
       "    </tr>\n",
       "    <tr>\n",
       "      <th>2</th>\n",
       "      <td>1</td>\n",
       "      <td>9</td>\n",
       "      <td>7</td>\n",
       "      <td>0</td>\n",
       "      <td>2</td>\n",
       "      <td>0</td>\n",
       "    </tr>\n",
       "    <tr>\n",
       "      <th>3</th>\n",
       "      <td>1</td>\n",
       "      <td>8</td>\n",
       "      <td>5</td>\n",
       "      <td>0</td>\n",
       "      <td>3</td>\n",
       "      <td>0</td>\n",
       "    </tr>\n",
       "    <tr>\n",
       "      <th>4</th>\n",
       "      <td>1</td>\n",
       "      <td>11</td>\n",
       "      <td>10</td>\n",
       "      <td>0</td>\n",
       "      <td>1</td>\n",
       "      <td>0</td>\n",
       "    </tr>\n",
       "  </tbody>\n",
       "</table>\n",
       "</div>"
      ],
      "text/plain": [
       "   characters_strength  length  lower  upper  digit  special\n",
       "0                    1       8      4      0      4        0\n",
       "1                    1       8      4      0      4        0\n",
       "2                    1       9      7      0      2        0\n",
       "3                    1       8      5      0      3        0\n",
       "4                    1      11     10      0      1        0"
      ]
     },
     "execution_count": 20,
     "metadata": {},
     "output_type": "execute_result"
    }
   ],
   "source": [
    "dataset.head()"
   ]
  },
  {
   "cell_type": "code",
   "execution_count": 21,
   "id": "f4d35b8b",
   "metadata": {},
   "outputs": [],
   "source": [
    "# Train-Test split\n",
    "from sklearn.model_selection import train_test_split\n",
    "x_train_o, x_test_o, y_train, y_test = train_test_split(x, y, test_size=0.3,stratify=y, random_state=123)"
   ]
  },
  {
   "cell_type": "code",
   "execution_count": 22,
   "id": "40d7a48e",
   "metadata": {},
   "outputs": [
    {
     "data": {
      "text/plain": [
       "((1399, 5), (600, 5), (1399,), (600,))"
      ]
     },
     "execution_count": 22,
     "metadata": {},
     "output_type": "execute_result"
    }
   ],
   "source": [
    "x_train_o.shape, x_test_o.shape, y_train.shape, y_test.shape"
   ]
  },
  {
   "cell_type": "code",
   "execution_count": 23,
   "id": "5a7ce82f",
   "metadata": {},
   "outputs": [],
   "source": [
    "# Feature Scaling\n",
    "\n",
    "from sklearn.preprocessing import StandardScaler\n",
    "scaler = StandardScaler()\n",
    "x_train = scaler.fit_transform(x_train_o)\n",
    "x_test = scaler.transform(x_test_o)"
   ]
  },
  {
   "cell_type": "markdown",
   "id": "226bdbc9",
   "metadata": {},
   "source": [
    "# Decision Tree Classifier"
   ]
  },
  {
   "cell_type": "code",
   "execution_count": 24,
   "id": "a850729f",
   "metadata": {},
   "outputs": [
    {
     "name": "stdout",
     "output_type": "stream",
     "text": [
      "Test Data Accuracy: 100.0 %\n",
      "DTC F1-Score for Test : 1.0\n",
      "Train Data Accuracy: 100.0 %\n"
     ]
    }
   ],
   "source": [
    "# Using Decision Tree\n",
    "\n",
    "from sklearn.tree import DecisionTreeClassifier\n",
    "\n",
    "dt = DecisionTreeClassifier(criterion='entropy')\n",
    "dt_train = dt.fit(x_train,y_train)  # fitting model to train data\n",
    "\n",
    "# Predicting results for test data\n",
    "yhat_test = dt.predict(x_test)\n",
    "\n",
    "# accuracy for test data\n",
    "from sklearn.metrics import accuracy_score\n",
    "test_acc = accuracy_score(y_test,yhat_test)\n",
    "print(f'Test Data Accuracy: {test_acc*100} %' ) \n",
    "dtc_test_f1 = f1_score(y_test,yhat_test)\n",
    "print(f'DTC F1-Score for Test : {dtc_test_f1}')\n",
    "\n",
    "# Predicting results for train data\n",
    "yhat_train = dt.predict(x_train)\n",
    "train_acc = accuracy_score(y_train,yhat_train)\n",
    "print(f'Train Data Accuracy: {train_acc*100} %')\n",
    "\n",
    "# Confusion matrix for train data\n",
    "# from sklearn.metrics import confusion_matrix\n",
    "# print(confusion_matrix(y_train,yhat_train))"
   ]
  },
  {
   "cell_type": "markdown",
   "id": "f6b09948",
   "metadata": {},
   "source": [
    "The model has been overfitted. \n",
    "Hyper parameter tuning will help with overfitting of the dataset"
   ]
  },
  {
   "cell_type": "markdown",
   "id": "3be6cb5e",
   "metadata": {},
   "source": [
    "# GridSearchCV"
   ]
  },
  {
   "cell_type": "code",
   "execution_count": 25,
   "id": "e0c3d620",
   "metadata": {},
   "outputs": [
    {
     "name": "stdout",
     "output_type": "stream",
     "text": [
      "{'max_depth': 2, 'max_features': 'sqrt', 'min_samples_leaf': 1}\n",
      "Test Data Accuracy using GridSearch: 100.0 %\n",
      "GridSearch F1-Score for Test : 1.0\n",
      "Train Data Accuracy using GridSearch: 99.85704074338814 %\n"
     ]
    }
   ],
   "source": [
    "# Finding best parameters for the model\n",
    "\n",
    "from sklearn.model_selection import GridSearchCV\n",
    "dt = DecisionTreeClassifier(criterion = 'entropy',random_state=0)\n",
    "param_grid = {'min_samples_leaf': [1, 5, 10, 20], 'max_depth': [2, 4, 6, 8, 10],'max_features': ['sqrt']}\n",
    "\n",
    "grid_search = GridSearchCV(estimator = dt, param_grid = param_grid, scoring = 'accuracy', n_jobs = -1, cv = 5, \n",
    "                                refit=True, return_train_score=True)\n",
    "\n",
    "# Fitting GridSearch model \n",
    "grid_search.fit(x_train,y_train)\n",
    "# The best parameters for the model are given below\n",
    "print(grid_search.best_params_)\n",
    "\n",
    "# Accuracy of test data using GridSearch\n",
    "grid_yhat_test = grid_search.best_estimator_.predict(x_test)\n",
    "grid_test_acc = accuracy_score(y_test,grid_yhat_test)\n",
    "print(f'Test Data Accuracy using GridSearch: {grid_test_acc*100} %' ) \n",
    "grid_test_f1 = f1_score(y_test, grid_yhat_test)\n",
    "print(f'GridSearch F1-Score for Test : {grid_test_f1}')\n",
    "\n",
    "# Accuracy of train data using GridSearch\n",
    "grid_yhat_train = grid_search.best_estimator_.predict(x_train)\n",
    "grid_train_acc = accuracy_score(y_train,grid_yhat_train)\n",
    "print(f'Train Data Accuracy using GridSearch: {grid_train_acc*100} %' )\n",
    "\n",
    "# Confusion matrix for test data using GridSearch\n",
    "# from sklearn.metrics import confusion_matrix\n",
    "# print(confusion_matrix(y_test,grid_yhat_test))"
   ]
  },
  {
   "cell_type": "code",
   "execution_count": 26,
   "id": "3d91abc0",
   "metadata": {
    "scrolled": false
   },
   "outputs": [
    {
     "data": {
      "image/svg+xml": [
       "<?xml version=\"1.0\" encoding=\"UTF-8\" standalone=\"no\"?>\n",
       "<!DOCTYPE svg PUBLIC \"-//W3C//DTD SVG 1.1//EN\"\n",
       " \"http://www.w3.org/Graphics/SVG/1.1/DTD/svg11.dtd\">\n",
       "<!-- Generated by graphviz version 2.50.0 (0)\n",
       " -->\n",
       "<!-- Title: Tree Pages: 1 -->\n",
       "<svg width=\"254pt\" height=\"165pt\"\n",
       " viewBox=\"0.00 0.00 253.50 165.00\" xmlns=\"http://www.w3.org/2000/svg\" xmlns:xlink=\"http://www.w3.org/1999/xlink\">\n",
       "<g id=\"graph0\" class=\"graph\" transform=\"scale(1 1) rotate(0) translate(4 161)\">\n",
       "<title>Tree</title>\n",
       "<polygon fill=\"white\" stroke=\"transparent\" points=\"-4,4 -4,-161 249.5,-161 249.5,4 -4,4\"/>\n",
       "<!-- 0 -->\n",
       "<g id=\"node1\" class=\"node\">\n",
       "<title>0</title>\n",
       "<polygon fill=\"none\" stroke=\"black\" points=\"187,-157 55,-157 55,-89 187,-89 187,-157\"/>\n",
       "<text text-anchor=\"middle\" x=\"121\" y=\"-141.8\" font-family=\"Helvetica,sans-Serif\" font-size=\"14.00\">length &lt;= &#45;0.882</text>\n",
       "<text text-anchor=\"middle\" x=\"121\" y=\"-126.8\" font-family=\"Helvetica,sans-Serif\" font-size=\"14.00\">entropy = 0.59</text>\n",
       "<text text-anchor=\"middle\" x=\"121\" y=\"-111.8\" font-family=\"Helvetica,sans-Serif\" font-size=\"14.00\">samples = 1399</text>\n",
       "<text text-anchor=\"middle\" x=\"121\" y=\"-96.8\" font-family=\"Helvetica,sans-Serif\" font-size=\"14.00\">value = [199, 1200]</text>\n",
       "</g>\n",
       "<!-- 1 -->\n",
       "<g id=\"node2\" class=\"node\">\n",
       "<title>1</title>\n",
       "<polygon fill=\"none\" stroke=\"black\" points=\"110,-53 0,-53 0,0 110,0 110,-53\"/>\n",
       "<text text-anchor=\"middle\" x=\"55\" y=\"-37.8\" font-family=\"Helvetica,sans-Serif\" font-size=\"14.00\">entropy = 0.0</text>\n",
       "<text text-anchor=\"middle\" x=\"55\" y=\"-22.8\" font-family=\"Helvetica,sans-Serif\" font-size=\"14.00\">samples = 199</text>\n",
       "<text text-anchor=\"middle\" x=\"55\" y=\"-7.8\" font-family=\"Helvetica,sans-Serif\" font-size=\"14.00\">value = [199, 0]</text>\n",
       "</g>\n",
       "<!-- 0&#45;&gt;1 -->\n",
       "<g id=\"edge1\" class=\"edge\">\n",
       "<title>0&#45;&gt;1</title>\n",
       "<path fill=\"none\" stroke=\"black\" d=\"M97.92,-88.95C91.72,-80.07 85.01,-70.46 78.77,-61.54\"/>\n",
       "<polygon fill=\"black\" stroke=\"black\" points=\"81.57,-59.43 72.97,-53.24 75.83,-63.44 81.57,-59.43\"/>\n",
       "<text text-anchor=\"middle\" x=\"68.6\" y=\"-74.15\" font-family=\"Helvetica,sans-Serif\" font-size=\"14.00\">True</text>\n",
       "</g>\n",
       "<!-- 2 -->\n",
       "<g id=\"node3\" class=\"node\">\n",
       "<title>2</title>\n",
       "<polygon fill=\"none\" stroke=\"black\" points=\"245.5,-53 128.5,-53 128.5,0 245.5,0 245.5,-53\"/>\n",
       "<text text-anchor=\"middle\" x=\"187\" y=\"-37.8\" font-family=\"Helvetica,sans-Serif\" font-size=\"14.00\">entropy = 0.0</text>\n",
       "<text text-anchor=\"middle\" x=\"187\" y=\"-22.8\" font-family=\"Helvetica,sans-Serif\" font-size=\"14.00\">samples = 1200</text>\n",
       "<text text-anchor=\"middle\" x=\"187\" y=\"-7.8\" font-family=\"Helvetica,sans-Serif\" font-size=\"14.00\">value = [0, 1200]</text>\n",
       "</g>\n",
       "<!-- 0&#45;&gt;2 -->\n",
       "<g id=\"edge2\" class=\"edge\">\n",
       "<title>0&#45;&gt;2</title>\n",
       "<path fill=\"none\" stroke=\"black\" d=\"M144.08,-88.95C150.28,-80.07 156.99,-70.46 163.23,-61.54\"/>\n",
       "<polygon fill=\"black\" stroke=\"black\" points=\"166.17,-63.44 169.03,-53.24 160.43,-59.43 166.17,-63.44\"/>\n",
       "<text text-anchor=\"middle\" x=\"173.4\" y=\"-74.15\" font-family=\"Helvetica,sans-Serif\" font-size=\"14.00\">False</text>\n",
       "</g>\n",
       "</g>\n",
       "</svg>\n"
      ],
      "text/plain": [
       "<graphviz.sources.Source at 0x26c80389d30>"
      ]
     },
     "execution_count": 26,
     "metadata": {},
     "output_type": "execute_result"
    },
    {
     "data": {
      "text/plain": [
       "<Figure size 360x144 with 0 Axes>"
      ]
     },
     "metadata": {},
     "output_type": "display_data"
    }
   ],
   "source": [
    "import graphviz \n",
    "import sklearn\n",
    "\n",
    "plt.figure(figsize=(5,2))\n",
    "dt = DecisionTreeClassifier(criterion='entropy',max_depth=2,min_samples_leaf=1).fit(x_train,y_train)\n",
    "dot_data = sklearn.tree.export_graphviz(dt,feature_names = x.columns.tolist())\n",
    "graph = graphviz.Source(dot_data)\n",
    "graph "
   ]
  },
  {
   "cell_type": "markdown",
   "id": "bb1b2f7c",
   "metadata": {},
   "source": [
    "The above is decision tree based on GridSearch parameters"
   ]
  },
  {
   "cell_type": "markdown",
   "id": "b1d14f24",
   "metadata": {},
   "source": [
    "# RandomForestClassifier"
   ]
  },
  {
   "cell_type": "code",
   "execution_count": 27,
   "id": "4389268f",
   "metadata": {},
   "outputs": [
    {
     "name": "stdout",
     "output_type": "stream",
     "text": [
      "Test Data Accuracy using RandomForest: 100.0 %\n",
      "F1-Score for Test using RandomForest: 1.0 \n",
      "Train Data Accuracy using RandomForest: 100.0 %\n"
     ]
    }
   ],
   "source": [
    "from sklearn.ensemble import RandomForestClassifier\n",
    "\n",
    "clf = RandomForestClassifier(criterion='entropy', random_state=0, min_samples_leaf=5, max_depth=11)\n",
    "clf.fit(x_train,y_train) # Fitting random forest model to train \n",
    "clf_yhat_test = clf.predict(x_test)\n",
    "\n",
    "# Accuracy of test data using RandomForest\n",
    "clf_test_acc = accuracy_score(y_test, clf_yhat_test)\n",
    "print(f'Test Data Accuracy using RandomForest: {clf_test_acc*100} %' ) \n",
    "clf_test_f1 = f1_score(y_test, clf_yhat_test)\n",
    "print(f'F1-Score for Test using RandomForest: {clf_test_f1} ' ) \n",
    "\n",
    "# Accuracy of train data using RandomForest\n",
    "clf_yhat_train = clf.predict(x_train)\n",
    "clf_train_acc = accuracy_score(y_train, clf_yhat_train)\n",
    "print(f'Train Data Accuracy using RandomForest: {clf_train_acc*100} %' ) \n"
   ]
  },
  {
   "cell_type": "markdown",
   "id": "91487cb0",
   "metadata": {},
   "source": [
    "Using Random Forest we get a test accuracy of 100 %"
   ]
  },
  {
   "cell_type": "markdown",
   "id": "9b90156c",
   "metadata": {},
   "source": [
    "# Bagging "
   ]
  },
  {
   "cell_type": "code",
   "execution_count": 28,
   "id": "6f375427",
   "metadata": {},
   "outputs": [
    {
     "name": "stdout",
     "output_type": "stream",
     "text": [
      "Bagging Test Accuracy: 99.83333333333333 %\n",
      "Bagging F1-Score for Test : 0.9990300678952473\n",
      "Bagging Train Accuracy: 99.71408148677628 %\n"
     ]
    }
   ],
   "source": [
    "from sklearn.ensemble import BaggingClassifier\n",
    "from sklearn.neighbors import KNeighborsClassifier\n",
    "\n",
    "knn = KNeighborsClassifier(n_neighbors=5)\n",
    "bg_model = BaggingClassifier(base_estimator=knn, n_estimators=100, n_jobs=-1,random_state=123)\n",
    "bg_model.fit(x_train,y_train)\n",
    "bg_test_pred = bg_model.predict(x_test)\n",
    "\n",
    "bg_test_accuracy = accuracy_score(bg_test_pred, y_test)\n",
    "print(f'Bagging Test Accuracy: {bg_test_accuracy*100} %')\n",
    "bg_test_f1 = f1_score(y_test, bg_test_pred)\n",
    "print(f'Bagging F1-Score for Test : {bg_test_f1}') \n",
    "\n",
    "bg_train_pred = bg_model.predict(x_train)\n",
    "bg_train_accuracy = accuracy_score(bg_train_pred, y_train)\n",
    "print(f'Bagging Train Accuracy: {bg_train_accuracy*100} %')"
   ]
  },
  {
   "cell_type": "markdown",
   "id": "c11975fe",
   "metadata": {},
   "source": [
    "# AdaBoost"
   ]
  },
  {
   "cell_type": "code",
   "execution_count": 29,
   "id": "249e8604",
   "metadata": {},
   "outputs": [
    {
     "name": "stdout",
     "output_type": "stream",
     "text": [
      "AdaBoost Test Accuracy: 100.0 %\n",
      "AdaBoost F1-Score for Test : 1.0\n",
      "AdaBoost Train Accuracy: 100.0 %\n"
     ]
    }
   ],
   "source": [
    "from sklearn.ensemble import AdaBoostClassifier\n",
    "from sklearn.neighbors import KNeighborsClassifier\n",
    "\n",
    "knn = KNeighborsClassifier(n_neighbors=5)\n",
    "ada_model = AdaBoostClassifier(learning_rate=0.02, n_estimators=100)\n",
    "ada_model.fit(x_train,y_train)\n",
    "ada_test_pred = ada_model.predict(x_test)\n",
    "\n",
    "ada_test_accuracy = accuracy_score(ada_test_pred, y_test)\n",
    "print(f'AdaBoost Test Accuracy: {ada_test_accuracy*100} %')\n",
    "ada_test_f1 = f1_score(y_test, ada_test_pred)\n",
    "print(f'AdaBoost F1-Score for Test : {ada_test_f1}')\n",
    "\n",
    "ada_train_pred = ada_model.predict(x_train)\n",
    "ada_train_accuracy = accuracy_score(ada_train_pred, y_train)\n",
    "print(f'AdaBoost Train Accuracy: {ada_train_accuracy*100} %')"
   ]
  },
  {
   "cell_type": "markdown",
   "id": "ca22c8be",
   "metadata": {},
   "source": [
    "# Gradient Boosting"
   ]
  },
  {
   "cell_type": "code",
   "execution_count": 30,
   "id": "006874d3",
   "metadata": {},
   "outputs": [
    {
     "name": "stdout",
     "output_type": "stream",
     "text": [
      "Gradient Boosting Test Accuracy: 100.0 %\n",
      "Gradient Boosting F1-Score for Test : 1.0\n",
      "Gradient Boosting Train Accuracy: 100.0 %\n"
     ]
    }
   ],
   "source": [
    "from sklearn.ensemble import GradientBoostingClassifier\n",
    "from sklearn.neighbors import KNeighborsClassifier\n",
    "\n",
    "knn = KNeighborsClassifier(n_neighbors=5)\n",
    "gbc_model = GradientBoostingClassifier(learning_rate=0.02, n_estimators=100)\n",
    "gbc_model.fit(x_train,y_train)\n",
    "gbc_test_pred = ada_model.predict(x_test)\n",
    "\n",
    "gbc_test_accuracy = accuracy_score(gbc_test_pred, y_test)\n",
    "print(f'Gradient Boosting Test Accuracy: {gbc_test_accuracy*100} %')\n",
    "gbc_test_f1 = f1_score(y_test, gbc_test_pred)\n",
    "print(f'Gradient Boosting F1-Score for Test : {gbc_test_f1}')\n",
    "\n",
    "gbc_train_pred = gbc_model.predict(x_train)\n",
    "gbc_train_accuracy = accuracy_score(gbc_train_pred, y_train)\n",
    "print(f'Gradient Boosting Train Accuracy: {gbc_train_accuracy*100} %')"
   ]
  },
  {
   "cell_type": "markdown",
   "id": "6ae11b49",
   "metadata": {},
   "source": [
    "# XGBoost"
   ]
  },
  {
   "cell_type": "code",
   "execution_count": 31,
   "id": "5449bc85",
   "metadata": {},
   "outputs": [
    {
     "name": "stdout",
     "output_type": "stream",
     "text": [
      "XGBoost Test Accuracy: 100.0 %\n",
      "XGBoost F1-Score for Test : 1.0\n",
      "XGBoost Train Accuracy: 100.0 %\n"
     ]
    }
   ],
   "source": [
    "import xgboost\n",
    "from sklearn.neighbors import KNeighborsClassifier\n",
    "\n",
    "knn = KNeighborsClassifier(n_neighbors=5)\n",
    "xgb_model = xgboost.XGBRFClassifier(n_estimators = 100, learning_rate = 0.02, n_jobs = -1)\n",
    "xgb_model.fit(x_train,y_train)\n",
    "xgb_test_pred = xgb_model.predict(x_test)\n",
    "\n",
    "xgb_test_accuracy = accuracy_score(xgb_test_pred, y_test)\n",
    "print(f'XGBoost Test Accuracy: {xgb_test_accuracy*100} %')\n",
    "xgb_test_f1 = f1_score(y_test, xgb_test_pred)\n",
    "print(f'XGBoost F1-Score for Test : {xgb_test_f1}')\n",
    "\n",
    "xgb_train_pred = xgb_model.predict(x_train)\n",
    "xgb_train_accuracy = accuracy_score(xgb_train_pred, y_train)\n",
    "print(f'XGBoost Train Accuracy: {xgb_train_accuracy*100} %')"
   ]
  },
  {
   "cell_type": "markdown",
   "id": "68076b4b",
   "metadata": {},
   "source": [
    "# Stacking"
   ]
  },
  {
   "cell_type": "code",
   "execution_count": 32,
   "id": "14683b05",
   "metadata": {},
   "outputs": [
    {
     "name": "stdout",
     "output_type": "stream",
     "text": [
      "Stacking Test Accuracy: 100.0 %\n",
      "Stacking F1-Score for Test : 1.0\n",
      "Stacking Train Accuracy: 100.0 %\n"
     ]
    }
   ],
   "source": [
    "from sklearn.ensemble import StackingClassifier\n",
    "\n",
    "from sklearn.neighbors import KNeighborsClassifier\n",
    "from sklearn.naive_bayes import BernoulliNB\n",
    "from sklearn.tree import DecisionTreeClassifier\n",
    "\n",
    "knn = KNeighborsClassifier(n_neighbors=5)\n",
    "bnb = BernoulliNB(alpha=0.75)\n",
    "dtc = DecisionTreeClassifier(max_depth=4)\n",
    "base_learners = [('knn',knn),('bnb',bnb),('dtc',dtc)]\n",
    "\n",
    "stack_model = StackingClassifier(estimators=base_learners,cv = 3,n_jobs=-1)\n",
    "stack_model.fit(x_train,y_train)\n",
    "stack_test_pred = stack_model.predict(x_test)\n",
    "\n",
    "stack_test_accuracy = accuracy_score(stack_test_pred, y_test)\n",
    "print(f'Stacking Test Accuracy: {stack_test_accuracy*100} %')\n",
    "stack_test_f1 = f1_score(y_test, stack_test_pred)\n",
    "print(f'Stacking F1-Score for Test : {stack_test_f1}')\n",
    "\n",
    "stack_train_pred = stack_model.predict(x_train)\n",
    "stack_train_accuracy = accuracy_score(stack_train_pred, y_train)\n",
    "print(f'Stacking Train Accuracy: {stack_train_accuracy*100} %')"
   ]
  },
  {
   "cell_type": "markdown",
   "id": "ae734a45",
   "metadata": {},
   "source": [
    "# Voting"
   ]
  },
  {
   "cell_type": "code",
   "execution_count": 33,
   "id": "9330abc9",
   "metadata": {},
   "outputs": [
    {
     "name": "stdout",
     "output_type": "stream",
     "text": [
      "Voting Test Accuracy: 100.0 %\n",
      "Voting F1-Score for Test : 1.0\n",
      "Voting Train Accuracy: 99.85704074338814 %\n"
     ]
    }
   ],
   "source": [
    "from sklearn.ensemble import VotingClassifier\n",
    "\n",
    "from sklearn.neighbors import KNeighborsClassifier\n",
    "from sklearn.naive_bayes import BernoulliNB\n",
    "from sklearn.tree import DecisionTreeClassifier\n",
    "\n",
    "knn = KNeighborsClassifier(n_neighbors=5)\n",
    "bnb = BernoulliNB(alpha=0.75)\n",
    "dtc = DecisionTreeClassifier(max_depth=4)\n",
    "base_learners = [('knn',knn),('bnb',bnb),('dtc',dtc)]\n",
    "\n",
    "vote_model = VotingClassifier(estimators=base_learners,n_jobs=-1,voting='soft')\n",
    "vote_model.fit(x_train,y_train)\n",
    "vote_test_pred = vote_model.predict(x_test)\n",
    "\n",
    "vote_test_accuracy = accuracy_score(vote_test_pred, y_test)\n",
    "print(f'Voting Test Accuracy: {stack_test_accuracy*100} %')\n",
    "vote_test_f1 = f1_score(y_test, vote_test_pred)\n",
    "print(f'Voting F1-Score for Test : {vote_test_f1}')\n",
    "\n",
    "vote_train_pred = vote_model.predict(x_train)\n",
    "vote_train_accuracy = accuracy_score(vote_train_pred, y_train)\n",
    "print(f'Voting Train Accuracy: {vote_train_accuracy*100} %')"
   ]
  },
  {
   "cell_type": "markdown",
   "id": "7c887502",
   "metadata": {},
   "source": [
    "# Conclusion"
   ]
  },
  {
   "cell_type": "code",
   "execution_count": 34,
   "id": "37f8e093",
   "metadata": {},
   "outputs": [
    {
     "data": {
      "text/html": [
       "<div>\n",
       "<style scoped>\n",
       "    .dataframe tbody tr th:only-of-type {\n",
       "        vertical-align: middle;\n",
       "    }\n",
       "\n",
       "    .dataframe tbody tr th {\n",
       "        vertical-align: top;\n",
       "    }\n",
       "\n",
       "    .dataframe thead th {\n",
       "        text-align: right;\n",
       "    }\n",
       "</style>\n",
       "<table border=\"1\" class=\"dataframe\">\n",
       "  <thead>\n",
       "    <tr style=\"text-align: right;\">\n",
       "      <th></th>\n",
       "      <th>Model</th>\n",
       "      <th>Accuracy</th>\n",
       "      <th>F1-Score</th>\n",
       "    </tr>\n",
       "  </thead>\n",
       "  <tbody>\n",
       "    <tr>\n",
       "      <th>0</th>\n",
       "      <td>Decision Tree</td>\n",
       "      <td>1.000000</td>\n",
       "      <td>1.00000</td>\n",
       "    </tr>\n",
       "    <tr>\n",
       "      <th>1</th>\n",
       "      <td>GridSearch</td>\n",
       "      <td>1.000000</td>\n",
       "      <td>1.00000</td>\n",
       "    </tr>\n",
       "    <tr>\n",
       "      <th>2</th>\n",
       "      <td>Random Forest</td>\n",
       "      <td>1.000000</td>\n",
       "      <td>1.00000</td>\n",
       "    </tr>\n",
       "    <tr>\n",
       "      <th>3</th>\n",
       "      <td>Bagging</td>\n",
       "      <td>0.998333</td>\n",
       "      <td>0.99903</td>\n",
       "    </tr>\n",
       "    <tr>\n",
       "      <th>4</th>\n",
       "      <td>AdaBoost</td>\n",
       "      <td>1.000000</td>\n",
       "      <td>1.00000</td>\n",
       "    </tr>\n",
       "    <tr>\n",
       "      <th>5</th>\n",
       "      <td>Gradient Boosting</td>\n",
       "      <td>1.000000</td>\n",
       "      <td>1.00000</td>\n",
       "    </tr>\n",
       "    <tr>\n",
       "      <th>6</th>\n",
       "      <td>XGBoost</td>\n",
       "      <td>1.000000</td>\n",
       "      <td>1.00000</td>\n",
       "    </tr>\n",
       "    <tr>\n",
       "      <th>7</th>\n",
       "      <td>Stacking</td>\n",
       "      <td>1.000000</td>\n",
       "      <td>1.00000</td>\n",
       "    </tr>\n",
       "    <tr>\n",
       "      <th>8</th>\n",
       "      <td>Voting</td>\n",
       "      <td>1.000000</td>\n",
       "      <td>1.00000</td>\n",
       "    </tr>\n",
       "  </tbody>\n",
       "</table>\n",
       "</div>"
      ],
      "text/plain": [
       "               Model  Accuracy  F1-Score\n",
       "0      Decision Tree  1.000000   1.00000\n",
       "1         GridSearch  1.000000   1.00000\n",
       "2      Random Forest  1.000000   1.00000\n",
       "3            Bagging  0.998333   0.99903\n",
       "4           AdaBoost  1.000000   1.00000\n",
       "5  Gradient Boosting  1.000000   1.00000\n",
       "6            XGBoost  1.000000   1.00000\n",
       "7           Stacking  1.000000   1.00000\n",
       "8             Voting  1.000000   1.00000"
      ]
     },
     "execution_count": 34,
     "metadata": {},
     "output_type": "execute_result"
    }
   ],
   "source": [
    "Models_Report = pd.DataFrame(columns=['Model','Accuracy','F1-Score'])\n",
    "\n",
    "Models_Report['Model']  =  ['Decision Tree','GridSearch', 'Random Forest','Bagging','AdaBoost','Gradient Boosting',\n",
    "                         'XGBoost','Stacking','Voting']\n",
    "\n",
    "Models_Report['Accuracy'] = [test_acc, grid_test_acc, clf_test_acc, bg_test_accuracy, ada_test_accuracy,\n",
    "                            gbc_test_accuracy, xgb_test_accuracy, stack_test_accuracy, vote_test_accuracy]\n",
    "\n",
    "Models_Report['F1-Score'] = [dtc_test_f1, grid_test_f1, clf_test_f1, bg_test_f1, ada_test_f1, \n",
    "                            gbc_test_f1, xgb_test_f1, stack_test_f1, vote_test_f1]\n",
    "\n",
    "Models_Report"
   ]
  }
 ],
 "metadata": {
  "kernelspec": {
   "display_name": "Python 3 (ipykernel)",
   "language": "python",
   "name": "python3"
  },
  "language_info": {
   "codemirror_mode": {
    "name": "ipython",
    "version": 3
   },
   "file_extension": ".py",
   "mimetype": "text/x-python",
   "name": "python",
   "nbconvert_exporter": "python",
   "pygments_lexer": "ipython3",
   "version": "3.9.12"
  }
 },
 "nbformat": 4,
 "nbformat_minor": 5
}
