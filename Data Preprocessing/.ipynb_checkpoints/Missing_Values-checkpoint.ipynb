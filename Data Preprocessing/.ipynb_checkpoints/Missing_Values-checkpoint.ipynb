{
 "cells": [
  {
   "cell_type": "raw",
   "id": "148795c6",
   "metadata": {},
   "source": [
    "                                                                                                            Vaibhav Chaudhari\n",
    "                                                                                                            DSWDEOS 280422"
   ]
  },
  {
   "cell_type": "markdown",
   "id": "8ca44bd5",
   "metadata": {},
   "source": [
    "# Missing Values"
   ]
  },
  {
   "cell_type": "code",
   "execution_count": 1,
   "id": "f4949e3d",
   "metadata": {},
   "outputs": [],
   "source": [
    "# Importing all necessary libraries\n",
    "import pandas as pd\n",
    "import numpy as np\n",
    "import matplotlib.pyplot as plt\n",
    "import seaborn as sns\n",
    "%matplotlib inline"
   ]
  },
  {
   "cell_type": "code",
   "execution_count": 2,
   "id": "c47e77b3",
   "metadata": {},
   "outputs": [],
   "source": [
    "# Import boston dataset\n",
    "data = pd.read_csv('C:\\\\Users\\\\vaibh\\\\Desktop\\\\360 Digitmg\\\\Data Preprocessing\\\\DataSets\\\\claimants.csv')"
   ]
  },
  {
   "cell_type": "code",
   "execution_count": 3,
   "id": "91c95cb0",
   "metadata": {
    "scrolled": false
   },
   "outputs": [
    {
     "data": {
      "text/html": [
       "<div>\n",
       "<style scoped>\n",
       "    .dataframe tbody tr th:only-of-type {\n",
       "        vertical-align: middle;\n",
       "    }\n",
       "\n",
       "    .dataframe tbody tr th {\n",
       "        vertical-align: top;\n",
       "    }\n",
       "\n",
       "    .dataframe thead th {\n",
       "        text-align: right;\n",
       "    }\n",
       "</style>\n",
       "<table border=\"1\" class=\"dataframe\">\n",
       "  <thead>\n",
       "    <tr style=\"text-align: right;\">\n",
       "      <th></th>\n",
       "      <th>CASENUM</th>\n",
       "      <th>ATTORNEY</th>\n",
       "      <th>CLMSEX</th>\n",
       "      <th>CLMINSUR</th>\n",
       "      <th>SEATBELT</th>\n",
       "      <th>CLMAGE</th>\n",
       "      <th>LOSS</th>\n",
       "    </tr>\n",
       "  </thead>\n",
       "  <tbody>\n",
       "    <tr>\n",
       "      <th>0</th>\n",
       "      <td>5</td>\n",
       "      <td>0</td>\n",
       "      <td>0.0</td>\n",
       "      <td>1.0</td>\n",
       "      <td>0.0</td>\n",
       "      <td>50.0</td>\n",
       "      <td>34.940</td>\n",
       "    </tr>\n",
       "    <tr>\n",
       "      <th>1</th>\n",
       "      <td>3</td>\n",
       "      <td>1</td>\n",
       "      <td>1.0</td>\n",
       "      <td>0.0</td>\n",
       "      <td>0.0</td>\n",
       "      <td>18.0</td>\n",
       "      <td>0.891</td>\n",
       "    </tr>\n",
       "    <tr>\n",
       "      <th>2</th>\n",
       "      <td>66</td>\n",
       "      <td>1</td>\n",
       "      <td>0.0</td>\n",
       "      <td>1.0</td>\n",
       "      <td>0.0</td>\n",
       "      <td>5.0</td>\n",
       "      <td>0.330</td>\n",
       "    </tr>\n",
       "    <tr>\n",
       "      <th>3</th>\n",
       "      <td>70</td>\n",
       "      <td>0</td>\n",
       "      <td>0.0</td>\n",
       "      <td>1.0</td>\n",
       "      <td>1.0</td>\n",
       "      <td>31.0</td>\n",
       "      <td>0.037</td>\n",
       "    </tr>\n",
       "    <tr>\n",
       "      <th>4</th>\n",
       "      <td>96</td>\n",
       "      <td>1</td>\n",
       "      <td>0.0</td>\n",
       "      <td>1.0</td>\n",
       "      <td>0.0</td>\n",
       "      <td>30.0</td>\n",
       "      <td>0.038</td>\n",
       "    </tr>\n",
       "  </tbody>\n",
       "</table>\n",
       "</div>"
      ],
      "text/plain": [
       "   CASENUM  ATTORNEY  CLMSEX  CLMINSUR  SEATBELT  CLMAGE    LOSS\n",
       "0        5         0     0.0       1.0       0.0    50.0  34.940\n",
       "1        3         1     1.0       0.0       0.0    18.0   0.891\n",
       "2       66         1     0.0       1.0       0.0     5.0   0.330\n",
       "3       70         0     0.0       1.0       1.0    31.0   0.037\n",
       "4       96         1     0.0       1.0       0.0    30.0   0.038"
      ]
     },
     "execution_count": 3,
     "metadata": {},
     "output_type": "execute_result"
    }
   ],
   "source": [
    "# Top rows of dataset\n",
    "data.head()"
   ]
  },
  {
   "cell_type": "code",
   "execution_count": 4,
   "id": "0a0867d7",
   "metadata": {},
   "outputs": [
    {
     "data": {
      "text/plain": [
       "Index(['CASENUM', 'ATTORNEY', 'CLMSEX', 'CLMINSUR', 'SEATBELT', 'CLMAGE',\n",
       "       'LOSS'],\n",
       "      dtype='object')"
      ]
     },
     "execution_count": 4,
     "metadata": {},
     "output_type": "execute_result"
    }
   ],
   "source": [
    "#Check the column titles\n",
    "data.columns"
   ]
  },
  {
   "cell_type": "code",
   "execution_count": 5,
   "id": "da74a20e",
   "metadata": {},
   "outputs": [
    {
     "data": {
      "text/plain": [
       "(1340, 7)"
      ]
     },
     "execution_count": 5,
     "metadata": {},
     "output_type": "execute_result"
    }
   ],
   "source": [
    "# Shape of dataset\n",
    "data.shape"
   ]
  },
  {
   "cell_type": "code",
   "execution_count": 6,
   "id": "a0cbcec1",
   "metadata": {},
   "outputs": [
    {
     "name": "stdout",
     "output_type": "stream",
     "text": [
      "<class 'pandas.core.frame.DataFrame'>\n",
      "RangeIndex: 1340 entries, 0 to 1339\n",
      "Data columns (total 7 columns):\n",
      " #   Column    Non-Null Count  Dtype  \n",
      "---  ------    --------------  -----  \n",
      " 0   CASENUM   1340 non-null   int64  \n",
      " 1   ATTORNEY  1340 non-null   int64  \n",
      " 2   CLMSEX    1328 non-null   float64\n",
      " 3   CLMINSUR  1299 non-null   float64\n",
      " 4   SEATBELT  1292 non-null   float64\n",
      " 5   CLMAGE    1151 non-null   float64\n",
      " 6   LOSS      1340 non-null   float64\n",
      "dtypes: float64(5), int64(2)\n",
      "memory usage: 73.4 KB\n"
     ]
    }
   ],
   "source": [
    "# Get data information\n",
    "data.info()"
   ]
  },
  {
   "cell_type": "code",
   "execution_count": 7,
   "id": "06a4c4e7",
   "metadata": {
    "scrolled": true
   },
   "outputs": [
    {
     "data": {
      "text/plain": [
       "CASENUM       0\n",
       "ATTORNEY      0\n",
       "CLMSEX       12\n",
       "CLMINSUR     41\n",
       "SEATBELT     48\n",
       "CLMAGE      189\n",
       "LOSS          0\n",
       "dtype: int64"
      ]
     },
     "execution_count": 7,
     "metadata": {},
     "output_type": "execute_result"
    }
   ],
   "source": [
    "# Check for null values\n",
    "data.isnull().sum()"
   ]
  },
  {
   "cell_type": "markdown",
   "id": "e1e490ee",
   "metadata": {},
   "source": [
    "There are no null values in the given datasets "
   ]
  },
  {
   "cell_type": "code",
   "execution_count": 8,
   "id": "8ee95190",
   "metadata": {},
   "outputs": [
    {
     "data": {
      "text/plain": [
       "0"
      ]
     },
     "execution_count": 8,
     "metadata": {},
     "output_type": "execute_result"
    }
   ],
   "source": [
    "# Check for duplicate values\n",
    "\n",
    "data.duplicated().sum()"
   ]
  },
  {
   "cell_type": "markdown",
   "id": "85dbcc09",
   "metadata": {},
   "source": [
    "There are no duplicate values"
   ]
  },
  {
   "cell_type": "code",
   "execution_count": 9,
   "id": "66fd8bc5",
   "metadata": {
    "scrolled": true
   },
   "outputs": [
    {
     "data": {
      "text/html": [
       "<div>\n",
       "<style scoped>\n",
       "    .dataframe tbody tr th:only-of-type {\n",
       "        vertical-align: middle;\n",
       "    }\n",
       "\n",
       "    .dataframe tbody tr th {\n",
       "        vertical-align: top;\n",
       "    }\n",
       "\n",
       "    .dataframe thead th {\n",
       "        text-align: right;\n",
       "    }\n",
       "</style>\n",
       "<table border=\"1\" class=\"dataframe\">\n",
       "  <thead>\n",
       "    <tr style=\"text-align: right;\">\n",
       "      <th></th>\n",
       "      <th>CASENUM</th>\n",
       "      <th>ATTORNEY</th>\n",
       "      <th>CLMSEX</th>\n",
       "      <th>CLMINSUR</th>\n",
       "      <th>SEATBELT</th>\n",
       "      <th>CLMAGE</th>\n",
       "      <th>LOSS</th>\n",
       "    </tr>\n",
       "  </thead>\n",
       "  <tbody>\n",
       "    <tr>\n",
       "      <th>count</th>\n",
       "      <td>1340.000000</td>\n",
       "      <td>1340.000000</td>\n",
       "      <td>1328.000000</td>\n",
       "      <td>1299.000000</td>\n",
       "      <td>1292.000000</td>\n",
       "      <td>1151.000000</td>\n",
       "      <td>1340.000000</td>\n",
       "    </tr>\n",
       "    <tr>\n",
       "      <th>mean</th>\n",
       "      <td>11202.001493</td>\n",
       "      <td>0.488806</td>\n",
       "      <td>0.558735</td>\n",
       "      <td>0.907621</td>\n",
       "      <td>0.017028</td>\n",
       "      <td>28.414422</td>\n",
       "      <td>3.806307</td>\n",
       "    </tr>\n",
       "    <tr>\n",
       "      <th>std</th>\n",
       "      <td>9512.750796</td>\n",
       "      <td>0.500061</td>\n",
       "      <td>0.496725</td>\n",
       "      <td>0.289671</td>\n",
       "      <td>0.129425</td>\n",
       "      <td>20.304451</td>\n",
       "      <td>10.636903</td>\n",
       "    </tr>\n",
       "    <tr>\n",
       "      <th>min</th>\n",
       "      <td>0.000000</td>\n",
       "      <td>0.000000</td>\n",
       "      <td>0.000000</td>\n",
       "      <td>0.000000</td>\n",
       "      <td>0.000000</td>\n",
       "      <td>0.000000</td>\n",
       "      <td>0.000000</td>\n",
       "    </tr>\n",
       "    <tr>\n",
       "      <th>25%</th>\n",
       "      <td>4177.000000</td>\n",
       "      <td>0.000000</td>\n",
       "      <td>0.000000</td>\n",
       "      <td>1.000000</td>\n",
       "      <td>0.000000</td>\n",
       "      <td>9.000000</td>\n",
       "      <td>0.400000</td>\n",
       "    </tr>\n",
       "    <tr>\n",
       "      <th>50%</th>\n",
       "      <td>8756.500000</td>\n",
       "      <td>0.000000</td>\n",
       "      <td>1.000000</td>\n",
       "      <td>1.000000</td>\n",
       "      <td>0.000000</td>\n",
       "      <td>30.000000</td>\n",
       "      <td>1.069500</td>\n",
       "    </tr>\n",
       "    <tr>\n",
       "      <th>75%</th>\n",
       "      <td>15702.500000</td>\n",
       "      <td>1.000000</td>\n",
       "      <td>1.000000</td>\n",
       "      <td>1.000000</td>\n",
       "      <td>0.000000</td>\n",
       "      <td>43.000000</td>\n",
       "      <td>3.781500</td>\n",
       "    </tr>\n",
       "    <tr>\n",
       "      <th>max</th>\n",
       "      <td>34153.000000</td>\n",
       "      <td>1.000000</td>\n",
       "      <td>1.000000</td>\n",
       "      <td>1.000000</td>\n",
       "      <td>1.000000</td>\n",
       "      <td>95.000000</td>\n",
       "      <td>173.604000</td>\n",
       "    </tr>\n",
       "  </tbody>\n",
       "</table>\n",
       "</div>"
      ],
      "text/plain": [
       "            CASENUM     ATTORNEY       CLMSEX     CLMINSUR     SEATBELT  \\\n",
       "count   1340.000000  1340.000000  1328.000000  1299.000000  1292.000000   \n",
       "mean   11202.001493     0.488806     0.558735     0.907621     0.017028   \n",
       "std     9512.750796     0.500061     0.496725     0.289671     0.129425   \n",
       "min        0.000000     0.000000     0.000000     0.000000     0.000000   \n",
       "25%     4177.000000     0.000000     0.000000     1.000000     0.000000   \n",
       "50%     8756.500000     0.000000     1.000000     1.000000     0.000000   \n",
       "75%    15702.500000     1.000000     1.000000     1.000000     0.000000   \n",
       "max    34153.000000     1.000000     1.000000     1.000000     1.000000   \n",
       "\n",
       "            CLMAGE         LOSS  \n",
       "count  1151.000000  1340.000000  \n",
       "mean     28.414422     3.806307  \n",
       "std      20.304451    10.636903  \n",
       "min       0.000000     0.000000  \n",
       "25%       9.000000     0.400000  \n",
       "50%      30.000000     1.069500  \n",
       "75%      43.000000     3.781500  \n",
       "max      95.000000   173.604000  "
      ]
     },
     "execution_count": 9,
     "metadata": {},
     "output_type": "execute_result"
    }
   ],
   "source": [
    "# Display desciptive statistics for the dataset\n",
    "data.describe()"
   ]
  },
  {
   "cell_type": "code",
   "execution_count": 10,
   "id": "a70bb015",
   "metadata": {},
   "outputs": [
    {
     "data": {
      "text/html": [
       "<div>\n",
       "<style scoped>\n",
       "    .dataframe tbody tr th:only-of-type {\n",
       "        vertical-align: middle;\n",
       "    }\n",
       "\n",
       "    .dataframe tbody tr th {\n",
       "        vertical-align: top;\n",
       "    }\n",
       "\n",
       "    .dataframe thead th {\n",
       "        text-align: right;\n",
       "    }\n",
       "</style>\n",
       "<table border=\"1\" class=\"dataframe\">\n",
       "  <thead>\n",
       "    <tr style=\"text-align: right;\">\n",
       "      <th></th>\n",
       "      <th>Name of Feature</th>\n",
       "      <th>Description</th>\n",
       "      <th>Type</th>\n",
       "      <th>Relevance</th>\n",
       "    </tr>\n",
       "  </thead>\n",
       "  <tbody>\n",
       "    <tr>\n",
       "      <th>0</th>\n",
       "      <td>CASENUM</td>\n",
       "      <td>Case number to identify the claim</td>\n",
       "      <td>Nominal</td>\n",
       "      <td>Irrelevant</td>\n",
       "    </tr>\n",
       "    <tr>\n",
       "      <th>1</th>\n",
       "      <td>ATTORNEY</td>\n",
       "      <td>Whether claimant is represented by an Attorney</td>\n",
       "      <td>Nominal</td>\n",
       "      <td>Relevant</td>\n",
       "    </tr>\n",
       "    <tr>\n",
       "      <th>2</th>\n",
       "      <td>CLMSEX</td>\n",
       "      <td>Claimant’s gender</td>\n",
       "      <td>Nominal</td>\n",
       "      <td>Relevant</td>\n",
       "    </tr>\n",
       "    <tr>\n",
       "      <th>3</th>\n",
       "      <td>CLMINSUR</td>\n",
       "      <td>Claimant’s vehicle insured or not</td>\n",
       "      <td>Nominal</td>\n",
       "      <td>Relevant</td>\n",
       "    </tr>\n",
       "    <tr>\n",
       "      <th>4</th>\n",
       "      <td>SEATBELT</td>\n",
       "      <td>Whether or not Claimant was wearing a seatbelt</td>\n",
       "      <td>Nominal</td>\n",
       "      <td>Relevant</td>\n",
       "    </tr>\n",
       "    <tr>\n",
       "      <th>5</th>\n",
       "      <td>CLMAGE</td>\n",
       "      <td>Claimant’s age</td>\n",
       "      <td>Ratio</td>\n",
       "      <td>Relevant</td>\n",
       "    </tr>\n",
       "    <tr>\n",
       "      <th>6</th>\n",
       "      <td>LOSS</td>\n",
       "      <td>Claimants total loss</td>\n",
       "      <td>Ratio</td>\n",
       "      <td>Relevant</td>\n",
       "    </tr>\n",
       "  </tbody>\n",
       "</table>\n",
       "</div>"
      ],
      "text/plain": [
       "  Name of Feature                                      Description     Type  \\\n",
       "0         CASENUM                Case number to identify the claim  Nominal   \n",
       "1        ATTORNEY  Whether claimant is represented by an Attorney   Nominal   \n",
       "2          CLMSEX                                Claimant’s gender  Nominal   \n",
       "3        CLMINSUR                Claimant’s vehicle insured or not  Nominal   \n",
       "4        SEATBELT   Whether or not Claimant was wearing a seatbelt  Nominal   \n",
       "5          CLMAGE                                   Claimant’s age    Ratio   \n",
       "6            LOSS                             Claimants total loss    Ratio   \n",
       "\n",
       "    Relevance  \n",
       "0  Irrelevant  \n",
       "1    Relevant  \n",
       "2    Relevant  \n",
       "3    Relevant  \n",
       "4    Relevant  \n",
       "5    Relevant  \n",
       "6    Relevant  "
      ]
     },
     "execution_count": 10,
     "metadata": {},
     "output_type": "execute_result"
    }
   ],
   "source": [
    "# Creating the feature dictionary\n",
    "feature_dict = pd.DataFrame(columns=['Name of Feature','Description','Type','Relevance'])\n",
    "\n",
    "feature_dict ['Name of Feature'] = data.columns\n",
    "\n",
    "feature_dict ['Description'] = ['Case number to identify the claim',\n",
    "'Whether claimant is represented by an Attorney ',\n",
    "'Claimant’s gender',\n",
    "'Claimant’s vehicle insured or not',\n",
    "'Whether or not Claimant was wearing a seatbelt','Claimant’s age','Claimants total loss']\n",
    "\n",
    "feature_dict['Type'] = ['Nominal','Nominal','Nominal','Nominal',\n",
    "                        'Nominal','Ratio','Ratio']\n",
    "\n",
    "feature_dict['Relevance'] = ['Irrelevant','Relevant','Relevant',\n",
    "                            'Relevant','Relevant','Relevant','Relevant']\n",
    "\n",
    "feature_dict"
   ]
  },
  {
   "cell_type": "code",
   "execution_count": 11,
   "id": "4d365841",
   "metadata": {},
   "outputs": [],
   "source": [
    "# Dropping Irrelevant feature\n",
    "data.drop(['CASENUM'],axis = 1,inplace = True)"
   ]
  },
  {
   "cell_type": "code",
   "execution_count": 12,
   "id": "16cbd78b",
   "metadata": {
    "scrolled": true
   },
   "outputs": [
    {
     "data": {
      "text/html": [
       "<div>\n",
       "<style scoped>\n",
       "    .dataframe tbody tr th:only-of-type {\n",
       "        vertical-align: middle;\n",
       "    }\n",
       "\n",
       "    .dataframe tbody tr th {\n",
       "        vertical-align: top;\n",
       "    }\n",
       "\n",
       "    .dataframe thead th {\n",
       "        text-align: right;\n",
       "    }\n",
       "</style>\n",
       "<table border=\"1\" class=\"dataframe\">\n",
       "  <thead>\n",
       "    <tr style=\"text-align: right;\">\n",
       "      <th></th>\n",
       "      <th>ATTORNEY</th>\n",
       "      <th>CLMSEX</th>\n",
       "      <th>CLMINSUR</th>\n",
       "      <th>SEATBELT</th>\n",
       "      <th>CLMAGE</th>\n",
       "      <th>LOSS</th>\n",
       "    </tr>\n",
       "  </thead>\n",
       "  <tbody>\n",
       "    <tr>\n",
       "      <th>0</th>\n",
       "      <td>0</td>\n",
       "      <td>0.0</td>\n",
       "      <td>1.0</td>\n",
       "      <td>0.0</td>\n",
       "      <td>50.0</td>\n",
       "      <td>34.940</td>\n",
       "    </tr>\n",
       "    <tr>\n",
       "      <th>1</th>\n",
       "      <td>1</td>\n",
       "      <td>1.0</td>\n",
       "      <td>0.0</td>\n",
       "      <td>0.0</td>\n",
       "      <td>18.0</td>\n",
       "      <td>0.891</td>\n",
       "    </tr>\n",
       "    <tr>\n",
       "      <th>2</th>\n",
       "      <td>1</td>\n",
       "      <td>0.0</td>\n",
       "      <td>1.0</td>\n",
       "      <td>0.0</td>\n",
       "      <td>5.0</td>\n",
       "      <td>0.330</td>\n",
       "    </tr>\n",
       "    <tr>\n",
       "      <th>3</th>\n",
       "      <td>0</td>\n",
       "      <td>0.0</td>\n",
       "      <td>1.0</td>\n",
       "      <td>1.0</td>\n",
       "      <td>31.0</td>\n",
       "      <td>0.037</td>\n",
       "    </tr>\n",
       "    <tr>\n",
       "      <th>4</th>\n",
       "      <td>1</td>\n",
       "      <td>0.0</td>\n",
       "      <td>1.0</td>\n",
       "      <td>0.0</td>\n",
       "      <td>30.0</td>\n",
       "      <td>0.038</td>\n",
       "    </tr>\n",
       "  </tbody>\n",
       "</table>\n",
       "</div>"
      ],
      "text/plain": [
       "   ATTORNEY  CLMSEX  CLMINSUR  SEATBELT  CLMAGE    LOSS\n",
       "0         0     0.0       1.0       0.0    50.0  34.940\n",
       "1         1     1.0       0.0       0.0    18.0   0.891\n",
       "2         1     0.0       1.0       0.0     5.0   0.330\n",
       "3         0     0.0       1.0       1.0    31.0   0.037\n",
       "4         1     0.0       1.0       0.0    30.0   0.038"
      ]
     },
     "execution_count": 12,
     "metadata": {},
     "output_type": "execute_result"
    }
   ],
   "source": [
    "data.head()"
   ]
  },
  {
   "cell_type": "code",
   "execution_count": 13,
   "id": "d5841057",
   "metadata": {},
   "outputs": [
    {
     "data": {
      "text/plain": [
       "ATTORNEY      0\n",
       "CLMSEX       12\n",
       "CLMINSUR     41\n",
       "SEATBELT     48\n",
       "CLMAGE      189\n",
       "LOSS          0\n",
       "dtype: int64"
      ]
     },
     "execution_count": 13,
     "metadata": {},
     "output_type": "execute_result"
    }
   ],
   "source": [
    "# Handling missing values\n",
    "data.isnull().sum()"
   ]
  },
  {
   "cell_type": "code",
   "execution_count": 14,
   "id": "0c9dedc9",
   "metadata": {},
   "outputs": [
    {
     "data": {
      "image/png": "[encoded data removed]",
      "text/plain": [
       "<Figure size 720x360 with 4 Axes>"
      ]
     },
     "metadata": {
      "needs_background": "light"
     },
     "output_type": "display_data"
    }
   ],
   "source": [
    "# Countplot to check for most repetitive values\n",
    "\n",
    "fig,axs = plt.subplots(2,2,figsize=(10,5))\n",
    "index = 0\n",
    "axs = axs.flatten()\n",
    "for feature in data.iloc[:,[1,2,3]]:\n",
    "    sns.countplot(x = data[feature], ax= axs[index]);\n",
    "    index +=1\n",
    "plt.tight_layout(h_pad=0.5,pad=1,w_pad=2)"
   ]
  },
  {
   "cell_type": "code",
   "execution_count": 15,
   "id": "b7fb3dfa",
   "metadata": {},
   "outputs": [
    {
     "name": "stdout",
     "output_type": "stream",
     "text": [
      "0    1.0\n",
      "Name: CLMSEX, dtype: float64\n",
      "0    1.0\n",
      "Name: CLMINSUR, dtype: float64\n",
      "0    0.0\n",
      "Name: SEATBELT, dtype: float64\n"
     ]
    }
   ],
   "source": [
    "# Checking mode of each feature\n",
    "\n",
    "print(data.CLMSEX.mode())\n",
    "print(data.CLMINSUR.mode())\n",
    "print(data.SEATBELT.mode())"
   ]
  },
  {
   "cell_type": "code",
   "execution_count": 16,
   "id": "abe078f6",
   "metadata": {},
   "outputs": [],
   "source": [
    "# Using Mode Imputation for nominal data \n",
    "\n",
    "data.CLMSEX.fillna(value = 1 , inplace = True)\n",
    "data.CLMINSUR.fillna(value = 1 , inplace = True)\n",
    "data.SEATBELT.fillna(value = 0 , inplace = True)"
   ]
  },
  {
   "cell_type": "code",
   "execution_count": 17,
   "id": "c1c45c8f",
   "metadata": {},
   "outputs": [
    {
     "name": "stdout",
     "output_type": "stream",
     "text": [
      "AxesSubplot(0.125,0.125;0.775x0.755)\n",
      "Outlier Percentage:- 0.0746268656716418 %\n"
     ]
    },
    {
     "data": {
      "image/png": "[encoded data removed]",
      "text/plain": [
       "<Figure size 432x288 with 1 Axes>"
      ]
     },
     "metadata": {
      "needs_background": "light"
     },
     "output_type": "display_data"
    }
   ],
   "source": [
    "# For age first checking for outliers\n",
    "bxplt = sns.boxplot(x = data.CLMAGE) ; print(bxplt);\n",
    "\n",
    "#Using IQR for outlier treatments\n",
    "\n",
    "IQR = data['CLMAGE'].quantile(0.75) - data['CLMAGE'].quantile(0.25)\n",
    "low_end = data['CLMAGE'].quantile(0.25) - (1.5*IQR)\n",
    "upper_end = data['CLMAGE'].quantile(0.75) + (1.5*IQR)\n",
    "\n",
    "# Checking percentage of outliers in the feature\n",
    "outlier_per = (len([feature for feature in data.CLMAGE if feature > upper_end])/len(data.CLMAGE))*100\n",
    "print(( 'Outlier Percentage:- {} %').format(outlier_per))"
   ]
  },
  {
   "cell_type": "code",
   "execution_count": 18,
   "id": "ab094559",
   "metadata": {},
   "outputs": [],
   "source": [
    "# Remove the outlier as percentage of number of outliers is very small  \n",
    "\n",
    "index = [i for i,v in enumerate(data.CLMAGE) if v > upper_end];\n",
    "data.drop(index=635,axis=0,inplace = True)"
   ]
  },
  {
   "cell_type": "code",
   "execution_count": 19,
   "id": "f730000c",
   "metadata": {},
   "outputs": [
    {
     "data": {
      "text/plain": [
       "<AxesSubplot:xlabel='CLMAGE', ylabel='Count'>"
      ]
     },
     "execution_count": 19,
     "metadata": {},
     "output_type": "execute_result"
    },
    {
     "data": {
      "image/png": "[encoded data removed]",
      "text/plain": [
       "<Figure size 432x288 with 1 Axes>"
      ]
     },
     "metadata": {
      "needs_background": "light"
     },
     "output_type": "display_data"
    }
   ],
   "source": [
    "sns.histplot(data.CLMAGE,kde = 1,bins=10)"
   ]
  },
  {
   "cell_type": "code",
   "execution_count": 20,
   "id": "fff5ee96",
   "metadata": {},
   "outputs": [],
   "source": [
    "# Replacing missing values in CLMAGE by mean\n",
    "\n",
    "data.CLMAGE.fillna(value = np.round(np.mean(data.CLMAGE),2), inplace = True)"
   ]
  },
  {
   "cell_type": "code",
   "execution_count": 21,
   "id": "0eb18912",
   "metadata": {},
   "outputs": [
    {
     "data": {
      "text/plain": [
       "<AxesSubplot:xlabel='CLMAGE', ylabel='Count'>"
      ]
     },
     "execution_count": 21,
     "metadata": {},
     "output_type": "execute_result"
    },
    {
     "data": {
      "image/png": "[encoded data removed]",
      "text/plain": [
       "<Figure size 432x288 with 1 Axes>"
      ]
     },
     "metadata": {
      "needs_background": "light"
     },
     "output_type": "display_data"
    }
   ],
   "source": [
    "# histogram of age\n",
    "sns.histplot(x = data.CLMAGE, kde = 1, bins=10)"
   ]
  },
  {
   "cell_type": "markdown",
   "id": "d277f5e0",
   "metadata": {},
   "source": [
    "The histogram shows that the data is right skewed."
   ]
  }
 ],
 "metadata": {
  "kernelspec": {
   "display_name": "Python 3 (ipykernel)",
   "language": "python",
   "name": "python3"
  },
  "language_info": {
   "codemirror_mode": {
    "name": "ipython",
    "version": 3
   },
   "file_extension": ".py",
   "mimetype": "text/x-python",
   "name": "python",
   "nbconvert_exporter": "python",
   "pygments_lexer": "ipython3",
   "version": "3.9.12"
  }
 },
 "nbformat": 4,
 "nbformat_minor": 5
}
