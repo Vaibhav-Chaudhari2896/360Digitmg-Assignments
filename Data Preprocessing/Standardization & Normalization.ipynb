{
 "cells": [
  {
   "cell_type": "raw",
   "id": "517a9fdf",
   "metadata": {},
   "source": [
    "                                                                                                            Vaibhav Chaudhari\n",
    "                                                                                                            DSWDEOS 280422"
   ]
  },
  {
   "cell_type": "markdown",
   "id": "8ca44bd5",
   "metadata": {},
   "source": [
    "# Standardization and Normalization"
   ]
  },
  {
   "cell_type": "code",
   "execution_count": 1,
   "id": "f4949e3d",
   "metadata": {},
   "outputs": [],
   "source": [
    "# Importing all necessary libraries\n",
    "import pandas as pd\n",
    "import numpy as np\n",
    "import matplotlib.pyplot as plt\n",
    "import seaborn as sns\n",
    "%matplotlib inline"
   ]
  },
  {
   "cell_type": "code",
   "execution_count": 2,
   "id": "c47e77b3",
   "metadata": {},
   "outputs": [],
   "source": [
    "# Import boston dataset\n",
    "data = pd.read_csv('C:\\\\Users\\\\vaibh\\\\Desktop\\\\360 Digitmg\\\\Data Preprocessing\\\\DataSets\\\\Seeds_data.csv')"
   ]
  },
  {
   "cell_type": "code",
   "execution_count": 3,
   "id": "91c95cb0",
   "metadata": {},
   "outputs": [
    {
     "data": {
      "text/html": [
       "<div>\n",
       "<style scoped>\n",
       "    .dataframe tbody tr th:only-of-type {\n",
       "        vertical-align: middle;\n",
       "    }\n",
       "\n",
       "    .dataframe tbody tr th {\n",
       "        vertical-align: top;\n",
       "    }\n",
       "\n",
       "    .dataframe thead th {\n",
       "        text-align: right;\n",
       "    }\n",
       "</style>\n",
       "<table border=\"1\" class=\"dataframe\">\n",
       "  <thead>\n",
       "    <tr style=\"text-align: right;\">\n",
       "      <th></th>\n",
       "      <th>Area</th>\n",
       "      <th>Perimeter</th>\n",
       "      <th>Compactness</th>\n",
       "      <th>length</th>\n",
       "      <th>Width</th>\n",
       "      <th>Assymetry_coeff</th>\n",
       "      <th>len_ker_grove</th>\n",
       "      <th>Type</th>\n",
       "    </tr>\n",
       "  </thead>\n",
       "  <tbody>\n",
       "    <tr>\n",
       "      <th>0</th>\n",
       "      <td>15.26</td>\n",
       "      <td>14.84</td>\n",
       "      <td>0.8710</td>\n",
       "      <td>5.763</td>\n",
       "      <td>3.312</td>\n",
       "      <td>2.221</td>\n",
       "      <td>5.220</td>\n",
       "      <td>1</td>\n",
       "    </tr>\n",
       "    <tr>\n",
       "      <th>1</th>\n",
       "      <td>14.88</td>\n",
       "      <td>14.57</td>\n",
       "      <td>0.8811</td>\n",
       "      <td>5.554</td>\n",
       "      <td>3.333</td>\n",
       "      <td>1.018</td>\n",
       "      <td>4.956</td>\n",
       "      <td>1</td>\n",
       "    </tr>\n",
       "    <tr>\n",
       "      <th>2</th>\n",
       "      <td>14.29</td>\n",
       "      <td>14.09</td>\n",
       "      <td>0.9050</td>\n",
       "      <td>5.291</td>\n",
       "      <td>3.337</td>\n",
       "      <td>2.699</td>\n",
       "      <td>4.825</td>\n",
       "      <td>1</td>\n",
       "    </tr>\n",
       "    <tr>\n",
       "      <th>3</th>\n",
       "      <td>13.84</td>\n",
       "      <td>13.94</td>\n",
       "      <td>0.8955</td>\n",
       "      <td>5.324</td>\n",
       "      <td>3.379</td>\n",
       "      <td>2.259</td>\n",
       "      <td>4.805</td>\n",
       "      <td>1</td>\n",
       "    </tr>\n",
       "    <tr>\n",
       "      <th>4</th>\n",
       "      <td>16.14</td>\n",
       "      <td>14.99</td>\n",
       "      <td>0.9034</td>\n",
       "      <td>5.658</td>\n",
       "      <td>3.562</td>\n",
       "      <td>1.355</td>\n",
       "      <td>5.175</td>\n",
       "      <td>1</td>\n",
       "    </tr>\n",
       "  </tbody>\n",
       "</table>\n",
       "</div>"
      ],
      "text/plain": [
       "    Area  Perimeter   Compactness  length  Width  Assymetry_coeff  \\\n",
       "0  15.26       14.84       0.8710   5.763  3.312            2.221   \n",
       "1  14.88       14.57       0.8811   5.554  3.333            1.018   \n",
       "2  14.29       14.09       0.9050   5.291  3.337            2.699   \n",
       "3  13.84       13.94       0.8955   5.324  3.379            2.259   \n",
       "4  16.14       14.99       0.9034   5.658  3.562            1.355   \n",
       "\n",
       "   len_ker_grove  Type  \n",
       "0          5.220     1  \n",
       "1          4.956     1  \n",
       "2          4.825     1  \n",
       "3          4.805     1  \n",
       "4          5.175     1  "
      ]
     },
     "execution_count": 3,
     "metadata": {},
     "output_type": "execute_result"
    }
   ],
   "source": [
    "# Top rows of dataset\n",
    "data.head()"
   ]
  },
  {
   "cell_type": "code",
   "execution_count": 4,
   "id": "c53dd135",
   "metadata": {
    "scrolled": true
   },
   "outputs": [
    {
     "data": {
      "text/plain": [
       "Index(['Area', 'Perimeter ', 'Compactness', 'length', 'Width',\n",
       "       'Assymetry_coeff', 'len_ker_grove', 'Type'],\n",
       "      dtype='object')"
      ]
     },
     "execution_count": 4,
     "metadata": {},
     "output_type": "execute_result"
    }
   ],
   "source": [
    "# Check the column titles\n",
    "data.columns"
   ]
  },
  {
   "cell_type": "code",
   "execution_count": 5,
   "id": "da74a20e",
   "metadata": {},
   "outputs": [
    {
     "data": {
      "text/plain": [
       "(210, 8)"
      ]
     },
     "execution_count": 5,
     "metadata": {},
     "output_type": "execute_result"
    }
   ],
   "source": [
    "# Shape of dataset\n",
    "data.shape"
   ]
  },
  {
   "cell_type": "code",
   "execution_count": 6,
   "id": "a0cbcec1",
   "metadata": {},
   "outputs": [
    {
     "name": "stdout",
     "output_type": "stream",
     "text": [
      "<class 'pandas.core.frame.DataFrame'>\n",
      "RangeIndex: 210 entries, 0 to 209\n",
      "Data columns (total 8 columns):\n",
      " #   Column           Non-Null Count  Dtype  \n",
      "---  ------           --------------  -----  \n",
      " 0   Area             210 non-null    float64\n",
      " 1   Perimeter        210 non-null    float64\n",
      " 2   Compactness      210 non-null    float64\n",
      " 3   length           210 non-null    float64\n",
      " 4   Width            210 non-null    float64\n",
      " 5   Assymetry_coeff  210 non-null    float64\n",
      " 6   len_ker_grove    210 non-null    float64\n",
      " 7   Type             210 non-null    int64  \n",
      "dtypes: float64(7), int64(1)\n",
      "memory usage: 13.2 KB\n"
     ]
    }
   ],
   "source": [
    "# Get data information\n",
    "data.info()"
   ]
  },
  {
   "cell_type": "code",
   "execution_count": 7,
   "id": "06a4c4e7",
   "metadata": {
    "scrolled": true
   },
   "outputs": [
    {
     "data": {
      "text/plain": [
       "Area               0\n",
       "Perimeter          0\n",
       "Compactness        0\n",
       "length             0\n",
       "Width              0\n",
       "Assymetry_coeff    0\n",
       "len_ker_grove      0\n",
       "Type               0\n",
       "dtype: int64"
      ]
     },
     "execution_count": 7,
     "metadata": {},
     "output_type": "execute_result"
    }
   ],
   "source": [
    "# Check for null values\n",
    "data.isnull().sum()"
   ]
  },
  {
   "cell_type": "markdown",
   "id": "e1e490ee",
   "metadata": {},
   "source": [
    "There are no null values in the given datasets "
   ]
  },
  {
   "cell_type": "code",
   "execution_count": 8,
   "id": "8ee95190",
   "metadata": {},
   "outputs": [
    {
     "data": {
      "text/plain": [
       "0"
      ]
     },
     "execution_count": 8,
     "metadata": {},
     "output_type": "execute_result"
    }
   ],
   "source": [
    "# Check for duplicate values\n",
    "\n",
    "data.duplicated().sum()"
   ]
  },
  {
   "cell_type": "markdown",
   "id": "85dbcc09",
   "metadata": {},
   "source": [
    "There are no duplicate values"
   ]
  },
  {
   "cell_type": "code",
   "execution_count": 9,
   "id": "66fd8bc5",
   "metadata": {
    "scrolled": true
   },
   "outputs": [
    {
     "data": {
      "text/html": [
       "<div>\n",
       "<style scoped>\n",
       "    .dataframe tbody tr th:only-of-type {\n",
       "        vertical-align: middle;\n",
       "    }\n",
       "\n",
       "    .dataframe tbody tr th {\n",
       "        vertical-align: top;\n",
       "    }\n",
       "\n",
       "    .dataframe thead th {\n",
       "        text-align: right;\n",
       "    }\n",
       "</style>\n",
       "<table border=\"1\" class=\"dataframe\">\n",
       "  <thead>\n",
       "    <tr style=\"text-align: right;\">\n",
       "      <th></th>\n",
       "      <th>Area</th>\n",
       "      <th>Perimeter</th>\n",
       "      <th>Compactness</th>\n",
       "      <th>length</th>\n",
       "      <th>Width</th>\n",
       "      <th>Assymetry_coeff</th>\n",
       "      <th>len_ker_grove</th>\n",
       "      <th>Type</th>\n",
       "    </tr>\n",
       "  </thead>\n",
       "  <tbody>\n",
       "    <tr>\n",
       "      <th>count</th>\n",
       "      <td>210.000000</td>\n",
       "      <td>210.000000</td>\n",
       "      <td>210.000000</td>\n",
       "      <td>210.000000</td>\n",
       "      <td>210.000000</td>\n",
       "      <td>210.000000</td>\n",
       "      <td>210.000000</td>\n",
       "      <td>210.000000</td>\n",
       "    </tr>\n",
       "    <tr>\n",
       "      <th>mean</th>\n",
       "      <td>14.847524</td>\n",
       "      <td>14.559286</td>\n",
       "      <td>0.870999</td>\n",
       "      <td>5.628533</td>\n",
       "      <td>3.259081</td>\n",
       "      <td>3.700201</td>\n",
       "      <td>5.408071</td>\n",
       "      <td>2.000000</td>\n",
       "    </tr>\n",
       "    <tr>\n",
       "      <th>std</th>\n",
       "      <td>2.909699</td>\n",
       "      <td>1.305959</td>\n",
       "      <td>0.023629</td>\n",
       "      <td>0.443063</td>\n",
       "      <td>0.377088</td>\n",
       "      <td>1.503557</td>\n",
       "      <td>0.491480</td>\n",
       "      <td>0.818448</td>\n",
       "    </tr>\n",
       "    <tr>\n",
       "      <th>min</th>\n",
       "      <td>10.590000</td>\n",
       "      <td>12.410000</td>\n",
       "      <td>0.808100</td>\n",
       "      <td>4.899000</td>\n",
       "      <td>2.630000</td>\n",
       "      <td>0.765100</td>\n",
       "      <td>4.519000</td>\n",
       "      <td>1.000000</td>\n",
       "    </tr>\n",
       "    <tr>\n",
       "      <th>25%</th>\n",
       "      <td>12.270000</td>\n",
       "      <td>13.450000</td>\n",
       "      <td>0.856900</td>\n",
       "      <td>5.262250</td>\n",
       "      <td>2.944000</td>\n",
       "      <td>2.561500</td>\n",
       "      <td>5.045000</td>\n",
       "      <td>1.000000</td>\n",
       "    </tr>\n",
       "    <tr>\n",
       "      <th>50%</th>\n",
       "      <td>14.355000</td>\n",
       "      <td>14.320000</td>\n",
       "      <td>0.873450</td>\n",
       "      <td>5.523500</td>\n",
       "      <td>3.237000</td>\n",
       "      <td>3.599000</td>\n",
       "      <td>5.223000</td>\n",
       "      <td>2.000000</td>\n",
       "    </tr>\n",
       "    <tr>\n",
       "      <th>75%</th>\n",
       "      <td>17.305000</td>\n",
       "      <td>15.715000</td>\n",
       "      <td>0.887775</td>\n",
       "      <td>5.979750</td>\n",
       "      <td>3.561750</td>\n",
       "      <td>4.768750</td>\n",
       "      <td>5.877000</td>\n",
       "      <td>3.000000</td>\n",
       "    </tr>\n",
       "    <tr>\n",
       "      <th>max</th>\n",
       "      <td>21.180000</td>\n",
       "      <td>17.250000</td>\n",
       "      <td>0.918300</td>\n",
       "      <td>6.675000</td>\n",
       "      <td>4.033000</td>\n",
       "      <td>8.456000</td>\n",
       "      <td>6.550000</td>\n",
       "      <td>3.000000</td>\n",
       "    </tr>\n",
       "  </tbody>\n",
       "</table>\n",
       "</div>"
      ],
      "text/plain": [
       "             Area  Perimeter   Compactness      length       Width  \\\n",
       "count  210.000000  210.000000   210.000000  210.000000  210.000000   \n",
       "mean    14.847524   14.559286     0.870999    5.628533    3.259081   \n",
       "std      2.909699    1.305959     0.023629    0.443063    0.377088   \n",
       "min     10.590000   12.410000     0.808100    4.899000    2.630000   \n",
       "25%     12.270000   13.450000     0.856900    5.262250    2.944000   \n",
       "50%     14.355000   14.320000     0.873450    5.523500    3.237000   \n",
       "75%     17.305000   15.715000     0.887775    5.979750    3.561750   \n",
       "max     21.180000   17.250000     0.918300    6.675000    4.033000   \n",
       "\n",
       "       Assymetry_coeff  len_ker_grove        Type  \n",
       "count       210.000000     210.000000  210.000000  \n",
       "mean          3.700201       5.408071    2.000000  \n",
       "std           1.503557       0.491480    0.818448  \n",
       "min           0.765100       4.519000    1.000000  \n",
       "25%           2.561500       5.045000    1.000000  \n",
       "50%           3.599000       5.223000    2.000000  \n",
       "75%           4.768750       5.877000    3.000000  \n",
       "max           8.456000       6.550000    3.000000  "
      ]
     },
     "execution_count": 9,
     "metadata": {},
     "output_type": "execute_result"
    }
   ],
   "source": [
    "# Display desciptive statistics for the dataset\n",
    "data.describe()"
   ]
  },
  {
   "cell_type": "code",
   "execution_count": 10,
   "id": "a70bb015",
   "metadata": {},
   "outputs": [
    {
     "data": {
      "text/html": [
       "<div>\n",
       "<style scoped>\n",
       "    .dataframe tbody tr th:only-of-type {\n",
       "        vertical-align: middle;\n",
       "    }\n",
       "\n",
       "    .dataframe tbody tr th {\n",
       "        vertical-align: top;\n",
       "    }\n",
       "\n",
       "    .dataframe thead th {\n",
       "        text-align: right;\n",
       "    }\n",
       "</style>\n",
       "<table border=\"1\" class=\"dataframe\">\n",
       "  <thead>\n",
       "    <tr style=\"text-align: right;\">\n",
       "      <th></th>\n",
       "      <th>Name of Feature</th>\n",
       "      <th>Description</th>\n",
       "      <th>Type</th>\n",
       "      <th>Relevance</th>\n",
       "    </tr>\n",
       "  </thead>\n",
       "  <tbody>\n",
       "    <tr>\n",
       "      <th>0</th>\n",
       "      <td>Area</td>\n",
       "      <td>Area of kernel</td>\n",
       "      <td>Ratio</td>\n",
       "      <td>Relevant</td>\n",
       "    </tr>\n",
       "    <tr>\n",
       "      <th>1</th>\n",
       "      <td>Perimeter</td>\n",
       "      <td>Perimeter of kernel</td>\n",
       "      <td>Ratio</td>\n",
       "      <td>Relevant</td>\n",
       "    </tr>\n",
       "    <tr>\n",
       "      <th>2</th>\n",
       "      <td>Compactness</td>\n",
       "      <td>Compactness of kernel</td>\n",
       "      <td>Ratio</td>\n",
       "      <td>Relevant</td>\n",
       "    </tr>\n",
       "    <tr>\n",
       "      <th>3</th>\n",
       "      <td>length</td>\n",
       "      <td>Length of kernel</td>\n",
       "      <td>Ratio</td>\n",
       "      <td>Relevant</td>\n",
       "    </tr>\n",
       "    <tr>\n",
       "      <th>4</th>\n",
       "      <td>Width</td>\n",
       "      <td>Width of kernel</td>\n",
       "      <td>Ratio</td>\n",
       "      <td>Relevant</td>\n",
       "    </tr>\n",
       "    <tr>\n",
       "      <th>5</th>\n",
       "      <td>Assymetry_coeff</td>\n",
       "      <td>Assymetry Coefficient</td>\n",
       "      <td>Ratio</td>\n",
       "      <td>Relevant</td>\n",
       "    </tr>\n",
       "    <tr>\n",
       "      <th>6</th>\n",
       "      <td>len_ker_grove</td>\n",
       "      <td>Length of kernel groove</td>\n",
       "      <td>Ratio</td>\n",
       "      <td>Relevant</td>\n",
       "    </tr>\n",
       "    <tr>\n",
       "      <th>7</th>\n",
       "      <td>Type</td>\n",
       "      <td>Type of kernel</td>\n",
       "      <td>Nominal</td>\n",
       "      <td>Relevant</td>\n",
       "    </tr>\n",
       "  </tbody>\n",
       "</table>\n",
       "</div>"
      ],
      "text/plain": [
       "   Name of Feature              Description     Type Relevance\n",
       "0             Area           Area of kernel    Ratio  Relevant\n",
       "1       Perimeter       Perimeter of kernel    Ratio  Relevant\n",
       "2      Compactness    Compactness of kernel    Ratio  Relevant\n",
       "3           length         Length of kernel    Ratio  Relevant\n",
       "4            Width          Width of kernel    Ratio  Relevant\n",
       "5  Assymetry_coeff    Assymetry Coefficient    Ratio  Relevant\n",
       "6    len_ker_grove  Length of kernel groove    Ratio  Relevant\n",
       "7             Type           Type of kernel  Nominal  Relevant"
      ]
     },
     "execution_count": 10,
     "metadata": {},
     "output_type": "execute_result"
    }
   ],
   "source": [
    "# Creating Feature Dictionary\n",
    "feature_dict = pd.DataFrame(columns=['Name of Feature','Description','Type','Relevance'])\n",
    "\n",
    "feature_dict ['Name of Feature'] = data.columns\n",
    "\n",
    "feature_dict ['Description'] = ['Area of kernel',\n",
    "'Perimeter of kernel',\n",
    "'Compactness of kernel',\n",
    "'Length of kernel',\n",
    "'Width of kernel','Assymetry Coefficient','Length of kernel groove','Type of kernel']\n",
    "\n",
    "feature_dict['Type'] = ['Ratio','Ratio','Ratio','Ratio',\n",
    "                        'Ratio','Ratio','Ratio','Nominal']\n",
    "\n",
    "feature_dict['Relevance'] = ['Relevant','Relevant','Relevant',\n",
    "                            'Relevant','Relevant','Relevant','Relevant','Relevant']\n",
    "\n",
    "feature_dict"
   ]
  },
  {
   "cell_type": "code",
   "execution_count": 11,
   "id": "ab58f02d",
   "metadata": {
    "scrolled": false
   },
   "outputs": [
    {
     "data": {
      "image/png": "[encoded data removed]",
      "text/plain": [
       "<Figure size 1080x720 with 8 Axes>"
      ]
     },
     "metadata": {
      "needs_background": "light"
     },
     "output_type": "display_data"
    }
   ],
   "source": [
    "# Boxplot for all the features in the dataset to check for outliers\n",
    "\n",
    "fig, axs = plt.subplots(ncols=4, nrows=2, figsize=(15, 10))\n",
    "index = 0\n",
    "axs = axs.flatten()\n",
    "data1 = data.iloc[:,:-1]\n",
    "for k,v in data1.items():\n",
    "    sns.boxplot(y=k, data=data1, ax=axs[index])\n",
    "    index += 1\n",
    "plt.tight_layout(pad=0.55, w_pad=0.5, h_pad=4.0)"
   ]
  },
  {
   "cell_type": "code",
   "execution_count": 12,
   "id": "3f6c6897",
   "metadata": {
    "scrolled": true
   },
   "outputs": [],
   "source": [
    "#Using IQR for outlier treatments\n",
    "\n",
    "IQR = data['Compactness'].quantile(0.75) - data['Compactness'].quantile(0.25)\n",
    "low_end = data['Compactness'].quantile(0.25) - (1.5*IQR)\n",
    "upper_end = data['Compactness'].quantile(0.75) + (1.5*IQR)\n",
    "data['Compactness'] = pd.DataFrame(np.where(data['Compactness'] > upper_end,upper_end, \n",
    "                      np.where(data['Compactness'] < low_end,low_end,data['Compactness'])))\n",
    "    \n",
    "IQR = data['Assymetry_coeff'].quantile(0.75) - data['Assymetry_coeff'].quantile(0.25)\n",
    "low_end = data['Assymetry_coeff'].quantile(0.25) - (1.5*IQR)\n",
    "upper_end = data['Assymetry_coeff'].quantile(0.75) + (1.5*IQR)\n",
    "data['Assymetry_coeff'] = pd.DataFrame(np.where(data['Assymetry_coeff'] > upper_end,upper_end, \n",
    "                      np.where(data['Assymetry_coeff'] < low_end,low_end,data['Assymetry_coeff'])))\n",
    "    "
   ]
  },
  {
   "cell_type": "code",
   "execution_count": 13,
   "id": "3bac4052",
   "metadata": {},
   "outputs": [
    {
     "data": {
      "text/html": [
       "<div>\n",
       "<style scoped>\n",
       "    .dataframe tbody tr th:only-of-type {\n",
       "        vertical-align: middle;\n",
       "    }\n",
       "\n",
       "    .dataframe tbody tr th {\n",
       "        vertical-align: top;\n",
       "    }\n",
       "\n",
       "    .dataframe thead th {\n",
       "        text-align: right;\n",
       "    }\n",
       "</style>\n",
       "<table border=\"1\" class=\"dataframe\">\n",
       "  <thead>\n",
       "    <tr style=\"text-align: right;\">\n",
       "      <th></th>\n",
       "      <th>Area</th>\n",
       "      <th>Perimeter</th>\n",
       "      <th>Compactness</th>\n",
       "      <th>length</th>\n",
       "      <th>Width</th>\n",
       "      <th>Assymetry_coeff</th>\n",
       "      <th>len_ker_grove</th>\n",
       "      <th>Type</th>\n",
       "    </tr>\n",
       "  </thead>\n",
       "  <tbody>\n",
       "    <tr>\n",
       "      <th>0</th>\n",
       "      <td>15.26</td>\n",
       "      <td>14.84</td>\n",
       "      <td>0.8710</td>\n",
       "      <td>5.763</td>\n",
       "      <td>3.312</td>\n",
       "      <td>2.221</td>\n",
       "      <td>5.220</td>\n",
       "      <td>1</td>\n",
       "    </tr>\n",
       "    <tr>\n",
       "      <th>1</th>\n",
       "      <td>14.88</td>\n",
       "      <td>14.57</td>\n",
       "      <td>0.8811</td>\n",
       "      <td>5.554</td>\n",
       "      <td>3.333</td>\n",
       "      <td>1.018</td>\n",
       "      <td>4.956</td>\n",
       "      <td>1</td>\n",
       "    </tr>\n",
       "    <tr>\n",
       "      <th>2</th>\n",
       "      <td>14.29</td>\n",
       "      <td>14.09</td>\n",
       "      <td>0.9050</td>\n",
       "      <td>5.291</td>\n",
       "      <td>3.337</td>\n",
       "      <td>2.699</td>\n",
       "      <td>4.825</td>\n",
       "      <td>1</td>\n",
       "    </tr>\n",
       "    <tr>\n",
       "      <th>3</th>\n",
       "      <td>13.84</td>\n",
       "      <td>13.94</td>\n",
       "      <td>0.8955</td>\n",
       "      <td>5.324</td>\n",
       "      <td>3.379</td>\n",
       "      <td>2.259</td>\n",
       "      <td>4.805</td>\n",
       "      <td>1</td>\n",
       "    </tr>\n",
       "    <tr>\n",
       "      <th>4</th>\n",
       "      <td>16.14</td>\n",
       "      <td>14.99</td>\n",
       "      <td>0.9034</td>\n",
       "      <td>5.658</td>\n",
       "      <td>3.562</td>\n",
       "      <td>1.355</td>\n",
       "      <td>5.175</td>\n",
       "      <td>1</td>\n",
       "    </tr>\n",
       "  </tbody>\n",
       "</table>\n",
       "</div>"
      ],
      "text/plain": [
       "    Area  Perimeter   Compactness  length  Width  Assymetry_coeff  \\\n",
       "0  15.26       14.84       0.8710   5.763  3.312            2.221   \n",
       "1  14.88       14.57       0.8811   5.554  3.333            1.018   \n",
       "2  14.29       14.09       0.9050   5.291  3.337            2.699   \n",
       "3  13.84       13.94       0.8955   5.324  3.379            2.259   \n",
       "4  16.14       14.99       0.9034   5.658  3.562            1.355   \n",
       "\n",
       "   len_ker_grove  Type  \n",
       "0          5.220     1  \n",
       "1          4.956     1  \n",
       "2          4.825     1  \n",
       "3          4.805     1  \n",
       "4          5.175     1  "
      ]
     },
     "execution_count": 13,
     "metadata": {},
     "output_type": "execute_result"
    }
   ],
   "source": [
    "data.head()"
   ]
  },
  {
   "cell_type": "code",
   "execution_count": 14,
   "id": "738a2b55",
   "metadata": {},
   "outputs": [
    {
     "data": {
      "image/png": "[encoded data removed]",
      "text/plain": [
       "<Figure size 1080x720 with 8 Axes>"
      ]
     },
     "metadata": {
      "needs_background": "light"
     },
     "output_type": "display_data"
    }
   ],
   "source": [
    "# Histogrm for all the features in the dataset to check for outliers\n",
    "\n",
    "fig, axs = plt.subplots(ncols=4, nrows=2, figsize=(15, 10))\n",
    "index = 0\n",
    "axs = axs.flatten()\n",
    "data1 = data.iloc[:,:-1]\n",
    "for k,v in data1.items():\n",
    "    sns.histplot(x=k, data=data1, palette = 'tab10' ,ax=axs[index],kde = 1)\n",
    "    index += 1\n",
    "plt.tight_layout(pad=0.55, w_pad=0.5, h_pad=4.0)"
   ]
  },
  {
   "cell_type": "markdown",
   "id": "29e2ff01",
   "metadata": {},
   "source": [
    "The data seems to be normally distributed"
   ]
  },
  {
   "cell_type": "code",
   "execution_count": 15,
   "id": "f84f90d0",
   "metadata": {
    "scrolled": true
   },
   "outputs": [
    {
     "data": {
      "text/html": [
       "<div>\n",
       "<style scoped>\n",
       "    .dataframe tbody tr th:only-of-type {\n",
       "        vertical-align: middle;\n",
       "    }\n",
       "\n",
       "    .dataframe tbody tr th {\n",
       "        vertical-align: top;\n",
       "    }\n",
       "\n",
       "    .dataframe thead th {\n",
       "        text-align: right;\n",
       "    }\n",
       "</style>\n",
       "<table border=\"1\" class=\"dataframe\">\n",
       "  <thead>\n",
       "    <tr style=\"text-align: right;\">\n",
       "      <th></th>\n",
       "      <th>Area</th>\n",
       "      <th>Perimeter</th>\n",
       "      <th>Compactness</th>\n",
       "      <th>length</th>\n",
       "      <th>Width</th>\n",
       "      <th>Assymetry_coeff</th>\n",
       "      <th>len_ker_grove</th>\n",
       "      <th>Type</th>\n",
       "    </tr>\n",
       "  </thead>\n",
       "  <tbody>\n",
       "    <tr>\n",
       "      <th>0</th>\n",
       "      <td>0.142098</td>\n",
       "      <td>0.215462</td>\n",
       "      <td>-0.001066</td>\n",
       "      <td>0.304218</td>\n",
       "      <td>0.140671</td>\n",
       "      <td>-0.990049</td>\n",
       "      <td>-0.383577</td>\n",
       "      <td>-1.224745</td>\n",
       "    </tr>\n",
       "    <tr>\n",
       "      <th>1</th>\n",
       "      <td>0.011188</td>\n",
       "      <td>0.008224</td>\n",
       "      <td>0.428651</td>\n",
       "      <td>-0.168625</td>\n",
       "      <td>0.196494</td>\n",
       "      <td>-1.796822</td>\n",
       "      <td>-0.922013</td>\n",
       "      <td>-1.224745</td>\n",
       "    </tr>\n",
       "    <tr>\n",
       "      <th>2</th>\n",
       "      <td>-0.192067</td>\n",
       "      <td>-0.360201</td>\n",
       "      <td>1.445506</td>\n",
       "      <td>-0.763637</td>\n",
       "      <td>0.207127</td>\n",
       "      <td>-0.669486</td>\n",
       "      <td>-1.189192</td>\n",
       "      <td>-1.224745</td>\n",
       "    </tr>\n",
       "    <tr>\n",
       "      <th>3</th>\n",
       "      <td>-0.347091</td>\n",
       "      <td>-0.475333</td>\n",
       "      <td>1.041317</td>\n",
       "      <td>-0.688978</td>\n",
       "      <td>0.318773</td>\n",
       "      <td>-0.964565</td>\n",
       "      <td>-1.229983</td>\n",
       "      <td>-1.224745</td>\n",
       "    </tr>\n",
       "    <tr>\n",
       "      <th>4</th>\n",
       "      <td>0.445257</td>\n",
       "      <td>0.330595</td>\n",
       "      <td>1.377432</td>\n",
       "      <td>0.066666</td>\n",
       "      <td>0.805230</td>\n",
       "      <td>-1.570818</td>\n",
       "      <td>-0.475356</td>\n",
       "      <td>-1.224745</td>\n",
       "    </tr>\n",
       "  </tbody>\n",
       "</table>\n",
       "</div>"
      ],
      "text/plain": [
       "       Area  Perimeter   Compactness    length     Width  Assymetry_coeff  \\\n",
       "0  0.142098    0.215462    -0.001066  0.304218  0.140671        -0.990049   \n",
       "1  0.011188    0.008224     0.428651 -0.168625  0.196494        -1.796822   \n",
       "2 -0.192067   -0.360201     1.445506 -0.763637  0.207127        -0.669486   \n",
       "3 -0.347091   -0.475333     1.041317 -0.688978  0.318773        -0.964565   \n",
       "4  0.445257    0.330595     1.377432  0.066666  0.805230        -1.570818   \n",
       "\n",
       "   len_ker_grove      Type  \n",
       "0      -0.383577 -1.224745  \n",
       "1      -0.922013 -1.224745  \n",
       "2      -1.189192 -1.224745  \n",
       "3      -1.229983 -1.224745  \n",
       "4      -0.475356 -1.224745  "
      ]
     },
     "execution_count": 15,
     "metadata": {},
     "output_type": "execute_result"
    }
   ],
   "source": [
    "# Standarization of the data\n",
    "\n",
    "from sklearn.preprocessing import StandardScaler\n",
    "sc = StandardScaler()\n",
    "sc_data = pd.DataFrame(sc.fit_transform(data),columns = data.columns)\n",
    "sc_data.head()"
   ]
  },
  {
   "cell_type": "markdown",
   "id": "ab897978",
   "metadata": {},
   "source": [
    "###### Standardization is used when we need to find the standard deviation of each point, with mean =0 and standard deviation =1"
   ]
  },
  {
   "cell_type": "code",
   "execution_count": 16,
   "id": "b7f2f1df",
   "metadata": {},
   "outputs": [
    {
     "data": {
      "text/html": [
       "<div>\n",
       "<style scoped>\n",
       "    .dataframe tbody tr th:only-of-type {\n",
       "        vertical-align: middle;\n",
       "    }\n",
       "\n",
       "    .dataframe tbody tr th {\n",
       "        vertical-align: top;\n",
       "    }\n",
       "\n",
       "    .dataframe thead th {\n",
       "        text-align: right;\n",
       "    }\n",
       "</style>\n",
       "<table border=\"1\" class=\"dataframe\">\n",
       "  <thead>\n",
       "    <tr style=\"text-align: right;\">\n",
       "      <th></th>\n",
       "      <th>Area</th>\n",
       "      <th>Perimeter</th>\n",
       "      <th>Compactness</th>\n",
       "      <th>length</th>\n",
       "      <th>Width</th>\n",
       "      <th>Assymetry_coeff</th>\n",
       "      <th>len_ker_grove</th>\n",
       "      <th>Type</th>\n",
       "    </tr>\n",
       "  </thead>\n",
       "  <tbody>\n",
       "    <tr>\n",
       "      <th>0</th>\n",
       "      <td>0.440982</td>\n",
       "      <td>0.502066</td>\n",
       "      <td>0.560868</td>\n",
       "      <td>0.486486</td>\n",
       "      <td>0.486101</td>\n",
       "      <td>0.199042</td>\n",
       "      <td>0.345150</td>\n",
       "      <td>0.0</td>\n",
       "    </tr>\n",
       "    <tr>\n",
       "      <th>1</th>\n",
       "      <td>0.405099</td>\n",
       "      <td>0.446281</td>\n",
       "      <td>0.654636</td>\n",
       "      <td>0.368806</td>\n",
       "      <td>0.501069</td>\n",
       "      <td>0.034575</td>\n",
       "      <td>0.215165</td>\n",
       "      <td>0.0</td>\n",
       "    </tr>\n",
       "    <tr>\n",
       "      <th>2</th>\n",
       "      <td>0.349386</td>\n",
       "      <td>0.347107</td>\n",
       "      <td>0.876523</td>\n",
       "      <td>0.220721</td>\n",
       "      <td>0.503920</td>\n",
       "      <td>0.264392</td>\n",
       "      <td>0.150665</td>\n",
       "      <td>0.0</td>\n",
       "    </tr>\n",
       "    <tr>\n",
       "      <th>3</th>\n",
       "      <td>0.306893</td>\n",
       "      <td>0.316116</td>\n",
       "      <td>0.788325</td>\n",
       "      <td>0.239302</td>\n",
       "      <td>0.533856</td>\n",
       "      <td>0.204237</td>\n",
       "      <td>0.140817</td>\n",
       "      <td>0.0</td>\n",
       "    </tr>\n",
       "    <tr>\n",
       "      <th>4</th>\n",
       "      <td>0.524079</td>\n",
       "      <td>0.533058</td>\n",
       "      <td>0.861669</td>\n",
       "      <td>0.427365</td>\n",
       "      <td>0.664291</td>\n",
       "      <td>0.080648</td>\n",
       "      <td>0.322994</td>\n",
       "      <td>0.0</td>\n",
       "    </tr>\n",
       "  </tbody>\n",
       "</table>\n",
       "</div>"
      ],
      "text/plain": [
       "       Area  Perimeter   Compactness    length     Width  Assymetry_coeff  \\\n",
       "0  0.440982    0.502066     0.560868  0.486486  0.486101         0.199042   \n",
       "1  0.405099    0.446281     0.654636  0.368806  0.501069         0.034575   \n",
       "2  0.349386    0.347107     0.876523  0.220721  0.503920         0.264392   \n",
       "3  0.306893    0.316116     0.788325  0.239302  0.533856         0.204237   \n",
       "4  0.524079    0.533058     0.861669  0.427365  0.664291         0.080648   \n",
       "\n",
       "   len_ker_grove  Type  \n",
       "0       0.345150   0.0  \n",
       "1       0.215165   0.0  \n",
       "2       0.150665   0.0  \n",
       "3       0.140817   0.0  \n",
       "4       0.322994   0.0  "
      ]
     },
     "execution_count": 16,
     "metadata": {},
     "output_type": "execute_result"
    }
   ],
   "source": [
    "# Normalization of the data\n",
    "\n",
    "from sklearn.preprocessing import MinMaxScaler\n",
    "mms = MinMaxScaler()\n",
    "mms_data = pd.DataFrame(mms.fit_transform(data),columns = data.columns)\n",
    "mms_data.head()"
   ]
  },
  {
   "cell_type": "markdown",
   "id": "bbea46f7",
   "metadata": {},
   "source": [
    "##### Nomarlization is used to rescale the dataset in the range of 0 and 1."
   ]
  }
 ],
 "metadata": {
  "kernelspec": {
   "display_name": "Python 3 (ipykernel)",
   "language": "python",
   "name": "python3"
  },
  "language_info": {
   "codemirror_mode": {
    "name": "ipython",
    "version": 3
   },
   "file_extension": ".py",
   "mimetype": "text/x-python",
   "name": "python",
   "nbconvert_exporter": "python",
   "pygments_lexer": "ipython3",
   "version": "3.9.12"
  }
 },
 "nbformat": 4,
 "nbformat_minor": 5
}
