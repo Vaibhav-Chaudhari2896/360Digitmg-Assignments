{
 "cells": [
  {
   "cell_type": "raw",
   "id": "ebb747e6",
   "metadata": {},
   "source": [
    "                                                                                                            Vaibhav Chaudhari\n",
    "                                                                                                            DSWDEOS 280422"
   ]
  },
  {
   "cell_type": "markdown",
   "id": "9ba5de81",
   "metadata": {},
   "source": [
    "# String Manipulation"
   ]
  },
  {
   "cell_type": "markdown",
   "id": "d48066eb",
   "metadata": {},
   "source": [
    "##### 1.Create a string “Grow Gratitude”.\n",
    "Code for the following tasks:\n",
    "\n",
    "a) How do you access the letter “G” of “Growth”?\n",
    "\n",
    "b) How do you find the length of the string?\n",
    "\n",
    "c) Count how many times “G” is in the string."
   ]
  },
  {
   "cell_type": "code",
   "execution_count": 1,
   "id": "c145dca7",
   "metadata": {},
   "outputs": [
    {
     "name": "stdout",
     "output_type": "stream",
     "text": [
      "first letter: G\n",
      "length: 14\n",
      "Count: 2\n"
     ]
    }
   ],
   "source": [
    "string = 'Grow Gratitude'\n",
    "\n",
    "# a) access the letter “G” of “Growth”\n",
    "fl = string[0]; print('first letter: {}'.format(fl))\n",
    "\n",
    "# b) length of the string\n",
    "length = len(string); print('length: {}'.format(length))\n",
    "\n",
    "# c) Count how many times “G” is in the string\n",
    "count = string.count('G') ; print('Count: {}'.format(count))"
   ]
  },
  {
   "cell_type": "markdown",
   "id": "dffce77f",
   "metadata": {},
   "source": [
    "##### 2.Create a string “Being aware of a single shortcoming within yourself is far more useful than being aware of a thousand in someone else.”\n",
    "Code for the following:\n",
    "    \n",
    "a) Count the number of characters in the string."
   ]
  },
  {
   "cell_type": "code",
   "execution_count": 2,
   "id": "e212badd",
   "metadata": {},
   "outputs": [
    {
     "data": {
      "text/plain": [
       "98"
      ]
     },
     "execution_count": 2,
     "metadata": {},
     "output_type": "execute_result"
    }
   ],
   "source": [
    "string = 'Being aware of a single shortcoming within yourself is \\\n",
    "            far more useful than being aware of a thousand in someone else.'\n",
    "count_of_char = len(string.replace(' ',''))\n",
    "count_of_char"
   ]
  },
  {
   "cell_type": "markdown",
   "id": "26924c0a",
   "metadata": {},
   "source": [
    "##### 3.Create a string \"Idealistic as it may sound, altruism should be the driving force in business, not just competition and a desire for wealth\"\n",
    "Code for the following tasks:\n",
    "    \n",
    "a) get one char of the word\n",
    "\n",
    "b) get the first three char\n",
    "\n",
    "c) get the last three char\n"
   ]
  },
  {
   "cell_type": "code",
   "execution_count": 3,
   "id": "56d1a598",
   "metadata": {},
   "outputs": [
    {
     "name": "stdout",
     "output_type": "stream",
     "text": [
      "one char: I\n",
      "first three char: Ide\n",
      "last three char: lth\n"
     ]
    }
   ],
   "source": [
    "string = 'Idealistic as it may sound, altruism should be the driving force in business, not just competition and a desire for wealth'\n",
    "\n",
    "one_char = string[0]; print('one char: {}'.format(one_char))\n",
    "first_three_char = string[0:3]; print('first three char: {}'.format(first_three_char))\n",
    "last_three_char = string[-3:]; print('last three char: {}'.format(last_three_char))"
   ]
  },
  {
   "cell_type": "markdown",
   "id": "e06571a3",
   "metadata": {},
   "source": [
    "##### 4. create a string \"stay positive and optimistic\". Now write a code to split on whitespace.\n",
    "Write a code to find if:\n",
    "a) The string starts with “H”\n",
    "\n",
    "b) The string ends with “d”\n",
    "\n",
    "c) The string ends with “c”\n"
   ]
  },
  {
   "cell_type": "code",
   "execution_count": 4,
   "id": "161041c1",
   "metadata": {},
   "outputs": [
    {
     "name": "stdout",
     "output_type": "stream",
     "text": [
      "Splited string list is: ['stay', 'positive', 'and', 'optimistic']\n",
      "The string does not start with H\n",
      "The string does not start with d\n",
      "The string ends with c\n"
     ]
    }
   ],
   "source": [
    "string = 'stay positive and optimistic'\n",
    "\n",
    "splt_str = string.split(' '); print('Splited string list is: {}'.format(splt_str))\n",
    "\n",
    "if string[0] == 'H':\n",
    "    print('The string starts with H')\n",
    "else:\n",
    "    print('The string does not start with H')\n",
    "    \n",
    "if string[-1] == 'd':\n",
    "    print('The string ends with d')\n",
    "else:\n",
    "    print('The string does not start with d')\n",
    "    \n",
    "if string[-1] == 'c':\n",
    "    print('The string ends with c')\n",
    "else:\n",
    "    print('The string does not start with c')"
   ]
  },
  {
   "cell_type": "markdown",
   "id": "5257e314",
   "metadata": {},
   "source": [
    "##### 5.Write a code to print \" 🪐 \" one hundred and eight times. (only in python)"
   ]
  },
  {
   "cell_type": "code",
   "execution_count": 5,
   "id": "4680f4c7",
   "metadata": {
    "scrolled": true
   },
   "outputs": [
    {
     "name": "stdout",
     "output_type": "stream",
     "text": [
      "🪐🪐🪐🪐🪐🪐🪐🪐🪐🪐🪐🪐🪐🪐🪐🪐🪐🪐🪐🪐🪐🪐🪐🪐🪐🪐🪐🪐🪐🪐🪐🪐🪐🪐🪐🪐🪐🪐🪐🪐🪐🪐🪐🪐🪐🪐🪐🪐🪐🪐🪐🪐🪐🪐🪐🪐🪐🪐🪐🪐🪐🪐🪐🪐🪐🪐🪐🪐🪐🪐🪐🪐🪐🪐🪐🪐🪐🪐🪐🪐🪐🪐🪐🪐🪐🪐🪐🪐🪐🪐🪐🪐🪐🪐🪐🪐🪐🪐🪐🪐🪐🪐🪐🪐🪐🪐🪐🪐\n"
     ]
    }
   ],
   "source": [
    "symbol = '🪐'\n",
    "mul_symbols = symbol*108 ; print(mul_symbols)"
   ]
  },
  {
   "cell_type": "markdown",
   "id": "7f348c88",
   "metadata": {},
   "source": [
    "#### 6. Write a code to print \" o \" one hundred and eight times. (only in R)"
   ]
  },
  {
   "cell_type": "raw",
   "id": "6e5d79e3",
   "metadata": {},
   "source": [
    "for (i in 1:109) {\n",
    "    print(paste('o'))\n",
    "}"
   ]
  },
  {
   "cell_type": "markdown",
   "id": "99c86fb4",
   "metadata": {},
   "source": [
    "##### 7. Create a string “Grow Gratitude” and write a code to replace “Grow” with “Growth of”"
   ]
  },
  {
   "cell_type": "code",
   "execution_count": 6,
   "id": "3a5660ac",
   "metadata": {},
   "outputs": [
    {
     "data": {
      "text/plain": [
       "'Growth of Gratitude'"
      ]
     },
     "execution_count": 6,
     "metadata": {},
     "output_type": "execute_result"
    }
   ],
   "source": [
    "string = 'Grow Gratitude'\n",
    "string.replace('Grow','Growth of')"
   ]
  },
  {
   "cell_type": "markdown",
   "id": "b30fe2a6",
   "metadata": {},
   "source": [
    "."
   ]
  },
  {
   "cell_type": "markdown",
   "id": "d3636bfe",
   "metadata": {},
   "source": [
    "8. A story was printed in a pdf, which isn’t making any sense. i.e.:\n",
    "“.elgnujehtotniffo deps mehtfohtoB .eerfnoilehttesotseporeht no dewangdnanar eh ,ylkciuQ .elbuortninoilehtdecitondnatsapdeklawesuomeht ,nooS .repmihwotdetratsdnatuotegotgnilggurts saw noilehT .eert a tsniagapumihdeityehT .mehthtiwnoilehtkootdnatserofehtotniemacsretnuhwef a ,yad enO .ogmihteldnaecnedifnocs’esuomeht ta dehgualnoilehT ”.emevasuoy fi yademosuoyotplehtaergfo eb lliw I ,uoyesimorp I“ .eerfmihtesotnoilehtdetseuqeryletarepsedesuomehtnehwesuomehttaeottuoba saw eH .yrgnaetiuqpuekow eh dna ,peels s’noilehtdebrutsidsihT .nufroftsujydobsihnwoddnapugninnurdetratsesuom a nehwelgnujehtnignipeelsecno saw noil A”\n",
    "\n",
    "You have noticed that the story is printed in a reversed order. Rectify the same and write a code to print the same story in a correct order.\n"
   ]
  },
  {
   "cell_type": "code",
   "execution_count": 7,
   "id": "fdb3df30",
   "metadata": {},
   "outputs": [
    {
     "data": {
      "text/plain": [
       "'A lion was oncesleepinginthejunglewhen a mousestartedrunningupanddownhisbodyjustforfun. Thisdisturbedthelion’s sleep, and he wokeupquiteangry. He was abouttoeatthemousewhenthemousedesperatelyrequestedtheliontosethimfree. “I promiseyou, I will be ofgreathelptoyousomeday if yousaveme.” Thelionlaughed at themouse’sconfidenceandlethimgo. One day, a fewhunterscameintotheforestandtookthelionwiththem. Theytiedhimupagainst a tree. Thelion was strugglingtogetoutandstartedtowhimper. Soon, themousewalkedpastandnoticedthelionintrouble. Quickly, he ranandgnawed on theropestosetthelionfree. Bothofthem sped offintothejungle.'"
      ]
     },
     "execution_count": 7,
     "metadata": {},
     "output_type": "execute_result"
    }
   ],
   "source": [
    "story = '.elgnujehtotniffo deps mehtfohtoB .eerfnoilehttesotseporeht no dewangdnanar eh ,ylkciuQ .elbuortninoilehtdecitondnatsapdeklawesuomeht ,nooS .repmihwotdetratsdnatuotegotgnilggurts saw noilehT .eert a tsniagapumihdeityehT .mehthtiwnoilehtkootdnatserofehtotniemacsretnuhwef a ,yad enO .ogmihteldnaecnedifnocs’esuomeht ta dehgualnoilehT ”.emevasuoy fi yademosuoyotplehtaergfo eb lliw I ,uoyesimorp I“ .eerfmihtesotnoilehtdetseuqeryletarepsedesuomehtnehwesuomehttaeottuoba saw eH .yrgnaetiuqpuekow eh dna ,peels s’noilehtdebrutsidsihT .nufroftsujydobsihnwoddnapugninnurdetratsesuom a nehwelgnujehtnignipeelsecno saw noil A'\n",
    "rev_story = story[::-1]\n",
    "rev_story"
   ]
  }
 ],
 "metadata": {
  "kernelspec": {
   "display_name": "Python 3 (ipykernel)",
   "language": "python",
   "name": "python3"
  },
  "language_info": {
   "codemirror_mode": {
    "name": "ipython",
    "version": 3
   },
   "file_extension": ".py",
   "mimetype": "text/x-python",
   "name": "python",
   "nbconvert_exporter": "python",
   "pygments_lexer": "ipython3",
   "version": "3.9.12"
  }
 },
 "nbformat": 4,
 "nbformat_minor": 5
}
