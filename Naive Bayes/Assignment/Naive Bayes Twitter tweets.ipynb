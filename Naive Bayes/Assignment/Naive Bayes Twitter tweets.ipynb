{
 "cells": [
  {
   "cell_type": "code",
   "execution_count": 1,
   "id": "128c91dc",
   "metadata": {},
   "outputs": [],
   "source": [
    "# Importing libraries\n",
    "import pandas as pd\n",
    "import numpy as np\n",
    "import seaborn as sns\n",
    "import matplotlib.pyplot as plt \n",
    "\n",
    "import nltk\n",
    "from sklearn.feature_extraction.text import CountVectorizer,TfidfTransformer\n",
    "\n",
    "import warnings\n",
    "warnings.filterwarnings(action='ignore',category=FutureWarning)\n",
    "%matplotlib inline"
   ]
  },
  {
   "cell_type": "code",
   "execution_count": 2,
   "id": "4843e29d",
   "metadata": {},
   "outputs": [],
   "source": [
    "# Importing the dataset\n",
    "\n",
    "dataset = pd.read_csv('C:/Users/vaibh/Desktop/360 Digitmg/Naive Bayes/Assignment/Disaster_tweets_NB.csv')"
   ]
  },
  {
   "cell_type": "code",
   "execution_count": 3,
   "id": "677cb87f",
   "metadata": {},
   "outputs": [
    {
     "data": {
      "text/html": [
       "<div>\n",
       "<style scoped>\n",
       "    .dataframe tbody tr th:only-of-type {\n",
       "        vertical-align: middle;\n",
       "    }\n",
       "\n",
       "    .dataframe tbody tr th {\n",
       "        vertical-align: top;\n",
       "    }\n",
       "\n",
       "    .dataframe thead th {\n",
       "        text-align: right;\n",
       "    }\n",
       "</style>\n",
       "<table border=\"1\" class=\"dataframe\">\n",
       "  <thead>\n",
       "    <tr style=\"text-align: right;\">\n",
       "      <th></th>\n",
       "      <th>id</th>\n",
       "      <th>keyword</th>\n",
       "      <th>location</th>\n",
       "      <th>text</th>\n",
       "      <th>target</th>\n",
       "    </tr>\n",
       "  </thead>\n",
       "  <tbody>\n",
       "    <tr>\n",
       "      <th>0</th>\n",
       "      <td>1</td>\n",
       "      <td>NaN</td>\n",
       "      <td>NaN</td>\n",
       "      <td>Our Deeds are the Reason of this #earthquake M...</td>\n",
       "      <td>1</td>\n",
       "    </tr>\n",
       "    <tr>\n",
       "      <th>1</th>\n",
       "      <td>4</td>\n",
       "      <td>NaN</td>\n",
       "      <td>NaN</td>\n",
       "      <td>Forest fire near La Ronge Sask. Canada</td>\n",
       "      <td>1</td>\n",
       "    </tr>\n",
       "    <tr>\n",
       "      <th>2</th>\n",
       "      <td>5</td>\n",
       "      <td>NaN</td>\n",
       "      <td>NaN</td>\n",
       "      <td>All residents asked to 'shelter in place' are ...</td>\n",
       "      <td>1</td>\n",
       "    </tr>\n",
       "    <tr>\n",
       "      <th>3</th>\n",
       "      <td>6</td>\n",
       "      <td>NaN</td>\n",
       "      <td>NaN</td>\n",
       "      <td>13,000 people receive #wildfires evacuation or...</td>\n",
       "      <td>1</td>\n",
       "    </tr>\n",
       "    <tr>\n",
       "      <th>4</th>\n",
       "      <td>7</td>\n",
       "      <td>NaN</td>\n",
       "      <td>NaN</td>\n",
       "      <td>Just got sent this photo from Ruby #Alaska as ...</td>\n",
       "      <td>1</td>\n",
       "    </tr>\n",
       "  </tbody>\n",
       "</table>\n",
       "</div>"
      ],
      "text/plain": [
       "   id keyword location                                               text  \\\n",
       "0   1     NaN      NaN  Our Deeds are the Reason of this #earthquake M...   \n",
       "1   4     NaN      NaN             Forest fire near La Ronge Sask. Canada   \n",
       "2   5     NaN      NaN  All residents asked to 'shelter in place' are ...   \n",
       "3   6     NaN      NaN  13,000 people receive #wildfires evacuation or...   \n",
       "4   7     NaN      NaN  Just got sent this photo from Ruby #Alaska as ...   \n",
       "\n",
       "   target  \n",
       "0       1  \n",
       "1       1  \n",
       "2       1  \n",
       "3       1  \n",
       "4       1  "
      ]
     },
     "execution_count": 3,
     "metadata": {},
     "output_type": "execute_result"
    }
   ],
   "source": [
    "# Checking rows and shape in the dataset\n",
    "dataset.head()"
   ]
  },
  {
   "cell_type": "code",
   "execution_count": 4,
   "id": "309c5066",
   "metadata": {},
   "outputs": [
    {
     "data": {
      "text/plain": [
       "(7613, 5)"
      ]
     },
     "execution_count": 4,
     "metadata": {},
     "output_type": "execute_result"
    }
   ],
   "source": [
    "dataset.shape"
   ]
  },
  {
   "cell_type": "code",
   "execution_count": 5,
   "id": "bd57f2fa",
   "metadata": {},
   "outputs": [
    {
     "data": {
      "text/plain": [
       "Index(['id', 'keyword', 'location', 'text', 'target'], dtype='object')"
      ]
     },
     "execution_count": 5,
     "metadata": {},
     "output_type": "execute_result"
    }
   ],
   "source": [
    "# Features in the dataset\n",
    "dataset.columns"
   ]
  },
  {
   "cell_type": "code",
   "execution_count": 6,
   "id": "f06c3d5e",
   "metadata": {
    "scrolled": true
   },
   "outputs": [
    {
     "name": "stdout",
     "output_type": "stream",
     "text": [
      "<class 'pandas.core.frame.DataFrame'>\n",
      "RangeIndex: 7613 entries, 0 to 7612\n",
      "Data columns (total 5 columns):\n",
      " #   Column    Non-Null Count  Dtype \n",
      "---  ------    --------------  ----- \n",
      " 0   id        7613 non-null   int64 \n",
      " 1   keyword   7552 non-null   object\n",
      " 2   location  5080 non-null   object\n",
      " 3   text      7613 non-null   object\n",
      " 4   target    7613 non-null   int64 \n",
      "dtypes: int64(2), object(3)\n",
      "memory usage: 297.5+ KB\n"
     ]
    }
   ],
   "source": [
    "# Info of the dataset\n",
    "dataset.info()"
   ]
  },
  {
   "cell_type": "code",
   "execution_count": 7,
   "id": "959e6653",
   "metadata": {},
   "outputs": [],
   "source": [
    "# Using relevant features in the dataset\n",
    "X = dataset.text\n",
    "Y = dataset.target"
   ]
  },
  {
   "cell_type": "code",
   "execution_count": 8,
   "id": "82184d0f",
   "metadata": {
    "scrolled": true
   },
   "outputs": [
    {
     "data": {
      "text/plain": [
       "(0, 0)"
      ]
     },
     "execution_count": 8,
     "metadata": {},
     "output_type": "execute_result"
    }
   ],
   "source": [
    "# Checking for null values\n",
    "X.isnull().sum(),Y.isnull().sum()"
   ]
  },
  {
   "cell_type": "markdown",
   "id": "28d48723",
   "metadata": {},
   "source": [
    "There are no null values"
   ]
  },
  {
   "cell_type": "code",
   "execution_count": 9,
   "id": "aa6f8f6c",
   "metadata": {},
   "outputs": [],
   "source": [
    "# Cleaning the data \n",
    "import re \n",
    "\n",
    "def clean_data(data):\n",
    "    data = re.sub('@\\w+', ' ',data) # Remove @\n",
    "    data = re.sub(r'http\\S+',' ',data) # Remove links\n",
    "    data = re.sub('[^a-zA-Z]+',' ',data).lower() # Keep only words \n",
    "    return data"
   ]
  },
  {
   "cell_type": "code",
   "execution_count": 10,
   "id": "fc6c248c",
   "metadata": {},
   "outputs": [],
   "source": [
    "# Applying clean_data function\n",
    "X = X.apply(clean_data)"
   ]
  },
  {
   "cell_type": "code",
   "execution_count": 11,
   "id": "23e970bc",
   "metadata": {},
   "outputs": [],
   "source": [
    "from nltk.corpus import stopwords\n",
    "stop_word = stopwords.words('english')\n",
    "\n",
    "# Removing stopwords from dataset and words with length less than 4\n",
    "def clean_stop_len(data):\n",
    "    new_text = []\n",
    "    for i in data:\n",
    "        temp = []\n",
    "        for j in i.split():\n",
    "            if len(j) not in [0,1,2,3]:\n",
    "                if j not in stop_word:\n",
    "                    temp.append(j)\n",
    "        new_temp = \" \".join(temp)\n",
    "        new_text.append(new_temp)\n",
    "    return new_text"
   ]
  },
  {
   "cell_type": "code",
   "execution_count": 12,
   "id": "8ce81583",
   "metadata": {},
   "outputs": [],
   "source": [
    "# Applying the clean_stop_len function \n",
    "X = pd.DataFrame(clean_stop_len(X),columns = ['text'])"
   ]
  },
  {
   "cell_type": "code",
   "execution_count": 13,
   "id": "1a3904e7",
   "metadata": {},
   "outputs": [],
   "source": [
    "data = pd.concat([X,Y],axis = 1)"
   ]
  },
  {
   "cell_type": "code",
   "execution_count": 14,
   "id": "96795cbf",
   "metadata": {},
   "outputs": [],
   "source": [
    "# removing empty rows\n",
    "data = data.loc[data['text'] != \"\",:]"
   ]
  },
  {
   "cell_type": "code",
   "execution_count": 15,
   "id": "47dcf7d8",
   "metadata": {},
   "outputs": [],
   "source": [
    "# Splitting the data into train test \n",
    "\n",
    "from sklearn.model_selection import train_test_split\n",
    "\n",
    "data_train, data_test = train_test_split(data, test_size = 0.2, random_state=12)"
   ]
  },
  {
   "cell_type": "code",
   "execution_count": 16,
   "id": "d40decde",
   "metadata": {},
   "outputs": [],
   "source": [
    "# Converting data to bag of words\n",
    "\n",
    "def data2bow(data):\n",
    "    return [j for i in data for j in i.split()]"
   ]
  },
  {
   "cell_type": "code",
   "execution_count": 17,
   "id": "44a0d1e5",
   "metadata": {},
   "outputs": [],
   "source": [
    "# Using Word Count \n",
    "cv = CountVectorizer(analyzer=data2bow).fit(data.text)\n",
    "\n",
    "data_cv = cv.transform(data.text)\n",
    "train_cv = cv.transform(data_train.text)\n",
    "test_cv = cv.transform(data_test.text)"
   ]
  },
  {
   "cell_type": "code",
   "execution_count": 18,
   "id": "d57d2dae",
   "metadata": {},
   "outputs": [],
   "source": [
    "# Weighing the data and transforming train and test data\n",
    "tfidf = TfidfTransformer()\n",
    "data_tfidf = tfidf.fit(data_cv)\n",
    "train_tfidf = tfidf.transform(train_cv)\n",
    "test_tfidf = tfidf.transform(test_cv)"
   ]
  },
  {
   "cell_type": "code",
   "execution_count": 19,
   "id": "4cc742e4",
   "metadata": {},
   "outputs": [
    {
     "data": {
      "text/plain": [
       "((6080, 2), (6080, 26), (1520, 2), (1520, 26))"
      ]
     },
     "execution_count": 19,
     "metadata": {},
     "output_type": "execute_result"
    }
   ],
   "source": [
    "data_train.shape, train_tfidf.shape, data_test.shape, test_tfidf.shape"
   ]
  },
  {
   "cell_type": "code",
   "execution_count": 20,
   "id": "09d52a71",
   "metadata": {},
   "outputs": [
    {
     "data": {
      "text/plain": [
       "BernoulliNB()"
      ]
     },
     "execution_count": 20,
     "metadata": {},
     "output_type": "execute_result"
    }
   ],
   "source": [
    "# Using MultinomialNB Classifier\n",
    "\n",
    "from sklearn.naive_bayes import BernoulliNB\n",
    "bnb = BernoulliNB()\n",
    "\n",
    "# Fitting the model to train data set\n",
    "bnb.fit(train_tfidf, data_train.target)"
   ]
  },
  {
   "cell_type": "code",
   "execution_count": 21,
   "id": "a319f6f7",
   "metadata": {},
   "outputs": [],
   "source": [
    "# Predicting the target using model\n",
    "\n",
    "yhat = bnb.predict(test_tfidf)"
   ]
  },
  {
   "cell_type": "code",
   "execution_count": 22,
   "id": "6418102f",
   "metadata": {},
   "outputs": [
    {
     "name": "stdout",
     "output_type": "stream",
     "text": [
      "Accuracy Score: 58.09210526315789 %\n"
     ]
    }
   ],
   "source": [
    "# Checking Testing data accuracy score\n",
    "\n",
    "from sklearn.metrics import accuracy_score\n",
    "print('Accuracy Score: {} %'.format(accuracy_score(data_test.target,yhat)*100))"
   ]
  },
  {
   "cell_type": "code",
   "execution_count": 23,
   "id": "a9c72944",
   "metadata": {},
   "outputs": [
    {
     "data": {
      "text/plain": [
       "array([[453, 427],\n",
       "       [210, 430]], dtype=int64)"
      ]
     },
     "execution_count": 23,
     "metadata": {},
     "output_type": "execute_result"
    }
   ],
   "source": [
    "# Confusion Matrix for testing data\n",
    "\n",
    "from sklearn.metrics import confusion_matrix\n",
    "confusion_matrix(data_test.target,yhat)"
   ]
  },
  {
   "cell_type": "code",
   "execution_count": 24,
   "id": "a08c7f69",
   "metadata": {},
   "outputs": [
    {
     "name": "stdout",
     "output_type": "stream",
     "text": [
      "Accuracy Score: 57.94407894736842 %\n"
     ]
    }
   ],
   "source": [
    "# Checking Training data accuracy score for overfitting\n",
    "\n",
    "yhat_train = bnb.predict(train_tfidf)\n",
    "\n",
    "from sklearn.metrics import accuracy_score\n",
    "print('Accuracy Score: {} %'.format(accuracy_score(data_train.target,yhat_train)*100))"
   ]
  },
  {
   "cell_type": "code",
   "execution_count": 25,
   "id": "24dde68b",
   "metadata": {},
   "outputs": [
    {
     "data": {
      "text/plain": [
       "array([[1796, 1655],\n",
       "       [ 902, 1727]], dtype=int64)"
      ]
     },
     "execution_count": 25,
     "metadata": {},
     "output_type": "execute_result"
    }
   ],
   "source": [
    "# Confusion Matrix for training data\n",
    "\n",
    "from sklearn.metrics import confusion_matrix\n",
    "confusion_matrix(data_train.target,yhat_train)"
   ]
  },
  {
   "cell_type": "markdown",
   "id": "dc6cfeb6",
   "metadata": {},
   "source": [
    "."
   ]
  },
  {
   "cell_type": "code",
   "execution_count": 26,
   "id": "23a221a0",
   "metadata": {},
   "outputs": [
    {
     "data": {
      "text/plain": [
       "MultinomialNB(alpha=0.75)"
      ]
     },
     "execution_count": 26,
     "metadata": {},
     "output_type": "execute_result"
    }
   ],
   "source": [
    "# Using MultinomialNB Classifier\n",
    "\n",
    "from sklearn.naive_bayes import MultinomialNB\n",
    "mnb = MultinomialNB(alpha = 0.75)\n",
    "\n",
    "# Fitting the model to train data set\n",
    "mnb.fit(train_tfidf, data_train.target)"
   ]
  },
  {
   "cell_type": "code",
   "execution_count": 27,
   "id": "760c6e1e",
   "metadata": {},
   "outputs": [],
   "source": [
    "# Predicting the target using model\n",
    "\n",
    "yhat2 = mnb.predict(test_tfidf)"
   ]
  },
  {
   "cell_type": "code",
   "execution_count": 28,
   "id": "69f1bfd1",
   "metadata": {},
   "outputs": [
    {
     "name": "stdout",
     "output_type": "stream",
     "text": [
      "Testing Accuracy Score: 57.89473684210527 %\n"
     ]
    }
   ],
   "source": [
    "# Checking Testing data accuracy score\n",
    "\n",
    "from sklearn.metrics import accuracy_score\n",
    "print('Testing Accuracy Score: {} %'.format(accuracy_score(data_test.target,yhat2)*100))"
   ]
  },
  {
   "cell_type": "code",
   "execution_count": 29,
   "id": "c4e46bec",
   "metadata": {},
   "outputs": [
    {
     "data": {
      "text/plain": [
       "array([[880,   0],\n",
       "       [640,   0]], dtype=int64)"
      ]
     },
     "execution_count": 29,
     "metadata": {},
     "output_type": "execute_result"
    }
   ],
   "source": [
    "# Confusion Matrix for testing data\n",
    "\n",
    "from sklearn.metrics import confusion_matrix\n",
    "confusion_matrix(data_test.target,yhat2)"
   ]
  },
  {
   "cell_type": "code",
   "execution_count": 30,
   "id": "65a92138",
   "metadata": {},
   "outputs": [
    {
     "name": "stdout",
     "output_type": "stream",
     "text": [
      "Accuracy Score: 56.76 %\n"
     ]
    }
   ],
   "source": [
    "# Checking Training data accuracy score for overfitting\n",
    "\n",
    "yhat2_train = mnb.predict(train_tfidf)\n",
    "\n",
    "from sklearn.metrics import accuracy_score\n",
    "print('Accuracy Score: {:0.02f} %'.format(accuracy_score(data_train.target,yhat2_train)*100))"
   ]
  },
  {
   "cell_type": "code",
   "execution_count": 31,
   "id": "514a8b25",
   "metadata": {},
   "outputs": [
    {
     "data": {
      "text/plain": [
       "array([[3451,    0],\n",
       "       [2629,    0]], dtype=int64)"
      ]
     },
     "execution_count": 31,
     "metadata": {},
     "output_type": "execute_result"
    }
   ],
   "source": [
    "# Confusion Matrix for training data\n",
    "\n",
    "from sklearn.metrics import confusion_matrix\n",
    "confusion_matrix(data_train.target,yhat2_train)"
   ]
  },
  {
   "cell_type": "markdown",
   "id": "4607b602",
   "metadata": {},
   "source": [
    "The Bernoulli and Multinomial Classifier gives the same accuracy for train-test data"
   ]
  },
  {
   "cell_type": "code",
   "execution_count": 32,
   "id": "1799d036",
   "metadata": {},
   "outputs": [
    {
     "name": "stdout",
     "output_type": "stream",
     "text": [
      "accuracy : 58.092 %\n",
      "error : 41.908 %\n",
      "precision : 51.477 %\n",
      "recall : 68.326 %\n",
      "specificity : 50.175 %\n"
     ]
    }
   ],
   "source": [
    "# Model Performance\n",
    "cm = pd.DataFrame(confusion_matrix(data_test.target,yhat),\n",
    "                 columns=['Predicted Positive','Predicted Negative'],\n",
    "                 index=['Actual Positive','Actual Negative'])\n",
    "\n",
    "TP = cm.iloc[0,0]\n",
    "TN = cm.iloc[1,1]\n",
    "FP = cm.iloc[0,1]\n",
    "FN = cm.iloc[1,0]\n",
    "\n",
    "accuracy = (TP + TN) / float(TP + TN + FP + FN) ; print('accuracy : {:0.3f} %'.format(accuracy*100))\n",
    "error = (FP + FN) / float(TP + TN + FP + FN) ; print('error : {:0.3f} %'.format(error*100))\n",
    "\n",
    "precision = TP / float(TP + FP) ; print('precision : {:0.3f} %'.format(precision*100))\n",
    "recall = TP / float(TP + FN) ; print('recall : {:0.3f} %'.format(recall*100))\n",
    "specificity = TN / (TN + FP) ; print('specificity : {:0.3f} %'.format(specificity*100))"
   ]
  },
  {
   "cell_type": "code",
   "execution_count": null,
   "id": "fe1acea2",
   "metadata": {},
   "outputs": [],
   "source": []
  }
 ],
 "metadata": {
  "kernelspec": {
   "display_name": "Python 3 (ipykernel)",
   "language": "python",
   "name": "python3"
  },
  "language_info": {
   "codemirror_mode": {
    "name": "ipython",
    "version": 3
   },
   "file_extension": ".py",
   "mimetype": "text/x-python",
   "name": "python",
   "nbconvert_exporter": "python",
   "pygments_lexer": "ipython3",
   "version": "3.9.12"
  }
 },
 "nbformat": 4,
 "nbformat_minor": 5
}
