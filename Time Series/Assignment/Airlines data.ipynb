{
 "cells": [
  {
   "cell_type": "markdown",
   "id": "267b82a7",
   "metadata": {},
   "source": [
    "1.\tThe dataset consists of monthly totals of international airline passengers from 1995 to 2002. Our main aim is to predict the number of passengers for the next five years using time series forecasting. Prepare a document for each model explaining how many dummy variables you have created and also include the RMSE value for each model."
   ]
  },
  {
   "cell_type": "code",
   "execution_count": 1,
   "id": "13b78e87",
   "metadata": {},
   "outputs": [],
   "source": [
    "# importing libraries\n",
    "import pandas as pd\n",
    "import numpy as np\n",
    "import matplotlib.pyplot as plt\n",
    "import seaborn as sns"
   ]
  },
  {
   "cell_type": "code",
   "execution_count": 2,
   "id": "874f669e",
   "metadata": {},
   "outputs": [
    {
     "data": {
      "text/html": [
       "<div>\n",
       "<style scoped>\n",
       "    .dataframe tbody tr th:only-of-type {\n",
       "        vertical-align: middle;\n",
       "    }\n",
       "\n",
       "    .dataframe tbody tr th {\n",
       "        vertical-align: top;\n",
       "    }\n",
       "\n",
       "    .dataframe thead th {\n",
       "        text-align: right;\n",
       "    }\n",
       "</style>\n",
       "<table border=\"1\" class=\"dataframe\">\n",
       "  <thead>\n",
       "    <tr style=\"text-align: right;\">\n",
       "      <th></th>\n",
       "      <th>Month</th>\n",
       "      <th>Passengers</th>\n",
       "    </tr>\n",
       "  </thead>\n",
       "  <tbody>\n",
       "    <tr>\n",
       "      <th>0</th>\n",
       "      <td>1995-01-01</td>\n",
       "      <td>112</td>\n",
       "    </tr>\n",
       "    <tr>\n",
       "      <th>1</th>\n",
       "      <td>1995-02-01</td>\n",
       "      <td>118</td>\n",
       "    </tr>\n",
       "    <tr>\n",
       "      <th>2</th>\n",
       "      <td>1995-03-01</td>\n",
       "      <td>132</td>\n",
       "    </tr>\n",
       "    <tr>\n",
       "      <th>3</th>\n",
       "      <td>1995-04-01</td>\n",
       "      <td>129</td>\n",
       "    </tr>\n",
       "    <tr>\n",
       "      <th>4</th>\n",
       "      <td>1995-05-01</td>\n",
       "      <td>121</td>\n",
       "    </tr>\n",
       "  </tbody>\n",
       "</table>\n",
       "</div>"
      ],
      "text/plain": [
       "       Month  Passengers\n",
       "0 1995-01-01         112\n",
       "1 1995-02-01         118\n",
       "2 1995-03-01         132\n",
       "3 1995-04-01         129\n",
       "4 1995-05-01         121"
      ]
     },
     "execution_count": 2,
     "metadata": {},
     "output_type": "execute_result"
    }
   ],
   "source": [
    "# importing dataset\n",
    "df = pd.read_excel('C:/Users/vaibh/Desktop/360 Digitmg/Time Series/Assignment/Airlines Data.xlsx')\n",
    "df.head()"
   ]
  },
  {
   "cell_type": "code",
   "execution_count": 3,
   "id": "6fc89846",
   "metadata": {},
   "outputs": [
    {
     "data": {
      "text/plain": [
       "(96, 2)"
      ]
     },
     "execution_count": 3,
     "metadata": {},
     "output_type": "execute_result"
    }
   ],
   "source": [
    "df.shape"
   ]
  },
  {
   "cell_type": "code",
   "execution_count": 4,
   "id": "87700cbc",
   "metadata": {},
   "outputs": [
    {
     "data": {
      "text/html": [
       "<div>\n",
       "<style scoped>\n",
       "    .dataframe tbody tr th:only-of-type {\n",
       "        vertical-align: middle;\n",
       "    }\n",
       "\n",
       "    .dataframe tbody tr th {\n",
       "        vertical-align: top;\n",
       "    }\n",
       "\n",
       "    .dataframe thead th {\n",
       "        text-align: right;\n",
       "    }\n",
       "</style>\n",
       "<table border=\"1\" class=\"dataframe\">\n",
       "  <thead>\n",
       "    <tr style=\"text-align: right;\">\n",
       "      <th></th>\n",
       "      <th>count</th>\n",
       "      <th>mean</th>\n",
       "      <th>std</th>\n",
       "      <th>min</th>\n",
       "      <th>25%</th>\n",
       "      <th>50%</th>\n",
       "      <th>75%</th>\n",
       "      <th>max</th>\n",
       "    </tr>\n",
       "  </thead>\n",
       "  <tbody>\n",
       "    <tr>\n",
       "      <th>Passengers</th>\n",
       "      <td>96.0</td>\n",
       "      <td>213.708333</td>\n",
       "      <td>71.918216</td>\n",
       "      <td>104.0</td>\n",
       "      <td>156.0</td>\n",
       "      <td>200.0</td>\n",
       "      <td>264.75</td>\n",
       "      <td>413.0</td>\n",
       "    </tr>\n",
       "  </tbody>\n",
       "</table>\n",
       "</div>"
      ],
      "text/plain": [
       "            count        mean        std    min    25%    50%     75%    max\n",
       "Passengers   96.0  213.708333  71.918216  104.0  156.0  200.0  264.75  413.0"
      ]
     },
     "execution_count": 4,
     "metadata": {},
     "output_type": "execute_result"
    }
   ],
   "source": [
    "# Descriptive statistics\n",
    "df.describe().T"
   ]
  },
  {
   "cell_type": "code",
   "execution_count": 5,
   "id": "9cd37829",
   "metadata": {},
   "outputs": [
    {
     "name": "stdout",
     "output_type": "stream",
     "text": [
      "<class 'pandas.core.frame.DataFrame'>\n",
      "RangeIndex: 96 entries, 0 to 95\n",
      "Data columns (total 2 columns):\n",
      " #   Column      Non-Null Count  Dtype         \n",
      "---  ------      --------------  -----         \n",
      " 0   Month       96 non-null     datetime64[ns]\n",
      " 1   Passengers  96 non-null     int64         \n",
      "dtypes: datetime64[ns](1), int64(1)\n",
      "memory usage: 1.6 KB\n"
     ]
    }
   ],
   "source": [
    "# Datatypes of the feature\n",
    "df.info()"
   ]
  },
  {
   "cell_type": "code",
   "execution_count": 6,
   "id": "cb38d5c0",
   "metadata": {},
   "outputs": [
    {
     "data": {
      "text/plain": [
       "Month         0\n",
       "Passengers    0\n",
       "dtype: int64"
      ]
     },
     "execution_count": 6,
     "metadata": {},
     "output_type": "execute_result"
    }
   ],
   "source": [
    "# checking for null values\n",
    "df.isnull().sum()"
   ]
  },
  {
   "cell_type": "code",
   "execution_count": 7,
   "id": "4855b40b",
   "metadata": {},
   "outputs": [
    {
     "data": {
      "text/plain": [
       "0"
      ]
     },
     "execution_count": 7,
     "metadata": {},
     "output_type": "execute_result"
    }
   ],
   "source": [
    "# checking for duplicated values\n",
    "df.duplicated().sum()"
   ]
  },
  {
   "cell_type": "code",
   "execution_count": 8,
   "id": "7498272b",
   "metadata": {},
   "outputs": [],
   "source": [
    "# Adding extra features\n",
    "df['t'] = np.arange(1,(df.shape[0]+1))\n",
    "df['t2'] = df.t * df.t\n",
    "df['log_Passengers'] = np.log(df.Passengers)"
   ]
  },
  {
   "cell_type": "code",
   "execution_count": 9,
   "id": "7b71cbd6",
   "metadata": {},
   "outputs": [],
   "source": [
    "# Separating months feature\n",
    "df['months'] = (df.Month.dt.month_name()).str[:3]"
   ]
  },
  {
   "cell_type": "code",
   "execution_count": 10,
   "id": "c7f52c24",
   "metadata": {},
   "outputs": [
    {
     "data": {
      "text/html": [
       "<div>\n",
       "<style scoped>\n",
       "    .dataframe tbody tr th:only-of-type {\n",
       "        vertical-align: middle;\n",
       "    }\n",
       "\n",
       "    .dataframe tbody tr th {\n",
       "        vertical-align: top;\n",
       "    }\n",
       "\n",
       "    .dataframe thead th {\n",
       "        text-align: right;\n",
       "    }\n",
       "</style>\n",
       "<table border=\"1\" class=\"dataframe\">\n",
       "  <thead>\n",
       "    <tr style=\"text-align: right;\">\n",
       "      <th></th>\n",
       "      <th>Month</th>\n",
       "      <th>Passengers</th>\n",
       "      <th>t</th>\n",
       "      <th>t2</th>\n",
       "      <th>log_Passengers</th>\n",
       "      <th>months</th>\n",
       "    </tr>\n",
       "  </thead>\n",
       "  <tbody>\n",
       "    <tr>\n",
       "      <th>0</th>\n",
       "      <td>1995-01-01</td>\n",
       "      <td>112</td>\n",
       "      <td>1</td>\n",
       "      <td>1</td>\n",
       "      <td>4.718499</td>\n",
       "      <td>Jan</td>\n",
       "    </tr>\n",
       "    <tr>\n",
       "      <th>1</th>\n",
       "      <td>1995-02-01</td>\n",
       "      <td>118</td>\n",
       "      <td>2</td>\n",
       "      <td>4</td>\n",
       "      <td>4.770685</td>\n",
       "      <td>Feb</td>\n",
       "    </tr>\n",
       "    <tr>\n",
       "      <th>2</th>\n",
       "      <td>1995-03-01</td>\n",
       "      <td>132</td>\n",
       "      <td>3</td>\n",
       "      <td>9</td>\n",
       "      <td>4.882802</td>\n",
       "      <td>Mar</td>\n",
       "    </tr>\n",
       "    <tr>\n",
       "      <th>3</th>\n",
       "      <td>1995-04-01</td>\n",
       "      <td>129</td>\n",
       "      <td>4</td>\n",
       "      <td>16</td>\n",
       "      <td>4.859812</td>\n",
       "      <td>Apr</td>\n",
       "    </tr>\n",
       "    <tr>\n",
       "      <th>4</th>\n",
       "      <td>1995-05-01</td>\n",
       "      <td>121</td>\n",
       "      <td>5</td>\n",
       "      <td>25</td>\n",
       "      <td>4.795791</td>\n",
       "      <td>May</td>\n",
       "    </tr>\n",
       "  </tbody>\n",
       "</table>\n",
       "</div>"
      ],
      "text/plain": [
       "       Month  Passengers  t  t2  log_Passengers months\n",
       "0 1995-01-01         112  1   1        4.718499    Jan\n",
       "1 1995-02-01         118  2   4        4.770685    Feb\n",
       "2 1995-03-01         132  3   9        4.882802    Mar\n",
       "3 1995-04-01         129  4  16        4.859812    Apr\n",
       "4 1995-05-01         121  5  25        4.795791    May"
      ]
     },
     "execution_count": 10,
     "metadata": {},
     "output_type": "execute_result"
    }
   ],
   "source": [
    "df.head()"
   ]
  },
  {
   "cell_type": "code",
   "execution_count": 11,
   "id": "b1798b74",
   "metadata": {},
   "outputs": [],
   "source": [
    "# Cretaing dummy columns\n",
    "moth_dum = pd.get_dummies(df['months'])"
   ]
  },
  {
   "cell_type": "code",
   "execution_count": 12,
   "id": "c442c3fc",
   "metadata": {},
   "outputs": [],
   "source": [
    "# Concatening\n",
    "df = pd.concat([df,moth_dum], axis = 1)"
   ]
  },
  {
   "cell_type": "code",
   "execution_count": 13,
   "id": "3f5c03f7",
   "metadata": {},
   "outputs": [
    {
     "data": {
      "image/png": "[encoded data removed]",
      "text/plain": [
       "<Figure size 432x288 with 1 Axes>"
      ]
     },
     "metadata": {
      "needs_background": "light"
     },
     "output_type": "display_data"
    }
   ],
   "source": [
    "# Line plot \n",
    "sns.lineplot(x = df.Month, y = df.Passengers)\n",
    "plt.show()"
   ]
  },
  {
   "cell_type": "markdown",
   "id": "e3c33769",
   "metadata": {},
   "source": [
    "    We can see an upward trend with seasonality"
   ]
  },
  {
   "cell_type": "code",
   "execution_count": 14,
   "id": "ce47adf5",
   "metadata": {},
   "outputs": [],
   "source": [
    "# Data Partition\n",
    "Train = df.head(60)\n",
    "Test = df.tail(36)"
   ]
  },
  {
   "cell_type": "code",
   "execution_count": 15,
   "id": "16c99f87",
   "metadata": {},
   "outputs": [
    {
     "name": "stdout",
     "output_type": "stream",
     "text": [
      "Linear RMSE: 44.356626717884524\n"
     ]
    }
   ],
   "source": [
    "# Linear Model\n",
    "\n",
    "import statsmodels.formula.api as smf \n",
    "\n",
    "linear_model = smf.ols('Passengers ~ t', data = Train).fit()\n",
    "pred_linear =  pd.Series(linear_model.predict(pd.DataFrame(Test['t'])))\n",
    "rmse_linear = np.sqrt(np.mean((np.array(Test['Passengers']) - np.array(pred_linear))**2))\n",
    "print(f'Linear RMSE: {rmse_linear}')"
   ]
  },
  {
   "cell_type": "code",
   "execution_count": 16,
   "id": "8041f11f",
   "metadata": {},
   "outputs": [
    {
     "name": "stdout",
     "output_type": "stream",
     "text": [
      "Exponential RMSE: 42.911996476982786\n"
     ]
    }
   ],
   "source": [
    "# Exponential \n",
    "\n",
    "Exp = smf.ols('log_Passengers ~ t', data = Train).fit()\n",
    "pred_Exp = pd.Series(Exp.predict(pd.DataFrame(Test['t'])))\n",
    "rmse_Exp = np.sqrt(np.mean((np.array(Test['Passengers']) - np.array(np.exp(pred_Exp)))**2))\n",
    "print(f'Exponential RMSE: {rmse_Exp}')"
   ]
  },
  {
   "cell_type": "code",
   "execution_count": 17,
   "id": "b8c69f7d",
   "metadata": {},
   "outputs": [
    {
     "name": "stdout",
     "output_type": "stream",
     "text": [
      "Quadratic RMSE: 40.31203210939949\n"
     ]
    }
   ],
   "source": [
    "# Quadratic \n",
    "\n",
    "Quad = smf.ols('Passengers ~ t + t2', data = Train).fit()\n",
    "pred_Quad = pd.Series(Quad.predict(Test[[\"t\", \"t2\"]]))\n",
    "rmse_Quad = np.sqrt(np.mean((np.array(Test['Passengers']) - np.array(pred_Quad))**2))\n",
    "print(f'Quadratic RMSE: {rmse_Quad}')"
   ]
  },
  {
   "cell_type": "code",
   "execution_count": 18,
   "id": "1baa1926",
   "metadata": {},
   "outputs": [
    {
     "data": {
      "text/html": [
       "<div>\n",
       "<style scoped>\n",
       "    .dataframe tbody tr th:only-of-type {\n",
       "        vertical-align: middle;\n",
       "    }\n",
       "\n",
       "    .dataframe tbody tr th {\n",
       "        vertical-align: top;\n",
       "    }\n",
       "\n",
       "    .dataframe thead th {\n",
       "        text-align: right;\n",
       "    }\n",
       "</style>\n",
       "<table border=\"1\" class=\"dataframe\">\n",
       "  <thead>\n",
       "    <tr style=\"text-align: right;\">\n",
       "      <th></th>\n",
       "      <th>Month</th>\n",
       "      <th>Passengers</th>\n",
       "      <th>t</th>\n",
       "      <th>t2</th>\n",
       "      <th>log_Passengers</th>\n",
       "      <th>months</th>\n",
       "      <th>Apr</th>\n",
       "      <th>Aug</th>\n",
       "      <th>Dec</th>\n",
       "      <th>Feb</th>\n",
       "      <th>Jan</th>\n",
       "      <th>Jul</th>\n",
       "      <th>Jun</th>\n",
       "      <th>Mar</th>\n",
       "      <th>May</th>\n",
       "      <th>Nov</th>\n",
       "      <th>Oct</th>\n",
       "      <th>Sep</th>\n",
       "    </tr>\n",
       "  </thead>\n",
       "  <tbody>\n",
       "    <tr>\n",
       "      <th>0</th>\n",
       "      <td>1995-01-01</td>\n",
       "      <td>112</td>\n",
       "      <td>1</td>\n",
       "      <td>1</td>\n",
       "      <td>4.718499</td>\n",
       "      <td>Jan</td>\n",
       "      <td>0</td>\n",
       "      <td>0</td>\n",
       "      <td>0</td>\n",
       "      <td>0</td>\n",
       "      <td>1</td>\n",
       "      <td>0</td>\n",
       "      <td>0</td>\n",
       "      <td>0</td>\n",
       "      <td>0</td>\n",
       "      <td>0</td>\n",
       "      <td>0</td>\n",
       "      <td>0</td>\n",
       "    </tr>\n",
       "    <tr>\n",
       "      <th>1</th>\n",
       "      <td>1995-02-01</td>\n",
       "      <td>118</td>\n",
       "      <td>2</td>\n",
       "      <td>4</td>\n",
       "      <td>4.770685</td>\n",
       "      <td>Feb</td>\n",
       "      <td>0</td>\n",
       "      <td>0</td>\n",
       "      <td>0</td>\n",
       "      <td>1</td>\n",
       "      <td>0</td>\n",
       "      <td>0</td>\n",
       "      <td>0</td>\n",
       "      <td>0</td>\n",
       "      <td>0</td>\n",
       "      <td>0</td>\n",
       "      <td>0</td>\n",
       "      <td>0</td>\n",
       "    </tr>\n",
       "    <tr>\n",
       "      <th>2</th>\n",
       "      <td>1995-03-01</td>\n",
       "      <td>132</td>\n",
       "      <td>3</td>\n",
       "      <td>9</td>\n",
       "      <td>4.882802</td>\n",
       "      <td>Mar</td>\n",
       "      <td>0</td>\n",
       "      <td>0</td>\n",
       "      <td>0</td>\n",
       "      <td>0</td>\n",
       "      <td>0</td>\n",
       "      <td>0</td>\n",
       "      <td>0</td>\n",
       "      <td>1</td>\n",
       "      <td>0</td>\n",
       "      <td>0</td>\n",
       "      <td>0</td>\n",
       "      <td>0</td>\n",
       "    </tr>\n",
       "    <tr>\n",
       "      <th>3</th>\n",
       "      <td>1995-04-01</td>\n",
       "      <td>129</td>\n",
       "      <td>4</td>\n",
       "      <td>16</td>\n",
       "      <td>4.859812</td>\n",
       "      <td>Apr</td>\n",
       "      <td>1</td>\n",
       "      <td>0</td>\n",
       "      <td>0</td>\n",
       "      <td>0</td>\n",
       "      <td>0</td>\n",
       "      <td>0</td>\n",
       "      <td>0</td>\n",
       "      <td>0</td>\n",
       "      <td>0</td>\n",
       "      <td>0</td>\n",
       "      <td>0</td>\n",
       "      <td>0</td>\n",
       "    </tr>\n",
       "    <tr>\n",
       "      <th>4</th>\n",
       "      <td>1995-05-01</td>\n",
       "      <td>121</td>\n",
       "      <td>5</td>\n",
       "      <td>25</td>\n",
       "      <td>4.795791</td>\n",
       "      <td>May</td>\n",
       "      <td>0</td>\n",
       "      <td>0</td>\n",
       "      <td>0</td>\n",
       "      <td>0</td>\n",
       "      <td>0</td>\n",
       "      <td>0</td>\n",
       "      <td>0</td>\n",
       "      <td>0</td>\n",
       "      <td>1</td>\n",
       "      <td>0</td>\n",
       "      <td>0</td>\n",
       "      <td>0</td>\n",
       "    </tr>\n",
       "  </tbody>\n",
       "</table>\n",
       "</div>"
      ],
      "text/plain": [
       "       Month  Passengers  t  t2  log_Passengers months  Apr  Aug  Dec  Feb  \\\n",
       "0 1995-01-01         112  1   1        4.718499    Jan    0    0    0    0   \n",
       "1 1995-02-01         118  2   4        4.770685    Feb    0    0    0    1   \n",
       "2 1995-03-01         132  3   9        4.882802    Mar    0    0    0    0   \n",
       "3 1995-04-01         129  4  16        4.859812    Apr    1    0    0    0   \n",
       "4 1995-05-01         121  5  25        4.795791    May    0    0    0    0   \n",
       "\n",
       "   Jan  Jul  Jun  Mar  May  Nov  Oct  Sep  \n",
       "0    1    0    0    0    0    0    0    0  \n",
       "1    0    0    0    0    0    0    0    0  \n",
       "2    0    0    0    1    0    0    0    0  \n",
       "3    0    0    0    0    0    0    0    0  \n",
       "4    0    0    0    0    1    0    0    0  "
      ]
     },
     "execution_count": 18,
     "metadata": {},
     "output_type": "execute_result"
    }
   ],
   "source": [
    "df.head()"
   ]
  },
  {
   "cell_type": "code",
   "execution_count": 19,
   "id": "628ebb11",
   "metadata": {},
   "outputs": [
    {
     "name": "stdout",
     "output_type": "stream",
     "text": [
      "Add Sea RMSE: 119.97073717276967\n"
     ]
    }
   ],
   "source": [
    "# Additive Seasonality\n",
    "\n",
    "add_sea = smf.ols('Passengers ~ Jan+Feb+Mar+Apr+May+Jun+Jul+Aug+Sep+Oct+Nov' , data = Train).fit()\n",
    "pred_add_sea = (add_sea.predict(Test[['Jan','Feb','Mar','Apr','May','Jun','Jul','Aug','Sep','Oct','Nov']]))\n",
    "rmse_add_sea = np.sqrt(np.mean((Test['Passengers'] - pred_add_sea)**2))\n",
    "print(f'Add Sea RMSE: {rmse_add_sea}')"
   ]
  },
  {
   "cell_type": "code",
   "execution_count": 20,
   "id": "a38dc91e",
   "metadata": {},
   "outputs": [
    {
     "name": "stdout",
     "output_type": "stream",
     "text": [
      "Multiplicative Sea RMSE: 123.66785534535867\n"
     ]
    }
   ],
   "source": [
    "# Multiplicative seasonality\n",
    "\n",
    "Mul_sea = smf.ols('log_Passengers ~ Jan+Feb+Mar+Apr+May+Jun+Jul+Aug+Sep+Oct+Nov',data = Train).fit()\n",
    "pred_Mult_sea = pd.Series(Mul_sea.predict(Test))\n",
    "rmse_Mult_sea = np.sqrt(np.mean((np.array(Test['Passengers']) - np.array(np.exp(pred_Mult_sea)))**2))\n",
    "print(f'Multiplicative Sea RMSE: {rmse_Mult_sea}')"
   ]
  },
  {
   "cell_type": "code",
   "execution_count": 21,
   "id": "793a447d",
   "metadata": {},
   "outputs": [
    {
     "name": "stdout",
     "output_type": "stream",
     "text": [
      "Additive Sesonality with quadratic trend RMSE: 25.492693692045304\n"
     ]
    }
   ],
   "source": [
    "# Additive Sesonality with quadratic trend\n",
    "\n",
    "add_sea_Quad = smf.ols('Passengers ~ t+t2+Jan+Feb+Mar+Apr+May+Jun+Jul+Aug+Sep+Oct+Nov',data=Train).fit()\n",
    "pred_add_sea_quad = pd.Series(add_sea_Quad.predict(Test[['Jan','Feb','Mar','Apr','May','Jun','Jul','Aug','Sep','Oct','Nov','t','t2']]))\n",
    "rmse_add_sea_quad = np.sqrt(np.mean((np.array(Test['Passengers'])-np.array(pred_add_sea_quad))**2))\n",
    "print(f'Additive Sesonality with quadratic trend RMSE: {rmse_add_sea_quad}') "
   ]
  },
  {
   "cell_type": "code",
   "execution_count": 22,
   "id": "fa6386c3",
   "metadata": {},
   "outputs": [
    {
     "name": "stdout",
     "output_type": "stream",
     "text": [
      "Multiplicative Seasonlity with linear trend RMSE: 26.100380469559898\n"
     ]
    }
   ],
   "source": [
    "# Multiplicative Seasonlity with linear trend\n",
    "\n",
    "Mul_sea_lin = smf.ols('log_Passengers ~ t+Jan+Feb+Mar+Apr+May+Jun+Jul+Aug+Sep+Oct+Nov',data = Train).fit()\n",
    "pred_Mult_sea_lin = pd.Series(Mul_sea_lin.predict(Test))\n",
    "rmse_Mult_sea_lin = np.sqrt(np.mean((np.array(Test['Passengers'])-np.array(np.exp(pred_Mult_sea_lin)))**2))\n",
    "print(f'Multiplicative Seasonlity with linear trend RMSE: {rmse_Mult_sea_lin}') "
   ]
  },
  {
   "cell_type": "code",
   "execution_count": 23,
   "id": "60384fa4",
   "metadata": {},
   "outputs": [
    {
     "data": {
      "text/html": [
       "<div>\n",
       "<style scoped>\n",
       "    .dataframe tbody tr th:only-of-type {\n",
       "        vertical-align: middle;\n",
       "    }\n",
       "\n",
       "    .dataframe tbody tr th {\n",
       "        vertical-align: top;\n",
       "    }\n",
       "\n",
       "    .dataframe thead th {\n",
       "        text-align: right;\n",
       "    }\n",
       "</style>\n",
       "<table border=\"1\" class=\"dataframe\">\n",
       "  <thead>\n",
       "    <tr style=\"text-align: right;\">\n",
       "      <th></th>\n",
       "      <th>MODEL</th>\n",
       "      <th>RMSE_Values</th>\n",
       "    </tr>\n",
       "  </thead>\n",
       "  <tbody>\n",
       "    <tr>\n",
       "      <th>0</th>\n",
       "      <td>rmse_linear</td>\n",
       "      <td>44.356627</td>\n",
       "    </tr>\n",
       "    <tr>\n",
       "      <th>1</th>\n",
       "      <td>rmse_Exp</td>\n",
       "      <td>42.911996</td>\n",
       "    </tr>\n",
       "    <tr>\n",
       "      <th>2</th>\n",
       "      <td>rmse_Quad</td>\n",
       "      <td>40.312032</td>\n",
       "    </tr>\n",
       "    <tr>\n",
       "      <th>3</th>\n",
       "      <td>rmse_add_sea</td>\n",
       "      <td>119.970737</td>\n",
       "    </tr>\n",
       "    <tr>\n",
       "      <th>4</th>\n",
       "      <td>rmse_add_sea_quad</td>\n",
       "      <td>25.492694</td>\n",
       "    </tr>\n",
       "    <tr>\n",
       "      <th>5</th>\n",
       "      <td>rmse_Mult_sea</td>\n",
       "      <td>123.667855</td>\n",
       "    </tr>\n",
       "    <tr>\n",
       "      <th>6</th>\n",
       "      <td>rmse_Mult_sea_lin</td>\n",
       "      <td>26.100380</td>\n",
       "    </tr>\n",
       "  </tbody>\n",
       "</table>\n",
       "</div>"
      ],
      "text/plain": [
       "               MODEL  RMSE_Values\n",
       "0        rmse_linear    44.356627\n",
       "1           rmse_Exp    42.911996\n",
       "2          rmse_Quad    40.312032\n",
       "3       rmse_add_sea   119.970737\n",
       "4  rmse_add_sea_quad    25.492694\n",
       "5      rmse_Mult_sea   123.667855\n",
       "6  rmse_Mult_sea_lin    26.100380"
      ]
     },
     "execution_count": 23,
     "metadata": {},
     "output_type": "execute_result"
    }
   ],
   "source": [
    "# Checking all RMSE values\n",
    "\n",
    "data = {\"MODEL\":pd.Series([\"rmse_linear\",\"rmse_Exp\",\"rmse_Quad\",\"rmse_add_sea\",  \\\n",
    "                           \"rmse_add_sea_quad\",\"rmse_Mult_sea\",\"rmse_Mult_sea_lin\"]),   \\\n",
    "        \"RMSE_Values\":pd.Series([rmse_linear,rmse_Exp,rmse_Quad,rmse_add_sea,    \\\n",
    "                                 rmse_add_sea_quad,rmse_Mult_sea,rmse_Mult_sea_lin])}\n",
    "table_rmse = pd.DataFrame(data)\n",
    "table_rmse"
   ]
  },
  {
   "cell_type": "markdown",
   "id": "7c3e970a",
   "metadata": {},
   "source": [
    "Amongst all, additive seasonality with quadratic trend gives the least RMSE value"
   ]
  },
  {
   "cell_type": "code",
   "execution_count": 24,
   "id": "89d025bc",
   "metadata": {},
   "outputs": [
    {
     "data": {
      "text/html": [
       "<div>\n",
       "<style scoped>\n",
       "    .dataframe tbody tr th:only-of-type {\n",
       "        vertical-align: middle;\n",
       "    }\n",
       "\n",
       "    .dataframe tbody tr th {\n",
       "        vertical-align: top;\n",
       "    }\n",
       "\n",
       "    .dataframe thead th {\n",
       "        text-align: right;\n",
       "    }\n",
       "</style>\n",
       "<table border=\"1\" class=\"dataframe\">\n",
       "  <thead>\n",
       "    <tr style=\"text-align: right;\">\n",
       "      <th></th>\n",
       "      <th>Month</th>\n",
       "      <th>Passengers</th>\n",
       "      <th>t</th>\n",
       "      <th>t2</th>\n",
       "      <th>log_Passengers</th>\n",
       "      <th>months</th>\n",
       "      <th>Apr</th>\n",
       "      <th>Aug</th>\n",
       "      <th>Dec</th>\n",
       "      <th>Feb</th>\n",
       "      <th>Jan</th>\n",
       "      <th>Jul</th>\n",
       "      <th>Jun</th>\n",
       "      <th>Mar</th>\n",
       "      <th>May</th>\n",
       "      <th>Nov</th>\n",
       "      <th>Oct</th>\n",
       "      <th>Sep</th>\n",
       "    </tr>\n",
       "  </thead>\n",
       "  <tbody>\n",
       "    <tr>\n",
       "      <th>94</th>\n",
       "      <td>2002-11-01</td>\n",
       "      <td>271</td>\n",
       "      <td>95</td>\n",
       "      <td>9025</td>\n",
       "      <td>5.602119</td>\n",
       "      <td>Nov</td>\n",
       "      <td>0</td>\n",
       "      <td>0</td>\n",
       "      <td>0</td>\n",
       "      <td>0</td>\n",
       "      <td>0</td>\n",
       "      <td>0</td>\n",
       "      <td>0</td>\n",
       "      <td>0</td>\n",
       "      <td>0</td>\n",
       "      <td>1</td>\n",
       "      <td>0</td>\n",
       "      <td>0</td>\n",
       "    </tr>\n",
       "    <tr>\n",
       "      <th>95</th>\n",
       "      <td>2002-12-01</td>\n",
       "      <td>306</td>\n",
       "      <td>96</td>\n",
       "      <td>9216</td>\n",
       "      <td>5.723585</td>\n",
       "      <td>Dec</td>\n",
       "      <td>0</td>\n",
       "      <td>0</td>\n",
       "      <td>1</td>\n",
       "      <td>0</td>\n",
       "      <td>0</td>\n",
       "      <td>0</td>\n",
       "      <td>0</td>\n",
       "      <td>0</td>\n",
       "      <td>0</td>\n",
       "      <td>0</td>\n",
       "      <td>0</td>\n",
       "      <td>0</td>\n",
       "    </tr>\n",
       "  </tbody>\n",
       "</table>\n",
       "</div>"
      ],
      "text/plain": [
       "        Month  Passengers   t    t2  log_Passengers months  Apr  Aug  Dec  \\\n",
       "94 2002-11-01         271  95  9025        5.602119    Nov    0    0    0   \n",
       "95 2002-12-01         306  96  9216        5.723585    Dec    0    0    1   \n",
       "\n",
       "    Feb  Jan  Jul  Jun  Mar  May  Nov  Oct  Sep  \n",
       "94    0    0    0    0    0    0    1    0    0  \n",
       "95    0    0    0    0    0    0    0    0    0  "
      ]
     },
     "execution_count": 24,
     "metadata": {},
     "output_type": "execute_result"
    }
   ],
   "source": [
    "df.tail(2)"
   ]
  },
  {
   "cell_type": "code",
   "execution_count": 25,
   "id": "607c635f",
   "metadata": {},
   "outputs": [],
   "source": [
    "# Creating next five months datato predict\n",
    "\n",
    "forecast_table = pd.DataFrame([])\n",
    "forecast_table['t'] = np.arange(97,157)\n",
    "forecast_table['t2'] = forecast_table.t * forecast_table.t\n",
    "forecast_table['months'] = ['Jan','Feb','Mar', 'Apr', 'May', 'Jun', 'Jul', 'Aug', 'Sep', 'Oct', 'Nov', 'Dec'] * 5\n",
    "\n",
    "month_dum = pd.get_dummies(forecast_table['months'])\n",
    "pred_df = pd.concat([forecast_table,month_dum], axis = 1)"
   ]
  },
  {
   "cell_type": "code",
   "execution_count": 26,
   "id": "c8c4a024",
   "metadata": {},
   "outputs": [
    {
     "data": {
      "text/html": [
       "<div>\n",
       "<style scoped>\n",
       "    .dataframe tbody tr th:only-of-type {\n",
       "        vertical-align: middle;\n",
       "    }\n",
       "\n",
       "    .dataframe tbody tr th {\n",
       "        vertical-align: top;\n",
       "    }\n",
       "\n",
       "    .dataframe thead th {\n",
       "        text-align: right;\n",
       "    }\n",
       "</style>\n",
       "<table border=\"1\" class=\"dataframe\">\n",
       "  <thead>\n",
       "    <tr style=\"text-align: right;\">\n",
       "      <th></th>\n",
       "      <th>t</th>\n",
       "      <th>t2</th>\n",
       "      <th>months</th>\n",
       "      <th>Apr</th>\n",
       "      <th>Aug</th>\n",
       "      <th>Dec</th>\n",
       "      <th>Feb</th>\n",
       "      <th>Jan</th>\n",
       "      <th>Jul</th>\n",
       "      <th>Jun</th>\n",
       "      <th>Mar</th>\n",
       "      <th>May</th>\n",
       "      <th>Nov</th>\n",
       "      <th>Oct</th>\n",
       "      <th>Sep</th>\n",
       "    </tr>\n",
       "  </thead>\n",
       "  <tbody>\n",
       "    <tr>\n",
       "      <th>0</th>\n",
       "      <td>97</td>\n",
       "      <td>9409</td>\n",
       "      <td>Jan</td>\n",
       "      <td>0</td>\n",
       "      <td>0</td>\n",
       "      <td>0</td>\n",
       "      <td>0</td>\n",
       "      <td>1</td>\n",
       "      <td>0</td>\n",
       "      <td>0</td>\n",
       "      <td>0</td>\n",
       "      <td>0</td>\n",
       "      <td>0</td>\n",
       "      <td>0</td>\n",
       "      <td>0</td>\n",
       "    </tr>\n",
       "    <tr>\n",
       "      <th>1</th>\n",
       "      <td>98</td>\n",
       "      <td>9604</td>\n",
       "      <td>Feb</td>\n",
       "      <td>0</td>\n",
       "      <td>0</td>\n",
       "      <td>0</td>\n",
       "      <td>1</td>\n",
       "      <td>0</td>\n",
       "      <td>0</td>\n",
       "      <td>0</td>\n",
       "      <td>0</td>\n",
       "      <td>0</td>\n",
       "      <td>0</td>\n",
       "      <td>0</td>\n",
       "      <td>0</td>\n",
       "    </tr>\n",
       "    <tr>\n",
       "      <th>2</th>\n",
       "      <td>99</td>\n",
       "      <td>9801</td>\n",
       "      <td>Mar</td>\n",
       "      <td>0</td>\n",
       "      <td>0</td>\n",
       "      <td>0</td>\n",
       "      <td>0</td>\n",
       "      <td>0</td>\n",
       "      <td>0</td>\n",
       "      <td>0</td>\n",
       "      <td>1</td>\n",
       "      <td>0</td>\n",
       "      <td>0</td>\n",
       "      <td>0</td>\n",
       "      <td>0</td>\n",
       "    </tr>\n",
       "    <tr>\n",
       "      <th>3</th>\n",
       "      <td>100</td>\n",
       "      <td>10000</td>\n",
       "      <td>Apr</td>\n",
       "      <td>1</td>\n",
       "      <td>0</td>\n",
       "      <td>0</td>\n",
       "      <td>0</td>\n",
       "      <td>0</td>\n",
       "      <td>0</td>\n",
       "      <td>0</td>\n",
       "      <td>0</td>\n",
       "      <td>0</td>\n",
       "      <td>0</td>\n",
       "      <td>0</td>\n",
       "      <td>0</td>\n",
       "    </tr>\n",
       "    <tr>\n",
       "      <th>4</th>\n",
       "      <td>101</td>\n",
       "      <td>10201</td>\n",
       "      <td>May</td>\n",
       "      <td>0</td>\n",
       "      <td>0</td>\n",
       "      <td>0</td>\n",
       "      <td>0</td>\n",
       "      <td>0</td>\n",
       "      <td>0</td>\n",
       "      <td>0</td>\n",
       "      <td>0</td>\n",
       "      <td>1</td>\n",
       "      <td>0</td>\n",
       "      <td>0</td>\n",
       "      <td>0</td>\n",
       "    </tr>\n",
       "  </tbody>\n",
       "</table>\n",
       "</div>"
      ],
      "text/plain": [
       "     t     t2 months  Apr  Aug  Dec  Feb  Jan  Jul  Jun  Mar  May  Nov  Oct  \\\n",
       "0   97   9409    Jan    0    0    0    0    1    0    0    0    0    0    0   \n",
       "1   98   9604    Feb    0    0    0    1    0    0    0    0    0    0    0   \n",
       "2   99   9801    Mar    0    0    0    0    0    0    0    1    0    0    0   \n",
       "3  100  10000    Apr    1    0    0    0    0    0    0    0    0    0    0   \n",
       "4  101  10201    May    0    0    0    0    0    0    0    0    1    0    0   \n",
       "\n",
       "   Sep  \n",
       "0    0  \n",
       "1    0  \n",
       "2    0  \n",
       "3    0  \n",
       "4    0  "
      ]
     },
     "execution_count": 26,
     "metadata": {},
     "output_type": "execute_result"
    }
   ],
   "source": [
    "pred_df.head()"
   ]
  },
  {
   "cell_type": "code",
   "execution_count": 27,
   "id": "ace090be",
   "metadata": {},
   "outputs": [],
   "source": [
    "# Predicting for the next five years (60 months)\n",
    "\n",
    "model_full = smf.ols('Passengers ~ t+t2+Jan+Feb+Mar+Apr+May+Jun+Jul+Aug+Sep+Oct+Nov', data = df).fit()\n",
    "\n",
    "pred_new  = pd.Series(model_full.predict(pred_df))\n",
    "pred_new\n",
    "\n",
    "pred_df[\"forecasted_Passengers\"] = pd.Series(pred_new)"
   ]
  },
  {
   "cell_type": "code",
   "execution_count": 28,
   "id": "5dba7f7e",
   "metadata": {
    "scrolled": true
   },
   "outputs": [
    {
     "data": {
      "text/plain": [
       "0     328.328687\n",
       "1     329.438178\n",
       "2     359.547668\n",
       "3     354.907159\n",
       "4     356.141650\n",
       "5     385.376141\n",
       "6     413.360631\n",
       "7     412.845122\n",
       "8     385.829613\n",
       "9     358.939103\n",
       "10    335.423594\n",
       "11    362.283085\n",
       "12    371.458313\n",
       "13    372.842135\n",
       "14    403.225957\n",
       "15    398.859779\n",
       "16    400.368601\n",
       "17    429.877423\n",
       "18    458.136245\n",
       "19    457.895067\n",
       "20    431.153889\n",
       "21    404.537711\n",
       "22    381.296533\n",
       "23    408.430355\n",
       "24    417.879914\n",
       "25    419.538067\n",
       "26    450.196220\n",
       "27    446.104373\n",
       "28    447.887527\n",
       "29    477.670680\n",
       "30    506.203833\n",
       "31    506.236987\n",
       "32    479.770140\n",
       "33    453.428293\n",
       "34    430.461446\n",
       "35    457.869600\n",
       "36    467.593490\n",
       "37    469.525974\n",
       "38    500.458459\n",
       "39    496.640944\n",
       "40    498.698428\n",
       "41    528.755913\n",
       "42    557.563397\n",
       "43    557.870882\n",
       "44    531.678366\n",
       "45    505.610851\n",
       "46    482.918335\n",
       "47    510.600820\n",
       "48    520.599041\n",
       "49    522.805857\n",
       "50    554.012673\n",
       "51    550.469489\n",
       "52    552.801305\n",
       "53    583.133120\n",
       "54    612.214936\n",
       "55    612.796752\n",
       "56    586.878568\n",
       "57    561.085384\n",
       "58    538.667200\n",
       "59    566.624015\n",
       "Name: forecasted_Passengers, dtype: float64"
      ]
     },
     "execution_count": 28,
     "metadata": {},
     "output_type": "execute_result"
    }
   ],
   "source": [
    "pred_df['forecasted_Passengers']"
   ]
  },
  {
   "cell_type": "code",
   "execution_count": 29,
   "id": "722a6e03",
   "metadata": {},
   "outputs": [],
   "source": [
    "# Calculating Residuals from best model applied on full data\n",
    "\n",
    "full_res = df.Passengers - model_full.predict(df)"
   ]
  },
  {
   "cell_type": "code",
   "execution_count": 30,
   "id": "dbfe9cb1",
   "metadata": {},
   "outputs": [
    {
     "data": {
      "image/png": "[encoded data removed]",
      "text/plain": [
       "<Figure size 432x288 with 1 Axes>"
      ]
     },
     "execution_count": 30,
     "metadata": {},
     "output_type": "execute_result"
    },
    {
     "data": {
      "image/png": "[encoded data removed]",
      "text/plain": [
       "<Figure size 432x288 with 1 Axes>"
      ]
     },
     "metadata": {
      "needs_background": "light"
     },
     "output_type": "display_data"
    }
   ],
   "source": [
    "# ACF plot on residuals\n",
    "\n",
    "import statsmodels.graphics.tsaplots as tsa_plots\n",
    "\n",
    "AC_plot = tsa_plots.plot_acf(full_res, lags = 12)\n",
    "AC_plot"
   ]
  },
  {
   "cell_type": "code",
   "execution_count": 31,
   "id": "1c351f54",
   "metadata": {},
   "outputs": [
    {
     "name": "stdout",
     "output_type": "stream",
     "text": [
      "Coefficients: const   -0.208924\n",
      "y.L1     0.718698\n",
      "dtype: float64\n"
     ]
    }
   ],
   "source": [
    "# AR model\n",
    "from statsmodels.tsa.ar_model import AutoReg\n",
    "\n",
    "model_ar = AutoReg(full_res, lags=[1])\n",
    "\n",
    "model_fit = model_ar.fit()\n",
    "\n",
    "print('Coefficients: %s' % model_fit.params)"
   ]
  },
  {
   "cell_type": "code",
   "execution_count": 32,
   "id": "1bb40317",
   "metadata": {},
   "outputs": [],
   "source": [
    "# predicting errors \n",
    "pred_res = model_fit.predict(start= len(full_res), end= len(full_res) + len(pred_df)-1, dynamic = False)\n",
    "pred_res.reset_index(drop=True, inplace=True)"
   ]
  },
  {
   "cell_type": "code",
   "execution_count": 33,
   "id": "a6afccd1",
   "metadata": {
    "scrolled": false
   },
   "outputs": [
    {
     "data": {
      "text/plain": [
       "0     318.469234\n",
       "1     322.143283\n",
       "2     354.095917\n",
       "3     350.780072\n",
       "4     352.966596\n",
       "5     382.885311\n",
       "6     411.361553\n",
       "7     411.199465\n",
       "8     384.437958\n",
       "9     357.730000\n",
       "10    334.345690\n",
       "11    361.299474\n",
       "12    370.542469\n",
       "13    371.974996\n",
       "14    402.393822\n",
       "15    398.052802\n",
       "16    399.579704\n",
       "17    429.101521\n",
       "18    457.369682\n",
       "19    457.135216\n",
       "20    430.398861\n",
       "21    403.786150\n",
       "22    380.547464\n",
       "23    407.683077\n",
       "24    417.133923\n",
       "25    418.793001\n",
       "26    449.451819\n",
       "27    445.360450\n",
       "28    447.143947\n",
       "29    476.927347\n",
       "30    505.460678\n",
       "31    505.493958\n",
       "32    479.027203\n",
       "33    452.685422\n",
       "34    429.718623\n",
       "35    457.126810\n",
       "36    466.850725\n",
       "37    468.783227\n",
       "38    499.715724\n",
       "39    495.898218\n",
       "40    497.955709\n",
       "41    528.013198\n",
       "42    556.820686\n",
       "43    557.128173\n",
       "44    530.935659\n",
       "45    504.868145\n",
       "46    482.175630\n",
       "47    509.858116\n",
       "48    519.856338\n",
       "49    522.063154\n",
       "50    553.269970\n",
       "51    549.726786\n",
       "52    552.058602\n",
       "53    582.390418\n",
       "54    611.472234\n",
       "55    612.054049\n",
       "56    586.135865\n",
       "57    560.342681\n",
       "58    537.924497\n",
       "59    565.881313\n",
       "dtype: float64"
      ]
     },
     "execution_count": 33,
     "metadata": {},
     "output_type": "execute_result"
    }
   ],
   "source": [
    "# The Final Predictions using ASQT and AR Model\n",
    "\n",
    "final_pred = pred_new + pred_res\n",
    "final_pred"
   ]
  },
  {
   "cell_type": "markdown",
   "id": "87e4765a",
   "metadata": {},
   "source": [
    "    These are the final predicted values for the next 5 years"
   ]
  }
 ],
 "metadata": {
  "kernelspec": {
   "display_name": "Python 3 (ipykernel)",
   "language": "python",
   "name": "python3"
  },
  "language_info": {
   "codemirror_mode": {
    "name": "ipython",
    "version": 3
   },
   "file_extension": ".py",
   "mimetype": "text/x-python",
   "name": "python",
   "nbconvert_exporter": "python",
   "pygments_lexer": "ipython3",
   "version": "3.9.12"
  }
 },
 "nbformat": 4,
 "nbformat_minor": 5
}
