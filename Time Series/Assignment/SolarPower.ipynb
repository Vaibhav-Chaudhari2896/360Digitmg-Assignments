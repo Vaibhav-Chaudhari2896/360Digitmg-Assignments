{
 "cells": [
  {
   "cell_type": "markdown",
   "id": "267b82a7",
   "metadata": {},
   "source": [
    "4. Solar power consumption has been recorded by city councils at regular intervals. The reason behind doing so is to understand how businesses are using solar power so that they can cut down on nonrenewable sources of energy and shift towards renewable energy. Based on the data, build a forecasting model and provide insights on it. "
   ]
  },
  {
   "cell_type": "code",
   "execution_count": 1,
   "id": "13b78e87",
   "metadata": {},
   "outputs": [],
   "source": [
    "# importing libraries\n",
    "import pandas as pd\n",
    "import numpy as np\n",
    "import matplotlib.pyplot as plt\n",
    "import seaborn as sns"
   ]
  },
  {
   "cell_type": "code",
   "execution_count": 2,
   "id": "874f669e",
   "metadata": {},
   "outputs": [
    {
     "data": {
      "text/html": [
       "<div>\n",
       "<style scoped>\n",
       "    .dataframe tbody tr th:only-of-type {\n",
       "        vertical-align: middle;\n",
       "    }\n",
       "\n",
       "    .dataframe tbody tr th {\n",
       "        vertical-align: top;\n",
       "    }\n",
       "\n",
       "    .dataframe thead th {\n",
       "        text-align: right;\n",
       "    }\n",
       "</style>\n",
       "<table border=\"1\" class=\"dataframe\">\n",
       "  <thead>\n",
       "    <tr style=\"text-align: right;\">\n",
       "      <th></th>\n",
       "      <th>date</th>\n",
       "      <th>cum_power</th>\n",
       "    </tr>\n",
       "  </thead>\n",
       "  <tbody>\n",
       "    <tr>\n",
       "      <th>0</th>\n",
       "      <td>26/10/2011</td>\n",
       "      <td>0.1</td>\n",
       "    </tr>\n",
       "    <tr>\n",
       "      <th>1</th>\n",
       "      <td>27/10/2011</td>\n",
       "      <td>10.2</td>\n",
       "    </tr>\n",
       "    <tr>\n",
       "      <th>2</th>\n",
       "      <td>28/10/2011</td>\n",
       "      <td>20.2</td>\n",
       "    </tr>\n",
       "    <tr>\n",
       "      <th>3</th>\n",
       "      <td>29/10/2011</td>\n",
       "      <td>29.6</td>\n",
       "    </tr>\n",
       "    <tr>\n",
       "      <th>4</th>\n",
       "      <td>30/10/2011</td>\n",
       "      <td>34.2</td>\n",
       "    </tr>\n",
       "  </tbody>\n",
       "</table>\n",
       "</div>"
      ],
      "text/plain": [
       "         date  cum_power\n",
       "0  26/10/2011        0.1\n",
       "1  27/10/2011       10.2\n",
       "2  28/10/2011       20.2\n",
       "3  29/10/2011       29.6\n",
       "4  30/10/2011       34.2"
      ]
     },
     "execution_count": 2,
     "metadata": {},
     "output_type": "execute_result"
    }
   ],
   "source": [
    "# importing dataset\n",
    "df = pd.read_csv('C:/Users/vaibh/Desktop/360 Digitmg/Time Series/Assignment/solarpower_cumuldaybyday2.csv')\n",
    "df.head()"
   ]
  },
  {
   "cell_type": "code",
   "execution_count": 3,
   "id": "6fc89846",
   "metadata": {},
   "outputs": [
    {
     "data": {
      "text/plain": [
       "(2558, 2)"
      ]
     },
     "execution_count": 3,
     "metadata": {},
     "output_type": "execute_result"
    }
   ],
   "source": [
    "df.shape"
   ]
  },
  {
   "cell_type": "code",
   "execution_count": 4,
   "id": "87700cbc",
   "metadata": {},
   "outputs": [
    {
     "data": {
      "text/html": [
       "<div>\n",
       "<style scoped>\n",
       "    .dataframe tbody tr th:only-of-type {\n",
       "        vertical-align: middle;\n",
       "    }\n",
       "\n",
       "    .dataframe tbody tr th {\n",
       "        vertical-align: top;\n",
       "    }\n",
       "\n",
       "    .dataframe thead th {\n",
       "        text-align: right;\n",
       "    }\n",
       "</style>\n",
       "<table border=\"1\" class=\"dataframe\">\n",
       "  <thead>\n",
       "    <tr style=\"text-align: right;\">\n",
       "      <th></th>\n",
       "      <th>count</th>\n",
       "      <th>mean</th>\n",
       "      <th>std</th>\n",
       "      <th>min</th>\n",
       "      <th>25%</th>\n",
       "      <th>50%</th>\n",
       "      <th>75%</th>\n",
       "      <th>max</th>\n",
       "    </tr>\n",
       "  </thead>\n",
       "  <tbody>\n",
       "    <tr>\n",
       "      <th>cum_power</th>\n",
       "      <td>2558.0</td>\n",
       "      <td>13461.057349</td>\n",
       "      <td>8129.192104</td>\n",
       "      <td>0.1</td>\n",
       "      <td>6665.35</td>\n",
       "      <td>13000.5</td>\n",
       "      <td>20183.75</td>\n",
       "      <td>28120.0</td>\n",
       "    </tr>\n",
       "  </tbody>\n",
       "</table>\n",
       "</div>"
      ],
      "text/plain": [
       "            count          mean          std  min      25%      50%       75%  \\\n",
       "cum_power  2558.0  13461.057349  8129.192104  0.1  6665.35  13000.5  20183.75   \n",
       "\n",
       "               max  \n",
       "cum_power  28120.0  "
      ]
     },
     "execution_count": 4,
     "metadata": {},
     "output_type": "execute_result"
    }
   ],
   "source": [
    "# Descriptive statistics\n",
    "df.describe().T"
   ]
  },
  {
   "cell_type": "code",
   "execution_count": 5,
   "id": "9cd37829",
   "metadata": {},
   "outputs": [
    {
     "name": "stdout",
     "output_type": "stream",
     "text": [
      "<class 'pandas.core.frame.DataFrame'>\n",
      "RangeIndex: 2558 entries, 0 to 2557\n",
      "Data columns (total 2 columns):\n",
      " #   Column     Non-Null Count  Dtype  \n",
      "---  ------     --------------  -----  \n",
      " 0   date       2558 non-null   object \n",
      " 1   cum_power  2558 non-null   float64\n",
      "dtypes: float64(1), object(1)\n",
      "memory usage: 40.1+ KB\n"
     ]
    }
   ],
   "source": [
    "# Datatypes of the feature\n",
    "df.info()"
   ]
  },
  {
   "cell_type": "code",
   "execution_count": 6,
   "id": "cb38d5c0",
   "metadata": {},
   "outputs": [
    {
     "data": {
      "text/plain": [
       "date         0\n",
       "cum_power    0\n",
       "dtype: int64"
      ]
     },
     "execution_count": 6,
     "metadata": {},
     "output_type": "execute_result"
    }
   ],
   "source": [
    "# checking for null values\n",
    "df.isnull().sum()"
   ]
  },
  {
   "cell_type": "code",
   "execution_count": 7,
   "id": "4855b40b",
   "metadata": {},
   "outputs": [
    {
     "data": {
      "text/plain": [
       "0"
      ]
     },
     "execution_count": 7,
     "metadata": {},
     "output_type": "execute_result"
    }
   ],
   "source": [
    "# checking for duplicated values\n",
    "df.duplicated().sum()"
   ]
  },
  {
   "cell_type": "code",
   "execution_count": 8,
   "id": "ee8be893",
   "metadata": {},
   "outputs": [],
   "source": [
    "# Converting to datetime\n",
    "df.date = pd.to_datetime(df.date, format='%d/%m/%Y')"
   ]
  },
  {
   "cell_type": "markdown",
   "id": "f608a000",
   "metadata": {},
   "source": [
    "We can see the data is on a daily basis . Lets aggregate the data on a montly basis"
   ]
  },
  {
   "cell_type": "code",
   "execution_count": 9,
   "id": "ad868af7",
   "metadata": {},
   "outputs": [],
   "source": [
    "# Resampling the data on montly basis using sum \n",
    "df.set_index('date', inplace=True)\n",
    "df_new = df.resample('MS').sum()"
   ]
  },
  {
   "cell_type": "code",
   "execution_count": 10,
   "id": "3f5c03f7",
   "metadata": {},
   "outputs": [
    {
     "data": {
      "text/plain": [
       "<Figure size 720x432 with 0 Axes>"
      ]
     },
     "metadata": {},
     "output_type": "display_data"
    },
    {
     "data": {
      "image/png": "[encoded data removed]",
      "text/plain": [
       "<Figure size 432x288 with 1 Axes>"
      ]
     },
     "metadata": {
      "needs_background": "light"
     },
     "output_type": "display_data"
    }
   ],
   "source": [
    "# Line plot \n",
    "plt.figure(figsize=(10,6))\n",
    "df_new.plot()\n",
    "plt.show()"
   ]
  },
  {
   "cell_type": "markdown",
   "id": "e3c33769",
   "metadata": {},
   "source": [
    "    We can see an upward trend in the data. This shows that more and more people are opting for renewable solar power day by day. Seeing the trend we can roughly say the consumption will further increase in the next year."
   ]
  },
  {
   "cell_type": "code",
   "execution_count": 11,
   "id": "bc58af5d",
   "metadata": {},
   "outputs": [],
   "source": [
    "df = df_new.reset_index()"
   ]
  },
  {
   "cell_type": "code",
   "execution_count": 12,
   "id": "bd250514",
   "metadata": {},
   "outputs": [
    {
     "data": {
      "text/plain": [
       "Test Statistic                                                         -0.966272\n",
       "p-value                                                                 0.765366\n",
       "#lags Used                                                                    11\n",
       "Number of Observations Used                                                   73\n",
       "Critical Values                {'1%': -3.5232835753964475, '5%': -2.902030597...\n",
       "icbest                                                               1597.778096\n",
       "dtype: object"
      ]
     },
     "execution_count": 12,
     "metadata": {},
     "output_type": "execute_result"
    }
   ],
   "source": [
    "# Dickey-Fuller Test\n",
    "from statsmodels.tsa.stattools import adfuller\n",
    "\n",
    "dftest = adfuller(df.cum_power, autolag='AIC')\n",
    "dfoutput = pd.Series(dftest, index=['Test Statistic', 'p-value', '#lags Used',\\\n",
    "                                       'Number of Observations Used','Critical Values','icbest'])\n",
    "dfoutput"
   ]
  },
  {
   "cell_type": "markdown",
   "id": "0bd2d86c",
   "metadata": {},
   "source": [
    "p-value is greater than 0.05 meaning we accept the null hypothesis. The variable is non-stationary"
   ]
  },
  {
   "cell_type": "code",
   "execution_count": 13,
   "id": "cfc9c644",
   "metadata": {},
   "outputs": [
    {
     "data": {
      "image/png": "[encoded data removed]",
      "text/plain": [
       "<Figure size 432x288 with 1 Axes>"
      ]
     },
     "metadata": {
      "needs_background": "light"
     },
     "output_type": "display_data"
    }
   ],
   "source": [
    "# Rolling Statistics\n",
    "\n",
    "rolmean = df.cum_power.rolling(window=12).mean()\n",
    "rolvar = df.cum_power.rolling(window=12).std()\n",
    "\n",
    "plt.plot(df.cum_power, label='Original')\n",
    "plt.plot(rolmean, label='Rolling Mean')\n",
    "plt.plot(rolvar, label='Rolling Standard Variance')\n",
    "plt.legend(loc='best')\n",
    "plt.show()"
   ]
  },
  {
   "cell_type": "markdown",
   "id": "61b8a6c8",
   "metadata": {},
   "source": [
    "    We can see that the mean is not constant "
   ]
  },
  {
   "cell_type": "code",
   "execution_count": 14,
   "id": "ed02d979",
   "metadata": {},
   "outputs": [
    {
     "data": {
      "text/plain": [
       "(85, 2)"
      ]
     },
     "execution_count": 14,
     "metadata": {},
     "output_type": "execute_result"
    }
   ],
   "source": [
    "df.shape"
   ]
  },
  {
   "cell_type": "code",
   "execution_count": 15,
   "id": "163a6568",
   "metadata": {},
   "outputs": [],
   "source": [
    "# Data Partition\n",
    "Train = df.head(49)\n",
    "Test = df.tail(36)"
   ]
  },
  {
   "cell_type": "code",
   "execution_count": 16,
   "id": "c5ce7932",
   "metadata": {},
   "outputs": [
    {
     "data": {
      "text/plain": [
       "8.659404839291959"
      ]
     },
     "execution_count": 16,
     "metadata": {},
     "output_type": "execute_result"
    }
   ],
   "source": [
    "# Mean absolute Percentge Error\n",
    "MAPE = np.mean(np.abs((rolmean.tail(36) - Test.cum_power)/Test.cum_power)*100)\n",
    "MAPE"
   ]
  },
  {
   "cell_type": "code",
   "execution_count": 17,
   "id": "ce47adf5",
   "metadata": {},
   "outputs": [
    {
     "data": {
      "image/png": "[encoded data removed]",
      "text/plain": [
       "<Figure size 432x288 with 4 Axes>"
      ]
     },
     "metadata": {
      "needs_background": "light"
     },
     "output_type": "display_data"
    }
   ],
   "source": [
    "# Decomposing the data to see trend, seasonality using additive model\n",
    "from statsmodels.tsa.seasonal import seasonal_decompose\n",
    "\n",
    "decompose_ts_add = seasonal_decompose(df.cum_power, model = \"additive\", period = 12)\n",
    "\n",
    "ds_trend = (decompose_ts_add.trend)\n",
    "ds_seasonal = (decompose_ts_add.seasonal)\n",
    "ds_resid = (decompose_ts_add.resid)\n",
    "ds_obser = (decompose_ts_add.observed)\n",
    "\n",
    "decompose_ts_add.plot()\n",
    "plt.show()"
   ]
  },
  {
   "cell_type": "code",
   "execution_count": 18,
   "id": "f647a576",
   "metadata": {},
   "outputs": [
    {
     "data": {
      "image/png": "[encoded data removed]",
      "text/plain": [
       "<Figure size 432x288 with 4 Axes>"
      ]
     },
     "metadata": {
      "needs_background": "light"
     },
     "output_type": "display_data"
    }
   ],
   "source": [
    "# Decomposing the data to see trend, seasonality using multiplicative model\n",
    "decompose_ts_mul = seasonal_decompose(df.cum_power, model = \"multiplicative\", period = 12)\n",
    "decompose_ts_mul.plot()\n",
    "plt.show()"
   ]
  },
  {
   "cell_type": "code",
   "execution_count": 19,
   "id": "928c4f16",
   "metadata": {},
   "outputs": [
    {
     "name": "stderr",
     "output_type": "stream",
     "text": [
      "E:\\ANACONDA\\lib\\site-packages\\statsmodels\\graphics\\tsaplots.py:348: FutureWarning: The default method 'yw' can produce PACF values outside of the [-1,1] interval. After 0.13, the default will change tounadjusted Yule-Walker ('ywm'). You can use this method now by setting method='ywm'.\n",
      "  warnings.warn(\n"
     ]
    },
    {
     "data": {
      "image/png": "[encoded data removed]",
      "text/plain": [
       "<Figure size 432x288 with 1 Axes>"
      ]
     },
     "metadata": {
      "needs_background": "light"
     },
     "output_type": "display_data"
    },
    {
     "data": {
      "image/png": "[encoded data removed]",
      "text/plain": [
       "<Figure size 432x288 with 1 Axes>"
      ]
     },
     "metadata": {
      "needs_background": "light"
     },
     "output_type": "display_data"
    }
   ],
   "source": [
    "# ACF and PACF plot on Original data sets \n",
    "\n",
    "import statsmodels.graphics.tsaplots as tsa_plots\n",
    "\n",
    "tsa_plots.plot_acf(df.cum_power, lags = 12)\n",
    "tsa_plots.plot_pacf(df.cum_power, lags = 12)\n",
    "plt.show()"
   ]
  },
  {
   "cell_type": "code",
   "execution_count": 20,
   "id": "c07e0694",
   "metadata": {},
   "outputs": [
    {
     "name": "stderr",
     "output_type": "stream",
     "text": [
      "E:\\ANACONDA\\lib\\site-packages\\statsmodels\\tsa\\holtwinters\\model.py:915: ConvergenceWarning: Optimization failed to converge. Check mle_retvals.\n",
      "  warnings.warn(\n"
     ]
    },
    {
     "data": {
      "text/plain": [
       "22.778417159903093"
      ]
     },
     "execution_count": 20,
     "metadata": {},
     "output_type": "execute_result"
    }
   ],
   "source": [
    "# Simple Exponential Method\n",
    "from statsmodels.tsa.holtwinters import SimpleExpSmoothing \n",
    "\n",
    "ses_model = SimpleExpSmoothing(Train.cum_power).fit()\n",
    "pred_ses = ses_model.predict(start = Test.index[0], end = Test.index[-1])\n",
    "MAPE_ses = np.mean(np.abs((pred_ses - Test.cum_power)/Test.cum_power)*100)\n",
    "MAPE_ses "
   ]
  },
  {
   "cell_type": "code",
   "execution_count": 21,
   "id": "0ca9bd2b",
   "metadata": {},
   "outputs": [
    {
     "name": "stderr",
     "output_type": "stream",
     "text": [
      "E:\\ANACONDA\\lib\\site-packages\\statsmodels\\tsa\\holtwinters\\model.py:915: ConvergenceWarning: Optimization failed to converge. Check mle_retvals.\n",
      "  warnings.warn(\n"
     ]
    },
    {
     "data": {
      "text/plain": [
       "9.218174382508785"
      ]
     },
     "execution_count": 21,
     "metadata": {},
     "output_type": "execute_result"
    }
   ],
   "source": [
    "# Holt Method\n",
    "from statsmodels.tsa.holtwinters import Holt\n",
    "\n",
    "holt_model = Holt(Train.cum_power).fit()\n",
    "pred_holt = holt_model.predict(start = Test.index[0], end = Test.index[-1])\n",
    "MAPE_holt = np.mean(np.abs((pred_holt - Test.cum_power) / Test.cum_power)*100)\n",
    "MAPE_holt "
   ]
  },
  {
   "cell_type": "code",
   "execution_count": 22,
   "id": "5c650203",
   "metadata": {},
   "outputs": [
    {
     "name": "stderr",
     "output_type": "stream",
     "text": [
      "E:\\ANACONDA\\lib\\site-packages\\statsmodels\\tsa\\holtwinters\\model.py:915: ConvergenceWarning: Optimization failed to converge. Check mle_retvals.\n",
      "  warnings.warn(\n"
     ]
    },
    {
     "data": {
      "text/plain": [
       "1.8948228553432966"
      ]
     },
     "execution_count": 22,
     "metadata": {},
     "output_type": "execute_result"
    }
   ],
   "source": [
    "# Holts winter exponential smoothing with additive seasonality and additive trend\n",
    "from statsmodels.tsa.holtwinters import ExponentialSmoothing \n",
    "\n",
    "hwe_model_add_add = ExponentialSmoothing(Train.cum_power, seasonal = \"add\", trend = \"add\", seasonal_periods = 12).fit()\n",
    "pred_hwe_add_add = hwe_model_add_add.predict(start = Test.index[0], end = Test.index[-1])\n",
    "MAPE_hwe_add_add = np.mean(np.abs((pred_hwe_add_add - Test.cum_power) / Test.cum_power)*100)\n",
    "MAPE_hwe_add_add"
   ]
  },
  {
   "cell_type": "code",
   "execution_count": 23,
   "id": "183079b5",
   "metadata": {},
   "outputs": [
    {
     "name": "stderr",
     "output_type": "stream",
     "text": [
      "E:\\ANACONDA\\lib\\site-packages\\statsmodels\\tsa\\holtwinters\\model.py:915: ConvergenceWarning: Optimization failed to converge. Check mle_retvals.\n",
      "  warnings.warn(\n"
     ]
    },
    {
     "data": {
      "text/plain": [
       "5.83300167655978"
      ]
     },
     "execution_count": 23,
     "metadata": {},
     "output_type": "execute_result"
    }
   ],
   "source": [
    "# Holts winter exponential smoothing with multiplicative seasonality and additive trend\n",
    "\n",
    "hwe_model_mul_add = ExponentialSmoothing(Train.cum_power, seasonal = \"mul\", trend = \"add\", seasonal_periods = 12).fit()\n",
    "pred_hwe_mul_add = hwe_model_mul_add.predict(start = Test.index[0], end = Test.index[-1])\n",
    "MAPE_hwe_mul_add = np.mean(np.abs((pred_hwe_mul_add - Test.cum_power) / Test.cum_power)*100)\n",
    "MAPE_hwe_mul_add"
   ]
  },
  {
   "cell_type": "code",
   "execution_count": 24,
   "id": "cc4acd63",
   "metadata": {},
   "outputs": [
    {
     "name": "stderr",
     "output_type": "stream",
     "text": [
      "E:\\ANACONDA\\lib\\site-packages\\statsmodels\\tsa\\holtwinters\\model.py:915: ConvergenceWarning: Optimization failed to converge. Check mle_retvals.\n",
      "  warnings.warn(\n"
     ]
    }
   ],
   "source": [
    "# Final Model on 100% Data\n",
    "hwe_fmodel_add_add = ExponentialSmoothing(df.cum_power, seasonal = \"add\", trend = \"add\", seasonal_periods = 12).fit()"
   ]
  },
  {
   "cell_type": "code",
   "execution_count": 25,
   "id": "4da1cc22",
   "metadata": {},
   "outputs": [
    {
     "data": {
      "text/html": [
       "<div>\n",
       "<style scoped>\n",
       "    .dataframe tbody tr th:only-of-type {\n",
       "        vertical-align: middle;\n",
       "    }\n",
       "\n",
       "    .dataframe tbody tr th {\n",
       "        vertical-align: top;\n",
       "    }\n",
       "\n",
       "    .dataframe thead th {\n",
       "        text-align: right;\n",
       "    }\n",
       "</style>\n",
       "<table border=\"1\" class=\"dataframe\">\n",
       "  <thead>\n",
       "    <tr style=\"text-align: right;\">\n",
       "      <th></th>\n",
       "      <th>date</th>\n",
       "      <th>cum_power</th>\n",
       "    </tr>\n",
       "  </thead>\n",
       "  <tbody>\n",
       "    <tr>\n",
       "      <th>80</th>\n",
       "      <td>2018-06-01</td>\n",
       "      <td>778779.0</td>\n",
       "    </tr>\n",
       "    <tr>\n",
       "      <th>81</th>\n",
       "      <td>2018-07-01</td>\n",
       "      <td>825390.0</td>\n",
       "    </tr>\n",
       "    <tr>\n",
       "      <th>82</th>\n",
       "      <td>2018-08-01</td>\n",
       "      <td>844605.0</td>\n",
       "    </tr>\n",
       "    <tr>\n",
       "      <th>83</th>\n",
       "      <td>2018-09-01</td>\n",
       "      <td>830763.0</td>\n",
       "    </tr>\n",
       "    <tr>\n",
       "      <th>84</th>\n",
       "      <td>2018-10-01</td>\n",
       "      <td>728630.0</td>\n",
       "    </tr>\n",
       "  </tbody>\n",
       "</table>\n",
       "</div>"
      ],
      "text/plain": [
       "         date  cum_power\n",
       "80 2018-06-01   778779.0\n",
       "81 2018-07-01   825390.0\n",
       "82 2018-08-01   844605.0\n",
       "83 2018-09-01   830763.0\n",
       "84 2018-10-01   728630.0"
      ]
     },
     "execution_count": 25,
     "metadata": {},
     "output_type": "execute_result"
    }
   ],
   "source": [
    "df.tail()"
   ]
  },
  {
   "cell_type": "code",
   "execution_count": 26,
   "id": "551113a4",
   "metadata": {},
   "outputs": [
    {
     "data": {
      "text/html": [
       "<div>\n",
       "<style scoped>\n",
       "    .dataframe tbody tr th:only-of-type {\n",
       "        vertical-align: middle;\n",
       "    }\n",
       "\n",
       "    .dataframe tbody tr th {\n",
       "        vertical-align: top;\n",
       "    }\n",
       "\n",
       "    .dataframe thead th {\n",
       "        text-align: right;\n",
       "    }\n",
       "</style>\n",
       "<table border=\"1\" class=\"dataframe\">\n",
       "  <thead>\n",
       "    <tr style=\"text-align: right;\">\n",
       "      <th></th>\n",
       "      <th>date</th>\n",
       "    </tr>\n",
       "  </thead>\n",
       "  <tbody>\n",
       "    <tr>\n",
       "      <th>85</th>\n",
       "      <td>2018-11-01</td>\n",
       "    </tr>\n",
       "    <tr>\n",
       "      <th>86</th>\n",
       "      <td>2018-12-01</td>\n",
       "    </tr>\n",
       "    <tr>\n",
       "      <th>87</th>\n",
       "      <td>2019-01-01</td>\n",
       "    </tr>\n",
       "    <tr>\n",
       "      <th>88</th>\n",
       "      <td>2019-02-01</td>\n",
       "    </tr>\n",
       "    <tr>\n",
       "      <th>89</th>\n",
       "      <td>2019-03-01</td>\n",
       "    </tr>\n",
       "    <tr>\n",
       "      <th>90</th>\n",
       "      <td>2019-04-01</td>\n",
       "    </tr>\n",
       "    <tr>\n",
       "      <th>91</th>\n",
       "      <td>2019-05-01</td>\n",
       "    </tr>\n",
       "    <tr>\n",
       "      <th>92</th>\n",
       "      <td>2019-06-01</td>\n",
       "    </tr>\n",
       "    <tr>\n",
       "      <th>93</th>\n",
       "      <td>2019-07-01</td>\n",
       "    </tr>\n",
       "    <tr>\n",
       "      <th>94</th>\n",
       "      <td>2019-08-01</td>\n",
       "    </tr>\n",
       "    <tr>\n",
       "      <th>95</th>\n",
       "      <td>2019-09-01</td>\n",
       "    </tr>\n",
       "    <tr>\n",
       "      <th>96</th>\n",
       "      <td>2019-10-01</td>\n",
       "    </tr>\n",
       "    <tr>\n",
       "      <th>97</th>\n",
       "      <td>2019-11-01</td>\n",
       "    </tr>\n",
       "    <tr>\n",
       "      <th>98</th>\n",
       "      <td>2019-12-01</td>\n",
       "    </tr>\n",
       "    <tr>\n",
       "      <th>99</th>\n",
       "      <td>2020-01-01</td>\n",
       "    </tr>\n",
       "    <tr>\n",
       "      <th>100</th>\n",
       "      <td>2020-02-01</td>\n",
       "    </tr>\n",
       "    <tr>\n",
       "      <th>101</th>\n",
       "      <td>2020-03-01</td>\n",
       "    </tr>\n",
       "    <tr>\n",
       "      <th>102</th>\n",
       "      <td>2020-04-01</td>\n",
       "    </tr>\n",
       "    <tr>\n",
       "      <th>103</th>\n",
       "      <td>2020-05-01</td>\n",
       "    </tr>\n",
       "    <tr>\n",
       "      <th>104</th>\n",
       "      <td>2020-06-01</td>\n",
       "    </tr>\n",
       "    <tr>\n",
       "      <th>105</th>\n",
       "      <td>2020-07-01</td>\n",
       "    </tr>\n",
       "    <tr>\n",
       "      <th>106</th>\n",
       "      <td>2020-08-01</td>\n",
       "    </tr>\n",
       "    <tr>\n",
       "      <th>107</th>\n",
       "      <td>2020-09-01</td>\n",
       "    </tr>\n",
       "    <tr>\n",
       "      <th>108</th>\n",
       "      <td>2020-10-01</td>\n",
       "    </tr>\n",
       "    <tr>\n",
       "      <th>109</th>\n",
       "      <td>2020-11-01</td>\n",
       "    </tr>\n",
       "    <tr>\n",
       "      <th>110</th>\n",
       "      <td>2020-12-01</td>\n",
       "    </tr>\n",
       "    <tr>\n",
       "      <th>111</th>\n",
       "      <td>2021-01-01</td>\n",
       "    </tr>\n",
       "    <tr>\n",
       "      <th>112</th>\n",
       "      <td>2021-02-01</td>\n",
       "    </tr>\n",
       "    <tr>\n",
       "      <th>113</th>\n",
       "      <td>2021-03-01</td>\n",
       "    </tr>\n",
       "    <tr>\n",
       "      <th>114</th>\n",
       "      <td>2021-04-01</td>\n",
       "    </tr>\n",
       "    <tr>\n",
       "      <th>115</th>\n",
       "      <td>2021-05-01</td>\n",
       "    </tr>\n",
       "    <tr>\n",
       "      <th>116</th>\n",
       "      <td>2021-06-01</td>\n",
       "    </tr>\n",
       "    <tr>\n",
       "      <th>117</th>\n",
       "      <td>2021-07-01</td>\n",
       "    </tr>\n",
       "    <tr>\n",
       "      <th>118</th>\n",
       "      <td>2021-08-01</td>\n",
       "    </tr>\n",
       "    <tr>\n",
       "      <th>119</th>\n",
       "      <td>2021-09-01</td>\n",
       "    </tr>\n",
       "    <tr>\n",
       "      <th>120</th>\n",
       "      <td>2021-10-01</td>\n",
       "    </tr>\n",
       "  </tbody>\n",
       "</table>\n",
       "</div>"
      ],
      "text/plain": [
       "          date\n",
       "85  2018-11-01\n",
       "86  2018-12-01\n",
       "87  2019-01-01\n",
       "88  2019-02-01\n",
       "89  2019-03-01\n",
       "90  2019-04-01\n",
       "91  2019-05-01\n",
       "92  2019-06-01\n",
       "93  2019-07-01\n",
       "94  2019-08-01\n",
       "95  2019-09-01\n",
       "96  2019-10-01\n",
       "97  2019-11-01\n",
       "98  2019-12-01\n",
       "99  2020-01-01\n",
       "100 2020-02-01\n",
       "101 2020-03-01\n",
       "102 2020-04-01\n",
       "103 2020-05-01\n",
       "104 2020-06-01\n",
       "105 2020-07-01\n",
       "106 2020-08-01\n",
       "107 2020-09-01\n",
       "108 2020-10-01\n",
       "109 2020-11-01\n",
       "110 2020-12-01\n",
       "111 2021-01-01\n",
       "112 2021-02-01\n",
       "113 2021-03-01\n",
       "114 2021-04-01\n",
       "115 2021-05-01\n",
       "116 2021-06-01\n",
       "117 2021-07-01\n",
       "118 2021-08-01\n",
       "119 2021-09-01\n",
       "120 2021-10-01"
      ]
     },
     "execution_count": 26,
     "metadata": {},
     "output_type": "execute_result"
    }
   ],
   "source": [
    "# Predicting for next 1 year\n",
    "\n",
    "Pred_Table = pd.DataFrame(data= pd.date_range(start='2018-11-01', periods=36, freq='MS') , index=range(85,121), columns=['date'])\n",
    "Pred_Table"
   ]
  },
  {
   "cell_type": "code",
   "execution_count": 27,
   "id": "7f5bc6d8",
   "metadata": {},
   "outputs": [
    {
     "data": {
      "text/plain": [
       "85     7.843956e+05\n",
       "86     8.023925e+05\n",
       "87     8.031513e+05\n",
       "88     7.650722e+05\n",
       "89     8.196134e+05\n",
       "90     8.139638e+05\n",
       "91     8.459923e+05\n",
       "92     8.459402e+05\n",
       "93     8.811391e+05\n",
       "94     8.958042e+05\n",
       "95     8.904391e+05\n",
       "96     9.132596e+05\n",
       "97     9.010302e+05\n",
       "98     9.190271e+05\n",
       "99     9.197858e+05\n",
       "100    8.817068e+05\n",
       "101    9.362480e+05\n",
       "102    9.305984e+05\n",
       "103    9.626268e+05\n",
       "104    9.625747e+05\n",
       "105    9.977736e+05\n",
       "106    1.012439e+06\n",
       "107    1.007074e+06\n",
       "108    1.029894e+06\n",
       "109    1.017665e+06\n",
       "110    1.035662e+06\n",
       "111    1.036420e+06\n",
       "112    9.983413e+05\n",
       "113    1.052883e+06\n",
       "114    1.047233e+06\n",
       "115    1.079261e+06\n",
       "116    1.079209e+06\n",
       "117    1.114408e+06\n",
       "118    1.129073e+06\n",
       "119    1.123708e+06\n",
       "120    1.146529e+06\n",
       "Name: cum_power, dtype: float64"
      ]
     },
     "execution_count": 27,
     "metadata": {},
     "output_type": "execute_result"
    }
   ],
   "source": [
    "Pred_Table['cum_power'] = hwe_fmodel_add_add.predict(start = Pred_Table.index[0], end = Pred_Table.index[-1])\n",
    "Pred_Table.cum_power"
   ]
  },
  {
   "cell_type": "code",
   "execution_count": 28,
   "id": "6e916a15",
   "metadata": {
    "scrolled": false
   },
   "outputs": [
    {
     "data": {
      "image/png": "[encoded data removed]",
      "text/plain": [
       "<Figure size 1080x432 with 1 Axes>"
      ]
     },
     "metadata": {
      "needs_background": "light"
     },
     "output_type": "display_data"
    }
   ],
   "source": [
    "# Plotting forecasted and original data\n",
    "plt.figure(figsize=(15,6))\n",
    "sns.lineplot(y = df.cum_power, x = df.date, label = 'original data')\n",
    "sns.lineplot(y = Pred_Table.cum_power, x = Pred_Table.date, label = 'forecasted data')\n",
    "plt.xticks(rotation = 60)\n",
    "plt.legend(loc='best')\n",
    "plt.grid('on')\n",
    "plt.show()"
   ]
  },
  {
   "cell_type": "markdown",
   "id": "c089f958",
   "metadata": {},
   "source": [
    "# ARIMA MODEL"
   ]
  },
  {
   "cell_type": "code",
   "execution_count": 29,
   "id": "c2ddf298",
   "metadata": {},
   "outputs": [
    {
     "name": "stdout",
     "output_type": "stream",
     "text": [
      "Performing stepwise search to minimize aic\n",
      " ARIMA(0,1,0)(0,0,0)[0] intercept   : AIC=1054.140, Time=0.03 sec\n",
      " ARIMA(1,1,0)(0,0,0)[0] intercept   : AIC=1051.749, Time=0.02 sec\n",
      " ARIMA(0,1,1)(0,0,0)[0] intercept   : AIC=1054.909, Time=0.03 sec\n",
      " ARIMA(0,1,0)(0,0,0)[0]             : AIC=1073.678, Time=0.02 sec\n",
      " ARIMA(2,1,0)(0,0,0)[0] intercept   : AIC=1051.045, Time=0.05 sec\n",
      " ARIMA(3,1,0)(0,0,0)[0] intercept   : AIC=1051.680, Time=0.03 sec\n",
      " ARIMA(2,1,1)(0,0,0)[0] intercept   : AIC=1052.767, Time=0.05 sec\n",
      " ARIMA(1,1,1)(0,0,0)[0] intercept   : AIC=1053.485, Time=0.05 sec\n",
      " ARIMA(3,1,1)(0,0,0)[0] intercept   : AIC=1051.019, Time=0.08 sec\n",
      " ARIMA(4,1,1)(0,0,0)[0] intercept   : AIC=1044.351, Time=0.32 sec\n",
      " ARIMA(4,1,0)(0,0,0)[0] intercept   : AIC=1049.485, Time=0.04 sec\n",
      " ARIMA(5,1,1)(0,0,0)[0] intercept   : AIC=1040.813, Time=0.33 sec\n",
      " ARIMA(5,1,0)(0,0,0)[0] intercept   : AIC=1050.403, Time=0.05 sec\n",
      " ARIMA(6,1,1)(0,0,0)[0] intercept   : AIC=1024.407, Time=0.42 sec\n",
      " ARIMA(6,1,0)(0,0,0)[0] intercept   : AIC=1030.528, Time=0.14 sec\n",
      " ARIMA(7,1,1)(0,0,0)[0] intercept   : AIC=1025.358, Time=0.39 sec\n",
      " ARIMA(6,1,2)(0,0,0)[0] intercept   : AIC=1025.448, Time=0.44 sec\n",
      " ARIMA(5,1,2)(0,0,0)[0] intercept   : AIC=inf, Time=0.33 sec\n",
      " ARIMA(7,1,0)(0,0,0)[0] intercept   : AIC=1027.283, Time=0.14 sec\n",
      " ARIMA(7,1,2)(0,0,0)[0] intercept   : AIC=1022.423, Time=0.53 sec\n",
      " ARIMA(8,1,2)(0,0,0)[0] intercept   : AIC=1023.263, Time=0.50 sec\n",
      " ARIMA(7,1,3)(0,0,0)[0] intercept   : AIC=inf, Time=0.49 sec\n",
      " ARIMA(6,1,3)(0,0,0)[0] intercept   : AIC=inf, Time=0.42 sec\n",
      " ARIMA(8,1,1)(0,0,0)[0] intercept   : AIC=1025.030, Time=0.54 sec\n",
      " ARIMA(8,1,3)(0,0,0)[0] intercept   : AIC=1021.053, Time=0.59 sec\n",
      " ARIMA(9,1,3)(0,0,0)[0] intercept   : AIC=1017.599, Time=0.69 sec\n",
      " ARIMA(9,1,2)(0,0,0)[0] intercept   : AIC=1018.326, Time=0.64 sec\n",
      " ARIMA(10,1,3)(0,0,0)[0] intercept   : AIC=1026.776, Time=0.81 sec\n",
      " ARIMA(9,1,4)(0,0,0)[0] intercept   : AIC=1149.556, Time=0.80 sec\n",
      " ARIMA(8,1,4)(0,0,0)[0] intercept   : AIC=inf, Time=0.59 sec\n",
      " ARIMA(10,1,2)(0,0,0)[0] intercept   : AIC=1024.637, Time=0.67 sec\n",
      " ARIMA(10,1,4)(0,0,0)[0] intercept   : AIC=1165.742, Time=0.81 sec\n",
      " ARIMA(9,1,3)(0,0,0)[0]             : AIC=1043.669, Time=0.56 sec\n",
      "\n",
      "Best model:  ARIMA(9,1,3)(0,0,0)[0] intercept\n",
      "Total fit time: 11.730 seconds\n"
     ]
    }
   ],
   "source": [
    "# Lets use ARIMA model\n",
    "\n",
    "import pmdarima as pm                # Using pmdarima for auto arima to find optimal orders\n",
    "\n",
    "ar_model = pm.auto_arima(Train.cum_power, start_p=0, start_q=0,\n",
    "                      max_p=12, max_q=12,                \n",
    "                      m=1,                               \n",
    "                      d=None,                            \n",
    "                      seasonal=True,                    \n",
    "                      start_P=0, trace=True,\n",
    "                      error_action='warn', stepwise=True)"
   ]
  },
  {
   "cell_type": "markdown",
   "id": "98af310d",
   "metadata": {},
   "source": [
    "."
   ]
  },
  {
   "cell_type": "code",
   "execution_count": 30,
   "id": "e452a6c7",
   "metadata": {},
   "outputs": [
    {
     "name": "stdout",
     "output_type": "stream",
     "text": [
      "                               SARIMAX Results                                \n",
      "==============================================================================\n",
      "Dep. Variable:              cum_power   No. Observations:                   49\n",
      "Model:                 ARIMA(9, 1, 3)   Log Likelihood                -508.834\n",
      "Date:                Sun, 07 Aug 2022   AIC                           1043.669\n",
      "Time:                        01:16:32   BIC                           1067.995\n",
      "Sample:                             0   HQIC                          1052.862\n",
      "                                 - 49                                         \n",
      "Covariance Type:                  opg                                         \n",
      "==============================================================================\n",
      "                 coef    std err          z      P>|z|      [0.025      0.975]\n",
      "------------------------------------------------------------------------------\n",
      "ar.L1          0.0010      0.604      0.002      0.999      -1.183       1.185\n",
      "ar.L2          0.1078      0.586      0.184      0.854      -1.040       1.256\n",
      "ar.L3          0.7835      0.462      1.694      0.090      -0.123       1.690\n",
      "ar.L4          0.1376      0.423      0.325      0.745      -0.692       0.967\n",
      "ar.L5         -0.1888      0.493     -0.383      0.702      -1.155       0.777\n",
      "ar.L6         -0.6702      0.414     -1.617      0.106      -1.482       0.142\n",
      "ar.L7          0.0270      0.410      0.066      0.948      -0.776       0.830\n",
      "ar.L8          0.1098      0.340      0.323      0.747      -0.557       0.776\n",
      "ar.L9          0.6895      0.363      1.902      0.057      -0.021       1.400\n",
      "ma.L1         -0.4163      1.126     -0.370      0.712      -2.623       1.790\n",
      "ma.L2          0.3996      1.192      0.335      0.737      -1.936       2.735\n",
      "ma.L3         -0.8052      0.763     -1.055      0.291      -2.301       0.691\n",
      "sigma2      1.355e+08   4.46e-09   3.04e+16      0.000    1.35e+08    1.35e+08\n",
      "===================================================================================\n",
      "Ljung-Box (L1) (Q):                   0.80   Jarque-Bera (JB):                78.91\n",
      "Prob(Q):                              0.37   Prob(JB):                         0.00\n",
      "Heteroskedasticity (H):               3.58   Skew:                            -1.86\n",
      "Prob(H) (two-sided):                  0.01   Kurtosis:                         8.06\n",
      "===================================================================================\n",
      "\n",
      "Warnings:\n",
      "[1] Covariance matrix calculated using the outer product of gradients (complex-step).\n",
      "[2] Covariance matrix is singular or near-singular, with condition number 2.58e+33. Standard errors may be unstable.\n"
     ]
    }
   ],
   "source": [
    "# ARIMA with AR=9, I = 1, MA = 3\n",
    "from statsmodels.tsa.arima.model import ARIMA\n",
    "\n",
    "model = ARIMA(Train.cum_power, order = (9,1,3))\n",
    "res = model.fit()\n",
    "print(res.summary())"
   ]
  },
  {
   "cell_type": "code",
   "execution_count": 31,
   "id": "801e09b9",
   "metadata": {},
   "outputs": [
    {
     "data": {
      "text/plain": [
       "2.4658198447101958"
      ]
     },
     "execution_count": 31,
     "metadata": {},
     "output_type": "execute_result"
    }
   ],
   "source": [
    "# Predicting for test data\n",
    "\n",
    "test_pred = res.predict(start = Test.index[0], end = Test.index[-1])\n",
    "\n",
    "# Checking for MAPE\n",
    "MAPE_arima = np.mean(np.abs((test_pred - Test.cum_power) / Test.cum_power)*100)\n",
    "MAPE_arima"
   ]
  },
  {
   "cell_type": "code",
   "execution_count": 32,
   "id": "a8f8cdf2",
   "metadata": {},
   "outputs": [
    {
     "name": "stderr",
     "output_type": "stream",
     "text": [
      "E:\\ANACONDA\\lib\\site-packages\\statsmodels\\tsa\\statespace\\sarimax.py:966: UserWarning: Non-stationary starting autoregressive parameters found. Using zeros as starting parameters.\n",
      "  warn('Non-stationary starting autoregressive parameters'\n",
      "E:\\ANACONDA\\lib\\site-packages\\statsmodels\\base\\model.py:604: ConvergenceWarning: Maximum Likelihood optimization failed to converge. Check mle_retvals\n",
      "  warnings.warn(\"Maximum Likelihood optimization failed to \"\n"
     ]
    },
    {
     "data": {
      "text/plain": [
       "85     7.571673e+05\n",
       "86     7.416094e+05\n",
       "87     7.543765e+05\n",
       "88     7.635722e+05\n",
       "89     7.908398e+05\n",
       "90     8.709384e+05\n",
       "91     8.803529e+05\n",
       "92     8.660815e+05\n",
       "93     8.601066e+05\n",
       "94     8.766681e+05\n",
       "95     8.500675e+05\n",
       "96     8.112982e+05\n",
       "97     8.227679e+05\n",
       "98     8.589721e+05\n",
       "99     8.829005e+05\n",
       "100    8.811812e+05\n",
       "101    9.083718e+05\n",
       "102    9.482031e+05\n",
       "103    9.470360e+05\n",
       "104    9.162996e+05\n",
       "105    9.094585e+05\n",
       "106    9.283438e+05\n",
       "107    9.236225e+05\n",
       "108    9.073948e+05\n",
       "109    9.245860e+05\n",
       "110    9.676300e+05\n",
       "111    9.847983e+05\n",
       "112    9.749443e+05\n",
       "113    9.843631e+05\n",
       "114    1.008721e+06\n",
       "115    1.004936e+06\n",
       "116    9.785461e+05\n",
       "117    9.787001e+05\n",
       "118    1.005434e+06\n",
       "119    1.014518e+06\n",
       "120    1.006145e+06\n",
       "Name: ARIMA_cum_power, dtype: float64"
      ]
     },
     "execution_count": 32,
     "metadata": {},
     "output_type": "execute_result"
    }
   ],
   "source": [
    "# Fitting on 100% data\n",
    "\n",
    "f_model = ARIMA(df.cum_power, order = (9,1,3))\n",
    "f_res = f_model.fit()\n",
    "\n",
    "Pred_Table['ARIMA_cum_power'] = f_res.predict(start = Pred_Table.index[0], end = Pred_Table.index[-1])\n",
    "Pred_Table.ARIMA_cum_power"
   ]
  },
  {
   "cell_type": "code",
   "execution_count": 33,
   "id": "551741b4",
   "metadata": {},
   "outputs": [
    {
     "data": {
      "image/png": "[encoded data removed]",
      "text/plain": [
       "<Figure size 1080x432 with 1 Axes>"
      ]
     },
     "metadata": {
      "needs_background": "light"
     },
     "output_type": "display_data"
    }
   ],
   "source": [
    "# Plotting forecasted and original data using ARIMA model\n",
    "\n",
    "plt.figure(figsize=(15,6))\n",
    "sns.lineplot(y = df.cum_power, x = df.date, label = 'original data')\n",
    "sns.lineplot(y = Pred_Table.ARIMA_cum_power, x = Pred_Table.date, label = 'forecasted data using ARIMA')\n",
    "sns.lineplot(y = Pred_Table.cum_power, x = Pred_Table.date, label = 'forecasted data',color = 'g' )\n",
    "plt.xticks(rotation = 60)\n",
    "plt.legend(loc='best')\n",
    "plt.grid('on')\n",
    "plt.show()"
   ]
  },
  {
   "cell_type": "markdown",
   "id": "28d1da87",
   "metadata": {},
   "source": [
    "Using ARIMA model we get more residual error as compared to Exponential Smoothing with additive seasonality."
   ]
  }
 ],
 "metadata": {
  "kernelspec": {
   "display_name": "Python 3 (ipykernel)",
   "language": "python",
   "name": "python3"
  },
  "language_info": {
   "codemirror_mode": {
    "name": "ipython",
    "version": 3
   },
   "file_extension": ".py",
   "mimetype": "text/x-python",
   "name": "python",
   "nbconvert_exporter": "python",
   "pygments_lexer": "ipython3",
   "version": "3.9.12"
  }
 },
 "nbformat": 4,
 "nbformat_minor": 5
}
