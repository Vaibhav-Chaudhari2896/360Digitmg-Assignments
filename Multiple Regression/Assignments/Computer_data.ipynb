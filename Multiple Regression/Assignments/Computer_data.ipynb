{
 "cells": [
  {
   "cell_type": "markdown",
   "id": "4ffcc7f8",
   "metadata": {},
   "source": [
    "Q2.\tPerform multilinear regression with price as the output variable and document the different RMSE values."
   ]
  },
  {
   "cell_type": "code",
   "execution_count": 1,
   "id": "7bcb3289",
   "metadata": {},
   "outputs": [],
   "source": [
    "# Importing libraries\n",
    "\n",
    "import pandas as pd\n",
    "import numpy as np \n",
    "import matplotlib.pyplot as plt\n",
    "import seaborn as sns\n",
    "import sklearn \n",
    "import pylab\n",
    "import scipy\n",
    "import warnings\n",
    "warnings.filterwarnings(action='ignore',category=UserWarning)\n",
    "pd.set_option('display.max_columns', 500)"
   ]
  },
  {
   "cell_type": "code",
   "execution_count": 2,
   "id": "600203e4",
   "metadata": {},
   "outputs": [
    {
     "data": {
      "text/html": [
       "<div>\n",
       "<style scoped>\n",
       "    .dataframe tbody tr th:only-of-type {\n",
       "        vertical-align: middle;\n",
       "    }\n",
       "\n",
       "    .dataframe tbody tr th {\n",
       "        vertical-align: top;\n",
       "    }\n",
       "\n",
       "    .dataframe thead th {\n",
       "        text-align: right;\n",
       "    }\n",
       "</style>\n",
       "<table border=\"1\" class=\"dataframe\">\n",
       "  <thead>\n",
       "    <tr style=\"text-align: right;\">\n",
       "      <th></th>\n",
       "      <th>Unnamed: 0</th>\n",
       "      <th>price</th>\n",
       "      <th>speed</th>\n",
       "      <th>hd</th>\n",
       "      <th>ram</th>\n",
       "      <th>screen</th>\n",
       "      <th>cd</th>\n",
       "      <th>multi</th>\n",
       "      <th>premium</th>\n",
       "      <th>ads</th>\n",
       "      <th>trend</th>\n",
       "    </tr>\n",
       "  </thead>\n",
       "  <tbody>\n",
       "    <tr>\n",
       "      <th>0</th>\n",
       "      <td>1</td>\n",
       "      <td>1499</td>\n",
       "      <td>25</td>\n",
       "      <td>80</td>\n",
       "      <td>4</td>\n",
       "      <td>14</td>\n",
       "      <td>no</td>\n",
       "      <td>no</td>\n",
       "      <td>yes</td>\n",
       "      <td>94</td>\n",
       "      <td>1</td>\n",
       "    </tr>\n",
       "    <tr>\n",
       "      <th>1</th>\n",
       "      <td>2</td>\n",
       "      <td>1795</td>\n",
       "      <td>33</td>\n",
       "      <td>85</td>\n",
       "      <td>2</td>\n",
       "      <td>14</td>\n",
       "      <td>no</td>\n",
       "      <td>no</td>\n",
       "      <td>yes</td>\n",
       "      <td>94</td>\n",
       "      <td>1</td>\n",
       "    </tr>\n",
       "    <tr>\n",
       "      <th>2</th>\n",
       "      <td>3</td>\n",
       "      <td>1595</td>\n",
       "      <td>25</td>\n",
       "      <td>170</td>\n",
       "      <td>4</td>\n",
       "      <td>15</td>\n",
       "      <td>no</td>\n",
       "      <td>no</td>\n",
       "      <td>yes</td>\n",
       "      <td>94</td>\n",
       "      <td>1</td>\n",
       "    </tr>\n",
       "    <tr>\n",
       "      <th>3</th>\n",
       "      <td>4</td>\n",
       "      <td>1849</td>\n",
       "      <td>25</td>\n",
       "      <td>170</td>\n",
       "      <td>8</td>\n",
       "      <td>14</td>\n",
       "      <td>no</td>\n",
       "      <td>no</td>\n",
       "      <td>no</td>\n",
       "      <td>94</td>\n",
       "      <td>1</td>\n",
       "    </tr>\n",
       "    <tr>\n",
       "      <th>4</th>\n",
       "      <td>5</td>\n",
       "      <td>3295</td>\n",
       "      <td>33</td>\n",
       "      <td>340</td>\n",
       "      <td>16</td>\n",
       "      <td>14</td>\n",
       "      <td>no</td>\n",
       "      <td>no</td>\n",
       "      <td>yes</td>\n",
       "      <td>94</td>\n",
       "      <td>1</td>\n",
       "    </tr>\n",
       "  </tbody>\n",
       "</table>\n",
       "</div>"
      ],
      "text/plain": [
       "   Unnamed: 0  price  speed   hd  ram  screen  cd multi premium  ads  trend\n",
       "0           1   1499     25   80    4      14  no    no     yes   94      1\n",
       "1           2   1795     33   85    2      14  no    no     yes   94      1\n",
       "2           3   1595     25  170    4      15  no    no     yes   94      1\n",
       "3           4   1849     25  170    8      14  no    no      no   94      1\n",
       "4           5   3295     33  340   16      14  no    no     yes   94      1"
      ]
     },
     "execution_count": 2,
     "metadata": {},
     "output_type": "execute_result"
    }
   ],
   "source": [
    "# Importing dataset\n",
    "data = pd.read_csv('C:/Users/vaibh/Desktop/360 Digitmg/Multiple Regression\\Assignments/Computer_data.csv',encoding='latin1',)\n",
    "data.head()"
   ]
  },
  {
   "cell_type": "code",
   "execution_count": 3,
   "id": "584705d2",
   "metadata": {},
   "outputs": [],
   "source": [
    "# Dropping irrelevant feature\n",
    "data.drop(columns = ['Unnamed: 0'], inplace=True)"
   ]
  },
  {
   "cell_type": "code",
   "execution_count": 4,
   "id": "1af58256",
   "metadata": {},
   "outputs": [
    {
     "data": {
      "text/plain": [
       "(6259, 10)"
      ]
     },
     "execution_count": 4,
     "metadata": {},
     "output_type": "execute_result"
    }
   ],
   "source": [
    "# checking dimensions of the dataset\n",
    "data.shape"
   ]
  },
  {
   "cell_type": "code",
   "execution_count": 5,
   "id": "c7295189",
   "metadata": {},
   "outputs": [
    {
     "data": {
      "text/plain": [
       "price      0\n",
       "speed      0\n",
       "hd         0\n",
       "ram        0\n",
       "screen     0\n",
       "cd         0\n",
       "multi      0\n",
       "premium    0\n",
       "ads        0\n",
       "trend      0\n",
       "dtype: int64"
      ]
     },
     "execution_count": 5,
     "metadata": {},
     "output_type": "execute_result"
    }
   ],
   "source": [
    "# checking for null values\n",
    "data.isnull().sum()"
   ]
  },
  {
   "cell_type": "markdown",
   "id": "d1d86883",
   "metadata": {},
   "source": [
    "There are no null values"
   ]
  },
  {
   "cell_type": "code",
   "execution_count": 6,
   "id": "d7f4683c",
   "metadata": {},
   "outputs": [
    {
     "data": {
      "text/plain": [
       "76"
      ]
     },
     "execution_count": 6,
     "metadata": {},
     "output_type": "execute_result"
    }
   ],
   "source": [
    "# checking for duplicate value\n",
    "data.duplicated().sum()"
   ]
  },
  {
   "cell_type": "markdown",
   "id": "b4e11ae8",
   "metadata": {},
   "source": [
    "There are 78 duplicate values"
   ]
  },
  {
   "cell_type": "code",
   "execution_count": 7,
   "id": "36f3b5fb",
   "metadata": {},
   "outputs": [],
   "source": [
    "# Dropping duplicates\n",
    "data.drop_duplicates(inplace=True, keep='first',ignore_index=True)"
   ]
  },
  {
   "cell_type": "code",
   "execution_count": 8,
   "id": "c47827bd",
   "metadata": {},
   "outputs": [
    {
     "data": {
      "text/html": [
       "<div>\n",
       "<style scoped>\n",
       "    .dataframe tbody tr th:only-of-type {\n",
       "        vertical-align: middle;\n",
       "    }\n",
       "\n",
       "    .dataframe tbody tr th {\n",
       "        vertical-align: top;\n",
       "    }\n",
       "\n",
       "    .dataframe thead th {\n",
       "        text-align: right;\n",
       "    }\n",
       "</style>\n",
       "<table border=\"1\" class=\"dataframe\">\n",
       "  <thead>\n",
       "    <tr style=\"text-align: right;\">\n",
       "      <th></th>\n",
       "      <th>count</th>\n",
       "      <th>mean</th>\n",
       "      <th>std</th>\n",
       "      <th>min</th>\n",
       "      <th>25%</th>\n",
       "      <th>50%</th>\n",
       "      <th>75%</th>\n",
       "      <th>max</th>\n",
       "    </tr>\n",
       "  </thead>\n",
       "  <tbody>\n",
       "    <tr>\n",
       "      <th>price</th>\n",
       "      <td>6183.0</td>\n",
       "      <td>2221.837943</td>\n",
       "      <td>582.042129</td>\n",
       "      <td>949.0</td>\n",
       "      <td>1794.0</td>\n",
       "      <td>2145.0</td>\n",
       "      <td>2595.0</td>\n",
       "      <td>5399.0</td>\n",
       "    </tr>\n",
       "    <tr>\n",
       "      <th>speed</th>\n",
       "      <td>6183.0</td>\n",
       "      <td>52.129549</td>\n",
       "      <td>21.190655</td>\n",
       "      <td>25.0</td>\n",
       "      <td>33.0</td>\n",
       "      <td>50.0</td>\n",
       "      <td>66.0</td>\n",
       "      <td>100.0</td>\n",
       "    </tr>\n",
       "    <tr>\n",
       "      <th>hd</th>\n",
       "      <td>6183.0</td>\n",
       "      <td>417.760796</td>\n",
       "      <td>259.458342</td>\n",
       "      <td>80.0</td>\n",
       "      <td>214.0</td>\n",
       "      <td>340.0</td>\n",
       "      <td>528.0</td>\n",
       "      <td>2100.0</td>\n",
       "    </tr>\n",
       "    <tr>\n",
       "      <th>ram</th>\n",
       "      <td>6183.0</td>\n",
       "      <td>8.305353</td>\n",
       "      <td>5.649178</td>\n",
       "      <td>2.0</td>\n",
       "      <td>4.0</td>\n",
       "      <td>8.0</td>\n",
       "      <td>8.0</td>\n",
       "      <td>32.0</td>\n",
       "    </tr>\n",
       "    <tr>\n",
       "      <th>screen</th>\n",
       "      <td>6183.0</td>\n",
       "      <td>14.614265</td>\n",
       "      <td>0.907304</td>\n",
       "      <td>14.0</td>\n",
       "      <td>14.0</td>\n",
       "      <td>14.0</td>\n",
       "      <td>15.0</td>\n",
       "      <td>17.0</td>\n",
       "    </tr>\n",
       "    <tr>\n",
       "      <th>ads</th>\n",
       "      <td>6183.0</td>\n",
       "      <td>220.906033</td>\n",
       "      <td>74.958628</td>\n",
       "      <td>39.0</td>\n",
       "      <td>162.0</td>\n",
       "      <td>246.0</td>\n",
       "      <td>275.0</td>\n",
       "      <td>339.0</td>\n",
       "    </tr>\n",
       "    <tr>\n",
       "      <th>trend</th>\n",
       "      <td>6183.0</td>\n",
       "      <td>15.944364</td>\n",
       "      <td>7.903073</td>\n",
       "      <td>1.0</td>\n",
       "      <td>10.0</td>\n",
       "      <td>16.0</td>\n",
       "      <td>22.0</td>\n",
       "      <td>35.0</td>\n",
       "    </tr>\n",
       "  </tbody>\n",
       "</table>\n",
       "</div>"
      ],
      "text/plain": [
       "         count         mean         std    min     25%     50%     75%     max\n",
       "price   6183.0  2221.837943  582.042129  949.0  1794.0  2145.0  2595.0  5399.0\n",
       "speed   6183.0    52.129549   21.190655   25.0    33.0    50.0    66.0   100.0\n",
       "hd      6183.0   417.760796  259.458342   80.0   214.0   340.0   528.0  2100.0\n",
       "ram     6183.0     8.305353    5.649178    2.0     4.0     8.0     8.0    32.0\n",
       "screen  6183.0    14.614265    0.907304   14.0    14.0    14.0    15.0    17.0\n",
       "ads     6183.0   220.906033   74.958628   39.0   162.0   246.0   275.0   339.0\n",
       "trend   6183.0    15.944364    7.903073    1.0    10.0    16.0    22.0    35.0"
      ]
     },
     "execution_count": 8,
     "metadata": {},
     "output_type": "execute_result"
    }
   ],
   "source": [
    "# Descriptive statistics of the dataset\n",
    "data.describe().T"
   ]
  },
  {
   "cell_type": "code",
   "execution_count": 9,
   "id": "42e71822",
   "metadata": {},
   "outputs": [
    {
     "name": "stdout",
     "output_type": "stream",
     "text": [
      "<class 'pandas.core.frame.DataFrame'>\n",
      "RangeIndex: 6183 entries, 0 to 6182\n",
      "Data columns (total 10 columns):\n",
      " #   Column   Non-Null Count  Dtype \n",
      "---  ------   --------------  ----- \n",
      " 0   price    6183 non-null   int64 \n",
      " 1   speed    6183 non-null   int64 \n",
      " 2   hd       6183 non-null   int64 \n",
      " 3   ram      6183 non-null   int64 \n",
      " 4   screen   6183 non-null   int64 \n",
      " 5   cd       6183 non-null   object\n",
      " 6   multi    6183 non-null   object\n",
      " 7   premium  6183 non-null   object\n",
      " 8   ads      6183 non-null   int64 \n",
      " 9   trend    6183 non-null   int64 \n",
      "dtypes: int64(7), object(3)\n",
      "memory usage: 483.2+ KB\n"
     ]
    }
   ],
   "source": [
    "# Info of the dataset\n",
    "data.info()"
   ]
  },
  {
   "cell_type": "code",
   "execution_count": 10,
   "id": "cef961ca",
   "metadata": {},
   "outputs": [
    {
     "data": {
      "text/plain": [
       "Index(['price', 'speed', 'hd', 'ram', 'screen', 'cd', 'multi', 'premium',\n",
       "       'ads', 'trend'],\n",
       "      dtype='object')"
      ]
     },
     "execution_count": 10,
     "metadata": {},
     "output_type": "execute_result"
    }
   ],
   "source": [
    "# Checking for columns in the dataset\n",
    "data.columns"
   ]
  },
  {
   "cell_type": "code",
   "execution_count": 11,
   "id": "4a7393fd",
   "metadata": {
    "scrolled": true
   },
   "outputs": [
    {
     "data": {
      "image/png": "[encoded data removed]",
      "text/plain": [
       "<Figure size 432x288 with 3 Axes>"
      ]
     },
     "metadata": {
      "needs_background": "light"
     },
     "output_type": "display_data"
    }
   ],
   "source": [
    "# Countplot for features\n",
    "plt.subplots(1,3)\n",
    "sns.countplot(x = data.cd); plt.subplot(1,3,1);\n",
    "sns.countplot(x = data.multi); plt.subplot(1,3,2);\n",
    "sns.countplot(x = data.premium); plt.subplot(1,3,3);\n",
    "plt.tight_layout(w_pad=0.5,h_pad=0.5,pad=1)"
   ]
  },
  {
   "cell_type": "markdown",
   "id": "c73d2f88",
   "metadata": {},
   "source": [
    "Multi and cd features have more number of no. Premium features have more number of yes "
   ]
  },
  {
   "cell_type": "code",
   "execution_count": 12,
   "id": "212fdd27",
   "metadata": {
    "scrolled": false
   },
   "outputs": [
    {
     "data": {
      "image/png": "[encoded data removed]",
      "text/plain": [
       "<Figure size 432x288 with 1 Axes>"
      ]
     },
     "metadata": {
      "needs_background": "light"
     },
     "output_type": "display_data"
    }
   ],
   "source": [
    "# Plotting histogram to check distribution of the price\n",
    "\n",
    "sns.histplot(data.price,kde=1);\n",
    "plt.show()"
   ]
  },
  {
   "cell_type": "markdown",
   "id": "d2d3ef0e",
   "metadata": {},
   "source": [
    "The Price feature data is right skewed"
   ]
  },
  {
   "cell_type": "code",
   "execution_count": 13,
   "id": "fb2cfadf",
   "metadata": {
    "scrolled": false
   },
   "outputs": [
    {
     "data": {
      "image/png": "[encoded data removed]",
      "text/plain": [
       "<Figure size 720x432 with 6 Axes>"
      ]
     },
     "metadata": {
      "needs_background": "light"
     },
     "output_type": "display_data"
    }
   ],
   "source": [
    "figure,axes = plt.subplots(3,2, figsize = (10,6))\n",
    "axes = axes.flatten()\n",
    "index = 0\n",
    "for col in data.iloc[:,[2,3,4,8,9]]:\n",
    "    sns.scatterplot(y = data.price, x = data[col], ax = axes[index])\n",
    "    index += 1\n",
    "plt.tight_layout(w_pad=0.5, h_pad=0.5, pad=1)"
   ]
  },
  {
   "cell_type": "code",
   "execution_count": 14,
   "id": "28f8d902",
   "metadata": {
    "scrolled": true
   },
   "outputs": [
    {
     "data": {
      "text/plain": [
       "<AxesSubplot:>"
      ]
     },
     "execution_count": 14,
     "metadata": {},
     "output_type": "execute_result"
    },
    {
     "data": {
      "image/png": "[encoded data removed]",
      "text/plain": [
       "<Figure size 432x288 with 2 Axes>"
      ]
     },
     "metadata": {
      "needs_background": "light"
     },
     "output_type": "display_data"
    }
   ],
   "source": [
    "# Checking correlation between features\n",
    "sns.heatmap(data.corr(), annot=True)"
   ]
  },
  {
   "cell_type": "markdown",
   "id": "3ffa76ad",
   "metadata": {},
   "source": [
    "There is low correlation between price and other features"
   ]
  },
  {
   "cell_type": "code",
   "execution_count": 15,
   "id": "548df351",
   "metadata": {},
   "outputs": [],
   "source": [
    "# Converting categorical to numerical data\n",
    "\n",
    "data = pd.get_dummies(columns=['cd','multi','premium'], data = data, drop_first=True)"
   ]
  },
  {
   "cell_type": "code",
   "execution_count": 16,
   "id": "5dccb750",
   "metadata": {},
   "outputs": [
    {
     "data": {
      "text/html": [
       "<div>\n",
       "<style scoped>\n",
       "    .dataframe tbody tr th:only-of-type {\n",
       "        vertical-align: middle;\n",
       "    }\n",
       "\n",
       "    .dataframe tbody tr th {\n",
       "        vertical-align: top;\n",
       "    }\n",
       "\n",
       "    .dataframe thead th {\n",
       "        text-align: right;\n",
       "    }\n",
       "</style>\n",
       "<table border=\"1\" class=\"dataframe\">\n",
       "  <thead>\n",
       "    <tr style=\"text-align: right;\">\n",
       "      <th></th>\n",
       "      <th>price</th>\n",
       "      <th>speed</th>\n",
       "      <th>hd</th>\n",
       "      <th>ram</th>\n",
       "      <th>screen</th>\n",
       "      <th>ads</th>\n",
       "      <th>trend</th>\n",
       "      <th>cd_yes</th>\n",
       "      <th>multi_yes</th>\n",
       "      <th>premium_yes</th>\n",
       "    </tr>\n",
       "  </thead>\n",
       "  <tbody>\n",
       "    <tr>\n",
       "      <th>0</th>\n",
       "      <td>1499</td>\n",
       "      <td>25</td>\n",
       "      <td>80</td>\n",
       "      <td>4</td>\n",
       "      <td>14</td>\n",
       "      <td>94</td>\n",
       "      <td>1</td>\n",
       "      <td>0</td>\n",
       "      <td>0</td>\n",
       "      <td>1</td>\n",
       "    </tr>\n",
       "    <tr>\n",
       "      <th>1</th>\n",
       "      <td>1795</td>\n",
       "      <td>33</td>\n",
       "      <td>85</td>\n",
       "      <td>2</td>\n",
       "      <td>14</td>\n",
       "      <td>94</td>\n",
       "      <td>1</td>\n",
       "      <td>0</td>\n",
       "      <td>0</td>\n",
       "      <td>1</td>\n",
       "    </tr>\n",
       "    <tr>\n",
       "      <th>2</th>\n",
       "      <td>1595</td>\n",
       "      <td>25</td>\n",
       "      <td>170</td>\n",
       "      <td>4</td>\n",
       "      <td>15</td>\n",
       "      <td>94</td>\n",
       "      <td>1</td>\n",
       "      <td>0</td>\n",
       "      <td>0</td>\n",
       "      <td>1</td>\n",
       "    </tr>\n",
       "    <tr>\n",
       "      <th>3</th>\n",
       "      <td>1849</td>\n",
       "      <td>25</td>\n",
       "      <td>170</td>\n",
       "      <td>8</td>\n",
       "      <td>14</td>\n",
       "      <td>94</td>\n",
       "      <td>1</td>\n",
       "      <td>0</td>\n",
       "      <td>0</td>\n",
       "      <td>0</td>\n",
       "    </tr>\n",
       "    <tr>\n",
       "      <th>4</th>\n",
       "      <td>3295</td>\n",
       "      <td>33</td>\n",
       "      <td>340</td>\n",
       "      <td>16</td>\n",
       "      <td>14</td>\n",
       "      <td>94</td>\n",
       "      <td>1</td>\n",
       "      <td>0</td>\n",
       "      <td>0</td>\n",
       "      <td>1</td>\n",
       "    </tr>\n",
       "  </tbody>\n",
       "</table>\n",
       "</div>"
      ],
      "text/plain": [
       "   price  speed   hd  ram  screen  ads  trend  cd_yes  multi_yes  premium_yes\n",
       "0   1499     25   80    4      14   94      1       0          0            1\n",
       "1   1795     33   85    2      14   94      1       0          0            1\n",
       "2   1595     25  170    4      15   94      1       0          0            1\n",
       "3   1849     25  170    8      14   94      1       0          0            0\n",
       "4   3295     33  340   16      14   94      1       0          0            1"
      ]
     },
     "execution_count": 16,
     "metadata": {},
     "output_type": "execute_result"
    }
   ],
   "source": [
    "data.head(5)"
   ]
  },
  {
   "cell_type": "code",
   "execution_count": 17,
   "id": "f70d8b19",
   "metadata": {},
   "outputs": [],
   "source": [
    "# Splitting into independent and dependent features\n",
    "\n",
    "x = data.drop(['price'],axis = 1)\n",
    "y = data.price"
   ]
  },
  {
   "cell_type": "code",
   "execution_count": 18,
   "id": "b43a707f",
   "metadata": {
    "scrolled": false
   },
   "outputs": [
    {
     "data": {
      "text/html": [
       "<div>\n",
       "<style scoped>\n",
       "    .dataframe tbody tr th:only-of-type {\n",
       "        vertical-align: middle;\n",
       "    }\n",
       "\n",
       "    .dataframe tbody tr th {\n",
       "        vertical-align: top;\n",
       "    }\n",
       "\n",
       "    .dataframe thead th {\n",
       "        text-align: right;\n",
       "    }\n",
       "</style>\n",
       "<table border=\"1\" class=\"dataframe\">\n",
       "  <thead>\n",
       "    <tr style=\"text-align: right;\">\n",
       "      <th></th>\n",
       "      <th>variables</th>\n",
       "      <th>vif</th>\n",
       "    </tr>\n",
       "  </thead>\n",
       "  <tbody>\n",
       "    <tr>\n",
       "      <th>1</th>\n",
       "      <td>speed</td>\n",
       "      <td>1.263185</td>\n",
       "    </tr>\n",
       "    <tr>\n",
       "      <th>2</th>\n",
       "      <td>hd</td>\n",
       "      <td>4.194561</td>\n",
       "    </tr>\n",
       "    <tr>\n",
       "      <th>3</th>\n",
       "      <td>ram</td>\n",
       "      <td>2.969486</td>\n",
       "    </tr>\n",
       "    <tr>\n",
       "      <th>4</th>\n",
       "      <td>screen</td>\n",
       "      <td>1.081285</td>\n",
       "    </tr>\n",
       "    <tr>\n",
       "      <th>5</th>\n",
       "      <td>ads</td>\n",
       "      <td>1.218390</td>\n",
       "    </tr>\n",
       "    <tr>\n",
       "      <th>6</th>\n",
       "      <td>trend</td>\n",
       "      <td>2.024260</td>\n",
       "    </tr>\n",
       "    <tr>\n",
       "      <th>7</th>\n",
       "      <td>cd_yes</td>\n",
       "      <td>1.858302</td>\n",
       "    </tr>\n",
       "    <tr>\n",
       "      <th>8</th>\n",
       "      <td>multi_yes</td>\n",
       "      <td>1.289098</td>\n",
       "    </tr>\n",
       "    <tr>\n",
       "      <th>9</th>\n",
       "      <td>premium_yes</td>\n",
       "      <td>1.111455</td>\n",
       "    </tr>\n",
       "  </tbody>\n",
       "</table>\n",
       "</div>"
      ],
      "text/plain": [
       "     variables       vif\n",
       "1        speed  1.263185\n",
       "2           hd  4.194561\n",
       "3          ram  2.969486\n",
       "4       screen  1.081285\n",
       "5          ads  1.218390\n",
       "6        trend  2.024260\n",
       "7       cd_yes  1.858302\n",
       "8    multi_yes  1.289098\n",
       "9  premium_yes  1.111455"
      ]
     },
     "execution_count": 18,
     "metadata": {},
     "output_type": "execute_result"
    }
   ],
   "source": [
    "# Checking for multi-collinearity \n",
    "\n",
    "from statsmodels.stats.outliers_influence import variance_inflation_factor\n",
    "from statsmodels.tools.tools import add_constant\n",
    "\n",
    "x = add_constant(x)\n",
    "vif = pd.DataFrame()\n",
    "vif['variables'] = x.columns\n",
    "\n",
    "vif['vif'] = [variance_inflation_factor(x.values,i) for i in range(x.shape[1])]\n",
    "\n",
    "x_vif = vif[vif.vif < 10] # Using only variables with vif values less than 10\n",
    "\n",
    "x_vif"
   ]
  },
  {
   "cell_type": "markdown",
   "id": "548a42d5",
   "metadata": {},
   "source": [
    "The VIF for the features having value less than 10, have no collinearity, whereas values greater than 10 are collinear and can be dropped."
   ]
  },
  {
   "cell_type": "code",
   "execution_count": 19,
   "id": "e11f5723",
   "metadata": {},
   "outputs": [],
   "source": [
    "# Cretaing new independent variables dataframe with significant features\n",
    "columns = x_vif.variables.values\n",
    "X = x[columns]"
   ]
  },
  {
   "cell_type": "markdown",
   "id": "e22f2c19",
   "metadata": {},
   "source": [
    "# Train Test Split"
   ]
  },
  {
   "cell_type": "code",
   "execution_count": 20,
   "id": "d31667df",
   "metadata": {},
   "outputs": [],
   "source": [
    "# Using train test split\n",
    "\n",
    "from sklearn import model_selection\n",
    "\n",
    "X_train,X_test,Y_train,Y_test = model_selection.train_test_split(X, y, test_size = 0.25)"
   ]
  },
  {
   "cell_type": "code",
   "execution_count": 21,
   "id": "7a20de7f",
   "metadata": {},
   "outputs": [
    {
     "data": {
      "text/plain": [
       "((4637, 9), (1546, 9), (4637,), (1546,))"
      ]
     },
     "execution_count": 21,
     "metadata": {},
     "output_type": "execute_result"
    }
   ],
   "source": [
    "# Shape of train test data\n",
    "X_train.shape, X_test.shape, Y_train.shape, Y_test.shape"
   ]
  },
  {
   "cell_type": "markdown",
   "id": "620fefb3",
   "metadata": {},
   "source": [
    "# Normalization"
   ]
  },
  {
   "cell_type": "code",
   "execution_count": 22,
   "id": "1652b467",
   "metadata": {},
   "outputs": [],
   "source": [
    "# Normalizing the data\n",
    "from sklearn.preprocessing import MinMaxScaler\n",
    "mms = MinMaxScaler()\n",
    "\n",
    "mms_X_train = mms.fit_transform(X_train)\n",
    "mms_X_test = mms.transform(X_test)"
   ]
  },
  {
   "cell_type": "code",
   "execution_count": 23,
   "id": "750f815e",
   "metadata": {},
   "outputs": [],
   "source": [
    "# Fitting the train data to the model\n",
    "import statsmodels.api as sm\n",
    "\n",
    "mms_X_train = sm.add_constant(mms_X_train)\n",
    "mms_X_test = sm.add_constant(mms_X_test)\n",
    "\n",
    "best_model = sm.OLS(Y_train, mms_X_train).fit()"
   ]
  },
  {
   "cell_type": "code",
   "execution_count": 24,
   "id": "8271735a",
   "metadata": {},
   "outputs": [
    {
     "data": {
      "text/html": [
       "<table class=\"simpletable\">\n",
       "<caption>OLS Regression Results</caption>\n",
       "<tr>\n",
       "  <th>Dep. Variable:</th>          <td>price</td>      <th>  R-squared:         </th> <td>   0.776</td> \n",
       "</tr>\n",
       "<tr>\n",
       "  <th>Model:</th>                   <td>OLS</td>       <th>  Adj. R-squared:    </th> <td>   0.775</td> \n",
       "</tr>\n",
       "<tr>\n",
       "  <th>Method:</th>             <td>Least Squares</td>  <th>  F-statistic:       </th> <td>   1777.</td> \n",
       "</tr>\n",
       "<tr>\n",
       "  <th>Date:</th>             <td>Sat, 30 Jul 2022</td> <th>  Prob (F-statistic):</th>  <td>  0.00</td>  \n",
       "</tr>\n",
       "<tr>\n",
       "  <th>Time:</th>                 <td>00:05:16</td>     <th>  Log-Likelihood:    </th> <td> -32640.</td> \n",
       "</tr>\n",
       "<tr>\n",
       "  <th>No. Observations:</th>      <td>  4637</td>      <th>  AIC:               </th> <td>6.530e+04</td>\n",
       "</tr>\n",
       "<tr>\n",
       "  <th>Df Residuals:</th>          <td>  4627</td>      <th>  BIC:               </th> <td>6.536e+04</td>\n",
       "</tr>\n",
       "<tr>\n",
       "  <th>Df Model:</th>              <td>     9</td>      <th>                     </th>     <td> </td>    \n",
       "</tr>\n",
       "<tr>\n",
       "  <th>Covariance Type:</th>      <td>nonrobust</td>    <th>                     </th>     <td> </td>    \n",
       "</tr>\n",
       "</table>\n",
       "<table class=\"simpletable\">\n",
       "<tr>\n",
       "    <td></td>       <th>coef</th>     <th>std err</th>      <th>t</th>      <th>P>|t|</th>  <th>[0.025</th>    <th>0.975]</th>  \n",
       "</tr>\n",
       "<tr>\n",
       "  <th>const</th> <td> 2423.6231</td> <td>   21.561</td> <td>  112.405</td> <td> 0.000</td> <td> 2381.352</td> <td> 2465.894</td>\n",
       "</tr>\n",
       "<tr>\n",
       "  <th>x1</th>    <td>  701.1803</td> <td>   16.295</td> <td>   43.030</td> <td> 0.000</td> <td>  669.234</td> <td>  733.127</td>\n",
       "</tr>\n",
       "<tr>\n",
       "  <th>x2</th>    <td> 1588.7996</td> <td>   65.326</td> <td>   24.321</td> <td> 0.000</td> <td> 1460.730</td> <td> 1716.870</td>\n",
       "</tr>\n",
       "<tr>\n",
       "  <th>x3</th>    <td> 1441.4038</td> <td>   37.398</td> <td>   38.542</td> <td> 0.000</td> <td> 1368.086</td> <td> 1514.722</td>\n",
       "</tr>\n",
       "<tr>\n",
       "  <th>x4</th>    <td>  371.9804</td> <td>   13.990</td> <td>   26.589</td> <td> 0.000</td> <td>  344.553</td> <td>  399.408</td>\n",
       "</tr>\n",
       "<tr>\n",
       "  <th>x5</th>    <td>  176.9924</td> <td>   17.898</td> <td>    9.889</td> <td> 0.000</td> <td>  141.904</td> <td>  212.081</td>\n",
       "</tr>\n",
       "<tr>\n",
       "  <th>x6</th>    <td>-1784.6636</td> <td>   24.615</td> <td>  -72.502</td> <td> 0.000</td> <td>-1832.921</td> <td>-1736.406</td>\n",
       "</tr>\n",
       "<tr>\n",
       "  <th>x7</th>    <td>   64.9477</td> <td>   11.045</td> <td>    5.880</td> <td> 0.000</td> <td>   43.295</td> <td>   86.600</td>\n",
       "</tr>\n",
       "<tr>\n",
       "  <th>x8</th>    <td>  107.1820</td> <td>   13.342</td> <td>    8.033</td> <td> 0.000</td> <td>   81.025</td> <td>  133.339</td>\n",
       "</tr>\n",
       "<tr>\n",
       "  <th>x9</th>    <td> -513.8432</td> <td>   14.146</td> <td>  -36.323</td> <td> 0.000</td> <td> -541.577</td> <td> -486.109</td>\n",
       "</tr>\n",
       "</table>\n",
       "<table class=\"simpletable\">\n",
       "<tr>\n",
       "  <th>Omnibus:</th>       <td>701.005</td> <th>  Durbin-Watson:     </th> <td>   2.009</td>\n",
       "</tr>\n",
       "<tr>\n",
       "  <th>Prob(Omnibus):</th> <td> 0.000</td>  <th>  Jarque-Bera (JB):  </th> <td>2053.345</td>\n",
       "</tr>\n",
       "<tr>\n",
       "  <th>Skew:</th>          <td> 0.796</td>  <th>  Prob(JB):          </th> <td>    0.00</td>\n",
       "</tr>\n",
       "<tr>\n",
       "  <th>Kurtosis:</th>      <td> 5.844</td>  <th>  Cond. No.          </th> <td>    30.7</td>\n",
       "</tr>\n",
       "</table><br/><br/>Notes:<br/>[1] Standard Errors assume that the covariance matrix of the errors is correctly specified."
      ],
      "text/plain": [
       "<class 'statsmodels.iolib.summary.Summary'>\n",
       "\"\"\"\n",
       "                            OLS Regression Results                            \n",
       "==============================================================================\n",
       "Dep. Variable:                  price   R-squared:                       0.776\n",
       "Model:                            OLS   Adj. R-squared:                  0.775\n",
       "Method:                 Least Squares   F-statistic:                     1777.\n",
       "Date:                Sat, 30 Jul 2022   Prob (F-statistic):               0.00\n",
       "Time:                        00:05:16   Log-Likelihood:                -32640.\n",
       "No. Observations:                4637   AIC:                         6.530e+04\n",
       "Df Residuals:                    4627   BIC:                         6.536e+04\n",
       "Df Model:                           9                                         \n",
       "Covariance Type:            nonrobust                                         \n",
       "==============================================================================\n",
       "                 coef    std err          t      P>|t|      [0.025      0.975]\n",
       "------------------------------------------------------------------------------\n",
       "const       2423.6231     21.561    112.405      0.000    2381.352    2465.894\n",
       "x1           701.1803     16.295     43.030      0.000     669.234     733.127\n",
       "x2          1588.7996     65.326     24.321      0.000    1460.730    1716.870\n",
       "x3          1441.4038     37.398     38.542      0.000    1368.086    1514.722\n",
       "x4           371.9804     13.990     26.589      0.000     344.553     399.408\n",
       "x5           176.9924     17.898      9.889      0.000     141.904     212.081\n",
       "x6         -1784.6636     24.615    -72.502      0.000   -1832.921   -1736.406\n",
       "x7            64.9477     11.045      5.880      0.000      43.295      86.600\n",
       "x8           107.1820     13.342      8.033      0.000      81.025     133.339\n",
       "x9          -513.8432     14.146    -36.323      0.000    -541.577    -486.109\n",
       "==============================================================================\n",
       "Omnibus:                      701.005   Durbin-Watson:                   2.009\n",
       "Prob(Omnibus):                  0.000   Jarque-Bera (JB):             2053.345\n",
       "Skew:                           0.796   Prob(JB):                         0.00\n",
       "Kurtosis:                       5.844   Cond. No.                         30.7\n",
       "==============================================================================\n",
       "\n",
       "Notes:\n",
       "[1] Standard Errors assume that the covariance matrix of the errors is correctly specified.\n",
       "\"\"\""
      ]
     },
     "execution_count": 24,
     "metadata": {},
     "output_type": "execute_result"
    }
   ],
   "source": [
    "# Summary of the model\n",
    "best_model.summary()"
   ]
  },
  {
   "cell_type": "markdown",
   "id": "4ebe6dae",
   "metadata": {},
   "source": [
    "Certain variables can be seen having p-values greater than 0.05\n",
    "\n",
    "Removing these variables as these do not contribute to predict the price of the car "
   ]
  },
  {
   "cell_type": "code",
   "execution_count": 25,
   "id": "d8531e5d",
   "metadata": {},
   "outputs": [
    {
     "name": "stdout",
     "output_type": "stream",
     "text": [
      "\n",
      "R2-score value for test data : 0.7736184190122457\n",
      "\n",
      "RMSE for test data : 276.2013225978938\n",
      "------------------------------------------------------------------------\n",
      "\n",
      "R2-Score value for train data : 0.7756154061457693\n",
      "\n",
      "RMSE for train data : 275.9216773281187\n"
     ]
    }
   ],
   "source": [
    "# Predicting for test data\n",
    "from sklearn.metrics import r2_score\n",
    "best_pred_test = best_model.predict(mms_X_test)\n",
    "\n",
    "# RMSE Error calculation for test data\n",
    "\n",
    "res_test = Y_test - best_pred_test\n",
    "rmse_test = np.sqrt(np.mean(res_test * res_test))\n",
    "\n",
    "r2_score_test = r2_score(Y_test,best_pred_test)  \n",
    "print(f'\\nR2-score value for test data : {r2_score_test}')\n",
    "print(f'\\nRMSE for test data : {rmse_test}')\n",
    "\n",
    "print('------------------------------------------------------------------------')\n",
    "\n",
    "# Predicting for train data\n",
    "best_pred_train = best_model.predict(mms_X_train)\n",
    "\n",
    "# RMSE Error calculation for train data\n",
    "\n",
    "res_train = np.array(Y_train) - best_pred_train\n",
    "rmse_train = np.sqrt(np.mean(res_train * res_train))\n",
    "\n",
    "r2_score_train = r2_score(Y_train, best_pred_train)  \n",
    "print(f'\\nR2-Score value for train data : {r2_score_train}')\n",
    "print(f'\\nRMSE for train data : {rmse_train}')"
   ]
  },
  {
   "cell_type": "code",
   "execution_count": 26,
   "id": "d7ad15c3",
   "metadata": {
    "scrolled": true
   },
   "outputs": [
    {
     "data": {
      "text/html": [
       "<div>\n",
       "<style scoped>\n",
       "    .dataframe tbody tr th:only-of-type {\n",
       "        vertical-align: middle;\n",
       "    }\n",
       "\n",
       "    .dataframe tbody tr th {\n",
       "        vertical-align: top;\n",
       "    }\n",
       "\n",
       "    .dataframe thead th {\n",
       "        text-align: right;\n",
       "    }\n",
       "</style>\n",
       "<table border=\"1\" class=\"dataframe\">\n",
       "  <thead>\n",
       "    <tr style=\"text-align: right;\">\n",
       "      <th></th>\n",
       "      <th>speed</th>\n",
       "      <th>hd</th>\n",
       "      <th>ram</th>\n",
       "      <th>screen</th>\n",
       "      <th>ads</th>\n",
       "      <th>trend</th>\n",
       "      <th>cd_yes</th>\n",
       "      <th>multi_yes</th>\n",
       "      <th>premium_yes</th>\n",
       "    </tr>\n",
       "  </thead>\n",
       "  <tbody>\n",
       "    <tr>\n",
       "      <th>0</th>\n",
       "      <td>25</td>\n",
       "      <td>80</td>\n",
       "      <td>4</td>\n",
       "      <td>14</td>\n",
       "      <td>94</td>\n",
       "      <td>1</td>\n",
       "      <td>0</td>\n",
       "      <td>0</td>\n",
       "      <td>1</td>\n",
       "    </tr>\n",
       "    <tr>\n",
       "      <th>1</th>\n",
       "      <td>33</td>\n",
       "      <td>85</td>\n",
       "      <td>2</td>\n",
       "      <td>14</td>\n",
       "      <td>94</td>\n",
       "      <td>1</td>\n",
       "      <td>0</td>\n",
       "      <td>0</td>\n",
       "      <td>1</td>\n",
       "    </tr>\n",
       "    <tr>\n",
       "      <th>2</th>\n",
       "      <td>25</td>\n",
       "      <td>170</td>\n",
       "      <td>4</td>\n",
       "      <td>15</td>\n",
       "      <td>94</td>\n",
       "      <td>1</td>\n",
       "      <td>0</td>\n",
       "      <td>0</td>\n",
       "      <td>1</td>\n",
       "    </tr>\n",
       "    <tr>\n",
       "      <th>3</th>\n",
       "      <td>25</td>\n",
       "      <td>170</td>\n",
       "      <td>8</td>\n",
       "      <td>14</td>\n",
       "      <td>94</td>\n",
       "      <td>1</td>\n",
       "      <td>0</td>\n",
       "      <td>0</td>\n",
       "      <td>0</td>\n",
       "    </tr>\n",
       "    <tr>\n",
       "      <th>4</th>\n",
       "      <td>33</td>\n",
       "      <td>340</td>\n",
       "      <td>16</td>\n",
       "      <td>14</td>\n",
       "      <td>94</td>\n",
       "      <td>1</td>\n",
       "      <td>0</td>\n",
       "      <td>0</td>\n",
       "      <td>1</td>\n",
       "    </tr>\n",
       "  </tbody>\n",
       "</table>\n",
       "</div>"
      ],
      "text/plain": [
       "   speed   hd  ram  screen  ads  trend  cd_yes  multi_yes  premium_yes\n",
       "0     25   80    4      14   94      1       0          0            1\n",
       "1     33   85    2      14   94      1       0          0            1\n",
       "2     25  170    4      15   94      1       0          0            1\n",
       "3     25  170    8      14   94      1       0          0            0\n",
       "4     33  340   16      14   94      1       0          0            1"
      ]
     },
     "execution_count": 26,
     "metadata": {},
     "output_type": "execute_result"
    }
   ],
   "source": [
    "# Creating new dataframe without insignificant variables\n",
    "\n",
    "list1 = best_model.pvalues.index[best_model.pvalues > 0.05].values  # Checking which variables have pvalue greater than 0.05\n",
    "\n",
    "X_new = pd.DataFrame([])\n",
    "for i in range(X.shape[1]):\n",
    "    if i not in list1:\n",
    "        col = X.columns[i]\n",
    "        X_new[col] = X.iloc[:,i]\n",
    "X_new.head()"
   ]
  },
  {
   "cell_type": "code",
   "execution_count": 27,
   "id": "ed772ea8",
   "metadata": {},
   "outputs": [
    {
     "data": {
      "text/html": [
       "<table class=\"simpletable\">\n",
       "<caption>OLS Regression Results</caption>\n",
       "<tr>\n",
       "  <th>Dep. Variable:</th>          <td>price</td>      <th>  R-squared:         </th> <td>   0.777</td> \n",
       "</tr>\n",
       "<tr>\n",
       "  <th>Model:</th>                   <td>OLS</td>       <th>  Adj. R-squared:    </th> <td>   0.776</td> \n",
       "</tr>\n",
       "<tr>\n",
       "  <th>Method:</th>             <td>Least Squares</td>  <th>  F-statistic:       </th> <td>   1908.</td> \n",
       "</tr>\n",
       "<tr>\n",
       "  <th>Date:</th>             <td>Sat, 30 Jul 2022</td> <th>  Prob (F-statistic):</th>  <td>  0.00</td>  \n",
       "</tr>\n",
       "<tr>\n",
       "  <th>Time:</th>                 <td>00:05:16</td>     <th>  Log-Likelihood:    </th> <td> -34840.</td> \n",
       "</tr>\n",
       "<tr>\n",
       "  <th>No. Observations:</th>      <td>  4946</td>      <th>  AIC:               </th> <td>6.970e+04</td>\n",
       "</tr>\n",
       "<tr>\n",
       "  <th>Df Residuals:</th>          <td>  4936</td>      <th>  BIC:               </th> <td>6.976e+04</td>\n",
       "</tr>\n",
       "<tr>\n",
       "  <th>Df Model:</th>              <td>     9</td>      <th>                     </th>     <td> </td>    \n",
       "</tr>\n",
       "<tr>\n",
       "  <th>Covariance Type:</th>      <td>nonrobust</td>    <th>                     </th>     <td> </td>    \n",
       "</tr>\n",
       "</table>\n",
       "<table class=\"simpletable\">\n",
       "<tr>\n",
       "    <td></td>       <th>coef</th>     <th>std err</th>      <th>t</th>      <th>P>|t|</th>  <th>[0.025</th>    <th>0.975]</th>  \n",
       "</tr>\n",
       "<tr>\n",
       "  <th>const</th> <td> 2410.6369</td> <td>   21.361</td> <td>  112.851</td> <td> 0.000</td> <td> 2368.759</td> <td> 2452.514</td>\n",
       "</tr>\n",
       "<tr>\n",
       "  <th>x1</th>    <td>  713.0707</td> <td>   15.830</td> <td>   45.044</td> <td> 0.000</td> <td>  682.036</td> <td>  744.106</td>\n",
       "</tr>\n",
       "<tr>\n",
       "  <th>x2</th>    <td> 1608.2946</td> <td>   61.926</td> <td>   25.971</td> <td> 0.000</td> <td> 1486.892</td> <td> 1729.697</td>\n",
       "</tr>\n",
       "<tr>\n",
       "  <th>x3</th>    <td> 1442.3466</td> <td>   35.732</td> <td>   40.365</td> <td> 0.000</td> <td> 1372.295</td> <td> 1512.398</td>\n",
       "</tr>\n",
       "<tr>\n",
       "  <th>x4</th>    <td>  376.6740</td> <td>   13.476</td> <td>   27.952</td> <td> 0.000</td> <td>  350.256</td> <td>  403.092</td>\n",
       "</tr>\n",
       "<tr>\n",
       "  <th>x5</th>    <td>  178.6666</td> <td>   17.597</td> <td>   10.153</td> <td> 0.000</td> <td>  144.168</td> <td>  213.165</td>\n",
       "</tr>\n",
       "<tr>\n",
       "  <th>x6</th>    <td>-1782.7651</td> <td>   24.178</td> <td>  -73.734</td> <td> 0.000</td> <td>-1830.165</td> <td>-1735.365</td>\n",
       "</tr>\n",
       "<tr>\n",
       "  <th>x7</th>    <td>   54.1727</td> <td>   10.863</td> <td>    4.987</td> <td> 0.000</td> <td>   32.877</td> <td>   75.469</td>\n",
       "</tr>\n",
       "<tr>\n",
       "  <th>x8</th>    <td>  107.9495</td> <td>   13.064</td> <td>    8.263</td> <td> 0.000</td> <td>   82.339</td> <td>  133.560</td>\n",
       "</tr>\n",
       "<tr>\n",
       "  <th>x9</th>    <td> -509.7003</td> <td>   13.893</td> <td>  -36.688</td> <td> 0.000</td> <td> -536.936</td> <td> -482.465</td>\n",
       "</tr>\n",
       "</table>\n",
       "<table class=\"simpletable\">\n",
       "<tr>\n",
       "  <th>Omnibus:</th>       <td>861.248</td> <th>  Durbin-Watson:     </th> <td>   1.988</td>\n",
       "</tr>\n",
       "<tr>\n",
       "  <th>Prob(Omnibus):</th> <td> 0.000</td>  <th>  Jarque-Bera (JB):  </th> <td>2803.494</td>\n",
       "</tr>\n",
       "<tr>\n",
       "  <th>Skew:</th>          <td> 0.878</td>  <th>  Prob(JB):          </th> <td>    0.00</td>\n",
       "</tr>\n",
       "<tr>\n",
       "  <th>Kurtosis:</th>      <td> 6.243</td>  <th>  Cond. No.          </th> <td>    30.0</td>\n",
       "</tr>\n",
       "</table><br/><br/>Notes:<br/>[1] Standard Errors assume that the covariance matrix of the errors is correctly specified."
      ],
      "text/plain": [
       "<class 'statsmodels.iolib.summary.Summary'>\n",
       "\"\"\"\n",
       "                            OLS Regression Results                            \n",
       "==============================================================================\n",
       "Dep. Variable:                  price   R-squared:                       0.777\n",
       "Model:                            OLS   Adj. R-squared:                  0.776\n",
       "Method:                 Least Squares   F-statistic:                     1908.\n",
       "Date:                Sat, 30 Jul 2022   Prob (F-statistic):               0.00\n",
       "Time:                        00:05:16   Log-Likelihood:                -34840.\n",
       "No. Observations:                4946   AIC:                         6.970e+04\n",
       "Df Residuals:                    4936   BIC:                         6.976e+04\n",
       "Df Model:                           9                                         \n",
       "Covariance Type:            nonrobust                                         \n",
       "==============================================================================\n",
       "                 coef    std err          t      P>|t|      [0.025      0.975]\n",
       "------------------------------------------------------------------------------\n",
       "const       2410.6369     21.361    112.851      0.000    2368.759    2452.514\n",
       "x1           713.0707     15.830     45.044      0.000     682.036     744.106\n",
       "x2          1608.2946     61.926     25.971      0.000    1486.892    1729.697\n",
       "x3          1442.3466     35.732     40.365      0.000    1372.295    1512.398\n",
       "x4           376.6740     13.476     27.952      0.000     350.256     403.092\n",
       "x5           178.6666     17.597     10.153      0.000     144.168     213.165\n",
       "x6         -1782.7651     24.178    -73.734      0.000   -1830.165   -1735.365\n",
       "x7            54.1727     10.863      4.987      0.000      32.877      75.469\n",
       "x8           107.9495     13.064      8.263      0.000      82.339     133.560\n",
       "x9          -509.7003     13.893    -36.688      0.000    -536.936    -482.465\n",
       "==============================================================================\n",
       "Omnibus:                      861.248   Durbin-Watson:                   1.988\n",
       "Prob(Omnibus):                  0.000   Jarque-Bera (JB):             2803.494\n",
       "Skew:                           0.878   Prob(JB):                         0.00\n",
       "Kurtosis:                       6.243   Cond. No.                         30.0\n",
       "==============================================================================\n",
       "\n",
       "Notes:\n",
       "[1] Standard Errors assume that the covariance matrix of the errors is correctly specified.\n",
       "\"\"\""
      ]
     },
     "execution_count": 27,
     "metadata": {},
     "output_type": "execute_result"
    }
   ],
   "source": [
    "X_new_train,X_new_test,Y_train,Y_test = model_selection.train_test_split(X_new, y, test_size = 0.2)\n",
    "mms_X_new_train = mms.fit_transform(X_new_train)\n",
    "mms_X_new_test = mms.transform(X_new_test)\n",
    "\n",
    "mms_X_new_train = sm.add_constant(mms_X_new_train)\n",
    "mms_X_new_test = sm.add_constant(mms_X_new_test)\n",
    "\n",
    "new_model = sm.OLS(Y_train, mms_X_new_train).fit()\n",
    "\n",
    "# Summary of the model\n",
    "new_model.summary()"
   ]
  },
  {
   "cell_type": "code",
   "execution_count": 28,
   "id": "c61d4e81",
   "metadata": {},
   "outputs": [
    {
     "name": "stdout",
     "output_type": "stream",
     "text": [
      "\n",
      "R2-score value for test data : 0.7679710452443353\n",
      "\n",
      "RMSE for test data : 270.7753264701445\n"
     ]
    }
   ],
   "source": [
    "# Predicting for test data\n",
    "\n",
    "from sklearn.metrics import r2_score\n",
    "best_pred_test = new_model.predict(mms_X_new_test)\n",
    "\n",
    "# RMSE Error calculation for test data\n",
    "\n",
    "res_test = Y_test - best_pred_test\n",
    "rmse_test = np.sqrt(np.mean(res_test * res_test))\n",
    "\n",
    "r2_score_test = r2_score(Y_test,best_pred_test)  \n",
    "print(f'\\nR2-score value for test data : {r2_score_test}')\n",
    "print(f'\\nRMSE for test data : {rmse_test}')"
   ]
  },
  {
   "cell_type": "code",
   "execution_count": 29,
   "id": "fcf25243",
   "metadata": {
    "scrolled": true
   },
   "outputs": [
    {
     "name": "stdout",
     "output_type": "stream",
     "text": [
      "\n",
      "R2-Score value for train data : 0.7767369753282689\n",
      "\n",
      "RMSE for train data : 277.2925503178497\n"
     ]
    }
   ],
   "source": [
    "# Predicting for train data\n",
    "best_pred_train = new_model.predict(mms_X_new_train)\n",
    "\n",
    "# RMSE Error calculation for train data\n",
    "\n",
    "res_train = np.array(Y_train) - best_pred_train\n",
    "rmse_train = np.sqrt(np.mean(res_train * res_train))\n",
    "\n",
    "r2_score_train = r2_score(Y_train, best_pred_train)  \n",
    "print(f'\\nR2-Score value for train data : {r2_score_train}')\n",
    "print(f'\\nRMSE for train data : {rmse_train}')"
   ]
  },
  {
   "cell_type": "code",
   "execution_count": null,
   "id": "0428225b",
   "metadata": {},
   "outputs": [],
   "source": []
  }
 ],
 "metadata": {
  "kernelspec": {
   "display_name": "Python 3 (ipykernel)",
   "language": "python",
   "name": "python3"
  },
  "language_info": {
   "codemirror_mode": {
    "name": "ipython",
    "version": 3
   },
   "file_extension": ".py",
   "mimetype": "text/x-python",
   "name": "python",
   "nbconvert_exporter": "python",
   "pygments_lexer": "ipython3",
   "version": "3.9.12"
  }
 },
 "nbformat": 4,
 "nbformat_minor": 5
}
