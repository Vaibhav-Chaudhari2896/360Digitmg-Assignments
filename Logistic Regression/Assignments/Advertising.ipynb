{
 "cells": [
  {
   "cell_type": "markdown",
   "id": "0c79d0e3",
   "metadata": {},
   "source": [
    "2.\tIn this time and age of widespread internet usage, effective and targeted marketing plays a vital role. A marketing company would like to develop a strategy by analyzing their customer data. For this, data like age, location, time of activity, etc. has been collected to determine whether a user will click on an ad or not. Perform Logistic Regression on the given data to predict whether a user will click on an ad or not. "
   ]
  },
  {
   "cell_type": "code",
   "execution_count": 1,
   "id": "88cae1f0",
   "metadata": {},
   "outputs": [],
   "source": [
    "import pandas as pd\n",
    "import numpy as np\n",
    "import statsmodels as sm\n",
    "import matplotlib.pyplot as plt\n",
    "import seaborn as sns"
   ]
  },
  {
   "cell_type": "code",
   "execution_count": 2,
   "id": "e9c67ed7",
   "metadata": {},
   "outputs": [
    {
     "data": {
      "text/html": [
       "<div>\n",
       "<style scoped>\n",
       "    .dataframe tbody tr th:only-of-type {\n",
       "        vertical-align: middle;\n",
       "    }\n",
       "\n",
       "    .dataframe tbody tr th {\n",
       "        vertical-align: top;\n",
       "    }\n",
       "\n",
       "    .dataframe thead th {\n",
       "        text-align: right;\n",
       "    }\n",
       "</style>\n",
       "<table border=\"1\" class=\"dataframe\">\n",
       "  <thead>\n",
       "    <tr style=\"text-align: right;\">\n",
       "      <th></th>\n",
       "      <th>Daily_Time_ Spent _on_Site</th>\n",
       "      <th>Age</th>\n",
       "      <th>Area_Income</th>\n",
       "      <th>Daily Internet Usage</th>\n",
       "      <th>Ad_Topic_Line</th>\n",
       "      <th>City</th>\n",
       "      <th>Male</th>\n",
       "      <th>Country</th>\n",
       "      <th>Timestamp</th>\n",
       "      <th>Clicked_on_Ad</th>\n",
       "    </tr>\n",
       "  </thead>\n",
       "  <tbody>\n",
       "    <tr>\n",
       "      <th>0</th>\n",
       "      <td>68.95</td>\n",
       "      <td>35</td>\n",
       "      <td>61833.90</td>\n",
       "      <td>256.09</td>\n",
       "      <td>Cloned 5thgeneration orchestration</td>\n",
       "      <td>Wrightburgh</td>\n",
       "      <td>0</td>\n",
       "      <td>Tunisia</td>\n",
       "      <td>27/03/2016 0:53</td>\n",
       "      <td>0</td>\n",
       "    </tr>\n",
       "    <tr>\n",
       "      <th>1</th>\n",
       "      <td>80.23</td>\n",
       "      <td>31</td>\n",
       "      <td>68441.85</td>\n",
       "      <td>193.77</td>\n",
       "      <td>Monitored national standardization</td>\n",
       "      <td>West Jodi</td>\n",
       "      <td>1</td>\n",
       "      <td>Nauru</td>\n",
       "      <td>4/04/2016 1:39</td>\n",
       "      <td>0</td>\n",
       "    </tr>\n",
       "    <tr>\n",
       "      <th>2</th>\n",
       "      <td>69.47</td>\n",
       "      <td>26</td>\n",
       "      <td>59785.94</td>\n",
       "      <td>236.50</td>\n",
       "      <td>Organic bottom-line service-desk</td>\n",
       "      <td>Davidton</td>\n",
       "      <td>0</td>\n",
       "      <td>San Marino</td>\n",
       "      <td>13/03/2016 20:35</td>\n",
       "      <td>0</td>\n",
       "    </tr>\n",
       "    <tr>\n",
       "      <th>3</th>\n",
       "      <td>74.15</td>\n",
       "      <td>29</td>\n",
       "      <td>54806.18</td>\n",
       "      <td>245.89</td>\n",
       "      <td>Triple-buffered reciprocal time-frame</td>\n",
       "      <td>West Terrifurt</td>\n",
       "      <td>1</td>\n",
       "      <td>Italy</td>\n",
       "      <td>10/01/2016 2:31</td>\n",
       "      <td>0</td>\n",
       "    </tr>\n",
       "    <tr>\n",
       "      <th>4</th>\n",
       "      <td>68.37</td>\n",
       "      <td>35</td>\n",
       "      <td>73889.99</td>\n",
       "      <td>225.58</td>\n",
       "      <td>Robust logistical utilization</td>\n",
       "      <td>South Manuel</td>\n",
       "      <td>0</td>\n",
       "      <td>Iceland</td>\n",
       "      <td>3/06/2016 3:36</td>\n",
       "      <td>0</td>\n",
       "    </tr>\n",
       "  </tbody>\n",
       "</table>\n",
       "</div>"
      ],
      "text/plain": [
       "   Daily_Time_ Spent _on_Site  Age  Area_Income  Daily Internet Usage  \\\n",
       "0                       68.95   35     61833.90                256.09   \n",
       "1                       80.23   31     68441.85                193.77   \n",
       "2                       69.47   26     59785.94                236.50   \n",
       "3                       74.15   29     54806.18                245.89   \n",
       "4                       68.37   35     73889.99                225.58   \n",
       "\n",
       "                           Ad_Topic_Line            City  Male     Country  \\\n",
       "0     Cloned 5thgeneration orchestration     Wrightburgh     0     Tunisia   \n",
       "1     Monitored national standardization       West Jodi     1       Nauru   \n",
       "2       Organic bottom-line service-desk        Davidton     0  San Marino   \n",
       "3  Triple-buffered reciprocal time-frame  West Terrifurt     1       Italy   \n",
       "4          Robust logistical utilization    South Manuel     0     Iceland   \n",
       "\n",
       "          Timestamp  Clicked_on_Ad  \n",
       "0   27/03/2016 0:53              0  \n",
       "1    4/04/2016 1:39              0  \n",
       "2  13/03/2016 20:35              0  \n",
       "3   10/01/2016 2:31              0  \n",
       "4    3/06/2016 3:36              0  "
      ]
     },
     "execution_count": 2,
     "metadata": {},
     "output_type": "execute_result"
    }
   ],
   "source": [
    "data = pd.read_csv('C:/Users/vaibh/Desktop/360 Digitmg/Logistic Regression/Assignments/Advertising.csv')\n",
    "data.head()"
   ]
  },
  {
   "cell_type": "code",
   "execution_count": 3,
   "id": "e11f1eec",
   "metadata": {},
   "outputs": [
    {
     "data": {
      "text/plain": [
       "(1000, 10)"
      ]
     },
     "execution_count": 3,
     "metadata": {},
     "output_type": "execute_result"
    }
   ],
   "source": [
    "# Dimensions of the dataset\n",
    "data.shape"
   ]
  },
  {
   "cell_type": "code",
   "execution_count": 4,
   "id": "7f8b2562",
   "metadata": {},
   "outputs": [
    {
     "data": {
      "text/plain": [
       "Daily_Time_ Spent _on_Site    0\n",
       "Age                           0\n",
       "Area_Income                   0\n",
       "Daily Internet Usage          0\n",
       "Ad_Topic_Line                 0\n",
       "City                          0\n",
       "Male                          0\n",
       "Country                       0\n",
       "Timestamp                     0\n",
       "Clicked_on_Ad                 0\n",
       "dtype: int64"
      ]
     },
     "execution_count": 4,
     "metadata": {},
     "output_type": "execute_result"
    }
   ],
   "source": [
    "# Checking for null values\n",
    "data.isnull().sum()"
   ]
  },
  {
   "cell_type": "markdown",
   "id": "009404d6",
   "metadata": {},
   "source": [
    "    There are no null values"
   ]
  },
  {
   "cell_type": "code",
   "execution_count": 5,
   "id": "932a572f",
   "metadata": {
    "scrolled": true
   },
   "outputs": [
    {
     "data": {
      "text/plain": [
       "0"
      ]
     },
     "execution_count": 5,
     "metadata": {},
     "output_type": "execute_result"
    }
   ],
   "source": [
    "data.duplicated().sum()"
   ]
  },
  {
   "cell_type": "markdown",
   "id": "ae521e20",
   "metadata": {},
   "source": [
    "    There are no duplicated values"
   ]
  },
  {
   "cell_type": "code",
   "execution_count": 6,
   "id": "1528b826",
   "metadata": {},
   "outputs": [
    {
     "data": {
      "text/html": [
       "<div>\n",
       "<style scoped>\n",
       "    .dataframe tbody tr th:only-of-type {\n",
       "        vertical-align: middle;\n",
       "    }\n",
       "\n",
       "    .dataframe tbody tr th {\n",
       "        vertical-align: top;\n",
       "    }\n",
       "\n",
       "    .dataframe thead th {\n",
       "        text-align: right;\n",
       "    }\n",
       "</style>\n",
       "<table border=\"1\" class=\"dataframe\">\n",
       "  <thead>\n",
       "    <tr style=\"text-align: right;\">\n",
       "      <th></th>\n",
       "      <th>count</th>\n",
       "      <th>mean</th>\n",
       "      <th>std</th>\n",
       "      <th>min</th>\n",
       "      <th>25%</th>\n",
       "      <th>50%</th>\n",
       "      <th>75%</th>\n",
       "      <th>max</th>\n",
       "    </tr>\n",
       "  </thead>\n",
       "  <tbody>\n",
       "    <tr>\n",
       "      <th>Daily_Time_ Spent _on_Site</th>\n",
       "      <td>1000.0</td>\n",
       "      <td>65.00020</td>\n",
       "      <td>15.853615</td>\n",
       "      <td>32.60</td>\n",
       "      <td>51.3600</td>\n",
       "      <td>68.215</td>\n",
       "      <td>78.5475</td>\n",
       "      <td>91.43</td>\n",
       "    </tr>\n",
       "    <tr>\n",
       "      <th>Age</th>\n",
       "      <td>1000.0</td>\n",
       "      <td>36.00900</td>\n",
       "      <td>8.785562</td>\n",
       "      <td>19.00</td>\n",
       "      <td>29.0000</td>\n",
       "      <td>35.000</td>\n",
       "      <td>42.0000</td>\n",
       "      <td>61.00</td>\n",
       "    </tr>\n",
       "    <tr>\n",
       "      <th>Area_Income</th>\n",
       "      <td>1000.0</td>\n",
       "      <td>55000.00008</td>\n",
       "      <td>13414.634022</td>\n",
       "      <td>13996.50</td>\n",
       "      <td>47031.8025</td>\n",
       "      <td>57012.300</td>\n",
       "      <td>65470.6350</td>\n",
       "      <td>79484.80</td>\n",
       "    </tr>\n",
       "    <tr>\n",
       "      <th>Daily Internet Usage</th>\n",
       "      <td>1000.0</td>\n",
       "      <td>180.00010</td>\n",
       "      <td>43.902339</td>\n",
       "      <td>104.78</td>\n",
       "      <td>138.8300</td>\n",
       "      <td>183.130</td>\n",
       "      <td>218.7925</td>\n",
       "      <td>269.96</td>\n",
       "    </tr>\n",
       "    <tr>\n",
       "      <th>Male</th>\n",
       "      <td>1000.0</td>\n",
       "      <td>0.48100</td>\n",
       "      <td>0.499889</td>\n",
       "      <td>0.00</td>\n",
       "      <td>0.0000</td>\n",
       "      <td>0.000</td>\n",
       "      <td>1.0000</td>\n",
       "      <td>1.00</td>\n",
       "    </tr>\n",
       "    <tr>\n",
       "      <th>Clicked_on_Ad</th>\n",
       "      <td>1000.0</td>\n",
       "      <td>0.50000</td>\n",
       "      <td>0.500250</td>\n",
       "      <td>0.00</td>\n",
       "      <td>0.0000</td>\n",
       "      <td>0.500</td>\n",
       "      <td>1.0000</td>\n",
       "      <td>1.00</td>\n",
       "    </tr>\n",
       "  </tbody>\n",
       "</table>\n",
       "</div>"
      ],
      "text/plain": [
       "                             count         mean           std       min  \\\n",
       "Daily_Time_ Spent _on_Site  1000.0     65.00020     15.853615     32.60   \n",
       "Age                         1000.0     36.00900      8.785562     19.00   \n",
       "Area_Income                 1000.0  55000.00008  13414.634022  13996.50   \n",
       "Daily Internet Usage        1000.0    180.00010     43.902339    104.78   \n",
       "Male                        1000.0      0.48100      0.499889      0.00   \n",
       "Clicked_on_Ad               1000.0      0.50000      0.500250      0.00   \n",
       "\n",
       "                                   25%        50%         75%       max  \n",
       "Daily_Time_ Spent _on_Site     51.3600     68.215     78.5475     91.43  \n",
       "Age                            29.0000     35.000     42.0000     61.00  \n",
       "Area_Income                 47031.8025  57012.300  65470.6350  79484.80  \n",
       "Daily Internet Usage          138.8300    183.130    218.7925    269.96  \n",
       "Male                            0.0000      0.000      1.0000      1.00  \n",
       "Clicked_on_Ad                   0.0000      0.500      1.0000      1.00  "
      ]
     },
     "execution_count": 6,
     "metadata": {},
     "output_type": "execute_result"
    }
   ],
   "source": [
    "# Descriptive Statistics\n",
    "data.describe().T"
   ]
  },
  {
   "cell_type": "code",
   "execution_count": 7,
   "id": "175e5bc3",
   "metadata": {},
   "outputs": [
    {
     "name": "stdout",
     "output_type": "stream",
     "text": [
      "<class 'pandas.core.frame.DataFrame'>\n",
      "RangeIndex: 1000 entries, 0 to 999\n",
      "Data columns (total 10 columns):\n",
      " #   Column                      Non-Null Count  Dtype  \n",
      "---  ------                      --------------  -----  \n",
      " 0   Daily_Time_ Spent _on_Site  1000 non-null   float64\n",
      " 1   Age                         1000 non-null   int64  \n",
      " 2   Area_Income                 1000 non-null   float64\n",
      " 3   Daily Internet Usage        1000 non-null   float64\n",
      " 4   Ad_Topic_Line               1000 non-null   object \n",
      " 5   City                        1000 non-null   object \n",
      " 6   Male                        1000 non-null   int64  \n",
      " 7   Country                     1000 non-null   object \n",
      " 8   Timestamp                   1000 non-null   object \n",
      " 9   Clicked_on_Ad               1000 non-null   int64  \n",
      "dtypes: float64(3), int64(3), object(4)\n",
      "memory usage: 78.2+ KB\n"
     ]
    }
   ],
   "source": [
    "# Checking data types of features\n",
    "data.info()"
   ]
  },
  {
   "cell_type": "code",
   "execution_count": 8,
   "id": "5004b122",
   "metadata": {
    "scrolled": true
   },
   "outputs": [
    {
     "data": {
      "text/plain": [
       "<AxesSubplot:xlabel='Clicked_on_Ad', ylabel='count'>"
      ]
     },
     "execution_count": 8,
     "metadata": {},
     "output_type": "execute_result"
    },
    {
     "data": {
      "image/png": "[encoded data removed]",
      "text/plain": [
       "<Figure size 432x288 with 1 Axes>"
      ]
     },
     "metadata": {
      "needs_background": "light"
     },
     "output_type": "display_data"
    }
   ],
   "source": [
    "# Countplot for target variable\n",
    "sns.countplot(x = data.Clicked_on_Ad)"
   ]
  },
  {
   "cell_type": "code",
   "execution_count": 9,
   "id": "419d4671",
   "metadata": {},
   "outputs": [
    {
     "data": {
      "text/plain": [
       "<AxesSubplot:xlabel='Male', ylabel='count'>"
      ]
     },
     "execution_count": 9,
     "metadata": {},
     "output_type": "execute_result"
    },
    {
     "data": {
      "image/png": "[encoded data removed]",
      "text/plain": [
       "<Figure size 432x288 with 1 Axes>"
      ]
     },
     "metadata": {
      "needs_background": "light"
     },
     "output_type": "display_data"
    }
   ],
   "source": [
    "# Countplot for gender\n",
    "sns.countplot(x = data.Male)"
   ]
  },
  {
   "cell_type": "code",
   "execution_count": 10,
   "id": "2e09f897",
   "metadata": {
    "scrolled": true
   },
   "outputs": [
    {
     "data": {
      "text/plain": [
       "<AxesSubplot:xlabel='Age', ylabel='Count'>"
      ]
     },
     "execution_count": 10,
     "metadata": {},
     "output_type": "execute_result"
    },
    {
     "data": {
      "image/png": "[encoded data removed]",
      "text/plain": [
       "<Figure size 432x288 with 1 Axes>"
      ]
     },
     "metadata": {
      "needs_background": "light"
     },
     "output_type": "display_data"
    }
   ],
   "source": [
    "# Histogram for age\n",
    "sns.histplot(x = data.Age, kde = 1)"
   ]
  },
  {
   "cell_type": "code",
   "execution_count": 11,
   "id": "6e8926a9",
   "metadata": {
    "scrolled": true
   },
   "outputs": [
    {
     "data": {
      "text/plain": [
       "<AxesSubplot:xlabel='Daily_Time_ Spent _on_Site', ylabel='Count'>"
      ]
     },
     "execution_count": 11,
     "metadata": {},
     "output_type": "execute_result"
    },
    {
     "data": {
      "image/png": "[encoded data removed]",
      "text/plain": [
       "<Figure size 432x288 with 1 Axes>"
      ]
     },
     "metadata": {
      "needs_background": "light"
     },
     "output_type": "display_data"
    }
   ],
   "source": [
    "# Histogram for Daily time spent\n",
    "sns.histplot(x = data['Daily_Time_ Spent _on_Site'], kde = 1)"
   ]
  },
  {
   "cell_type": "code",
   "execution_count": 12,
   "id": "c3f0c8c8",
   "metadata": {
    "scrolled": true
   },
   "outputs": [
    {
     "data": {
      "text/plain": [
       "<AxesSubplot:xlabel='Daily Internet Usage', ylabel='Count'>"
      ]
     },
     "execution_count": 12,
     "metadata": {},
     "output_type": "execute_result"
    },
    {
     "data": {
      "image/png": "[encoded data removed]",
      "text/plain": [
       "<Figure size 432x288 with 1 Axes>"
      ]
     },
     "metadata": {
      "needs_background": "light"
     },
     "output_type": "display_data"
    }
   ],
   "source": [
    "# Histogram for Internet Usuage\n",
    "sns.histplot(x = data['Daily Internet Usage'], kde = 1)"
   ]
  },
  {
   "cell_type": "markdown",
   "id": "d9a7008d",
   "metadata": {},
   "source": [
    "    There are more female customers in the dataset\n",
    "    The distribution of age is normal, with average age of cutomers around 30\n",
    "    Customers spends an average of 70-80 mins\n",
    "    Internet usage data is bimodal"
   ]
  },
  {
   "cell_type": "code",
   "execution_count": 13,
   "id": "1eff281c",
   "metadata": {},
   "outputs": [
    {
     "data": {
      "text/plain": [
       "France              9\n",
       "Czech Republic      9\n",
       "Australia           8\n",
       "Afghanistan         8\n",
       "Cyprus              8\n",
       "                   ..\n",
       "Kiribati            1\n",
       "Jordan              1\n",
       "Bermuda             1\n",
       "Marshall Islands    1\n",
       "Lesotho             1\n",
       "Name: Country, Length: 237, dtype: int64"
      ]
     },
     "execution_count": 13,
     "metadata": {},
     "output_type": "execute_result"
    }
   ],
   "source": [
    "# Checking countries in the dataset\n",
    "data.Country.value_counts().sort_values(ascending= False)"
   ]
  },
  {
   "cell_type": "code",
   "execution_count": 14,
   "id": "90751ff3",
   "metadata": {},
   "outputs": [
    {
     "data": {
      "text/plain": [
       "Lisamouth        3\n",
       "Williamsport     3\n",
       "Port Julie       2\n",
       "South Lisa       2\n",
       "Millertown       2\n",
       "                ..\n",
       "Lake Tracy       1\n",
       "Fosterside       1\n",
       "West Lacey       1\n",
       "North Destiny    1\n",
       "Ronniemouth      1\n",
       "Name: City, Length: 969, dtype: int64"
      ]
     },
     "execution_count": 14,
     "metadata": {},
     "output_type": "execute_result"
    }
   ],
   "source": [
    "# Checking cities in the dataset\n",
    "data.City.value_counts().sort_values(ascending= False)"
   ]
  },
  {
   "cell_type": "code",
   "execution_count": 15,
   "id": "ba7bc182",
   "metadata": {
    "scrolled": true
   },
   "outputs": [
    {
     "data": {
      "text/plain": [
       "<AxesSubplot:xlabel='Age', ylabel='Daily_Time_ Spent _on_Site'>"
      ]
     },
     "execution_count": 15,
     "metadata": {},
     "output_type": "execute_result"
    },
    {
     "data": {
      "image/png": "[encoded data removed]",
      "text/plain": [
       "<Figure size 432x288 with 1 Axes>"
      ]
     },
     "metadata": {
      "needs_background": "light"
     },
     "output_type": "display_data"
    }
   ],
   "source": [
    "# Scatterplot between age and Daily Time Spent\n",
    "sns.scatterplot(x = data.Age, y = data['Daily_Time_ Spent _on_Site'], hue=data.Clicked_on_Ad )"
   ]
  },
  {
   "cell_type": "code",
   "execution_count": 16,
   "id": "ef72d2d2",
   "metadata": {},
   "outputs": [
    {
     "data": {
      "text/plain": [
       "<AxesSubplot:xlabel='Age', ylabel='Daily Internet Usage'>"
      ]
     },
     "execution_count": 16,
     "metadata": {},
     "output_type": "execute_result"
    },
    {
     "data": {
      "image/png": "[encoded data removed]",
      "text/plain": [
       "<Figure size 432x288 with 1 Axes>"
      ]
     },
     "metadata": {
      "needs_background": "light"
     },
     "output_type": "display_data"
    }
   ],
   "source": [
    "# Scatterplot between age and Internet Usuage\n",
    "sns.scatterplot(x = data.Age, y = data['Daily Internet Usage'], hue=data.Clicked_on_Ad )"
   ]
  },
  {
   "cell_type": "markdown",
   "id": "47f984d1",
   "metadata": {},
   "source": [
    "    Customers spending less time on site and having less Daily Internet Usuage seems to have clicked on ads which includes all age groups"
   ]
  },
  {
   "cell_type": "code",
   "execution_count": 17,
   "id": "59ef1b71",
   "metadata": {},
   "outputs": [
    {
     "data": {
      "text/html": [
       "<div>\n",
       "<style scoped>\n",
       "    .dataframe tbody tr th:only-of-type {\n",
       "        vertical-align: middle;\n",
       "    }\n",
       "\n",
       "    .dataframe tbody tr th {\n",
       "        vertical-align: top;\n",
       "    }\n",
       "\n",
       "    .dataframe thead th {\n",
       "        text-align: right;\n",
       "    }\n",
       "</style>\n",
       "<table border=\"1\" class=\"dataframe\">\n",
       "  <thead>\n",
       "    <tr style=\"text-align: right;\">\n",
       "      <th></th>\n",
       "      <th>Daily_Time_ Spent _on_Site</th>\n",
       "      <th>Age</th>\n",
       "      <th>Area_Income</th>\n",
       "      <th>Daily Internet Usage</th>\n",
       "      <th>Male</th>\n",
       "    </tr>\n",
       "    <tr>\n",
       "      <th>Clicked_on_Ad</th>\n",
       "      <th></th>\n",
       "      <th></th>\n",
       "      <th></th>\n",
       "      <th></th>\n",
       "      <th></th>\n",
       "    </tr>\n",
       "  </thead>\n",
       "  <tbody>\n",
       "    <tr>\n",
       "      <th>0</th>\n",
       "      <td>76.85462</td>\n",
       "      <td>31.684</td>\n",
       "      <td>61385.58642</td>\n",
       "      <td>214.51374</td>\n",
       "      <td>0.500</td>\n",
       "    </tr>\n",
       "    <tr>\n",
       "      <th>1</th>\n",
       "      <td>53.14578</td>\n",
       "      <td>40.334</td>\n",
       "      <td>48614.41374</td>\n",
       "      <td>145.48646</td>\n",
       "      <td>0.462</td>\n",
       "    </tr>\n",
       "  </tbody>\n",
       "</table>\n",
       "</div>"
      ],
      "text/plain": [
       "               Daily_Time_ Spent _on_Site     Age  Area_Income  \\\n",
       "Clicked_on_Ad                                                    \n",
       "0                                76.85462  31.684  61385.58642   \n",
       "1                                53.14578  40.334  48614.41374   \n",
       "\n",
       "               Daily Internet Usage   Male  \n",
       "Clicked_on_Ad                               \n",
       "0                         214.51374  0.500  \n",
       "1                         145.48646  0.462  "
      ]
     },
     "execution_count": 17,
     "metadata": {},
     "output_type": "execute_result"
    }
   ],
   "source": [
    "# Grouping data based on clicked on ads feature\n",
    "\n",
    "data.groupby(data.Clicked_on_Ad).mean()"
   ]
  },
  {
   "cell_type": "markdown",
   "id": "ef016a7f",
   "metadata": {},
   "source": [
    "# MODEL BUILDING"
   ]
  },
  {
   "cell_type": "code",
   "execution_count": 40,
   "id": "f039f339",
   "metadata": {},
   "outputs": [],
   "source": [
    "# Splitting into independent and depenedent variables\n",
    "\n",
    "cols = ['Daily_Time_ Spent _on_Site', 'Age', 'Area_Income',\n",
    "       'Daily Internet Usage', 'Male']\n",
    "\n",
    "x = data.loc[:,cols]\n",
    "y = data.Clicked_on_Ad"
   ]
  },
  {
   "cell_type": "code",
   "execution_count": 41,
   "id": "51aa999b",
   "metadata": {},
   "outputs": [],
   "source": [
    "# Adding a constant to the dataset\n",
    "from statsmodels.tools.tools import add_constant\n",
    "\n",
    "x_new = add_constant(x)"
   ]
  },
  {
   "cell_type": "code",
   "execution_count": 42,
   "id": "83dc2917",
   "metadata": {},
   "outputs": [
    {
     "data": {
      "text/plain": [
       "Index(['Daily_Time_ Spent _on_Site', 'Age', 'Area_Income',\n",
       "       'Daily Internet Usage', 'Ad_Topic_Line', 'City', 'Male', 'Country',\n",
       "       'Timestamp', 'Clicked_on_Ad', 'pred'],\n",
       "      dtype='object')"
      ]
     },
     "execution_count": 42,
     "metadata": {},
     "output_type": "execute_result"
    }
   ],
   "source": [
    "data.columns"
   ]
  },
  {
   "cell_type": "code",
   "execution_count": 43,
   "id": "ee1f2d85",
   "metadata": {
    "scrolled": false
   },
   "outputs": [
    {
     "name": "stdout",
     "output_type": "stream",
     "text": [
      "Optimization terminated successfully.\n",
      "         Current function value: 0.090904\n",
      "         Iterations 10\n"
     ]
    },
    {
     "data": {
      "text/html": [
       "<table class=\"simpletable\">\n",
       "<tr>\n",
       "        <td>Model:</td>              <td>Logit</td>      <td>Pseudo R-squared:</td>    <td>0.869</td>   \n",
       "</tr>\n",
       "<tr>\n",
       "  <td>Dependent Variable:</td>   <td>Clicked_on_Ad</td>        <td>AIC:</td>         <td>193.8086</td>  \n",
       "</tr>\n",
       "<tr>\n",
       "         <td>Date:</td>        <td>2022-07-31 13:16</td>       <td>BIC:</td>         <td>223.2551</td>  \n",
       "</tr>\n",
       "<tr>\n",
       "   <td>No. Observations:</td>        <td>1000</td>        <td>Log-Likelihood:</td>    <td>-90.904</td>  \n",
       "</tr>\n",
       "<tr>\n",
       "       <td>Df Model:</td>              <td>5</td>            <td>LL-Null:</td>        <td>-693.15</td>  \n",
       "</tr>\n",
       "<tr>\n",
       "     <td>Df Residuals:</td>           <td>994</td>         <td>LLR p-value:</td>    <td>3.1358e-258</td>\n",
       "</tr>\n",
       "<tr>\n",
       "      <td>Converged:</td>           <td>1.0000</td>           <td>Scale:</td>         <td>1.0000</td>   \n",
       "</tr>\n",
       "<tr>\n",
       "    <td>No. Iterations:</td>        <td>10.0000</td>             <td></td>               <td></td>      \n",
       "</tr>\n",
       "</table>\n",
       "<table class=\"simpletable\">\n",
       "<tr>\n",
       "               <td></td>               <th>Coef.</th>  <th>Std.Err.</th>    <th>z</th>     <th>P>|z|</th> <th>[0.025</th>  <th>0.975]</th> \n",
       "</tr>\n",
       "<tr>\n",
       "  <th>const</th>                      <td>27.3606</td>  <td>2.7365</td>  <td>9.9986</td>  <td>0.0000</td> <td>21.9973</td> <td>32.7240</td>\n",
       "</tr>\n",
       "<tr>\n",
       "  <th>Daily_Time_ Spent _on_Site</th> <td>-0.1927</td>  <td>0.0208</td>  <td>-9.2865</td> <td>0.0000</td> <td>-0.2334</td> <td>-0.1521</td>\n",
       "</tr>\n",
       "<tr>\n",
       "  <th>Age</th>                        <td>0.1709</td>   <td>0.0259</td>  <td>6.6075</td>  <td>0.0000</td> <td>0.1202</td>  <td>0.2216</td> \n",
       "</tr>\n",
       "<tr>\n",
       "  <th>Area_Income</th>                <td>-0.0001</td>  <td>0.0000</td>  <td>-7.2448</td> <td>0.0000</td> <td>-0.0002</td> <td>-0.0001</td>\n",
       "</tr>\n",
       "<tr>\n",
       "  <th>Daily Internet Usage</th>       <td>-0.0635</td>  <td>0.0068</td>  <td>-9.3901</td> <td>0.0000</td> <td>-0.0768</td> <td>-0.0503</td>\n",
       "</tr>\n",
       "<tr>\n",
       "  <th>Male</th>                       <td>-0.4217</td>  <td>0.4043</td>  <td>-1.0429</td> <td>0.2970</td> <td>-1.2142</td> <td>0.3708</td> \n",
       "</tr>\n",
       "</table>"
      ],
      "text/plain": [
       "<class 'statsmodels.iolib.summary2.Summary'>\n",
       "\"\"\"\n",
       "                              Results: Logit\n",
       "==========================================================================\n",
       "Model:                  Logit              Pseudo R-squared:   0.869      \n",
       "Dependent Variable:     Clicked_on_Ad      AIC:                193.8086   \n",
       "Date:                   2022-07-31 13:16   BIC:                223.2551   \n",
       "No. Observations:       1000               Log-Likelihood:     -90.904    \n",
       "Df Model:               5                  LL-Null:            -693.15    \n",
       "Df Residuals:           994                LLR p-value:        3.1358e-258\n",
       "Converged:              1.0000             Scale:              1.0000     \n",
       "No. Iterations:         10.0000                                           \n",
       "--------------------------------------------------------------------------\n",
       "                            Coef.  Std.Err.    z    P>|z|   [0.025  0.975]\n",
       "--------------------------------------------------------------------------\n",
       "const                      27.3606   2.7365  9.9986 0.0000 21.9973 32.7240\n",
       "Daily_Time_ Spent _on_Site -0.1927   0.0208 -9.2865 0.0000 -0.2334 -0.1521\n",
       "Age                         0.1709   0.0259  6.6075 0.0000  0.1202  0.2216\n",
       "Area_Income                -0.0001   0.0000 -7.2448 0.0000 -0.0002 -0.0001\n",
       "Daily Internet Usage       -0.0635   0.0068 -9.3901 0.0000 -0.0768 -0.0503\n",
       "Male                       -0.4217   0.4043 -1.0429 0.2970 -1.2142  0.3708\n",
       "==========================================================================\n",
       "\n",
       "\"\"\""
      ]
     },
     "execution_count": 43,
     "metadata": {},
     "output_type": "execute_result"
    }
   ],
   "source": [
    "# Performing Logistic Regression\n",
    "from statsmodels.api import Logit\n",
    "\n",
    "logit_model = Logit(y, x_new).fit()\n",
    "logit_model.summary2()"
   ]
  },
  {
   "cell_type": "code",
   "execution_count": 44,
   "id": "334872db",
   "metadata": {},
   "outputs": [],
   "source": [
    "# Predicting the results \n",
    "\n",
    "pred = logit_model.predict(x_new)"
   ]
  },
  {
   "cell_type": "code",
   "execution_count": 45,
   "id": "bd40ff63",
   "metadata": {},
   "outputs": [
    {
     "data": {
      "text/plain": [
       "0.6326111998951839"
      ]
     },
     "execution_count": 45,
     "metadata": {},
     "output_type": "execute_result"
    }
   ],
   "source": [
    "# Finding the optimal threshold value \n",
    "from sklearn.metrics import roc_curve\n",
    "\n",
    "fpr, tpr, thresholds = roc_curve(y, pred)\n",
    "optimal_idx = np.argmax(tpr - fpr)\n",
    "optimal_threshold = thresholds[optimal_idx]\n",
    "optimal_threshold"
   ]
  },
  {
   "cell_type": "code",
   "execution_count": 46,
   "id": "679ef0d4",
   "metadata": {
    "scrolled": true
   },
   "outputs": [
    {
     "data": {
      "text/html": [
       "<div>\n",
       "<style scoped>\n",
       "    .dataframe tbody tr th:only-of-type {\n",
       "        vertical-align: middle;\n",
       "    }\n",
       "\n",
       "    .dataframe tbody tr th {\n",
       "        vertical-align: top;\n",
       "    }\n",
       "\n",
       "    .dataframe thead th {\n",
       "        text-align: right;\n",
       "    }\n",
       "</style>\n",
       "<table border=\"1\" class=\"dataframe\">\n",
       "  <thead>\n",
       "    <tr style=\"text-align: right;\">\n",
       "      <th></th>\n",
       "      <th>fpr</th>\n",
       "      <th>tpr</th>\n",
       "      <th>1-fpr</th>\n",
       "      <th>tf</th>\n",
       "      <th>thresholds</th>\n",
       "    </tr>\n",
       "  </thead>\n",
       "  <tbody>\n",
       "    <tr>\n",
       "      <th>17</th>\n",
       "      <td>0.036</td>\n",
       "      <td>0.966</td>\n",
       "      <td>0.964</td>\n",
       "      <td>0.002</td>\n",
       "      <td>0.370638</td>\n",
       "    </tr>\n",
       "  </tbody>\n",
       "</table>\n",
       "</div>"
      ],
      "text/plain": [
       "      fpr    tpr  1-fpr     tf  thresholds\n",
       "17  0.036  0.966  0.964  0.002    0.370638"
      ]
     },
     "execution_count": 46,
     "metadata": {},
     "output_type": "execute_result"
    }
   ],
   "source": [
    "import pylab as pl\n",
    "\n",
    "i = np.arange(len(tpr))\n",
    "roc = pd.DataFrame({'fpr' : pd.Series(fpr, index=i),\\\n",
    "                    'tpr' : pd.Series(tpr, index = i),\\\n",
    "                    '1-fpr' : pd.Series(1-fpr, index = i),\\\n",
    "                    'tf' : pd.Series(tpr - (1-fpr), index = i),\\\n",
    "                    'thresholds' : pd.Series(thresholds, index = i)})\n",
    "\n",
    "roc.iloc[(roc.tf-0).abs().argsort()[:1]]"
   ]
  },
  {
   "cell_type": "code",
   "execution_count": 47,
   "id": "ff4990f2",
   "metadata": {
    "scrolled": true
   },
   "outputs": [
    {
     "data": {
      "image/png": "[encoded data removed]",
      "text/plain": [
       "<Figure size 432x288 with 1 Axes>"
      ]
     },
     "metadata": {
      "needs_background": "light"
     },
     "output_type": "display_data"
    }
   ],
   "source": [
    "# Plot tpr vs 1-fpr\n",
    "\n",
    "fig, ax = plt.subplots()\n",
    "plt.plot(roc['tpr'], color = 'red')\n",
    "plt.plot(roc['1-fpr'], color = 'blue')\n",
    "plt.xlabel('1-False Positive Rate')\n",
    "plt.ylabel('True Positive Rate')\n",
    "plt.title('Receiver operating characteristic')\n",
    "ax.set_xticklabels([])\n",
    "plt.show()"
   ]
  },
  {
   "cell_type": "markdown",
   "id": "c62aedfe",
   "metadata": {},
   "source": [
    "The point where the two curves intersect gives us the optimal threshold point."
   ]
  },
  {
   "cell_type": "code",
   "execution_count": 48,
   "id": "63682b5e",
   "metadata": {
    "scrolled": true
   },
   "outputs": [
    {
     "name": "stdout",
     "output_type": "stream",
     "text": [
      "Area under the ROC curve : 0.991800\n"
     ]
    }
   ],
   "source": [
    "# Checking for area under the curve\n",
    "from sklearn.metrics import auc\n",
    "\n",
    "roc_auc = auc(fpr, tpr)\n",
    "print(\"Area under the ROC curve : %f\" % roc_auc)"
   ]
  },
  {
   "cell_type": "markdown",
   "id": "9ceb13af",
   "metadata": {},
   "source": [
    "We have a good AUC value of 95.8 %"
   ]
  },
  {
   "cell_type": "code",
   "execution_count": 49,
   "id": "4313eb84",
   "metadata": {},
   "outputs": [
    {
     "name": "stdout",
     "output_type": "stream",
     "text": [
      "              precision    recall  f1-score   support\n",
      "\n",
      "         0.0       0.99      0.96      0.97       518\n",
      "         1.0       0.95      0.99      0.97       482\n",
      "\n",
      "    accuracy                           0.97      1000\n",
      "   macro avg       0.97      0.97      0.97      1000\n",
      "weighted avg       0.97      0.97      0.97      1000\n",
      "\n"
     ]
    }
   ],
   "source": [
    "# Filling all the cells with zeroes\n",
    "from sklearn.metrics import classification_report\n",
    "\n",
    "data[\"pred\"] = np.zeros(1000)\n",
    "# taking threshold value and above the prob value will be treated as correct value \n",
    "data.loc[pred > optimal_threshold, \"pred\"] = 1\n",
    "# classification report\n",
    "classification = classification_report(data[\"pred\"], data.Clicked_on_Ad)\n",
    "print(classification)"
   ]
  },
  {
   "cell_type": "code",
   "execution_count": 50,
   "id": "bd9271ea",
   "metadata": {},
   "outputs": [],
   "source": [
    "# cols = x.columns\n",
    "# def back_feature_elem (data_frame,dep_var,col_list):\n",
    "\n",
    "#     while len(col_list) > 0 :\n",
    "#         model = Logit(dep_var,data_frame[col_list])\n",
    "#         result = model.fit(disp=0)\n",
    "        \n",
    "#         largest_pvalue=round(result.pvalues,3).nlargest(1)\n",
    "#         if largest_pvalue[0]<(0.05):\n",
    "#             return result\n",
    "#             break\n",
    "#         else:\n",
    "#             col_list=col_list.drop(largest_pvalue.index)\n",
    "\n",
    "# result = back_feature_elem(x, y, cols)"
   ]
  },
  {
   "cell_type": "code",
   "execution_count": 51,
   "id": "c6ba1a39",
   "metadata": {},
   "outputs": [],
   "source": [
    "# Performing train test split\n",
    "\n",
    "from sklearn.model_selection import train_test_split \n",
    "x_train, x_test, y_train, y_test = train_test_split(x, y, test_size=0.25, stratify=y)"
   ]
  },
  {
   "cell_type": "code",
   "execution_count": 52,
   "id": "4cf3f01d",
   "metadata": {},
   "outputs": [
    {
     "data": {
      "text/plain": [
       "((750, 5), (250, 5), (750,), (250,))"
      ]
     },
     "execution_count": 52,
     "metadata": {},
     "output_type": "execute_result"
    }
   ],
   "source": [
    "# Checking the split\n",
    "x_train.shape, x_test.shape, y_train.shape, y_test.shape"
   ]
  },
  {
   "cell_type": "code",
   "execution_count": 53,
   "id": "94e1b0eb",
   "metadata": {},
   "outputs": [
    {
     "name": "stdout",
     "output_type": "stream",
     "text": [
      "Optimization terminated successfully.\n",
      "         Current function value: 0.256999\n",
      "         Iterations 7\n"
     ]
    },
    {
     "data": {
      "text/html": [
       "<table class=\"simpletable\">\n",
       "<caption>Logit Regression Results</caption>\n",
       "<tr>\n",
       "  <th>Dep. Variable:</th>     <td>Clicked_on_Ad</td>  <th>  No. Observations:  </th>   <td>   750</td>  \n",
       "</tr>\n",
       "<tr>\n",
       "  <th>Model:</th>                 <td>Logit</td>      <th>  Df Residuals:      </th>   <td>   745</td>  \n",
       "</tr>\n",
       "<tr>\n",
       "  <th>Method:</th>                 <td>MLE</td>       <th>  Df Model:          </th>   <td>     4</td>  \n",
       "</tr>\n",
       "<tr>\n",
       "  <th>Date:</th>            <td>Sun, 31 Jul 2022</td> <th>  Pseudo R-squ.:     </th>   <td>0.6292</td>  \n",
       "</tr>\n",
       "<tr>\n",
       "  <th>Time:</th>                <td>13:16:47</td>     <th>  Log-Likelihood:    </th>  <td> -192.75</td> \n",
       "</tr>\n",
       "<tr>\n",
       "  <th>converged:</th>             <td>True</td>       <th>  LL-Null:           </th>  <td> -519.86</td> \n",
       "</tr>\n",
       "<tr>\n",
       "  <th>Covariance Type:</th>     <td>nonrobust</td>    <th>  LLR p-value:       </th> <td>2.841e-140</td>\n",
       "</tr>\n",
       "</table>\n",
       "<table class=\"simpletable\">\n",
       "<tr>\n",
       "               <td></td>                 <th>coef</th>     <th>std err</th>      <th>z</th>      <th>P>|z|</th>  <th>[0.025</th>    <th>0.975]</th>  \n",
       "</tr>\n",
       "<tr>\n",
       "  <th>Daily_Time_ Spent _on_Site</th> <td>   -0.0623</td> <td>    0.010</td> <td>   -6.536</td> <td> 0.000</td> <td>   -0.081</td> <td>   -0.044</td>\n",
       "</tr>\n",
       "<tr>\n",
       "  <th>Age</th>                        <td>    0.2620</td> <td>    0.020</td> <td>   13.378</td> <td> 0.000</td> <td>    0.224</td> <td>    0.300</td>\n",
       "</tr>\n",
       "<tr>\n",
       "  <th>Area_Income</th>                <td>-1.691e-05</td> <td> 9.31e-06</td> <td>   -1.817</td> <td> 0.069</td> <td>-3.52e-05</td> <td> 1.33e-06</td>\n",
       "</tr>\n",
       "<tr>\n",
       "  <th>Daily Internet Usage</th>       <td>   -0.0243</td> <td>    0.004</td> <td>   -6.864</td> <td> 0.000</td> <td>   -0.031</td> <td>   -0.017</td>\n",
       "</tr>\n",
       "<tr>\n",
       "  <th>Male</th>                       <td>    0.3261</td> <td>    0.264</td> <td>    1.234</td> <td> 0.217</td> <td>   -0.192</td> <td>    0.844</td>\n",
       "</tr>\n",
       "</table>"
      ],
      "text/plain": [
       "<class 'statsmodels.iolib.summary.Summary'>\n",
       "\"\"\"\n",
       "                           Logit Regression Results                           \n",
       "==============================================================================\n",
       "Dep. Variable:          Clicked_on_Ad   No. Observations:                  750\n",
       "Model:                          Logit   Df Residuals:                      745\n",
       "Method:                           MLE   Df Model:                            4\n",
       "Date:                Sun, 31 Jul 2022   Pseudo R-squ.:                  0.6292\n",
       "Time:                        13:16:47   Log-Likelihood:                -192.75\n",
       "converged:                       True   LL-Null:                       -519.86\n",
       "Covariance Type:            nonrobust   LLR p-value:                2.841e-140\n",
       "==============================================================================================\n",
       "                                 coef    std err          z      P>|z|      [0.025      0.975]\n",
       "----------------------------------------------------------------------------------------------\n",
       "Daily_Time_ Spent _on_Site    -0.0623      0.010     -6.536      0.000      -0.081      -0.044\n",
       "Age                            0.2620      0.020     13.378      0.000       0.224       0.300\n",
       "Area_Income                -1.691e-05   9.31e-06     -1.817      0.069   -3.52e-05    1.33e-06\n",
       "Daily Internet Usage          -0.0243      0.004     -6.864      0.000      -0.031      -0.017\n",
       "Male                           0.3261      0.264      1.234      0.217      -0.192       0.844\n",
       "==============================================================================================\n",
       "\"\"\""
      ]
     },
     "execution_count": 53,
     "metadata": {},
     "output_type": "execute_result"
    }
   ],
   "source": [
    "# Performing Logistic Regression\n",
    "\n",
    "Actual_model = Logit(y_train, x_train).fit()\n",
    "Actual_model.summary()"
   ]
  },
  {
   "cell_type": "code",
   "execution_count": 54,
   "id": "16662d6a",
   "metadata": {},
   "outputs": [
    {
     "name": "stdout",
     "output_type": "stream",
     "text": [
      "Classification Report:                precision    recall  f1-score   support\n",
      "\n",
      "         0.0       0.96      0.85      0.90       142\n",
      "         1.0       0.82      0.95      0.88       108\n",
      "\n",
      "    accuracy                           0.89       250\n",
      "   macro avg       0.89      0.90      0.89       250\n",
      "weighted avg       0.90      0.89      0.89       250\n",
      "\n"
     ]
    },
    {
     "data": {
      "text/plain": [
       "array([[120,  22],\n",
       "       [  5, 103]], dtype=int64)"
      ]
     },
     "execution_count": 54,
     "metadata": {},
     "output_type": "execute_result"
    }
   ],
   "source": [
    "# Predicting the results for test data\n",
    "\n",
    "from sklearn.metrics import confusion_matrix\n",
    "\n",
    "pred_test = Actual_model.predict(x_test)\n",
    "\n",
    "x_test['test_pred'] = np.zeros(250)\n",
    "\n",
    "x_test.loc[pred_test > optimal_threshold,'test_pred'] = 1\n",
    "\n",
    "report_test = classification_report(x_test.test_pred, y_test)\n",
    "print('Classification Report: ',report_test)\n",
    "\n",
    "confusion_matrix_test = confusion_matrix(x_test.test_pred, y_test)\n",
    "confusion_matrix_test"
   ]
  },
  {
   "cell_type": "code",
   "execution_count": 55,
   "id": "c549242a",
   "metadata": {},
   "outputs": [
    {
     "name": "stdout",
     "output_type": "stream",
     "text": [
      "Classification Report:                precision    recall  f1-score   support\n",
      "\n",
      "         0.0       0.96      0.84      0.89       430\n",
      "         1.0       0.81      0.95      0.88       320\n",
      "\n",
      "    accuracy                           0.89       750\n",
      "   macro avg       0.89      0.90      0.89       750\n",
      "weighted avg       0.90      0.89      0.89       750\n",
      "\n"
     ]
    },
    {
     "data": {
      "text/plain": [
       "array([[360,  70],\n",
       "       [ 15, 305]], dtype=int64)"
      ]
     },
     "execution_count": 55,
     "metadata": {},
     "output_type": "execute_result"
    }
   ],
   "source": [
    "# Predicting the results for train data\n",
    "\n",
    "from sklearn.metrics import confusion_matrix\n",
    "\n",
    "pred_train = Actual_model.predict(x_train)\n",
    "\n",
    "x_train['train_pred'] = np.zeros(750)\n",
    "\n",
    "x_train.loc[pred_train > optimal_threshold,'train_pred'] = 1\n",
    "\n",
    "report_train = classification_report(x_train.train_pred, y_train)\n",
    "print('Classification Report: ',report_train)\n",
    "\n",
    "confusion_matrix_train = confusion_matrix(x_train.train_pred, y_train)\n",
    "confusion_matrix_train"
   ]
  },
  {
   "cell_type": "code",
   "execution_count": 56,
   "id": "7c6934bd",
   "metadata": {},
   "outputs": [
    {
     "name": "stdout",
     "output_type": "stream",
     "text": [
      "Accuracy score for train data: 0.8866666666666667\n",
      "Accuracy score for test data: 0.892\n"
     ]
    }
   ],
   "source": [
    "from sklearn.metrics import accuracy_score\n",
    "\n",
    "acc_train = accuracy_score(x_train.train_pred, y_train)\n",
    "acc_test = accuracy_score(x_test.test_pred, y_test)\n",
    "\n",
    "print(f'Accuracy score for train data: {acc_train}')\n",
    "print(f'Accuracy score for test data: {acc_test}')"
   ]
  }
 ],
 "metadata": {
  "kernelspec": {
   "display_name": "Python 3 (ipykernel)",
   "language": "python",
   "name": "python3"
  },
  "language_info": {
   "codemirror_mode": {
    "name": "ipython",
    "version": 3
   },
   "file_extension": ".py",
   "mimetype": "text/x-python",
   "name": "python",
   "nbconvert_exporter": "python",
   "pygments_lexer": "ipython3",
   "version": "3.9.12"
  }
 },
 "nbformat": 4,
 "nbformat_minor": 5
}
