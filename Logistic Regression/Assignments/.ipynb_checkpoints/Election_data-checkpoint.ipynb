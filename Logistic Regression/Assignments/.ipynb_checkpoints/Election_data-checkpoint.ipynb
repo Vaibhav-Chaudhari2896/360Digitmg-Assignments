{
 "cells": [
  {
   "cell_type": "markdown",
   "id": "0c79d0e3",
   "metadata": {},
   "source": [
    "3. Perform Logistic Regression on the dataset to predict whether a candidate will win or lose the election based on factors like amount of money spent and popularity rank. "
   ]
  },
  {
   "cell_type": "code",
   "execution_count": 1,
   "id": "88cae1f0",
   "metadata": {},
   "outputs": [],
   "source": [
    "import pandas as pd\n",
    "import numpy as np\n",
    "import statsmodels as sm\n",
    "import matplotlib.pyplot as plt\n",
    "import seaborn as sns"
   ]
  },
  {
   "cell_type": "code",
   "execution_count": 2,
   "id": "e9c67ed7",
   "metadata": {},
   "outputs": [
    {
     "data": {
      "text/html": [
       "<div>\n",
       "<style scoped>\n",
       "    .dataframe tbody tr th:only-of-type {\n",
       "        vertical-align: middle;\n",
       "    }\n",
       "\n",
       "    .dataframe tbody tr th {\n",
       "        vertical-align: top;\n",
       "    }\n",
       "\n",
       "    .dataframe thead th {\n",
       "        text-align: right;\n",
       "    }\n",
       "</style>\n",
       "<table border=\"1\" class=\"dataframe\">\n",
       "  <thead>\n",
       "    <tr style=\"text-align: right;\">\n",
       "      <th></th>\n",
       "      <th>Election-id</th>\n",
       "      <th>Result</th>\n",
       "      <th>Year</th>\n",
       "      <th>Amount Spent</th>\n",
       "      <th>Popularity Rank</th>\n",
       "    </tr>\n",
       "  </thead>\n",
       "  <tbody>\n",
       "    <tr>\n",
       "      <th>0</th>\n",
       "      <td>NaN</td>\n",
       "      <td>NaN</td>\n",
       "      <td>NaN</td>\n",
       "      <td>NaN</td>\n",
       "      <td>NaN</td>\n",
       "    </tr>\n",
       "    <tr>\n",
       "      <th>1</th>\n",
       "      <td>122.0</td>\n",
       "      <td>0.0</td>\n",
       "      <td>32.0</td>\n",
       "      <td>3.81</td>\n",
       "      <td>3.0</td>\n",
       "    </tr>\n",
       "    <tr>\n",
       "      <th>2</th>\n",
       "      <td>315.0</td>\n",
       "      <td>1.0</td>\n",
       "      <td>48.0</td>\n",
       "      <td>6.32</td>\n",
       "      <td>2.0</td>\n",
       "    </tr>\n",
       "    <tr>\n",
       "      <th>3</th>\n",
       "      <td>201.0</td>\n",
       "      <td>1.0</td>\n",
       "      <td>51.0</td>\n",
       "      <td>3.67</td>\n",
       "      <td>1.0</td>\n",
       "    </tr>\n",
       "    <tr>\n",
       "      <th>4</th>\n",
       "      <td>965.0</td>\n",
       "      <td>0.0</td>\n",
       "      <td>40.0</td>\n",
       "      <td>2.93</td>\n",
       "      <td>4.0</td>\n",
       "    </tr>\n",
       "  </tbody>\n",
       "</table>\n",
       "</div>"
      ],
      "text/plain": [
       "   Election-id  Result  Year  Amount Spent  Popularity Rank\n",
       "0          NaN     NaN   NaN           NaN              NaN\n",
       "1        122.0     0.0  32.0          3.81              3.0\n",
       "2        315.0     1.0  48.0          6.32              2.0\n",
       "3        201.0     1.0  51.0          3.67              1.0\n",
       "4        965.0     0.0  40.0          2.93              4.0"
      ]
     },
     "execution_count": 2,
     "metadata": {},
     "output_type": "execute_result"
    }
   ],
   "source": [
    "data = pd.read_csv('C:/Users/vaibh/Desktop/360 Digitmg/Logistic Regression/Assignments/Election_data.csv')\n",
    "data.head()"
   ]
  },
  {
   "cell_type": "code",
   "execution_count": 3,
   "id": "e11f1eec",
   "metadata": {},
   "outputs": [
    {
     "data": {
      "text/plain": [
       "(11, 5)"
      ]
     },
     "execution_count": 3,
     "metadata": {},
     "output_type": "execute_result"
    }
   ],
   "source": [
    "# Dimensions of the dataset\n",
    "data.shape"
   ]
  },
  {
   "cell_type": "code",
   "execution_count": 4,
   "id": "7f8b2562",
   "metadata": {},
   "outputs": [
    {
     "data": {
      "text/plain": [
       "Election-id        1\n",
       "Result             1\n",
       "Year               1\n",
       "Amount Spent       1\n",
       "Popularity Rank    1\n",
       "dtype: int64"
      ]
     },
     "execution_count": 4,
     "metadata": {},
     "output_type": "execute_result"
    }
   ],
   "source": [
    "# Checking for null values\n",
    "data.isnull().sum()"
   ]
  },
  {
   "cell_type": "markdown",
   "id": "009404d6",
   "metadata": {},
   "source": [
    "    There is 1 null value"
   ]
  },
  {
   "cell_type": "code",
   "execution_count": 5,
   "id": "1907a8e8",
   "metadata": {},
   "outputs": [],
   "source": [
    "# Removing null values\n",
    "data.dropna(inplace=True)"
   ]
  },
  {
   "cell_type": "code",
   "execution_count": 6,
   "id": "932a572f",
   "metadata": {
    "scrolled": true
   },
   "outputs": [
    {
     "data": {
      "text/plain": [
       "0"
      ]
     },
     "execution_count": 6,
     "metadata": {},
     "output_type": "execute_result"
    }
   ],
   "source": [
    "data.duplicated().sum()"
   ]
  },
  {
   "cell_type": "markdown",
   "id": "17d28e54",
   "metadata": {},
   "source": [
    "    There are no duplicated values"
   ]
  },
  {
   "cell_type": "code",
   "execution_count": 7,
   "id": "1528b826",
   "metadata": {},
   "outputs": [
    {
     "data": {
      "text/html": [
       "<div>\n",
       "<style scoped>\n",
       "    .dataframe tbody tr th:only-of-type {\n",
       "        vertical-align: middle;\n",
       "    }\n",
       "\n",
       "    .dataframe tbody tr th {\n",
       "        vertical-align: top;\n",
       "    }\n",
       "\n",
       "    .dataframe thead th {\n",
       "        text-align: right;\n",
       "    }\n",
       "</style>\n",
       "<table border=\"1\" class=\"dataframe\">\n",
       "  <thead>\n",
       "    <tr style=\"text-align: right;\">\n",
       "      <th></th>\n",
       "      <th>count</th>\n",
       "      <th>mean</th>\n",
       "      <th>std</th>\n",
       "      <th>min</th>\n",
       "      <th>25%</th>\n",
       "      <th>50%</th>\n",
       "      <th>75%</th>\n",
       "      <th>max</th>\n",
       "    </tr>\n",
       "  </thead>\n",
       "  <tbody>\n",
       "    <tr>\n",
       "      <th>Election-id</th>\n",
       "      <td>10.0</td>\n",
       "      <td>451.600</td>\n",
       "      <td>304.266404</td>\n",
       "      <td>122.00</td>\n",
       "      <td>202.2500</td>\n",
       "      <td>362.500</td>\n",
       "      <td>710.25</td>\n",
       "      <td>965.00</td>\n",
       "    </tr>\n",
       "    <tr>\n",
       "      <th>Result</th>\n",
       "      <td>10.0</td>\n",
       "      <td>0.600</td>\n",
       "      <td>0.516398</td>\n",
       "      <td>0.00</td>\n",
       "      <td>0.0000</td>\n",
       "      <td>1.000</td>\n",
       "      <td>1.00</td>\n",
       "      <td>1.00</td>\n",
       "    </tr>\n",
       "    <tr>\n",
       "      <th>Year</th>\n",
       "      <td>10.0</td>\n",
       "      <td>43.300</td>\n",
       "      <td>6.912951</td>\n",
       "      <td>32.00</td>\n",
       "      <td>39.2500</td>\n",
       "      <td>43.000</td>\n",
       "      <td>49.50</td>\n",
       "      <td>52.00</td>\n",
       "    </tr>\n",
       "    <tr>\n",
       "      <th>Amount Spent</th>\n",
       "      <td>10.0</td>\n",
       "      <td>4.229</td>\n",
       "      <td>1.055351</td>\n",
       "      <td>2.93</td>\n",
       "      <td>3.6175</td>\n",
       "      <td>4.005</td>\n",
       "      <td>4.47</td>\n",
       "      <td>6.32</td>\n",
       "    </tr>\n",
       "    <tr>\n",
       "      <th>Popularity Rank</th>\n",
       "      <td>10.0</td>\n",
       "      <td>2.700</td>\n",
       "      <td>1.159502</td>\n",
       "      <td>1.00</td>\n",
       "      <td>2.0000</td>\n",
       "      <td>3.000</td>\n",
       "      <td>3.75</td>\n",
       "      <td>4.00</td>\n",
       "    </tr>\n",
       "  </tbody>\n",
       "</table>\n",
       "</div>"
      ],
      "text/plain": [
       "                 count     mean         std     min       25%      50%  \\\n",
       "Election-id       10.0  451.600  304.266404  122.00  202.2500  362.500   \n",
       "Result            10.0    0.600    0.516398    0.00    0.0000    1.000   \n",
       "Year              10.0   43.300    6.912951   32.00   39.2500   43.000   \n",
       "Amount Spent      10.0    4.229    1.055351    2.93    3.6175    4.005   \n",
       "Popularity Rank   10.0    2.700    1.159502    1.00    2.0000    3.000   \n",
       "\n",
       "                    75%     max  \n",
       "Election-id      710.25  965.00  \n",
       "Result             1.00    1.00  \n",
       "Year              49.50   52.00  \n",
       "Amount Spent       4.47    6.32  \n",
       "Popularity Rank    3.75    4.00  "
      ]
     },
     "execution_count": 7,
     "metadata": {},
     "output_type": "execute_result"
    }
   ],
   "source": [
    "# Descriptive Statistics\n",
    "data.describe().T"
   ]
  },
  {
   "cell_type": "code",
   "execution_count": 8,
   "id": "175e5bc3",
   "metadata": {},
   "outputs": [
    {
     "name": "stdout",
     "output_type": "stream",
     "text": [
      "<class 'pandas.core.frame.DataFrame'>\n",
      "Int64Index: 10 entries, 1 to 10\n",
      "Data columns (total 5 columns):\n",
      " #   Column           Non-Null Count  Dtype  \n",
      "---  ------           --------------  -----  \n",
      " 0   Election-id      10 non-null     float64\n",
      " 1   Result           10 non-null     float64\n",
      " 2   Year             10 non-null     float64\n",
      " 3   Amount Spent     10 non-null     float64\n",
      " 4   Popularity Rank  10 non-null     float64\n",
      "dtypes: float64(5)\n",
      "memory usage: 480.0 bytes\n"
     ]
    }
   ],
   "source": [
    "# Checking data types of features\n",
    "data.info()"
   ]
  },
  {
   "cell_type": "code",
   "execution_count": 9,
   "id": "741eb81f",
   "metadata": {},
   "outputs": [],
   "source": [
    "# Typecasting \n",
    "\n",
    "data.Result = data.Result.astype('int64')\n",
    "data['Popularity Rank'] = data['Popularity Rank'].astype('int64')"
   ]
  },
  {
   "cell_type": "code",
   "execution_count": 10,
   "id": "562d71b7",
   "metadata": {},
   "outputs": [],
   "source": [
    "# Dropping irrelevant features\n",
    "\n",
    "data.drop('Election-id',axis=1,inplace =True)"
   ]
  },
  {
   "cell_type": "code",
   "execution_count": 11,
   "id": "50a18284",
   "metadata": {},
   "outputs": [
    {
     "data": {
      "text/plain": [
       "<AxesSubplot:xlabel='Result', ylabel='count'>"
      ]
     },
     "execution_count": 11,
     "metadata": {},
     "output_type": "execute_result"
    },
    {
     "data": {
      "image/png": "[encoded data removed]",
      "text/plain": [
       "<Figure size 432x288 with 1 Axes>"
      ]
     },
     "metadata": {
      "needs_background": "light"
     },
     "output_type": "display_data"
    }
   ],
   "source": [
    "# Countplot of result\n",
    "sns.countplot(x = data.Result)"
   ]
  },
  {
   "cell_type": "code",
   "execution_count": 12,
   "id": "6b852d15",
   "metadata": {},
   "outputs": [
    {
     "data": {
      "text/plain": [
       "<AxesSubplot:xlabel='Popularity Rank', ylabel='count'>"
      ]
     },
     "execution_count": 12,
     "metadata": {},
     "output_type": "execute_result"
    },
    {
     "data": {
      "image/png": "[encoded data removed]",
      "text/plain": [
       "<Figure size 432x288 with 1 Axes>"
      ]
     },
     "metadata": {
      "needs_background": "light"
     },
     "output_type": "display_data"
    }
   ],
   "source": [
    "# Countplot of Popularity Rank\n",
    "sns.countplot(x = data['Popularity Rank'], hue = data.Result)"
   ]
  },
  {
   "cell_type": "code",
   "execution_count": 13,
   "id": "1d7bd8b4",
   "metadata": {},
   "outputs": [
    {
     "data": {
      "text/plain": [
       "<AxesSubplot:xlabel='Amount Spent', ylabel='count'>"
      ]
     },
     "execution_count": 13,
     "metadata": {},
     "output_type": "execute_result"
    },
    {
     "data": {
      "image/png": "[encoded data removed]",
      "text/plain": [
       "<Figure size 432x288 with 1 Axes>"
      ]
     },
     "metadata": {
      "needs_background": "light"
     },
     "output_type": "display_data"
    }
   ],
   "source": [
    "# Histplot for Amount Spent\n",
    "sns.countplot(x = data['Amount Spent'])"
   ]
  },
  {
   "cell_type": "code",
   "execution_count": 14,
   "id": "2599ee46",
   "metadata": {},
   "outputs": [
    {
     "data": {
      "text/plain": [
       "<AxesSubplot:xlabel='Amount Spent', ylabel='count'>"
      ]
     },
     "execution_count": 14,
     "metadata": {},
     "output_type": "execute_result"
    },
    {
     "data": {
      "image/png": "[encoded data removed]",
      "text/plain": [
       "<Figure size 432x288 with 1 Axes>"
      ]
     },
     "metadata": {
      "needs_background": "light"
     },
     "output_type": "display_data"
    }
   ],
   "source": [
    "# Countplot for Amount Spent\n",
    "sns.countplot(x = data['Amount Spent'])"
   ]
  },
  {
   "cell_type": "markdown",
   "id": "b45c98b9",
   "metadata": {},
   "source": [
    "    Majority of reuslts are 1\n",
    "    Based on popularity ranking, ranks 1,2,3 have more number of results as 1"
   ]
  },
  {
   "cell_type": "markdown",
   "id": "365378b6",
   "metadata": {},
   "source": [
    "# MODEL BUILDING"
   ]
  },
  {
   "cell_type": "code",
   "execution_count": 15,
   "id": "f84b6acb",
   "metadata": {
    "scrolled": true
   },
   "outputs": [
    {
     "data": {
      "text/plain": [
       "Index(['Result', 'Year', 'Amount Spent', 'Popularity Rank'], dtype='object')"
      ]
     },
     "execution_count": 15,
     "metadata": {},
     "output_type": "execute_result"
    }
   ],
   "source": [
    "# Checking columns in the dataset \n",
    "data.columns"
   ]
  },
  {
   "cell_type": "code",
   "execution_count": 16,
   "id": "384f7e93",
   "metadata": {},
   "outputs": [],
   "source": [
    "# Splitting into independent and depenedent variables\n",
    "\n",
    "cols = ['Amount Spent', 'Popularity Rank']\n",
    "x = data.loc[:,cols]\n",
    "y = data.Result"
   ]
  },
  {
   "cell_type": "code",
   "execution_count": 17,
   "id": "51aa999b",
   "metadata": {},
   "outputs": [],
   "source": [
    "# Adding a constant to the dataset\n",
    "from statsmodels.tools.tools import add_constant\n",
    "\n",
    "x_new = add_constant(x)"
   ]
  },
  {
   "cell_type": "code",
   "execution_count": 18,
   "id": "ee1f2d85",
   "metadata": {
    "scrolled": false
   },
   "outputs": [
    {
     "name": "stdout",
     "output_type": "stream",
     "text": [
      "Warning: Maximum number of iterations has been exceeded.\n",
      "         Current function value: 0.190883\n",
      "         Iterations: 35\n"
     ]
    },
    {
     "name": "stderr",
     "output_type": "stream",
     "text": [
      "E:\\ANACONDA\\lib\\site-packages\\statsmodels\\base\\model.py:604: ConvergenceWarning: Maximum Likelihood optimization failed to converge. Check mle_retvals\n",
      "  warnings.warn(\"Maximum Likelihood optimization failed to \"\n"
     ]
    },
    {
     "data": {
      "text/html": [
       "<table class=\"simpletable\">\n",
       "<caption>Logit Regression Results</caption>\n",
       "<tr>\n",
       "  <th>Dep. Variable:</th>        <td>Result</td>      <th>  No. Observations:  </th>  <td>    10</td> \n",
       "</tr>\n",
       "<tr>\n",
       "  <th>Model:</th>                 <td>Logit</td>      <th>  Df Residuals:      </th>  <td>     7</td> \n",
       "</tr>\n",
       "<tr>\n",
       "  <th>Method:</th>                 <td>MLE</td>       <th>  Df Model:          </th>  <td>     2</td> \n",
       "</tr>\n",
       "<tr>\n",
       "  <th>Date:</th>            <td>Sun, 31 Jul 2022</td> <th>  Pseudo R-squ.:     </th>  <td>0.7164</td> \n",
       "</tr>\n",
       "<tr>\n",
       "  <th>Time:</th>                <td>15:03:04</td>     <th>  Log-Likelihood:    </th> <td> -1.9088</td>\n",
       "</tr>\n",
       "<tr>\n",
       "  <th>converged:</th>             <td>False</td>      <th>  LL-Null:           </th> <td> -6.7301</td>\n",
       "</tr>\n",
       "<tr>\n",
       "  <th>Covariance Type:</th>     <td>nonrobust</td>    <th>  LLR p-value:       </th> <td>0.008056</td>\n",
       "</tr>\n",
       "</table>\n",
       "<table class=\"simpletable\">\n",
       "<tr>\n",
       "         <td></td>            <th>coef</th>     <th>std err</th>      <th>z</th>      <th>P>|z|</th>  <th>[0.025</th>    <th>0.975]</th>  \n",
       "</tr>\n",
       "<tr>\n",
       "  <th>const</th>           <td>   61.8529</td> <td> 2.79e+04</td> <td>    0.002</td> <td> 0.998</td> <td>-5.46e+04</td> <td> 5.47e+04</td>\n",
       "</tr>\n",
       "<tr>\n",
       "  <th>Amount Spent</th>    <td>   -0.1068</td> <td>    2.832</td> <td>   -0.038</td> <td> 0.970</td> <td>   -5.657</td> <td>    5.443</td>\n",
       "</tr>\n",
       "<tr>\n",
       "  <th>Popularity Rank</th> <td>  -20.2513</td> <td> 9290.085</td> <td>   -0.002</td> <td> 0.998</td> <td>-1.82e+04</td> <td> 1.82e+04</td>\n",
       "</tr>\n",
       "</table><br/><br/>Possibly complete quasi-separation: A fraction 0.70 of observations can be<br/>perfectly predicted. This might indicate that there is complete<br/>quasi-separation. In this case some parameters will not be identified."
      ],
      "text/plain": [
       "<class 'statsmodels.iolib.summary.Summary'>\n",
       "\"\"\"\n",
       "                           Logit Regression Results                           \n",
       "==============================================================================\n",
       "Dep. Variable:                 Result   No. Observations:                   10\n",
       "Model:                          Logit   Df Residuals:                        7\n",
       "Method:                           MLE   Df Model:                            2\n",
       "Date:                Sun, 31 Jul 2022   Pseudo R-squ.:                  0.7164\n",
       "Time:                        15:03:04   Log-Likelihood:                -1.9088\n",
       "converged:                      False   LL-Null:                       -6.7301\n",
       "Covariance Type:            nonrobust   LLR p-value:                  0.008056\n",
       "===================================================================================\n",
       "                      coef    std err          z      P>|z|      [0.025      0.975]\n",
       "-----------------------------------------------------------------------------------\n",
       "const              61.8529   2.79e+04      0.002      0.998   -5.46e+04    5.47e+04\n",
       "Amount Spent       -0.1068      2.832     -0.038      0.970      -5.657       5.443\n",
       "Popularity Rank   -20.2513   9290.085     -0.002      0.998   -1.82e+04    1.82e+04\n",
       "===================================================================================\n",
       "\n",
       "Possibly complete quasi-separation: A fraction 0.70 of observations can be\n",
       "perfectly predicted. This might indicate that there is complete\n",
       "quasi-separation. In this case some parameters will not be identified.\n",
       "\"\"\""
      ]
     },
     "execution_count": 18,
     "metadata": {},
     "output_type": "execute_result"
    }
   ],
   "source": [
    "# Performing Logistic Regression\n",
    "from statsmodels.api import Logit\n",
    "\n",
    "logit_model = Logit(y, x_new).fit()\n",
    "logit_model.summary()"
   ]
  },
  {
   "cell_type": "code",
   "execution_count": 19,
   "id": "334872db",
   "metadata": {},
   "outputs": [],
   "source": [
    "# Predicting the results \n",
    "\n",
    "pred = logit_model.predict(x_new)"
   ]
  },
  {
   "cell_type": "code",
   "execution_count": 20,
   "id": "bd40ff63",
   "metadata": {},
   "outputs": [
    {
     "data": {
      "text/plain": [
       "0.6793594455098977"
      ]
     },
     "execution_count": 20,
     "metadata": {},
     "output_type": "execute_result"
    }
   ],
   "source": [
    "# Finding the optimal threshold value \n",
    "from sklearn.metrics import roc_curve\n",
    "\n",
    "fpr, tpr, thresholds = roc_curve(y, pred)\n",
    "optimal_idx = np.argmax(tpr - fpr)\n",
    "optimal_threshold = thresholds[optimal_idx]\n",
    "optimal_threshold"
   ]
  },
  {
   "cell_type": "code",
   "execution_count": 21,
   "id": "679ef0d4",
   "metadata": {
    "scrolled": true
   },
   "outputs": [
    {
     "data": {
      "text/html": [
       "<div>\n",
       "<style scoped>\n",
       "    .dataframe tbody tr th:only-of-type {\n",
       "        vertical-align: middle;\n",
       "    }\n",
       "\n",
       "    .dataframe tbody tr th {\n",
       "        vertical-align: top;\n",
       "    }\n",
       "\n",
       "    .dataframe thead th {\n",
       "        text-align: right;\n",
       "    }\n",
       "</style>\n",
       "<table border=\"1\" class=\"dataframe\">\n",
       "  <thead>\n",
       "    <tr style=\"text-align: right;\">\n",
       "      <th></th>\n",
       "      <th>fpr</th>\n",
       "      <th>tpr</th>\n",
       "      <th>1-fpr</th>\n",
       "      <th>tf</th>\n",
       "      <th>thresholds</th>\n",
       "    </tr>\n",
       "  </thead>\n",
       "  <tbody>\n",
       "    <tr>\n",
       "      <th>3</th>\n",
       "      <td>0.25</td>\n",
       "      <td>0.833333</td>\n",
       "      <td>0.75</td>\n",
       "      <td>0.083333</td>\n",
       "      <td>0.666429</td>\n",
       "    </tr>\n",
       "  </tbody>\n",
       "</table>\n",
       "</div>"
      ],
      "text/plain": [
       "    fpr       tpr  1-fpr        tf  thresholds\n",
       "3  0.25  0.833333   0.75  0.083333    0.666429"
      ]
     },
     "execution_count": 21,
     "metadata": {},
     "output_type": "execute_result"
    }
   ],
   "source": [
    "import pylab as pl\n",
    "\n",
    "i = np.arange(len(tpr))\n",
    "roc = pd.DataFrame({'fpr' : pd.Series(fpr, index=i),\\\n",
    "                    'tpr' : pd.Series(tpr, index = i),\\\n",
    "                    '1-fpr' : pd.Series(1-fpr, index = i),\\\n",
    "                    'tf' : pd.Series(tpr - (1-fpr), index = i),\\\n",
    "                    'thresholds' : pd.Series(thresholds, index = i)})\n",
    "\n",
    "roc.iloc[(roc.tf-0).abs().argsort()[:1]]"
   ]
  },
  {
   "cell_type": "code",
   "execution_count": 22,
   "id": "ff4990f2",
   "metadata": {
    "scrolled": true
   },
   "outputs": [
    {
     "data": {
      "image/png": "[encoded data removed]",
      "text/plain": [
       "<Figure size 432x288 with 1 Axes>"
      ]
     },
     "metadata": {
      "needs_background": "light"
     },
     "output_type": "display_data"
    }
   ],
   "source": [
    "# Plot tpr vs 1-fpr\n",
    "\n",
    "fig, ax = plt.subplots()\n",
    "plt.plot(roc['tpr'], color = 'red')\n",
    "plt.plot(roc['1-fpr'], color = 'blue')\n",
    "plt.xlabel('1-False Positive Rate')\n",
    "plt.ylabel('True Positive Rate')\n",
    "plt.title('Receiver operating characteristic')\n",
    "ax.set_xticklabels([])\n",
    "plt.show()"
   ]
  },
  {
   "cell_type": "markdown",
   "id": "c62aedfe",
   "metadata": {},
   "source": [
    "The point where the two curves intersect gives us the optimal threshold point."
   ]
  },
  {
   "cell_type": "code",
   "execution_count": 23,
   "id": "63682b5e",
   "metadata": {
    "scrolled": true
   },
   "outputs": [
    {
     "name": "stdout",
     "output_type": "stream",
     "text": [
      "Area under the ROC curve : 0.958333\n"
     ]
    }
   ],
   "source": [
    "# Checking for area under the curve\n",
    "from sklearn.metrics import auc\n",
    "\n",
    "roc_auc = auc(fpr, tpr)\n",
    "print(\"Area under the ROC curve : %f\" % roc_auc)"
   ]
  },
  {
   "cell_type": "markdown",
   "id": "9ceb13af",
   "metadata": {},
   "source": [
    "We have a good AUC value of 95.8 %"
   ]
  },
  {
   "cell_type": "code",
   "execution_count": 24,
   "id": "4313eb84",
   "metadata": {},
   "outputs": [
    {
     "name": "stdout",
     "output_type": "stream",
     "text": [
      "              precision    recall  f1-score   support\n",
      "\n",
      "         0.0       1.00      0.67      0.80         6\n",
      "         1.0       0.67      1.00      0.80         4\n",
      "\n",
      "    accuracy                           0.80        10\n",
      "   macro avg       0.83      0.83      0.80        10\n",
      "weighted avg       0.87      0.80      0.80        10\n",
      "\n"
     ]
    }
   ],
   "source": [
    "# Filling all the cells with zeroes\n",
    "from sklearn.metrics import classification_report\n",
    "\n",
    "data[\"pred\"] = np.zeros(10)\n",
    "# taking threshold value and above the prob value will be treated as correct value \n",
    "data.loc[pred > optimal_threshold, \"pred\"] = 1\n",
    "# classification report\n",
    "classification = classification_report(data[\"pred\"], data.Result)\n",
    "print(classification)"
   ]
  },
  {
   "cell_type": "code",
   "execution_count": 34,
   "id": "c6ba1a39",
   "metadata": {},
   "outputs": [],
   "source": [
    "# Performing train test split\n",
    "\n",
    "from sklearn.model_selection import train_test_split \n",
    "x_train, x_test, y_train, y_test = train_test_split(x_new, y, test_size=0.5, stratify=y)"
   ]
  },
  {
   "cell_type": "code",
   "execution_count": 35,
   "id": "4cf3f01d",
   "metadata": {},
   "outputs": [
    {
     "data": {
      "text/plain": [
       "((5, 3), (5, 3), (5,), (5,))"
      ]
     },
     "execution_count": 35,
     "metadata": {},
     "output_type": "execute_result"
    }
   ],
   "source": [
    "# Checking the split\n",
    "x_train.shape, x_test.shape, y_train.shape, y_test.shape"
   ]
  },
  {
   "cell_type": "code",
   "execution_count": 36,
   "id": "94e1b0eb",
   "metadata": {},
   "outputs": [
    {
     "name": "stderr",
     "output_type": "stream",
     "text": [
      "E:\\ANACONDA\\lib\\site-packages\\statsmodels\\discrete\\discrete_model.py:1819: RuntimeWarning: overflow encountered in exp\n",
      "  return 1/(1+np.exp(-X))\n"
     ]
    },
    {
     "name": "stdout",
     "output_type": "stream",
     "text": [
      "Warning: Maximum number of iterations has been exceeded.\n",
      "         Current function value: 0.000000\n",
      "         Iterations: 35\n"
     ]
    },
    {
     "ename": "LinAlgError",
     "evalue": "Singular matrix",
     "output_type": "error",
     "traceback": [
      "\u001b[1;31m---------------------------------------------------------------------------\u001b[0m",
      "\u001b[1;31mLinAlgError\u001b[0m                               Traceback (most recent call last)",
      "Input \u001b[1;32mIn [36]\u001b[0m, in \u001b[0;36m<cell line: 3>\u001b[1;34m()\u001b[0m\n\u001b[0;32m      1\u001b[0m \u001b[38;5;66;03m# Performing Logistic Regression\u001b[39;00m\n\u001b[1;32m----> 3\u001b[0m Actual_model \u001b[38;5;241m=\u001b[39m \u001b[43mLogit\u001b[49m\u001b[43m(\u001b[49m\u001b[43my_train\u001b[49m\u001b[43m,\u001b[49m\u001b[43m \u001b[49m\u001b[43mx_train\u001b[49m\u001b[43m)\u001b[49m\u001b[38;5;241;43m.\u001b[39;49m\u001b[43mfit\u001b[49m\u001b[43m(\u001b[49m\u001b[43m)\u001b[49m\n\u001b[0;32m      4\u001b[0m Actual_model\u001b[38;5;241m.\u001b[39msummary()\n",
      "File \u001b[1;32mE:\\ANACONDA\\lib\\site-packages\\statsmodels\\discrete\\discrete_model.py:1983\u001b[0m, in \u001b[0;36mLogit.fit\u001b[1;34m(self, start_params, method, maxiter, full_output, disp, callback, **kwargs)\u001b[0m\n\u001b[0;32m   1980\u001b[0m \u001b[38;5;129m@Appender\u001b[39m(DiscreteModel\u001b[38;5;241m.\u001b[39mfit\u001b[38;5;241m.\u001b[39m\u001b[38;5;18m__doc__\u001b[39m)\n\u001b[0;32m   1981\u001b[0m \u001b[38;5;28;01mdef\u001b[39;00m \u001b[38;5;21mfit\u001b[39m(\u001b[38;5;28mself\u001b[39m, start_params\u001b[38;5;241m=\u001b[39m\u001b[38;5;28;01mNone\u001b[39;00m, method\u001b[38;5;241m=\u001b[39m\u001b[38;5;124m'\u001b[39m\u001b[38;5;124mnewton\u001b[39m\u001b[38;5;124m'\u001b[39m, maxiter\u001b[38;5;241m=\u001b[39m\u001b[38;5;241m35\u001b[39m,\n\u001b[0;32m   1982\u001b[0m         full_output\u001b[38;5;241m=\u001b[39m\u001b[38;5;241m1\u001b[39m, disp\u001b[38;5;241m=\u001b[39m\u001b[38;5;241m1\u001b[39m, callback\u001b[38;5;241m=\u001b[39m\u001b[38;5;28;01mNone\u001b[39;00m, \u001b[38;5;241m*\u001b[39m\u001b[38;5;241m*\u001b[39mkwargs):\n\u001b[1;32m-> 1983\u001b[0m     bnryfit \u001b[38;5;241m=\u001b[39m \u001b[38;5;28msuper\u001b[39m()\u001b[38;5;241m.\u001b[39mfit(start_params\u001b[38;5;241m=\u001b[39mstart_params,\n\u001b[0;32m   1984\u001b[0m                           method\u001b[38;5;241m=\u001b[39mmethod,\n\u001b[0;32m   1985\u001b[0m                           maxiter\u001b[38;5;241m=\u001b[39mmaxiter,\n\u001b[0;32m   1986\u001b[0m                           full_output\u001b[38;5;241m=\u001b[39mfull_output,\n\u001b[0;32m   1987\u001b[0m                           disp\u001b[38;5;241m=\u001b[39mdisp,\n\u001b[0;32m   1988\u001b[0m                           callback\u001b[38;5;241m=\u001b[39mcallback,\n\u001b[0;32m   1989\u001b[0m                           \u001b[38;5;241m*\u001b[39m\u001b[38;5;241m*\u001b[39mkwargs)\n\u001b[0;32m   1991\u001b[0m     discretefit \u001b[38;5;241m=\u001b[39m LogitResults(\u001b[38;5;28mself\u001b[39m, bnryfit)\n\u001b[0;32m   1992\u001b[0m     \u001b[38;5;28;01mreturn\u001b[39;00m BinaryResultsWrapper(discretefit)\n",
      "File \u001b[1;32mE:\\ANACONDA\\lib\\site-packages\\statsmodels\\discrete\\discrete_model.py:230\u001b[0m, in \u001b[0;36mDiscreteModel.fit\u001b[1;34m(self, start_params, method, maxiter, full_output, disp, callback, **kwargs)\u001b[0m\n\u001b[0;32m    227\u001b[0m \u001b[38;5;28;01melse\u001b[39;00m:\n\u001b[0;32m    228\u001b[0m     \u001b[38;5;28;01mpass\u001b[39;00m  \u001b[38;5;66;03m# TODO: make a function factory to have multiple call-backs\u001b[39;00m\n\u001b[1;32m--> 230\u001b[0m mlefit \u001b[38;5;241m=\u001b[39m \u001b[38;5;28msuper\u001b[39m()\u001b[38;5;241m.\u001b[39mfit(start_params\u001b[38;5;241m=\u001b[39mstart_params,\n\u001b[0;32m    231\u001b[0m                      method\u001b[38;5;241m=\u001b[39mmethod,\n\u001b[0;32m    232\u001b[0m                      maxiter\u001b[38;5;241m=\u001b[39mmaxiter,\n\u001b[0;32m    233\u001b[0m                      full_output\u001b[38;5;241m=\u001b[39mfull_output,\n\u001b[0;32m    234\u001b[0m                      disp\u001b[38;5;241m=\u001b[39mdisp,\n\u001b[0;32m    235\u001b[0m                      callback\u001b[38;5;241m=\u001b[39mcallback,\n\u001b[0;32m    236\u001b[0m                      \u001b[38;5;241m*\u001b[39m\u001b[38;5;241m*\u001b[39mkwargs)\n\u001b[0;32m    238\u001b[0m \u001b[38;5;28;01mreturn\u001b[39;00m mlefit\n",
      "File \u001b[1;32mE:\\ANACONDA\\lib\\site-packages\\statsmodels\\base\\model.py:579\u001b[0m, in \u001b[0;36mLikelihoodModel.fit\u001b[1;34m(self, start_params, method, maxiter, full_output, disp, fargs, callback, retall, skip_hessian, **kwargs)\u001b[0m\n\u001b[0;32m    577\u001b[0m     Hinv \u001b[38;5;241m=\u001b[39m cov_params_func(\u001b[38;5;28mself\u001b[39m, xopt, retvals)\n\u001b[0;32m    578\u001b[0m \u001b[38;5;28;01melif\u001b[39;00m method \u001b[38;5;241m==\u001b[39m \u001b[38;5;124m'\u001b[39m\u001b[38;5;124mnewton\u001b[39m\u001b[38;5;124m'\u001b[39m \u001b[38;5;129;01mand\u001b[39;00m full_output:\n\u001b[1;32m--> 579\u001b[0m     Hinv \u001b[38;5;241m=\u001b[39m \u001b[43mnp\u001b[49m\u001b[38;5;241;43m.\u001b[39;49m\u001b[43mlinalg\u001b[49m\u001b[38;5;241;43m.\u001b[39;49m\u001b[43minv\u001b[49m\u001b[43m(\u001b[49m\u001b[38;5;241;43m-\u001b[39;49m\u001b[43mretvals\u001b[49m\u001b[43m[\u001b[49m\u001b[38;5;124;43m'\u001b[39;49m\u001b[38;5;124;43mHessian\u001b[39;49m\u001b[38;5;124;43m'\u001b[39;49m\u001b[43m]\u001b[49m\u001b[43m)\u001b[49m \u001b[38;5;241m/\u001b[39m nobs\n\u001b[0;32m    580\u001b[0m \u001b[38;5;28;01melif\u001b[39;00m \u001b[38;5;129;01mnot\u001b[39;00m skip_hessian:\n\u001b[0;32m    581\u001b[0m     H \u001b[38;5;241m=\u001b[39m \u001b[38;5;241m-\u001b[39m\u001b[38;5;241m1\u001b[39m \u001b[38;5;241m*\u001b[39m \u001b[38;5;28mself\u001b[39m\u001b[38;5;241m.\u001b[39mhessian(xopt)\n",
      "File \u001b[1;32m<__array_function__ internals>:5\u001b[0m, in \u001b[0;36minv\u001b[1;34m(*args, **kwargs)\u001b[0m\n",
      "File \u001b[1;32mE:\\ANACONDA\\lib\\site-packages\\numpy\\linalg\\linalg.py:545\u001b[0m, in \u001b[0;36minv\u001b[1;34m(a)\u001b[0m\n\u001b[0;32m    543\u001b[0m signature \u001b[38;5;241m=\u001b[39m \u001b[38;5;124m'\u001b[39m\u001b[38;5;124mD->D\u001b[39m\u001b[38;5;124m'\u001b[39m \u001b[38;5;28;01mif\u001b[39;00m isComplexType(t) \u001b[38;5;28;01melse\u001b[39;00m \u001b[38;5;124m'\u001b[39m\u001b[38;5;124md->d\u001b[39m\u001b[38;5;124m'\u001b[39m\n\u001b[0;32m    544\u001b[0m extobj \u001b[38;5;241m=\u001b[39m get_linalg_error_extobj(_raise_linalgerror_singular)\n\u001b[1;32m--> 545\u001b[0m ainv \u001b[38;5;241m=\u001b[39m \u001b[43m_umath_linalg\u001b[49m\u001b[38;5;241;43m.\u001b[39;49m\u001b[43minv\u001b[49m\u001b[43m(\u001b[49m\u001b[43ma\u001b[49m\u001b[43m,\u001b[49m\u001b[43m \u001b[49m\u001b[43msignature\u001b[49m\u001b[38;5;241;43m=\u001b[39;49m\u001b[43msignature\u001b[49m\u001b[43m,\u001b[49m\u001b[43m \u001b[49m\u001b[43mextobj\u001b[49m\u001b[38;5;241;43m=\u001b[39;49m\u001b[43mextobj\u001b[49m\u001b[43m)\u001b[49m\n\u001b[0;32m    546\u001b[0m \u001b[38;5;28;01mreturn\u001b[39;00m wrap(ainv\u001b[38;5;241m.\u001b[39mastype(result_t, copy\u001b[38;5;241m=\u001b[39m\u001b[38;5;28;01mFalse\u001b[39;00m))\n",
      "File \u001b[1;32mE:\\ANACONDA\\lib\\site-packages\\numpy\\linalg\\linalg.py:88\u001b[0m, in \u001b[0;36m_raise_linalgerror_singular\u001b[1;34m(err, flag)\u001b[0m\n\u001b[0;32m     87\u001b[0m \u001b[38;5;28;01mdef\u001b[39;00m \u001b[38;5;21m_raise_linalgerror_singular\u001b[39m(err, flag):\n\u001b[1;32m---> 88\u001b[0m     \u001b[38;5;28;01mraise\u001b[39;00m LinAlgError(\u001b[38;5;124m\"\u001b[39m\u001b[38;5;124mSingular matrix\u001b[39m\u001b[38;5;124m\"\u001b[39m)\n",
      "\u001b[1;31mLinAlgError\u001b[0m: Singular matrix"
     ]
    }
   ],
   "source": [
    "# Performing Logistic Regression\n",
    "\n",
    "Actual_model = Logit(y_train, x_train).fit()\n",
    "Actual_model.summary()"
   ]
  },
  {
   "cell_type": "code",
   "execution_count": 31,
   "id": "16662d6a",
   "metadata": {},
   "outputs": [
    {
     "name": "stdout",
     "output_type": "stream",
     "text": [
      "Classification Report:                precision    recall  f1-score   support\n",
      "\n",
      "         0.0       0.00      0.00      0.00       2.0\n",
      "         1.0       0.00      0.00      0.00       1.0\n",
      "\n",
      "    accuracy                           0.00       3.0\n",
      "   macro avg       0.00      0.00      0.00       3.0\n",
      "weighted avg       0.00      0.00      0.00       3.0\n",
      "\n"
     ]
    },
    {
     "data": {
      "text/plain": [
       "array([[0, 2],\n",
       "       [1, 0]], dtype=int64)"
      ]
     },
     "execution_count": 31,
     "metadata": {},
     "output_type": "execute_result"
    }
   ],
   "source": [
    "# Predicting the results for test data\n",
    "\n",
    "from sklearn.metrics import confusion_matrix\n",
    "\n",
    "pred_test = Actual_model.predict(x_test)\n",
    "\n",
    "x_test['test_pred'] = np.zeros(3)\n",
    "\n",
    "x_test.loc[pred_test > optimal_threshold,'test_pred'] = 1\n",
    "\n",
    "report_test = classification_report(x_test.test_pred, y_test)\n",
    "print('Classification Report: ',report_test)\n",
    "\n",
    "confusion_matrix_test = confusion_matrix(x_test.test_pred, y_test)\n",
    "confusion_matrix_test"
   ]
  },
  {
   "cell_type": "code",
   "execution_count": 32,
   "id": "c549242a",
   "metadata": {},
   "outputs": [
    {
     "name": "stdout",
     "output_type": "stream",
     "text": [
      "Classification Report:                precision    recall  f1-score   support\n",
      "\n",
      "         0.0       0.00      0.00      0.00         3\n",
      "         1.0       0.25      0.25      0.25         4\n",
      "\n",
      "    accuracy                           0.14         7\n",
      "   macro avg       0.12      0.12      0.12         7\n",
      "weighted avg       0.14      0.14      0.14         7\n",
      "\n"
     ]
    },
    {
     "name": "stderr",
     "output_type": "stream",
     "text": [
      "E:\\ANACONDA\\lib\\site-packages\\statsmodels\\discrete\\discrete_model.py:1819: RuntimeWarning: overflow encountered in exp\n",
      "  return 1/(1+np.exp(-X))\n"
     ]
    },
    {
     "data": {
      "text/plain": [
       "array([[0, 3],\n",
       "       [3, 1]], dtype=int64)"
      ]
     },
     "execution_count": 32,
     "metadata": {},
     "output_type": "execute_result"
    }
   ],
   "source": [
    "# Predicting the results for train data\n",
    "\n",
    "from sklearn.metrics import confusion_matrix\n",
    "\n",
    "pred_train = Actual_model.predict(x_train)\n",
    "\n",
    "x_train['train_pred'] = np.zeros(7)\n",
    "\n",
    "x_train.loc[pred_train > optimal_threshold,'train_pred'] = 1\n",
    "\n",
    "report_train = classification_report(x_train.train_pred, y_train)\n",
    "print('Classification Report: ',report_train)\n",
    "\n",
    "confusion_matrix_train = confusion_matrix(x_train.train_pred, y_train)\n",
    "confusion_matrix_train"
   ]
  },
  {
   "cell_type": "code",
   "execution_count": 33,
   "id": "3ab6d87e",
   "metadata": {},
   "outputs": [
    {
     "name": "stdout",
     "output_type": "stream",
     "text": [
      "Accuracy score for train data: 0.14285714285714285\n",
      "Accuracy score for test data: 0.0\n"
     ]
    }
   ],
   "source": [
    "from sklearn.metrics import accuracy_score\n",
    "\n",
    "acc_train = accuracy_score(x_train.train_pred, y_train)\n",
    "acc_test = accuracy_score(x_test.test_pred, y_test)\n",
    "\n",
    "print(f'Accuracy score for train data: {acc_train}')\n",
    "print(f'Accuracy score for test data: {acc_test}')"
   ]
  }
 ],
 "metadata": {
  "kernelspec": {
   "display_name": "Python 3 (ipykernel)",
   "language": "python",
   "name": "python3"
  },
  "language_info": {
   "codemirror_mode": {
    "name": "ipython",
    "version": 3
   },
   "file_extension": ".py",
   "mimetype": "text/x-python",
   "name": "python",
   "nbconvert_exporter": "python",
   "pygments_lexer": "ipython3",
   "version": "3.9.12"
  }
 },
 "nbformat": 4,
 "nbformat_minor": 5
}
