{
 "cells": [
  {
   "cell_type": "markdown",
   "id": "0c79d0e3",
   "metadata": {},
   "source": [
    "1.\tA psychological study has been conducted by a team of students at a university on married couples to determine the cause of having an extra marital affair. They have surveyed and collected a sample of data on which they would like to do further analysis. Apply Logistic Regression on the data to correctly classify whether a given person will have an affair or not given the set of attributes. Convert the naffairs column to discrete binary type before proceeding with the algorithm."
   ]
  },
  {
   "cell_type": "code",
   "execution_count": 1,
   "id": "88cae1f0",
   "metadata": {},
   "outputs": [],
   "source": [
    "import pandas as pd\n",
    "import numpy as np\n",
    "import statsmodels as sm\n",
    "import matplotlib.pyplot as plt\n",
    "import seaborn as sns"
   ]
  },
  {
   "cell_type": "code",
   "execution_count": 2,
   "id": "e9c67ed7",
   "metadata": {},
   "outputs": [
    {
     "data": {
      "text/html": [
       "<div>\n",
       "<style scoped>\n",
       "    .dataframe tbody tr th:only-of-type {\n",
       "        vertical-align: middle;\n",
       "    }\n",
       "\n",
       "    .dataframe tbody tr th {\n",
       "        vertical-align: top;\n",
       "    }\n",
       "\n",
       "    .dataframe thead th {\n",
       "        text-align: right;\n",
       "    }\n",
       "</style>\n",
       "<table border=\"1\" class=\"dataframe\">\n",
       "  <thead>\n",
       "    <tr style=\"text-align: right;\">\n",
       "      <th></th>\n",
       "      <th>Unnamed: 0</th>\n",
       "      <th>naffairs</th>\n",
       "      <th>kids</th>\n",
       "      <th>vryunhap</th>\n",
       "      <th>unhap</th>\n",
       "      <th>avgmarr</th>\n",
       "      <th>hapavg</th>\n",
       "      <th>vryhap</th>\n",
       "      <th>antirel</th>\n",
       "      <th>notrel</th>\n",
       "      <th>slghtrel</th>\n",
       "      <th>smerel</th>\n",
       "      <th>vryrel</th>\n",
       "      <th>yrsmarr1</th>\n",
       "      <th>yrsmarr2</th>\n",
       "      <th>yrsmarr3</th>\n",
       "      <th>yrsmarr4</th>\n",
       "      <th>yrsmarr5</th>\n",
       "      <th>yrsmarr6</th>\n",
       "    </tr>\n",
       "  </thead>\n",
       "  <tbody>\n",
       "    <tr>\n",
       "      <th>0</th>\n",
       "      <td>1</td>\n",
       "      <td>0</td>\n",
       "      <td>0</td>\n",
       "      <td>0</td>\n",
       "      <td>0</td>\n",
       "      <td>0</td>\n",
       "      <td>1</td>\n",
       "      <td>0</td>\n",
       "      <td>0</td>\n",
       "      <td>0</td>\n",
       "      <td>1</td>\n",
       "      <td>0</td>\n",
       "      <td>0</td>\n",
       "      <td>0</td>\n",
       "      <td>0</td>\n",
       "      <td>0</td>\n",
       "      <td>0</td>\n",
       "      <td>1</td>\n",
       "      <td>0</td>\n",
       "    </tr>\n",
       "    <tr>\n",
       "      <th>1</th>\n",
       "      <td>2</td>\n",
       "      <td>0</td>\n",
       "      <td>0</td>\n",
       "      <td>0</td>\n",
       "      <td>0</td>\n",
       "      <td>0</td>\n",
       "      <td>1</td>\n",
       "      <td>0</td>\n",
       "      <td>0</td>\n",
       "      <td>0</td>\n",
       "      <td>0</td>\n",
       "      <td>1</td>\n",
       "      <td>0</td>\n",
       "      <td>0</td>\n",
       "      <td>0</td>\n",
       "      <td>1</td>\n",
       "      <td>0</td>\n",
       "      <td>0</td>\n",
       "      <td>0</td>\n",
       "    </tr>\n",
       "    <tr>\n",
       "      <th>2</th>\n",
       "      <td>3</td>\n",
       "      <td>3</td>\n",
       "      <td>0</td>\n",
       "      <td>0</td>\n",
       "      <td>0</td>\n",
       "      <td>0</td>\n",
       "      <td>1</td>\n",
       "      <td>0</td>\n",
       "      <td>0</td>\n",
       "      <td>0</td>\n",
       "      <td>1</td>\n",
       "      <td>0</td>\n",
       "      <td>0</td>\n",
       "      <td>0</td>\n",
       "      <td>1</td>\n",
       "      <td>0</td>\n",
       "      <td>0</td>\n",
       "      <td>0</td>\n",
       "      <td>0</td>\n",
       "    </tr>\n",
       "    <tr>\n",
       "      <th>3</th>\n",
       "      <td>4</td>\n",
       "      <td>0</td>\n",
       "      <td>1</td>\n",
       "      <td>0</td>\n",
       "      <td>0</td>\n",
       "      <td>0</td>\n",
       "      <td>1</td>\n",
       "      <td>0</td>\n",
       "      <td>1</td>\n",
       "      <td>0</td>\n",
       "      <td>0</td>\n",
       "      <td>0</td>\n",
       "      <td>0</td>\n",
       "      <td>0</td>\n",
       "      <td>0</td>\n",
       "      <td>0</td>\n",
       "      <td>0</td>\n",
       "      <td>0</td>\n",
       "      <td>1</td>\n",
       "    </tr>\n",
       "    <tr>\n",
       "      <th>4</th>\n",
       "      <td>5</td>\n",
       "      <td>3</td>\n",
       "      <td>1</td>\n",
       "      <td>0</td>\n",
       "      <td>0</td>\n",
       "      <td>0</td>\n",
       "      <td>0</td>\n",
       "      <td>1</td>\n",
       "      <td>0</td>\n",
       "      <td>0</td>\n",
       "      <td>1</td>\n",
       "      <td>0</td>\n",
       "      <td>0</td>\n",
       "      <td>0</td>\n",
       "      <td>0</td>\n",
       "      <td>1</td>\n",
       "      <td>0</td>\n",
       "      <td>0</td>\n",
       "      <td>0</td>\n",
       "    </tr>\n",
       "  </tbody>\n",
       "</table>\n",
       "</div>"
      ],
      "text/plain": [
       "   Unnamed: 0  naffairs  kids  vryunhap  unhap  avgmarr  hapavg  vryhap  \\\n",
       "0           1         0     0         0      0        0       1       0   \n",
       "1           2         0     0         0      0        0       1       0   \n",
       "2           3         3     0         0      0        0       1       0   \n",
       "3           4         0     1         0      0        0       1       0   \n",
       "4           5         3     1         0      0        0       0       1   \n",
       "\n",
       "   antirel  notrel  slghtrel  smerel  vryrel  yrsmarr1  yrsmarr2  yrsmarr3  \\\n",
       "0        0       0         1       0       0         0         0         0   \n",
       "1        0       0         0       1       0         0         0         1   \n",
       "2        0       0         1       0       0         0         1         0   \n",
       "3        1       0         0       0       0         0         0         0   \n",
       "4        0       0         1       0       0         0         0         1   \n",
       "\n",
       "   yrsmarr4  yrsmarr5  yrsmarr6  \n",
       "0         0         1         0  \n",
       "1         0         0         0  \n",
       "2         0         0         0  \n",
       "3         0         0         1  \n",
       "4         0         0         0  "
      ]
     },
     "execution_count": 2,
     "metadata": {},
     "output_type": "execute_result"
    }
   ],
   "source": [
    "data = pd.read_csv('C:/Users/vaibh/Desktop/360 Digitmg/Logistic Regression/Assignments/Affairs.csv')\n",
    "data.head()"
   ]
  },
  {
   "cell_type": "code",
   "execution_count": 3,
   "id": "ad8c10c8",
   "metadata": {},
   "outputs": [],
   "source": [
    "# Removing irrelevant features\n",
    "data.drop(columns=['Unnamed: 0'], inplace=True, axis=1)"
   ]
  },
  {
   "cell_type": "code",
   "execution_count": 4,
   "id": "e11f1eec",
   "metadata": {},
   "outputs": [
    {
     "data": {
      "text/plain": [
       "(601, 18)"
      ]
     },
     "execution_count": 4,
     "metadata": {},
     "output_type": "execute_result"
    }
   ],
   "source": [
    "# Dimensions of the dataset\n",
    "data.shape"
   ]
  },
  {
   "cell_type": "code",
   "execution_count": 5,
   "id": "7f8b2562",
   "metadata": {},
   "outputs": [
    {
     "data": {
      "text/plain": [
       "naffairs    0\n",
       "kids        0\n",
       "vryunhap    0\n",
       "unhap       0\n",
       "avgmarr     0\n",
       "hapavg      0\n",
       "vryhap      0\n",
       "antirel     0\n",
       "notrel      0\n",
       "slghtrel    0\n",
       "smerel      0\n",
       "vryrel      0\n",
       "yrsmarr1    0\n",
       "yrsmarr2    0\n",
       "yrsmarr3    0\n",
       "yrsmarr4    0\n",
       "yrsmarr5    0\n",
       "yrsmarr6    0\n",
       "dtype: int64"
      ]
     },
     "execution_count": 5,
     "metadata": {},
     "output_type": "execute_result"
    }
   ],
   "source": [
    "# Checking for null values\n",
    "data.isnull().sum()"
   ]
  },
  {
   "cell_type": "markdown",
   "id": "009404d6",
   "metadata": {},
   "source": [
    "    There are no null values"
   ]
  },
  {
   "cell_type": "code",
   "execution_count": 6,
   "id": "932a572f",
   "metadata": {
    "scrolled": true
   },
   "outputs": [
    {
     "data": {
      "text/plain": [
       "336"
      ]
     },
     "execution_count": 6,
     "metadata": {},
     "output_type": "execute_result"
    }
   ],
   "source": [
    "data.duplicated().sum()"
   ]
  },
  {
   "cell_type": "code",
   "execution_count": 7,
   "id": "4e864958",
   "metadata": {},
   "outputs": [],
   "source": [
    "data.drop_duplicates(keep='first', inplace=True, ignore_index=True)"
   ]
  },
  {
   "cell_type": "code",
   "execution_count": 8,
   "id": "1528b826",
   "metadata": {},
   "outputs": [
    {
     "data": {
      "text/html": [
       "<div>\n",
       "<style scoped>\n",
       "    .dataframe tbody tr th:only-of-type {\n",
       "        vertical-align: middle;\n",
       "    }\n",
       "\n",
       "    .dataframe tbody tr th {\n",
       "        vertical-align: top;\n",
       "    }\n",
       "\n",
       "    .dataframe thead th {\n",
       "        text-align: right;\n",
       "    }\n",
       "</style>\n",
       "<table border=\"1\" class=\"dataframe\">\n",
       "  <thead>\n",
       "    <tr style=\"text-align: right;\">\n",
       "      <th></th>\n",
       "      <th>count</th>\n",
       "      <th>mean</th>\n",
       "      <th>std</th>\n",
       "      <th>min</th>\n",
       "      <th>25%</th>\n",
       "      <th>50%</th>\n",
       "      <th>75%</th>\n",
       "      <th>max</th>\n",
       "    </tr>\n",
       "  </thead>\n",
       "  <tbody>\n",
       "    <tr>\n",
       "      <th>naffairs</th>\n",
       "      <td>265.0</td>\n",
       "      <td>2.811321</td>\n",
       "      <td>4.120609</td>\n",
       "      <td>0.0</td>\n",
       "      <td>0.0</td>\n",
       "      <td>0.0</td>\n",
       "      <td>7.0</td>\n",
       "      <td>12.0</td>\n",
       "    </tr>\n",
       "    <tr>\n",
       "      <th>kids</th>\n",
       "      <td>265.0</td>\n",
       "      <td>0.705660</td>\n",
       "      <td>0.456608</td>\n",
       "      <td>0.0</td>\n",
       "      <td>0.0</td>\n",
       "      <td>1.0</td>\n",
       "      <td>1.0</td>\n",
       "      <td>1.0</td>\n",
       "    </tr>\n",
       "    <tr>\n",
       "      <th>vryunhap</th>\n",
       "      <td>265.0</td>\n",
       "      <td>0.056604</td>\n",
       "      <td>0.231521</td>\n",
       "      <td>0.0</td>\n",
       "      <td>0.0</td>\n",
       "      <td>0.0</td>\n",
       "      <td>0.0</td>\n",
       "      <td>1.0</td>\n",
       "    </tr>\n",
       "    <tr>\n",
       "      <th>unhap</th>\n",
       "      <td>265.0</td>\n",
       "      <td>0.162264</td>\n",
       "      <td>0.369391</td>\n",
       "      <td>0.0</td>\n",
       "      <td>0.0</td>\n",
       "      <td>0.0</td>\n",
       "      <td>0.0</td>\n",
       "      <td>1.0</td>\n",
       "    </tr>\n",
       "    <tr>\n",
       "      <th>avgmarr</th>\n",
       "      <td>265.0</td>\n",
       "      <td>0.192453</td>\n",
       "      <td>0.394973</td>\n",
       "      <td>0.0</td>\n",
       "      <td>0.0</td>\n",
       "      <td>0.0</td>\n",
       "      <td>0.0</td>\n",
       "      <td>1.0</td>\n",
       "    </tr>\n",
       "    <tr>\n",
       "      <th>hapavg</th>\n",
       "      <td>265.0</td>\n",
       "      <td>0.294340</td>\n",
       "      <td>0.456608</td>\n",
       "      <td>0.0</td>\n",
       "      <td>0.0</td>\n",
       "      <td>0.0</td>\n",
       "      <td>1.0</td>\n",
       "      <td>1.0</td>\n",
       "    </tr>\n",
       "    <tr>\n",
       "      <th>vryhap</th>\n",
       "      <td>265.0</td>\n",
       "      <td>0.294340</td>\n",
       "      <td>0.456608</td>\n",
       "      <td>0.0</td>\n",
       "      <td>0.0</td>\n",
       "      <td>0.0</td>\n",
       "      <td>1.0</td>\n",
       "      <td>1.0</td>\n",
       "    </tr>\n",
       "    <tr>\n",
       "      <th>antirel</th>\n",
       "      <td>265.0</td>\n",
       "      <td>0.113208</td>\n",
       "      <td>0.317446</td>\n",
       "      <td>0.0</td>\n",
       "      <td>0.0</td>\n",
       "      <td>0.0</td>\n",
       "      <td>0.0</td>\n",
       "      <td>1.0</td>\n",
       "    </tr>\n",
       "    <tr>\n",
       "      <th>notrel</th>\n",
       "      <td>265.0</td>\n",
       "      <td>0.264151</td>\n",
       "      <td>0.441714</td>\n",
       "      <td>0.0</td>\n",
       "      <td>0.0</td>\n",
       "      <td>0.0</td>\n",
       "      <td>1.0</td>\n",
       "      <td>1.0</td>\n",
       "    </tr>\n",
       "    <tr>\n",
       "      <th>slghtrel</th>\n",
       "      <td>265.0</td>\n",
       "      <td>0.249057</td>\n",
       "      <td>0.433285</td>\n",
       "      <td>0.0</td>\n",
       "      <td>0.0</td>\n",
       "      <td>0.0</td>\n",
       "      <td>0.0</td>\n",
       "      <td>1.0</td>\n",
       "    </tr>\n",
       "    <tr>\n",
       "      <th>smerel</th>\n",
       "      <td>265.0</td>\n",
       "      <td>0.249057</td>\n",
       "      <td>0.433285</td>\n",
       "      <td>0.0</td>\n",
       "      <td>0.0</td>\n",
       "      <td>0.0</td>\n",
       "      <td>0.0</td>\n",
       "      <td>1.0</td>\n",
       "    </tr>\n",
       "    <tr>\n",
       "      <th>vryrel</th>\n",
       "      <td>265.0</td>\n",
       "      <td>0.124528</td>\n",
       "      <td>0.330808</td>\n",
       "      <td>0.0</td>\n",
       "      <td>0.0</td>\n",
       "      <td>0.0</td>\n",
       "      <td>0.0</td>\n",
       "      <td>1.0</td>\n",
       "    </tr>\n",
       "    <tr>\n",
       "      <th>yrsmarr1</th>\n",
       "      <td>265.0</td>\n",
       "      <td>0.086792</td>\n",
       "      <td>0.282063</td>\n",
       "      <td>0.0</td>\n",
       "      <td>0.0</td>\n",
       "      <td>0.0</td>\n",
       "      <td>0.0</td>\n",
       "      <td>1.0</td>\n",
       "    </tr>\n",
       "    <tr>\n",
       "      <th>yrsmarr2</th>\n",
       "      <td>265.0</td>\n",
       "      <td>0.135849</td>\n",
       "      <td>0.343277</td>\n",
       "      <td>0.0</td>\n",
       "      <td>0.0</td>\n",
       "      <td>0.0</td>\n",
       "      <td>0.0</td>\n",
       "      <td>1.0</td>\n",
       "    </tr>\n",
       "    <tr>\n",
       "      <th>yrsmarr3</th>\n",
       "      <td>265.0</td>\n",
       "      <td>0.192453</td>\n",
       "      <td>0.394973</td>\n",
       "      <td>0.0</td>\n",
       "      <td>0.0</td>\n",
       "      <td>0.0</td>\n",
       "      <td>0.0</td>\n",
       "      <td>1.0</td>\n",
       "    </tr>\n",
       "    <tr>\n",
       "      <th>yrsmarr4</th>\n",
       "      <td>265.0</td>\n",
       "      <td>0.166038</td>\n",
       "      <td>0.372819</td>\n",
       "      <td>0.0</td>\n",
       "      <td>0.0</td>\n",
       "      <td>0.0</td>\n",
       "      <td>0.0</td>\n",
       "      <td>1.0</td>\n",
       "    </tr>\n",
       "    <tr>\n",
       "      <th>yrsmarr5</th>\n",
       "      <td>265.0</td>\n",
       "      <td>0.139623</td>\n",
       "      <td>0.347251</td>\n",
       "      <td>0.0</td>\n",
       "      <td>0.0</td>\n",
       "      <td>0.0</td>\n",
       "      <td>0.0</td>\n",
       "      <td>1.0</td>\n",
       "    </tr>\n",
       "    <tr>\n",
       "      <th>yrsmarr6</th>\n",
       "      <td>265.0</td>\n",
       "      <td>0.279245</td>\n",
       "      <td>0.449477</td>\n",
       "      <td>0.0</td>\n",
       "      <td>0.0</td>\n",
       "      <td>0.0</td>\n",
       "      <td>1.0</td>\n",
       "      <td>1.0</td>\n",
       "    </tr>\n",
       "  </tbody>\n",
       "</table>\n",
       "</div>"
      ],
      "text/plain": [
       "          count      mean       std  min  25%  50%  75%   max\n",
       "naffairs  265.0  2.811321  4.120609  0.0  0.0  0.0  7.0  12.0\n",
       "kids      265.0  0.705660  0.456608  0.0  0.0  1.0  1.0   1.0\n",
       "vryunhap  265.0  0.056604  0.231521  0.0  0.0  0.0  0.0   1.0\n",
       "unhap     265.0  0.162264  0.369391  0.0  0.0  0.0  0.0   1.0\n",
       "avgmarr   265.0  0.192453  0.394973  0.0  0.0  0.0  0.0   1.0\n",
       "hapavg    265.0  0.294340  0.456608  0.0  0.0  0.0  1.0   1.0\n",
       "vryhap    265.0  0.294340  0.456608  0.0  0.0  0.0  1.0   1.0\n",
       "antirel   265.0  0.113208  0.317446  0.0  0.0  0.0  0.0   1.0\n",
       "notrel    265.0  0.264151  0.441714  0.0  0.0  0.0  1.0   1.0\n",
       "slghtrel  265.0  0.249057  0.433285  0.0  0.0  0.0  0.0   1.0\n",
       "smerel    265.0  0.249057  0.433285  0.0  0.0  0.0  0.0   1.0\n",
       "vryrel    265.0  0.124528  0.330808  0.0  0.0  0.0  0.0   1.0\n",
       "yrsmarr1  265.0  0.086792  0.282063  0.0  0.0  0.0  0.0   1.0\n",
       "yrsmarr2  265.0  0.135849  0.343277  0.0  0.0  0.0  0.0   1.0\n",
       "yrsmarr3  265.0  0.192453  0.394973  0.0  0.0  0.0  0.0   1.0\n",
       "yrsmarr4  265.0  0.166038  0.372819  0.0  0.0  0.0  0.0   1.0\n",
       "yrsmarr5  265.0  0.139623  0.347251  0.0  0.0  0.0  0.0   1.0\n",
       "yrsmarr6  265.0  0.279245  0.449477  0.0  0.0  0.0  1.0   1.0"
      ]
     },
     "execution_count": 8,
     "metadata": {},
     "output_type": "execute_result"
    }
   ],
   "source": [
    "# Descriptive Statistics\n",
    "data.describe().T"
   ]
  },
  {
   "cell_type": "code",
   "execution_count": 9,
   "id": "175e5bc3",
   "metadata": {},
   "outputs": [
    {
     "name": "stdout",
     "output_type": "stream",
     "text": [
      "<class 'pandas.core.frame.DataFrame'>\n",
      "RangeIndex: 265 entries, 0 to 264\n",
      "Data columns (total 18 columns):\n",
      " #   Column    Non-Null Count  Dtype\n",
      "---  ------    --------------  -----\n",
      " 0   naffairs  265 non-null    int64\n",
      " 1   kids      265 non-null    int64\n",
      " 2   vryunhap  265 non-null    int64\n",
      " 3   unhap     265 non-null    int64\n",
      " 4   avgmarr   265 non-null    int64\n",
      " 5   hapavg    265 non-null    int64\n",
      " 6   vryhap    265 non-null    int64\n",
      " 7   antirel   265 non-null    int64\n",
      " 8   notrel    265 non-null    int64\n",
      " 9   slghtrel  265 non-null    int64\n",
      " 10  smerel    265 non-null    int64\n",
      " 11  vryrel    265 non-null    int64\n",
      " 12  yrsmarr1  265 non-null    int64\n",
      " 13  yrsmarr2  265 non-null    int64\n",
      " 14  yrsmarr3  265 non-null    int64\n",
      " 15  yrsmarr4  265 non-null    int64\n",
      " 16  yrsmarr5  265 non-null    int64\n",
      " 17  yrsmarr6  265 non-null    int64\n",
      "dtypes: int64(18)\n",
      "memory usage: 37.4 KB\n"
     ]
    }
   ],
   "source": [
    "# Checking data types of features\n",
    "data.info()"
   ]
  },
  {
   "cell_type": "code",
   "execution_count": 10,
   "id": "5004b122",
   "metadata": {},
   "outputs": [
    {
     "data": {
      "text/plain": [
       "array([ 0,  3,  7, 12,  1,  2], dtype=int64)"
      ]
     },
     "execution_count": 10,
     "metadata": {},
     "output_type": "execute_result"
    }
   ],
   "source": [
    "# Unique values in naffairs feature\n",
    "data.naffairs.unique()"
   ]
  },
  {
   "cell_type": "code",
   "execution_count": 11,
   "id": "088a46a8",
   "metadata": {},
   "outputs": [],
   "source": [
    "# Converting discrete feature to binary\n",
    "data.naffairs = np.where(data.naffairs > 0,1,0)"
   ]
  },
  {
   "cell_type": "code",
   "execution_count": 12,
   "id": "51aa999b",
   "metadata": {},
   "outputs": [],
   "source": [
    "# Adding a constant to the dataset\n",
    "from statsmodels.tools.tools import add_constant\n",
    "\n",
    "data = add_constant(data)"
   ]
  },
  {
   "cell_type": "code",
   "execution_count": 13,
   "id": "c32e0cbd",
   "metadata": {},
   "outputs": [],
   "source": [
    "# Splitting into independent and depenedent variables\n",
    "x = data.drop('naffairs',axis=1)\n",
    "y = data.naffairs"
   ]
  },
  {
   "cell_type": "code",
   "execution_count": 14,
   "id": "ee1f2d85",
   "metadata": {
    "scrolled": false
   },
   "outputs": [
    {
     "name": "stdout",
     "output_type": "stream",
     "text": [
      "Optimization terminated successfully.\n",
      "         Current function value: 0.634765\n",
      "         Iterations 19\n"
     ]
    },
    {
     "data": {
      "text/html": [
       "<table class=\"simpletable\">\n",
       "<tr>\n",
       "        <td>Model:</td>              <td>Logit</td>      <td>Pseudo R-squared:</td>   <td>0.084</td>  \n",
       "</tr>\n",
       "<tr>\n",
       "  <td>Dependent Variable:</td>     <td>naffairs</td>           <td>AIC:</td>        <td>366.4253</td> \n",
       "</tr>\n",
       "<tr>\n",
       "         <td>Date:</td>        <td>2022-07-31 00:00</td>       <td>BIC:</td>        <td>420.1213</td> \n",
       "</tr>\n",
       "<tr>\n",
       "   <td>No. Observations:</td>         <td>265</td>        <td>Log-Likelihood:</td>   <td>-168.21</td> \n",
       "</tr>\n",
       "<tr>\n",
       "       <td>Df Model:</td>             <td>14</td>            <td>LL-Null:</td>       <td>-183.68</td> \n",
       "</tr>\n",
       "<tr>\n",
       "     <td>Df Residuals:</td>           <td>250</td>         <td>LLR p-value:</td>    <td>0.0056537</td>\n",
       "</tr>\n",
       "<tr>\n",
       "      <td>Converged:</td>           <td>1.0000</td>           <td>Scale:</td>        <td>1.0000</td>  \n",
       "</tr>\n",
       "<tr>\n",
       "    <td>No. Iterations:</td>        <td>19.0000</td>             <td></td>              <td></td>     \n",
       "</tr>\n",
       "</table>\n",
       "<table class=\"simpletable\">\n",
       "<tr>\n",
       "      <td></td>      <th>Coef.</th>    <th>Std.Err.</th>       <th>z</th>     <th>P>|z|</th>     <th>[0.025</th>        <th>0.975]</th>    \n",
       "</tr>\n",
       "<tr>\n",
       "  <th>const</th>    <td>-0.3411</td>      <td>nan</td>        <td>nan</td>     <td>nan</td>        <td>nan</td>           <td>nan</td>     \n",
       "</tr>\n",
       "<tr>\n",
       "  <th>kids</th>     <td>0.4655</td>     <td>0.3171</td>     <td>1.4680</td>  <td>0.1421</td>     <td>-0.1560</td>       <td>1.0870</td>    \n",
       "</tr>\n",
       "<tr>\n",
       "  <th>vryunhap</th> <td>-0.3969</td> <td>1775210.6079</td>  <td>-0.0000</td> <td>1.0000</td>  <td>-3479349.2534</td> <td>3479348.4596</td> \n",
       "</tr>\n",
       "<tr>\n",
       "  <th>unhap</th>    <td>0.5319</td>  <td>3077052.2535</td>  <td>0.0000</td>  <td>1.0000</td>  <td>-6030911.0636</td> <td>6030912.1274</td> \n",
       "</tr>\n",
       "<tr>\n",
       "  <th>avgmarr</th>  <td>-0.1089</td> <td>2068116.1964</td>  <td>-0.0000</td> <td>1.0000</td>  <td>-4053433.3696</td> <td>4053433.1519</td> \n",
       "</tr>\n",
       "<tr>\n",
       "  <th>hapavg</th>   <td>-0.1399</td> <td>3448733.9297</td>  <td>-0.0000</td> <td>1.0000</td>  <td>-6759394.4343</td> <td>6759394.1545</td> \n",
       "</tr>\n",
       "<tr>\n",
       "  <th>vryhap</th>   <td>-0.2273</td> <td>4092040.5681</td>  <td>-0.0000</td> <td>1.0000</td>  <td>-8020252.3641</td> <td>8020251.9094</td> \n",
       "</tr>\n",
       "<tr>\n",
       "  <th>antirel</th>  <td>0.3378</td>  <td>13855864.0000</td> <td>0.0000</td>  <td>1.0000</td> <td>-27156994.0769</td> <td>27156994.7525</td>\n",
       "</tr>\n",
       "<tr>\n",
       "  <th>notrel</th>   <td>0.0347</td>  <td>13855864.0000</td> <td>0.0000</td>  <td>1.0000</td> <td>-27156994.3800</td> <td>27156994.4494</td>\n",
       "</tr>\n",
       "<tr>\n",
       "  <th>slghtrel</th> <td>0.0903</td>  <td>13855864.0000</td> <td>0.0000</td>  <td>1.0000</td> <td>-27156994.3244</td> <td>27156994.5050</td>\n",
       "</tr>\n",
       "<tr>\n",
       "  <th>smerel</th>   <td>-0.2247</td> <td>13855864.0000</td> <td>-0.0000</td> <td>1.0000</td> <td>-27156994.6394</td> <td>27156994.1900</td>\n",
       "</tr>\n",
       "<tr>\n",
       "  <th>vryrel</th>   <td>-0.5792</td> <td>13855864.0000</td> <td>-0.0000</td> <td>1.0000</td> <td>-27156994.9939</td> <td>27156993.8355</td>\n",
       "</tr>\n",
       "<tr>\n",
       "  <th>yrsmarr1</th> <td>-0.9585</td> <td>12568816.0985</td> <td>-0.0000</td> <td>1.0000</td> <td>-24634427.8399</td> <td>24634425.9228</td>\n",
       "</tr>\n",
       "<tr>\n",
       "  <th>yrsmarr2</th> <td>-0.5005</td> <td>12568816.0985</td> <td>-0.0000</td> <td>1.0000</td> <td>-24634427.3819</td> <td>24634426.3809</td>\n",
       "</tr>\n",
       "<tr>\n",
       "  <th>yrsmarr3</th> <td>0.1169</td>  <td>12568816.0985</td> <td>0.0000</td>  <td>1.0000</td> <td>-24634426.7644</td> <td>24634426.9983</td>\n",
       "</tr>\n",
       "<tr>\n",
       "  <th>yrsmarr4</th> <td>0.0649</td>  <td>12568816.0985</td> <td>0.0000</td>  <td>1.0000</td> <td>-24634426.8165</td> <td>24634426.9462</td>\n",
       "</tr>\n",
       "<tr>\n",
       "  <th>yrsmarr5</th> <td>0.1725</td>  <td>12568816.0985</td> <td>0.0000</td>  <td>1.0000</td> <td>-24634426.7089</td> <td>24634427.0539</td>\n",
       "</tr>\n",
       "<tr>\n",
       "  <th>yrsmarr6</th> <td>0.7637</td>  <td>12568816.0985</td> <td>0.0000</td>  <td>1.0000</td> <td>-24634426.1177</td> <td>24634427.6450</td>\n",
       "</tr>\n",
       "</table>"
      ],
      "text/plain": [
       "<class 'statsmodels.iolib.summary2.Summary'>\n",
       "\"\"\"\n",
       "                              Results: Logit\n",
       "==========================================================================\n",
       "Model:                  Logit               Pseudo R-squared:    0.084    \n",
       "Dependent Variable:     naffairs            AIC:                 366.4253 \n",
       "Date:                   2022-07-31 00:00    BIC:                 420.1213 \n",
       "No. Observations:       265                 Log-Likelihood:      -168.21  \n",
       "Df Model:               14                  LL-Null:             -183.68  \n",
       "Df Residuals:           250                 LLR p-value:         0.0056537\n",
       "Converged:              1.0000              Scale:               1.0000   \n",
       "No. Iterations:         19.0000                                           \n",
       "--------------------------------------------------------------------------\n",
       "          Coef.     Std.Err.      z    P>|z|      [0.025         0.975]   \n",
       "--------------------------------------------------------------------------\n",
       "const    -0.3411           nan     nan    nan            nan           nan\n",
       "kids      0.4655        0.3171  1.4680 0.1421        -0.1560        1.0870\n",
       "vryunhap -0.3969  1775210.6079 -0.0000 1.0000  -3479349.2534  3479348.4596\n",
       "unhap     0.5319  3077052.2535  0.0000 1.0000  -6030911.0636  6030912.1274\n",
       "avgmarr  -0.1089  2068116.1964 -0.0000 1.0000  -4053433.3696  4053433.1519\n",
       "hapavg   -0.1399  3448733.9297 -0.0000 1.0000  -6759394.4343  6759394.1545\n",
       "vryhap   -0.2273  4092040.5681 -0.0000 1.0000  -8020252.3641  8020251.9094\n",
       "antirel   0.3378 13855864.0000  0.0000 1.0000 -27156994.0769 27156994.7525\n",
       "notrel    0.0347 13855864.0000  0.0000 1.0000 -27156994.3800 27156994.4494\n",
       "slghtrel  0.0903 13855864.0000  0.0000 1.0000 -27156994.3244 27156994.5050\n",
       "smerel   -0.2247 13855864.0000 -0.0000 1.0000 -27156994.6394 27156994.1900\n",
       "vryrel   -0.5792 13855864.0000 -0.0000 1.0000 -27156994.9939 27156993.8355\n",
       "yrsmarr1 -0.9585 12568816.0985 -0.0000 1.0000 -24634427.8399 24634425.9228\n",
       "yrsmarr2 -0.5005 12568816.0985 -0.0000 1.0000 -24634427.3819 24634426.3809\n",
       "yrsmarr3  0.1169 12568816.0985  0.0000 1.0000 -24634426.7644 24634426.9983\n",
       "yrsmarr4  0.0649 12568816.0985  0.0000 1.0000 -24634426.8165 24634426.9462\n",
       "yrsmarr5  0.1725 12568816.0985  0.0000 1.0000 -24634426.7089 24634427.0539\n",
       "yrsmarr6  0.7637 12568816.0985  0.0000 1.0000 -24634426.1177 24634427.6450\n",
       "==========================================================================\n",
       "\n",
       "\"\"\""
      ]
     },
     "execution_count": 14,
     "metadata": {},
     "output_type": "execute_result"
    }
   ],
   "source": [
    "# Performing Logistic Regression\n",
    "from statsmodels.api import Logit\n",
    "\n",
    "logit_model = Logit(y, x).fit()\n",
    "logit_model.summary2()"
   ]
  },
  {
   "cell_type": "code",
   "execution_count": 15,
   "id": "334872db",
   "metadata": {},
   "outputs": [],
   "source": [
    "# Predicting the results \n",
    "\n",
    "pred = logit_model.predict(x)"
   ]
  },
  {
   "cell_type": "code",
   "execution_count": 16,
   "id": "bd40ff63",
   "metadata": {},
   "outputs": [
    {
     "data": {
      "text/plain": [
       "0.5150762885318197"
      ]
     },
     "execution_count": 16,
     "metadata": {},
     "output_type": "execute_result"
    }
   ],
   "source": [
    "# Finding the optimal threshold value \n",
    "from sklearn.metrics import roc_curve\n",
    "\n",
    "fpr, tpr, thresholds = roc_curve(y, pred)\n",
    "optimal_idx = np.argmax(tpr - fpr)\n",
    "optimal_threshold = thresholds[optimal_idx]\n",
    "optimal_threshold"
   ]
  },
  {
   "cell_type": "code",
   "execution_count": 17,
   "id": "679ef0d4",
   "metadata": {
    "scrolled": true
   },
   "outputs": [
    {
     "data": {
      "text/html": [
       "<div>\n",
       "<style scoped>\n",
       "    .dataframe tbody tr th:only-of-type {\n",
       "        vertical-align: middle;\n",
       "    }\n",
       "\n",
       "    .dataframe tbody tr th {\n",
       "        vertical-align: top;\n",
       "    }\n",
       "\n",
       "    .dataframe thead th {\n",
       "        text-align: right;\n",
       "    }\n",
       "</style>\n",
       "<table border=\"1\" class=\"dataframe\">\n",
       "  <thead>\n",
       "    <tr style=\"text-align: right;\">\n",
       "      <th></th>\n",
       "      <th>fpr</th>\n",
       "      <th>tpr</th>\n",
       "      <th>1-fpr</th>\n",
       "      <th>tf</th>\n",
       "      <th>thresholds</th>\n",
       "    </tr>\n",
       "  </thead>\n",
       "  <tbody>\n",
       "    <tr>\n",
       "      <th>49</th>\n",
       "      <td>0.338346</td>\n",
       "      <td>0.659091</td>\n",
       "      <td>0.661654</td>\n",
       "      <td>-0.002563</td>\n",
       "      <td>0.515076</td>\n",
       "    </tr>\n",
       "  </tbody>\n",
       "</table>\n",
       "</div>"
      ],
      "text/plain": [
       "         fpr       tpr     1-fpr        tf  thresholds\n",
       "49  0.338346  0.659091  0.661654 -0.002563    0.515076"
      ]
     },
     "execution_count": 17,
     "metadata": {},
     "output_type": "execute_result"
    }
   ],
   "source": [
    "import pylab as pl\n",
    "\n",
    "i = np.arange(len(tpr))\n",
    "roc = pd.DataFrame({'fpr' : pd.Series(fpr, index=i),\\\n",
    "                    'tpr' : pd.Series(tpr, index = i),\\\n",
    "                    '1-fpr' : pd.Series(1-fpr, index = i),\\\n",
    "                    'tf' : pd.Series(tpr - (1-fpr), index = i),\\\n",
    "                    'thresholds' : pd.Series(thresholds, index = i)})\n",
    "\n",
    "roc.iloc[(roc.tf-0).abs().argsort()[:1]]"
   ]
  },
  {
   "cell_type": "code",
   "execution_count": 18,
   "id": "ff4990f2",
   "metadata": {
    "scrolled": true
   },
   "outputs": [
    {
     "data": {
      "image/png": "[encoded data removed]",
      "text/plain": [
       "<Figure size 432x288 with 1 Axes>"
      ]
     },
     "metadata": {
      "needs_background": "light"
     },
     "output_type": "display_data"
    }
   ],
   "source": [
    "# Plot tpr vs 1-fpr\n",
    "\n",
    "fig, ax = plt.subplots()\n",
    "plt.plot(roc['tpr'], color = 'red')\n",
    "plt.plot(roc['1-fpr'], color = 'blue')\n",
    "plt.xlabel('1-False Positive Rate')\n",
    "plt.ylabel('True Positive Rate')\n",
    "plt.title('Receiver operating characteristic')\n",
    "ax.set_xticklabels([])\n",
    "plt.show()"
   ]
  },
  {
   "cell_type": "markdown",
   "id": "c62aedfe",
   "metadata": {},
   "source": [
    "The point where the two curves intersect gives us the optimal threshold point."
   ]
  },
  {
   "cell_type": "code",
   "execution_count": 19,
   "id": "63682b5e",
   "metadata": {
    "scrolled": true
   },
   "outputs": [
    {
     "name": "stdout",
     "output_type": "stream",
     "text": [
      "Area under the ROC curve : 0.693638\n"
     ]
    }
   ],
   "source": [
    "# Checking for area under the curve\n",
    "from sklearn.metrics import auc\n",
    "\n",
    "roc_auc = auc(fpr, tpr)\n",
    "print(\"Area under the ROC curve : %f\" % roc_auc)"
   ]
  },
  {
   "cell_type": "markdown",
   "id": "9ceb13af",
   "metadata": {},
   "source": [
    "We have a good AUC value of 70%"
   ]
  },
  {
   "cell_type": "code",
   "execution_count": 20,
   "id": "4313eb84",
   "metadata": {},
   "outputs": [
    {
     "name": "stdout",
     "output_type": "stream",
     "text": [
      "              precision    recall  f1-score   support\n",
      "\n",
      "         0.0       0.66      0.66      0.66       134\n",
      "         1.0       0.65      0.66      0.65       131\n",
      "\n",
      "    accuracy                           0.66       265\n",
      "   macro avg       0.66      0.66      0.66       265\n",
      "weighted avg       0.66      0.66      0.66       265\n",
      "\n"
     ]
    }
   ],
   "source": [
    "# Filling all the cells with zeroes\n",
    "from sklearn.metrics import classification_report\n",
    "\n",
    "data[\"pred\"] = np.zeros(265)\n",
    "# taking threshold value and above the prob value will be treated as correct value \n",
    "data.loc[pred > optimal_threshold, \"pred\"] = 1\n",
    "# classification report\n",
    "classification = classification_report(data[\"pred\"], data.naffairs)\n",
    "print(classification)"
   ]
  },
  {
   "cell_type": "code",
   "execution_count": 21,
   "id": "bd9271ea",
   "metadata": {},
   "outputs": [],
   "source": [
    "# cols = x.columns\n",
    "# def back_feature_elem (data_frame,dep_var,col_list):\n",
    "\n",
    "#     while len(col_list) > 0 :\n",
    "#         model = Logit(dep_var,data_frame[col_list])\n",
    "#         result = model.fit(disp=0)\n",
    "        \n",
    "#         largest_pvalue=round(result.pvalues,3).nlargest(1)\n",
    "#         if largest_pvalue[0]<(0.05):\n",
    "#             return result\n",
    "#             break\n",
    "#         else:\n",
    "#             col_list=col_list.drop(largest_pvalue.index)\n",
    "\n",
    "# result = back_feature_elem(x, y, cols)"
   ]
  },
  {
   "cell_type": "code",
   "execution_count": 22,
   "id": "c6ba1a39",
   "metadata": {},
   "outputs": [],
   "source": [
    "# Performing train test split\n",
    "\n",
    "from sklearn.model_selection import train_test_split \n",
    "x_train, x_test, y_train, y_test = train_test_split(x, y, test_size=0.25, stratify=y)"
   ]
  },
  {
   "cell_type": "code",
   "execution_count": 23,
   "id": "4cf3f01d",
   "metadata": {},
   "outputs": [
    {
     "data": {
      "text/plain": [
       "((198, 18), (67, 18), (198,), (67,))"
      ]
     },
     "execution_count": 23,
     "metadata": {},
     "output_type": "execute_result"
    }
   ],
   "source": [
    "# Checking the split\n",
    "x_train.shape, x_test.shape, y_train.shape, y_test.shape"
   ]
  },
  {
   "cell_type": "code",
   "execution_count": 24,
   "id": "94e1b0eb",
   "metadata": {},
   "outputs": [
    {
     "name": "stdout",
     "output_type": "stream",
     "text": [
      "Optimization terminated successfully.\n",
      "         Current function value: 0.628063\n",
      "         Iterations 18\n"
     ]
    },
    {
     "data": {
      "text/html": [
       "<table class=\"simpletable\">\n",
       "<caption>Logit Regression Results</caption>\n",
       "<tr>\n",
       "  <th>Dep. Variable:</th>       <td>naffairs</td>     <th>  No. Observations:  </th>  <td>   198</td> \n",
       "</tr>\n",
       "<tr>\n",
       "  <th>Model:</th>                 <td>Logit</td>      <th>  Df Residuals:      </th>  <td>   183</td> \n",
       "</tr>\n",
       "<tr>\n",
       "  <th>Method:</th>                 <td>MLE</td>       <th>  Df Model:          </th>  <td>    14</td> \n",
       "</tr>\n",
       "<tr>\n",
       "  <th>Date:</th>            <td>Sun, 31 Jul 2022</td> <th>  Pseudo R-squ.:     </th>  <td>0.09390</td>\n",
       "</tr>\n",
       "<tr>\n",
       "  <th>Time:</th>                <td>00:00:25</td>     <th>  Log-Likelihood:    </th> <td> -124.36</td>\n",
       "</tr>\n",
       "<tr>\n",
       "  <th>converged:</th>             <td>True</td>       <th>  LL-Null:           </th> <td> -137.24</td>\n",
       "</tr>\n",
       "<tr>\n",
       "  <th>Covariance Type:</th>     <td>nonrobust</td>    <th>  LLR p-value:       </th>  <td>0.02766</td>\n",
       "</tr>\n",
       "</table>\n",
       "<table class=\"simpletable\">\n",
       "<tr>\n",
       "      <td></td>        <th>coef</th>     <th>std err</th>      <th>z</th>      <th>P>|z|</th>  <th>[0.025</th>    <th>0.975]</th>  \n",
       "</tr>\n",
       "<tr>\n",
       "  <th>const</th>    <td>   -0.2783</td> <td> 4.25e+07</td> <td>-6.55e-09</td> <td> 1.000</td> <td>-8.33e+07</td> <td> 8.33e+07</td>\n",
       "</tr>\n",
       "<tr>\n",
       "  <th>kids</th>     <td>    0.5483</td> <td>    0.371</td> <td>    1.478</td> <td> 0.139</td> <td>   -0.179</td> <td>    1.275</td>\n",
       "</tr>\n",
       "<tr>\n",
       "  <th>vryunhap</th> <td>   -0.1986</td> <td> 2.05e+07</td> <td> -9.7e-09</td> <td> 1.000</td> <td>-4.02e+07</td> <td> 4.02e+07</td>\n",
       "</tr>\n",
       "<tr>\n",
       "  <th>unhap</th>    <td>    0.4736</td> <td> 2.18e+07</td> <td> 2.18e-08</td> <td> 1.000</td> <td>-4.26e+07</td> <td> 4.26e+07</td>\n",
       "</tr>\n",
       "<tr>\n",
       "  <th>avgmarr</th>  <td>   -0.0258</td> <td> 2.13e+07</td> <td>-1.21e-09</td> <td> 1.000</td> <td>-4.18e+07</td> <td> 4.18e+07</td>\n",
       "</tr>\n",
       "<tr>\n",
       "  <th>hapavg</th>   <td>   -0.2885</td> <td> 1.91e+07</td> <td>-1.51e-08</td> <td> 1.000</td> <td>-3.74e+07</td> <td> 3.74e+07</td>\n",
       "</tr>\n",
       "<tr>\n",
       "  <th>vryhap</th>   <td>   -0.2388</td> <td> 1.96e+07</td> <td>-1.22e-08</td> <td> 1.000</td> <td>-3.84e+07</td> <td> 3.84e+07</td>\n",
       "</tr>\n",
       "<tr>\n",
       "  <th>antirel</th>  <td>    0.4918</td> <td>      nan</td> <td>      nan</td> <td>   nan</td> <td>      nan</td> <td>      nan</td>\n",
       "</tr>\n",
       "<tr>\n",
       "  <th>notrel</th>   <td>    0.1624</td> <td>      nan</td> <td>      nan</td> <td>   nan</td> <td>      nan</td> <td>      nan</td>\n",
       "</tr>\n",
       "<tr>\n",
       "  <th>slghtrel</th> <td>   -0.0668</td> <td>      nan</td> <td>      nan</td> <td>   nan</td> <td>      nan</td> <td>      nan</td>\n",
       "</tr>\n",
       "<tr>\n",
       "  <th>smerel</th>   <td>   -0.5007</td> <td>      nan</td> <td>      nan</td> <td>   nan</td> <td>      nan</td> <td>      nan</td>\n",
       "</tr>\n",
       "<tr>\n",
       "  <th>vryrel</th>   <td>   -0.3649</td> <td>      nan</td> <td>      nan</td> <td>   nan</td> <td>      nan</td> <td>      nan</td>\n",
       "</tr>\n",
       "<tr>\n",
       "  <th>yrsmarr1</th> <td>   -0.8866</td> <td> 1.35e+07</td> <td>-6.55e-08</td> <td> 1.000</td> <td>-2.65e+07</td> <td> 2.65e+07</td>\n",
       "</tr>\n",
       "<tr>\n",
       "  <th>yrsmarr2</th> <td>   -0.4453</td> <td> 1.35e+07</td> <td>-3.29e-08</td> <td> 1.000</td> <td>-2.65e+07</td> <td> 2.65e+07</td>\n",
       "</tr>\n",
       "<tr>\n",
       "  <th>yrsmarr3</th> <td>   -0.1768</td> <td> 1.35e+07</td> <td>-1.31e-08</td> <td> 1.000</td> <td>-2.65e+07</td> <td> 2.65e+07</td>\n",
       "</tr>\n",
       "<tr>\n",
       "  <th>yrsmarr4</th> <td>    0.2669</td> <td> 1.35e+07</td> <td> 1.97e-08</td> <td> 1.000</td> <td>-2.65e+07</td> <td> 2.65e+07</td>\n",
       "</tr>\n",
       "<tr>\n",
       "  <th>yrsmarr5</th> <td>    0.1733</td> <td> 1.35e+07</td> <td> 1.28e-08</td> <td> 1.000</td> <td>-2.65e+07</td> <td> 2.65e+07</td>\n",
       "</tr>\n",
       "<tr>\n",
       "  <th>yrsmarr6</th> <td>    0.7902</td> <td> 1.35e+07</td> <td> 5.83e-08</td> <td> 1.000</td> <td>-2.65e+07</td> <td> 2.65e+07</td>\n",
       "</tr>\n",
       "</table>"
      ],
      "text/plain": [
       "<class 'statsmodels.iolib.summary.Summary'>\n",
       "\"\"\"\n",
       "                           Logit Regression Results                           \n",
       "==============================================================================\n",
       "Dep. Variable:               naffairs   No. Observations:                  198\n",
       "Model:                          Logit   Df Residuals:                      183\n",
       "Method:                           MLE   Df Model:                           14\n",
       "Date:                Sun, 31 Jul 2022   Pseudo R-squ.:                 0.09390\n",
       "Time:                        00:00:25   Log-Likelihood:                -124.36\n",
       "converged:                       True   LL-Null:                       -137.24\n",
       "Covariance Type:            nonrobust   LLR p-value:                   0.02766\n",
       "==============================================================================\n",
       "                 coef    std err          z      P>|z|      [0.025      0.975]\n",
       "------------------------------------------------------------------------------\n",
       "const         -0.2783   4.25e+07  -6.55e-09      1.000   -8.33e+07    8.33e+07\n",
       "kids           0.5483      0.371      1.478      0.139      -0.179       1.275\n",
       "vryunhap      -0.1986   2.05e+07   -9.7e-09      1.000   -4.02e+07    4.02e+07\n",
       "unhap          0.4736   2.18e+07   2.18e-08      1.000   -4.26e+07    4.26e+07\n",
       "avgmarr       -0.0258   2.13e+07  -1.21e-09      1.000   -4.18e+07    4.18e+07\n",
       "hapavg        -0.2885   1.91e+07  -1.51e-08      1.000   -3.74e+07    3.74e+07\n",
       "vryhap        -0.2388   1.96e+07  -1.22e-08      1.000   -3.84e+07    3.84e+07\n",
       "antirel        0.4918        nan        nan        nan         nan         nan\n",
       "notrel         0.1624        nan        nan        nan         nan         nan\n",
       "slghtrel      -0.0668        nan        nan        nan         nan         nan\n",
       "smerel        -0.5007        nan        nan        nan         nan         nan\n",
       "vryrel        -0.3649        nan        nan        nan         nan         nan\n",
       "yrsmarr1      -0.8866   1.35e+07  -6.55e-08      1.000   -2.65e+07    2.65e+07\n",
       "yrsmarr2      -0.4453   1.35e+07  -3.29e-08      1.000   -2.65e+07    2.65e+07\n",
       "yrsmarr3      -0.1768   1.35e+07  -1.31e-08      1.000   -2.65e+07    2.65e+07\n",
       "yrsmarr4       0.2669   1.35e+07   1.97e-08      1.000   -2.65e+07    2.65e+07\n",
       "yrsmarr5       0.1733   1.35e+07   1.28e-08      1.000   -2.65e+07    2.65e+07\n",
       "yrsmarr6       0.7902   1.35e+07   5.83e-08      1.000   -2.65e+07    2.65e+07\n",
       "==============================================================================\n",
       "\"\"\""
      ]
     },
     "execution_count": 24,
     "metadata": {},
     "output_type": "execute_result"
    }
   ],
   "source": [
    "# Performing Logistic Regression\n",
    "\n",
    "Actual_model = Logit(y_train, x_train).fit()\n",
    "Actual_model.summary()"
   ]
  },
  {
   "cell_type": "code",
   "execution_count": 26,
   "id": "16662d6a",
   "metadata": {},
   "outputs": [
    {
     "name": "stdout",
     "output_type": "stream",
     "text": [
      "Classification Report:                precision    recall  f1-score   support\n",
      "\n",
      "         0.0       0.50      0.59      0.54        29\n",
      "         1.0       0.64      0.55      0.59        38\n",
      "\n",
      "    accuracy                           0.57        67\n",
      "   macro avg       0.57      0.57      0.57        67\n",
      "weighted avg       0.58      0.57      0.57        67\n",
      "\n"
     ]
    },
    {
     "data": {
      "text/plain": [
       "array([[17, 12],\n",
       "       [17, 21]], dtype=int64)"
      ]
     },
     "execution_count": 26,
     "metadata": {},
     "output_type": "execute_result"
    }
   ],
   "source": [
    "# Predicting the results for test data\n",
    "\n",
    "from sklearn.metrics import confusion_matrix\n",
    "\n",
    "pred_test = Actual_model.predict(x_test)\n",
    "\n",
    "x_test['test_pred'] = np.zeros(67)\n",
    "\n",
    "x_test.loc[pred_test > optimal_threshold,'test_pred'] = 1\n",
    "\n",
    "report_test = classification_report(x_test.test_pred, y_test)\n",
    "print('Classification Report: ',report_test)\n",
    "\n",
    "confusion_matrix_test = confusion_matrix(x_test.test_pred, y_test)\n",
    "confusion_matrix_test"
   ]
  },
  {
   "cell_type": "code",
   "execution_count": 27,
   "id": "c549242a",
   "metadata": {},
   "outputs": [
    {
     "name": "stdout",
     "output_type": "stream",
     "text": [
      "Classification Report:                precision    recall  f1-score   support\n",
      "\n",
      "         0.0       0.70      0.67      0.68       103\n",
      "         1.0       0.66      0.68      0.67        95\n",
      "\n",
      "    accuracy                           0.68       198\n",
      "   macro avg       0.68      0.68      0.68       198\n",
      "weighted avg       0.68      0.68      0.68       198\n",
      "\n"
     ]
    },
    {
     "data": {
      "text/plain": [
       "array([[69, 34],\n",
       "       [30, 65]], dtype=int64)"
      ]
     },
     "execution_count": 27,
     "metadata": {},
     "output_type": "execute_result"
    }
   ],
   "source": [
    "# Predicting the results for train data\n",
    "\n",
    "from sklearn.metrics import confusion_matrix\n",
    "\n",
    "pred_train = Actual_model.predict(x_train)\n",
    "\n",
    "x_train['train_pred'] = np.zeros(198)\n",
    "\n",
    "x_train.loc[pred_train > optimal_threshold,'train_pred'] = 1\n",
    "\n",
    "report_train = classification_report(x_train.train_pred, y_train)\n",
    "print('Classification Report: ',report_train)\n",
    "\n",
    "confusion_matrix_train = confusion_matrix(x_train.train_pred, y_train)\n",
    "confusion_matrix_train"
   ]
  }
 ],
 "metadata": {
  "kernelspec": {
   "display_name": "Python 3 (ipykernel)",
   "language": "python",
   "name": "python3"
  },
  "language_info": {
   "codemirror_mode": {
    "name": "ipython",
    "version": 3
   },
   "file_extension": ".py",
   "mimetype": "text/x-python",
   "name": "python",
   "nbconvert_exporter": "python",
   "pygments_lexer": "ipython3",
   "version": "3.9.12"
  }
 },
 "nbformat": 4,
 "nbformat_minor": 5
}
