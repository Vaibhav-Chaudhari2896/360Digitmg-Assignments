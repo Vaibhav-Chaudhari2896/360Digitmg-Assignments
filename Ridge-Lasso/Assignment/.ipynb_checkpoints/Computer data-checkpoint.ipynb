{
 "cells": [
  {
   "cell_type": "markdown",
   "id": "6776e6ae",
   "metadata": {},
   "source": [
    "1.Officeworks is a leading retail store in Australia, with numerous outlets around the country. The manager would like to improve the customer experience by providing them online predictive prices for their laptops if they want to sell them. To improve this experience the manager would like us to build a model which is sustainable and accurate enough. Apply Lasso and Ridge Regression model on the dataset and predict the price, given other attributes. Tabulate R squared, RMSE, and correlation values."
   ]
  },
  {
   "cell_type": "code",
   "execution_count": 1,
   "id": "26952d53",
   "metadata": {},
   "outputs": [],
   "source": [
    "# importing necessary libraries\n",
    "import pandas as pd\n",
    "import numpy as np\n",
    "import matplotlib.pyplot as plt \n",
    "import seaborn as sns\n"
   ]
  },
  {
   "cell_type": "code",
   "execution_count": 2,
   "id": "5b657f27",
   "metadata": {},
   "outputs": [
    {
     "data": {
      "text/html": [
       "<div>\n",
       "<style scoped>\n",
       "    .dataframe tbody tr th:only-of-type {\n",
       "        vertical-align: middle;\n",
       "    }\n",
       "\n",
       "    .dataframe tbody tr th {\n",
       "        vertical-align: top;\n",
       "    }\n",
       "\n",
       "    .dataframe thead th {\n",
       "        text-align: right;\n",
       "    }\n",
       "</style>\n",
       "<table border=\"1\" class=\"dataframe\">\n",
       "  <thead>\n",
       "    <tr style=\"text-align: right;\">\n",
       "      <th></th>\n",
       "      <th>Unnamed: 0</th>\n",
       "      <th>price</th>\n",
       "      <th>speed</th>\n",
       "      <th>hd</th>\n",
       "      <th>ram</th>\n",
       "      <th>screen</th>\n",
       "      <th>cd</th>\n",
       "      <th>multi</th>\n",
       "      <th>premium</th>\n",
       "      <th>ads</th>\n",
       "      <th>trend</th>\n",
       "    </tr>\n",
       "  </thead>\n",
       "  <tbody>\n",
       "    <tr>\n",
       "      <th>0</th>\n",
       "      <td>1</td>\n",
       "      <td>1499</td>\n",
       "      <td>25</td>\n",
       "      <td>80</td>\n",
       "      <td>4</td>\n",
       "      <td>14</td>\n",
       "      <td>no</td>\n",
       "      <td>no</td>\n",
       "      <td>yes</td>\n",
       "      <td>94</td>\n",
       "      <td>1</td>\n",
       "    </tr>\n",
       "    <tr>\n",
       "      <th>1</th>\n",
       "      <td>2</td>\n",
       "      <td>1795</td>\n",
       "      <td>33</td>\n",
       "      <td>85</td>\n",
       "      <td>2</td>\n",
       "      <td>14</td>\n",
       "      <td>no</td>\n",
       "      <td>no</td>\n",
       "      <td>yes</td>\n",
       "      <td>94</td>\n",
       "      <td>1</td>\n",
       "    </tr>\n",
       "    <tr>\n",
       "      <th>2</th>\n",
       "      <td>3</td>\n",
       "      <td>1595</td>\n",
       "      <td>25</td>\n",
       "      <td>170</td>\n",
       "      <td>4</td>\n",
       "      <td>15</td>\n",
       "      <td>no</td>\n",
       "      <td>no</td>\n",
       "      <td>yes</td>\n",
       "      <td>94</td>\n",
       "      <td>1</td>\n",
       "    </tr>\n",
       "    <tr>\n",
       "      <th>3</th>\n",
       "      <td>4</td>\n",
       "      <td>1849</td>\n",
       "      <td>25</td>\n",
       "      <td>170</td>\n",
       "      <td>8</td>\n",
       "      <td>14</td>\n",
       "      <td>no</td>\n",
       "      <td>no</td>\n",
       "      <td>no</td>\n",
       "      <td>94</td>\n",
       "      <td>1</td>\n",
       "    </tr>\n",
       "    <tr>\n",
       "      <th>4</th>\n",
       "      <td>5</td>\n",
       "      <td>3295</td>\n",
       "      <td>33</td>\n",
       "      <td>340</td>\n",
       "      <td>16</td>\n",
       "      <td>14</td>\n",
       "      <td>no</td>\n",
       "      <td>no</td>\n",
       "      <td>yes</td>\n",
       "      <td>94</td>\n",
       "      <td>1</td>\n",
       "    </tr>\n",
       "  </tbody>\n",
       "</table>\n",
       "</div>"
      ],
      "text/plain": [
       "   Unnamed: 0  price  speed   hd  ram  screen  cd multi premium  ads  trend\n",
       "0           1   1499     25   80    4      14  no    no     yes   94      1\n",
       "1           2   1795     33   85    2      14  no    no     yes   94      1\n",
       "2           3   1595     25  170    4      15  no    no     yes   94      1\n",
       "3           4   1849     25  170    8      14  no    no      no   94      1\n",
       "4           5   3295     33  340   16      14  no    no     yes   94      1"
      ]
     },
     "execution_count": 2,
     "metadata": {},
     "output_type": "execute_result"
    }
   ],
   "source": [
    "# importing dataset\n",
    "data = pd.read_csv('C:/Users/vaibh/Desktop/360 Digitmg/Ridge-Lasso/Assignment/Computer_Data (1).csv')\n",
    "data.head()"
   ]
  },
  {
   "cell_type": "code",
   "execution_count": 3,
   "id": "45ffaa4c",
   "metadata": {},
   "outputs": [],
   "source": [
    "# Removing irrelevant features\n",
    "data.drop('Unnamed: 0', axis =1, inplace = True)"
   ]
  },
  {
   "cell_type": "code",
   "execution_count": 4,
   "id": "3caecb99",
   "metadata": {},
   "outputs": [
    {
     "data": {
      "text/plain": [
       "(6259, 10)"
      ]
     },
     "execution_count": 4,
     "metadata": {},
     "output_type": "execute_result"
    }
   ],
   "source": [
    "# Dimension of the dataset\n",
    "data.shape"
   ]
  },
  {
   "cell_type": "code",
   "execution_count": 5,
   "id": "83a62c18",
   "metadata": {},
   "outputs": [
    {
     "data": {
      "text/plain": [
       "price      0\n",
       "speed      0\n",
       "hd         0\n",
       "ram        0\n",
       "screen     0\n",
       "cd         0\n",
       "multi      0\n",
       "premium    0\n",
       "ads        0\n",
       "trend      0\n",
       "dtype: int64"
      ]
     },
     "execution_count": 5,
     "metadata": {},
     "output_type": "execute_result"
    }
   ],
   "source": [
    "# Checking for null values\n",
    "data.isnull().sum()"
   ]
  },
  {
   "cell_type": "markdown",
   "id": "b8c231d7",
   "metadata": {},
   "source": [
    "    There are no null values"
   ]
  },
  {
   "cell_type": "code",
   "execution_count": 6,
   "id": "62581c55",
   "metadata": {},
   "outputs": [
    {
     "data": {
      "text/plain": [
       "76"
      ]
     },
     "execution_count": 6,
     "metadata": {},
     "output_type": "execute_result"
    }
   ],
   "source": [
    "# checking for duplicated rows\n",
    "data.duplicated().sum()"
   ]
  },
  {
   "cell_type": "code",
   "execution_count": 7,
   "id": "a15efd63",
   "metadata": {},
   "outputs": [],
   "source": [
    "# Removing duplicated rows\n",
    "data.drop_duplicates(keep='first', inplace=True, ignore_index=True)"
   ]
  },
  {
   "cell_type": "code",
   "execution_count": 8,
   "id": "8c7d8c47",
   "metadata": {},
   "outputs": [
    {
     "data": {
      "text/html": [
       "<div>\n",
       "<style scoped>\n",
       "    .dataframe tbody tr th:only-of-type {\n",
       "        vertical-align: middle;\n",
       "    }\n",
       "\n",
       "    .dataframe tbody tr th {\n",
       "        vertical-align: top;\n",
       "    }\n",
       "\n",
       "    .dataframe thead th {\n",
       "        text-align: right;\n",
       "    }\n",
       "</style>\n",
       "<table border=\"1\" class=\"dataframe\">\n",
       "  <thead>\n",
       "    <tr style=\"text-align: right;\">\n",
       "      <th></th>\n",
       "      <th>count</th>\n",
       "      <th>mean</th>\n",
       "      <th>std</th>\n",
       "      <th>min</th>\n",
       "      <th>25%</th>\n",
       "      <th>50%</th>\n",
       "      <th>75%</th>\n",
       "      <th>max</th>\n",
       "    </tr>\n",
       "  </thead>\n",
       "  <tbody>\n",
       "    <tr>\n",
       "      <th>price</th>\n",
       "      <td>6183.0</td>\n",
       "      <td>2221.837943</td>\n",
       "      <td>582.042129</td>\n",
       "      <td>949.0</td>\n",
       "      <td>1794.0</td>\n",
       "      <td>2145.0</td>\n",
       "      <td>2595.0</td>\n",
       "      <td>5399.0</td>\n",
       "    </tr>\n",
       "    <tr>\n",
       "      <th>speed</th>\n",
       "      <td>6183.0</td>\n",
       "      <td>52.129549</td>\n",
       "      <td>21.190655</td>\n",
       "      <td>25.0</td>\n",
       "      <td>33.0</td>\n",
       "      <td>50.0</td>\n",
       "      <td>66.0</td>\n",
       "      <td>100.0</td>\n",
       "    </tr>\n",
       "    <tr>\n",
       "      <th>hd</th>\n",
       "      <td>6183.0</td>\n",
       "      <td>417.760796</td>\n",
       "      <td>259.458342</td>\n",
       "      <td>80.0</td>\n",
       "      <td>214.0</td>\n",
       "      <td>340.0</td>\n",
       "      <td>528.0</td>\n",
       "      <td>2100.0</td>\n",
       "    </tr>\n",
       "    <tr>\n",
       "      <th>ram</th>\n",
       "      <td>6183.0</td>\n",
       "      <td>8.305353</td>\n",
       "      <td>5.649178</td>\n",
       "      <td>2.0</td>\n",
       "      <td>4.0</td>\n",
       "      <td>8.0</td>\n",
       "      <td>8.0</td>\n",
       "      <td>32.0</td>\n",
       "    </tr>\n",
       "    <tr>\n",
       "      <th>screen</th>\n",
       "      <td>6183.0</td>\n",
       "      <td>14.614265</td>\n",
       "      <td>0.907304</td>\n",
       "      <td>14.0</td>\n",
       "      <td>14.0</td>\n",
       "      <td>14.0</td>\n",
       "      <td>15.0</td>\n",
       "      <td>17.0</td>\n",
       "    </tr>\n",
       "    <tr>\n",
       "      <th>ads</th>\n",
       "      <td>6183.0</td>\n",
       "      <td>220.906033</td>\n",
       "      <td>74.958628</td>\n",
       "      <td>39.0</td>\n",
       "      <td>162.0</td>\n",
       "      <td>246.0</td>\n",
       "      <td>275.0</td>\n",
       "      <td>339.0</td>\n",
       "    </tr>\n",
       "    <tr>\n",
       "      <th>trend</th>\n",
       "      <td>6183.0</td>\n",
       "      <td>15.944364</td>\n",
       "      <td>7.903073</td>\n",
       "      <td>1.0</td>\n",
       "      <td>10.0</td>\n",
       "      <td>16.0</td>\n",
       "      <td>22.0</td>\n",
       "      <td>35.0</td>\n",
       "    </tr>\n",
       "  </tbody>\n",
       "</table>\n",
       "</div>"
      ],
      "text/plain": [
       "         count         mean         std    min     25%     50%     75%     max\n",
       "price   6183.0  2221.837943  582.042129  949.0  1794.0  2145.0  2595.0  5399.0\n",
       "speed   6183.0    52.129549   21.190655   25.0    33.0    50.0    66.0   100.0\n",
       "hd      6183.0   417.760796  259.458342   80.0   214.0   340.0   528.0  2100.0\n",
       "ram     6183.0     8.305353    5.649178    2.0     4.0     8.0     8.0    32.0\n",
       "screen  6183.0    14.614265    0.907304   14.0    14.0    14.0    15.0    17.0\n",
       "ads     6183.0   220.906033   74.958628   39.0   162.0   246.0   275.0   339.0\n",
       "trend   6183.0    15.944364    7.903073    1.0    10.0    16.0    22.0    35.0"
      ]
     },
     "execution_count": 8,
     "metadata": {},
     "output_type": "execute_result"
    }
   ],
   "source": [
    "# Descriptive statistics \n",
    "data.describe().T"
   ]
  },
  {
   "cell_type": "code",
   "execution_count": 9,
   "id": "af74378a",
   "metadata": {},
   "outputs": [
    {
     "name": "stdout",
     "output_type": "stream",
     "text": [
      "<class 'pandas.core.frame.DataFrame'>\n",
      "RangeIndex: 6183 entries, 0 to 6182\n",
      "Data columns (total 10 columns):\n",
      " #   Column   Non-Null Count  Dtype \n",
      "---  ------   --------------  ----- \n",
      " 0   price    6183 non-null   int64 \n",
      " 1   speed    6183 non-null   int64 \n",
      " 2   hd       6183 non-null   int64 \n",
      " 3   ram      6183 non-null   int64 \n",
      " 4   screen   6183 non-null   int64 \n",
      " 5   cd       6183 non-null   object\n",
      " 6   multi    6183 non-null   object\n",
      " 7   premium  6183 non-null   object\n",
      " 8   ads      6183 non-null   int64 \n",
      " 9   trend    6183 non-null   int64 \n",
      "dtypes: int64(7), object(3)\n",
      "memory usage: 483.2+ KB\n"
     ]
    }
   ],
   "source": [
    "# checking datatypes of the features\n",
    "data.info()"
   ]
  },
  {
   "cell_type": "code",
   "execution_count": 10,
   "id": "7048ed7e",
   "metadata": {},
   "outputs": [
    {
     "data": {
      "image/png": "[encoded data removed]",
      "text/plain": [
       "<Figure size 720x360 with 6 Axes>"
      ]
     },
     "metadata": {
      "needs_background": "light"
     },
     "output_type": "display_data"
    }
   ],
   "source": [
    "# Univariate analysis\n",
    "# Countplot of features\n",
    "fig, axes = plt.subplots(2,3, figsize=(10,5))\n",
    "index = 0\n",
    "axes = axes.flatten()\n",
    "cat_col = ['speed', 'ram', 'screen', 'cd', 'multi', 'premium']\n",
    "for col in cat_col: \n",
    "    sns.countplot(x = data[col], ax = axes[index])\n",
    "    index += 1\n",
    "plt.tight_layout(w_pad = 0.5, h_pad = 0.5, pad = 1)    "
   ]
  },
  {
   "cell_type": "markdown",
   "id": "92a3820c",
   "metadata": {},
   "source": [
    "    Maximum number of Computers have 33 and 66 speed, 8gb and 4gb ram \n",
    "    14\" screen size is most common in computers\n",
    "    Most of the computers are premium and do not have cd and multi processors"
   ]
  },
  {
   "cell_type": "code",
   "execution_count": 11,
   "id": "584bf418",
   "metadata": {},
   "outputs": [
    {
     "data": {
      "image/png": "[encoded data removed]",
      "text/plain": [
       "<Figure size 432x288 with 1 Axes>"
      ]
     },
     "metadata": {
      "needs_background": "light"
     },
     "output_type": "display_data"
    }
   ],
   "source": [
    "# Lets check price distribution\n",
    "sns.histplot(data.price, kde = 1)\n",
    "plt.show()"
   ]
  },
  {
   "cell_type": "markdown",
   "id": "79fc1dad",
   "metadata": {},
   "source": [
    "    The price feature distribution is right skewed"
   ]
  },
  {
   "cell_type": "code",
   "execution_count": 12,
   "id": "2878408d",
   "metadata": {
    "scrolled": false
   },
   "outputs": [
    {
     "data": {
      "image/png": "[encoded data removed]",
      "text/plain": [
       "<Figure size 432x288 with 1 Axes>"
      ]
     },
     "metadata": {
      "needs_background": "light"
     },
     "output_type": "display_data"
    }
   ],
   "source": [
    "# Histogram for trend feature\n",
    "sns.histplot(x = data.trend, kde=1)\n",
    "plt.show()"
   ]
  },
  {
   "cell_type": "code",
   "execution_count": 13,
   "id": "a09a6cde",
   "metadata": {},
   "outputs": [
    {
     "data": {
      "image/png": "[encoded data removed]",
      "text/plain": [
       "<Figure size 720x360 with 2 Axes>"
      ]
     },
     "metadata": {
      "needs_background": "light"
     },
     "output_type": "display_data"
    }
   ],
   "source": [
    "# Correlation between features\n",
    "plt.figure(figsize=(10,5))\n",
    "sns.heatmap(data.corr(), annot=True)\n",
    "plt.show()"
   ]
  },
  {
   "cell_type": "code",
   "execution_count": 14,
   "id": "c3316731",
   "metadata": {},
   "outputs": [],
   "source": [
    "# Converting categorical to numerical \n",
    "data = pd.get_dummies(columns=['cd','multi','premium'], data= data,drop_first=True)"
   ]
  },
  {
   "cell_type": "code",
   "execution_count": 15,
   "id": "deac913c",
   "metadata": {},
   "outputs": [
    {
     "data": {
      "text/html": [
       "<div>\n",
       "<style scoped>\n",
       "    .dataframe tbody tr th:only-of-type {\n",
       "        vertical-align: middle;\n",
       "    }\n",
       "\n",
       "    .dataframe tbody tr th {\n",
       "        vertical-align: top;\n",
       "    }\n",
       "\n",
       "    .dataframe thead th {\n",
       "        text-align: right;\n",
       "    }\n",
       "</style>\n",
       "<table border=\"1\" class=\"dataframe\">\n",
       "  <thead>\n",
       "    <tr style=\"text-align: right;\">\n",
       "      <th></th>\n",
       "      <th>price</th>\n",
       "      <th>speed</th>\n",
       "      <th>hd</th>\n",
       "      <th>ram</th>\n",
       "      <th>screen</th>\n",
       "      <th>ads</th>\n",
       "      <th>trend</th>\n",
       "      <th>cd_yes</th>\n",
       "      <th>multi_yes</th>\n",
       "      <th>premium_yes</th>\n",
       "    </tr>\n",
       "  </thead>\n",
       "  <tbody>\n",
       "    <tr>\n",
       "      <th>0</th>\n",
       "      <td>1499</td>\n",
       "      <td>25</td>\n",
       "      <td>80</td>\n",
       "      <td>4</td>\n",
       "      <td>14</td>\n",
       "      <td>94</td>\n",
       "      <td>1</td>\n",
       "      <td>0</td>\n",
       "      <td>0</td>\n",
       "      <td>1</td>\n",
       "    </tr>\n",
       "    <tr>\n",
       "      <th>1</th>\n",
       "      <td>1795</td>\n",
       "      <td>33</td>\n",
       "      <td>85</td>\n",
       "      <td>2</td>\n",
       "      <td>14</td>\n",
       "      <td>94</td>\n",
       "      <td>1</td>\n",
       "      <td>0</td>\n",
       "      <td>0</td>\n",
       "      <td>1</td>\n",
       "    </tr>\n",
       "    <tr>\n",
       "      <th>2</th>\n",
       "      <td>1595</td>\n",
       "      <td>25</td>\n",
       "      <td>170</td>\n",
       "      <td>4</td>\n",
       "      <td>15</td>\n",
       "      <td>94</td>\n",
       "      <td>1</td>\n",
       "      <td>0</td>\n",
       "      <td>0</td>\n",
       "      <td>1</td>\n",
       "    </tr>\n",
       "    <tr>\n",
       "      <th>3</th>\n",
       "      <td>1849</td>\n",
       "      <td>25</td>\n",
       "      <td>170</td>\n",
       "      <td>8</td>\n",
       "      <td>14</td>\n",
       "      <td>94</td>\n",
       "      <td>1</td>\n",
       "      <td>0</td>\n",
       "      <td>0</td>\n",
       "      <td>0</td>\n",
       "    </tr>\n",
       "    <tr>\n",
       "      <th>4</th>\n",
       "      <td>3295</td>\n",
       "      <td>33</td>\n",
       "      <td>340</td>\n",
       "      <td>16</td>\n",
       "      <td>14</td>\n",
       "      <td>94</td>\n",
       "      <td>1</td>\n",
       "      <td>0</td>\n",
       "      <td>0</td>\n",
       "      <td>1</td>\n",
       "    </tr>\n",
       "  </tbody>\n",
       "</table>\n",
       "</div>"
      ],
      "text/plain": [
       "   price  speed   hd  ram  screen  ads  trend  cd_yes  multi_yes  premium_yes\n",
       "0   1499     25   80    4      14   94      1       0          0            1\n",
       "1   1795     33   85    2      14   94      1       0          0            1\n",
       "2   1595     25  170    4      15   94      1       0          0            1\n",
       "3   1849     25  170    8      14   94      1       0          0            0\n",
       "4   3295     33  340   16      14   94      1       0          0            1"
      ]
     },
     "execution_count": 15,
     "metadata": {},
     "output_type": "execute_result"
    }
   ],
   "source": [
    "data.head()"
   ]
  },
  {
   "cell_type": "code",
   "execution_count": 16,
   "id": "7e1288ae",
   "metadata": {},
   "outputs": [],
   "source": [
    "# Splitting into x and y\n",
    "x = data.drop('price', axis =1)\n",
    "y = data.price"
   ]
  },
  {
   "cell_type": "code",
   "execution_count": 17,
   "id": "fa543a56",
   "metadata": {},
   "outputs": [],
   "source": [
    "# train test split\n",
    "from sklearn.model_selection import train_test_split\n",
    "x_train, x_test, y_train, y_test = train_test_split(x,y)"
   ]
  },
  {
   "cell_type": "code",
   "execution_count": 18,
   "id": "26ee8904",
   "metadata": {},
   "outputs": [],
   "source": [
    "# Normalizing\n",
    "from sklearn.preprocessing import MinMaxScaler\n",
    "mms = MinMaxScaler()\n",
    "mms_x_train = mms.fit_transform(x_train)\n",
    "mms_x_test = mms.transform(x_test)"
   ]
  },
  {
   "cell_type": "code",
   "execution_count": 19,
   "id": "4a968761",
   "metadata": {},
   "outputs": [
    {
     "data": {
      "text/plain": [
       "((4637, 9), (1546, 9), (4637,), (1546,))"
      ]
     },
     "execution_count": 19,
     "metadata": {},
     "output_type": "execute_result"
    }
   ],
   "source": [
    "mms_x_train.shape, mms_x_test.shape, y_train.shape, y_test.shape"
   ]
  },
  {
   "cell_type": "markdown",
   "id": "2ac522d1",
   "metadata": {},
   "source": [
    "# Simple Linear Regression"
   ]
  },
  {
   "cell_type": "code",
   "execution_count": 20,
   "id": "89ca6c50",
   "metadata": {},
   "outputs": [],
   "source": [
    "# Simple Linear Regression\n",
    "\n",
    "from sklearn.linear_model import LinearRegression\n",
    "lr = LinearRegression()\n",
    "lr_model = lr.fit(mms_x_train,y_train)  # fitting to train data"
   ]
  },
  {
   "cell_type": "code",
   "execution_count": 21,
   "id": "f34f6334",
   "metadata": {},
   "outputs": [],
   "source": [
    "pred_lr_test = lr_model.predict(mms_x_test) # predicting using test data"
   ]
  },
  {
   "cell_type": "code",
   "execution_count": 22,
   "id": "05617c71",
   "metadata": {},
   "outputs": [
    {
     "data": {
      "text/plain": [
       "0.7678140613997506"
      ]
     },
     "execution_count": 22,
     "metadata": {},
     "output_type": "execute_result"
    }
   ],
   "source": [
    "from sklearn.metrics import r2_score\n",
    "r2_score_lr = r2_score(y_test, pred_lr_test)\n",
    "r2_score_lr"
   ]
  },
  {
   "cell_type": "code",
   "execution_count": 23,
   "id": "9f2a07ab",
   "metadata": {},
   "outputs": [
    {
     "data": {
      "text/plain": [
       "273.1990168997867"
      ]
     },
     "execution_count": 23,
     "metadata": {},
     "output_type": "execute_result"
    }
   ],
   "source": [
    "# RMSE for linear regression\n",
    "\n",
    "resid_lr = (pred_lr_test-y_test)\n",
    "rmse_lr = np.sqrt(np.mean(resid_lr*resid_lr))\n",
    "rmse_lr"
   ]
  },
  {
   "cell_type": "markdown",
   "id": "c8ca6b8a",
   "metadata": {},
   "source": [
    "# Lasso Regression"
   ]
  },
  {
   "cell_type": "code",
   "execution_count": 24,
   "id": "53c967fb",
   "metadata": {},
   "outputs": [],
   "source": [
    "from sklearn.model_selection import GridSearchCV\n",
    "from sklearn.linear_model import Lasso\n",
    "lasso = Lasso(alpha = 3)\n",
    "\n",
    "lasso_model = lasso.fit(mms_x_train,y_train)"
   ]
  },
  {
   "cell_type": "code",
   "execution_count": 25,
   "id": "f85cadbc",
   "metadata": {},
   "outputs": [],
   "source": [
    "pred_lasso_test = lasso_model.predict(mms_x_test)"
   ]
  },
  {
   "cell_type": "code",
   "execution_count": 26,
   "id": "0eaf481a",
   "metadata": {},
   "outputs": [
    {
     "data": {
      "text/plain": [
       "0.7624468152443244"
      ]
     },
     "execution_count": 26,
     "metadata": {},
     "output_type": "execute_result"
    }
   ],
   "source": [
    "r2_score_lasso = r2_score(y_test,pred_lasso_test)\n",
    "r2_score_lasso"
   ]
  },
  {
   "cell_type": "code",
   "execution_count": 27,
   "id": "b82247c5",
   "metadata": {},
   "outputs": [
    {
     "data": {
      "text/plain": [
       "276.3386320183584"
      ]
     },
     "execution_count": 27,
     "metadata": {},
     "output_type": "execute_result"
    }
   ],
   "source": [
    "# RMSE for lasso regression\n",
    "\n",
    "resid_lasso = (pred_lasso_test - y_test)\n",
    "rmse_lasso = np.sqrt(np.mean(resid_lasso*resid_lasso))\n",
    "rmse_lasso"
   ]
  },
  {
   "cell_type": "markdown",
   "id": "c0753624",
   "metadata": {},
   "source": [
    "# Ridge Regression"
   ]
  },
  {
   "cell_type": "code",
   "execution_count": 28,
   "id": "ce1f35a3",
   "metadata": {},
   "outputs": [],
   "source": [
    "from sklearn.linear_model import Ridge\n",
    "ridge = Ridge(alpha = 2)\n",
    "ridge_model = ridge.fit(mms_x_train,y_train)"
   ]
  },
  {
   "cell_type": "code",
   "execution_count": 29,
   "id": "b72c2697",
   "metadata": {},
   "outputs": [],
   "source": [
    "pred_ridge_test = ridge_model.predict(mms_x_test)"
   ]
  },
  {
   "cell_type": "code",
   "execution_count": 30,
   "id": "58d648c6",
   "metadata": {},
   "outputs": [
    {
     "data": {
      "text/plain": [
       "0.7681909619321482"
      ]
     },
     "execution_count": 30,
     "metadata": {},
     "output_type": "execute_result"
    }
   ],
   "source": [
    "r2_score_ridge = r2_score(y_test,pred_ridge_test)\n",
    "r2_score_ridge"
   ]
  },
  {
   "cell_type": "code",
   "execution_count": 31,
   "id": "07ab1356",
   "metadata": {},
   "outputs": [
    {
     "data": {
      "text/plain": [
       "272.9771889198899"
      ]
     },
     "execution_count": 31,
     "metadata": {},
     "output_type": "execute_result"
    }
   ],
   "source": [
    "# RMSE for ridge regression\n",
    "\n",
    "resid_ridge = (pred_ridge_test - y_test)\n",
    "rmse_ridge = np.sqrt(np.mean(resid_ridge*resid_ridge))\n",
    "rmse_ridge"
   ]
  },
  {
   "cell_type": "code",
   "execution_count": 32,
   "id": "0eb3d56e",
   "metadata": {
    "scrolled": true
   },
   "outputs": [
    {
     "data": {
      "text/html": [
       "<div>\n",
       "<style scoped>\n",
       "    .dataframe tbody tr th:only-of-type {\n",
       "        vertical-align: middle;\n",
       "    }\n",
       "\n",
       "    .dataframe tbody tr th {\n",
       "        vertical-align: top;\n",
       "    }\n",
       "\n",
       "    .dataframe thead th {\n",
       "        text-align: right;\n",
       "    }\n",
       "</style>\n",
       "<table border=\"1\" class=\"dataframe\">\n",
       "  <thead>\n",
       "    <tr style=\"text-align: right;\">\n",
       "      <th></th>\n",
       "      <th>Regression</th>\n",
       "      <th>R2_score</th>\n",
       "      <th>RMSE</th>\n",
       "    </tr>\n",
       "  </thead>\n",
       "  <tbody>\n",
       "    <tr>\n",
       "      <th>0</th>\n",
       "      <td>Simple</td>\n",
       "      <td>0.767814</td>\n",
       "      <td>273.199017</td>\n",
       "    </tr>\n",
       "    <tr>\n",
       "      <th>1</th>\n",
       "      <td>Lasso</td>\n",
       "      <td>0.762447</td>\n",
       "      <td>276.338632</td>\n",
       "    </tr>\n",
       "    <tr>\n",
       "      <th>2</th>\n",
       "      <td>Ridge</td>\n",
       "      <td>0.768191</td>\n",
       "      <td>272.977189</td>\n",
       "    </tr>\n",
       "  </tbody>\n",
       "</table>\n",
       "</div>"
      ],
      "text/plain": [
       "  Regression  R2_score        RMSE\n",
       "0     Simple  0.767814  273.199017\n",
       "1      Lasso  0.762447  276.338632\n",
       "2      Ridge  0.768191  272.977189"
      ]
     },
     "execution_count": 32,
     "metadata": {},
     "output_type": "execute_result"
    }
   ],
   "source": [
    "results = pd.DataFrame([])\n",
    "results['Regression'] = ['Simple', 'Lasso', 'Ridge']\n",
    "results['R2_score'] = [r2_score_lr, r2_score_lasso, r2_score_ridge]\n",
    "results['RMSE'] = [rmse_lr, rmse_lasso, rmse_ridge]\n",
    "results"
   ]
  },
  {
   "cell_type": "markdown",
   "id": "06490ace",
   "metadata": {},
   "source": [
    "    Simple Regression gives better results than ridge and lasso regression"
   ]
  }
 ],
 "metadata": {
  "kernelspec": {
   "display_name": "Python 3 (ipykernel)",
   "language": "python",
   "name": "python3"
  },
  "language_info": {
   "codemirror_mode": {
    "name": "ipython",
    "version": 3
   },
   "file_extension": ".py",
   "mimetype": "text/x-python",
   "name": "python",
   "nbconvert_exporter": "python",
   "pygments_lexer": "ipython3",
   "version": "3.9.12"
  }
 },
 "nbformat": 4,
 "nbformat_minor": 5
}
