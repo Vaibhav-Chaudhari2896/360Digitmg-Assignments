{
 "cells": [
  {
   "cell_type": "code",
   "execution_count": 1,
   "id": "661e7cf4",
   "metadata": {},
   "outputs": [],
   "source": [
    "# Importing libraries\n",
    "\n",
    "import pandas as pd\n",
    "import numpy as np\n",
    "import matplotlib.pyplot as plt\n",
    "import seaborn as sns\n",
    "%matplotlib inline\n",
    "\n",
    "from sklearn.preprocessing import StandardScaler,MinMaxScaler\n",
    "from sklearn.model_selection import train_test_split\n",
    "\n",
    "from sklearn.neighbors import KNeighborsClassifier\n",
    "from sklearn.metrics import accuracy_score,confusion_matrix\n",
    "\n",
    "import warnings\n",
    "warnings.filterwarnings(action='ignore',category=FutureWarning)"
   ]
  },
  {
   "cell_type": "code",
   "execution_count": 2,
   "id": "bf2ea6b8",
   "metadata": {},
   "outputs": [],
   "source": [
    "# Importing dataset\n",
    "\n",
    "dataset = pd.read_csv('C:/Users/vaibh/Desktop/360 Digitmg/K-NN/Assignment/glass.csv')"
   ]
  },
  {
   "cell_type": "code",
   "execution_count": 3,
   "id": "26ad6026",
   "metadata": {},
   "outputs": [
    {
     "data": {
      "text/html": [
       "<div>\n",
       "<style scoped>\n",
       "    .dataframe tbody tr th:only-of-type {\n",
       "        vertical-align: middle;\n",
       "    }\n",
       "\n",
       "    .dataframe tbody tr th {\n",
       "        vertical-align: top;\n",
       "    }\n",
       "\n",
       "    .dataframe thead th {\n",
       "        text-align: right;\n",
       "    }\n",
       "</style>\n",
       "<table border=\"1\" class=\"dataframe\">\n",
       "  <thead>\n",
       "    <tr style=\"text-align: right;\">\n",
       "      <th></th>\n",
       "      <th>RI</th>\n",
       "      <th>Na</th>\n",
       "      <th>Mg</th>\n",
       "      <th>Al</th>\n",
       "      <th>Si</th>\n",
       "      <th>K</th>\n",
       "      <th>Ca</th>\n",
       "      <th>Ba</th>\n",
       "      <th>Fe</th>\n",
       "      <th>Type</th>\n",
       "    </tr>\n",
       "  </thead>\n",
       "  <tbody>\n",
       "    <tr>\n",
       "      <th>0</th>\n",
       "      <td>1.52101</td>\n",
       "      <td>13.64</td>\n",
       "      <td>4.49</td>\n",
       "      <td>1.10</td>\n",
       "      <td>71.78</td>\n",
       "      <td>0.06</td>\n",
       "      <td>8.75</td>\n",
       "      <td>0.0</td>\n",
       "      <td>0.0</td>\n",
       "      <td>1</td>\n",
       "    </tr>\n",
       "    <tr>\n",
       "      <th>1</th>\n",
       "      <td>1.51761</td>\n",
       "      <td>13.89</td>\n",
       "      <td>3.60</td>\n",
       "      <td>1.36</td>\n",
       "      <td>72.73</td>\n",
       "      <td>0.48</td>\n",
       "      <td>7.83</td>\n",
       "      <td>0.0</td>\n",
       "      <td>0.0</td>\n",
       "      <td>1</td>\n",
       "    </tr>\n",
       "    <tr>\n",
       "      <th>2</th>\n",
       "      <td>1.51618</td>\n",
       "      <td>13.53</td>\n",
       "      <td>3.55</td>\n",
       "      <td>1.54</td>\n",
       "      <td>72.99</td>\n",
       "      <td>0.39</td>\n",
       "      <td>7.78</td>\n",
       "      <td>0.0</td>\n",
       "      <td>0.0</td>\n",
       "      <td>1</td>\n",
       "    </tr>\n",
       "    <tr>\n",
       "      <th>3</th>\n",
       "      <td>1.51766</td>\n",
       "      <td>13.21</td>\n",
       "      <td>3.69</td>\n",
       "      <td>1.29</td>\n",
       "      <td>72.61</td>\n",
       "      <td>0.57</td>\n",
       "      <td>8.22</td>\n",
       "      <td>0.0</td>\n",
       "      <td>0.0</td>\n",
       "      <td>1</td>\n",
       "    </tr>\n",
       "    <tr>\n",
       "      <th>4</th>\n",
       "      <td>1.51742</td>\n",
       "      <td>13.27</td>\n",
       "      <td>3.62</td>\n",
       "      <td>1.24</td>\n",
       "      <td>73.08</td>\n",
       "      <td>0.55</td>\n",
       "      <td>8.07</td>\n",
       "      <td>0.0</td>\n",
       "      <td>0.0</td>\n",
       "      <td>1</td>\n",
       "    </tr>\n",
       "  </tbody>\n",
       "</table>\n",
       "</div>"
      ],
      "text/plain": [
       "        RI     Na    Mg    Al     Si     K    Ca   Ba   Fe  Type\n",
       "0  1.52101  13.64  4.49  1.10  71.78  0.06  8.75  0.0  0.0     1\n",
       "1  1.51761  13.89  3.60  1.36  72.73  0.48  7.83  0.0  0.0     1\n",
       "2  1.51618  13.53  3.55  1.54  72.99  0.39  7.78  0.0  0.0     1\n",
       "3  1.51766  13.21  3.69  1.29  72.61  0.57  8.22  0.0  0.0     1\n",
       "4  1.51742  13.27  3.62  1.24  73.08  0.55  8.07  0.0  0.0     1"
      ]
     },
     "execution_count": 3,
     "metadata": {},
     "output_type": "execute_result"
    }
   ],
   "source": [
    "# Checking rows and columns\n",
    "dataset.head()"
   ]
  },
  {
   "cell_type": "code",
   "execution_count": 4,
   "id": "1f3981b3",
   "metadata": {},
   "outputs": [
    {
     "data": {
      "text/plain": [
       "Index(['RI', 'Na', 'Mg', 'Al', 'Si', 'K', 'Ca', 'Ba', 'Fe', 'Type'], dtype='object')"
      ]
     },
     "execution_count": 4,
     "metadata": {},
     "output_type": "execute_result"
    }
   ],
   "source": [
    "dataset.columns"
   ]
  },
  {
   "cell_type": "code",
   "execution_count": 5,
   "id": "f1f75426",
   "metadata": {},
   "outputs": [
    {
     "data": {
      "text/plain": [
       "(214, 10)"
      ]
     },
     "execution_count": 5,
     "metadata": {},
     "output_type": "execute_result"
    }
   ],
   "source": [
    "dataset.shape"
   ]
  },
  {
   "cell_type": "code",
   "execution_count": 6,
   "id": "f662eaf8",
   "metadata": {},
   "outputs": [
    {
     "name": "stdout",
     "output_type": "stream",
     "text": [
      "<class 'pandas.core.frame.DataFrame'>\n",
      "RangeIndex: 214 entries, 0 to 213\n",
      "Data columns (total 10 columns):\n",
      " #   Column  Non-Null Count  Dtype  \n",
      "---  ------  --------------  -----  \n",
      " 0   RI      214 non-null    float64\n",
      " 1   Na      214 non-null    float64\n",
      " 2   Mg      214 non-null    float64\n",
      " 3   Al      214 non-null    float64\n",
      " 4   Si      214 non-null    float64\n",
      " 5   K       214 non-null    float64\n",
      " 6   Ca      214 non-null    float64\n",
      " 7   Ba      214 non-null    float64\n",
      " 8   Fe      214 non-null    float64\n",
      " 9   Type    214 non-null    int64  \n",
      "dtypes: float64(9), int64(1)\n",
      "memory usage: 16.8 KB\n"
     ]
    }
   ],
   "source": [
    "# Datatypes of the features\n",
    "dataset.info()"
   ]
  },
  {
   "cell_type": "code",
   "execution_count": 7,
   "id": "e9100f12",
   "metadata": {},
   "outputs": [
    {
     "data": {
      "text/plain": [
       "RI      0\n",
       "Na      0\n",
       "Mg      0\n",
       "Al      0\n",
       "Si      0\n",
       "K       0\n",
       "Ca      0\n",
       "Ba      0\n",
       "Fe      0\n",
       "Type    0\n",
       "dtype: int64"
      ]
     },
     "execution_count": 7,
     "metadata": {},
     "output_type": "execute_result"
    }
   ],
   "source": [
    "# Checking for null values\n",
    "dataset.isnull().sum()"
   ]
  },
  {
   "cell_type": "markdown",
   "id": "c9ffe498",
   "metadata": {},
   "source": [
    "There are no null values in the dataset"
   ]
  },
  {
   "cell_type": "code",
   "execution_count": 8,
   "id": "d9a5cee3",
   "metadata": {
    "scrolled": true
   },
   "outputs": [
    {
     "data": {
      "text/plain": [
       "1"
      ]
     },
     "execution_count": 8,
     "metadata": {},
     "output_type": "execute_result"
    }
   ],
   "source": [
    "# Checking for duplicate values\n",
    "dataset.duplicated().sum()"
   ]
  },
  {
   "cell_type": "markdown",
   "id": "c91f0f7f",
   "metadata": {},
   "source": [
    "There is one duplicated value"
   ]
  },
  {
   "cell_type": "code",
   "execution_count": 9,
   "id": "7820c2fa",
   "metadata": {},
   "outputs": [],
   "source": [
    "# Dropping the duplicate value\n",
    "dataset.drop_duplicates(inplace=True,ignore_index=True)"
   ]
  },
  {
   "cell_type": "code",
   "execution_count": 10,
   "id": "dc7a30a1",
   "metadata": {},
   "outputs": [
    {
     "data": {
      "text/plain": [
       "(213, 10)"
      ]
     },
     "execution_count": 10,
     "metadata": {},
     "output_type": "execute_result"
    }
   ],
   "source": [
    "dataset.shape"
   ]
  },
  {
   "cell_type": "code",
   "execution_count": 11,
   "id": "d8b692b9",
   "metadata": {},
   "outputs": [
    {
     "data": {
      "text/plain": [
       "<AxesSubplot:xlabel='Type', ylabel='count'>"
      ]
     },
     "execution_count": 11,
     "metadata": {},
     "output_type": "execute_result"
    },
    {
     "data": {
      "image/png": "[encoded data removed]",
      "text/plain": [
       "<Figure size 432x288 with 1 Axes>"
      ]
     },
     "metadata": {
      "needs_background": "light"
     },
     "output_type": "display_data"
    }
   ],
   "source": [
    "# Coountplot of dependent feature\n",
    "sns.countplot(dataset.Type)"
   ]
  },
  {
   "cell_type": "markdown",
   "id": "00676fda",
   "metadata": {},
   "source": [
    "Type 2 glass is more followed by Type 1 glass in the dataset."
   ]
  },
  {
   "cell_type": "code",
   "execution_count": 12,
   "id": "89b9bf9f",
   "metadata": {},
   "outputs": [
    {
     "data": {
      "text/html": [
       "<div>\n",
       "<style scoped>\n",
       "    .dataframe tbody tr th:only-of-type {\n",
       "        vertical-align: middle;\n",
       "    }\n",
       "\n",
       "    .dataframe tbody tr th {\n",
       "        vertical-align: top;\n",
       "    }\n",
       "\n",
       "    .dataframe thead th {\n",
       "        text-align: right;\n",
       "    }\n",
       "</style>\n",
       "<table border=\"1\" class=\"dataframe\">\n",
       "  <thead>\n",
       "    <tr style=\"text-align: right;\">\n",
       "      <th></th>\n",
       "      <th>RI</th>\n",
       "      <th>Na</th>\n",
       "      <th>Mg</th>\n",
       "      <th>Al</th>\n",
       "      <th>Si</th>\n",
       "      <th>K</th>\n",
       "      <th>Ca</th>\n",
       "      <th>Ba</th>\n",
       "      <th>Fe</th>\n",
       "      <th>Type</th>\n",
       "    </tr>\n",
       "  </thead>\n",
       "  <tbody>\n",
       "    <tr>\n",
       "      <th>count</th>\n",
       "      <td>213.000000</td>\n",
       "      <td>213.000000</td>\n",
       "      <td>213.000000</td>\n",
       "      <td>213.000000</td>\n",
       "      <td>213.000000</td>\n",
       "      <td>213.000000</td>\n",
       "      <td>213.000000</td>\n",
       "      <td>213.000000</td>\n",
       "      <td>213.000000</td>\n",
       "      <td>213.000000</td>\n",
       "    </tr>\n",
       "    <tr>\n",
       "      <th>mean</th>\n",
       "      <td>1.518348</td>\n",
       "      <td>13.404085</td>\n",
       "      <td>2.679202</td>\n",
       "      <td>1.449484</td>\n",
       "      <td>72.655070</td>\n",
       "      <td>0.498873</td>\n",
       "      <td>8.954085</td>\n",
       "      <td>0.175869</td>\n",
       "      <td>0.057277</td>\n",
       "      <td>2.788732</td>\n",
       "    </tr>\n",
       "    <tr>\n",
       "      <th>std</th>\n",
       "      <td>0.003033</td>\n",
       "      <td>0.816662</td>\n",
       "      <td>1.443691</td>\n",
       "      <td>0.495925</td>\n",
       "      <td>0.773998</td>\n",
       "      <td>0.653185</td>\n",
       "      <td>1.425882</td>\n",
       "      <td>0.498245</td>\n",
       "      <td>0.097589</td>\n",
       "      <td>2.105130</td>\n",
       "    </tr>\n",
       "    <tr>\n",
       "      <th>min</th>\n",
       "      <td>1.511150</td>\n",
       "      <td>10.730000</td>\n",
       "      <td>0.000000</td>\n",
       "      <td>0.290000</td>\n",
       "      <td>69.810000</td>\n",
       "      <td>0.000000</td>\n",
       "      <td>5.430000</td>\n",
       "      <td>0.000000</td>\n",
       "      <td>0.000000</td>\n",
       "      <td>1.000000</td>\n",
       "    </tr>\n",
       "    <tr>\n",
       "      <th>25%</th>\n",
       "      <td>1.516520</td>\n",
       "      <td>12.900000</td>\n",
       "      <td>2.090000</td>\n",
       "      <td>1.190000</td>\n",
       "      <td>72.280000</td>\n",
       "      <td>0.130000</td>\n",
       "      <td>8.240000</td>\n",
       "      <td>0.000000</td>\n",
       "      <td>0.000000</td>\n",
       "      <td>1.000000</td>\n",
       "    </tr>\n",
       "    <tr>\n",
       "      <th>50%</th>\n",
       "      <td>1.517680</td>\n",
       "      <td>13.300000</td>\n",
       "      <td>3.480000</td>\n",
       "      <td>1.360000</td>\n",
       "      <td>72.790000</td>\n",
       "      <td>0.560000</td>\n",
       "      <td>8.600000</td>\n",
       "      <td>0.000000</td>\n",
       "      <td>0.000000</td>\n",
       "      <td>2.000000</td>\n",
       "    </tr>\n",
       "    <tr>\n",
       "      <th>75%</th>\n",
       "      <td>1.519150</td>\n",
       "      <td>13.810000</td>\n",
       "      <td>3.600000</td>\n",
       "      <td>1.630000</td>\n",
       "      <td>73.090000</td>\n",
       "      <td>0.610000</td>\n",
       "      <td>9.150000</td>\n",
       "      <td>0.000000</td>\n",
       "      <td>0.100000</td>\n",
       "      <td>3.000000</td>\n",
       "    </tr>\n",
       "    <tr>\n",
       "      <th>max</th>\n",
       "      <td>1.533930</td>\n",
       "      <td>17.380000</td>\n",
       "      <td>4.490000</td>\n",
       "      <td>3.500000</td>\n",
       "      <td>75.410000</td>\n",
       "      <td>6.210000</td>\n",
       "      <td>16.190000</td>\n",
       "      <td>3.150000</td>\n",
       "      <td>0.510000</td>\n",
       "      <td>7.000000</td>\n",
       "    </tr>\n",
       "  </tbody>\n",
       "</table>\n",
       "</div>"
      ],
      "text/plain": [
       "               RI          Na          Mg          Al          Si           K  \\\n",
       "count  213.000000  213.000000  213.000000  213.000000  213.000000  213.000000   \n",
       "mean     1.518348   13.404085    2.679202    1.449484   72.655070    0.498873   \n",
       "std      0.003033    0.816662    1.443691    0.495925    0.773998    0.653185   \n",
       "min      1.511150   10.730000    0.000000    0.290000   69.810000    0.000000   \n",
       "25%      1.516520   12.900000    2.090000    1.190000   72.280000    0.130000   \n",
       "50%      1.517680   13.300000    3.480000    1.360000   72.790000    0.560000   \n",
       "75%      1.519150   13.810000    3.600000    1.630000   73.090000    0.610000   \n",
       "max      1.533930   17.380000    4.490000    3.500000   75.410000    6.210000   \n",
       "\n",
       "               Ca          Ba          Fe        Type  \n",
       "count  213.000000  213.000000  213.000000  213.000000  \n",
       "mean     8.954085    0.175869    0.057277    2.788732  \n",
       "std      1.425882    0.498245    0.097589    2.105130  \n",
       "min      5.430000    0.000000    0.000000    1.000000  \n",
       "25%      8.240000    0.000000    0.000000    1.000000  \n",
       "50%      8.600000    0.000000    0.000000    2.000000  \n",
       "75%      9.150000    0.000000    0.100000    3.000000  \n",
       "max     16.190000    3.150000    0.510000    7.000000  "
      ]
     },
     "execution_count": 12,
     "metadata": {},
     "output_type": "execute_result"
    }
   ],
   "source": [
    "# Descriptive statistics of the dataset\n",
    "\n",
    "dataset.describe()"
   ]
  },
  {
   "cell_type": "code",
   "execution_count": 13,
   "id": "973de5f2",
   "metadata": {
    "scrolled": false
   },
   "outputs": [
    {
     "data": {
      "image/png": "[encoded data removed]",
      "text/plain": [
       "<Figure size 1080x720 with 9 Axes>"
      ]
     },
     "metadata": {
      "needs_background": "light"
     },
     "output_type": "display_data"
    }
   ],
   "source": [
    "# Histogram for numerical data\n",
    "\n",
    "figure,axes = plt.subplots(3,3,figsize=(15,10))\n",
    "index = 0\n",
    "axes = axes.flatten()\n",
    "x = dataset.iloc[:,:-1]\n",
    "\n",
    "for i in x.columns:\n",
    "    sns.histplot(data = dataset[i],ax=axes[index])\n",
    "    index +=1\n",
    "plt.tight_layout(h_pad=0.5, w_pad=0.5, pad=1)"
   ]
  },
  {
   "cell_type": "code",
   "execution_count": 14,
   "id": "5eff97df",
   "metadata": {
    "scrolled": true
   },
   "outputs": [
    {
     "data": {
      "image/png": "[encoded data removed]",
      "text/plain": [
       "<Figure size 1080x720 with 9 Axes>"
      ]
     },
     "metadata": {
      "needs_background": "light"
     },
     "output_type": "display_data"
    }
   ],
   "source": [
    "# Boxplot for numerical data\n",
    "\n",
    "figure,axes = plt.subplots(3,3,figsize=(15,10))\n",
    "index = 0\n",
    "axes = axes.flatten()\n",
    "x = dataset.iloc[:,:-1]\n",
    "\n",
    "for i in x.columns:\n",
    "    sns.boxplot(data = dataset[i],ax=axes[index])\n",
    "    index +=1\n",
    "plt.tight_layout(h_pad=0.5, w_pad=0.5, pad=1)"
   ]
  },
  {
   "cell_type": "code",
   "execution_count": 15,
   "id": "8411e737",
   "metadata": {},
   "outputs": [],
   "source": [
    "# Splitting into independent and dependent features\n",
    "\n",
    "x = dataset.iloc[:,:-1]\n",
    "y = dataset.Type"
   ]
  },
  {
   "cell_type": "code",
   "execution_count": 16,
   "id": "26e69d4c",
   "metadata": {},
   "outputs": [],
   "source": [
    "# Normalizing the dataset\n",
    "\n",
    "norm = MinMaxScaler()\n",
    "x = norm.fit_transform(x)"
   ]
  },
  {
   "cell_type": "code",
   "execution_count": 17,
   "id": "2771ee2e",
   "metadata": {},
   "outputs": [],
   "source": [
    "# Splitting into train test dataset\n",
    "\n",
    "x_train, x_test, y_train, y_test = train_test_split(x, y, test_size=0.2,random_state=5,stratify=y)"
   ]
  },
  {
   "cell_type": "code",
   "execution_count": 18,
   "id": "f2aecb36",
   "metadata": {},
   "outputs": [
    {
     "data": {
      "text/plain": [
       "2    35.680751\n",
       "1    32.394366\n",
       "7    13.615023\n",
       "3     7.981221\n",
       "5     6.103286\n",
       "6     4.225352\n",
       "Name: Type, dtype: float64"
      ]
     },
     "execution_count": 18,
     "metadata": {},
     "output_type": "execute_result"
    }
   ],
   "source": [
    "# Checking proportion of each type in the dataset\n",
    "\n",
    "dataset.Type.value_counts()/dataset.shape[0]*100"
   ]
  },
  {
   "cell_type": "code",
   "execution_count": 19,
   "id": "4ffab3b7",
   "metadata": {},
   "outputs": [
    {
     "data": {
      "text/plain": [
       "2    35.882353\n",
       "1    32.352941\n",
       "7    13.529412\n",
       "3     8.235294\n",
       "5     5.882353\n",
       "6     4.117647\n",
       "Name: Type, dtype: float64"
      ]
     },
     "execution_count": 19,
     "metadata": {},
     "output_type": "execute_result"
    }
   ],
   "source": [
    "# Verifying proportion of each type in the train dataset is equivalent to that of dataset\n",
    "\n",
    "y_train.value_counts()/y_train.shape[0]*100 "
   ]
  },
  {
   "cell_type": "code",
   "execution_count": 20,
   "id": "10cebdab",
   "metadata": {},
   "outputs": [
    {
     "data": {
      "text/plain": [
       "2    34.883721\n",
       "1    32.558140\n",
       "7    13.953488\n",
       "3     6.976744\n",
       "5     6.976744\n",
       "6     4.651163\n",
       "Name: Type, dtype: float64"
      ]
     },
     "execution_count": 20,
     "metadata": {},
     "output_type": "execute_result"
    }
   ],
   "source": [
    "# Verifying proportion of each type in the test dataset is equivalent to that of dataset\n",
    "\n",
    "y_test.value_counts()/y_test.shape[0]*100"
   ]
  },
  {
   "cell_type": "code",
   "execution_count": 21,
   "id": "00454b8a",
   "metadata": {},
   "outputs": [],
   "source": [
    "# Knn clasifier \n",
    "\n",
    "knn = KNeighborsClassifier(n_neighbors=9)  # Using 9 neighbors\n",
    "knn.fit(x_train,y_train) # fitting model to train data\n",
    "\n",
    "# Predicting results for test data\n",
    "yhat_test = knn.predict(x_test)"
   ]
  },
  {
   "cell_type": "code",
   "execution_count": 22,
   "id": "e024df8b",
   "metadata": {},
   "outputs": [
    {
     "data": {
      "text/plain": [
       "array([5, 2, 2, 1, 1, 1, 1, 1, 1, 1, 6, 1, 1, 2, 1, 7, 1, 2, 1, 1, 1, 1,\n",
       "       7, 1, 7, 2, 1, 1, 2, 2, 2, 2, 2, 1, 1, 1, 6, 2, 7, 2, 1, 1, 1],\n",
       "      dtype=int64)"
      ]
     },
     "execution_count": 22,
     "metadata": {},
     "output_type": "execute_result"
    }
   ],
   "source": [
    "# Predicted Type for test data\n",
    "yhat_test"
   ]
  },
  {
   "cell_type": "code",
   "execution_count": 23,
   "id": "31369dcd",
   "metadata": {
    "scrolled": true
   },
   "outputs": [
    {
     "name": "stdout",
     "output_type": "stream",
     "text": [
      "Test data Accuracy : 60.47 %\n"
     ]
    }
   ],
   "source": [
    "# Accuracy of the model for test data\n",
    "test_acc = accuracy_score(y_test, yhat_test)\n",
    "print('Test data Accuracy : {:0.02f} %'.format(test_acc*100))"
   ]
  },
  {
   "cell_type": "code",
   "execution_count": 24,
   "id": "c9b720b3",
   "metadata": {},
   "outputs": [
    {
     "name": "stdout",
     "output_type": "stream",
     "text": [
      "Train data Accuracy : 69.41 %\n"
     ]
    }
   ],
   "source": [
    "# Predicting results for train data to check for overfit or underfit\n",
    "yhat_train = knn.predict(x_train)\n",
    "\n",
    "train_acc = accuracy_score(y_train, yhat_train)   # Accuracy of the model for train data\n",
    "print('Train data Accuracy : {:0.02f} %'.format(train_acc*100))"
   ]
  },
  {
   "cell_type": "markdown",
   "id": "3947501e",
   "metadata": {},
   "source": [
    "    The test and train data have different accuracies\n",
    "    n_neighbors is the hyper parameter for the model.\n",
    "    Finding the optimum value for n_neigbour which gives close test and train data accuracy"
   ]
  },
  {
   "cell_type": "code",
   "execution_count": 25,
   "id": "2fe1083d",
   "metadata": {},
   "outputs": [],
   "source": [
    "# finding the optimum n_neighbor value \n",
    "\n",
    "accuracy = []\n",
    "for neigh in range(1, 50, 2):\n",
    "    KNN = KNeighborsClassifier(n_neighbors = neigh)\n",
    "    KNN.fit(x_train, y_train)\n",
    "    train_acc = accuracy_score(KNN.predict(x_train), y_train)\n",
    "    test_acc = accuracy_score(KNN.predict(x_test), y_test)\n",
    "    accuracy.append([train_acc, test_acc])"
   ]
  },
  {
   "cell_type": "code",
   "execution_count": 26,
   "id": "21e7a990",
   "metadata": {},
   "outputs": [
    {
     "data": {
      "text/plain": [
       "[[1.0, 0.813953488372093],\n",
       " [0.7764705882352941, 0.7674418604651163],\n",
       " [0.7588235294117647, 0.627906976744186],\n",
       " [0.7058823529411765, 0.6046511627906976],\n",
       " [0.6941176470588235, 0.6046511627906976],\n",
       " [0.7, 0.6046511627906976],\n",
       " [0.6882352941176471, 0.5813953488372093],\n",
       " [0.6764705882352942, 0.5813953488372093],\n",
       " [0.6823529411764706, 0.5813953488372093],\n",
       " [0.6705882352941176, 0.6046511627906976]]"
      ]
     },
     "execution_count": 26,
     "metadata": {},
     "output_type": "execute_result"
    }
   ],
   "source": [
    "accuracy[0:10]"
   ]
  },
  {
   "cell_type": "code",
   "execution_count": 27,
   "id": "65efcefd",
   "metadata": {},
   "outputs": [
    {
     "data": {
      "image/png": "[encoded data removed]",
      "text/plain": [
       "<Figure size 720x360 with 1 Axes>"
      ]
     },
     "metadata": {
      "needs_background": "light"
     },
     "output_type": "display_data"
    }
   ],
   "source": [
    "plt.figure(figsize=(10,5))\n",
    "# Train data accuracy plot \n",
    "plt.plot(np.arange(1,50,2),[acc[0] for acc in accuracy],\"ro-\")\n",
    "\n",
    "# Test data accuracy plot\n",
    "plt.plot(np.arange(1,50,2),[acc[1] for acc in accuracy],\"b+-\")\n",
    "\n",
    "plt.grid('on')"
   ]
  },
  {
   "cell_type": "markdown",
   "id": "31c911a7",
   "metadata": {},
   "source": [
    "From the above plot the optimum number of neighbors value for the model is 3, for which we get the maximum accuracy for both train and test data"
   ]
  },
  {
   "cell_type": "code",
   "execution_count": 28,
   "id": "15a1f7d7",
   "metadata": {},
   "outputs": [],
   "source": [
    "# Substituing n_neighbors = 3\n",
    "\n",
    "KNN = KNeighborsClassifier(n_neighbors = 3)\n",
    "KNN.fit(x_train, y_train)\n",
    "\n",
    "final_yhat_train = KNN.predict(x_train)\n",
    "final_yhat_test = KNN.predict(x_test)\n",
    "\n",
    "final_train_acc = accuracy_score(final_yhat_train, y_train)\n",
    "final_test_acc = accuracy_score(final_yhat_test, y_test)\n"
   ]
  },
  {
   "cell_type": "code",
   "execution_count": 29,
   "id": "31ac21b6",
   "metadata": {},
   "outputs": [
    {
     "name": "stdout",
     "output_type": "stream",
     "text": [
      "Train data Accuracy : 77.65 %\n",
      "Test data Accuracy : 76.74 %\n"
     ]
    }
   ],
   "source": [
    "print('Train data Accuracy : {:0.02f} %'.format(final_train_acc*100)),\n",
    "print('Test data Accuracy : {:0.02f} %'.format(final_test_acc*100))"
   ]
  },
  {
   "cell_type": "code",
   "execution_count": 30,
   "id": "1a44591a",
   "metadata": {},
   "outputs": [
    {
     "data": {
      "text/plain": [
       "array([[14,  3,  2,  0,  0,  2],\n",
       "       [ 0, 12,  0,  2,  0,  0],\n",
       "       [ 0,  0,  1,  0,  0,  0],\n",
       "       [ 0,  0,  0,  1,  0,  0],\n",
       "       [ 0,  0,  0,  0,  2,  1],\n",
       "       [ 0,  0,  0,  0,  0,  3]], dtype=int64)"
      ]
     },
     "execution_count": 30,
     "metadata": {},
     "output_type": "execute_result"
    }
   ],
   "source": [
    "# Confusion matrix for test data\n",
    "\n",
    "confusion_matrix(final_yhat_test,y_test)"
   ]
  },
  {
   "cell_type": "code",
   "execution_count": 31,
   "id": "52f829b8",
   "metadata": {},
   "outputs": [
    {
     "name": "stdout",
     "output_type": "stream",
     "text": [
      "              precision    recall  f1-score   support\n",
      "\n",
      "           1       1.00      0.67      0.80        21\n",
      "           2       0.80      0.86      0.83        14\n",
      "           3       0.33      1.00      0.50         1\n",
      "           5       0.33      1.00      0.50         1\n",
      "           6       1.00      0.67      0.80         3\n",
      "           7       0.50      1.00      0.67         3\n",
      "\n",
      "    accuracy                           0.77        43\n",
      "   macro avg       0.66      0.87      0.68        43\n",
      "weighted avg       0.87      0.77      0.79        43\n",
      "\n"
     ]
    }
   ],
   "source": [
    "# Classification report giving precision and recall for each class in test data\n",
    "\n",
    "from sklearn.metrics import classification_report\n",
    "\n",
    "print(classification_report(final_yhat_test,y_test))"
   ]
  },
  {
   "cell_type": "markdown",
   "id": "2194d9f5",
   "metadata": {},
   "source": [
    "The given model can be used to predict the glass type based on the given features with an accuracy of 77%"
   ]
  },
  {
   "cell_type": "code",
   "execution_count": null,
   "id": "ff356c72",
   "metadata": {},
   "outputs": [],
   "source": []
  }
 ],
 "metadata": {
  "kernelspec": {
   "display_name": "Python 3 (ipykernel)",
   "language": "python",
   "name": "python3"
  },
  "language_info": {
   "codemirror_mode": {
    "name": "ipython",
    "version": 3
   },
   "file_extension": ".py",
   "mimetype": "text/x-python",
   "name": "python",
   "nbconvert_exporter": "python",
   "pygments_lexer": "ipython3",
   "version": "3.9.12"
  }
 },
 "nbformat": 4,
 "nbformat_minor": 5
}
