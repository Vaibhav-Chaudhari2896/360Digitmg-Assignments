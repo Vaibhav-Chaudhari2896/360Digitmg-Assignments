{
 "cells": [
  {
   "cell_type": "raw",
   "id": "67b65fd0",
   "metadata": {},
   "source": [
    "                                                                                                            Vaibhav Chaudhari\n",
    "                                                                                                            DSWDEOS 280422"
   ]
  },
  {
   "cell_type": "markdown",
   "id": "45b24858",
   "metadata": {},
   "source": [
    "# Statistical Data Visualization Q1.a"
   ]
  },
  {
   "cell_type": "code",
   "execution_count": 1,
   "id": "b57ba8ac",
   "metadata": {},
   "outputs": [],
   "source": [
    "# importing necessary libraries\n",
    "\n",
    "import pandas as pd \n",
    "import numpy as np\n",
    "import matplotlib.pyplot as plt\n",
    "import seaborn as sns\n",
    "import statistics as stat\n",
    "import scipy.stats as ss"
   ]
  },
  {
   "cell_type": "code",
   "execution_count": 2,
   "id": "a9cd602a",
   "metadata": {},
   "outputs": [],
   "source": [
    "# importing datasets\n",
    "\n",
    "data = pd.read_csv('C:\\\\Users\\\\vaibh\\\\Desktop\\\\360 Digitmg\\\\Statistical Data Visualization\\\\Q2_b.csv')"
   ]
  },
  {
   "cell_type": "code",
   "execution_count": 3,
   "id": "5e4edce8",
   "metadata": {},
   "outputs": [
    {
     "data": {
      "text/html": [
       "<div>\n",
       "<style scoped>\n",
       "    .dataframe tbody tr th:only-of-type {\n",
       "        vertical-align: middle;\n",
       "    }\n",
       "\n",
       "    .dataframe tbody tr th {\n",
       "        vertical-align: top;\n",
       "    }\n",
       "\n",
       "    .dataframe thead th {\n",
       "        text-align: right;\n",
       "    }\n",
       "</style>\n",
       "<table border=\"1\" class=\"dataframe\">\n",
       "  <thead>\n",
       "    <tr style=\"text-align: right;\">\n",
       "      <th></th>\n",
       "      <th>Unnamed: 0</th>\n",
       "      <th>SP</th>\n",
       "      <th>WT</th>\n",
       "    </tr>\n",
       "  </thead>\n",
       "  <tbody>\n",
       "    <tr>\n",
       "      <th>0</th>\n",
       "      <td>1</td>\n",
       "      <td>104.185353</td>\n",
       "      <td>28.762059</td>\n",
       "    </tr>\n",
       "    <tr>\n",
       "      <th>1</th>\n",
       "      <td>2</td>\n",
       "      <td>105.461264</td>\n",
       "      <td>30.466833</td>\n",
       "    </tr>\n",
       "    <tr>\n",
       "      <th>2</th>\n",
       "      <td>3</td>\n",
       "      <td>105.461264</td>\n",
       "      <td>30.193597</td>\n",
       "    </tr>\n",
       "    <tr>\n",
       "      <th>3</th>\n",
       "      <td>4</td>\n",
       "      <td>113.461264</td>\n",
       "      <td>30.632114</td>\n",
       "    </tr>\n",
       "    <tr>\n",
       "      <th>4</th>\n",
       "      <td>5</td>\n",
       "      <td>104.461264</td>\n",
       "      <td>29.889149</td>\n",
       "    </tr>\n",
       "  </tbody>\n",
       "</table>\n",
       "</div>"
      ],
      "text/plain": [
       "   Unnamed: 0          SP         WT\n",
       "0           1  104.185353  28.762059\n",
       "1           2  105.461264  30.466833\n",
       "2           3  105.461264  30.193597\n",
       "3           4  113.461264  30.632114\n",
       "4           5  104.461264  29.889149"
      ]
     },
     "execution_count": 3,
     "metadata": {},
     "output_type": "execute_result"
    }
   ],
   "source": [
    "# Checking the features\n",
    "data.head()"
   ]
  },
  {
   "cell_type": "code",
   "execution_count": 4,
   "id": "c4933e79",
   "metadata": {},
   "outputs": [],
   "source": [
    "# Dropping irrelevant feature\n",
    "\n",
    "data.drop(['Unnamed: 0'], axis = 1, inplace = True)"
   ]
  },
  {
   "cell_type": "code",
   "execution_count": 5,
   "id": "d6376d0b",
   "metadata": {},
   "outputs": [
    {
     "data": {
      "text/plain": [
       "(81, 2)"
      ]
     },
     "execution_count": 5,
     "metadata": {},
     "output_type": "execute_result"
    }
   ],
   "source": [
    "# Shape of dataset\n",
    "data.shape"
   ]
  },
  {
   "cell_type": "code",
   "execution_count": 6,
   "id": "c945be23",
   "metadata": {
    "scrolled": true
   },
   "outputs": [
    {
     "data": {
      "text/plain": [
       "SP    0\n",
       "WT    0\n",
       "dtype: int64"
      ]
     },
     "execution_count": 6,
     "metadata": {},
     "output_type": "execute_result"
    }
   ],
   "source": [
    "# Check for null values\n",
    "data.isnull().sum()"
   ]
  },
  {
   "cell_type": "markdown",
   "id": "1e434209",
   "metadata": {},
   "source": [
    "There are no null values"
   ]
  },
  {
   "cell_type": "code",
   "execution_count": 7,
   "id": "e3a0ea62",
   "metadata": {
    "scrolled": true
   },
   "outputs": [
    {
     "data": {
      "text/plain": [
       "0"
      ]
     },
     "execution_count": 7,
     "metadata": {},
     "output_type": "execute_result"
    }
   ],
   "source": [
    "# Check for duplicate values\n",
    "data.duplicated().sum() "
   ]
  },
  {
   "cell_type": "markdown",
   "id": "ad79fba8",
   "metadata": {},
   "source": [
    "There are no duplicate values"
   ]
  },
  {
   "cell_type": "code",
   "execution_count": 8,
   "id": "60e3f66b",
   "metadata": {},
   "outputs": [
    {
     "data": {
      "image/png": "[encoded data removed]",
      "text/plain": [
       "<Figure size 1080x216 with 2 Axes>"
      ]
     },
     "metadata": {
      "needs_background": "light"
     },
     "output_type": "display_data"
    }
   ],
   "source": [
    "# Boxplot for outliers\n",
    "plt.subplots(1,2,figsize=(15,3))\n",
    "plt.subplot(121) ; sns.boxplot(x = data.iloc[:,0]);plt.title('SP');\n",
    "plt.subplot(122) ; sns.boxplot(x = data.iloc[:,1]);plt.title('WT');"
   ]
  },
  {
   "cell_type": "markdown",
   "id": "d4a7e364",
   "metadata": {},
   "source": [
    "SP and WT features has outliers"
   ]
  },
  {
   "cell_type": "code",
   "execution_count": 9,
   "id": "119b8ca3",
   "metadata": {},
   "outputs": [],
   "source": [
    "# Removing outliers\n",
    "\n",
    "for col in data.columns:\n",
    "    IQR = data[col].quantile(0.75) - data[col].quantile(0.25)\n",
    "    low_end = data[col].quantile(0.25) - (1.5*IQR)\n",
    "    upper_end = data[col].quantile(0.75) + (1.5*IQR)\n",
    "    if low_end<0:\n",
    "        low_end =0\n",
    "        data[col] = pd.DataFrame(np.where(data[col] > upper_end,upper_end, \n",
    "                          np.where(data[col] < low_end,low_end,data[col])))\n",
    "    else:\n",
    "        data[col] = pd.DataFrame(np.where(data[col] > upper_end,upper_end, \n",
    "                  np.where(data[col] < low_end,low_end,data[col])))"
   ]
  },
  {
   "cell_type": "code",
   "execution_count": 10,
   "id": "909ca452",
   "metadata": {
    "scrolled": true
   },
   "outputs": [
    {
     "name": "stdout",
     "output_type": "stream",
     "text": [
      "Mean[SP] : 120.42\n",
      "Median[SP] : 118.2086984\n",
      "Mode[SP] : 145.26706234999997\n",
      "Variance[SP] : 122.84\n",
      "Std[SP] : 11.08\n",
      "Kurtosis[SP] : 0.04\n",
      "Skewness[SP] : 0.73\n",
      "\n",
      "\n",
      "Mean[WT] : 32.58\n",
      "Median[WT] : 32.73451818\n",
      "Mode[WT] : 17.89063417\n",
      "Variance[WT] : 46.97\n",
      "Std[WT] : 6.85\n",
      "Kurtosis[WT] : 0.34\n",
      "Skewness[WT] : -0.52\n",
      "\n",
      "\n"
     ]
    }
   ],
   "source": [
    "# Mean, Median, Mode, Variance, Standard Deviation, Kurtosis and Skewness\n",
    "\n",
    "for column in data.columns:\n",
    "    mean = np.round(np.mean(data[column]),2); print('Mean[{}] : {}'.format(column,mean));\n",
    "    median = np.median(data[column]); print('Median[{}] : {}'.format(column,median));\n",
    "    mode = stat.mode(data[column]); print('Mode[{}] : {}'.format(column,mode));\n",
    "    variance = np.round(np.var(data[column]),2); print('Variance[{}] : {}'.format(column,variance));\n",
    "    std = np.round(np.std(data[column]),2); print('Std[{}] : {}'.format(column,std));\n",
    "    kur = np.round(ss.kurtosis(data[column]),2); print('Kurtosis[{}] : {}'.format(column,kur));\n",
    "    skew = np.round(ss.skew(data[column]),2); print('Skewness[{}] : {}'.format(column,skew));\n",
    "    print('\\n')"
   ]
  },
  {
   "cell_type": "markdown",
   "id": "d3a7c143",
   "metadata": {},
   "source": [
    "The kurtosis for the given features are acceptable.\n",
    "However the SP is positively skewed and WT is negatively skewed.(Moderately skewed)"
   ]
  },
  {
   "cell_type": "code",
   "execution_count": 11,
   "id": "ce8d95d5",
   "metadata": {
    "scrolled": false
   },
   "outputs": [
    {
     "data": {
      "text/plain": [
       "<AxesSubplot:xlabel='WT', ylabel='Count'>"
      ]
     },
     "execution_count": 11,
     "metadata": {},
     "output_type": "execute_result"
    },
    {
     "data": {
      "image/png": "[encoded data removed]",
      "text/plain": [
       "<Figure size 720x288 with 2 Axes>"
      ]
     },
     "metadata": {
      "needs_background": "light"
     },
     "output_type": "display_data"
    }
   ],
   "source": [
    "# Distplot of the features\n",
    "plt.subplots(1,2,figsize=(10,4))\n",
    "plt.subplot(121) ; sns.histplot(x = data.iloc[:,0],kde = 1)\n",
    "plt.subplot(122) ; sns.histplot(x = data.iloc[:,1],kde = 1)"
   ]
  },
  {
   "cell_type": "markdown",
   "id": "94c5c368",
   "metadata": {},
   "source": [
    "The features are normally distributed."
   ]
  },
  {
   "cell_type": "code",
   "execution_count": 12,
   "id": "a0f394fc",
   "metadata": {},
   "outputs": [
    {
     "data": {
      "text/plain": [
       "<AxesSubplot:>"
      ]
     },
     "execution_count": 12,
     "metadata": {},
     "output_type": "execute_result"
    },
    {
     "data": {
      "image/png": "[encoded data removed]",
      "text/plain": [
       "<Figure size 432x288 with 2 Axes>"
      ]
     },
     "metadata": {
      "needs_background": "light"
     },
     "output_type": "display_data"
    }
   ],
   "source": [
    "# Heatmap of corr \n",
    "sns.heatmap(data.corr(),annot=True)"
   ]
  },
  {
   "cell_type": "markdown",
   "id": "75fe394b",
   "metadata": {},
   "source": [
    "There is very low correlation between WT and SP"
   ]
  },
  {
   "cell_type": "code",
   "execution_count": 13,
   "id": "9b90ece4",
   "metadata": {},
   "outputs": [],
   "source": [
    "# Transforming the features\n",
    "\n",
    "# Log Transformation for SP\n",
    "data.SP = np.log(data.SP)\n",
    "\n",
    "# Square Transformation for WT\n",
    "data.WT = np.square(data.WT)"
   ]
  },
  {
   "cell_type": "code",
   "execution_count": 14,
   "id": "01d6a5a2",
   "metadata": {
    "scrolled": true
   },
   "outputs": [
    {
     "name": "stdout",
     "output_type": "stream",
     "text": [
      "0.52\n",
      "0.17\n"
     ]
    }
   ],
   "source": [
    "# Checking for skewness\n",
    "skew_SP = np.round(ss.skew(data.SP),2); print (skew_SP)\n",
    "skew_WT = np.round(ss.skew(data.WT),2); print (skew_WT)"
   ]
  },
  {
   "cell_type": "markdown",
   "id": "6017c230",
   "metadata": {},
   "source": [
    "The skewness for the features are acceptable"
   ]
  }
 ],
 "metadata": {
  "kernelspec": {
   "display_name": "Python 3 (ipykernel)",
   "language": "python",
   "name": "python3"
  },
  "language_info": {
   "codemirror_mode": {
    "name": "ipython",
    "version": 3
   },
   "file_extension": ".py",
   "mimetype": "text/x-python",
   "name": "python",
   "nbconvert_exporter": "python",
   "pygments_lexer": "ipython3",
   "version": "3.9.12"
  }
 },
 "nbformat": 4,
 "nbformat_minor": 5
}
