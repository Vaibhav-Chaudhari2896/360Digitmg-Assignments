{
 "cells": [
  {
   "cell_type": "raw",
   "id": "c4ec268c",
   "metadata": {},
   "source": [
    "                                                                                                            Vaibhav Chaudhari\n",
    "                                                                                                            DSWDEOS 280422"
   ]
  },
  {
   "cell_type": "markdown",
   "id": "45b24858",
   "metadata": {},
   "source": [
    "# Statistical Data Visualization Q1.a"
   ]
  },
  {
   "cell_type": "code",
   "execution_count": 1,
   "id": "b57ba8ac",
   "metadata": {},
   "outputs": [],
   "source": [
    "# importing necessary libraries\n",
    "\n",
    "import pandas as pd \n",
    "import numpy as np\n",
    "import matplotlib.pyplot as plt\n",
    "import seaborn as sns\n",
    "import statistics as stat\n",
    "import scipy.stats as ss"
   ]
  },
  {
   "cell_type": "code",
   "execution_count": 2,
   "id": "a9cd602a",
   "metadata": {},
   "outputs": [],
   "source": [
    "# importing datasets\n",
    "\n",
    "data = pd.read_csv('C:\\\\Users\\\\vaibh\\\\Desktop\\\\360 Digitmg\\\\Statistical Data Visualization\\\\Q1_a.csv')"
   ]
  },
  {
   "cell_type": "code",
   "execution_count": 3,
   "id": "5e4edce8",
   "metadata": {},
   "outputs": [
    {
     "data": {
      "text/html": [
       "<div>\n",
       "<style scoped>\n",
       "    .dataframe tbody tr th:only-of-type {\n",
       "        vertical-align: middle;\n",
       "    }\n",
       "\n",
       "    .dataframe tbody tr th {\n",
       "        vertical-align: top;\n",
       "    }\n",
       "\n",
       "    .dataframe thead th {\n",
       "        text-align: right;\n",
       "    }\n",
       "</style>\n",
       "<table border=\"1\" class=\"dataframe\">\n",
       "  <thead>\n",
       "    <tr style=\"text-align: right;\">\n",
       "      <th></th>\n",
       "      <th>Index</th>\n",
       "      <th>speed</th>\n",
       "      <th>dist</th>\n",
       "    </tr>\n",
       "  </thead>\n",
       "  <tbody>\n",
       "    <tr>\n",
       "      <th>0</th>\n",
       "      <td>1</td>\n",
       "      <td>4</td>\n",
       "      <td>2</td>\n",
       "    </tr>\n",
       "    <tr>\n",
       "      <th>1</th>\n",
       "      <td>2</td>\n",
       "      <td>4</td>\n",
       "      <td>10</td>\n",
       "    </tr>\n",
       "    <tr>\n",
       "      <th>2</th>\n",
       "      <td>3</td>\n",
       "      <td>7</td>\n",
       "      <td>4</td>\n",
       "    </tr>\n",
       "    <tr>\n",
       "      <th>3</th>\n",
       "      <td>4</td>\n",
       "      <td>7</td>\n",
       "      <td>22</td>\n",
       "    </tr>\n",
       "    <tr>\n",
       "      <th>4</th>\n",
       "      <td>5</td>\n",
       "      <td>8</td>\n",
       "      <td>16</td>\n",
       "    </tr>\n",
       "  </tbody>\n",
       "</table>\n",
       "</div>"
      ],
      "text/plain": [
       "   Index  speed  dist\n",
       "0      1      4     2\n",
       "1      2      4    10\n",
       "2      3      7     4\n",
       "3      4      7    22\n",
       "4      5      8    16"
      ]
     },
     "execution_count": 3,
     "metadata": {},
     "output_type": "execute_result"
    }
   ],
   "source": [
    "# Checking the features\n",
    "data.head()"
   ]
  },
  {
   "cell_type": "code",
   "execution_count": 4,
   "id": "c4933e79",
   "metadata": {},
   "outputs": [],
   "source": [
    "# Dropping irrelevant feature\n",
    "data.drop(['Index'], axis = 1, inplace = True)"
   ]
  },
  {
   "cell_type": "code",
   "execution_count": 5,
   "id": "d6376d0b",
   "metadata": {},
   "outputs": [
    {
     "data": {
      "text/plain": [
       "(50, 2)"
      ]
     },
     "execution_count": 5,
     "metadata": {},
     "output_type": "execute_result"
    }
   ],
   "source": [
    "# Shape of dataset\n",
    "data.shape"
   ]
  },
  {
   "cell_type": "code",
   "execution_count": 6,
   "id": "c945be23",
   "metadata": {
    "scrolled": true
   },
   "outputs": [
    {
     "name": "stdout",
     "output_type": "stream",
     "text": [
      "speed    0\n",
      "dist     0\n",
      "dtype: int64\n"
     ]
    }
   ],
   "source": [
    "# Check for null values\n",
    "x = data.isnull().sum() ; print(x)"
   ]
  },
  {
   "cell_type": "markdown",
   "id": "1e434209",
   "metadata": {},
   "source": [
    "There are no null values"
   ]
  },
  {
   "cell_type": "code",
   "execution_count": 7,
   "id": "e3a0ea62",
   "metadata": {
    "scrolled": true
   },
   "outputs": [
    {
     "data": {
      "text/plain": [
       "1"
      ]
     },
     "execution_count": 7,
     "metadata": {},
     "output_type": "execute_result"
    }
   ],
   "source": [
    "# Check for duplicate values\n",
    "data.duplicated().sum() "
   ]
  },
  {
   "cell_type": "markdown",
   "id": "ad79fba8",
   "metadata": {},
   "source": [
    "There is one duplicate value"
   ]
  },
  {
   "cell_type": "code",
   "execution_count": 8,
   "id": "2899450a",
   "metadata": {},
   "outputs": [],
   "source": [
    "# Dropping duplicate values\n",
    "data.drop_duplicates(inplace = True,ignore_index=True)"
   ]
  },
  {
   "cell_type": "code",
   "execution_count": 9,
   "id": "3b8c0736",
   "metadata": {},
   "outputs": [
    {
     "data": {
      "text/plain": [
       "speed    0\n",
       "dist     0\n",
       "dtype: int64"
      ]
     },
     "execution_count": 9,
     "metadata": {},
     "output_type": "execute_result"
    }
   ],
   "source": [
    "data.isna().sum()"
   ]
  },
  {
   "cell_type": "code",
   "execution_count": 10,
   "id": "60e3f66b",
   "metadata": {},
   "outputs": [
    {
     "data": {
      "image/png": "[encoded data removed]",
      "text/plain": [
       "<Figure size 720x288 with 2 Axes>"
      ]
     },
     "metadata": {
      "needs_background": "light"
     },
     "output_type": "display_data"
    }
   ],
   "source": [
    "# Boxplot for outliers\n",
    "plt.subplots(1,2,figsize=(10,4))\n",
    "plt.subplot(121) ; sns.boxplot(x = data.iloc[:,0]);plt.title('Speed');\n",
    "plt.subplot(122) ; sns.boxplot(x = data.iloc[:,1]);plt.title('Dist');"
   ]
  },
  {
   "cell_type": "markdown",
   "id": "d4a7e364",
   "metadata": {},
   "source": [
    "Dist feature has outliers"
   ]
  },
  {
   "cell_type": "code",
   "execution_count": 11,
   "id": "119b8ca3",
   "metadata": {},
   "outputs": [
    {
     "name": "stdout",
     "output_type": "stream",
     "text": [
      "-19.0\n",
      "101.0\n"
     ]
    }
   ],
   "source": [
    "# Removing outliers\n",
    "\n",
    "IQR = data['dist'].quantile(0.75) - data['dist'].quantile(0.25)\n",
    "low_end = data['dist'].quantile(0.25) - (1.5*IQR);print(low_end)\n",
    "upper_end = data['dist'].quantile(0.75) + (1.5*IQR);print(upper_end)\n",
    "data['dist'] = pd.DataFrame(np.where(data['dist'] > upper_end,upper_end, \n",
    "                      np.where(data['dist'] < 0,0,data['dist'])))"
   ]
  },
  {
   "cell_type": "code",
   "execution_count": 12,
   "id": "ea65b76f",
   "metadata": {},
   "outputs": [
    {
     "data": {
      "text/plain": [
       "speed    0\n",
       "dist     0\n",
       "dtype: int64"
      ]
     },
     "execution_count": 12,
     "metadata": {},
     "output_type": "execute_result"
    }
   ],
   "source": [
    "data.isna().sum()"
   ]
  },
  {
   "cell_type": "code",
   "execution_count": 13,
   "id": "909ca452",
   "metadata": {
    "scrolled": true
   },
   "outputs": [
    {
     "name": "stdout",
     "output_type": "stream",
     "text": [
      "Mean[speed] : 15.45\n",
      "Median[speed] : 15.0\n",
      "Mode[speed] : 20\n",
      "Variance[speed] : 27.84\n",
      "Std[speed] : 5.28\n",
      "Kurtosis[speed] : -0.6\n",
      "Skewness[speed] : -0.14\n",
      "\n",
      "\n",
      "Mean[dist] : 42.78\n",
      "Median[dist] : 36.0\n",
      "Mode[dist] : 26.0\n",
      "Variance[dist] : 610.01\n",
      "Std[dist] : 24.7\n",
      "Kurtosis[dist] : -0.52\n",
      "Skewness[dist] : 0.55\n",
      "\n",
      "\n"
     ]
    }
   ],
   "source": [
    "# Mean, Median, Mode, Variance, Standard Deviation, Kurtosis and Skewness\n",
    "for column in data.columns:\n",
    "    mean = np.round(np.mean(data[column]),2); print('Mean[{}] : {}'.format(column,mean));\n",
    "    median = np.median(data[column]); print('Median[{}] : {}'.format(column,median));\n",
    "    mode = stat.mode(data[column]); print('Mode[{}] : {}'.format(column,mode));\n",
    "    variance = np.round(np.var(data[column]),2); print('Variance[{}] : {}'.format(column,variance));\n",
    "    std = np.round(np.std(data[column]),2); print('Std[{}] : {}'.format(column,std));\n",
    "    kur = np.round(ss.kurtosis(data[column]),2); print('Kurtosis[{}] : {}'.format(column,kur));\n",
    "    skew = np.round(ss.skew(data[column]),2); print('Skewness[{}] : {}'.format(column,skew));\n",
    "    print('\\n')"
   ]
  },
  {
   "cell_type": "markdown",
   "id": "d3a7c143",
   "metadata": {},
   "source": [
    "The skewness and kurtosis for the given features are acceptable."
   ]
  },
  {
   "cell_type": "code",
   "execution_count": 15,
   "id": "ce8d95d5",
   "metadata": {},
   "outputs": [
    {
     "data": {
      "image/png": "[encoded data removed]",
      "text/plain": [
       "<Figure size 720x288 with 2 Axes>"
      ]
     },
     "metadata": {
      "needs_background": "light"
     },
     "output_type": "display_data"
    }
   ],
   "source": [
    "# Distplot of the features\n",
    "plt.subplots(1,2,figsize=(10,4))\n",
    "plt.subplot(121) ; sns.histplot(x = data.iloc[:,0],kde = 1);plt.title('Speed');\n",
    "plt.subplot(122) ; sns.histplot(x = data.iloc[:,1],kde = 1);plt.title('Dist');"
   ]
  },
  {
   "cell_type": "markdown",
   "id": "94c5c368",
   "metadata": {},
   "source": [
    "The features are normally distributed."
   ]
  }
 ],
 "metadata": {
  "kernelspec": {
   "display_name": "Python 3 (ipykernel)",
   "language": "python",
   "name": "python3"
  },
  "language_info": {
   "codemirror_mode": {
    "name": "ipython",
    "version": 3
   },
   "file_extension": ".py",
   "mimetype": "text/x-python",
   "name": "python",
   "nbconvert_exporter": "python",
   "pygments_lexer": "ipython3",
   "version": "3.9.12"
  }
 },
 "nbformat": 4,
 "nbformat_minor": 5
}
