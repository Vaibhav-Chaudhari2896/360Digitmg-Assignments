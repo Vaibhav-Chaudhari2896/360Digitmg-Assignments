{
 "cells": [
  {
   "cell_type": "raw",
   "id": "d80fd847",
   "metadata": {},
   "source": [
    "                                                                                                            Vaibhav Chaudhari \n",
    "                                                                                                            DSWDEOS 280422"
   ]
  },
  {
   "cell_type": "raw",
   "id": "cc9f070c",
   "metadata": {},
   "source": [
    "Business Objective:\n",
    "    It is a crime dataset with data on different crimes in different states.\n",
    "    The objective is to segregate states based on crimes"
   ]
  },
  {
   "cell_type": "markdown",
   "id": "6701d106",
   "metadata": {},
   "source": [
    "# Hierarchical Clustering Q2"
   ]
  },
  {
   "cell_type": "code",
   "execution_count": 1,
   "id": "697732cd",
   "metadata": {},
   "outputs": [],
   "source": [
    "# importing necessary libraries\n",
    "import pandas as pd \n",
    "import numpy as np\n",
    "import matplotlib.pyplot as plt\n",
    "import seaborn as sns\n",
    "import scipy as sc\n",
    "import sklearn as sk\n",
    "\n",
    "import warnings\n",
    "warnings.simplefilter(action='ignore', category=FutureWarning)\n",
    "%matplotlib inline"
   ]
  },
  {
   "cell_type": "code",
   "execution_count": 2,
   "id": "ae6504b0",
   "metadata": {},
   "outputs": [],
   "source": [
    "# importing the dataset\n",
    "o_data = pd.read_csv('C:\\\\Users\\\\vaibh\\\\Desktop\\\\360 Digitmg\\\\Hierarichal Clustering\\\\Assignment\\\\crime_data.csv')"
   ]
  },
  {
   "cell_type": "code",
   "execution_count": 3,
   "id": "cc1fdfc7",
   "metadata": {},
   "outputs": [],
   "source": [
    "data = o_data.copy()"
   ]
  },
  {
   "cell_type": "code",
   "execution_count": 4,
   "id": "da0edc08",
   "metadata": {},
   "outputs": [
    {
     "data": {
      "text/html": [
       "<div>\n",
       "<style scoped>\n",
       "    .dataframe tbody tr th:only-of-type {\n",
       "        vertical-align: middle;\n",
       "    }\n",
       "\n",
       "    .dataframe tbody tr th {\n",
       "        vertical-align: top;\n",
       "    }\n",
       "\n",
       "    .dataframe thead th {\n",
       "        text-align: right;\n",
       "    }\n",
       "</style>\n",
       "<table border=\"1\" class=\"dataframe\">\n",
       "  <thead>\n",
       "    <tr style=\"text-align: right;\">\n",
       "      <th></th>\n",
       "      <th>Unnamed: 0</th>\n",
       "      <th>Murder</th>\n",
       "      <th>Assault</th>\n",
       "      <th>UrbanPop</th>\n",
       "      <th>Rape</th>\n",
       "    </tr>\n",
       "  </thead>\n",
       "  <tbody>\n",
       "    <tr>\n",
       "      <th>0</th>\n",
       "      <td>Alabama</td>\n",
       "      <td>13.2</td>\n",
       "      <td>236</td>\n",
       "      <td>58</td>\n",
       "      <td>21.2</td>\n",
       "    </tr>\n",
       "    <tr>\n",
       "      <th>1</th>\n",
       "      <td>Alaska</td>\n",
       "      <td>10.0</td>\n",
       "      <td>263</td>\n",
       "      <td>48</td>\n",
       "      <td>44.5</td>\n",
       "    </tr>\n",
       "    <tr>\n",
       "      <th>2</th>\n",
       "      <td>Arizona</td>\n",
       "      <td>8.1</td>\n",
       "      <td>294</td>\n",
       "      <td>80</td>\n",
       "      <td>31.0</td>\n",
       "    </tr>\n",
       "    <tr>\n",
       "      <th>3</th>\n",
       "      <td>Arkansas</td>\n",
       "      <td>8.8</td>\n",
       "      <td>190</td>\n",
       "      <td>50</td>\n",
       "      <td>19.5</td>\n",
       "    </tr>\n",
       "    <tr>\n",
       "      <th>4</th>\n",
       "      <td>California</td>\n",
       "      <td>9.0</td>\n",
       "      <td>276</td>\n",
       "      <td>91</td>\n",
       "      <td>40.6</td>\n",
       "    </tr>\n",
       "  </tbody>\n",
       "</table>\n",
       "</div>"
      ],
      "text/plain": [
       "   Unnamed: 0  Murder  Assault  UrbanPop  Rape\n",
       "0     Alabama    13.2      236        58  21.2\n",
       "1      Alaska    10.0      263        48  44.5\n",
       "2     Arizona     8.1      294        80  31.0\n",
       "3    Arkansas     8.8      190        50  19.5\n",
       "4  California     9.0      276        91  40.6"
      ]
     },
     "execution_count": 4,
     "metadata": {},
     "output_type": "execute_result"
    }
   ],
   "source": [
    "# checking the features in the dataset\n",
    "data.head()"
   ]
  },
  {
   "cell_type": "code",
   "execution_count": 5,
   "id": "b15e3b5a",
   "metadata": {},
   "outputs": [
    {
     "data": {
      "text/plain": [
       "(50, 5)"
      ]
     },
     "execution_count": 5,
     "metadata": {},
     "output_type": "execute_result"
    }
   ],
   "source": [
    "# Dimensions of the dataset\n",
    "data.shape"
   ]
  },
  {
   "cell_type": "code",
   "execution_count": 6,
   "id": "a29af254",
   "metadata": {},
   "outputs": [
    {
     "data": {
      "text/plain": [
       "Unnamed: 0    0\n",
       "Murder        0\n",
       "Assault       0\n",
       "UrbanPop      0\n",
       "Rape          0\n",
       "dtype: int64"
      ]
     },
     "execution_count": 6,
     "metadata": {},
     "output_type": "execute_result"
    }
   ],
   "source": [
    "# Checking for null values\n",
    "data.isnull().sum()"
   ]
  },
  {
   "cell_type": "markdown",
   "id": "9af20465",
   "metadata": {},
   "source": [
    "There are no null values"
   ]
  },
  {
   "cell_type": "code",
   "execution_count": 7,
   "id": "27eaba2f",
   "metadata": {},
   "outputs": [
    {
     "data": {
      "text/plain": [
       "0"
      ]
     },
     "execution_count": 7,
     "metadata": {},
     "output_type": "execute_result"
    }
   ],
   "source": [
    "# Checking for duplicate values\n",
    "data.duplicated().sum()"
   ]
  },
  {
   "cell_type": "markdown",
   "id": "25babf82",
   "metadata": {},
   "source": [
    "There are no duplicate values"
   ]
  },
  {
   "cell_type": "code",
   "execution_count": 8,
   "id": "ffe99b29",
   "metadata": {},
   "outputs": [
    {
     "name": "stdout",
     "output_type": "stream",
     "text": [
      "<class 'pandas.core.frame.DataFrame'>\n",
      "RangeIndex: 50 entries, 0 to 49\n",
      "Data columns (total 5 columns):\n",
      " #   Column      Non-Null Count  Dtype  \n",
      "---  ------      --------------  -----  \n",
      " 0   Unnamed: 0  50 non-null     object \n",
      " 1   Murder      50 non-null     float64\n",
      " 2   Assault     50 non-null     int64  \n",
      " 3   UrbanPop    50 non-null     int64  \n",
      " 4   Rape        50 non-null     float64\n",
      "dtypes: float64(2), int64(2), object(1)\n",
      "memory usage: 2.1+ KB\n"
     ]
    }
   ],
   "source": [
    "# Info of the dataset\n",
    "data.info()"
   ]
  },
  {
   "cell_type": "code",
   "execution_count": 9,
   "id": "dfe1803e",
   "metadata": {},
   "outputs": [
    {
     "data": {
      "text/html": [
       "<div>\n",
       "<style scoped>\n",
       "    .dataframe tbody tr th:only-of-type {\n",
       "        vertical-align: middle;\n",
       "    }\n",
       "\n",
       "    .dataframe tbody tr th {\n",
       "        vertical-align: top;\n",
       "    }\n",
       "\n",
       "    .dataframe thead th {\n",
       "        text-align: right;\n",
       "    }\n",
       "</style>\n",
       "<table border=\"1\" class=\"dataframe\">\n",
       "  <thead>\n",
       "    <tr style=\"text-align: right;\">\n",
       "      <th></th>\n",
       "      <th>Name of Feature</th>\n",
       "      <th>Description</th>\n",
       "      <th>Type</th>\n",
       "      <th>Relevance</th>\n",
       "    </tr>\n",
       "  </thead>\n",
       "  <tbody>\n",
       "    <tr>\n",
       "      <th>0</th>\n",
       "      <td>Unnamed: 0</td>\n",
       "      <td>USA States</td>\n",
       "      <td>Nominal</td>\n",
       "      <td>Irrelevant</td>\n",
       "    </tr>\n",
       "    <tr>\n",
       "      <th>1</th>\n",
       "      <td>Murder</td>\n",
       "      <td>Murder arrests in the state</td>\n",
       "      <td>Ratio</td>\n",
       "      <td>Relevant</td>\n",
       "    </tr>\n",
       "    <tr>\n",
       "      <th>2</th>\n",
       "      <td>Assault</td>\n",
       "      <td>Assault arrests in the state</td>\n",
       "      <td>Ratio</td>\n",
       "      <td>Relevant</td>\n",
       "    </tr>\n",
       "    <tr>\n",
       "      <th>3</th>\n",
       "      <td>UrbanPop</td>\n",
       "      <td>% Urban Population</td>\n",
       "      <td>Ratio</td>\n",
       "      <td>Relevant</td>\n",
       "    </tr>\n",
       "    <tr>\n",
       "      <th>4</th>\n",
       "      <td>Rape</td>\n",
       "      <td>Rape arrests in the state</td>\n",
       "      <td>Ratio</td>\n",
       "      <td>Relevant</td>\n",
       "    </tr>\n",
       "  </tbody>\n",
       "</table>\n",
       "</div>"
      ],
      "text/plain": [
       "  Name of Feature                   Description     Type   Relevance\n",
       "0      Unnamed: 0                    USA States  Nominal  Irrelevant\n",
       "1          Murder   Murder arrests in the state    Ratio    Relevant\n",
       "2         Assault  Assault arrests in the state    Ratio    Relevant\n",
       "3        UrbanPop            % Urban Population    Ratio    Relevant\n",
       "4            Rape     Rape arrests in the state    Ratio    Relevant"
      ]
     },
     "execution_count": 9,
     "metadata": {},
     "output_type": "execute_result"
    }
   ],
   "source": [
    "# Creating Feature Dictionary\n",
    "feature_dict = pd.DataFrame(columns=['Name of Feature','Description','Type','Relevance'])\n",
    "\n",
    "feature_dict ['Name of Feature'] = data.columns\n",
    "\n",
    "feature_dict ['Description'] = ['USA States','Murder arrests in the state',\n",
    "'Assault arrests in the state','% Urban Population','Rape arrests in the state']\n",
    "\n",
    "feature_dict['Type'] = ['Nominal','Ratio','Ratio','Ratio','Ratio']\n",
    "\n",
    "feature_dict['Relevance'] = ['Irrelevant','Relevant','Relevant','Relevant','Relevant']\n",
    "\n",
    "feature_dict"
   ]
  },
  {
   "cell_type": "code",
   "execution_count": 10,
   "id": "397ba391",
   "metadata": {},
   "outputs": [],
   "source": [
    "# Dropping Irrelevant and output feature\n",
    "data.drop(['Unnamed: 0'],axis = 1, inplace = True )"
   ]
  },
  {
   "cell_type": "code",
   "execution_count": 11,
   "id": "1b228370",
   "metadata": {
    "scrolled": false
   },
   "outputs": [
    {
     "data": {
      "text/html": [
       "<div>\n",
       "<style scoped>\n",
       "    .dataframe tbody tr th:only-of-type {\n",
       "        vertical-align: middle;\n",
       "    }\n",
       "\n",
       "    .dataframe tbody tr th {\n",
       "        vertical-align: top;\n",
       "    }\n",
       "\n",
       "    .dataframe thead th {\n",
       "        text-align: right;\n",
       "    }\n",
       "</style>\n",
       "<table border=\"1\" class=\"dataframe\">\n",
       "  <thead>\n",
       "    <tr style=\"text-align: right;\">\n",
       "      <th></th>\n",
       "      <th>Murder</th>\n",
       "      <th>Assault</th>\n",
       "      <th>UrbanPop</th>\n",
       "      <th>Rape</th>\n",
       "    </tr>\n",
       "  </thead>\n",
       "  <tbody>\n",
       "    <tr>\n",
       "      <th>count</th>\n",
       "      <td>50.00000</td>\n",
       "      <td>50.000000</td>\n",
       "      <td>50.000000</td>\n",
       "      <td>50.000000</td>\n",
       "    </tr>\n",
       "    <tr>\n",
       "      <th>mean</th>\n",
       "      <td>7.78800</td>\n",
       "      <td>170.760000</td>\n",
       "      <td>65.540000</td>\n",
       "      <td>21.232000</td>\n",
       "    </tr>\n",
       "    <tr>\n",
       "      <th>std</th>\n",
       "      <td>4.35551</td>\n",
       "      <td>83.337661</td>\n",
       "      <td>14.474763</td>\n",
       "      <td>9.366385</td>\n",
       "    </tr>\n",
       "    <tr>\n",
       "      <th>min</th>\n",
       "      <td>0.80000</td>\n",
       "      <td>45.000000</td>\n",
       "      <td>32.000000</td>\n",
       "      <td>7.300000</td>\n",
       "    </tr>\n",
       "    <tr>\n",
       "      <th>25%</th>\n",
       "      <td>4.07500</td>\n",
       "      <td>109.000000</td>\n",
       "      <td>54.500000</td>\n",
       "      <td>15.075000</td>\n",
       "    </tr>\n",
       "    <tr>\n",
       "      <th>50%</th>\n",
       "      <td>7.25000</td>\n",
       "      <td>159.000000</td>\n",
       "      <td>66.000000</td>\n",
       "      <td>20.100000</td>\n",
       "    </tr>\n",
       "    <tr>\n",
       "      <th>75%</th>\n",
       "      <td>11.25000</td>\n",
       "      <td>249.000000</td>\n",
       "      <td>77.750000</td>\n",
       "      <td>26.175000</td>\n",
       "    </tr>\n",
       "    <tr>\n",
       "      <th>max</th>\n",
       "      <td>17.40000</td>\n",
       "      <td>337.000000</td>\n",
       "      <td>91.000000</td>\n",
       "      <td>46.000000</td>\n",
       "    </tr>\n",
       "  </tbody>\n",
       "</table>\n",
       "</div>"
      ],
      "text/plain": [
       "         Murder     Assault   UrbanPop       Rape\n",
       "count  50.00000   50.000000  50.000000  50.000000\n",
       "mean    7.78800  170.760000  65.540000  21.232000\n",
       "std     4.35551   83.337661  14.474763   9.366385\n",
       "min     0.80000   45.000000  32.000000   7.300000\n",
       "25%     4.07500  109.000000  54.500000  15.075000\n",
       "50%     7.25000  159.000000  66.000000  20.100000\n",
       "75%    11.25000  249.000000  77.750000  26.175000\n",
       "max    17.40000  337.000000  91.000000  46.000000"
      ]
     },
     "execution_count": 11,
     "metadata": {},
     "output_type": "execute_result"
    }
   ],
   "source": [
    "# Statistical Description\n",
    "data.describe()"
   ]
  },
  {
   "cell_type": "code",
   "execution_count": 12,
   "id": "96f5460c",
   "metadata": {
    "scrolled": false
   },
   "outputs": [
    {
     "data": {
      "text/plain": [
       "<AxesSubplot:>"
      ]
     },
     "execution_count": 12,
     "metadata": {},
     "output_type": "execute_result"
    },
    {
     "data": {
      "image/png": "[encoded data removed]",
      "text/plain": [
       "<Figure size 720x360 with 2 Axes>"
      ]
     },
     "metadata": {
      "needs_background": "light"
     },
     "output_type": "display_data"
    }
   ],
   "source": [
    "# Heat map to check for correlation\n",
    "plt.figure(figsize=(10,5))\n",
    "sns.heatmap(data.corr(), annot=True)"
   ]
  },
  {
   "cell_type": "markdown",
   "id": "f888d14d",
   "metadata": {},
   "source": [
    "Assault, Murder and Rape are correlated to each other."
   ]
  },
  {
   "cell_type": "code",
   "execution_count": 13,
   "id": "5ae022fb",
   "metadata": {
    "scrolled": true
   },
   "outputs": [
    {
     "data": {
      "image/png": "[encoded data removed]",
      "text/plain": [
       "<Figure size 720x288 with 4 Axes>"
      ]
     },
     "metadata": {
      "needs_background": "light"
     },
     "output_type": "display_data"
    }
   ],
   "source": [
    "# Checking for outliers using boxplot\n",
    "\n",
    "fig, axs = plt.subplots(ncols=4, nrows=1, figsize=(10, 4))\n",
    "index = 0\n",
    "axs = axs.flatten()\n",
    "data1 = data.iloc[:,0:]\n",
    "for k,v in data1.items():\n",
    "    sns.boxplot(y = k, data=data1, ax=axs[index])\n",
    "    index += 1\n",
    "plt.tight_layout(pad=0.55, w_pad=0.5, h_pad=4.0)"
   ]
  },
  {
   "cell_type": "markdown",
   "id": "630b5deb",
   "metadata": {},
   "source": [
    "There are some outliers present in the Rape feature"
   ]
  },
  {
   "cell_type": "code",
   "execution_count": 14,
   "id": "be64dedf",
   "metadata": {},
   "outputs": [],
   "source": [
    "# Winsorizing the outliers to retain the data from the outliers\n",
    "\n",
    "IQR = data['Rape'].quantile(0.75) - data['Rape'].quantile(0.25)\n",
    "upper_end = data['Rape'].quantile(0.75) + (1.5*IQR)\n",
    "low_end = data['Rape'].quantile(0.25) - (1.5*IQR)\n",
    "if low_end < 0:\n",
    "    low_end = 0\n",
    "    data['Rape'] = pd.DataFrame(np.where(data['Rape'] > upper_end,upper_end, \n",
    "                      np.where(data['Rape'] < low_end,low_end,data['Rape'])))\n",
    "else:\n",
    "    data['Rape'] = pd.DataFrame(np.where(data['Rape'] > upper_end,upper_end, \n",
    "                      np.where(data['Rape'] < low_end,low_end,data['Rape'])))        "
   ]
  },
  {
   "cell_type": "code",
   "execution_count": 15,
   "id": "dd7d0c5b",
   "metadata": {},
   "outputs": [
    {
     "data": {
      "text/html": [
       "<div>\n",
       "<style scoped>\n",
       "    .dataframe tbody tr th:only-of-type {\n",
       "        vertical-align: middle;\n",
       "    }\n",
       "\n",
       "    .dataframe tbody tr th {\n",
       "        vertical-align: top;\n",
       "    }\n",
       "\n",
       "    .dataframe thead th {\n",
       "        text-align: right;\n",
       "    }\n",
       "</style>\n",
       "<table border=\"1\" class=\"dataframe\">\n",
       "  <thead>\n",
       "    <tr style=\"text-align: right;\">\n",
       "      <th></th>\n",
       "      <th>Murder</th>\n",
       "      <th>Assault</th>\n",
       "      <th>UrbanPop</th>\n",
       "      <th>Rape</th>\n",
       "    </tr>\n",
       "  </thead>\n",
       "  <tbody>\n",
       "    <tr>\n",
       "      <th>0</th>\n",
       "      <td>13.2</td>\n",
       "      <td>236</td>\n",
       "      <td>58</td>\n",
       "      <td>21.200</td>\n",
       "    </tr>\n",
       "    <tr>\n",
       "      <th>1</th>\n",
       "      <td>10.0</td>\n",
       "      <td>263</td>\n",
       "      <td>48</td>\n",
       "      <td>42.825</td>\n",
       "    </tr>\n",
       "  </tbody>\n",
       "</table>\n",
       "</div>"
      ],
      "text/plain": [
       "   Murder  Assault  UrbanPop    Rape\n",
       "0    13.2      236        58  21.200\n",
       "1    10.0      263        48  42.825"
      ]
     },
     "execution_count": 15,
     "metadata": {},
     "output_type": "execute_result"
    }
   ],
   "source": [
    "data.head(2)"
   ]
  },
  {
   "cell_type": "code",
   "execution_count": 16,
   "id": "2fc99ca0",
   "metadata": {
    "scrolled": false
   },
   "outputs": [
    {
     "data": {
      "image/png": "[encoded data removed]",
      "text/plain": [
       "<Figure size 720x288 with 4 Axes>"
      ]
     },
     "metadata": {
      "needs_background": "light"
     },
     "output_type": "display_data"
    }
   ],
   "source": [
    "# # Distplot\n",
    "\n",
    "fig, axs = plt.subplots(ncols=4, nrows=1, figsize=(10, 4))\n",
    "index = 0\n",
    "axs = axs.flatten()\n",
    "data1 = data.iloc[:,:]\n",
    "for k,v in data1.items():\n",
    "    sns.distplot(data[k], ax=axs[index])\n",
    "    index += 1\n",
    "plt.tight_layout(pad=0.55, w_pad=0.5, h_pad=4.0)"
   ]
  },
  {
   "cell_type": "markdown",
   "id": "b49366d5",
   "metadata": {},
   "source": [
    "The features are normally distributed"
   ]
  },
  {
   "cell_type": "code",
   "execution_count": 17,
   "id": "75badc28",
   "metadata": {
    "scrolled": false
   },
   "outputs": [
    {
     "data": {
      "image/png": "[encoded data removed]",
      "text/plain": [
       "<Figure size 432x288 with 1 Axes>"
      ]
     },
     "metadata": {
      "needs_background": "light"
     },
     "output_type": "display_data"
    },
    {
     "data": {
      "image/png": "[encoded data removed]",
      "text/plain": [
       "<Figure size 432x288 with 1 Axes>"
      ]
     },
     "metadata": {
      "needs_background": "light"
     },
     "output_type": "display_data"
    }
   ],
   "source": [
    "# Scatterplot of the features\n",
    "\n",
    "sns.scatterplot(x = data.Assault , y = data.Murder);plt.show()\n",
    "sns.scatterplot(x = data.Assault , y = data.Rape);plt.show()"
   ]
  },
  {
   "cell_type": "markdown",
   "id": "7d0d6eff",
   "metadata": {},
   "source": [
    "    As assualt cases increase, Murder and Rape cases increased."
   ]
  },
  {
   "cell_type": "code",
   "execution_count": 18,
   "id": "ea7f8c62",
   "metadata": {},
   "outputs": [],
   "source": [
    "# Standardization \n",
    "from sklearn.preprocessing import StandardScaler\n",
    "sc = StandardScaler()\n",
    "std_data = pd.DataFrame(sc.fit_transform(data),columns = data.columns)"
   ]
  },
  {
   "cell_type": "code",
   "execution_count": 19,
   "id": "893a19ff",
   "metadata": {},
   "outputs": [],
   "source": [
    "# Normalization\n",
    "from sklearn.preprocessing import MinMaxScaler\n",
    "mm = MinMaxScaler()\n",
    "norm_data = pd.DataFrame(mm.fit_transform(data),columns = data.columns)"
   ]
  },
  {
   "cell_type": "markdown",
   "id": "12fad676",
   "metadata": {},
   "source": [
    "# Hierarchical Clustering "
   ]
  },
  {
   "cell_type": "code",
   "execution_count": 20,
   "id": "5b0d8cfb",
   "metadata": {
    "scrolled": false
   },
   "outputs": [
    {
     "data": {
      "image/png": "[encoded data removed]",
      "text/plain": [
       "<Figure size 1440x432 with 1 Axes>"
      ]
     },
     "metadata": {
      "needs_background": "light"
     },
     "output_type": "display_data"
    },
    {
     "data": {
      "image/png": "[encoded data removed]",
      "text/plain": [
       "<Figure size 1440x432 with 1 Axes>"
      ]
     },
     "metadata": {
      "needs_background": "light"
     },
     "output_type": "display_data"
    },
    {
     "data": {
      "image/png": "[encoded data removed]",
      "text/plain": [
       "<Figure size 1440x432 with 1 Axes>"
      ]
     },
     "metadata": {
      "needs_background": "light"
     },
     "output_type": "display_data"
    },
    {
     "data": {
      "image/png": "[encoded data removed]",
      "text/plain": [
       "<Figure size 1440x432 with 1 Axes>"
      ]
     },
     "metadata": {
      "needs_background": "light"
     },
     "output_type": "display_data"
    }
   ],
   "source": [
    "# Checking Dendogram for the dataset\n",
    "\n",
    "import scipy.cluster.hierarchy as sch\n",
    "for meth in ['single','complete','ward','average']:\n",
    "    plt.figure(figsize =(20, 6))\n",
    "    dendo = sch.dendrogram(sch.linkage(std_data,method = meth))\n",
    "    plt.title('Dendrogram using {} method'.format(meth))"
   ]
  },
  {
   "cell_type": "code",
   "execution_count": 21,
   "id": "bcb23d62",
   "metadata": {},
   "outputs": [
    {
     "name": "stdout",
     "output_type": "stream",
     "text": [
      "\n",
      "\n",
      "For 2 clusters (single) silhouette score is 0.21580265264134207.\n",
      "For 2 clusters (complete) silhouette score is 0.4051025513040865.\n",
      "For 2 clusters (ward) silhouette score is 0.4051025513040865.\n",
      "For 2 clusters (average) silhouette score is 0.4051025513040865.\n",
      "\n",
      "\n",
      "For 3 clusters (single) silhouette score is 0.1367289912047978.\n",
      "For 3 clusters (complete) silhouette score is 0.36936052314963363.\n",
      "For 3 clusters (ward) silhouette score is 0.31234246125428167.\n",
      "For 3 clusters (average) silhouette score is 0.34090164890835245.\n",
      "\n",
      "\n",
      "For 4 clusters (single) silhouette score is 0.16763155316174816.\n",
      "For 4 clusters (complete) silhouette score is 0.29700964737572655.\n",
      "For 4 clusters (ward) silhouette score is 0.33799212819290597.\n",
      "For 4 clusters (average) silhouette score is 0.36129663435474524.\n",
      "\n",
      "\n",
      "For 5 clusters (single) silhouette score is 0.104203015746141.\n",
      "For 5 clusters (complete) silhouette score is 0.24330905666473168.\n",
      "For 5 clusters (ward) silhouette score is 0.3115319584173333.\n",
      "For 5 clusters (average) silhouette score is 0.32270080298059234.\n",
      "\n",
      "\n",
      "For 6 clusters (single) silhouette score is -0.08319951061080094.\n",
      "For 6 clusters (complete) silhouette score is 0.24649967736583134.\n",
      "For 6 clusters (ward) silhouette score is 0.31233459998609464.\n",
      "For 6 clusters (average) silhouette score is 0.2718748505868553.\n"
     ]
    }
   ],
   "source": [
    "# Agglomerative Clustering to check for number of clusters on standardised dataset\n",
    "\n",
    "from sklearn.cluster import AgglomerativeClustering\n",
    "from sklearn.metrics import silhouette_score\n",
    "for cluster in range(2,7):\n",
    "    print('\\n')\n",
    "    for link in ['single','complete','ward','average']:\n",
    "        Agg_cluster = AgglomerativeClustering(n_clusters = cluster,linkage = link, affinity='euclidean')\n",
    "        cluster_labels = Agg_cluster.fit_predict(std_data)\n",
    "        s_score = silhouette_score(std_data,cluster_labels)\n",
    "        print('For {} clusters ({}) silhouette score is {}.'.format(cluster,link,s_score))"
   ]
  },
  {
   "cell_type": "markdown",
   "id": "333710ad",
   "metadata": {},
   "source": [
    "    Selecting 3 clusters based on silhouette score."
   ]
  },
  {
   "cell_type": "code",
   "execution_count": 22,
   "id": "7cf8d9d2",
   "metadata": {
    "scrolled": false
   },
   "outputs": [
    {
     "name": "stdout",
     "output_type": "stream",
     "text": [
      "\n",
      "\n",
      "For 2 clusters (single) silhouette score is 0.20413439572986744.\n",
      "For 2 clusters (complete) silhouette score is 0.4211268756375124.\n",
      "For 2 clusters (ward) silhouette score is 0.4211268756375124.\n",
      "For 2 clusters (average) silhouette score is 0.4211268756375124.\n",
      "\n",
      "\n",
      "For 3 clusters (single) silhouette score is 0.13948841249992378.\n",
      "For 3 clusters (complete) silhouette score is 0.3801889211863964.\n",
      "For 3 clusters (ward) silhouette score is 0.32088332388502805.\n",
      "For 3 clusters (average) silhouette score is 0.34734385958756314.\n",
      "\n",
      "\n",
      "For 4 clusters (single) silhouette score is 0.01780956935256348.\n",
      "For 4 clusters (complete) silhouette score is 0.28575439950558057.\n",
      "For 4 clusters (ward) silhouette score is 0.33761387802807435.\n",
      "For 4 clusters (average) silhouette score is 0.36819043406017926.\n",
      "\n",
      "\n",
      "For 5 clusters (single) silhouette score is -0.18511262477460516.\n",
      "For 5 clusters (complete) silhouette score is 0.2485301696845561.\n",
      "For 5 clusters (ward) silhouette score is 0.31260487424321576.\n",
      "For 5 clusters (average) silhouette score is 0.3159642913583631.\n",
      "\n",
      "\n",
      "For 6 clusters (single) silhouette score is -0.06297151714777192.\n",
      "For 6 clusters (complete) silhouette score is 0.2445752336712108.\n",
      "For 6 clusters (ward) silhouette score is 0.28052937124066496.\n",
      "For 6 clusters (average) silhouette score is 0.26825894106053966.\n"
     ]
    }
   ],
   "source": [
    "# Agglomerative Clustering to check for number of clusters on normalized dataset\n",
    "\n",
    "from sklearn.cluster import AgglomerativeClustering\n",
    "from sklearn.metrics import silhouette_score\n",
    "for cluster in range(2,7):\n",
    "    print('\\n')\n",
    "    for link in ['single','complete','ward','average']:\n",
    "        Agg_cluster = AgglomerativeClustering(n_clusters = cluster,linkage = link, affinity='euclidean')\n",
    "        cluster_labels = Agg_cluster.fit_predict(norm_data)\n",
    "        s_score = silhouette_score(norm_data,cluster_labels)\n",
    "        print('For {} clusters ({}) silhouette score is {}.'.format(cluster,link,s_score))"
   ]
  },
  {
   "cell_type": "markdown",
   "id": "08a9e6af",
   "metadata": {},
   "source": [
    "The silhouette score for normalized data is same compared to standardized data, hence using either will be ok . Selecting 3 clusters."
   ]
  },
  {
   "cell_type": "code",
   "execution_count": 23,
   "id": "c396d4ac",
   "metadata": {},
   "outputs": [
    {
     "name": "stdout",
     "output_type": "stream",
     "text": [
      "Silhouette Score for the clustering is 38.02%\n"
     ]
    }
   ],
   "source": [
    "# Agglomerative Clustering using average linkage and 4 clusters\n",
    "\n",
    "Agg_cluster = AgglomerativeClustering(n_clusters = 3,linkage = 'complete', affinity='euclidean')\n",
    "cluster_labels = Agg_cluster.fit_predict(norm_data)\n",
    "s_score = silhouette_score(norm_data,cluster_labels)\n",
    "print('Silhouette Score for the clustering is {:.2f}%'.format(s_score*100))"
   ]
  },
  {
   "cell_type": "code",
   "execution_count": 24,
   "id": "6444b5c6",
   "metadata": {},
   "outputs": [],
   "source": [
    "# Adding cluster labels to dataset\n",
    "\n",
    "data['cluster_labels'] = pd.DataFrame(cluster_labels) "
   ]
  },
  {
   "cell_type": "code",
   "execution_count": 25,
   "id": "fc96b5f3",
   "metadata": {},
   "outputs": [
    {
     "data": {
      "text/plain": [
       "<AxesSubplot:xlabel='cluster_labels', ylabel='count'>"
      ]
     },
     "execution_count": 25,
     "metadata": {},
     "output_type": "execute_result"
    },
    {
     "data": {
      "image/png": "[encoded data removed]",
      "text/plain": [
       "<Figure size 432x288 with 1 Axes>"
      ]
     },
     "metadata": {
      "needs_background": "light"
     },
     "output_type": "display_data"
    }
   ],
   "source": [
    "# Countplot of the clusters\n",
    "sns.countplot(data.cluster_labels)"
   ]
  },
  {
   "cell_type": "markdown",
   "id": "507f281b",
   "metadata": {},
   "source": [
    "    Majority of data belong to Cluster 0"
   ]
  },
  {
   "cell_type": "code",
   "execution_count": 26,
   "id": "53ee35b4",
   "metadata": {},
   "outputs": [
    {
     "data": {
      "text/html": [
       "<div>\n",
       "<style scoped>\n",
       "    .dataframe tbody tr th:only-of-type {\n",
       "        vertical-align: middle;\n",
       "    }\n",
       "\n",
       "    .dataframe tbody tr th {\n",
       "        vertical-align: top;\n",
       "    }\n",
       "\n",
       "    .dataframe thead th {\n",
       "        text-align: right;\n",
       "    }\n",
       "</style>\n",
       "<table border=\"1\" class=\"dataframe\">\n",
       "  <thead>\n",
       "    <tr style=\"text-align: right;\">\n",
       "      <th></th>\n",
       "      <th>Murder</th>\n",
       "      <th>Assault</th>\n",
       "      <th>UrbanPop</th>\n",
       "      <th>Rape</th>\n",
       "      <th>cluster_labels</th>\n",
       "    </tr>\n",
       "  </thead>\n",
       "  <tbody>\n",
       "    <tr>\n",
       "      <th>0</th>\n",
       "      <td>13.2</td>\n",
       "      <td>236</td>\n",
       "      <td>58</td>\n",
       "      <td>21.200</td>\n",
       "      <td>2</td>\n",
       "    </tr>\n",
       "    <tr>\n",
       "      <th>1</th>\n",
       "      <td>10.0</td>\n",
       "      <td>263</td>\n",
       "      <td>48</td>\n",
       "      <td>42.825</td>\n",
       "      <td>1</td>\n",
       "    </tr>\n",
       "    <tr>\n",
       "      <th>2</th>\n",
       "      <td>8.1</td>\n",
       "      <td>294</td>\n",
       "      <td>80</td>\n",
       "      <td>31.000</td>\n",
       "      <td>1</td>\n",
       "    </tr>\n",
       "    <tr>\n",
       "      <th>3</th>\n",
       "      <td>8.8</td>\n",
       "      <td>190</td>\n",
       "      <td>50</td>\n",
       "      <td>19.500</td>\n",
       "      <td>0</td>\n",
       "    </tr>\n",
       "    <tr>\n",
       "      <th>4</th>\n",
       "      <td>9.0</td>\n",
       "      <td>276</td>\n",
       "      <td>91</td>\n",
       "      <td>40.600</td>\n",
       "      <td>1</td>\n",
       "    </tr>\n",
       "  </tbody>\n",
       "</table>\n",
       "</div>"
      ],
      "text/plain": [
       "   Murder  Assault  UrbanPop    Rape  cluster_labels\n",
       "0    13.2      236        58  21.200               2\n",
       "1    10.0      263        48  42.825               1\n",
       "2     8.1      294        80  31.000               1\n",
       "3     8.8      190        50  19.500               0\n",
       "4     9.0      276        91  40.600               1"
      ]
     },
     "execution_count": 26,
     "metadata": {},
     "output_type": "execute_result"
    }
   ],
   "source": [
    "data.head()"
   ]
  },
  {
   "cell_type": "code",
   "execution_count": 27,
   "id": "08d0b1df",
   "metadata": {},
   "outputs": [
    {
     "data": {
      "text/plain": [
       "<AxesSubplot:xlabel='UrbanPop', ylabel='Assault'>"
      ]
     },
     "execution_count": 27,
     "metadata": {},
     "output_type": "execute_result"
    },
    {
     "data": {
      "image/png": "[encoded data removed]",
      "text/plain": [
       "<Figure size 432x288 with 1 Axes>"
      ]
     },
     "metadata": {
      "needs_background": "light"
     },
     "output_type": "display_data"
    }
   ],
   "source": [
    "# ScatterPlot\n",
    "sns.scatterplot(y = data.Assault, x = data.UrbanPop, hue=data.cluster_labels,palette = 'tab10', alpha=1)"
   ]
  },
  {
   "cell_type": "code",
   "execution_count": 28,
   "id": "09326585",
   "metadata": {},
   "outputs": [
    {
     "data": {
      "text/html": [
       "<div>\n",
       "<style scoped>\n",
       "    .dataframe tbody tr th:only-of-type {\n",
       "        vertical-align: middle;\n",
       "    }\n",
       "\n",
       "    .dataframe tbody tr th {\n",
       "        vertical-align: top;\n",
       "    }\n",
       "\n",
       "    .dataframe thead th {\n",
       "        text-align: right;\n",
       "    }\n",
       "</style>\n",
       "<table border=\"1\" class=\"dataframe\">\n",
       "  <thead>\n",
       "    <tr style=\"text-align: right;\">\n",
       "      <th></th>\n",
       "      <th>Murder</th>\n",
       "      <th>Assault</th>\n",
       "      <th>UrbanPop</th>\n",
       "      <th>Rape</th>\n",
       "      <th>cluster_labels</th>\n",
       "    </tr>\n",
       "    <tr>\n",
       "      <th>cluster_labels</th>\n",
       "      <th></th>\n",
       "      <th></th>\n",
       "      <th></th>\n",
       "      <th></th>\n",
       "      <th></th>\n",
       "    </tr>\n",
       "  </thead>\n",
       "  <tbody>\n",
       "    <tr>\n",
       "      <th>0</th>\n",
       "      <td>5.003226</td>\n",
       "      <td>116.483871</td>\n",
       "      <td>63.838710</td>\n",
       "      <td>16.338710</td>\n",
       "      <td>0.0</td>\n",
       "    </tr>\n",
       "    <tr>\n",
       "      <th>1</th>\n",
       "      <td>10.966667</td>\n",
       "      <td>264.000000</td>\n",
       "      <td>76.500000</td>\n",
       "      <td>33.204167</td>\n",
       "      <td>1.0</td>\n",
       "    </tr>\n",
       "    <tr>\n",
       "      <th>2</th>\n",
       "      <td>14.671429</td>\n",
       "      <td>251.285714</td>\n",
       "      <td>54.285714</td>\n",
       "      <td>21.685714</td>\n",
       "      <td>2.0</td>\n",
       "    </tr>\n",
       "  </tbody>\n",
       "</table>\n",
       "</div>"
      ],
      "text/plain": [
       "                   Murder     Assault   UrbanPop       Rape  cluster_labels\n",
       "cluster_labels                                                             \n",
       "0                5.003226  116.483871  63.838710  16.338710             0.0\n",
       "1               10.966667  264.000000  76.500000  33.204167             1.0\n",
       "2               14.671429  251.285714  54.285714  21.685714             2.0"
      ]
     },
     "execution_count": 28,
     "metadata": {},
     "output_type": "execute_result"
    }
   ],
   "source": [
    "data.iloc[:, 0:].groupby(data.cluster_labels).mean()"
   ]
  },
  {
   "cell_type": "markdown",
   "id": "77a946ad",
   "metadata": {},
   "source": [
    "Cluster 0 represents states with medium urban population having lowest assualt, murder and rape arrests.\n",
    "\n",
    "Cluster 1 represents states having high assualt,murder and rape arrests and highest urban population.\n",
    "\n",
    "Cluster 2 represents states with lowest urban population with high murder and medium Assault and rape arrests."
   ]
  }
 ],
 "metadata": {
  "kernelspec": {
   "display_name": "Python 3 (ipykernel)",
   "language": "python",
   "name": "python3"
  },
  "language_info": {
   "codemirror_mode": {
    "name": "ipython",
    "version": 3
   },
   "file_extension": ".py",
   "mimetype": "text/x-python",
   "name": "python",
   "nbconvert_exporter": "python",
   "pygments_lexer": "ipython3",
   "version": "3.9.12"
  }
 },
 "nbformat": 4,
 "nbformat_minor": 5
}
