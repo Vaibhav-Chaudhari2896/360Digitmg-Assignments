{
 "cells": [
  {
   "cell_type": "code",
   "execution_count": 19,
   "id": "600e545a",
   "metadata": {},
   "outputs": [],
   "source": [
    "# importing libraries \n",
    "import pandas as pd \n",
    "import numpy as np\n",
    "import matplotlib.pyplot as plt \n",
    "import scipy.stats as stats\n",
    "import seaborn as sns"
   ]
  },
  {
   "cell_type": "code",
   "execution_count": 20,
   "id": "e0f141ea",
   "metadata": {},
   "outputs": [],
   "source": [
    "# importing dataset\n",
    "dataset = pd.read_csv('C:/Users/vaibh/Desktop/360 Digitmg/PD,CLT,Confidence Interval/Cars.csv')\n",
    "wc_at_data = pd.read_csv('C:/Users/vaibh/Desktop/360 Digitmg/PD,CLT,Confidence Interval/wc-at.csv')"
   ]
  },
  {
   "cell_type": "code",
   "execution_count": 21,
   "id": "dc3986e8",
   "metadata": {},
   "outputs": [
    {
     "data": {
      "text/html": [
       "<div>\n",
       "<style scoped>\n",
       "    .dataframe tbody tr th:only-of-type {\n",
       "        vertical-align: middle;\n",
       "    }\n",
       "\n",
       "    .dataframe tbody tr th {\n",
       "        vertical-align: top;\n",
       "    }\n",
       "\n",
       "    .dataframe thead th {\n",
       "        text-align: right;\n",
       "    }\n",
       "</style>\n",
       "<table border=\"1\" class=\"dataframe\">\n",
       "  <thead>\n",
       "    <tr style=\"text-align: right;\">\n",
       "      <th></th>\n",
       "      <th>HP</th>\n",
       "      <th>MPG</th>\n",
       "      <th>VOL</th>\n",
       "      <th>SP</th>\n",
       "      <th>WT</th>\n",
       "    </tr>\n",
       "  </thead>\n",
       "  <tbody>\n",
       "    <tr>\n",
       "      <th>0</th>\n",
       "      <td>49</td>\n",
       "      <td>53.700681</td>\n",
       "      <td>89</td>\n",
       "      <td>104.185353</td>\n",
       "      <td>28.762059</td>\n",
       "    </tr>\n",
       "    <tr>\n",
       "      <th>1</th>\n",
       "      <td>55</td>\n",
       "      <td>50.013401</td>\n",
       "      <td>92</td>\n",
       "      <td>105.461264</td>\n",
       "      <td>30.466833</td>\n",
       "    </tr>\n",
       "    <tr>\n",
       "      <th>2</th>\n",
       "      <td>55</td>\n",
       "      <td>50.013401</td>\n",
       "      <td>92</td>\n",
       "      <td>105.461264</td>\n",
       "      <td>30.193597</td>\n",
       "    </tr>\n",
       "    <tr>\n",
       "      <th>3</th>\n",
       "      <td>70</td>\n",
       "      <td>45.696322</td>\n",
       "      <td>92</td>\n",
       "      <td>113.461264</td>\n",
       "      <td>30.632114</td>\n",
       "    </tr>\n",
       "    <tr>\n",
       "      <th>4</th>\n",
       "      <td>53</td>\n",
       "      <td>50.504232</td>\n",
       "      <td>92</td>\n",
       "      <td>104.461264</td>\n",
       "      <td>29.889149</td>\n",
       "    </tr>\n",
       "  </tbody>\n",
       "</table>\n",
       "</div>"
      ],
      "text/plain": [
       "   HP        MPG  VOL          SP         WT\n",
       "0  49  53.700681   89  104.185353  28.762059\n",
       "1  55  50.013401   92  105.461264  30.466833\n",
       "2  55  50.013401   92  105.461264  30.193597\n",
       "3  70  45.696322   92  113.461264  30.632114\n",
       "4  53  50.504232   92  104.461264  29.889149"
      ]
     },
     "execution_count": 21,
     "metadata": {},
     "output_type": "execute_result"
    }
   ],
   "source": [
    "# Checking rows and columns\n",
    "dataset.head()"
   ]
  },
  {
   "cell_type": "code",
   "execution_count": 22,
   "id": "8179b92d",
   "metadata": {},
   "outputs": [
    {
     "name": "stdout",
     "output_type": "stream",
     "text": [
      "<class 'pandas.core.frame.DataFrame'>\n",
      "RangeIndex: 81 entries, 0 to 80\n",
      "Data columns (total 5 columns):\n",
      " #   Column  Non-Null Count  Dtype  \n",
      "---  ------  --------------  -----  \n",
      " 0   HP      81 non-null     int64  \n",
      " 1   MPG     81 non-null     float64\n",
      " 2   VOL     81 non-null     int64  \n",
      " 3   SP      81 non-null     float64\n",
      " 4   WT      81 non-null     float64\n",
      "dtypes: float64(3), int64(2)\n",
      "memory usage: 3.3 KB\n"
     ]
    }
   ],
   "source": [
    "# Info of the dataset\n",
    "dataset.info()"
   ]
  },
  {
   "cell_type": "code",
   "execution_count": 23,
   "id": "11e16edf",
   "metadata": {},
   "outputs": [
    {
     "data": {
      "text/plain": [
       "(81, 5)"
      ]
     },
     "execution_count": 23,
     "metadata": {},
     "output_type": "execute_result"
    }
   ],
   "source": [
    "# Dimension of the datset\n",
    "dataset.shape"
   ]
  },
  {
   "cell_type": "code",
   "execution_count": 24,
   "id": "b43d6273",
   "metadata": {},
   "outputs": [
    {
     "data": {
      "text/html": [
       "<div>\n",
       "<style scoped>\n",
       "    .dataframe tbody tr th:only-of-type {\n",
       "        vertical-align: middle;\n",
       "    }\n",
       "\n",
       "    .dataframe tbody tr th {\n",
       "        vertical-align: top;\n",
       "    }\n",
       "\n",
       "    .dataframe thead th {\n",
       "        text-align: right;\n",
       "    }\n",
       "</style>\n",
       "<table border=\"1\" class=\"dataframe\">\n",
       "  <thead>\n",
       "    <tr style=\"text-align: right;\">\n",
       "      <th></th>\n",
       "      <th>count</th>\n",
       "      <th>mean</th>\n",
       "      <th>std</th>\n",
       "      <th>min</th>\n",
       "      <th>25%</th>\n",
       "      <th>50%</th>\n",
       "      <th>75%</th>\n",
       "      <th>max</th>\n",
       "    </tr>\n",
       "  </thead>\n",
       "  <tbody>\n",
       "    <tr>\n",
       "      <th>HP</th>\n",
       "      <td>81.0</td>\n",
       "      <td>117.469136</td>\n",
       "      <td>57.113502</td>\n",
       "      <td>49.000000</td>\n",
       "      <td>84.000000</td>\n",
       "      <td>100.000000</td>\n",
       "      <td>140.000000</td>\n",
       "      <td>322.000000</td>\n",
       "    </tr>\n",
       "    <tr>\n",
       "      <th>MPG</th>\n",
       "      <td>81.0</td>\n",
       "      <td>34.422076</td>\n",
       "      <td>9.131445</td>\n",
       "      <td>12.101263</td>\n",
       "      <td>27.856252</td>\n",
       "      <td>35.152727</td>\n",
       "      <td>39.531633</td>\n",
       "      <td>53.700681</td>\n",
       "    </tr>\n",
       "    <tr>\n",
       "      <th>VOL</th>\n",
       "      <td>81.0</td>\n",
       "      <td>98.765432</td>\n",
       "      <td>22.301497</td>\n",
       "      <td>50.000000</td>\n",
       "      <td>89.000000</td>\n",
       "      <td>101.000000</td>\n",
       "      <td>113.000000</td>\n",
       "      <td>160.000000</td>\n",
       "    </tr>\n",
       "    <tr>\n",
       "      <th>SP</th>\n",
       "      <td>81.0</td>\n",
       "      <td>121.540272</td>\n",
       "      <td>14.181432</td>\n",
       "      <td>99.564907</td>\n",
       "      <td>113.829145</td>\n",
       "      <td>118.208698</td>\n",
       "      <td>126.404312</td>\n",
       "      <td>169.598513</td>\n",
       "    </tr>\n",
       "    <tr>\n",
       "      <th>WT</th>\n",
       "      <td>81.0</td>\n",
       "      <td>32.412577</td>\n",
       "      <td>7.492813</td>\n",
       "      <td>15.712859</td>\n",
       "      <td>29.591768</td>\n",
       "      <td>32.734518</td>\n",
       "      <td>37.392524</td>\n",
       "      <td>52.997752</td>\n",
       "    </tr>\n",
       "  </tbody>\n",
       "</table>\n",
       "</div>"
      ],
      "text/plain": [
       "     count        mean        std        min         25%         50%  \\\n",
       "HP    81.0  117.469136  57.113502  49.000000   84.000000  100.000000   \n",
       "MPG   81.0   34.422076   9.131445  12.101263   27.856252   35.152727   \n",
       "VOL   81.0   98.765432  22.301497  50.000000   89.000000  101.000000   \n",
       "SP    81.0  121.540272  14.181432  99.564907  113.829145  118.208698   \n",
       "WT    81.0   32.412577   7.492813  15.712859   29.591768   32.734518   \n",
       "\n",
       "            75%         max  \n",
       "HP   140.000000  322.000000  \n",
       "MPG   39.531633   53.700681  \n",
       "VOL  113.000000  160.000000  \n",
       "SP   126.404312  169.598513  \n",
       "WT    37.392524   52.997752  "
      ]
     },
     "execution_count": 24,
     "metadata": {},
     "output_type": "execute_result"
    }
   ],
   "source": [
    "# Descriptive statistics of the dataset\n",
    "dataset.describe().T"
   ]
  },
  {
   "cell_type": "code",
   "execution_count": 25,
   "id": "b14a63f0",
   "metadata": {},
   "outputs": [
    {
     "name": "stdout",
     "output_type": "stream",
     "text": [
      "std_MPG : 9.07\n",
      "mean_MPG : 34.42\n"
     ]
    }
   ],
   "source": [
    "# Standard deviation and Mean of MPG feature\n",
    "\n",
    "std_MPG = np.round(np.std(dataset.MPG),2);print(f'std_MPG : {std_MPG}')\n",
    "mean_MPG = np.round(np.mean(dataset.MPG),2);print(f'mean_MPG : {mean_MPG}')"
   ]
  },
  {
   "cell_type": "markdown",
   "id": "616340fd",
   "metadata": {},
   "source": [
    "#### Calculate probability from the given dataset for the below cases"
   ]
  },
  {
   "cell_type": "markdown",
   "id": "9b3f8530",
   "metadata": {},
   "source": [
    "CASE 1: P(MPG > 38)"
   ]
  },
  {
   "cell_type": "code",
   "execution_count": 26,
   "id": "b48874c4",
   "metadata": {},
   "outputs": [
    {
     "name": "stdout",
     "output_type": "stream",
     "text": [
      "Z-score for MPG > 38 is 0.39470782800440996\n",
      "Probability of MPG > 38 is 0.3465\n"
     ]
    }
   ],
   "source": [
    "# Calculating Z-score and Probability\n",
    "\n",
    "input1 = 38\n",
    "Z1 = (input1 - mean_MPG)/std_MPG\n",
    "print(f'Z-score for MPG > {input1} is {Z1}')\n",
    "\n",
    "P1 = np.round(1- stats.norm.cdf(Z1),4)  # Using cumulative distribution function to get probability of Z-score\n",
    "print (f'Probability of MPG > {input1} is {P1}')"
   ]
  },
  {
   "cell_type": "markdown",
   "id": "adde35a9",
   "metadata": {},
   "source": [
    "CASE 2: P(MPG < 40)"
   ]
  },
  {
   "cell_type": "code",
   "execution_count": 27,
   "id": "da0ee7bc",
   "metadata": {},
   "outputs": [
    {
     "name": "stdout",
     "output_type": "stream",
     "text": [
      "Z-score for MPG < 40 is 0.6152149944873206\n",
      "Probability of MPG < 40 is 0.7308\n"
     ]
    }
   ],
   "source": [
    "# Calculating Z-score and Probability\n",
    "\n",
    "input1 = 40\n",
    "Z1 = (input1 - mean_MPG)/std_MPG\n",
    "print(f'Z-score for MPG < {input1} is {Z1}')\n",
    "\n",
    "P1 = np.round(stats.norm.cdf(Z1),4)  # Using cumulative distribution function to get probability of Z-score\n",
    "print (f'Probability of MPG < {input1} is {P1}')"
   ]
  },
  {
   "cell_type": "markdown",
   "id": "f18b4243",
   "metadata": {},
   "source": [
    "CASE 3: P(20 < MPG < 50)"
   ]
  },
  {
   "cell_type": "code",
   "execution_count": 28,
   "id": "40b85af6",
   "metadata": {},
   "outputs": [
    {
     "name": "stdout",
     "output_type": "stream",
     "text": [
      "Z-score for MPG < 20 is -1.5898566703417862\n",
      "Probability of MPG < 20 is 0.0559\n",
      "Z-score for MPG < 50 is 1.717750826901874\n",
      "Probability of MPG < 50 is 0.9571\n",
      "\n",
      "\n",
      "Probability of 20 < MPG < 50 is 0.9012\n"
     ]
    }
   ],
   "source": [
    "# Calculating Z-score and Probability\n",
    "\n",
    "input1 = 20\n",
    "Z1 = (input1 - mean_MPG)/std_MPG\n",
    "print(f'Z-score for MPG < {input1} is {Z1}')\n",
    "\n",
    "P1 = np.round(stats.norm.cdf(Z1),4)  # Using cumulative distribution function to get probability of Z-score\n",
    "print (f'Probability of MPG < {input1} is {P1}')\n",
    "\n",
    "input2 = 50\n",
    "Z2 = (input2 - mean_MPG)/std_MPG\n",
    "print(f'Z-score for MPG < {input2} is {Z2}')\n",
    "\n",
    "P2 = np.round(stats.norm.cdf(Z2),4)  # Using cumulative distribution function to get probability of Z-score\n",
    "print (f'Probability of MPG < {input2} is {P2}')\n",
    "\n",
    "print('\\n')\n",
    "P = P2 - P1\n",
    "print (f'Probability of {input1} < MPG < {input2} is {P}')"
   ]
  },
  {
   "cell_type": "markdown",
   "id": "83ba1abf",
   "metadata": {},
   "source": [
    "### Check whether the data follows normal distribution"
   ]
  },
  {
   "cell_type": "code",
   "execution_count": 29,
   "id": "1e8e004c",
   "metadata": {},
   "outputs": [
    {
     "data": {
      "image/png": "[encoded data removed]",
      "text/plain": [
       "<Figure size 432x288 with 1 Axes>"
      ]
     },
     "metadata": {
      "needs_background": "light"
     },
     "output_type": "display_data"
    }
   ],
   "source": [
    "# Histogram to check distribution of feature\n",
    "sns.histplot(dataset.MPG,kde=1)\n",
    "plt.show()"
   ]
  },
  {
   "cell_type": "markdown",
   "id": "b816ea76",
   "metadata": {},
   "source": [
    "The distribution for MPG feature is normal "
   ]
  },
  {
   "cell_type": "code",
   "execution_count": 30,
   "id": "5577f597",
   "metadata": {},
   "outputs": [
    {
     "data": {
      "text/html": [
       "<div>\n",
       "<style scoped>\n",
       "    .dataframe tbody tr th:only-of-type {\n",
       "        vertical-align: middle;\n",
       "    }\n",
       "\n",
       "    .dataframe tbody tr th {\n",
       "        vertical-align: top;\n",
       "    }\n",
       "\n",
       "    .dataframe thead th {\n",
       "        text-align: right;\n",
       "    }\n",
       "</style>\n",
       "<table border=\"1\" class=\"dataframe\">\n",
       "  <thead>\n",
       "    <tr style=\"text-align: right;\">\n",
       "      <th></th>\n",
       "      <th>Waist</th>\n",
       "      <th>AT</th>\n",
       "    </tr>\n",
       "  </thead>\n",
       "  <tbody>\n",
       "    <tr>\n",
       "      <th>0</th>\n",
       "      <td>74.75</td>\n",
       "      <td>25.72</td>\n",
       "    </tr>\n",
       "    <tr>\n",
       "      <th>1</th>\n",
       "      <td>72.60</td>\n",
       "      <td>25.89</td>\n",
       "    </tr>\n",
       "    <tr>\n",
       "      <th>2</th>\n",
       "      <td>81.80</td>\n",
       "      <td>42.60</td>\n",
       "    </tr>\n",
       "    <tr>\n",
       "      <th>3</th>\n",
       "      <td>83.95</td>\n",
       "      <td>42.80</td>\n",
       "    </tr>\n",
       "    <tr>\n",
       "      <th>4</th>\n",
       "      <td>74.65</td>\n",
       "      <td>29.84</td>\n",
       "    </tr>\n",
       "  </tbody>\n",
       "</table>\n",
       "</div>"
      ],
      "text/plain": [
       "   Waist     AT\n",
       "0  74.75  25.72\n",
       "1  72.60  25.89\n",
       "2  81.80  42.60\n",
       "3  83.95  42.80\n",
       "4  74.65  29.84"
      ]
     },
     "execution_count": 30,
     "metadata": {},
     "output_type": "execute_result"
    }
   ],
   "source": [
    "# Cecking rows and columns for wc_at_data\n",
    "wc_at_data.head()"
   ]
  },
  {
   "cell_type": "code",
   "execution_count": 31,
   "id": "71be53f9",
   "metadata": {},
   "outputs": [
    {
     "data": {
      "image/png": "[encoded data removed]",
      "text/plain": [
       "<Figure size 432x288 with 1 Axes>"
      ]
     },
     "metadata": {
      "needs_background": "light"
     },
     "output_type": "display_data"
    },
    {
     "data": {
      "image/png": "[encoded data removed]",
      "text/plain": [
       "<Figure size 432x288 with 1 Axes>"
      ]
     },
     "metadata": {
      "needs_background": "light"
     },
     "output_type": "display_data"
    }
   ],
   "source": [
    "# Histogram to check distribution of feature\n",
    "\n",
    "sns.histplot(wc_at_data.Waist,kde=1)\n",
    "plt.show()\n",
    "\n",
    "sns.histplot(wc_at_data.AT,kde=1)\n",
    "plt.show()"
   ]
  },
  {
   "cell_type": "markdown",
   "id": "58aabd27",
   "metadata": {},
   "source": [
    "Distribution for waist is multimodal and for AT is normal"
   ]
  },
  {
   "cell_type": "markdown",
   "id": "cb7cd482",
   "metadata": {},
   "source": [
    "#### Calculate the Z scores of 90% confidence interval,94% confidence interval, 60% confidence interval"
   ]
  },
  {
   "cell_type": "code",
   "execution_count": 32,
   "id": "629ca4a5",
   "metadata": {},
   "outputs": [
    {
     "name": "stdout",
     "output_type": "stream",
     "text": [
      "Z-score for 0.9 : 1.2815515655446004\n",
      "Z-score for 0.94 : 1.5547735945968535\n",
      "Z-score for 0.60 : 0.2533471031357997\n"
     ]
    }
   ],
   "source": [
    "# Using Z-percentage point function to get normal distribution value\n",
    "\n",
    "v1 = stats.norm.ppf(0.9)\n",
    "print (f'Z-score for 0.9 : {v1}')\n",
    "\n",
    "v2 = stats.norm.ppf(0.94)\n",
    "print (f'Z-score for 0.94 : {v2}')\n",
    "\n",
    "v3 = stats.norm.ppf(0.60)\n",
    "print (f'Z-score for 0.60 : {v3}')"
   ]
  },
  {
   "cell_type": "markdown",
   "id": "3a06ff64",
   "metadata": {},
   "source": [
    "#### Calculate the t scores of 95% confidence interval, 96% confidence interval, 99% confidence interval for sample size of 25"
   ]
  },
  {
   "cell_type": "code",
   "execution_count": 33,
   "id": "6f15506f",
   "metadata": {},
   "outputs": [
    {
     "name": "stdout",
     "output_type": "stream",
     "text": [
      "t-score for 0.95 : 1.7108820799094275\n",
      "t-score for 0.96 : 1.8280511719596342\n",
      "t-score for 0.99 : 2.4921594731575762\n"
     ]
    }
   ],
   "source": [
    "# Using t - percentage point function to get normal distribution value for sample size of 25\n",
    "\n",
    "n = 25\n",
    "df = n-1 # degree of freedom\n",
    "\n",
    "v1 = stats.t.ppf(0.95,df)\n",
    "print (f't-score for 0.95 : {v1}')\n",
    "\n",
    "v2 = stats.t.ppf(0.96,df)\n",
    "print (f't-score for 0.96 : {v2}')\n",
    "\n",
    "v3 = stats.t.ppf(0.99,df)\n",
    "print (f't-score for 0.99 : {v3}')"
   ]
  },
  {
   "cell_type": "markdown",
   "id": "f7d19d01",
   "metadata": {},
   "source": [
    "#### A Government company claims that an average light bulb lasts 270 days. A researcher randomly selects 18 bulbs for testing. The sampled bulbs last an average of 260 days, with a standard deviation of 90 days. If the CEO's claim were true, what is the probability that 18 randomly selected bulbs would have an average life of no more than 260 days"
   ]
  },
  {
   "cell_type": "code",
   "execution_count": 34,
   "id": "47c94734",
   "metadata": {},
   "outputs": [
    {
     "name": "stdout",
     "output_type": "stream",
     "text": [
      "t-score for avg life < 260 days is -0.4714045207910317\n",
      "Probability that 18 randomly selected bulbs would have an average life of no more than 260 days is 0.3217\n"
     ]
    }
   ],
   "source": [
    "days = 270\n",
    "select = 18\n",
    "mean_days = 260\n",
    "std_days = 90\n",
    "n = 18\n",
    "\n",
    "# Assuming CEO claim to be true\n",
    "t1 = (mean_days - days)/(std_days/np.sqrt(n))  # Formula for t-score\n",
    "print(f't-score for avg life < 260 days is {t1}')\n",
    "\n",
    "P1 = np.round(stats.t.cdf(t1,n-1),4)  # Using cumulative distribution function to get probability of t-score\n",
    "print (f'Probability that 18 randomly selected bulbs would have an average life of no more than 260 days is {P1}')\n"
   ]
  },
  {
   "cell_type": "markdown",
   "id": "3e419ab5",
   "metadata": {},
   "source": [
    "#### The time required for servicing transmissions is normally distributed with mean = 45 minutes and std = 8 minutes. The service manager plans to have work begin on the transmission of a customer’s car 10 minutes after the car is dropped off and the customer is told that the car will be ready within 1 hour from drop-off. What is the probability that the service manager cannot meet his commitment?"
   ]
  },
  {
   "cell_type": "code",
   "execution_count": 35,
   "id": "bb2dbc59",
   "metadata": {},
   "outputs": [
    {
     "name": "stdout",
     "output_type": "stream",
     "text": [
      "Z-score is 0.625\n",
      "Probability that the service manager cannot meet his commitment is 0.266\n"
     ]
    }
   ],
   "source": [
    "mean = 45\n",
    "std = 8\n",
    "\n",
    "# Work begins after 10 minutes and car will be ready within 60 minutes, Total time taken = 50 minutes  \n",
    "time = 50\n",
    "\n",
    "Z_score = (time - mean)/std\n",
    "print(f'Z-score is {Z_score}')\n",
    "\n",
    "P1 = np.round(1- stats.norm.cdf(Z_score),4)  # Using cumulative distribution function to get probability of Z-score\n",
    "print (f'Probability that the service manager cannot meet his commitment is {P1}')"
   ]
  },
  {
   "cell_type": "markdown",
   "id": "08577266",
   "metadata": {},
   "source": [
    "#### The current age (in years) of 400 clerical employees at an insurance claims processing center is normally distributed with mean = 38 and Standard deviation = 6. For each statement below, please specify True/False. If false, briefly explain why.\n",
    "    A. More employees at the processing center are older than 44 than between 38 and 44.\n",
    "    B. A training program for employees under the age of 30 at the center would be expected to attract about 36 employees."
   ]
  },
  {
   "cell_type": "raw",
   "id": "0d21672d",
   "metadata": {},
   "source": [
    "mean = 38 \n",
    "std= 6\n",
    "\n",
    "a) Probabilty of employees greater than age of 44 = P(X>44)\n",
    "P(X > 44) = 1 - P(X ≤ 44).\n",
    "Z_score = (X - mean)/std  = (X - 38)/6 = 1\n",
    "\n",
    "Probabilty that the employee will be older than 44 = 1 - P(X ≤ 44) = 1- 0.8413 = 0.1587\n",
    "\n",
    "So the probability of number of employees between 38-44 years of age = Pr(X < 44)- 0.5 = 0.8413-0.5= 0.3413\n",
    "\n",
    "Hence, More employees at the processing center are older than 44 than between 38 and 44 is TRUE.\n",
    "\n",
    "b) Probabilty of employees less than age of 30 =  P(X < 30).\n",
    "Z_score = (X - mean)/std  = (30 - 38)/6 = -1.333\n",
    "\n",
    "P(X ≤ 30) = 0.0913\n",
    "\n",
    "Expected number of employees being under age 30 = 0.0913 * 400 = 36.52 ( or 36 employees).\n",
    "Hence, statement B is TRUE."
   ]
  },
  {
   "cell_type": "markdown",
   "id": "6673a154",
   "metadata": {},
   "source": [
    "#### If X1 ~ N(μ, σ2) and X2 ~ N(μ, σ2) are iid normal random variables, then what is the difference between 2 X1 and X1 + X2? Discuss both their distributions and parameters."
   ]
  },
  {
   "cell_type": "raw",
   "id": "018bae4a",
   "metadata": {},
   "source": [
    "# X1 ~ N(μ, σ2) and X2 ~ N(μ, σ2) are independent and identically normal random variables\n",
    "\n",
    "Hence,  \n",
    "X1 + X2 ~ N(μ + μ, σ^2 + σ^2) ~ N(2μ, 2σ^2 )  #  X + Y ∼ N(µ1 + µ2, σ1^2 + σ2^2 )\n",
    "2X1 ~ N(2μ, 4σ^2)                             #  aX ~ N(aµ1 + a^2 σ1^2)\n",
    " \n",
    "2X1 - (X1 + X2) ~ N(0, 6σ^2)                  #  X - Y ∼ N(µ1 - µ2, σ1^2 + σ2^2 )"
   ]
  },
  {
   "cell_type": "markdown",
   "id": "00cb76b7",
   "metadata": {},
   "source": [
    "####  Let X ~ N(100, 20^2) its (100, 20 square).Find two values, a and b, symmetric about the mean, such that the probability of the random variable taking a value between them is 0.99.\n",
    "    A. 90.5, 105.9\n",
    "    B. 80.2, 119.8 \n",
    "    C. 22, 78\n",
    "    D. 48.5, 151.5\n",
    "    E. 90.1, 109.9"
   ]
  },
  {
   "cell_type": "code",
   "execution_count": 37,
   "id": "6589c2a6",
   "metadata": {},
   "outputs": [
    {
     "data": {
      "text/plain": [
       "(48.483413929021985, 151.516586070978)"
      ]
     },
     "execution_count": 37,
     "metadata": {},
     "output_type": "execute_result"
    }
   ],
   "source": [
    "mean = 100 \n",
    "std = 20\n",
    "\n",
    "# Finding the z-score for a based on (1-0.99)/2 = 0.005\n",
    "Z_score_a = stats.norm.ppf(0.005)\n",
    "\n",
    "# Finding the z-score for a based on 0.995\n",
    "Z_score_b = stats.norm.ppf(0.995)\n",
    "\n",
    "a = (Z_score_a * std) + mean\n",
    "b = (Z_score_b * std) + mean\n",
    "(a,b)\n",
    "\n",
    "# Option D is Correct"
   ]
  },
  {
   "cell_type": "markdown",
   "id": "66f500d9",
   "metadata": {},
   "source": [
    "#### Consider a company that has two different divisions. The annual profits from the two divisions are independent and have distributions Profit1 ~ N(5, 3^2) and Profit2 ~ N(7, 4^2) respectively. Both the profits are in  dollar Million. Answer the following questions about the total profit of the company in Rupees. Assume that dollar 1 = Rs. 45\n",
    "    A. Specify a Rupee range (centered on the mean) such that it contains 95% probability for the annual profit of the company.\n",
    "    B. Specify the 5th percentile of profit (in Rupees) for the company\n",
    "    C. Which of the two divisions has a larger probability of making a loss in a given year?\n"
   ]
  },
  {
   "cell_type": "raw",
   "id": "d36ad166",
   "metadata": {},
   "source": [
    "Profit1 ~ N(5,3^2)\n",
    "Profit2 ~ N(7,4^2)\n",
    "\n",
    "Annual_Profit ~ Profit1 + Profit2 ~ N(12,5^2)\n",
    "mean = 12, std = 5\n",
    "\n",
    "A. \n",
    "95% of the probability lies between 1.96 standard deviations of the mean.\n",
    "Hence range is: (12 - 1.96*5, 12 + 1.96*5)\n",
    "                ($2.2M, $22.8M) = (Rs. 99M, Rs. 1026M)\n",
    "\n",
    "B. \n",
    "5th percentile of profit (in Rupees) for the company\n",
    "Z_score for 0.05 probability is -1.6448\n",
    "x = (12 + (-1.6448*5)) =  $3.78M = Rs. 170.1M\n",
    "\n",
    "C. \n",
    "Loss ----> When profit is less than 0\n",
    "For Profit1:\n",
    "    P(X < 0) = (0 - 5)/3 = -1.667  ----> From z-table P(X<0) = 0.047\n",
    "For Profit2:\n",
    "    P(X < 0) = (0 - 7)/4 = -1.75  ----> From z-table P(X<0) = 0.040\n",
    "    \n",
    "Hence, Division 1 has higher probability of making a loss"
   ]
  },
  {
   "cell_type": "code",
   "execution_count": null,
   "id": "a1534e6c",
   "metadata": {},
   "outputs": [],
   "source": []
  }
 ],
 "metadata": {
  "kernelspec": {
   "display_name": "Python 3 (ipykernel)",
   "language": "python",
   "name": "python3"
  },
  "language_info": {
   "codemirror_mode": {
    "name": "ipython",
    "version": 3
   },
   "file_extension": ".py",
   "mimetype": "text/x-python",
   "name": "python",
   "nbconvert_exporter": "python",
   "pygments_lexer": "ipython3",
   "version": "3.9.12"
  }
 },
 "nbformat": 4,
 "nbformat_minor": 5
}
