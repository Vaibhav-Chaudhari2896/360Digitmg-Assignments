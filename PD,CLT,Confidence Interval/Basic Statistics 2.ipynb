{
 "cells": [
  {
   "cell_type": "code",
   "execution_count": 1,
   "id": "e4f1a6bc",
   "metadata": {},
   "outputs": [],
   "source": [
    "import pandas as pd\n",
    "import numpy as np\n",
    "import seaborn as sns\n",
    "import scipy as sp"
   ]
  },
  {
   "cell_type": "raw",
   "id": "87d1eb3c",
   "metadata": {},
   "source": [
    "Q3) Suppose we want to estimate the average weight of an adult male in Mexico. We draw a random sample of 2,000 men from a population of 3,000,000 men and weigh them. We find that the average person in our sample weighs 200 pounds, and the\n",
    "standard deviation of the sample is 30 pounds. Calculate 94%,98%,96% confidence interval?"
   ]
  },
  {
   "cell_type": "code",
   "execution_count": 2,
   "id": "0b769ae6",
   "metadata": {},
   "outputs": [
    {
     "name": "stdout",
     "output_type": "stream",
     "text": [
      "Confidene interval for 94% : (198.95658022813802, 201.04341977186198)\n"
     ]
    }
   ],
   "source": [
    "n = 2000\n",
    "N = 3000000\n",
    "mean_n = 200\n",
    "std_n = 30\n",
    "t = sp.stats.t.ppf(0.94,1999)\n",
    "\n",
    "x_min = mean_n - (t*std_n/np.sqrt(n))\n",
    "x_max = mean_n + (t*std_n/np.sqrt(n))\n",
    "print(f'Confidene interval for 94% : {(x_min, x_max)}')"
   ]
  },
  {
   "cell_type": "code",
   "execution_count": 3,
   "id": "3e2ab370",
   "metadata": {},
   "outputs": [
    {
     "name": "stdout",
     "output_type": "stream",
     "text": [
      "Confidene interval for 98% : (198.6214037429732, 201.3785962570268)\n"
     ]
    }
   ],
   "source": [
    "t = sp.stats.t.ppf(0.98,1999)\n",
    "\n",
    "x_min = mean_n - (t*std_n/np.sqrt(n))\n",
    "x_max = mean_n + (t*std_n/np.sqrt(n))\n",
    "print(f'Confidene interval for 98% : {(x_min, x_max)}')"
   ]
  },
  {
   "cell_type": "code",
   "execution_count": 4,
   "id": "b0c49010",
   "metadata": {},
   "outputs": [
    {
     "name": "stdout",
     "output_type": "stream",
     "text": [
      "Confidene interval for 96% : (198.82500675400203, 201.17499324599797)\n"
     ]
    }
   ],
   "source": [
    "t = sp.stats.t.ppf(0.96,1999)\n",
    "\n",
    "x_min = mean_n - (t*std_n/np.sqrt(n))\n",
    "x_max = mean_n + (t*std_n/np.sqrt(n))\n",
    "print(f'Confidene interval for 96% : {(x_min, x_max)}')"
   ]
  }
 ],
 "metadata": {
  "kernelspec": {
   "display_name": "Python 3 (ipykernel)",
   "language": "python",
   "name": "python3"
  },
  "language_info": {
   "codemirror_mode": {
    "name": "ipython",
    "version": 3
   },
   "file_extension": ".py",
   "mimetype": "text/x-python",
   "name": "python",
   "nbconvert_exporter": "python",
   "pygments_lexer": "ipython3",
   "version": "3.9.12"
  }
 },
 "nbformat": 4,
 "nbformat_minor": 5
}
