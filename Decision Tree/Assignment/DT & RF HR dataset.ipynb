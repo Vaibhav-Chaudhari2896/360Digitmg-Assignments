{
 "cells": [
  {
   "cell_type": "code",
   "execution_count": 1,
   "id": "f59f37f3",
   "metadata": {},
   "outputs": [],
   "source": [
    "# Importing libraries\n",
    "\n",
    "import pandas as pd\n",
    "import numpy as np\n",
    "import matplotlib.pyplot as plt\n",
    "import seaborn as sns\n",
    "\n",
    "%matplotlib inline"
   ]
  },
  {
   "cell_type": "code",
   "execution_count": 2,
   "id": "2ccce6ba",
   "metadata": {},
   "outputs": [],
   "source": [
    "# importing dataset\n",
    "dataset = pd.read_csv('C:/Users/vaibh/Desktop/360 Digitmg/Decision Tree/Assignment/HR_DT.csv')"
   ]
  },
  {
   "cell_type": "code",
   "execution_count": 3,
   "id": "69d1c523",
   "metadata": {
    "scrolled": true
   },
   "outputs": [
    {
     "data": {
      "text/html": [
       "<div>\n",
       "<style scoped>\n",
       "    .dataframe tbody tr th:only-of-type {\n",
       "        vertical-align: middle;\n",
       "    }\n",
       "\n",
       "    .dataframe tbody tr th {\n",
       "        vertical-align: top;\n",
       "    }\n",
       "\n",
       "    .dataframe thead th {\n",
       "        text-align: right;\n",
       "    }\n",
       "</style>\n",
       "<table border=\"1\" class=\"dataframe\">\n",
       "  <thead>\n",
       "    <tr style=\"text-align: right;\">\n",
       "      <th></th>\n",
       "      <th>Position of the employee</th>\n",
       "      <th>no of Years of Experience of employee</th>\n",
       "      <th>monthly income of employee</th>\n",
       "    </tr>\n",
       "  </thead>\n",
       "  <tbody>\n",
       "    <tr>\n",
       "      <th>0</th>\n",
       "      <td>Business Analyst</td>\n",
       "      <td>1.1</td>\n",
       "      <td>39343</td>\n",
       "    </tr>\n",
       "    <tr>\n",
       "      <th>1</th>\n",
       "      <td>Junior Consultant</td>\n",
       "      <td>1.3</td>\n",
       "      <td>46205</td>\n",
       "    </tr>\n",
       "    <tr>\n",
       "      <th>2</th>\n",
       "      <td>Senior Consultant</td>\n",
       "      <td>1.5</td>\n",
       "      <td>37731</td>\n",
       "    </tr>\n",
       "    <tr>\n",
       "      <th>3</th>\n",
       "      <td>Manager</td>\n",
       "      <td>2.0</td>\n",
       "      <td>43525</td>\n",
       "    </tr>\n",
       "    <tr>\n",
       "      <th>4</th>\n",
       "      <td>Country Manager</td>\n",
       "      <td>2.2</td>\n",
       "      <td>39891</td>\n",
       "    </tr>\n",
       "  </tbody>\n",
       "</table>\n",
       "</div>"
      ],
      "text/plain": [
       "  Position of the employee  no of Years of Experience of employee  \\\n",
       "0         Business Analyst                                    1.1   \n",
       "1        Junior Consultant                                    1.3   \n",
       "2        Senior Consultant                                    1.5   \n",
       "3                  Manager                                    2.0   \n",
       "4          Country Manager                                    2.2   \n",
       "\n",
       "    monthly income of employee  \n",
       "0                        39343  \n",
       "1                        46205  \n",
       "2                        37731  \n",
       "3                        43525  \n",
       "4                        39891  "
      ]
     },
     "execution_count": 3,
     "metadata": {},
     "output_type": "execute_result"
    }
   ],
   "source": [
    "# Checing rows and columns in the dataset\n",
    "dataset.head()"
   ]
  },
  {
   "cell_type": "code",
   "execution_count": 4,
   "id": "3aa34925",
   "metadata": {},
   "outputs": [
    {
     "data": {
      "text/plain": [
       "(196, 3)"
      ]
     },
     "execution_count": 4,
     "metadata": {},
     "output_type": "execute_result"
    }
   ],
   "source": [
    "# Checking dmensions of the dataset\n",
    "dataset.shape"
   ]
  },
  {
   "cell_type": "code",
   "execution_count": 5,
   "id": "040a4024",
   "metadata": {},
   "outputs": [],
   "source": [
    "# Changing column titles\n",
    "dataset = dataset.rename(columns={'Position of the employee':'Position',\n",
    "                        'no of Years of Experience of employee':'Experience',\n",
    "                       ' monthly income of employee':'Monthly_Income'})"
   ]
  },
  {
   "cell_type": "code",
   "execution_count": 6,
   "id": "c9fad8e7",
   "metadata": {
    "scrolled": true
   },
   "outputs": [
    {
     "data": {
      "text/plain": [
       "Position          0\n",
       "Experience        0\n",
       "Monthly_Income    0\n",
       "dtype: int64"
      ]
     },
     "execution_count": 6,
     "metadata": {},
     "output_type": "execute_result"
    }
   ],
   "source": [
    "# Checking for null values\n",
    "dataset.isnull().sum()"
   ]
  },
  {
   "cell_type": "markdown",
   "id": "ea1dfb9a",
   "metadata": {},
   "source": [
    "There are no null values"
   ]
  },
  {
   "cell_type": "code",
   "execution_count": 7,
   "id": "cfb38e4d",
   "metadata": {
    "scrolled": true
   },
   "outputs": [
    {
     "data": {
      "text/plain": [
       "38"
      ]
     },
     "execution_count": 7,
     "metadata": {},
     "output_type": "execute_result"
    }
   ],
   "source": [
    "# Checking for duplicate values\n",
    "dataset.duplicated().sum()"
   ]
  },
  {
   "cell_type": "markdown",
   "id": "58783c52",
   "metadata": {},
   "source": [
    "There are 38 duplicated values"
   ]
  },
  {
   "cell_type": "code",
   "execution_count": 8,
   "id": "6a6eabd2",
   "metadata": {},
   "outputs": [],
   "source": [
    "# Droppinf duplicated values\n",
    "dataset = dataset.drop_duplicates(ignore_index=True)"
   ]
  },
  {
   "cell_type": "code",
   "execution_count": 9,
   "id": "47cfe0b9",
   "metadata": {},
   "outputs": [
    {
     "data": {
      "text/plain": [
       "(158, 3)"
      ]
     },
     "execution_count": 9,
     "metadata": {},
     "output_type": "execute_result"
    }
   ],
   "source": [
    "dataset.shape"
   ]
  },
  {
   "cell_type": "code",
   "execution_count": 10,
   "id": "5533d521",
   "metadata": {
    "scrolled": true
   },
   "outputs": [
    {
     "name": "stdout",
     "output_type": "stream",
     "text": [
      "<class 'pandas.core.frame.DataFrame'>\n",
      "RangeIndex: 158 entries, 0 to 157\n",
      "Data columns (total 3 columns):\n",
      " #   Column          Non-Null Count  Dtype  \n",
      "---  ------          --------------  -----  \n",
      " 0   Position        158 non-null    object \n",
      " 1   Experience      158 non-null    float64\n",
      " 2   Monthly_Income  158 non-null    int64  \n",
      "dtypes: float64(1), int64(1), object(1)\n",
      "memory usage: 3.8+ KB\n"
     ]
    }
   ],
   "source": [
    "# Checking datatypes of the features\n",
    "dataset.info()"
   ]
  },
  {
   "cell_type": "code",
   "execution_count": 11,
   "id": "b5f78428",
   "metadata": {
    "scrolled": true
   },
   "outputs": [
    {
     "data": {
      "text/plain": [
       "<function matplotlib.pyplot.show(close=None, block=None)>"
      ]
     },
     "execution_count": 11,
     "metadata": {},
     "output_type": "execute_result"
    },
    {
     "data": {
      "image/png": "[encoded data removed]",
      "text/plain": [
       "<Figure size 432x288 with 1 Axes>"
      ]
     },
     "metadata": {
      "needs_background": "light"
     },
     "output_type": "display_data"
    }
   ],
   "source": [
    "# Countplot for number of positions in the dataset\n",
    "sns.countplot(y = dataset.Position)\n",
    "plt.xticks(range(0,21,2))\n",
    "plt.show"
   ]
  },
  {
   "cell_type": "code",
   "execution_count": 12,
   "id": "64e95093",
   "metadata": {},
   "outputs": [
    {
     "data": {
      "image/png": "[encoded data removed]",
      "text/plain": [
       "<Figure size 432x288 with 1 Axes>"
      ]
     },
     "metadata": {
      "needs_background": "light"
     },
     "output_type": "display_data"
    },
    {
     "data": {
      "text/plain": [
       "<AxesSubplot:xlabel='Monthly_Income', ylabel='Count'>"
      ]
     },
     "execution_count": 12,
     "metadata": {},
     "output_type": "execute_result"
    },
    {
     "data": {
      "image/png": "[encoded data removed]",
      "text/plain": [
       "<Figure size 432x288 with 1 Axes>"
      ]
     },
     "metadata": {
      "needs_background": "light"
     },
     "output_type": "display_data"
    }
   ],
   "source": [
    "# Histplot of numerical features\n",
    "sns.histplot(dataset.Experience,kde=1);plt.show()\n",
    "sns.histplot(dataset.Monthly_Income,kde=1)"
   ]
  },
  {
   "cell_type": "code",
   "execution_count": 13,
   "id": "6d5161d7",
   "metadata": {
    "scrolled": true
   },
   "outputs": [
    {
     "data": {
      "text/plain": [
       "<AxesSubplot:xlabel='Monthly_Income', ylabel='Experience'>"
      ]
     },
     "execution_count": 13,
     "metadata": {},
     "output_type": "execute_result"
    },
    {
     "data": {
      "image/png": "[encoded data removed]",
      "text/plain": [
       "<Figure size 432x288 with 1 Axes>"
      ]
     },
     "metadata": {
      "needs_background": "light"
     },
     "output_type": "display_data"
    }
   ],
   "source": [
    "# Scatterplot\n",
    "sns.scatterplot(y = dataset.Experience,x = dataset.Monthly_Income, hue=dataset.Position)"
   ]
  },
  {
   "cell_type": "markdown",
   "id": "c7a32cb0",
   "metadata": {},
   "source": [
    "Monthly income and Experience are positively correlated"
   ]
  },
  {
   "cell_type": "code",
   "execution_count": 14,
   "id": "8274fe99",
   "metadata": {
    "scrolled": true
   },
   "outputs": [
    {
     "data": {
      "image/png": "[encoded data removed]",
      "text/plain": [
       "<Figure size 432x288 with 2 Axes>"
      ]
     },
     "metadata": {
      "needs_background": "light"
     },
     "output_type": "display_data"
    }
   ],
   "source": [
    "# Boxplot\n",
    "plt.subplots(1,2)\n",
    "sns.boxplot(y = dataset.Experience);plt.subplot(1,2,1);\n",
    "sns.boxplot(y = dataset.Monthly_Income);plt.subplot(1,2,2);"
   ]
  },
  {
   "cell_type": "markdown",
   "id": "761ca935",
   "metadata": {},
   "source": [
    "There are no outliers present in the dataset."
   ]
  },
  {
   "cell_type": "code",
   "execution_count": 15,
   "id": "c33924ab",
   "metadata": {},
   "outputs": [],
   "source": [
    "# Converting categorical data to numerical data\n",
    "dataset = pd.get_dummies(data = dataset, columns = ['Position'],drop_first=True)"
   ]
  },
  {
   "cell_type": "code",
   "execution_count": 16,
   "id": "6c47aef3",
   "metadata": {},
   "outputs": [],
   "source": [
    "# Splitting into independent and dependent features\n",
    "x = dataset.loc[:,dataset.columns != 'Monthly_Income']\n",
    "y = dataset.Monthly_Income"
   ]
  },
  {
   "cell_type": "code",
   "execution_count": 17,
   "id": "f4d35b8b",
   "metadata": {},
   "outputs": [],
   "source": [
    "# Train-Test split\n",
    "from sklearn.model_selection import train_test_split\n",
    "x_train_o, x_test_o, y_train, y_test = train_test_split(x, y, test_size=0.2, random_state=0)"
   ]
  },
  {
   "cell_type": "code",
   "execution_count": 18,
   "id": "5a7ce82f",
   "metadata": {},
   "outputs": [],
   "source": [
    "# Feature Scaling\n",
    "\n",
    "from sklearn.preprocessing import MinMaxScaler\n",
    "scaler = MinMaxScaler()\n",
    "x_train = scaler.fit_transform(x_train_o)\n",
    "x_test = scaler.transform(x_test_o)"
   ]
  },
  {
   "cell_type": "code",
   "execution_count": 19,
   "id": "a850729f",
   "metadata": {},
   "outputs": [],
   "source": [
    "# Using Decision Tree\n",
    "\n",
    "from sklearn.tree import DecisionTreeRegressor\n",
    "\n",
    "dt = DecisionTreeRegressor(criterion='squared_error', max_depth=2)\n",
    "dt_train = dt.fit(x_train,y_train)  # fitting model to train data"
   ]
  },
  {
   "cell_type": "code",
   "execution_count": 20,
   "id": "463f22b5",
   "metadata": {},
   "outputs": [],
   "source": [
    "# Predicting results for test data\n",
    "yhat_test = dt.predict(x_test)"
   ]
  },
  {
   "cell_type": "code",
   "execution_count": 21,
   "id": "2eb42537",
   "metadata": {},
   "outputs": [
    {
     "name": "stdout",
     "output_type": "stream",
     "text": [
      "Test MSE: 24001796.314989932 R2_score: 0.9711762114836251\n"
     ]
    }
   ],
   "source": [
    "# MSE and R2 Score for test data\n",
    "from sklearn.metrics import mean_squared_error,r2_score\n",
    "\n",
    "test_mse = mean_squared_error(y_test,yhat_test)\n",
    "test_r2score = r2_score(y_test,yhat_test)\n",
    "print(f'Test MSE: {test_mse} R2_score: {test_r2score}') "
   ]
  },
  {
   "cell_type": "code",
   "execution_count": 22,
   "id": "be5774da",
   "metadata": {},
   "outputs": [
    {
     "name": "stdout",
     "output_type": "stream",
     "text": [
      "Train MSE: 27494182.735353697 R2_score: 0.9594886550752851\n"
     ]
    }
   ],
   "source": [
    "# MSE and R2 Score for train data\n",
    "\n",
    "yhat_train = dt.predict(x_train)\n",
    "train_mse = mean_squared_error(y_train,yhat_train)\n",
    "train_r2score = r2_score(y_train,yhat_train)\n",
    "print(f'Train MSE: {train_mse} R2_score: {train_r2score}' ) "
   ]
  },
  {
   "cell_type": "markdown",
   "id": "f6b09948",
   "metadata": {},
   "source": [
    "Pruning the decision tree using max_depth= 2, so as to avoid overfitting. "
   ]
  },
  {
   "cell_type": "code",
   "execution_count": 23,
   "id": "3d91abc0",
   "metadata": {
    "scrolled": false
   },
   "outputs": [
    {
     "data": {
      "image/svg+xml": [
       "<?xml version=\"1.0\" encoding=\"UTF-8\" standalone=\"no\"?>\n",
       "<!DOCTYPE svg PUBLIC \"-//W3C//DTD SVG 1.1//EN\"\n",
       " \"http://www.w3.org/Graphics/SVG/1.1/DTD/svg11.dtd\">\n",
       "<!-- Generated by graphviz version 2.50.0 (0)\n",
       " -->\n",
       "<!-- Title: Tree Pages: 1 -->\n",
       "<svg width=\"874pt\" height=\"269pt\"\n",
       " viewBox=\"0.00 0.00 874.00 269.00\" xmlns=\"http://www.w3.org/2000/svg\" xmlns:xlink=\"http://www.w3.org/1999/xlink\">\n",
       "<g id=\"graph0\" class=\"graph\" transform=\"scale(1 1) rotate(0) translate(4 265)\">\n",
       "<title>Tree</title>\n",
       "<polygon fill=\"white\" stroke=\"transparent\" points=\"-4,4 -4,-265 870,-265 870,4 -4,4\"/>\n",
       "<!-- 0 -->\n",
       "<g id=\"node1\" class=\"node\">\n",
       "<title>0</title>\n",
       "<polygon fill=\"none\" stroke=\"black\" points=\"538,-261 327,-261 327,-193 538,-193 538,-261\"/>\n",
       "<text text-anchor=\"middle\" x=\"432.5\" y=\"-245.8\" font-family=\"Helvetica,sans-Serif\" font-size=\"14.00\">Experience &lt;= 0.436</text>\n",
       "<text text-anchor=\"middle\" x=\"432.5\" y=\"-230.8\" font-family=\"Helvetica,sans-Serif\" font-size=\"14.00\">squared_error = 678678596.982</text>\n",
       "<text text-anchor=\"middle\" x=\"432.5\" y=\"-215.8\" font-family=\"Helvetica,sans-Serif\" font-size=\"14.00\">samples = 126</text>\n",
       "<text text-anchor=\"middle\" x=\"432.5\" y=\"-200.8\" font-family=\"Helvetica,sans-Serif\" font-size=\"14.00\">value = 72389.381</text>\n",
       "</g>\n",
       "<!-- 1 -->\n",
       "<g id=\"node2\" class=\"node\">\n",
       "<title>1</title>\n",
       "<polygon fill=\"none\" stroke=\"black\" points=\"424,-157 221,-157 221,-89 424,-89 424,-157\"/>\n",
       "<text text-anchor=\"middle\" x=\"322.5\" y=\"-141.8\" font-family=\"Helvetica,sans-Serif\" font-size=\"14.00\">Experience &lt;= 0.154</text>\n",
       "<text text-anchor=\"middle\" x=\"322.5\" y=\"-126.8\" font-family=\"Helvetica,sans-Serif\" font-size=\"14.00\">squared_error = 84294100.503</text>\n",
       "<text text-anchor=\"middle\" x=\"322.5\" y=\"-111.8\" font-family=\"Helvetica,sans-Serif\" font-size=\"14.00\">samples = 79</text>\n",
       "<text text-anchor=\"middle\" x=\"322.5\" y=\"-96.8\" font-family=\"Helvetica,sans-Serif\" font-size=\"14.00\">value = 54234.506</text>\n",
       "</g>\n",
       "<!-- 0&#45;&gt;1 -->\n",
       "<g id=\"edge1\" class=\"edge\">\n",
       "<title>0&#45;&gt;1</title>\n",
       "<path fill=\"none\" stroke=\"black\" d=\"M396.79,-192.88C386.89,-183.71 376.04,-173.65 365.77,-164.12\"/>\n",
       "<polygon fill=\"black\" stroke=\"black\" points=\"368.12,-161.53 358.41,-157.3 363.36,-166.67 368.12,-161.53\"/>\n",
       "<text text-anchor=\"middle\" x=\"359.35\" y=\"-178.58\" font-family=\"Helvetica,sans-Serif\" font-size=\"14.00\">True</text>\n",
       "</g>\n",
       "<!-- 4 -->\n",
       "<g id=\"node5\" class=\"node\">\n",
       "<title>4</title>\n",
       "<polygon fill=\"none\" stroke=\"black\" points=\"645,-157 442,-157 442,-89 645,-89 645,-157\"/>\n",
       "<text text-anchor=\"middle\" x=\"543.5\" y=\"-141.8\" font-family=\"Helvetica,sans-Serif\" font-size=\"14.00\">Experience &lt;= 0.739</text>\n",
       "<text text-anchor=\"middle\" x=\"543.5\" y=\"-126.8\" font-family=\"Helvetica,sans-Serif\" font-size=\"14.00\">squared_error = 192538481.68</text>\n",
       "<text text-anchor=\"middle\" x=\"543.5\" y=\"-111.8\" font-family=\"Helvetica,sans-Serif\" font-size=\"14.00\">samples = 47</text>\n",
       "<text text-anchor=\"middle\" x=\"543.5\" y=\"-96.8\" font-family=\"Helvetica,sans-Serif\" font-size=\"14.00\">value = 102905.021</text>\n",
       "</g>\n",
       "<!-- 0&#45;&gt;4 -->\n",
       "<g id=\"edge4\" class=\"edge\">\n",
       "<title>0&#45;&gt;4</title>\n",
       "<path fill=\"none\" stroke=\"black\" d=\"M468.54,-192.88C478.52,-183.71 489.47,-173.65 499.84,-164.12\"/>\n",
       "<polygon fill=\"black\" stroke=\"black\" points=\"502.27,-166.64 507.26,-157.3 497.53,-161.49 502.27,-166.64\"/>\n",
       "<text text-anchor=\"middle\" x=\"506.21\" y=\"-178.58\" font-family=\"Helvetica,sans-Serif\" font-size=\"14.00\">False</text>\n",
       "</g>\n",
       "<!-- 2 -->\n",
       "<g id=\"node3\" class=\"node\">\n",
       "<title>2</title>\n",
       "<polygon fill=\"none\" stroke=\"black\" points=\"203,-53 0,-53 0,0 203,0 203,-53\"/>\n",
       "<text text-anchor=\"middle\" x=\"101.5\" y=\"-37.8\" font-family=\"Helvetica,sans-Serif\" font-size=\"14.00\">squared_error = 18253818.406</text>\n",
       "<text text-anchor=\"middle\" x=\"101.5\" y=\"-22.8\" font-family=\"Helvetica,sans-Serif\" font-size=\"14.00\">samples = 25</text>\n",
       "<text text-anchor=\"middle\" x=\"101.5\" y=\"-7.8\" font-family=\"Helvetica,sans-Serif\" font-size=\"14.00\">value = 42224.56</text>\n",
       "</g>\n",
       "<!-- 1&#45;&gt;2 -->\n",
       "<g id=\"edge2\" class=\"edge\">\n",
       "<title>1&#45;&gt;2</title>\n",
       "<path fill=\"none\" stroke=\"black\" d=\"M245.2,-88.95C220.92,-78.56 194.28,-67.17 170.6,-57.05\"/>\n",
       "<polygon fill=\"black\" stroke=\"black\" points=\"171.91,-53.8 161.34,-53.09 169.16,-60.24 171.91,-53.8\"/>\n",
       "</g>\n",
       "<!-- 3 -->\n",
       "<g id=\"node4\" class=\"node\">\n",
       "<title>3</title>\n",
       "<polygon fill=\"none\" stroke=\"black\" points=\"424,-53 221,-53 221,0 424,0 424,-53\"/>\n",
       "<text text-anchor=\"middle\" x=\"322.5\" y=\"-37.8\" font-family=\"Helvetica,sans-Serif\" font-size=\"14.00\">squared_error = 17175694.963</text>\n",
       "<text text-anchor=\"middle\" x=\"322.5\" y=\"-22.8\" font-family=\"Helvetica,sans-Serif\" font-size=\"14.00\">samples = 54</text>\n",
       "<text text-anchor=\"middle\" x=\"322.5\" y=\"-7.8\" font-family=\"Helvetica,sans-Serif\" font-size=\"14.00\">value = 59794.667</text>\n",
       "</g>\n",
       "<!-- 1&#45;&gt;3 -->\n",
       "<g id=\"edge3\" class=\"edge\">\n",
       "<title>1&#45;&gt;3</title>\n",
       "<path fill=\"none\" stroke=\"black\" d=\"M322.5,-88.95C322.5,-80.72 322.5,-71.85 322.5,-63.48\"/>\n",
       "<polygon fill=\"black\" stroke=\"black\" points=\"326,-63.24 322.5,-53.24 319,-63.24 326,-63.24\"/>\n",
       "</g>\n",
       "<!-- 5 -->\n",
       "<g id=\"node6\" class=\"node\">\n",
       "<title>5</title>\n",
       "<polygon fill=\"none\" stroke=\"black\" points=\"645,-53 442,-53 442,0 645,0 645,-53\"/>\n",
       "<text text-anchor=\"middle\" x=\"543.5\" y=\"-37.8\" font-family=\"Helvetica,sans-Serif\" font-size=\"14.00\">squared_error = 54351979.234</text>\n",
       "<text text-anchor=\"middle\" x=\"543.5\" y=\"-22.8\" font-family=\"Helvetica,sans-Serif\" font-size=\"14.00\">samples = 24</text>\n",
       "<text text-anchor=\"middle\" x=\"543.5\" y=\"-7.8\" font-family=\"Helvetica,sans-Serif\" font-size=\"14.00\">value = 90984.625</text>\n",
       "</g>\n",
       "<!-- 4&#45;&gt;5 -->\n",
       "<g id=\"edge5\" class=\"edge\">\n",
       "<title>4&#45;&gt;5</title>\n",
       "<path fill=\"none\" stroke=\"black\" d=\"M543.5,-88.95C543.5,-80.72 543.5,-71.85 543.5,-63.48\"/>\n",
       "<polygon fill=\"black\" stroke=\"black\" points=\"547,-63.24 543.5,-53.24 540,-63.24 547,-63.24\"/>\n",
       "</g>\n",
       "<!-- 6 -->\n",
       "<g id=\"node7\" class=\"node\">\n",
       "<title>6</title>\n",
       "<polygon fill=\"none\" stroke=\"black\" points=\"866,-53 663,-53 663,0 866,0 866,-53\"/>\n",
       "<text text-anchor=\"middle\" x=\"764.5\" y=\"-37.8\" font-family=\"Helvetica,sans-Serif\" font-size=\"14.00\">squared_error = 33738544.994</text>\n",
       "<text text-anchor=\"middle\" x=\"764.5\" y=\"-22.8\" font-family=\"Helvetica,sans-Serif\" font-size=\"14.00\">samples = 23</text>\n",
       "<text text-anchor=\"middle\" x=\"764.5\" y=\"-7.8\" font-family=\"Helvetica,sans-Serif\" font-size=\"14.00\">value = 115343.696</text>\n",
       "</g>\n",
       "<!-- 4&#45;&gt;6 -->\n",
       "<g id=\"edge6\" class=\"edge\">\n",
       "<title>4&#45;&gt;6</title>\n",
       "<path fill=\"none\" stroke=\"black\" d=\"M620.8,-88.95C645.08,-78.56 671.72,-67.17 695.4,-57.05\"/>\n",
       "<polygon fill=\"black\" stroke=\"black\" points=\"696.84,-60.24 704.66,-53.09 694.09,-53.8 696.84,-60.24\"/>\n",
       "</g>\n",
       "</g>\n",
       "</svg>\n"
      ],
      "text/plain": [
       "<graphviz.sources.Source at 0x1f59eae6a60>"
      ]
     },
     "execution_count": 23,
     "metadata": {},
     "output_type": "execute_result"
    },
    {
     "data": {
      "text/plain": [
       "<Figure size 360x144 with 0 Axes>"
      ]
     },
     "metadata": {},
     "output_type": "display_data"
    }
   ],
   "source": [
    "import graphviz \n",
    "import sklearn\n",
    "\n",
    "plt.figure(figsize=(5,2))\n",
    "dt = DecisionTreeRegressor(criterion='squared_error',max_depth=2).fit(x_train, y_train)\n",
    "dot_data = sklearn.tree.export_graphviz(dt,feature_names = x.columns.tolist())\n",
    "graph = graphviz.Source(dot_data)\n",
    "graph "
   ]
  },
  {
   "cell_type": "markdown",
   "id": "4f749c5d",
   "metadata": {},
   "source": [
    "Using Random Forest to see if we can increase the accuracy "
   ]
  },
  {
   "cell_type": "code",
   "execution_count": 52,
   "id": "4389268f",
   "metadata": {},
   "outputs": [],
   "source": [
    "from sklearn.ensemble import RandomForestRegressor\n",
    "\n",
    "clf = RandomForestRegressor(n_estimators=100, random_state=0)\n",
    "clf.fit(x_train,y_train) # Fitting random forest model to train \n",
    "clf_yhat_test = clf.predict(x_test)"
   ]
  },
  {
   "cell_type": "code",
   "execution_count": 53,
   "id": "2bdc7e27",
   "metadata": {},
   "outputs": [
    {
     "name": "stdout",
     "output_type": "stream",
     "text": [
      "Test MSE: 8175689.758013977 R2_score: 0.9711762114836251\n"
     ]
    }
   ],
   "source": [
    "# MSE and R2 Score for test data\n",
    "\n",
    "clf_test_mse = mean_squared_error(y_test,clf_yhat_test)\n",
    "clf_test_r2score = r2_score(y_test,yhat_test)\n",
    "print(f'Test MSE: {clf_test_mse} R2_score: {clf_test_r2score}') "
   ]
  },
  {
   "cell_type": "code",
   "execution_count": 54,
   "id": "3fe6df9d",
   "metadata": {},
   "outputs": [
    {
     "name": "stdout",
     "output_type": "stream",
     "text": [
      "Train MSE: 27494182.735353697 R2_score: 0.9594886550752851\n"
     ]
    }
   ],
   "source": [
    "# MSE and R2 Score for train data\n",
    "\n",
    "clf_yhat_train = dt.predict(x_train)\n",
    "clf_train_mse = mean_squared_error(y_train,clf_yhat_train)\n",
    "clf_train_r2score = r2_score(y_train,clf_yhat_train)\n",
    "print(f'Train MSE: {clf_train_mse} R2_score: {clf_train_r2score}')  "
   ]
  },
  {
   "cell_type": "markdown",
   "id": "91487cb0",
   "metadata": {},
   "source": [
    "Using Random Forest and Decision Tree Regressor we get the same r2Score of 0.97\n",
    "Either of the model can be used to verify candidates claim."
   ]
  }
 ],
 "metadata": {
  "kernelspec": {
   "display_name": "Python 3 (ipykernel)",
   "language": "python",
   "name": "python3"
  },
  "language_info": {
   "codemirror_mode": {
    "name": "ipython",
    "version": 3
   },
   "file_extension": ".py",
   "mimetype": "text/x-python",
   "name": "python",
   "nbconvert_exporter": "python",
   "pygments_lexer": "ipython3",
   "version": "3.9.12"
  }
 },
 "nbformat": 4,
 "nbformat_minor": 5
}
