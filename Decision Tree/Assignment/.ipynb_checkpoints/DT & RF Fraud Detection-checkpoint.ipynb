{
 "cells": [
  {
   "cell_type": "code",
   "execution_count": 1,
   "id": "f59f37f3",
   "metadata": {},
   "outputs": [],
   "source": [
    "# Importing libraries\n",
    "\n",
    "import pandas as pd\n",
    "import numpy as np\n",
    "import matplotlib.pyplot as plt\n",
    "import seaborn as sns\n",
    "%matplotlib inline"
   ]
  },
  {
   "cell_type": "code",
   "execution_count": 2,
   "id": "2ccce6ba",
   "metadata": {},
   "outputs": [],
   "source": [
    "# importing dataset\n",
    "dataset = pd.read_csv('C:/Users/vaibh/Desktop/360 Digitmg/Decision Tree/Assignment/Fraud_check.csv')"
   ]
  },
  {
   "cell_type": "code",
   "execution_count": 3,
   "id": "69d1c523",
   "metadata": {
    "scrolled": true
   },
   "outputs": [
    {
     "data": {
      "text/html": [
       "<div>\n",
       "<style scoped>\n",
       "    .dataframe tbody tr th:only-of-type {\n",
       "        vertical-align: middle;\n",
       "    }\n",
       "\n",
       "    .dataframe tbody tr th {\n",
       "        vertical-align: top;\n",
       "    }\n",
       "\n",
       "    .dataframe thead th {\n",
       "        text-align: right;\n",
       "    }\n",
       "</style>\n",
       "<table border=\"1\" class=\"dataframe\">\n",
       "  <thead>\n",
       "    <tr style=\"text-align: right;\">\n",
       "      <th></th>\n",
       "      <th>Undergrad</th>\n",
       "      <th>Marital.Status</th>\n",
       "      <th>Taxable.Income</th>\n",
       "      <th>City.Population</th>\n",
       "      <th>Work.Experience</th>\n",
       "      <th>Urban</th>\n",
       "    </tr>\n",
       "  </thead>\n",
       "  <tbody>\n",
       "    <tr>\n",
       "      <th>0</th>\n",
       "      <td>NO</td>\n",
       "      <td>Single</td>\n",
       "      <td>68833</td>\n",
       "      <td>50047</td>\n",
       "      <td>10</td>\n",
       "      <td>YES</td>\n",
       "    </tr>\n",
       "    <tr>\n",
       "      <th>1</th>\n",
       "      <td>YES</td>\n",
       "      <td>Divorced</td>\n",
       "      <td>33700</td>\n",
       "      <td>134075</td>\n",
       "      <td>18</td>\n",
       "      <td>YES</td>\n",
       "    </tr>\n",
       "    <tr>\n",
       "      <th>2</th>\n",
       "      <td>NO</td>\n",
       "      <td>Married</td>\n",
       "      <td>36925</td>\n",
       "      <td>160205</td>\n",
       "      <td>30</td>\n",
       "      <td>YES</td>\n",
       "    </tr>\n",
       "    <tr>\n",
       "      <th>3</th>\n",
       "      <td>YES</td>\n",
       "      <td>Single</td>\n",
       "      <td>50190</td>\n",
       "      <td>193264</td>\n",
       "      <td>15</td>\n",
       "      <td>YES</td>\n",
       "    </tr>\n",
       "    <tr>\n",
       "      <th>4</th>\n",
       "      <td>NO</td>\n",
       "      <td>Married</td>\n",
       "      <td>81002</td>\n",
       "      <td>27533</td>\n",
       "      <td>28</td>\n",
       "      <td>NO</td>\n",
       "    </tr>\n",
       "  </tbody>\n",
       "</table>\n",
       "</div>"
      ],
      "text/plain": [
       "  Undergrad Marital.Status  Taxable.Income  City.Population  Work.Experience  \\\n",
       "0        NO         Single           68833            50047               10   \n",
       "1       YES       Divorced           33700           134075               18   \n",
       "2        NO        Married           36925           160205               30   \n",
       "3       YES         Single           50190           193264               15   \n",
       "4        NO        Married           81002            27533               28   \n",
       "\n",
       "  Urban  \n",
       "0   YES  \n",
       "1   YES  \n",
       "2   YES  \n",
       "3   YES  \n",
       "4    NO  "
      ]
     },
     "execution_count": 3,
     "metadata": {},
     "output_type": "execute_result"
    }
   ],
   "source": [
    "# Checing rows and columns in the dataset\n",
    "dataset.head()"
   ]
  },
  {
   "cell_type": "code",
   "execution_count": 4,
   "id": "3aa34925",
   "metadata": {},
   "outputs": [
    {
     "data": {
      "text/plain": [
       "(600, 6)"
      ]
     },
     "execution_count": 4,
     "metadata": {},
     "output_type": "execute_result"
    }
   ],
   "source": [
    "# Checking dmensions of the dataset\n",
    "dataset.shape"
   ]
  },
  {
   "cell_type": "code",
   "execution_count": 5,
   "id": "c9fad8e7",
   "metadata": {
    "scrolled": true
   },
   "outputs": [
    {
     "data": {
      "text/plain": [
       "Undergrad          0\n",
       "Marital.Status     0\n",
       "Taxable.Income     0\n",
       "City.Population    0\n",
       "Work.Experience    0\n",
       "Urban              0\n",
       "dtype: int64"
      ]
     },
     "execution_count": 5,
     "metadata": {},
     "output_type": "execute_result"
    }
   ],
   "source": [
    "# Checking for null values\n",
    "dataset.isnull().sum()"
   ]
  },
  {
   "cell_type": "markdown",
   "id": "ea1dfb9a",
   "metadata": {},
   "source": [
    "There are no null values"
   ]
  },
  {
   "cell_type": "code",
   "execution_count": 6,
   "id": "cfb38e4d",
   "metadata": {
    "scrolled": true
   },
   "outputs": [
    {
     "data": {
      "text/plain": [
       "0"
      ]
     },
     "execution_count": 6,
     "metadata": {},
     "output_type": "execute_result"
    }
   ],
   "source": [
    "# Checking for duplicate values\n",
    "dataset.duplicated().sum()"
   ]
  },
  {
   "cell_type": "markdown",
   "id": "58783c52",
   "metadata": {},
   "source": [
    "There are no duplicated values"
   ]
  },
  {
   "cell_type": "code",
   "execution_count": 7,
   "id": "5533d521",
   "metadata": {
    "scrolled": false
   },
   "outputs": [
    {
     "name": "stdout",
     "output_type": "stream",
     "text": [
      "<class 'pandas.core.frame.DataFrame'>\n",
      "RangeIndex: 600 entries, 0 to 599\n",
      "Data columns (total 6 columns):\n",
      " #   Column           Non-Null Count  Dtype \n",
      "---  ------           --------------  ----- \n",
      " 0   Undergrad        600 non-null    object\n",
      " 1   Marital.Status   600 non-null    object\n",
      " 2   Taxable.Income   600 non-null    int64 \n",
      " 3   City.Population  600 non-null    int64 \n",
      " 4   Work.Experience  600 non-null    int64 \n",
      " 5   Urban            600 non-null    object\n",
      "dtypes: int64(3), object(3)\n",
      "memory usage: 28.2+ KB\n"
     ]
    }
   ],
   "source": [
    "# Checking datatypes of the features\n",
    "dataset.info()"
   ]
  },
  {
   "cell_type": "code",
   "execution_count": 8,
   "id": "519e38a1",
   "metadata": {
    "scrolled": false
   },
   "outputs": [
    {
     "data": {
      "image/png": "[encoded data removed]",
      "text/plain": [
       "<Figure size 432x288 with 2 Axes>"
      ]
     },
     "metadata": {
      "needs_background": "light"
     },
     "output_type": "display_data"
    }
   ],
   "source": [
    "# Countplot \n",
    "plt.subplots(1,2)\n",
    "sns.countplot(x = dataset.Undergrad); plt.subplot(1,2,1)\n",
    "sns.countplot(x=dataset['Marital.Status']);plt.subplot(1,2,2)\n",
    "plt.tight_layout(h_pad=0.5, w_pad=3, pad=1)"
   ]
  },
  {
   "cell_type": "code",
   "execution_count": 9,
   "id": "173dce3d",
   "metadata": {
    "scrolled": true
   },
   "outputs": [
    {
     "data": {
      "text/plain": [
       "<AxesSubplot:xlabel='Urban', ylabel='count'>"
      ]
     },
     "execution_count": 9,
     "metadata": {},
     "output_type": "execute_result"
    },
    {
     "data": {
      "image/png": "[encoded data removed]",
      "text/plain": [
       "<Figure size 432x288 with 1 Axes>"
      ]
     },
     "metadata": {
      "needs_background": "light"
     },
     "output_type": "display_data"
    }
   ],
   "source": [
    "sns.countplot(x = dataset.Urban)"
   ]
  },
  {
   "cell_type": "code",
   "execution_count": 10,
   "id": "d004d778",
   "metadata": {
    "scrolled": true
   },
   "outputs": [],
   "source": [
    "# Converting output numerical data to categorical data\n",
    "\n",
    "dataset['Taxable.Income'] = pd.cut(dataset['Taxable.Income'], bins= [0,30000,100000] , labels=['Risky','Good'])"
   ]
  },
  {
   "cell_type": "code",
   "execution_count": 11,
   "id": "3ebca068",
   "metadata": {},
   "outputs": [
    {
     "data": {
      "text/html": [
       "<div>\n",
       "<style scoped>\n",
       "    .dataframe tbody tr th:only-of-type {\n",
       "        vertical-align: middle;\n",
       "    }\n",
       "\n",
       "    .dataframe tbody tr th {\n",
       "        vertical-align: top;\n",
       "    }\n",
       "\n",
       "    .dataframe thead th {\n",
       "        text-align: right;\n",
       "    }\n",
       "</style>\n",
       "<table border=\"1\" class=\"dataframe\">\n",
       "  <thead>\n",
       "    <tr style=\"text-align: right;\">\n",
       "      <th></th>\n",
       "      <th>City.Population</th>\n",
       "      <th>Work.Experience</th>\n",
       "    </tr>\n",
       "    <tr>\n",
       "      <th>Taxable.Income</th>\n",
       "      <th></th>\n",
       "      <th></th>\n",
       "    </tr>\n",
       "  </thead>\n",
       "  <tbody>\n",
       "    <tr>\n",
       "      <th>Risky</th>\n",
       "      <td>109940.370968</td>\n",
       "      <td>15.524194</td>\n",
       "    </tr>\n",
       "    <tr>\n",
       "      <th>Good</th>\n",
       "      <td>108436.586134</td>\n",
       "      <td>15.567227</td>\n",
       "    </tr>\n",
       "  </tbody>\n",
       "</table>\n",
       "</div>"
      ],
      "text/plain": [
       "                City.Population  Work.Experience\n",
       "Taxable.Income                                  \n",
       "Risky             109940.370968        15.524194\n",
       "Good              108436.586134        15.567227"
      ]
     },
     "execution_count": 11,
     "metadata": {},
     "output_type": "execute_result"
    }
   ],
   "source": [
    "# Mean of dataset based on Sales \n",
    "dataset.groupby(dataset['Taxable.Income']).mean()"
   ]
  },
  {
   "cell_type": "code",
   "execution_count": 12,
   "id": "b5f78428",
   "metadata": {
    "scrolled": true
   },
   "outputs": [
    {
     "data": {
      "text/plain": [
       "Taxable.Income  Undergrad\n",
       "Risky           YES           66\n",
       "                NO            58\n",
       "Good            YES          246\n",
       "                NO           230\n",
       "Name: Undergrad, dtype: int64"
      ]
     },
     "execution_count": 12,
     "metadata": {},
     "output_type": "execute_result"
    }
   ],
   "source": [
    "dataset.Undergrad.groupby(dataset['Taxable.Income']).value_counts()"
   ]
  },
  {
   "cell_type": "code",
   "execution_count": 13,
   "id": "6d5161d7",
   "metadata": {
    "scrolled": true
   },
   "outputs": [
    {
     "data": {
      "text/plain": [
       "Taxable.Income  Urban\n",
       "Risky           YES       63\n",
       "                NO        61\n",
       "Good            YES      239\n",
       "                NO       237\n",
       "Name: Urban, dtype: int64"
      ]
     },
     "execution_count": 13,
     "metadata": {},
     "output_type": "execute_result"
    }
   ],
   "source": [
    "dataset.Urban.groupby(dataset['Taxable.Income']).value_counts()"
   ]
  },
  {
   "cell_type": "code",
   "execution_count": 14,
   "id": "07ef02a8",
   "metadata": {
    "scrolled": true
   },
   "outputs": [
    {
     "data": {
      "text/plain": [
       "Taxable.Income  Marital.Status\n",
       "Risky           Married            45\n",
       "                Single             43\n",
       "                Divorced           36\n",
       "Good            Single            174\n",
       "                Divorced          153\n",
       "                Married           149\n",
       "Name: Marital.Status, dtype: int64"
      ]
     },
     "execution_count": 14,
     "metadata": {},
     "output_type": "execute_result"
    }
   ],
   "source": [
    "dataset['Marital.Status'].groupby(dataset['Taxable.Income']).value_counts()"
   ]
  },
  {
   "cell_type": "code",
   "execution_count": 15,
   "id": "03518ccc",
   "metadata": {},
   "outputs": [
    {
     "data": {
      "text/plain": [
       "<AxesSubplot:xlabel='Taxable.Income', ylabel='count'>"
      ]
     },
     "execution_count": 15,
     "metadata": {},
     "output_type": "execute_result"
    },
    {
     "data": {
      "image/png": "[encoded data removed]",
      "text/plain": [
       "<Figure size 432x288 with 1 Axes>"
      ]
     },
     "metadata": {
      "needs_background": "light"
     },
     "output_type": "display_data"
    }
   ],
   "source": [
    "sns.countplot(x = dataset['Taxable.Income'])"
   ]
  },
  {
   "cell_type": "markdown",
   "id": "22479f47",
   "metadata": {},
   "source": [
    "    Large population have good Income.\n",
    "    There are more number of single people, mostly undergraduate.\n",
    "    There are equal number of people from urban and rural areas."
   ]
  },
  {
   "cell_type": "code",
   "execution_count": 16,
   "id": "cbbf6459",
   "metadata": {},
   "outputs": [
    {
     "data": {
      "image/png": "[encoded data removed]",
      "text/plain": [
       "<Figure size 432x288 with 1 Axes>"
      ]
     },
     "metadata": {
      "needs_background": "light"
     },
     "output_type": "display_data"
    },
    {
     "data": {
      "image/png": "[encoded data removed]",
      "text/plain": [
       "<Figure size 432x288 with 1 Axes>"
      ]
     },
     "metadata": {
      "needs_background": "light"
     },
     "output_type": "display_data"
    }
   ],
   "source": [
    "# Histogram for numerical data\n",
    "\n",
    "for i in dataset.columns[3:5]:\n",
    "    sns.histplot(x = dataset[i],kde = 1)\n",
    "    plt.show()"
   ]
  },
  {
   "cell_type": "code",
   "execution_count": 17,
   "id": "3bb921b5",
   "metadata": {},
   "outputs": [],
   "source": [
    "# Converting categorical independent features to numerical\n",
    "\n",
    "dataset = pd.get_dummies(data=dataset, columns=['Marital.Status'], drop_first=True)\n",
    "dataset.Urban = dataset.Urban.map({'YES':1,'NO':0})\n",
    "dataset.Undergrad = dataset.Undergrad.map({'YES':1,'NO':0})"
   ]
  },
  {
   "cell_type": "code",
   "execution_count": 18,
   "id": "6c47aef3",
   "metadata": {},
   "outputs": [],
   "source": [
    "# Splitting into independent and dependent features\n",
    "x = dataset.loc[:, dataset.columns != 'Taxable.Income']\n",
    "y = dataset['Taxable.Income']"
   ]
  },
  {
   "cell_type": "code",
   "execution_count": 19,
   "id": "f4d35b8b",
   "metadata": {},
   "outputs": [],
   "source": [
    "# Train-Test split\n",
    "\n",
    "from sklearn.model_selection import train_test_split\n",
    "x_train_o, x_test_o, y_train, y_test = train_test_split(x, y, test_size=0.2, stratify=y, random_state=0)"
   ]
  },
  {
   "cell_type": "code",
   "execution_count": 20,
   "id": "5a7ce82f",
   "metadata": {},
   "outputs": [],
   "source": [
    "# Feature Scaling\n",
    "\n",
    "from sklearn.preprocessing import MinMaxScaler\n",
    "scaler = MinMaxScaler()\n",
    "x_train = scaler.fit_transform(x_train_o)\n",
    "x_test = scaler.transform(x_test_o)"
   ]
  },
  {
   "cell_type": "code",
   "execution_count": 21,
   "id": "a850729f",
   "metadata": {},
   "outputs": [],
   "source": [
    "# Using Decision Tree\n",
    "\n",
    "from sklearn.tree import DecisionTreeClassifier\n",
    "\n",
    "dt = DecisionTreeClassifier(criterion='entropy')\n",
    "dt_train = dt.fit(x_train,y_train)  # fitting model to train data"
   ]
  },
  {
   "cell_type": "code",
   "execution_count": 22,
   "id": "463f22b5",
   "metadata": {},
   "outputs": [],
   "source": [
    "# Predicting results for test data\n",
    "yhat_test = dt.predict(x_test)"
   ]
  },
  {
   "cell_type": "code",
   "execution_count": 23,
   "id": "2eb42537",
   "metadata": {},
   "outputs": [
    {
     "name": "stdout",
     "output_type": "stream",
     "text": [
      "Test Data Accuracy: 69.16666666666667 %\n"
     ]
    }
   ],
   "source": [
    "# accuracy for test data\n",
    "from sklearn.metrics import accuracy_score\n",
    "test_acc = accuracy_score(y_test,yhat_test)\n",
    "print(f'Test Data Accuracy: {test_acc*100} %' ) "
   ]
  },
  {
   "cell_type": "code",
   "execution_count": 24,
   "id": "be5774da",
   "metadata": {},
   "outputs": [
    {
     "name": "stdout",
     "output_type": "stream",
     "text": [
      "Train Data Accuracy: 100.0 %\n"
     ]
    }
   ],
   "source": [
    "# Predicting results for train data\n",
    "\n",
    "yhat_train = dt.predict(x_train)\n",
    "train_acc = accuracy_score(y_train,yhat_train)\n",
    "print(f'Train Data Accuracy: {train_acc*100} %')"
   ]
  },
  {
   "cell_type": "code",
   "execution_count": 25,
   "id": "c9d6c30e",
   "metadata": {},
   "outputs": [
    {
     "data": {
      "text/plain": [
       "array([[381,   0],\n",
       "       [  0,  99]], dtype=int64)"
      ]
     },
     "execution_count": 25,
     "metadata": {},
     "output_type": "execute_result"
    }
   ],
   "source": [
    "# Confusion matrix for train data\n",
    "\n",
    "from sklearn.metrics import confusion_matrix\n",
    "confusion_matrix(y_train,yhat_train)"
   ]
  },
  {
   "cell_type": "markdown",
   "id": "f6b09948",
   "metadata": {},
   "source": [
    "The model has been overfitted. \n",
    "Hyper parameter tuning will help with overfitting of the dataset"
   ]
  },
  {
   "cell_type": "code",
   "execution_count": 26,
   "id": "e0c3d620",
   "metadata": {},
   "outputs": [],
   "source": [
    "# Finding best parameters for the model\n",
    "\n",
    "from sklearn.model_selection import GridSearchCV\n",
    "\n",
    "dt = DecisionTreeClassifier(criterion = 'entropy',random_state=0)\n",
    "\n",
    "param_grid = {'min_samples_leaf': [1, 5, 10, 20], 'max_depth': [2, 4, 6, 8, 10],'max_features': ['sqrt']}\n",
    "\n",
    "grid_search = GridSearchCV(estimator = dt, param_grid = param_grid, scoring = 'accuracy', n_jobs = -1, cv = 5, \n",
    "                                refit=True, return_train_score=True)"
   ]
  },
  {
   "cell_type": "code",
   "execution_count": 27,
   "id": "e1c124b1",
   "metadata": {},
   "outputs": [
    {
     "data": {
      "text/plain": [
       "GridSearchCV(cv=5,\n",
       "             estimator=DecisionTreeClassifier(criterion='entropy',\n",
       "                                              random_state=0),\n",
       "             n_jobs=-1,\n",
       "             param_grid={'max_depth': [2, 4, 6, 8, 10],\n",
       "                         'max_features': ['sqrt'],\n",
       "                         'min_samples_leaf': [1, 5, 10, 20]},\n",
       "             return_train_score=True, scoring='accuracy')"
      ]
     },
     "execution_count": 27,
     "metadata": {},
     "output_type": "execute_result"
    }
   ],
   "source": [
    "# Fitting GridSearch model \n",
    "grid_search.fit(x_train,y_train)"
   ]
  },
  {
   "cell_type": "code",
   "execution_count": 28,
   "id": "f7e22031",
   "metadata": {},
   "outputs": [
    {
     "data": {
      "text/plain": [
       "{'max_depth': 2, 'max_features': 'sqrt', 'min_samples_leaf': 5}"
      ]
     },
     "execution_count": 28,
     "metadata": {},
     "output_type": "execute_result"
    }
   ],
   "source": [
    "# The best parameters for the model are given below\n",
    "grid_search.best_params_"
   ]
  },
  {
   "cell_type": "code",
   "execution_count": 29,
   "id": "baf5969d",
   "metadata": {},
   "outputs": [
    {
     "name": "stdout",
     "output_type": "stream",
     "text": [
      "Test Data Accuracy using GridSearch: 79.16666666666666 %\n"
     ]
    }
   ],
   "source": [
    "# Accuracy of test data using GridSearch\n",
    "grid_yhat_test = grid_search.best_estimator_.predict(x_test)\n",
    "\n",
    "grid_test_acc = accuracy_score(y_test,grid_yhat_test)\n",
    "print(f'Test Data Accuracy using GridSearch: {grid_test_acc*100} %' ) "
   ]
  },
  {
   "cell_type": "code",
   "execution_count": 30,
   "id": "2b750de3",
   "metadata": {},
   "outputs": [
    {
     "name": "stdout",
     "output_type": "stream",
     "text": [
      "Train Data Accuracy using GridSearch: 79.375 %\n"
     ]
    }
   ],
   "source": [
    "# Accuracy of train data using GridSearch\n",
    "grid_yhat_train = grid_search.best_estimator_.predict(x_train)\n",
    "\n",
    "grid_train_acc = accuracy_score(y_train,grid_yhat_train)\n",
    "print(f'Train Data Accuracy using GridSearch: {grid_train_acc*100} %' )"
   ]
  },
  {
   "cell_type": "code",
   "execution_count": 31,
   "id": "64bbff91",
   "metadata": {},
   "outputs": [
    {
     "data": {
      "text/plain": [
       "array([[95,  0],\n",
       "       [25,  0]], dtype=int64)"
      ]
     },
     "execution_count": 31,
     "metadata": {},
     "output_type": "execute_result"
    }
   ],
   "source": [
    "# Confusion matrix for test data using GridSearch\n",
    "from sklearn.metrics import confusion_matrix\n",
    "confusion_matrix(y_test,grid_yhat_test)"
   ]
  },
  {
   "cell_type": "markdown",
   "id": "b3b9abc0",
   "metadata": {},
   "source": [
    "Using GridSearchCV we found the best parameters for the model where max_depth is 2, max_features is sqrt and min_sample_leaf is 5. \n",
    "The model accuracy is 79.17 % .However the number of FN is high."
   ]
  },
  {
   "cell_type": "code",
   "execution_count": 32,
   "id": "3d91abc0",
   "metadata": {
    "scrolled": false
   },
   "outputs": [
    {
     "data": {
      "image/svg+xml": [
       "<?xml version=\"1.0\" encoding=\"UTF-8\" standalone=\"no\"?>\n",
       "<!DOCTYPE svg PUBLIC \"-//W3C//DTD SVG 1.1//EN\"\n",
       " \"http://www.w3.org/Graphics/SVG/1.1/DTD/svg11.dtd\">\n",
       "<!-- Generated by graphviz version 2.50.0 (0)\n",
       " -->\n",
       "<!-- Title: Tree Pages: 1 -->\n",
       "<svg width=\"329pt\" height=\"269pt\"\n",
       " viewBox=\"0.00 0.00 329.00 269.00\" xmlns=\"http://www.w3.org/2000/svg\" xmlns:xlink=\"http://www.w3.org/1999/xlink\">\n",
       "<g id=\"graph0\" class=\"graph\" transform=\"scale(1 1) rotate(0) translate(4 265)\">\n",
       "<title>Tree</title>\n",
       "<polygon fill=\"white\" stroke=\"transparent\" points=\"-4,4 -4,-265 325,-265 325,4 -4,4\"/>\n",
       "<!-- 0 -->\n",
       "<g id=\"node1\" class=\"node\">\n",
       "<title>0</title>\n",
       "<polygon fill=\"none\" stroke=\"black\" points=\"204,-261 40,-261 40,-193 204,-193 204,-261\"/>\n",
       "<text text-anchor=\"middle\" x=\"122\" y=\"-245.8\" font-family=\"Helvetica,sans-Serif\" font-size=\"14.00\">City.Population &lt;= 0.015</text>\n",
       "<text text-anchor=\"middle\" x=\"122\" y=\"-230.8\" font-family=\"Helvetica,sans-Serif\" font-size=\"14.00\">entropy = 0.734</text>\n",
       "<text text-anchor=\"middle\" x=\"122\" y=\"-215.8\" font-family=\"Helvetica,sans-Serif\" font-size=\"14.00\">samples = 480</text>\n",
       "<text text-anchor=\"middle\" x=\"122\" y=\"-200.8\" font-family=\"Helvetica,sans-Serif\" font-size=\"14.00\">value = [381, 99]</text>\n",
       "</g>\n",
       "<!-- 1 -->\n",
       "<g id=\"node2\" class=\"node\">\n",
       "<title>1</title>\n",
       "<polygon fill=\"none\" stroke=\"black\" points=\"96,-149.5 0,-149.5 0,-96.5 96,-96.5 96,-149.5\"/>\n",
       "<text text-anchor=\"middle\" x=\"48\" y=\"-134.3\" font-family=\"Helvetica,sans-Serif\" font-size=\"14.00\">entropy = 0.0</text>\n",
       "<text text-anchor=\"middle\" x=\"48\" y=\"-119.3\" font-family=\"Helvetica,sans-Serif\" font-size=\"14.00\">samples = 5</text>\n",
       "<text text-anchor=\"middle\" x=\"48\" y=\"-104.3\" font-family=\"Helvetica,sans-Serif\" font-size=\"14.00\">value = [5, 0]</text>\n",
       "</g>\n",
       "<!-- 0&#45;&gt;1 -->\n",
       "<g id=\"edge1\" class=\"edge\">\n",
       "<title>0&#45;&gt;1</title>\n",
       "<path fill=\"none\" stroke=\"black\" d=\"M97.97,-192.88C89.84,-181.67 80.74,-169.13 72.56,-157.85\"/>\n",
       "<polygon fill=\"black\" stroke=\"black\" points=\"75.22,-155.56 66.51,-149.52 69.55,-159.67 75.22,-155.56\"/>\n",
       "<text text-anchor=\"middle\" x=\"62.59\" y=\"-170.51\" font-family=\"Helvetica,sans-Serif\" font-size=\"14.00\">True</text>\n",
       "</g>\n",
       "<!-- 2 -->\n",
       "<g id=\"node3\" class=\"node\">\n",
       "<title>2</title>\n",
       "<polygon fill=\"none\" stroke=\"black\" points=\"278,-157 114,-157 114,-89 278,-89 278,-157\"/>\n",
       "<text text-anchor=\"middle\" x=\"196\" y=\"-141.8\" font-family=\"Helvetica,sans-Serif\" font-size=\"14.00\">City.Population &lt;= 0.666</text>\n",
       "<text text-anchor=\"middle\" x=\"196\" y=\"-126.8\" font-family=\"Helvetica,sans-Serif\" font-size=\"14.00\">entropy = 0.738</text>\n",
       "<text text-anchor=\"middle\" x=\"196\" y=\"-111.8\" font-family=\"Helvetica,sans-Serif\" font-size=\"14.00\">samples = 475</text>\n",
       "<text text-anchor=\"middle\" x=\"196\" y=\"-96.8\" font-family=\"Helvetica,sans-Serif\" font-size=\"14.00\">value = [376, 99]</text>\n",
       "</g>\n",
       "<!-- 0&#45;&gt;2 -->\n",
       "<g id=\"edge2\" class=\"edge\">\n",
       "<title>0&#45;&gt;2</title>\n",
       "<path fill=\"none\" stroke=\"black\" d=\"M146.03,-192.88C152.36,-184.15 159.27,-174.62 165.88,-165.51\"/>\n",
       "<polygon fill=\"black\" stroke=\"black\" points=\"168.8,-167.45 171.84,-157.3 163.14,-163.34 168.8,-167.45\"/>\n",
       "<text text-anchor=\"middle\" x=\"175.77\" y=\"-178.29\" font-family=\"Helvetica,sans-Serif\" font-size=\"14.00\">False</text>\n",
       "</g>\n",
       "<!-- 3 -->\n",
       "<g id=\"node4\" class=\"node\">\n",
       "<title>3</title>\n",
       "<polygon fill=\"none\" stroke=\"black\" points=\"186.5,-53 69.5,-53 69.5,0 186.5,0 186.5,-53\"/>\n",
       "<text text-anchor=\"middle\" x=\"128\" y=\"-37.8\" font-family=\"Helvetica,sans-Serif\" font-size=\"14.00\">entropy = 0.771</text>\n",
       "<text text-anchor=\"middle\" x=\"128\" y=\"-22.8\" font-family=\"Helvetica,sans-Serif\" font-size=\"14.00\">samples = 341</text>\n",
       "<text text-anchor=\"middle\" x=\"128\" y=\"-7.8\" font-family=\"Helvetica,sans-Serif\" font-size=\"14.00\">value = [264, 77]</text>\n",
       "</g>\n",
       "<!-- 2&#45;&gt;3 -->\n",
       "<g id=\"edge3\" class=\"edge\">\n",
       "<title>2&#45;&gt;3</title>\n",
       "<path fill=\"none\" stroke=\"black\" d=\"M172.22,-88.95C165.83,-80.07 158.92,-70.46 152.49,-61.54\"/>\n",
       "<polygon fill=\"black\" stroke=\"black\" points=\"155.2,-59.31 146.52,-53.24 149.52,-63.4 155.2,-59.31\"/>\n",
       "</g>\n",
       "<!-- 4 -->\n",
       "<g id=\"node5\" class=\"node\">\n",
       "<title>4</title>\n",
       "<polygon fill=\"none\" stroke=\"black\" points=\"321,-53 205,-53 205,0 321,0 321,-53\"/>\n",
       "<text text-anchor=\"middle\" x=\"263\" y=\"-37.8\" font-family=\"Helvetica,sans-Serif\" font-size=\"14.00\">entropy = 0.644</text>\n",
       "<text text-anchor=\"middle\" x=\"263\" y=\"-22.8\" font-family=\"Helvetica,sans-Serif\" font-size=\"14.00\">samples = 134</text>\n",
       "<text text-anchor=\"middle\" x=\"263\" y=\"-7.8\" font-family=\"Helvetica,sans-Serif\" font-size=\"14.00\">value = [112, 22]</text>\n",
       "</g>\n",
       "<!-- 2&#45;&gt;4 -->\n",
       "<g id=\"edge4\" class=\"edge\">\n",
       "<title>2&#45;&gt;4</title>\n",
       "<path fill=\"none\" stroke=\"black\" d=\"M219.43,-88.95C225.72,-80.07 232.54,-70.46 238.87,-61.54\"/>\n",
       "<polygon fill=\"black\" stroke=\"black\" points=\"241.82,-63.42 244.75,-53.24 236.11,-59.37 241.82,-63.42\"/>\n",
       "</g>\n",
       "</g>\n",
       "</svg>\n"
      ],
      "text/plain": [
       "<graphviz.sources.Source at 0x1c981b4d2e0>"
      ]
     },
     "execution_count": 32,
     "metadata": {},
     "output_type": "execute_result"
    },
    {
     "data": {
      "text/plain": [
       "<Figure size 360x144 with 0 Axes>"
      ]
     },
     "metadata": {},
     "output_type": "display_data"
    }
   ],
   "source": [
    "import graphviz \n",
    "import sklearn\n",
    "\n",
    "plt.figure(figsize=(5,2))\n",
    "dt = DecisionTreeClassifier(criterion='entropy',max_depth=2, min_samples_leaf=5,random_state=0).fit(x_train, y_train)\n",
    "dot_data = sklearn.tree.export_graphviz(dt,feature_names = x.columns.tolist())\n",
    "graph = graphviz.Source(dot_data)\n",
    "graph"
   ]
  },
  {
   "cell_type": "markdown",
   "id": "bb1b2f7c",
   "metadata": {},
   "source": [
    "The above is the decision tree based on GridSearch parameters"
   ]
  },
  {
   "cell_type": "markdown",
   "id": "4f749c5d",
   "metadata": {},
   "source": [
    "Using Random Forest to see if we can increase the accuracy and decrease FN "
   ]
  },
  {
   "cell_type": "code",
   "execution_count": 33,
   "id": "4389268f",
   "metadata": {},
   "outputs": [],
   "source": [
    "from sklearn.ensemble import RandomForestClassifier\n",
    "\n",
    "clf = RandomForestClassifier(n_estimators=100,min_samples_leaf=3, max_depth=10)\n",
    "clf.fit(x_train,y_train) # Fitting random forest model to train \n",
    "clf_yhat_test = clf.predict(x_test)"
   ]
  },
  {
   "cell_type": "code",
   "execution_count": 34,
   "id": "2bdc7e27",
   "metadata": {},
   "outputs": [
    {
     "name": "stdout",
     "output_type": "stream",
     "text": [
      "Test Data Accuracy using RandomForest: 78.33333333333333 %\n"
     ]
    }
   ],
   "source": [
    "# Accuracy of test data using RandomForest\n",
    "\n",
    "clf_test_acc = accuracy_score(y_test, clf_yhat_test)\n",
    "print(f'Test Data Accuracy using RandomForest: {clf_test_acc*100} %' ) "
   ]
  },
  {
   "cell_type": "code",
   "execution_count": 35,
   "id": "3fe6df9d",
   "metadata": {},
   "outputs": [
    {
     "name": "stdout",
     "output_type": "stream",
     "text": [
      "Train Data Accuracy using RandomForest: 82.29166666666666 %\n"
     ]
    }
   ],
   "source": [
    "# Accuracy of train data using RandomForest\n",
    "\n",
    "clf_yhat_train = clf.predict(x_train)\n",
    "clf_train_acc = accuracy_score(y_train, clf_yhat_train)\n",
    "print(f'Train Data Accuracy using RandomForest: {clf_train_acc*100} %' ) "
   ]
  },
  {
   "cell_type": "code",
   "execution_count": 36,
   "id": "3eb2cbae",
   "metadata": {
    "scrolled": true
   },
   "outputs": [
    {
     "data": {
      "text/plain": [
       "Text(33.0, 0.5, 'Actual')"
      ]
     },
     "execution_count": 36,
     "metadata": {},
     "output_type": "execute_result"
    },
    {
     "data": {
      "image/png": "[encoded data removed]",
      "text/plain": [
       "<Figure size 432x288 with 2 Axes>"
      ]
     },
     "metadata": {
      "needs_background": "light"
     },
     "output_type": "display_data"
    }
   ],
   "source": [
    "# Confusion matrix for test data using RandomForest\n",
    "\n",
    "sns.heatmap(confusion_matrix(y_test,clf_yhat_test),annot=True,\n",
    "            xticklabels=['Good','Risky'], yticklabels=['Good','Risky'])\n",
    "plt.xlabel('Predicted')\n",
    "plt.ylabel('Actual')"
   ]
  },
  {
   "cell_type": "code",
   "execution_count": 37,
   "id": "87620003",
   "metadata": {},
   "outputs": [
    {
     "name": "stdout",
     "output_type": "stream",
     "text": [
      "              precision    recall  f1-score   support\n",
      "\n",
      "        Good       0.79      0.99      0.88        95\n",
      "       Risky       0.00      0.00      0.00        25\n",
      "\n",
      "    accuracy                           0.78       120\n",
      "   macro avg       0.39      0.49      0.44       120\n",
      "weighted avg       0.63      0.78      0.70       120\n",
      "\n"
     ]
    }
   ],
   "source": [
    "# Classification report \n",
    "\n",
    "print(sklearn.metrics.classification_report(y_test,clf_yhat_test))"
   ]
  },
  {
   "cell_type": "markdown",
   "id": "095759c3",
   "metadata": {},
   "source": [
    "Random Forest gives the same result as Decision Tree using GridSearch.\n",
    "Thus the random forest or Decsion Tree model can be used to check for Fraud. The model explains the realtionship between the independent features and the Income of the individual, which can help predict the income."
   ]
  }
 ],
 "metadata": {
  "kernelspec": {
   "display_name": "Python 3 (ipykernel)",
   "language": "python",
   "name": "python3"
  },
  "language_info": {
   "codemirror_mode": {
    "name": "ipython",
    "version": 3
   },
   "file_extension": ".py",
   "mimetype": "text/x-python",
   "name": "python",
   "nbconvert_exporter": "python",
   "pygments_lexer": "ipython3",
   "version": "3.9.12"
  }
 },
 "nbformat": 4,
 "nbformat_minor": 5
}
