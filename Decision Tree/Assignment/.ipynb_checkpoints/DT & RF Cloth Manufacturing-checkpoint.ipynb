{
 "cells": [
  {
   "cell_type": "code",
   "execution_count": 1,
   "id": "f59f37f3",
   "metadata": {},
   "outputs": [],
   "source": [
    "# Importing libraries\n",
    "\n",
    "import pandas as pd\n",
    "import numpy as np\n",
    "import matplotlib.pyplot as plt\n",
    "import seaborn as sns\n",
    "%matplotlib inline"
   ]
  },
  {
   "cell_type": "code",
   "execution_count": 2,
   "id": "2ccce6ba",
   "metadata": {},
   "outputs": [],
   "source": [
    "# importing dataset\n",
    "dataset = pd.read_csv('C:/Users/vaibh/Desktop/360 Digitmg/Decision Tree/Assignment/Company_Data.csv')"
   ]
  },
  {
   "cell_type": "code",
   "execution_count": 3,
   "id": "69d1c523",
   "metadata": {
    "scrolled": true
   },
   "outputs": [
    {
     "data": {
      "text/html": [
       "<div>\n",
       "<style scoped>\n",
       "    .dataframe tbody tr th:only-of-type {\n",
       "        vertical-align: middle;\n",
       "    }\n",
       "\n",
       "    .dataframe tbody tr th {\n",
       "        vertical-align: top;\n",
       "    }\n",
       "\n",
       "    .dataframe thead th {\n",
       "        text-align: right;\n",
       "    }\n",
       "</style>\n",
       "<table border=\"1\" class=\"dataframe\">\n",
       "  <thead>\n",
       "    <tr style=\"text-align: right;\">\n",
       "      <th></th>\n",
       "      <th>Sales</th>\n",
       "      <th>CompPrice</th>\n",
       "      <th>Income</th>\n",
       "      <th>Advertising</th>\n",
       "      <th>Population</th>\n",
       "      <th>Price</th>\n",
       "      <th>ShelveLoc</th>\n",
       "      <th>Age</th>\n",
       "      <th>Education</th>\n",
       "      <th>Urban</th>\n",
       "      <th>US</th>\n",
       "    </tr>\n",
       "  </thead>\n",
       "  <tbody>\n",
       "    <tr>\n",
       "      <th>0</th>\n",
       "      <td>9.50</td>\n",
       "      <td>138</td>\n",
       "      <td>73</td>\n",
       "      <td>11</td>\n",
       "      <td>276</td>\n",
       "      <td>120</td>\n",
       "      <td>Bad</td>\n",
       "      <td>42</td>\n",
       "      <td>17</td>\n",
       "      <td>Yes</td>\n",
       "      <td>Yes</td>\n",
       "    </tr>\n",
       "    <tr>\n",
       "      <th>1</th>\n",
       "      <td>11.22</td>\n",
       "      <td>111</td>\n",
       "      <td>48</td>\n",
       "      <td>16</td>\n",
       "      <td>260</td>\n",
       "      <td>83</td>\n",
       "      <td>Good</td>\n",
       "      <td>65</td>\n",
       "      <td>10</td>\n",
       "      <td>Yes</td>\n",
       "      <td>Yes</td>\n",
       "    </tr>\n",
       "    <tr>\n",
       "      <th>2</th>\n",
       "      <td>10.06</td>\n",
       "      <td>113</td>\n",
       "      <td>35</td>\n",
       "      <td>10</td>\n",
       "      <td>269</td>\n",
       "      <td>80</td>\n",
       "      <td>Medium</td>\n",
       "      <td>59</td>\n",
       "      <td>12</td>\n",
       "      <td>Yes</td>\n",
       "      <td>Yes</td>\n",
       "    </tr>\n",
       "    <tr>\n",
       "      <th>3</th>\n",
       "      <td>7.40</td>\n",
       "      <td>117</td>\n",
       "      <td>100</td>\n",
       "      <td>4</td>\n",
       "      <td>466</td>\n",
       "      <td>97</td>\n",
       "      <td>Medium</td>\n",
       "      <td>55</td>\n",
       "      <td>14</td>\n",
       "      <td>Yes</td>\n",
       "      <td>Yes</td>\n",
       "    </tr>\n",
       "    <tr>\n",
       "      <th>4</th>\n",
       "      <td>4.15</td>\n",
       "      <td>141</td>\n",
       "      <td>64</td>\n",
       "      <td>3</td>\n",
       "      <td>340</td>\n",
       "      <td>128</td>\n",
       "      <td>Bad</td>\n",
       "      <td>38</td>\n",
       "      <td>13</td>\n",
       "      <td>Yes</td>\n",
       "      <td>No</td>\n",
       "    </tr>\n",
       "  </tbody>\n",
       "</table>\n",
       "</div>"
      ],
      "text/plain": [
       "   Sales  CompPrice  Income  Advertising  Population  Price ShelveLoc  Age  \\\n",
       "0   9.50        138      73           11         276    120       Bad   42   \n",
       "1  11.22        111      48           16         260     83      Good   65   \n",
       "2  10.06        113      35           10         269     80    Medium   59   \n",
       "3   7.40        117     100            4         466     97    Medium   55   \n",
       "4   4.15        141      64            3         340    128       Bad   38   \n",
       "\n",
       "   Education Urban   US  \n",
       "0         17   Yes  Yes  \n",
       "1         10   Yes  Yes  \n",
       "2         12   Yes  Yes  \n",
       "3         14   Yes  Yes  \n",
       "4         13   Yes   No  "
      ]
     },
     "execution_count": 3,
     "metadata": {},
     "output_type": "execute_result"
    }
   ],
   "source": [
    "# Checing rows and columns in the dataset\n",
    "dataset.head()"
   ]
  },
  {
   "cell_type": "code",
   "execution_count": 4,
   "id": "3aa34925",
   "metadata": {},
   "outputs": [
    {
     "data": {
      "text/plain": [
       "(400, 11)"
      ]
     },
     "execution_count": 4,
     "metadata": {},
     "output_type": "execute_result"
    }
   ],
   "source": [
    "# Checking dmensions of the dataset\n",
    "dataset.shape"
   ]
  },
  {
   "cell_type": "code",
   "execution_count": 5,
   "id": "c9fad8e7",
   "metadata": {
    "scrolled": true
   },
   "outputs": [
    {
     "data": {
      "text/plain": [
       "Sales          0\n",
       "CompPrice      0\n",
       "Income         0\n",
       "Advertising    0\n",
       "Population     0\n",
       "Price          0\n",
       "ShelveLoc      0\n",
       "Age            0\n",
       "Education      0\n",
       "Urban          0\n",
       "US             0\n",
       "dtype: int64"
      ]
     },
     "execution_count": 5,
     "metadata": {},
     "output_type": "execute_result"
    }
   ],
   "source": [
    "# Checking for null values\n",
    "dataset.isnull().sum()"
   ]
  },
  {
   "cell_type": "markdown",
   "id": "ea1dfb9a",
   "metadata": {},
   "source": [
    "There are no null values"
   ]
  },
  {
   "cell_type": "code",
   "execution_count": 6,
   "id": "cfb38e4d",
   "metadata": {
    "scrolled": true
   },
   "outputs": [
    {
     "data": {
      "text/plain": [
       "0"
      ]
     },
     "execution_count": 6,
     "metadata": {},
     "output_type": "execute_result"
    }
   ],
   "source": [
    "# Checking for duplicate values\n",
    "dataset.duplicated().sum()"
   ]
  },
  {
   "cell_type": "markdown",
   "id": "58783c52",
   "metadata": {},
   "source": [
    "There are no duplicated values"
   ]
  },
  {
   "cell_type": "code",
   "execution_count": 7,
   "id": "5533d521",
   "metadata": {
    "scrolled": true
   },
   "outputs": [
    {
     "name": "stdout",
     "output_type": "stream",
     "text": [
      "<class 'pandas.core.frame.DataFrame'>\n",
      "RangeIndex: 400 entries, 0 to 399\n",
      "Data columns (total 11 columns):\n",
      " #   Column       Non-Null Count  Dtype  \n",
      "---  ------       --------------  -----  \n",
      " 0   Sales        400 non-null    float64\n",
      " 1   CompPrice    400 non-null    int64  \n",
      " 2   Income       400 non-null    int64  \n",
      " 3   Advertising  400 non-null    int64  \n",
      " 4   Population   400 non-null    int64  \n",
      " 5   Price        400 non-null    int64  \n",
      " 6   ShelveLoc    400 non-null    object \n",
      " 7   Age          400 non-null    int64  \n",
      " 8   Education    400 non-null    int64  \n",
      " 9   Urban        400 non-null    object \n",
      " 10  US           400 non-null    object \n",
      "dtypes: float64(1), int64(7), object(3)\n",
      "memory usage: 34.5+ KB\n"
     ]
    }
   ],
   "source": [
    "# Checking datatypes of the features\n",
    "dataset.info()"
   ]
  },
  {
   "cell_type": "code",
   "execution_count": 8,
   "id": "d004d778",
   "metadata": {
    "scrolled": true
   },
   "outputs": [],
   "source": [
    "# Converting output numerical data to categorical data\n",
    "\n",
    "dataset.Sales = pd.cut(dataset.Sales, bins= 3 , labels=['Poor','Good','Outstanding'])"
   ]
  },
  {
   "cell_type": "code",
   "execution_count": 9,
   "id": "3ebca068",
   "metadata": {},
   "outputs": [
    {
     "data": {
      "text/html": [
       "<div>\n",
       "<style scoped>\n",
       "    .dataframe tbody tr th:only-of-type {\n",
       "        vertical-align: middle;\n",
       "    }\n",
       "\n",
       "    .dataframe tbody tr th {\n",
       "        vertical-align: top;\n",
       "    }\n",
       "\n",
       "    .dataframe thead th {\n",
       "        text-align: right;\n",
       "    }\n",
       "</style>\n",
       "<table border=\"1\" class=\"dataframe\">\n",
       "  <thead>\n",
       "    <tr style=\"text-align: right;\">\n",
       "      <th></th>\n",
       "      <th>CompPrice</th>\n",
       "      <th>Income</th>\n",
       "      <th>Advertising</th>\n",
       "      <th>Population</th>\n",
       "      <th>Price</th>\n",
       "      <th>Age</th>\n",
       "      <th>Education</th>\n",
       "    </tr>\n",
       "    <tr>\n",
       "      <th>Sales</th>\n",
       "      <th></th>\n",
       "      <th></th>\n",
       "      <th></th>\n",
       "      <th></th>\n",
       "      <th></th>\n",
       "      <th></th>\n",
       "      <th></th>\n",
       "    </tr>\n",
       "  </thead>\n",
       "  <tbody>\n",
       "    <tr>\n",
       "      <th>Poor</th>\n",
       "      <td>123.676471</td>\n",
       "      <td>64.950980</td>\n",
       "      <td>4.294118</td>\n",
       "      <td>260.186275</td>\n",
       "      <td>127.313725</td>\n",
       "      <td>58.774510</td>\n",
       "      <td>13.950980</td>\n",
       "    </tr>\n",
       "    <tr>\n",
       "      <th>Good</th>\n",
       "      <td>125.141700</td>\n",
       "      <td>68.793522</td>\n",
       "      <td>7.121457</td>\n",
       "      <td>267.935223</td>\n",
       "      <td>114.619433</td>\n",
       "      <td>52.218623</td>\n",
       "      <td>13.935223</td>\n",
       "    </tr>\n",
       "    <tr>\n",
       "      <th>Outstanding</th>\n",
       "      <td>126.764706</td>\n",
       "      <td>75.411765</td>\n",
       "      <td>8.960784</td>\n",
       "      <td>259.156863</td>\n",
       "      <td>98.450980</td>\n",
       "      <td>47.764706</td>\n",
       "      <td>13.627451</td>\n",
       "    </tr>\n",
       "  </tbody>\n",
       "</table>\n",
       "</div>"
      ],
      "text/plain": [
       "              CompPrice     Income  Advertising  Population       Price  \\\n",
       "Sales                                                                     \n",
       "Poor         123.676471  64.950980     4.294118  260.186275  127.313725   \n",
       "Good         125.141700  68.793522     7.121457  267.935223  114.619433   \n",
       "Outstanding  126.764706  75.411765     8.960784  259.156863   98.450980   \n",
       "\n",
       "                   Age  Education  \n",
       "Sales                              \n",
       "Poor         58.774510  13.950980  \n",
       "Good         52.218623  13.935223  \n",
       "Outstanding  47.764706  13.627451  "
      ]
     },
     "execution_count": 9,
     "metadata": {},
     "output_type": "execute_result"
    }
   ],
   "source": [
    "# Mean of dataset based on Sales \n",
    "dataset.groupby(dataset.Sales).mean()"
   ]
  },
  {
   "cell_type": "code",
   "execution_count": 10,
   "id": "b5f78428",
   "metadata": {
    "scrolled": true
   },
   "outputs": [
    {
     "data": {
      "text/plain": [
       "Medium    219\n",
       "Bad        96\n",
       "Good       85\n",
       "Name: ShelveLoc, dtype: int64"
      ]
     },
     "execution_count": 10,
     "metadata": {},
     "output_type": "execute_result"
    }
   ],
   "source": [
    "dataset.ShelveLoc.value_counts()"
   ]
  },
  {
   "cell_type": "code",
   "execution_count": 11,
   "id": "6d5161d7",
   "metadata": {
    "scrolled": false
   },
   "outputs": [
    {
     "data": {
      "text/plain": [
       "Yes    282\n",
       "No     118\n",
       "Name: Urban, dtype: int64"
      ]
     },
     "execution_count": 11,
     "metadata": {},
     "output_type": "execute_result"
    }
   ],
   "source": [
    "dataset.Urban.value_counts()"
   ]
  },
  {
   "cell_type": "code",
   "execution_count": 12,
   "id": "3f75a839",
   "metadata": {
    "scrolled": true
   },
   "outputs": [
    {
     "data": {
      "text/plain": [
       "Yes    258\n",
       "No     142\n",
       "Name: US, dtype: int64"
      ]
     },
     "execution_count": 12,
     "metadata": {},
     "output_type": "execute_result"
    }
   ],
   "source": [
    "dataset.US.value_counts()"
   ]
  },
  {
   "cell_type": "markdown",
   "id": "22479f47",
   "metadata": {},
   "source": [
    "    Dataset has large number of cloths with medium shelving quality.\n",
    "    Maximum sales is from urban location.\n",
    "    Most sales are from US."
   ]
  },
  {
   "cell_type": "code",
   "execution_count": 13,
   "id": "02c30e08",
   "metadata": {
    "scrolled": true
   },
   "outputs": [
    {
     "data": {
      "text/plain": [
       "<AxesSubplot:xlabel='Sales', ylabel='count'>"
      ]
     },
     "execution_count": 13,
     "metadata": {},
     "output_type": "execute_result"
    },
    {
     "data": {
      "image/png": "[encoded data removed]",
      "text/plain": [
       "<Figure size 432x288 with 1 Axes>"
      ]
     },
     "metadata": {
      "needs_background": "light"
     },
     "output_type": "display_data"
    }
   ],
   "source": [
    "# Countplot of Sales features\n",
    "sns.countplot(x = dataset.Sales)"
   ]
  },
  {
   "cell_type": "markdown",
   "id": "fc37aeea",
   "metadata": {},
   "source": [
    "Overall Sales of company seems to be good"
   ]
  },
  {
   "cell_type": "code",
   "execution_count": 14,
   "id": "a2d8c8d7",
   "metadata": {},
   "outputs": [
    {
     "data": {
      "text/plain": [
       "<AxesSubplot:>"
      ]
     },
     "execution_count": 14,
     "metadata": {},
     "output_type": "execute_result"
    },
    {
     "data": {
      "image/png": "[encoded data removed]",
      "text/plain": [
       "<Figure size 432x288 with 2 Axes>"
      ]
     },
     "metadata": {
      "needs_background": "light"
     },
     "output_type": "display_data"
    }
   ],
   "source": [
    "# Correlation between features\n",
    "sns.heatmap(dataset.corr(),annot=True)"
   ]
  },
  {
   "cell_type": "markdown",
   "id": "e0d3dd8a",
   "metadata": {},
   "source": [
    "The features are not correlated with each other"
   ]
  },
  {
   "cell_type": "code",
   "execution_count": 15,
   "id": "cbbf6459",
   "metadata": {},
   "outputs": [
    {
     "data": {
      "image/png": "[encoded data removed]",
      "text/plain": [
       "<Figure size 1080x720 with 9 Axes>"
      ]
     },
     "metadata": {
      "needs_background": "light"
     },
     "output_type": "display_data"
    }
   ],
   "source": [
    "# Histogram for numerical data\n",
    "\n",
    "figure,axes = plt.subplots(3,3,figsize=(15,10))\n",
    "index = 0\n",
    "axes = axes.flatten()\n",
    "temp = dataset.iloc[:,[1,2,3,4,5,7,8]]\n",
    "\n",
    "for i in temp.columns:\n",
    "    sns.histplot(data = dataset[i],kde = 1 ,ax=axes[index])\n",
    "    index +=1\n",
    "plt.tight_layout(h_pad=0.5, w_pad=0.5, pad=1)"
   ]
  },
  {
   "cell_type": "code",
   "execution_count": 16,
   "id": "3bb921b5",
   "metadata": {},
   "outputs": [],
   "source": [
    "# Converting categorical independent features to numerical\n",
    "dataset = pd.get_dummies(data=dataset, columns=['ShelveLoc','Urban','US'], drop_first=True)"
   ]
  },
  {
   "cell_type": "code",
   "execution_count": 17,
   "id": "6c47aef3",
   "metadata": {},
   "outputs": [],
   "source": [
    "# Splitting into independent and dependent features\n",
    "x = dataset.iloc[:,1:]\n",
    "y = dataset.Sales"
   ]
  },
  {
   "cell_type": "code",
   "execution_count": 20,
   "id": "f4d35b8b",
   "metadata": {},
   "outputs": [],
   "source": [
    "# Train-Test split\n",
    "from sklearn.model_selection import train_test_split\n",
    "x_train_o, x_test_o, y_train, y_test = train_test_split(x, y, test_size=0.2, stratify=y, random_state=0)"
   ]
  },
  {
   "cell_type": "code",
   "execution_count": 24,
   "id": "5a7ce82f",
   "metadata": {},
   "outputs": [],
   "source": [
    "# Feature Scaling\n",
    "\n",
    "from sklearn.preprocessing import MinMaxScaler\n",
    "scaler = MinMaxScaler()\n",
    "x_train = scaler.fit_transform(x_train_o)\n",
    "x_test = scaler.transform(x_test_o)"
   ]
  },
  {
   "cell_type": "code",
   "execution_count": 25,
   "id": "a850729f",
   "metadata": {},
   "outputs": [],
   "source": [
    "# Using Decision Tree\n",
    "\n",
    "from sklearn.tree import DecisionTreeClassifier\n",
    "\n",
    "dt = DecisionTreeClassifier(criterion='entropy')\n",
    "dt_train = dt.fit(x_train,y_train)  # fitting model to train data"
   ]
  },
  {
   "cell_type": "code",
   "execution_count": 26,
   "id": "463f22b5",
   "metadata": {},
   "outputs": [],
   "source": [
    "# Predicting results for test data\n",
    "yhat_test = dt.predict(x_test)"
   ]
  },
  {
   "cell_type": "code",
   "execution_count": 27,
   "id": "2eb42537",
   "metadata": {},
   "outputs": [
    {
     "name": "stdout",
     "output_type": "stream",
     "text": [
      "Test Data Accuracy: 68.75 %\n"
     ]
    }
   ],
   "source": [
    "# accuracy for test data\n",
    "from sklearn.metrics import accuracy_score\n",
    "test_acc = accuracy_score(y_test,yhat_test)\n",
    "print(f'Test Data Accuracy: {test_acc*100} %' ) "
   ]
  },
  {
   "cell_type": "code",
   "execution_count": 28,
   "id": "be5774da",
   "metadata": {},
   "outputs": [
    {
     "name": "stdout",
     "output_type": "stream",
     "text": [
      "Train Data Accuracy: 100.0 %\n"
     ]
    }
   ],
   "source": [
    "# Predicting results for train data\n",
    "\n",
    "yhat_train = dt.predict(x_train)\n",
    "train_acc = accuracy_score(y_train,yhat_train)\n",
    "print(f'Train Data Accuracy: {train_acc*100} %')"
   ]
  },
  {
   "cell_type": "code",
   "execution_count": 29,
   "id": "c9d6c30e",
   "metadata": {},
   "outputs": [
    {
     "data": {
      "text/plain": [
       "array([[198,   0,   0],\n",
       "       [  0,  41,   0],\n",
       "       [  0,   0,  81]], dtype=int64)"
      ]
     },
     "execution_count": 29,
     "metadata": {},
     "output_type": "execute_result"
    }
   ],
   "source": [
    "# Confusion matrix for train data\n",
    "\n",
    "from sklearn.metrics import confusion_matrix\n",
    "confusion_matrix(y_train,yhat_train)"
   ]
  },
  {
   "cell_type": "markdown",
   "id": "f6b09948",
   "metadata": {},
   "source": [
    "The model has been overfitted. \n",
    "Hyper parameter tuning will help with overfitting of the dataset"
   ]
  },
  {
   "cell_type": "code",
   "execution_count": 30,
   "id": "e0c3d620",
   "metadata": {},
   "outputs": [],
   "source": [
    "# Finding best parameters for the model\n",
    "\n",
    "from sklearn.model_selection import GridSearchCV\n",
    "\n",
    "dt = DecisionTreeClassifier(criterion = 'entropy',random_state=0)\n",
    "\n",
    "param_grid = {'min_samples_leaf': [1, 5, 10, 20], 'max_depth': [2, 4, 6, 8, 10],'max_features': ['sqrt']}\n",
    "\n",
    "\n",
    "grid_search = GridSearchCV(estimator = dt, param_grid = param_grid, scoring = 'accuracy', n_jobs = -1, cv = 5, \n",
    "                                refit=True, return_train_score=True)"
   ]
  },
  {
   "cell_type": "code",
   "execution_count": 31,
   "id": "e1c124b1",
   "metadata": {},
   "outputs": [
    {
     "data": {
      "text/plain": [
       "GridSearchCV(cv=5,\n",
       "             estimator=DecisionTreeClassifier(criterion='entropy',\n",
       "                                              random_state=0),\n",
       "             n_jobs=-1,\n",
       "             param_grid={'max_depth': [2, 4, 6, 8, 10],\n",
       "                         'max_features': ['sqrt'],\n",
       "                         'min_samples_leaf': [1, 5, 10, 20]},\n",
       "             return_train_score=True, scoring='accuracy')"
      ]
     },
     "execution_count": 31,
     "metadata": {},
     "output_type": "execute_result"
    }
   ],
   "source": [
    "# Fitting GridSearch model \n",
    "grid_search.fit(x_train,y_train)"
   ]
  },
  {
   "cell_type": "code",
   "execution_count": 32,
   "id": "f7e22031",
   "metadata": {},
   "outputs": [
    {
     "data": {
      "text/plain": [
       "{'max_depth': 6, 'max_features': 'sqrt', 'min_samples_leaf': 20}"
      ]
     },
     "execution_count": 32,
     "metadata": {},
     "output_type": "execute_result"
    }
   ],
   "source": [
    "# The best parameters for the model are given below\n",
    "grid_search.best_params_"
   ]
  },
  {
   "cell_type": "code",
   "execution_count": 33,
   "id": "baf5969d",
   "metadata": {},
   "outputs": [
    {
     "name": "stdout",
     "output_type": "stream",
     "text": [
      "Test Data Accuracy using GridSearch: 65.0 %\n"
     ]
    }
   ],
   "source": [
    "# Accuracy of test data using GridSearch\n",
    "grid_yhat_test = grid_search.best_estimator_.predict(x_test)\n",
    "\n",
    "grid_test_acc = accuracy_score(y_test,grid_yhat_test)\n",
    "print(f'Test Data Accuracy using GridSearch: {grid_test_acc*100} %' ) "
   ]
  },
  {
   "cell_type": "code",
   "execution_count": 34,
   "id": "2b750de3",
   "metadata": {},
   "outputs": [
    {
     "name": "stdout",
     "output_type": "stream",
     "text": [
      "Train Data Accuracy using GridSearch: 67.8125 %\n"
     ]
    }
   ],
   "source": [
    "# Accuracy of train data using GridSearch\n",
    "grid_yhat_train = grid_search.best_estimator_.predict(x_train)\n",
    "\n",
    "grid_train_acc = accuracy_score(y_train,grid_yhat_train)\n",
    "print(f'Train Data Accuracy using GridSearch: {grid_train_acc*100} %' )"
   ]
  },
  {
   "cell_type": "code",
   "execution_count": 35,
   "id": "64bbff91",
   "metadata": {},
   "outputs": [
    {
     "data": {
      "text/plain": [
       "array([[40,  0,  9],\n",
       "       [10,  0,  0],\n",
       "       [ 9,  0, 12]], dtype=int64)"
      ]
     },
     "execution_count": 35,
     "metadata": {},
     "output_type": "execute_result"
    }
   ],
   "source": [
    "# Confusion matrix for test data using GridSearch\n",
    "from sklearn.metrics import confusion_matrix\n",
    "confusion_matrix(y_test,grid_yhat_test)"
   ]
  },
  {
   "cell_type": "markdown",
   "id": "b3b9abc0",
   "metadata": {},
   "source": [
    "Using GridSearchCV we found the best parameters for the model where max_depth is 6, max_features is sqrt and min_sample_leaf is 5.\n",
    "The model accuracy is 65 % "
   ]
  },
  {
   "cell_type": "code",
   "execution_count": 36,
   "id": "3d91abc0",
   "metadata": {
    "scrolled": false
   },
   "outputs": [
    {
     "data": {
      "image/svg+xml": [
       "<?xml version=\"1.0\" encoding=\"UTF-8\" standalone=\"no\"?>\n",
       "<!DOCTYPE svg PUBLIC \"-//W3C//DTD SVG 1.1//EN\"\n",
       " \"http://www.w3.org/Graphics/SVG/1.1/DTD/svg11.dtd\">\n",
       "<!-- Generated by graphviz version 2.50.0 (0)\n",
       " -->\n",
       "<!-- Title: Tree Pages: 1 -->\n",
       "<svg width=\"982pt\" height=\"581pt\"\n",
       " viewBox=\"0.00 0.00 982.00 581.00\" xmlns=\"http://www.w3.org/2000/svg\" xmlns:xlink=\"http://www.w3.org/1999/xlink\">\n",
       "<g id=\"graph0\" class=\"graph\" transform=\"scale(1 1) rotate(0) translate(4 577)\">\n",
       "<title>Tree</title>\n",
       "<polygon fill=\"white\" stroke=\"transparent\" points=\"-4,4 -4,-577 978,-577 978,4 -4,4\"/>\n",
       "<!-- 0 -->\n",
       "<g id=\"node1\" class=\"node\">\n",
       "<title>0</title>\n",
       "<polygon fill=\"none\" stroke=\"black\" points=\"636,-573 472,-573 472,-505 636,-505 636,-573\"/>\n",
       "<text text-anchor=\"middle\" x=\"554\" y=\"-557.8\" font-family=\"Helvetica,sans-Serif\" font-size=\"14.00\">ShelveLoc_Good &lt;= 0.5</text>\n",
       "<text text-anchor=\"middle\" x=\"554\" y=\"-542.8\" font-family=\"Helvetica,sans-Serif\" font-size=\"14.00\">entropy = 1.31</text>\n",
       "<text text-anchor=\"middle\" x=\"554\" y=\"-527.8\" font-family=\"Helvetica,sans-Serif\" font-size=\"14.00\">samples = 320</text>\n",
       "<text text-anchor=\"middle\" x=\"554\" y=\"-512.8\" font-family=\"Helvetica,sans-Serif\" font-size=\"14.00\">value = [198, 41, 81]</text>\n",
       "</g>\n",
       "<!-- 1 -->\n",
       "<g id=\"node2\" class=\"node\">\n",
       "<title>1</title>\n",
       "<polygon fill=\"none\" stroke=\"black\" points=\"541,-469 401,-469 401,-401 541,-401 541,-469\"/>\n",
       "<text text-anchor=\"middle\" x=\"471\" y=\"-453.8\" font-family=\"Helvetica,sans-Serif\" font-size=\"14.00\">Price &lt;= 0.415</text>\n",
       "<text text-anchor=\"middle\" x=\"471\" y=\"-438.8\" font-family=\"Helvetica,sans-Serif\" font-size=\"14.00\">entropy = 1.161</text>\n",
       "<text text-anchor=\"middle\" x=\"471\" y=\"-423.8\" font-family=\"Helvetica,sans-Serif\" font-size=\"14.00\">samples = 256</text>\n",
       "<text text-anchor=\"middle\" x=\"471\" y=\"-408.8\" font-family=\"Helvetica,sans-Serif\" font-size=\"14.00\">value = [162, 13, 81]</text>\n",
       "</g>\n",
       "<!-- 0&#45;&gt;1 -->\n",
       "<g id=\"edge1\" class=\"edge\">\n",
       "<title>0&#45;&gt;1</title>\n",
       "<path fill=\"none\" stroke=\"black\" d=\"M527.05,-504.88C519.88,-496.07 512.04,-486.43 504.55,-477.24\"/>\n",
       "<polygon fill=\"black\" stroke=\"black\" points=\"507.12,-474.85 498.1,-469.3 501.69,-479.26 507.12,-474.85\"/>\n",
       "<text text-anchor=\"middle\" x=\"495.54\" y=\"-490.47\" font-family=\"Helvetica,sans-Serif\" font-size=\"14.00\">True</text>\n",
       "</g>\n",
       "<!-- 18 -->\n",
       "<g id=\"node19\" class=\"node\">\n",
       "<title>18</title>\n",
       "<polygon fill=\"none\" stroke=\"black\" points=\"699.5,-469 574.5,-469 574.5,-401 699.5,-401 699.5,-469\"/>\n",
       "<text text-anchor=\"middle\" x=\"637\" y=\"-453.8\" font-family=\"Helvetica,sans-Serif\" font-size=\"14.00\">Price &lt;= 0.445</text>\n",
       "<text text-anchor=\"middle\" x=\"637\" y=\"-438.8\" font-family=\"Helvetica,sans-Serif\" font-size=\"14.00\">entropy = 0.989</text>\n",
       "<text text-anchor=\"middle\" x=\"637\" y=\"-423.8\" font-family=\"Helvetica,sans-Serif\" font-size=\"14.00\">samples = 64</text>\n",
       "<text text-anchor=\"middle\" x=\"637\" y=\"-408.8\" font-family=\"Helvetica,sans-Serif\" font-size=\"14.00\">value = [36, 28, 0]</text>\n",
       "</g>\n",
       "<!-- 0&#45;&gt;18 -->\n",
       "<g id=\"edge18\" class=\"edge\">\n",
       "<title>0&#45;&gt;18</title>\n",
       "<path fill=\"none\" stroke=\"black\" d=\"M580.95,-504.88C588.12,-496.07 595.96,-486.43 603.45,-477.24\"/>\n",
       "<polygon fill=\"black\" stroke=\"black\" points=\"606.31,-479.26 609.9,-469.3 600.88,-474.85 606.31,-479.26\"/>\n",
       "<text text-anchor=\"middle\" x=\"612.46\" y=\"-490.47\" font-family=\"Helvetica,sans-Serif\" font-size=\"14.00\">False</text>\n",
       "</g>\n",
       "<!-- 2 -->\n",
       "<g id=\"node3\" class=\"node\">\n",
       "<title>2</title>\n",
       "<polygon fill=\"none\" stroke=\"black\" points=\"271,-365 139,-365 139,-297 271,-297 271,-365\"/>\n",
       "<text text-anchor=\"middle\" x=\"205\" y=\"-349.8\" font-family=\"Helvetica,sans-Serif\" font-size=\"14.00\">Age &lt;= 0.464</text>\n",
       "<text text-anchor=\"middle\" x=\"205\" y=\"-334.8\" font-family=\"Helvetica,sans-Serif\" font-size=\"14.00\">entropy = 1.149</text>\n",
       "<text text-anchor=\"middle\" x=\"205\" y=\"-319.8\" font-family=\"Helvetica,sans-Serif\" font-size=\"14.00\">samples = 91</text>\n",
       "<text text-anchor=\"middle\" x=\"205\" y=\"-304.8\" font-family=\"Helvetica,sans-Serif\" font-size=\"14.00\">value = [65, 13, 13]</text>\n",
       "</g>\n",
       "<!-- 1&#45;&gt;2 -->\n",
       "<g id=\"edge2\" class=\"edge\">\n",
       "<title>1&#45;&gt;2</title>\n",
       "<path fill=\"none\" stroke=\"black\" d=\"M400.76,-407.07C363.73,-392.87 318.27,-375.43 280.48,-360.94\"/>\n",
       "<polygon fill=\"black\" stroke=\"black\" points=\"281.64,-357.64 271.05,-357.33 279.13,-364.18 281.64,-357.64\"/>\n",
       "</g>\n",
       "<!-- 7 -->\n",
       "<g id=\"node8\" class=\"node\">\n",
       "<title>7</title>\n",
       "<polygon fill=\"none\" stroke=\"black\" points=\"560.5,-365 381.5,-365 381.5,-297 560.5,-297 560.5,-365\"/>\n",
       "<text text-anchor=\"middle\" x=\"471\" y=\"-349.8\" font-family=\"Helvetica,sans-Serif\" font-size=\"14.00\">ShelveLoc_Medium &lt;= 0.5</text>\n",
       "<text text-anchor=\"middle\" x=\"471\" y=\"-334.8\" font-family=\"Helvetica,sans-Serif\" font-size=\"14.00\">entropy = 0.978</text>\n",
       "<text text-anchor=\"middle\" x=\"471\" y=\"-319.8\" font-family=\"Helvetica,sans-Serif\" font-size=\"14.00\">samples = 165</text>\n",
       "<text text-anchor=\"middle\" x=\"471\" y=\"-304.8\" font-family=\"Helvetica,sans-Serif\" font-size=\"14.00\">value = [97, 0, 68]</text>\n",
       "</g>\n",
       "<!-- 1&#45;&gt;7 -->\n",
       "<g id=\"edge7\" class=\"edge\">\n",
       "<title>1&#45;&gt;7</title>\n",
       "<path fill=\"none\" stroke=\"black\" d=\"M471,-400.88C471,-392.78 471,-383.98 471,-375.47\"/>\n",
       "<polygon fill=\"black\" stroke=\"black\" points=\"474.5,-375.3 471,-365.3 467.5,-375.3 474.5,-375.3\"/>\n",
       "</g>\n",
       "<!-- 3 -->\n",
       "<g id=\"node4\" class=\"node\">\n",
       "<title>3</title>\n",
       "<polygon fill=\"none\" stroke=\"black\" points=\"124,-253.5 0,-253.5 0,-200.5 124,-200.5 124,-253.5\"/>\n",
       "<text text-anchor=\"middle\" x=\"62\" y=\"-238.3\" font-family=\"Helvetica,sans-Serif\" font-size=\"14.00\">entropy = 0.878</text>\n",
       "<text text-anchor=\"middle\" x=\"62\" y=\"-223.3\" font-family=\"Helvetica,sans-Serif\" font-size=\"14.00\">samples = 37</text>\n",
       "<text text-anchor=\"middle\" x=\"62\" y=\"-208.3\" font-family=\"Helvetica,sans-Serif\" font-size=\"14.00\">value = [26, 11, 0]</text>\n",
       "</g>\n",
       "<!-- 2&#45;&gt;3 -->\n",
       "<g id=\"edge3\" class=\"edge\">\n",
       "<title>2&#45;&gt;3</title>\n",
       "<path fill=\"none\" stroke=\"black\" d=\"M158.57,-296.88C141.77,-284.9 122.84,-271.4 106.23,-259.55\"/>\n",
       "<polygon fill=\"black\" stroke=\"black\" points=\"107.95,-256.48 97.78,-253.52 103.89,-262.18 107.95,-256.48\"/>\n",
       "</g>\n",
       "<!-- 4 -->\n",
       "<g id=\"node5\" class=\"node\">\n",
       "<title>4</title>\n",
       "<polygon fill=\"none\" stroke=\"black\" points=\"267.5,-261 142.5,-261 142.5,-193 267.5,-193 267.5,-261\"/>\n",
       "<text text-anchor=\"middle\" x=\"205\" y=\"-245.8\" font-family=\"Helvetica,sans-Serif\" font-size=\"14.00\">Price &lt;= 0.331</text>\n",
       "<text text-anchor=\"middle\" x=\"205\" y=\"-230.8\" font-family=\"Helvetica,sans-Serif\" font-size=\"14.00\">entropy = 1.01</text>\n",
       "<text text-anchor=\"middle\" x=\"205\" y=\"-215.8\" font-family=\"Helvetica,sans-Serif\" font-size=\"14.00\">samples = 54</text>\n",
       "<text text-anchor=\"middle\" x=\"205\" y=\"-200.8\" font-family=\"Helvetica,sans-Serif\" font-size=\"14.00\">value = [39, 2, 13]</text>\n",
       "</g>\n",
       "<!-- 2&#45;&gt;4 -->\n",
       "<g id=\"edge4\" class=\"edge\">\n",
       "<title>2&#45;&gt;4</title>\n",
       "<path fill=\"none\" stroke=\"black\" d=\"M205,-296.88C205,-288.78 205,-279.98 205,-271.47\"/>\n",
       "<polygon fill=\"black\" stroke=\"black\" points=\"208.5,-271.3 205,-261.3 201.5,-271.3 208.5,-271.3\"/>\n",
       "</g>\n",
       "<!-- 5 -->\n",
       "<g id=\"node6\" class=\"node\">\n",
       "<title>5</title>\n",
       "<polygon fill=\"none\" stroke=\"black\" points=\"124.5,-149.5 7.5,-149.5 7.5,-96.5 124.5,-96.5 124.5,-149.5\"/>\n",
       "<text text-anchor=\"middle\" x=\"66\" y=\"-134.3\" font-family=\"Helvetica,sans-Serif\" font-size=\"14.00\">entropy = 0.658</text>\n",
       "<text text-anchor=\"middle\" x=\"66\" y=\"-119.3\" font-family=\"Helvetica,sans-Serif\" font-size=\"14.00\">samples = 24</text>\n",
       "<text text-anchor=\"middle\" x=\"66\" y=\"-104.3\" font-family=\"Helvetica,sans-Serif\" font-size=\"14.00\">value = [21, 2, 1]</text>\n",
       "</g>\n",
       "<!-- 4&#45;&gt;5 -->\n",
       "<g id=\"edge5\" class=\"edge\">\n",
       "<title>4&#45;&gt;5</title>\n",
       "<path fill=\"none\" stroke=\"black\" d=\"M159.87,-192.88C143.53,-180.9 125.14,-167.4 108.99,-155.55\"/>\n",
       "<polygon fill=\"black\" stroke=\"black\" points=\"110.91,-152.61 100.78,-149.52 106.77,-158.26 110.91,-152.61\"/>\n",
       "</g>\n",
       "<!-- 6 -->\n",
       "<g id=\"node7\" class=\"node\">\n",
       "<title>6</title>\n",
       "<polygon fill=\"none\" stroke=\"black\" points=\"267.5,-149.5 142.5,-149.5 142.5,-96.5 267.5,-96.5 267.5,-149.5\"/>\n",
       "<text text-anchor=\"middle\" x=\"205\" y=\"-134.3\" font-family=\"Helvetica,sans-Serif\" font-size=\"14.00\">entropy = 0.971</text>\n",
       "<text text-anchor=\"middle\" x=\"205\" y=\"-119.3\" font-family=\"Helvetica,sans-Serif\" font-size=\"14.00\">samples = 30</text>\n",
       "<text text-anchor=\"middle\" x=\"205\" y=\"-104.3\" font-family=\"Helvetica,sans-Serif\" font-size=\"14.00\">value = [18, 0, 12]</text>\n",
       "</g>\n",
       "<!-- 4&#45;&gt;6 -->\n",
       "<g id=\"edge6\" class=\"edge\">\n",
       "<title>4&#45;&gt;6</title>\n",
       "<path fill=\"none\" stroke=\"black\" d=\"M205,-192.88C205,-182.33 205,-170.6 205,-159.85\"/>\n",
       "<polygon fill=\"black\" stroke=\"black\" points=\"208.5,-159.52 205,-149.52 201.5,-159.52 208.5,-159.52\"/>\n",
       "</g>\n",
       "<!-- 8 -->\n",
       "<g id=\"node9\" class=\"node\">\n",
       "<title>8</title>\n",
       "<polygon fill=\"none\" stroke=\"black\" points=\"533.5,-261 408.5,-261 408.5,-193 533.5,-193 533.5,-261\"/>\n",
       "<text text-anchor=\"middle\" x=\"471\" y=\"-245.8\" font-family=\"Helvetica,sans-Serif\" font-size=\"14.00\">Price &lt;= 0.592</text>\n",
       "<text text-anchor=\"middle\" x=\"471\" y=\"-230.8\" font-family=\"Helvetica,sans-Serif\" font-size=\"14.00\">entropy = 0.879</text>\n",
       "<text text-anchor=\"middle\" x=\"471\" y=\"-215.8\" font-family=\"Helvetica,sans-Serif\" font-size=\"14.00\">samples = 47</text>\n",
       "<text text-anchor=\"middle\" x=\"471\" y=\"-200.8\" font-family=\"Helvetica,sans-Serif\" font-size=\"14.00\">value = [14, 0, 33]</text>\n",
       "</g>\n",
       "<!-- 7&#45;&gt;8 -->\n",
       "<g id=\"edge8\" class=\"edge\">\n",
       "<title>7&#45;&gt;8</title>\n",
       "<path fill=\"none\" stroke=\"black\" d=\"M471,-296.88C471,-288.78 471,-279.98 471,-271.47\"/>\n",
       "<polygon fill=\"black\" stroke=\"black\" points=\"474.5,-271.3 471,-261.3 467.5,-271.3 474.5,-271.3\"/>\n",
       "</g>\n",
       "<!-- 11 -->\n",
       "<g id=\"node12\" class=\"node\">\n",
       "<title>11</title>\n",
       "<polygon fill=\"none\" stroke=\"black\" points=\"696.5,-261 555.5,-261 555.5,-193 696.5,-193 696.5,-261\"/>\n",
       "<text text-anchor=\"middle\" x=\"626\" y=\"-245.8\" font-family=\"Helvetica,sans-Serif\" font-size=\"14.00\">Advertising &lt;= 0.224</text>\n",
       "<text text-anchor=\"middle\" x=\"626\" y=\"-230.8\" font-family=\"Helvetica,sans-Serif\" font-size=\"14.00\">entropy = 0.877</text>\n",
       "<text text-anchor=\"middle\" x=\"626\" y=\"-215.8\" font-family=\"Helvetica,sans-Serif\" font-size=\"14.00\">samples = 118</text>\n",
       "<text text-anchor=\"middle\" x=\"626\" y=\"-200.8\" font-family=\"Helvetica,sans-Serif\" font-size=\"14.00\">value = [83, 0, 35]</text>\n",
       "</g>\n",
       "<!-- 7&#45;&gt;11 -->\n",
       "<g id=\"edge11\" class=\"edge\">\n",
       "<title>7&#45;&gt;11</title>\n",
       "<path fill=\"none\" stroke=\"black\" d=\"M521.32,-296.88C535.88,-287.3 551.9,-276.76 566.94,-266.86\"/>\n",
       "<polygon fill=\"black\" stroke=\"black\" points=\"569.23,-269.55 575.66,-261.12 565.39,-263.7 569.23,-269.55\"/>\n",
       "</g>\n",
       "<!-- 9 -->\n",
       "<g id=\"node10\" class=\"node\">\n",
       "<title>9</title>\n",
       "<polygon fill=\"none\" stroke=\"black\" points=\"410.5,-149.5 285.5,-149.5 285.5,-96.5 410.5,-96.5 410.5,-149.5\"/>\n",
       "<text text-anchor=\"middle\" x=\"348\" y=\"-134.3\" font-family=\"Helvetica,sans-Serif\" font-size=\"14.00\">entropy = 0.999</text>\n",
       "<text text-anchor=\"middle\" x=\"348\" y=\"-119.3\" font-family=\"Helvetica,sans-Serif\" font-size=\"14.00\">samples = 27</text>\n",
       "<text text-anchor=\"middle\" x=\"348\" y=\"-104.3\" font-family=\"Helvetica,sans-Serif\" font-size=\"14.00\">value = [13, 0, 14]</text>\n",
       "</g>\n",
       "<!-- 8&#45;&gt;9 -->\n",
       "<g id=\"edge9\" class=\"edge\">\n",
       "<title>8&#45;&gt;9</title>\n",
       "<path fill=\"none\" stroke=\"black\" d=\"M431.07,-192.88C416.87,-181.12 400.93,-167.89 386.83,-156.2\"/>\n",
       "<polygon fill=\"black\" stroke=\"black\" points=\"388.71,-153.21 378.77,-149.52 384.24,-158.6 388.71,-153.21\"/>\n",
       "</g>\n",
       "<!-- 10 -->\n",
       "<g id=\"node11\" class=\"node\">\n",
       "<title>10</title>\n",
       "<polygon fill=\"none\" stroke=\"black\" points=\"545.5,-149.5 428.5,-149.5 428.5,-96.5 545.5,-96.5 545.5,-149.5\"/>\n",
       "<text text-anchor=\"middle\" x=\"487\" y=\"-134.3\" font-family=\"Helvetica,sans-Serif\" font-size=\"14.00\">entropy = 0.286</text>\n",
       "<text text-anchor=\"middle\" x=\"487\" y=\"-119.3\" font-family=\"Helvetica,sans-Serif\" font-size=\"14.00\">samples = 20</text>\n",
       "<text text-anchor=\"middle\" x=\"487\" y=\"-104.3\" font-family=\"Helvetica,sans-Serif\" font-size=\"14.00\">value = [1, 0, 19]</text>\n",
       "</g>\n",
       "<!-- 8&#45;&gt;10 -->\n",
       "<g id=\"edge10\" class=\"edge\">\n",
       "<title>8&#45;&gt;10</title>\n",
       "<path fill=\"none\" stroke=\"black\" d=\"M476.19,-192.88C477.87,-182.22 479.73,-170.35 481.43,-159.52\"/>\n",
       "<polygon fill=\"black\" stroke=\"black\" points=\"484.9,-159.94 483,-149.52 477.99,-158.86 484.9,-159.94\"/>\n",
       "</g>\n",
       "<!-- 12 -->\n",
       "<g id=\"node13\" class=\"node\">\n",
       "<title>12</title>\n",
       "<polygon fill=\"none\" stroke=\"black\" points=\"688.5,-157 563.5,-157 563.5,-89 688.5,-89 688.5,-157\"/>\n",
       "<text text-anchor=\"middle\" x=\"626\" y=\"-141.8\" font-family=\"Helvetica,sans-Serif\" font-size=\"14.00\">Price &lt;= 0.574</text>\n",
       "<text text-anchor=\"middle\" x=\"626\" y=\"-126.8\" font-family=\"Helvetica,sans-Serif\" font-size=\"14.00\">entropy = 0.984</text>\n",
       "<text text-anchor=\"middle\" x=\"626\" y=\"-111.8\" font-family=\"Helvetica,sans-Serif\" font-size=\"14.00\">samples = 68</text>\n",
       "<text text-anchor=\"middle\" x=\"626\" y=\"-96.8\" font-family=\"Helvetica,sans-Serif\" font-size=\"14.00\">value = [39, 0, 29]</text>\n",
       "</g>\n",
       "<!-- 11&#45;&gt;12 -->\n",
       "<g id=\"edge12\" class=\"edge\">\n",
       "<title>11&#45;&gt;12</title>\n",
       "<path fill=\"none\" stroke=\"black\" d=\"M626,-192.88C626,-184.78 626,-175.98 626,-167.47\"/>\n",
       "<polygon fill=\"black\" stroke=\"black\" points=\"629.5,-167.3 626,-157.3 622.5,-167.3 629.5,-167.3\"/>\n",
       "</g>\n",
       "<!-- 15 -->\n",
       "<g id=\"node16\" class=\"node\">\n",
       "<title>15</title>\n",
       "<polygon fill=\"none\" stroke=\"black\" points=\"823.5,-157 706.5,-157 706.5,-89 823.5,-89 823.5,-157\"/>\n",
       "<text text-anchor=\"middle\" x=\"765\" y=\"-141.8\" font-family=\"Helvetica,sans-Serif\" font-size=\"14.00\">Age &lt;= 0.609</text>\n",
       "<text text-anchor=\"middle\" x=\"765\" y=\"-126.8\" font-family=\"Helvetica,sans-Serif\" font-size=\"14.00\">entropy = 0.529</text>\n",
       "<text text-anchor=\"middle\" x=\"765\" y=\"-111.8\" font-family=\"Helvetica,sans-Serif\" font-size=\"14.00\">samples = 50</text>\n",
       "<text text-anchor=\"middle\" x=\"765\" y=\"-96.8\" font-family=\"Helvetica,sans-Serif\" font-size=\"14.00\">value = [44, 0, 6]</text>\n",
       "</g>\n",
       "<!-- 11&#45;&gt;15 -->\n",
       "<g id=\"edge15\" class=\"edge\">\n",
       "<title>11&#45;&gt;15</title>\n",
       "<path fill=\"none\" stroke=\"black\" d=\"M671.13,-192.88C684,-183.44 698.14,-173.06 711.46,-163.29\"/>\n",
       "<polygon fill=\"black\" stroke=\"black\" points=\"713.63,-166.04 719.62,-157.3 709.49,-160.39 713.63,-166.04\"/>\n",
       "</g>\n",
       "<!-- 13 -->\n",
       "<g id=\"node14\" class=\"node\">\n",
       "<title>13</title>\n",
       "<polygon fill=\"none\" stroke=\"black\" points=\"545.5,-53 428.5,-53 428.5,0 545.5,0 545.5,-53\"/>\n",
       "<text text-anchor=\"middle\" x=\"487\" y=\"-37.8\" font-family=\"Helvetica,sans-Serif\" font-size=\"14.00\">entropy = 0.811</text>\n",
       "<text text-anchor=\"middle\" x=\"487\" y=\"-22.8\" font-family=\"Helvetica,sans-Serif\" font-size=\"14.00\">samples = 36</text>\n",
       "<text text-anchor=\"middle\" x=\"487\" y=\"-7.8\" font-family=\"Helvetica,sans-Serif\" font-size=\"14.00\">value = [27, 0, 9]</text>\n",
       "</g>\n",
       "<!-- 12&#45;&gt;13 -->\n",
       "<g id=\"edge13\" class=\"edge\">\n",
       "<title>12&#45;&gt;13</title>\n",
       "<path fill=\"none\" stroke=\"black\" d=\"M577.38,-88.95C563.12,-79.25 547.56,-68.68 533.44,-59.07\"/>\n",
       "<polygon fill=\"black\" stroke=\"black\" points=\"535.09,-55.96 524.86,-53.24 531.16,-61.75 535.09,-55.96\"/>\n",
       "</g>\n",
       "<!-- 14 -->\n",
       "<g id=\"node15\" class=\"node\">\n",
       "<title>14</title>\n",
       "<polygon fill=\"none\" stroke=\"black\" points=\"688.5,-53 563.5,-53 563.5,0 688.5,0 688.5,-53\"/>\n",
       "<text text-anchor=\"middle\" x=\"626\" y=\"-37.8\" font-family=\"Helvetica,sans-Serif\" font-size=\"14.00\">entropy = 0.954</text>\n",
       "<text text-anchor=\"middle\" x=\"626\" y=\"-22.8\" font-family=\"Helvetica,sans-Serif\" font-size=\"14.00\">samples = 32</text>\n",
       "<text text-anchor=\"middle\" x=\"626\" y=\"-7.8\" font-family=\"Helvetica,sans-Serif\" font-size=\"14.00\">value = [12, 0, 20]</text>\n",
       "</g>\n",
       "<!-- 12&#45;&gt;14 -->\n",
       "<g id=\"edge14\" class=\"edge\">\n",
       "<title>12&#45;&gt;14</title>\n",
       "<path fill=\"none\" stroke=\"black\" d=\"M626,-88.95C626,-80.72 626,-71.85 626,-63.48\"/>\n",
       "<polygon fill=\"black\" stroke=\"black\" points=\"629.5,-63.24 626,-53.24 622.5,-63.24 629.5,-63.24\"/>\n",
       "</g>\n",
       "<!-- 16 -->\n",
       "<g id=\"node17\" class=\"node\">\n",
       "<title>16</title>\n",
       "<polygon fill=\"none\" stroke=\"black\" points=\"823.5,-53 706.5,-53 706.5,0 823.5,0 823.5,-53\"/>\n",
       "<text text-anchor=\"middle\" x=\"765\" y=\"-37.8\" font-family=\"Helvetica,sans-Serif\" font-size=\"14.00\">entropy = 0.0</text>\n",
       "<text text-anchor=\"middle\" x=\"765\" y=\"-22.8\" font-family=\"Helvetica,sans-Serif\" font-size=\"14.00\">samples = 28</text>\n",
       "<text text-anchor=\"middle\" x=\"765\" y=\"-7.8\" font-family=\"Helvetica,sans-Serif\" font-size=\"14.00\">value = [28, 0, 0]</text>\n",
       "</g>\n",
       "<!-- 15&#45;&gt;16 -->\n",
       "<g id=\"edge16\" class=\"edge\">\n",
       "<title>15&#45;&gt;16</title>\n",
       "<path fill=\"none\" stroke=\"black\" d=\"M765,-88.95C765,-80.72 765,-71.85 765,-63.48\"/>\n",
       "<polygon fill=\"black\" stroke=\"black\" points=\"768.5,-63.24 765,-53.24 761.5,-63.24 768.5,-63.24\"/>\n",
       "</g>\n",
       "<!-- 17 -->\n",
       "<g id=\"node18\" class=\"node\">\n",
       "<title>17</title>\n",
       "<polygon fill=\"none\" stroke=\"black\" points=\"958.5,-53 841.5,-53 841.5,0 958.5,0 958.5,-53\"/>\n",
       "<text text-anchor=\"middle\" x=\"900\" y=\"-37.8\" font-family=\"Helvetica,sans-Serif\" font-size=\"14.00\">entropy = 0.845</text>\n",
       "<text text-anchor=\"middle\" x=\"900\" y=\"-22.8\" font-family=\"Helvetica,sans-Serif\" font-size=\"14.00\">samples = 22</text>\n",
       "<text text-anchor=\"middle\" x=\"900\" y=\"-7.8\" font-family=\"Helvetica,sans-Serif\" font-size=\"14.00\">value = [16, 0, 6]</text>\n",
       "</g>\n",
       "<!-- 15&#45;&gt;17 -->\n",
       "<g id=\"edge17\" class=\"edge\">\n",
       "<title>15&#45;&gt;17</title>\n",
       "<path fill=\"none\" stroke=\"black\" d=\"M812.22,-88.95C826.07,-79.25 841.18,-68.68 854.9,-59.07\"/>\n",
       "<polygon fill=\"black\" stroke=\"black\" points=\"857.05,-61.84 863.23,-53.24 853.03,-56.1 857.05,-61.84\"/>\n",
       "</g>\n",
       "<!-- 19 -->\n",
       "<g id=\"node20\" class=\"node\">\n",
       "<title>19</title>\n",
       "<polygon fill=\"none\" stroke=\"black\" points=\"695.5,-357.5 578.5,-357.5 578.5,-304.5 695.5,-304.5 695.5,-357.5\"/>\n",
       "<text text-anchor=\"middle\" x=\"637\" y=\"-342.3\" font-family=\"Helvetica,sans-Serif\" font-size=\"14.00\">entropy = 0.811</text>\n",
       "<text text-anchor=\"middle\" x=\"637\" y=\"-327.3\" font-family=\"Helvetica,sans-Serif\" font-size=\"14.00\">samples = 20</text>\n",
       "<text text-anchor=\"middle\" x=\"637\" y=\"-312.3\" font-family=\"Helvetica,sans-Serif\" font-size=\"14.00\">value = [5, 15, 0]</text>\n",
       "</g>\n",
       "<!-- 18&#45;&gt;19 -->\n",
       "<g id=\"edge19\" class=\"edge\">\n",
       "<title>18&#45;&gt;19</title>\n",
       "<path fill=\"none\" stroke=\"black\" d=\"M637,-400.88C637,-390.33 637,-378.6 637,-367.85\"/>\n",
       "<polygon fill=\"black\" stroke=\"black\" points=\"640.5,-367.52 637,-357.52 633.5,-367.52 640.5,-367.52\"/>\n",
       "</g>\n",
       "<!-- 20 -->\n",
       "<g id=\"node21\" class=\"node\">\n",
       "<title>20</title>\n",
       "<polygon fill=\"none\" stroke=\"black\" points=\"856,-365 714,-365 714,-297 856,-297 856,-365\"/>\n",
       "<text text-anchor=\"middle\" x=\"785\" y=\"-349.8\" font-family=\"Helvetica,sans-Serif\" font-size=\"14.00\">CompPrice &lt;= 0.494</text>\n",
       "<text text-anchor=\"middle\" x=\"785\" y=\"-334.8\" font-family=\"Helvetica,sans-Serif\" font-size=\"14.00\">entropy = 0.876</text>\n",
       "<text text-anchor=\"middle\" x=\"785\" y=\"-319.8\" font-family=\"Helvetica,sans-Serif\" font-size=\"14.00\">samples = 44</text>\n",
       "<text text-anchor=\"middle\" x=\"785\" y=\"-304.8\" font-family=\"Helvetica,sans-Serif\" font-size=\"14.00\">value = [31, 13, 0]</text>\n",
       "</g>\n",
       "<!-- 18&#45;&gt;20 -->\n",
       "<g id=\"edge20\" class=\"edge\">\n",
       "<title>18&#45;&gt;20</title>\n",
       "<path fill=\"none\" stroke=\"black\" d=\"M685.05,-400.88C698.95,-391.3 714.25,-380.76 728.61,-370.86\"/>\n",
       "<polygon fill=\"black\" stroke=\"black\" points=\"730.69,-373.68 736.94,-365.12 726.72,-367.92 730.69,-373.68\"/>\n",
       "</g>\n",
       "<!-- 21 -->\n",
       "<g id=\"node22\" class=\"node\">\n",
       "<title>21</title>\n",
       "<polygon fill=\"none\" stroke=\"black\" points=\"839.5,-253.5 722.5,-253.5 722.5,-200.5 839.5,-200.5 839.5,-253.5\"/>\n",
       "<text text-anchor=\"middle\" x=\"781\" y=\"-238.3\" font-family=\"Helvetica,sans-Serif\" font-size=\"14.00\">entropy = 0.65</text>\n",
       "<text text-anchor=\"middle\" x=\"781\" y=\"-223.3\" font-family=\"Helvetica,sans-Serif\" font-size=\"14.00\">samples = 24</text>\n",
       "<text text-anchor=\"middle\" x=\"781\" y=\"-208.3\" font-family=\"Helvetica,sans-Serif\" font-size=\"14.00\">value = [20, 4, 0]</text>\n",
       "</g>\n",
       "<!-- 20&#45;&gt;21 -->\n",
       "<g id=\"edge21\" class=\"edge\">\n",
       "<title>20&#45;&gt;21</title>\n",
       "<path fill=\"none\" stroke=\"black\" d=\"M783.7,-296.88C783.28,-286.22 782.82,-274.35 782.39,-263.52\"/>\n",
       "<polygon fill=\"black\" stroke=\"black\" points=\"785.89,-263.38 782,-253.52 778.9,-263.65 785.89,-263.38\"/>\n",
       "</g>\n",
       "<!-- 22 -->\n",
       "<g id=\"node23\" class=\"node\">\n",
       "<title>22</title>\n",
       "<polygon fill=\"none\" stroke=\"black\" points=\"974,-253.5 858,-253.5 858,-200.5 974,-200.5 974,-253.5\"/>\n",
       "<text text-anchor=\"middle\" x=\"916\" y=\"-238.3\" font-family=\"Helvetica,sans-Serif\" font-size=\"14.00\">entropy = 0.993</text>\n",
       "<text text-anchor=\"middle\" x=\"916\" y=\"-223.3\" font-family=\"Helvetica,sans-Serif\" font-size=\"14.00\">samples = 20</text>\n",
       "<text text-anchor=\"middle\" x=\"916\" y=\"-208.3\" font-family=\"Helvetica,sans-Serif\" font-size=\"14.00\">value = [11, 9, 0]</text>\n",
       "</g>\n",
       "<!-- 20&#45;&gt;22 -->\n",
       "<g id=\"edge22\" class=\"edge\">\n",
       "<title>20&#45;&gt;22</title>\n",
       "<path fill=\"none\" stroke=\"black\" d=\"M827.53,-296.88C842.79,-285.01 859.94,-271.65 875.06,-259.88\"/>\n",
       "<polygon fill=\"black\" stroke=\"black\" points=\"877.48,-262.43 883.22,-253.52 873.18,-256.9 877.48,-262.43\"/>\n",
       "</g>\n",
       "</g>\n",
       "</svg>\n"
      ],
      "text/plain": [
       "<graphviz.sources.Source at 0x1eae92b51c0>"
      ]
     },
     "execution_count": 36,
     "metadata": {},
     "output_type": "execute_result"
    },
    {
     "data": {
      "text/plain": [
       "<Figure size 360x144 with 0 Axes>"
      ]
     },
     "metadata": {},
     "output_type": "display_data"
    }
   ],
   "source": [
    "import graphviz \n",
    "import sklearn\n",
    "\n",
    "plt.figure(figsize=(5,2))\n",
    "dt = DecisionTreeClassifier(criterion='entropy',max_depth=6, min_samples_leaf=20,random_state=0).fit(x_train, y_train)\n",
    "dot_data = sklearn.tree.export_graphviz(dt,feature_names = x.columns.tolist())\n",
    "graph = graphviz.Source(dot_data)\n",
    "graph "
   ]
  },
  {
   "cell_type": "markdown",
   "id": "bb1b2f7c",
   "metadata": {},
   "source": [
    "The above decision tree based on GridSearch parameters"
   ]
  },
  {
   "cell_type": "markdown",
   "id": "4f749c5d",
   "metadata": {},
   "source": [
    "Using Random Forest to see if we can increase the accuracy "
   ]
  },
  {
   "cell_type": "code",
   "execution_count": 54,
   "id": "4389268f",
   "metadata": {},
   "outputs": [],
   "source": [
    "from sklearn.ensemble import RandomForestClassifier\n",
    "\n",
    "clf = RandomForestClassifier(criterion='entropy', random_state=0, min_samples_leaf=5, max_depth=11)\n",
    "clf.fit(x_train,y_train) # Fitting random forest model to train \n",
    "clf_yhat_test = clf.predict(x_test)"
   ]
  },
  {
   "cell_type": "code",
   "execution_count": 55,
   "id": "2bdc7e27",
   "metadata": {},
   "outputs": [
    {
     "name": "stdout",
     "output_type": "stream",
     "text": [
      "Test Data Accuracy using RandomForest: 78.75 %\n"
     ]
    }
   ],
   "source": [
    "# Accuracy of test data using RandomForest\n",
    "\n",
    "clf_test_acc = accuracy_score(y_test, clf_yhat_test)\n",
    "print(f'Test Data Accuracy using RandomForest: {clf_test_acc*100} %' ) "
   ]
  },
  {
   "cell_type": "code",
   "execution_count": 56,
   "id": "3fe6df9d",
   "metadata": {},
   "outputs": [
    {
     "name": "stdout",
     "output_type": "stream",
     "text": [
      "Train Data Accuracy using RandomForest: 88.4375 %\n"
     ]
    }
   ],
   "source": [
    "# Accuracy of train data using RandomForest\n",
    "\n",
    "clf_yhat_train = clf.predict(x_train)\n",
    "clf_train_acc = accuracy_score(y_train, clf_yhat_train)\n",
    "print(f'Train Data Accuracy using RandomForest: {clf_train_acc*100} %' ) "
   ]
  },
  {
   "cell_type": "code",
   "execution_count": 57,
   "id": "3eb2cbae",
   "metadata": {
    "scrolled": true
   },
   "outputs": [
    {
     "data": {
      "text/plain": [
       "Text(33.0, 0.5, 'Actual')"
      ]
     },
     "execution_count": 57,
     "metadata": {},
     "output_type": "execute_result"
    },
    {
     "data": {
      "image/png": "[encoded data removed]",
      "text/plain": [
       "<Figure size 432x288 with 2 Axes>"
      ]
     },
     "metadata": {
      "needs_background": "light"
     },
     "output_type": "display_data"
    }
   ],
   "source": [
    "# Confusion matrix for test data using RandomForest\n",
    "\n",
    "sns.heatmap(confusion_matrix(y_test,clf_yhat_test),annot=True,\n",
    "            xticklabels=['Poor','Good','Outstanding'], yticklabels=['Poor','Good','Outstanding'])\n",
    "plt.xlabel('Predicted')\n",
    "plt.ylabel('Actual')"
   ]
  },
  {
   "cell_type": "markdown",
   "id": "91487cb0",
   "metadata": {},
   "source": [
    "Using Random Forest we get a test accuracy of 78.75%"
   ]
  },
  {
   "cell_type": "code",
   "execution_count": 58,
   "id": "1c7a87e0",
   "metadata": {
    "scrolled": true
   },
   "outputs": [
    {
     "name": "stdout",
     "output_type": "stream",
     "text": [
      "              precision    recall  f1-score   support\n",
      "\n",
      "        Good       0.74      1.00      0.85        49\n",
      " Outstanding       1.00      0.40      0.57        10\n",
      "        Poor       1.00      0.48      0.65        21\n",
      "\n",
      "    accuracy                           0.79        80\n",
      "   macro avg       0.91      0.63      0.69        80\n",
      "weighted avg       0.84      0.79      0.76        80\n",
      "\n"
     ]
    }
   ],
   "source": [
    "# Classification report \n",
    "\n",
    "print(sklearn.metrics.classification_report(y_test,clf_yhat_test))"
   ]
  },
  {
   "cell_type": "markdown",
   "id": "d14de10a",
   "metadata": {},
   "source": [
    "RandomForest model can help predict the sales of cloth company with an accuracy of 78% and high precision."
   ]
  },
  {
   "cell_type": "code",
   "execution_count": null,
   "id": "06ebc1be",
   "metadata": {},
   "outputs": [],
   "source": []
  }
 ],
 "metadata": {
  "kernelspec": {
   "display_name": "Python 3 (ipykernel)",
   "language": "python",
   "name": "python3"
  },
  "language_info": {
   "codemirror_mode": {
    "name": "ipython",
    "version": 3
   },
   "file_extension": ".py",
   "mimetype": "text/x-python",
   "name": "python",
   "nbconvert_exporter": "python",
   "pygments_lexer": "ipython3",
   "version": "3.9.12"
  }
 },
 "nbformat": 4,
 "nbformat_minor": 5
}
