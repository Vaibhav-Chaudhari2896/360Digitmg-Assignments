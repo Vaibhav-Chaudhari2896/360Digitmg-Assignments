{
 "cells": [
  {
   "cell_type": "markdown",
   "id": "4ffcc7f8",
   "metadata": {},
   "source": [
    "The head of HR of a certain organization wants to automate their salary hike estimation. The organization consulted an analytics service provider and asked them to build a basic prediction model by providing them with a dataset that contains the data about the number of years of experience and the salary hike given accordingly. Build a Simple Linear Regression model with salary as the target variable. Apply necessary transformations and record the RMSE and correlation coefficient values for different models."
   ]
  },
  {
   "cell_type": "code",
   "execution_count": 1,
   "id": "f3215fc2",
   "metadata": {},
   "outputs": [],
   "source": [
    "# Importing libraries\n",
    "\n",
    "import pandas as pd\n",
    "import numpy as np \n",
    "import matplotlib.pyplot as plt\n",
    "import seaborn as sns\n",
    "import sklearn \n",
    "import scipy\n",
    "import warnings\n",
    "warnings.filterwarnings(action='ignore',category=UserWarning)"
   ]
  },
  {
   "cell_type": "code",
   "execution_count": 2,
   "id": "600203e4",
   "metadata": {},
   "outputs": [
    {
     "data": {
      "text/html": [
       "<div>\n",
       "<style scoped>\n",
       "    .dataframe tbody tr th:only-of-type {\n",
       "        vertical-align: middle;\n",
       "    }\n",
       "\n",
       "    .dataframe tbody tr th {\n",
       "        vertical-align: top;\n",
       "    }\n",
       "\n",
       "    .dataframe thead th {\n",
       "        text-align: right;\n",
       "    }\n",
       "</style>\n",
       "<table border=\"1\" class=\"dataframe\">\n",
       "  <thead>\n",
       "    <tr style=\"text-align: right;\">\n",
       "      <th></th>\n",
       "      <th>YearsExperience</th>\n",
       "      <th>Salary</th>\n",
       "    </tr>\n",
       "  </thead>\n",
       "  <tbody>\n",
       "    <tr>\n",
       "      <th>0</th>\n",
       "      <td>1.1</td>\n",
       "      <td>39343.0</td>\n",
       "    </tr>\n",
       "    <tr>\n",
       "      <th>1</th>\n",
       "      <td>1.3</td>\n",
       "      <td>46205.0</td>\n",
       "    </tr>\n",
       "    <tr>\n",
       "      <th>2</th>\n",
       "      <td>1.5</td>\n",
       "      <td>37731.0</td>\n",
       "    </tr>\n",
       "    <tr>\n",
       "      <th>3</th>\n",
       "      <td>2.0</td>\n",
       "      <td>43525.0</td>\n",
       "    </tr>\n",
       "    <tr>\n",
       "      <th>4</th>\n",
       "      <td>2.2</td>\n",
       "      <td>39891.0</td>\n",
       "    </tr>\n",
       "  </tbody>\n",
       "</table>\n",
       "</div>"
      ],
      "text/plain": [
       "   YearsExperience   Salary\n",
       "0              1.1  39343.0\n",
       "1              1.3  46205.0\n",
       "2              1.5  37731.0\n",
       "3              2.0  43525.0\n",
       "4              2.2  39891.0"
      ]
     },
     "execution_count": 2,
     "metadata": {},
     "output_type": "execute_result"
    }
   ],
   "source": [
    "# Importing dataset\n",
    "data = pd.read_csv('C:/Users/vaibh/Desktop/360 Digitmg/SImple Regression\\Asssignments/Salary_Data.csv')\n",
    "data.head()"
   ]
  },
  {
   "cell_type": "code",
   "execution_count": 3,
   "id": "1af58256",
   "metadata": {},
   "outputs": [
    {
     "data": {
      "text/plain": [
       "(30, 2)"
      ]
     },
     "execution_count": 3,
     "metadata": {},
     "output_type": "execute_result"
    }
   ],
   "source": [
    "# checking dimensions of the dataset\n",
    "data.shape"
   ]
  },
  {
   "cell_type": "code",
   "execution_count": 4,
   "id": "c7295189",
   "metadata": {},
   "outputs": [
    {
     "data": {
      "text/plain": [
       "YearsExperience    0\n",
       "Salary             0\n",
       "dtype: int64"
      ]
     },
     "execution_count": 4,
     "metadata": {},
     "output_type": "execute_result"
    }
   ],
   "source": [
    "# checking for null values\n",
    "data.isnull().sum()"
   ]
  },
  {
   "cell_type": "markdown",
   "id": "d1d86883",
   "metadata": {},
   "source": [
    "There are no null values"
   ]
  },
  {
   "cell_type": "code",
   "execution_count": 5,
   "id": "d7f4683c",
   "metadata": {},
   "outputs": [
    {
     "data": {
      "text/plain": [
       "0"
      ]
     },
     "execution_count": 5,
     "metadata": {},
     "output_type": "execute_result"
    }
   ],
   "source": [
    "# checking for duplicate value\n",
    "data.duplicated().sum()"
   ]
  },
  {
   "cell_type": "markdown",
   "id": "b4e11ae8",
   "metadata": {},
   "source": [
    "There are no duplicate values"
   ]
  },
  {
   "cell_type": "code",
   "execution_count": 6,
   "id": "c47827bd",
   "metadata": {},
   "outputs": [
    {
     "data": {
      "text/html": [
       "<div>\n",
       "<style scoped>\n",
       "    .dataframe tbody tr th:only-of-type {\n",
       "        vertical-align: middle;\n",
       "    }\n",
       "\n",
       "    .dataframe tbody tr th {\n",
       "        vertical-align: top;\n",
       "    }\n",
       "\n",
       "    .dataframe thead th {\n",
       "        text-align: right;\n",
       "    }\n",
       "</style>\n",
       "<table border=\"1\" class=\"dataframe\">\n",
       "  <thead>\n",
       "    <tr style=\"text-align: right;\">\n",
       "      <th></th>\n",
       "      <th>count</th>\n",
       "      <th>mean</th>\n",
       "      <th>std</th>\n",
       "      <th>min</th>\n",
       "      <th>25%</th>\n",
       "      <th>50%</th>\n",
       "      <th>75%</th>\n",
       "      <th>max</th>\n",
       "    </tr>\n",
       "  </thead>\n",
       "  <tbody>\n",
       "    <tr>\n",
       "      <th>YearsExperience</th>\n",
       "      <td>30.0</td>\n",
       "      <td>5.313333</td>\n",
       "      <td>2.837888</td>\n",
       "      <td>1.1</td>\n",
       "      <td>3.20</td>\n",
       "      <td>4.7</td>\n",
       "      <td>7.70</td>\n",
       "      <td>10.5</td>\n",
       "    </tr>\n",
       "    <tr>\n",
       "      <th>Salary</th>\n",
       "      <td>30.0</td>\n",
       "      <td>76003.000000</td>\n",
       "      <td>27414.429785</td>\n",
       "      <td>37731.0</td>\n",
       "      <td>56720.75</td>\n",
       "      <td>65237.0</td>\n",
       "      <td>100544.75</td>\n",
       "      <td>122391.0</td>\n",
       "    </tr>\n",
       "  </tbody>\n",
       "</table>\n",
       "</div>"
      ],
      "text/plain": [
       "                 count          mean           std      min       25%  \\\n",
       "YearsExperience   30.0      5.313333      2.837888      1.1      3.20   \n",
       "Salary            30.0  76003.000000  27414.429785  37731.0  56720.75   \n",
       "\n",
       "                     50%        75%       max  \n",
       "YearsExperience      4.7       7.70      10.5  \n",
       "Salary           65237.0  100544.75  122391.0  "
      ]
     },
     "execution_count": 6,
     "metadata": {},
     "output_type": "execute_result"
    }
   ],
   "source": [
    "# Descriptive statistics of the dataset\n",
    "data.describe().T"
   ]
  },
  {
   "cell_type": "code",
   "execution_count": 7,
   "id": "42e71822",
   "metadata": {},
   "outputs": [
    {
     "name": "stdout",
     "output_type": "stream",
     "text": [
      "<class 'pandas.core.frame.DataFrame'>\n",
      "RangeIndex: 30 entries, 0 to 29\n",
      "Data columns (total 2 columns):\n",
      " #   Column           Non-Null Count  Dtype  \n",
      "---  ------           --------------  -----  \n",
      " 0   YearsExperience  30 non-null     float64\n",
      " 1   Salary           30 non-null     float64\n",
      "dtypes: float64(2)\n",
      "memory usage: 608.0 bytes\n"
     ]
    }
   ],
   "source": [
    "# Info of the dataset\n",
    "data.info()"
   ]
  },
  {
   "cell_type": "code",
   "execution_count": 8,
   "id": "212fdd27",
   "metadata": {
    "scrolled": false
   },
   "outputs": [
    {
     "data": {
      "image/png": "[encoded data removed]",
      "text/plain": [
       "<Figure size 432x288 with 1 Axes>"
      ]
     },
     "metadata": {
      "needs_background": "light"
     },
     "output_type": "display_data"
    },
    {
     "data": {
      "image/png": "[encoded data removed]",
      "text/plain": [
       "<Figure size 432x288 with 1 Axes>"
      ]
     },
     "metadata": {
      "needs_background": "light"
     },
     "output_type": "display_data"
    }
   ],
   "source": [
    "# Plotting histogram to check distribution of the features\n",
    "sns.histplot(data['YearsExperience'],kde=1);plt.show()\n",
    "sns.histplot(data['Salary'],kde=1);plt.show()"
   ]
  },
  {
   "cell_type": "markdown",
   "id": "d2d3ef0e",
   "metadata": {},
   "source": [
    "The data is normal slightly right skewed"
   ]
  },
  {
   "cell_type": "code",
   "execution_count": 9,
   "id": "424a469d",
   "metadata": {},
   "outputs": [
    {
     "data": {
      "image/png": "[encoded data removed]",
      "text/plain": [
       "<Figure size 432x288 with 1 Axes>"
      ]
     },
     "metadata": {
      "needs_background": "light"
     },
     "output_type": "display_data"
    },
    {
     "data": {
      "image/png": "[encoded data removed]",
      "text/plain": [
       "<Figure size 432x288 with 1 Axes>"
      ]
     },
     "metadata": {
      "needs_background": "light"
     },
     "output_type": "display_data"
    }
   ],
   "source": [
    "# Checking for outliers\n",
    "sns.boxplot(x = data.Salary);plt.show()\n",
    "sns.boxplot(x = data.YearsExperience);plt.show()"
   ]
  },
  {
   "cell_type": "markdown",
   "id": "1584e176",
   "metadata": {},
   "source": [
    "There are no outliers in the dataset"
   ]
  },
  {
   "cell_type": "code",
   "execution_count": 10,
   "id": "8a02a3d1",
   "metadata": {},
   "outputs": [
    {
     "data": {
      "text/plain": [
       "<AxesSubplot:xlabel='YearsExperience', ylabel='Salary'>"
      ]
     },
     "execution_count": 10,
     "metadata": {},
     "output_type": "execute_result"
    },
    {
     "data": {
      "image/png": "[encoded data removed]",
      "text/plain": [
       "<Figure size 432x288 with 1 Axes>"
      ]
     },
     "metadata": {
      "needs_background": "light"
     },
     "output_type": "display_data"
    }
   ],
   "source": [
    "sns.scatterplot(y = data['Salary'], x = data['YearsExperience'])"
   ]
  },
  {
   "cell_type": "code",
   "execution_count": 11,
   "id": "9bef129e",
   "metadata": {},
   "outputs": [
    {
     "data": {
      "text/html": [
       "<div>\n",
       "<style scoped>\n",
       "    .dataframe tbody tr th:only-of-type {\n",
       "        vertical-align: middle;\n",
       "    }\n",
       "\n",
       "    .dataframe tbody tr th {\n",
       "        vertical-align: top;\n",
       "    }\n",
       "\n",
       "    .dataframe thead th {\n",
       "        text-align: right;\n",
       "    }\n",
       "</style>\n",
       "<table border=\"1\" class=\"dataframe\">\n",
       "  <thead>\n",
       "    <tr style=\"text-align: right;\">\n",
       "      <th></th>\n",
       "      <th>YearsExperience</th>\n",
       "      <th>Salary</th>\n",
       "    </tr>\n",
       "  </thead>\n",
       "  <tbody>\n",
       "    <tr>\n",
       "      <th>YearsExperience</th>\n",
       "      <td>1.000000</td>\n",
       "      <td>0.978242</td>\n",
       "    </tr>\n",
       "    <tr>\n",
       "      <th>Salary</th>\n",
       "      <td>0.978242</td>\n",
       "      <td>1.000000</td>\n",
       "    </tr>\n",
       "  </tbody>\n",
       "</table>\n",
       "</div>"
      ],
      "text/plain": [
       "                 YearsExperience    Salary\n",
       "YearsExperience         1.000000  0.978242\n",
       "Salary                  0.978242  1.000000"
      ]
     },
     "execution_count": 11,
     "metadata": {},
     "output_type": "execute_result"
    }
   ],
   "source": [
    "# Correlation between the features\n",
    "data.corr()"
   ]
  },
  {
   "cell_type": "markdown",
   "id": "8e5f60b3",
   "metadata": {},
   "source": [
    "There is high correlation between the two features Salary and Years Experience"
   ]
  },
  {
   "cell_type": "markdown",
   "id": "a4307b6f",
   "metadata": {},
   "source": [
    "# MODEL 1"
   ]
  },
  {
   "cell_type": "code",
   "execution_count": 12,
   "id": "c8539774",
   "metadata": {},
   "outputs": [],
   "source": [
    "# importing statsmodels for Simple Linear Regression\n",
    "\n",
    "import statsmodels.formula.api as smf\n",
    "\n",
    "model = smf.ols('Salary ~ YearsExperience',data = data).fit()    # fiting the data to OLS model"
   ]
  },
  {
   "cell_type": "code",
   "execution_count": 13,
   "id": "9cb8aeb9",
   "metadata": {},
   "outputs": [
    {
     "data": {
      "text/html": [
       "<table class=\"simpletable\">\n",
       "<caption>OLS Regression Results</caption>\n",
       "<tr>\n",
       "  <th>Dep. Variable:</th>         <td>Salary</td>      <th>  R-squared:         </th> <td>   0.957</td>\n",
       "</tr>\n",
       "<tr>\n",
       "  <th>Model:</th>                   <td>OLS</td>       <th>  Adj. R-squared:    </th> <td>   0.955</td>\n",
       "</tr>\n",
       "<tr>\n",
       "  <th>Method:</th>             <td>Least Squares</td>  <th>  F-statistic:       </th> <td>   622.5</td>\n",
       "</tr>\n",
       "<tr>\n",
       "  <th>Date:</th>             <td>Thu, 28 Jul 2022</td> <th>  Prob (F-statistic):</th> <td>1.14e-20</td>\n",
       "</tr>\n",
       "<tr>\n",
       "  <th>Time:</th>                 <td>11:52:52</td>     <th>  Log-Likelihood:    </th> <td> -301.44</td>\n",
       "</tr>\n",
       "<tr>\n",
       "  <th>No. Observations:</th>      <td>    30</td>      <th>  AIC:               </th> <td>   606.9</td>\n",
       "</tr>\n",
       "<tr>\n",
       "  <th>Df Residuals:</th>          <td>    28</td>      <th>  BIC:               </th> <td>   609.7</td>\n",
       "</tr>\n",
       "<tr>\n",
       "  <th>Df Model:</th>              <td>     1</td>      <th>                     </th>     <td> </td>   \n",
       "</tr>\n",
       "<tr>\n",
       "  <th>Covariance Type:</th>      <td>nonrobust</td>    <th>                     </th>     <td> </td>   \n",
       "</tr>\n",
       "</table>\n",
       "<table class=\"simpletable\">\n",
       "<tr>\n",
       "         <td></td>            <th>coef</th>     <th>std err</th>      <th>t</th>      <th>P>|t|</th>  <th>[0.025</th>    <th>0.975]</th>  \n",
       "</tr>\n",
       "<tr>\n",
       "  <th>Intercept</th>       <td> 2.579e+04</td> <td> 2273.053</td> <td>   11.347</td> <td> 0.000</td> <td> 2.11e+04</td> <td> 3.04e+04</td>\n",
       "</tr>\n",
       "<tr>\n",
       "  <th>YearsExperience</th> <td> 9449.9623</td> <td>  378.755</td> <td>   24.950</td> <td> 0.000</td> <td> 8674.119</td> <td> 1.02e+04</td>\n",
       "</tr>\n",
       "</table>\n",
       "<table class=\"simpletable\">\n",
       "<tr>\n",
       "  <th>Omnibus:</th>       <td> 2.140</td> <th>  Durbin-Watson:     </th> <td>   1.648</td>\n",
       "</tr>\n",
       "<tr>\n",
       "  <th>Prob(Omnibus):</th> <td> 0.343</td> <th>  Jarque-Bera (JB):  </th> <td>   1.569</td>\n",
       "</tr>\n",
       "<tr>\n",
       "  <th>Skew:</th>          <td> 0.363</td> <th>  Prob(JB):          </th> <td>   0.456</td>\n",
       "</tr>\n",
       "<tr>\n",
       "  <th>Kurtosis:</th>      <td> 2.147</td> <th>  Cond. No.          </th> <td>    13.2</td>\n",
       "</tr>\n",
       "</table><br/><br/>Notes:<br/>[1] Standard Errors assume that the covariance matrix of the errors is correctly specified."
      ],
      "text/plain": [
       "<class 'statsmodels.iolib.summary.Summary'>\n",
       "\"\"\"\n",
       "                            OLS Regression Results                            \n",
       "==============================================================================\n",
       "Dep. Variable:                 Salary   R-squared:                       0.957\n",
       "Model:                            OLS   Adj. R-squared:                  0.955\n",
       "Method:                 Least Squares   F-statistic:                     622.5\n",
       "Date:                Thu, 28 Jul 2022   Prob (F-statistic):           1.14e-20\n",
       "Time:                        11:52:52   Log-Likelihood:                -301.44\n",
       "No. Observations:                  30   AIC:                             606.9\n",
       "Df Residuals:                      28   BIC:                             609.7\n",
       "Df Model:                           1                                         \n",
       "Covariance Type:            nonrobust                                         \n",
       "===================================================================================\n",
       "                      coef    std err          t      P>|t|      [0.025      0.975]\n",
       "-----------------------------------------------------------------------------------\n",
       "Intercept        2.579e+04   2273.053     11.347      0.000    2.11e+04    3.04e+04\n",
       "YearsExperience  9449.9623    378.755     24.950      0.000    8674.119    1.02e+04\n",
       "==============================================================================\n",
       "Omnibus:                        2.140   Durbin-Watson:                   1.648\n",
       "Prob(Omnibus):                  0.343   Jarque-Bera (JB):                1.569\n",
       "Skew:                           0.363   Prob(JB):                        0.456\n",
       "Kurtosis:                       2.147   Cond. No.                         13.2\n",
       "==============================================================================\n",
       "\n",
       "Notes:\n",
       "[1] Standard Errors assume that the covariance matrix of the errors is correctly specified.\n",
       "\"\"\""
      ]
     },
     "execution_count": 13,
     "metadata": {},
     "output_type": "execute_result"
    }
   ],
   "source": [
    "# Summary of the model\n",
    "\n",
    "model.summary()"
   ]
  },
  {
   "cell_type": "markdown",
   "id": "4b7406e2",
   "metadata": {},
   "source": [
    "We get an R-squared value of 0.957"
   ]
  },
  {
   "cell_type": "code",
   "execution_count": 14,
   "id": "12b6c2f2",
   "metadata": {
    "scrolled": true
   },
   "outputs": [
    {
     "data": {
      "text/plain": [
       "0      36187.158752\n",
       "1      38077.151217\n",
       "2      39967.143681\n",
       "3      44692.124842\n",
       "4      46582.117306\n",
       "5      53197.090931\n",
       "6      54142.087163\n",
       "7      56032.079627\n",
       "8      56032.079627\n",
       "9      60757.060788\n",
       "10     62647.053252\n",
       "11     63592.049484\n",
       "12     63592.049484\n",
       "13     64537.045717\n",
       "14     68317.030645\n",
       "15     72097.015574\n",
       "16     73987.008038\n",
       "17     75877.000502\n",
       "18     81546.977895\n",
       "19     82491.974127\n",
       "20     90051.943985\n",
       "21     92886.932681\n",
       "22    100446.902538\n",
       "23    103281.891235\n",
       "24    108006.872395\n",
       "25    110841.861092\n",
       "26    115566.842252\n",
       "27    116511.838485\n",
       "28    123126.812110\n",
       "29    125016.804574\n",
       "dtype: float64"
      ]
     },
     "execution_count": 14,
     "metadata": {},
     "output_type": "execute_result"
    }
   ],
   "source": [
    "# Predicting the Weight based on the model \n",
    "pred1 = model.predict(data.YearsExperience)\n",
    "pred1"
   ]
  },
  {
   "cell_type": "code",
   "execution_count": 15,
   "id": "14227dbb",
   "metadata": {},
   "outputs": [
    {
     "name": "stdout",
     "output_type": "stream",
     "text": [
      "\n",
      "R-Squared value for model 1 : 0.9569566641435086\n",
      "\n",
      "RMSE for model 1 : 5592.043608760661\n"
     ]
    }
   ],
   "source": [
    "# RMSE Error calculation (Model-1)\n",
    "\n",
    "res1 = data.Salary - pred1\n",
    "rmse1 = np.sqrt(np.mean(res1 * res1))\n",
    "\n",
    "r_sqared1 = model.rsquared  \n",
    "print(f'\\nR-Squared value for model 1 : {r_sqared1}')\n",
    "print(f'\\nRMSE for model 1 : {rmse1}')"
   ]
  },
  {
   "cell_type": "markdown",
   "id": "34afa948",
   "metadata": {},
   "source": [
    "# MODEL 2"
   ]
  },
  {
   "cell_type": "markdown",
   "id": "8c42f114",
   "metadata": {},
   "source": [
    "Using log of x"
   ]
  },
  {
   "cell_type": "code",
   "execution_count": 16,
   "id": "e181cf9b",
   "metadata": {},
   "outputs": [
    {
     "name": "stdout",
     "output_type": "stream",
     "text": [
      "                            OLS Regression Results                            \n",
      "==============================================================================\n",
      "Dep. Variable:                 Salary   R-squared:                       0.854\n",
      "Model:                            OLS   Adj. R-squared:                  0.849\n",
      "Method:                 Least Squares   F-statistic:                     163.6\n",
      "Date:                Thu, 28 Jul 2022   Prob (F-statistic):           3.25e-13\n",
      "Time:                        11:52:52   Log-Likelihood:                -319.77\n",
      "No. Observations:                  30   AIC:                             643.5\n",
      "Df Residuals:                      28   BIC:                             646.3\n",
      "Df Model:                           1                                         \n",
      "Covariance Type:            nonrobust                                         \n",
      "===========================================================================================\n",
      "                              coef    std err          t      P>|t|      [0.025      0.975]\n",
      "-------------------------------------------------------------------------------------------\n",
      "Intercept                1.493e+04   5156.226      2.895      0.007    4365.921    2.55e+04\n",
      "np.log(YearsExperience)  4.058e+04   3172.453     12.792      0.000    3.41e+04    4.71e+04\n",
      "==============================================================================\n",
      "Omnibus:                        1.094   Durbin-Watson:                   0.512\n",
      "Prob(Omnibus):                  0.579   Jarque-Bera (JB):                0.908\n",
      "Skew:                           0.156   Prob(JB):                        0.635\n",
      "Kurtosis:                       2.207   Cond. No.                         5.76\n",
      "==============================================================================\n",
      "\n",
      "Notes:\n",
      "[1] Standard Errors assume that the covariance matrix of the errors is correctly specified.\n",
      "\n",
      "R-Squared value for model 2 : 0.8538888828756969\n",
      "\n",
      "RMSE for model 2 : 10302.893706228308\n"
     ]
    }
   ],
   "source": [
    "model2 = smf.ols('Salary ~ np.log(YearsExperience)',data = data).fit()\n",
    "summary2 = model2.summary() ; print(summary2)                    # Model summary \n",
    "r_sqared2 = model2.rsquared                                      # Model r-squared value\n",
    "\n",
    "pred2 = model2.predict(data.YearsExperience)                            # Using the model to predict \n",
    "\n",
    "res2 = data.Salary - pred2                                       # Calculating Error between actual and predicted \n",
    "rmse2 = np.sqrt(np.mean(res2 * res2))\n",
    "print(f'\\nR-Squared value for model 2 : {r_sqared2}')\n",
    "print(f'\\nRMSE for model 2 : {rmse2}')"
   ]
  },
  {
   "cell_type": "markdown",
   "id": "13c260bf",
   "metadata": {},
   "source": [
    "# MODEL 3"
   ]
  },
  {
   "cell_type": "markdown",
   "id": "9ee0f396",
   "metadata": {},
   "source": [
    "Using log of y and log of x"
   ]
  },
  {
   "cell_type": "code",
   "execution_count": 17,
   "id": "232d16af",
   "metadata": {},
   "outputs": [
    {
     "name": "stdout",
     "output_type": "stream",
     "text": [
      "                            OLS Regression Results                            \n",
      "==============================================================================\n",
      "Dep. Variable:         np.log(Salary)   R-squared:                       0.905\n",
      "Model:                            OLS   Adj. R-squared:                  0.902\n",
      "Method:                 Least Squares   F-statistic:                     267.4\n",
      "Date:                Thu, 28 Jul 2022   Prob (F-statistic):           7.40e-16\n",
      "Time:                        11:52:52   Log-Likelihood:                 23.209\n",
      "No. Observations:                  30   AIC:                            -42.42\n",
      "Df Residuals:                      28   BIC:                            -39.61\n",
      "Df Model:                           1                                         \n",
      "Covariance Type:            nonrobust                                         \n",
      "===========================================================================================\n",
      "                              coef    std err          t      P>|t|      [0.025      0.975]\n",
      "-------------------------------------------------------------------------------------------\n",
      "Intercept                  10.3280      0.056    184.868      0.000      10.214      10.442\n",
      "np.log(YearsExperience)     0.5621      0.034     16.353      0.000       0.492       0.632\n",
      "==============================================================================\n",
      "Omnibus:                        0.102   Durbin-Watson:                   0.988\n",
      "Prob(Omnibus):                  0.950   Jarque-Bera (JB):                0.297\n",
      "Skew:                           0.093   Prob(JB):                        0.862\n",
      "Kurtosis:                       2.549   Cond. No.                         5.76\n",
      "==============================================================================\n",
      "\n",
      "Notes:\n",
      "[1] Standard Errors assume that the covariance matrix of the errors is correctly specified.\n",
      "\n",
      "R-Squared value for model 3 : 0.9052150725817149\n",
      "\n",
      "RMSE for model 3 : 7219.716974372802\n"
     ]
    }
   ],
   "source": [
    "model3 = smf.ols('np.log(Salary) ~ np.log(YearsExperience)',data = data).fit()\n",
    "summary3 = model3.summary() ; print(summary3)                    # Model summary \n",
    "r_sqared3 = model3.rsquared                                      # Model r-squared value\n",
    "\n",
    "pred3 = np.exp(model3.predict(data.YearsExperience))                       # Using the model to predict \n",
    "\n",
    "res3 = data.Salary - pred3                                       # Calculating Error between actual and predicted \n",
    "rmse3 = np.sqrt(np.mean(res3 * res3))\n",
    "print(f'\\nR-Squared value for model 3 : {r_sqared3}')\n",
    "print(f'\\nRMSE for model 3 : {rmse3}')"
   ]
  },
  {
   "cell_type": "markdown",
   "id": "46d30c4b",
   "metadata": {},
   "source": [
    "# MODEL 4"
   ]
  },
  {
   "cell_type": "markdown",
   "id": "9b2beb16",
   "metadata": {},
   "source": [
    "Using polynomial relationship between x and y"
   ]
  },
  {
   "cell_type": "code",
   "execution_count": 18,
   "id": "13c25242",
   "metadata": {
    "scrolled": false
   },
   "outputs": [
    {
     "name": "stdout",
     "output_type": "stream",
     "text": [
      "                            OLS Regression Results                            \n",
      "==============================================================================\n",
      "Dep. Variable:         np.log(Salary)   R-squared:                       0.949\n",
      "Model:                            OLS   Adj. R-squared:                  0.945\n",
      "Method:                 Least Squares   F-statistic:                     249.2\n",
      "Date:                Thu, 28 Jul 2022   Prob (F-statistic):           3.95e-18\n",
      "Time:                        11:52:52   Log-Likelihood:                 32.391\n",
      "No. Observations:                  30   AIC:                            -58.78\n",
      "Df Residuals:                      27   BIC:                            -54.58\n",
      "Df Model:                           2                                         \n",
      "Covariance Type:            nonrobust                                         \n",
      "========================================================================================================\n",
      "                                           coef    std err          t      P>|t|      [0.025      0.975]\n",
      "--------------------------------------------------------------------------------------------------------\n",
      "Intercept                               10.3369      0.067    154.368      0.000      10.199      10.474\n",
      "YearsExperience                          0.2024      0.027      7.601      0.000       0.148       0.257\n",
      "I(YearsExperience * YearsExperience)    -0.0066      0.002     -2.957      0.006      -0.011      -0.002\n",
      "==============================================================================\n",
      "Omnibus:                        1.099   Durbin-Watson:                   1.845\n",
      "Prob(Omnibus):                  0.577   Jarque-Bera (JB):                1.002\n",
      "Skew:                           0.260   Prob(JB):                        0.606\n",
      "Kurtosis:                       2.271   Cond. No.                         223.\n",
      "==============================================================================\n",
      "\n",
      "Notes:\n",
      "[1] Standard Errors assume that the covariance matrix of the errors is correctly specified.\n",
      "\n",
      "R-Squared value for model 4 : 0.948610863848735\n",
      "\n",
      "RMSE for model 4 : 5391.081582693624\n"
     ]
    }
   ],
   "source": [
    "model4 = smf.ols('np.log(Salary) ~ YearsExperience + I(YearsExperience*YearsExperience)',data = data).fit()\n",
    "summary4 = model4.summary() ; print(summary4)                    # Model summary \n",
    "r_sqared4 = model4.rsquared                                      # Model r-squared value\n",
    "\n",
    "pred4 = np.exp(model4.predict(data.YearsExperience))                       # Using the model to predict \n",
    "\n",
    "res4 = data.Salary - pred4                                       # Calculating Error between actual and predicted \n",
    "rmse4 = np.sqrt(np.mean(res4 * res4))\n",
    "print(f'\\nR-Squared value for model 4 : {r_sqared4}')\n",
    "print(f'\\nRMSE for model 4 : {rmse4}')"
   ]
  },
  {
   "cell_type": "markdown",
   "id": "e265cb55",
   "metadata": {},
   "source": [
    "# MODEL 5"
   ]
  },
  {
   "cell_type": "markdown",
   "id": "602154a6",
   "metadata": {},
   "source": [
    "Using log of y with x"
   ]
  },
  {
   "cell_type": "code",
   "execution_count": 19,
   "id": "934191b8",
   "metadata": {},
   "outputs": [
    {
     "name": "stdout",
     "output_type": "stream",
     "text": [
      "                            OLS Regression Results                            \n",
      "==============================================================================\n",
      "Dep. Variable:         np.log(Salary)   R-squared:                       0.932\n",
      "Model:                            OLS   Adj. R-squared:                  0.930\n",
      "Method:                 Least Squares   F-statistic:                     383.6\n",
      "Date:                Thu, 28 Jul 2022   Prob (F-statistic):           7.03e-18\n",
      "Time:                        11:52:52   Log-Likelihood:                 28.183\n",
      "No. Observations:                  30   AIC:                            -52.37\n",
      "Df Residuals:                      28   BIC:                            -49.56\n",
      "Df Model:                           1                                         \n",
      "Covariance Type:            nonrobust                                         \n",
      "===================================================================================\n",
      "                      coef    std err          t      P>|t|      [0.025      0.975]\n",
      "-----------------------------------------------------------------------------------\n",
      "Intercept          10.5074      0.038    273.327      0.000      10.429      10.586\n",
      "YearsExperience     0.1255      0.006     19.585      0.000       0.112       0.139\n",
      "==============================================================================\n",
      "Omnibus:                        0.826   Durbin-Watson:                   1.438\n",
      "Prob(Omnibus):                  0.661   Jarque-Bera (JB):                0.812\n",
      "Skew:                           0.187   Prob(JB):                        0.666\n",
      "Kurtosis:                       2.286   Cond. No.                         13.2\n",
      "==============================================================================\n",
      "\n",
      "Notes:\n",
      "[1] Standard Errors assume that the covariance matrix of the errors is correctly specified.\n",
      "\n",
      "R-Squared value for model 5 : 0.9319671194084195\n",
      "\n",
      "RMSE for model 5 : 7213.235076620129\n"
     ]
    }
   ],
   "source": [
    "model5 = smf.ols('np.log(Salary) ~ YearsExperience',data = data).fit()\n",
    "summary5 = model5.summary() ; print(summary5)                    # Model summary \n",
    "r_sqared5 = model5.rsquared                                      # Model r-squared value\n",
    "\n",
    "pred5 = np.exp(model5.predict(data.YearsExperience))                       # Using the model to predict \n",
    "\n",
    "res5 = data.Salary - pred5                                       # Calculating Error between actual and predicted \n",
    "rmse5 = np.sqrt(np.mean(res5 * res5))\n",
    "print(f'\\nR-Squared value for model 5 : {r_sqared5}')\n",
    "print(f'\\nRMSE for model 5 : {rmse5}')"
   ]
  },
  {
   "cell_type": "code",
   "execution_count": 20,
   "id": "867637da",
   "metadata": {},
   "outputs": [
    {
     "data": {
      "text/html": [
       "<div>\n",
       "<style scoped>\n",
       "    .dataframe tbody tr th:only-of-type {\n",
       "        vertical-align: middle;\n",
       "    }\n",
       "\n",
       "    .dataframe tbody tr th {\n",
       "        vertical-align: top;\n",
       "    }\n",
       "\n",
       "    .dataframe thead th {\n",
       "        text-align: right;\n",
       "    }\n",
       "</style>\n",
       "<table border=\"1\" class=\"dataframe\">\n",
       "  <thead>\n",
       "    <tr style=\"text-align: right;\">\n",
       "      <th></th>\n",
       "      <th>R-Squared</th>\n",
       "      <th>RMSE</th>\n",
       "    </tr>\n",
       "  </thead>\n",
       "  <tbody>\n",
       "    <tr>\n",
       "      <th>Model_1</th>\n",
       "      <td>0.956957</td>\n",
       "      <td>5592.043609</td>\n",
       "    </tr>\n",
       "    <tr>\n",
       "      <th>Model_2</th>\n",
       "      <td>0.853889</td>\n",
       "      <td>10302.893706</td>\n",
       "    </tr>\n",
       "    <tr>\n",
       "      <th>Model_3</th>\n",
       "      <td>0.905215</td>\n",
       "      <td>7219.716974</td>\n",
       "    </tr>\n",
       "    <tr>\n",
       "      <th>Model_4</th>\n",
       "      <td>0.948611</td>\n",
       "      <td>5391.081583</td>\n",
       "    </tr>\n",
       "    <tr>\n",
       "      <th>Model_5</th>\n",
       "      <td>0.931967</td>\n",
       "      <td>7213.235077</td>\n",
       "    </tr>\n",
       "  </tbody>\n",
       "</table>\n",
       "</div>"
      ],
      "text/plain": [
       "         R-Squared          RMSE\n",
       "Model_1   0.956957   5592.043609\n",
       "Model_2   0.853889  10302.893706\n",
       "Model_3   0.905215   7219.716974\n",
       "Model_4   0.948611   5391.081583\n",
       "Model_5   0.931967   7213.235077"
      ]
     },
     "execution_count": 20,
     "metadata": {},
     "output_type": "execute_result"
    }
   ],
   "source": [
    "# Comparing R-squared and error for each model\n",
    "\n",
    "results = pd.DataFrame([],index =['R-Squared', 'RMSE'])\n",
    "results['Model_1'] = r_sqared1, rmse1\n",
    "results['Model_2'] = r_sqared2, rmse2\n",
    "results['Model_3'] = r_sqared3, rmse3\n",
    "results['Model_4'] = r_sqared4, rmse4\n",
    "results['Model_5'] = r_sqared5, rmse5\n",
    "results.T"
   ]
  },
  {
   "cell_type": "markdown",
   "id": "7f37715c",
   "metadata": {},
   "source": [
    "Model_1 with no transformations is the best model with the highest R-squared value and has low RMSE"
   ]
  },
  {
   "cell_type": "code",
   "execution_count": 21,
   "id": "d31667df",
   "metadata": {},
   "outputs": [],
   "source": [
    "# Using train test split\n",
    "\n",
    "from sklearn import model_selection\n",
    "\n",
    "train, test = model_selection.train_test_split(data, test_size = 0.2)"
   ]
  },
  {
   "cell_type": "code",
   "execution_count": 22,
   "id": "750f815e",
   "metadata": {},
   "outputs": [],
   "source": [
    "# Using the best model (Model_1)\n",
    "# Fitting the train data to the model\n",
    "\n",
    "best_model = smf.ols('Salary ~ YearsExperience',data = train).fit()"
   ]
  },
  {
   "cell_type": "code",
   "execution_count": 23,
   "id": "66c45709",
   "metadata": {},
   "outputs": [
    {
     "data": {
      "text/plain": [
       "11    63543.764410\n",
       "1     37611.597754\n",
       "16    74108.721196\n",
       "15    72187.819962\n",
       "6     53939.258241\n",
       "10    62583.313793\n",
       "dtype: float64"
      ]
     },
     "execution_count": 23,
     "metadata": {},
     "output_type": "execute_result"
    }
   ],
   "source": [
    "# Predicting for test data\n",
    "best_pred_test = best_model.predict(test.YearsExperience)\n",
    "best_pred_test"
   ]
  },
  {
   "cell_type": "code",
   "execution_count": 24,
   "id": "c61d4e81",
   "metadata": {},
   "outputs": [
    {
     "name": "stdout",
     "output_type": "stream",
     "text": [
      "\n",
      "R-Squared value for test data : 0.9647616521601132\n",
      "\n",
      "RMSE for test data : 6534.835048352823\n"
     ]
    }
   ],
   "source": [
    "# RMSE Error calculation for test data\n",
    "\n",
    "res_test = test.Salary - best_pred_test\n",
    "rmse_test = np.sqrt(np.mean(res_test * res_test))\n",
    "\n",
    "r_sqared_test = best_model.rsquared  \n",
    "print(f'\\nR-Squared value for test data : {r_sqared_test}')\n",
    "print(f'\\nRMSE for test data : {rmse_test}')"
   ]
  },
  {
   "cell_type": "code",
   "execution_count": 25,
   "id": "fcf25243",
   "metadata": {},
   "outputs": [
    {
     "name": "stdout",
     "output_type": "stream",
     "text": [
      "\n",
      "R-Squared value for train data : 0.9647616521601132\n",
      "\n",
      "RMSE for train data : 5354.904724184436\n"
     ]
    }
   ],
   "source": [
    "# Predicting for train data\n",
    "best_pred_train = best_model.predict(train.YearsExperience)\n",
    "\n",
    "# RMSE Error calculation for train data\n",
    "\n",
    "res_train = train.Salary - best_pred_train\n",
    "rmse_train = np.sqrt(np.mean(res_train * res_train))\n",
    "\n",
    "r_sqared_train = best_model.rsquared  \n",
    "print(f'\\nR-Squared value for train data : {r_sqared_train}')\n",
    "print(f'\\nRMSE for train data : {rmse_train}')"
   ]
  },
  {
   "cell_type": "markdown",
   "id": "96089c60",
   "metadata": {},
   "source": [
    "The train and test data have the same rsquared value and very low RMSE values.\n",
    "\n",
    "The base model_1 gives a good relationship between Years Experienced and the Salary Hike given"
   ]
  }
 ],
 "metadata": {
  "kernelspec": {
   "display_name": "Python 3 (ipykernel)",
   "language": "python",
   "name": "python3"
  },
  "language_info": {
   "codemirror_mode": {
    "name": "ipython",
    "version": 3
   },
   "file_extension": ".py",
   "mimetype": "text/x-python",
   "name": "python",
   "nbconvert_exporter": "python",
   "pygments_lexer": "ipython3",
   "version": "3.9.12"
  }
 },
 "nbformat": 4,
 "nbformat_minor": 5
}
