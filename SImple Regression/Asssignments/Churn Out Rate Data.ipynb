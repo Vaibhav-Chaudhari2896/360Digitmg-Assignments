{
 "cells": [
  {
   "cell_type": "markdown",
   "id": "4ffcc7f8",
   "metadata": {},
   "source": [
    "A certain organization wants an early estimate of their employee churn out rate. So the HR department gathered the data regarding the employee’s salary hike and the churn out rate in a financial year. The analytics team will have to perform an analysis and predict an estimate of employee churn based on the salary hike. Build a Simple Linear Regression model with churn out rate as the target variable. Apply necessary transformations and record the RMSE and correlation coefficient values for different models."
   ]
  },
  {
   "cell_type": "code",
   "execution_count": 1,
   "id": "f3215fc2",
   "metadata": {},
   "outputs": [],
   "source": [
    "# Importing libraries\n",
    "\n",
    "import pandas as pd\n",
    "import numpy as np \n",
    "import matplotlib.pyplot as plt\n",
    "import seaborn as sns\n",
    "import sklearn \n",
    "import scipy\n",
    "import warnings\n",
    "warnings.filterwarnings(action='ignore',category=UserWarning)"
   ]
  },
  {
   "cell_type": "code",
   "execution_count": 2,
   "id": "600203e4",
   "metadata": {},
   "outputs": [
    {
     "data": {
      "text/html": [
       "<div>\n",
       "<style scoped>\n",
       "    .dataframe tbody tr th:only-of-type {\n",
       "        vertical-align: middle;\n",
       "    }\n",
       "\n",
       "    .dataframe tbody tr th {\n",
       "        vertical-align: top;\n",
       "    }\n",
       "\n",
       "    .dataframe thead th {\n",
       "        text-align: right;\n",
       "    }\n",
       "</style>\n",
       "<table border=\"1\" class=\"dataframe\">\n",
       "  <thead>\n",
       "    <tr style=\"text-align: right;\">\n",
       "      <th></th>\n",
       "      <th>Salary_hike</th>\n",
       "      <th>Churn_out_rate</th>\n",
       "    </tr>\n",
       "  </thead>\n",
       "  <tbody>\n",
       "    <tr>\n",
       "      <th>0</th>\n",
       "      <td>1580</td>\n",
       "      <td>92</td>\n",
       "    </tr>\n",
       "    <tr>\n",
       "      <th>1</th>\n",
       "      <td>1600</td>\n",
       "      <td>85</td>\n",
       "    </tr>\n",
       "    <tr>\n",
       "      <th>2</th>\n",
       "      <td>1610</td>\n",
       "      <td>80</td>\n",
       "    </tr>\n",
       "    <tr>\n",
       "      <th>3</th>\n",
       "      <td>1640</td>\n",
       "      <td>75</td>\n",
       "    </tr>\n",
       "    <tr>\n",
       "      <th>4</th>\n",
       "      <td>1660</td>\n",
       "      <td>72</td>\n",
       "    </tr>\n",
       "  </tbody>\n",
       "</table>\n",
       "</div>"
      ],
      "text/plain": [
       "   Salary_hike  Churn_out_rate\n",
       "0         1580              92\n",
       "1         1600              85\n",
       "2         1610              80\n",
       "3         1640              75\n",
       "4         1660              72"
      ]
     },
     "execution_count": 2,
     "metadata": {},
     "output_type": "execute_result"
    }
   ],
   "source": [
    "# Importing dataset\n",
    "data = pd.read_csv('C:/Users/vaibh/Desktop/360 Digitmg/SImple Regression\\Asssignments/emp_data.csv')\n",
    "data.head()"
   ]
  },
  {
   "cell_type": "code",
   "execution_count": 3,
   "id": "1af58256",
   "metadata": {},
   "outputs": [
    {
     "data": {
      "text/plain": [
       "(10, 2)"
      ]
     },
     "execution_count": 3,
     "metadata": {},
     "output_type": "execute_result"
    }
   ],
   "source": [
    "# checking dimensions of the dataset\n",
    "data.shape"
   ]
  },
  {
   "cell_type": "code",
   "execution_count": 4,
   "id": "c7295189",
   "metadata": {},
   "outputs": [
    {
     "data": {
      "text/plain": [
       "Salary_hike       0\n",
       "Churn_out_rate    0\n",
       "dtype: int64"
      ]
     },
     "execution_count": 4,
     "metadata": {},
     "output_type": "execute_result"
    }
   ],
   "source": [
    "# checking for null values\n",
    "data.isnull().sum()"
   ]
  },
  {
   "cell_type": "markdown",
   "id": "d1d86883",
   "metadata": {},
   "source": [
    "There are no null values"
   ]
  },
  {
   "cell_type": "code",
   "execution_count": 5,
   "id": "d7f4683c",
   "metadata": {},
   "outputs": [
    {
     "data": {
      "text/plain": [
       "0"
      ]
     },
     "execution_count": 5,
     "metadata": {},
     "output_type": "execute_result"
    }
   ],
   "source": [
    "# checking for duplicate value\n",
    "data.duplicated().sum()"
   ]
  },
  {
   "cell_type": "markdown",
   "id": "b4e11ae8",
   "metadata": {},
   "source": [
    "There are no duplicate values"
   ]
  },
  {
   "cell_type": "code",
   "execution_count": 6,
   "id": "c47827bd",
   "metadata": {},
   "outputs": [
    {
     "data": {
      "text/html": [
       "<div>\n",
       "<style scoped>\n",
       "    .dataframe tbody tr th:only-of-type {\n",
       "        vertical-align: middle;\n",
       "    }\n",
       "\n",
       "    .dataframe tbody tr th {\n",
       "        vertical-align: top;\n",
       "    }\n",
       "\n",
       "    .dataframe thead th {\n",
       "        text-align: right;\n",
       "    }\n",
       "</style>\n",
       "<table border=\"1\" class=\"dataframe\">\n",
       "  <thead>\n",
       "    <tr style=\"text-align: right;\">\n",
       "      <th></th>\n",
       "      <th>count</th>\n",
       "      <th>mean</th>\n",
       "      <th>std</th>\n",
       "      <th>min</th>\n",
       "      <th>25%</th>\n",
       "      <th>50%</th>\n",
       "      <th>75%</th>\n",
       "      <th>max</th>\n",
       "    </tr>\n",
       "  </thead>\n",
       "  <tbody>\n",
       "    <tr>\n",
       "      <th>Salary_hike</th>\n",
       "      <td>10.0</td>\n",
       "      <td>1688.6</td>\n",
       "      <td>92.096809</td>\n",
       "      <td>1580.0</td>\n",
       "      <td>1617.50</td>\n",
       "      <td>1675.0</td>\n",
       "      <td>1724.00</td>\n",
       "      <td>1870.0</td>\n",
       "    </tr>\n",
       "    <tr>\n",
       "      <th>Churn_out_rate</th>\n",
       "      <td>10.0</td>\n",
       "      <td>72.9</td>\n",
       "      <td>10.257247</td>\n",
       "      <td>60.0</td>\n",
       "      <td>65.75</td>\n",
       "      <td>71.0</td>\n",
       "      <td>78.75</td>\n",
       "      <td>92.0</td>\n",
       "    </tr>\n",
       "  </tbody>\n",
       "</table>\n",
       "</div>"
      ],
      "text/plain": [
       "                count    mean        std     min      25%     50%      75%  \\\n",
       "Salary_hike      10.0  1688.6  92.096809  1580.0  1617.50  1675.0  1724.00   \n",
       "Churn_out_rate   10.0    72.9  10.257247    60.0    65.75    71.0    78.75   \n",
       "\n",
       "                   max  \n",
       "Salary_hike     1870.0  \n",
       "Churn_out_rate    92.0  "
      ]
     },
     "execution_count": 6,
     "metadata": {},
     "output_type": "execute_result"
    }
   ],
   "source": [
    "# Descriptive statistics of the dataset\n",
    "data.describe().T"
   ]
  },
  {
   "cell_type": "code",
   "execution_count": 7,
   "id": "42e71822",
   "metadata": {},
   "outputs": [
    {
     "name": "stdout",
     "output_type": "stream",
     "text": [
      "<class 'pandas.core.frame.DataFrame'>\n",
      "RangeIndex: 10 entries, 0 to 9\n",
      "Data columns (total 2 columns):\n",
      " #   Column          Non-Null Count  Dtype\n",
      "---  ------          --------------  -----\n",
      " 0   Salary_hike     10 non-null     int64\n",
      " 1   Churn_out_rate  10 non-null     int64\n",
      "dtypes: int64(2)\n",
      "memory usage: 288.0 bytes\n"
     ]
    }
   ],
   "source": [
    "# Info of the dataset\n",
    "data.info()"
   ]
  },
  {
   "cell_type": "code",
   "execution_count": 8,
   "id": "212fdd27",
   "metadata": {
    "scrolled": false
   },
   "outputs": [
    {
     "data": {
      "image/png": "[encoded data removed]",
      "text/plain": [
       "<Figure size 432x288 with 1 Axes>"
      ]
     },
     "metadata": {
      "needs_background": "light"
     },
     "output_type": "display_data"
    },
    {
     "data": {
      "image/png": "[encoded data removed]",
      "text/plain": [
       "<Figure size 432x288 with 1 Axes>"
      ]
     },
     "metadata": {
      "needs_background": "light"
     },
     "output_type": "display_data"
    }
   ],
   "source": [
    "# Plotting histogram to check distribution of the features\n",
    "sns.histplot(data['Salary_hike'],kde=1);plt.show()\n",
    "sns.histplot(data['Churn_out_rate'],kde=1);plt.show()"
   ]
  },
  {
   "cell_type": "markdown",
   "id": "d2d3ef0e",
   "metadata": {},
   "source": [
    "The data is normal slightly right skewed"
   ]
  },
  {
   "cell_type": "code",
   "execution_count": 9,
   "id": "424a469d",
   "metadata": {},
   "outputs": [
    {
     "data": {
      "image/png": "[encoded data removed]",
      "text/plain": [
       "<Figure size 432x288 with 1 Axes>"
      ]
     },
     "metadata": {
      "needs_background": "light"
     },
     "output_type": "display_data"
    },
    {
     "data": {
      "image/png": "[encoded data removed]",
      "text/plain": [
       "<Figure size 432x288 with 1 Axes>"
      ]
     },
     "metadata": {
      "needs_background": "light"
     },
     "output_type": "display_data"
    }
   ],
   "source": [
    "# Checking for outliers\n",
    "sns.boxplot(x = data.Salary_hike);plt.show()\n",
    "sns.boxplot(x = data.Churn_out_rate);plt.show()"
   ]
  },
  {
   "cell_type": "markdown",
   "id": "1584e176",
   "metadata": {},
   "source": [
    "There are no outliers in the dataset"
   ]
  },
  {
   "cell_type": "code",
   "execution_count": 10,
   "id": "8a02a3d1",
   "metadata": {},
   "outputs": [
    {
     "data": {
      "text/plain": [
       "<AxesSubplot:xlabel='Salary_hike', ylabel='Churn_out_rate'>"
      ]
     },
     "execution_count": 10,
     "metadata": {},
     "output_type": "execute_result"
    },
    {
     "data": {
      "image/png": "[encoded data removed]",
      "text/plain": [
       "<Figure size 432x288 with 1 Axes>"
      ]
     },
     "metadata": {
      "needs_background": "light"
     },
     "output_type": "display_data"
    }
   ],
   "source": [
    "sns.scatterplot(y = data['Churn_out_rate'], x = data['Salary_hike'])"
   ]
  },
  {
   "cell_type": "code",
   "execution_count": 11,
   "id": "9bef129e",
   "metadata": {},
   "outputs": [
    {
     "data": {
      "text/html": [
       "<div>\n",
       "<style scoped>\n",
       "    .dataframe tbody tr th:only-of-type {\n",
       "        vertical-align: middle;\n",
       "    }\n",
       "\n",
       "    .dataframe tbody tr th {\n",
       "        vertical-align: top;\n",
       "    }\n",
       "\n",
       "    .dataframe thead th {\n",
       "        text-align: right;\n",
       "    }\n",
       "</style>\n",
       "<table border=\"1\" class=\"dataframe\">\n",
       "  <thead>\n",
       "    <tr style=\"text-align: right;\">\n",
       "      <th></th>\n",
       "      <th>Salary_hike</th>\n",
       "      <th>Churn_out_rate</th>\n",
       "    </tr>\n",
       "  </thead>\n",
       "  <tbody>\n",
       "    <tr>\n",
       "      <th>Salary_hike</th>\n",
       "      <td>1.000000</td>\n",
       "      <td>-0.911722</td>\n",
       "    </tr>\n",
       "    <tr>\n",
       "      <th>Churn_out_rate</th>\n",
       "      <td>-0.911722</td>\n",
       "      <td>1.000000</td>\n",
       "    </tr>\n",
       "  </tbody>\n",
       "</table>\n",
       "</div>"
      ],
      "text/plain": [
       "                Salary_hike  Churn_out_rate\n",
       "Salary_hike        1.000000       -0.911722\n",
       "Churn_out_rate    -0.911722        1.000000"
      ]
     },
     "execution_count": 11,
     "metadata": {},
     "output_type": "execute_result"
    }
   ],
   "source": [
    "# Correlation between the features\n",
    "data.corr()"
   ]
  },
  {
   "cell_type": "markdown",
   "id": "8e5f60b3",
   "metadata": {},
   "source": [
    "There is high negative correlation between the two features Salary Hike and Churn out rate"
   ]
  },
  {
   "cell_type": "markdown",
   "id": "a4307b6f",
   "metadata": {},
   "source": [
    "# MODEL 1"
   ]
  },
  {
   "cell_type": "code",
   "execution_count": 12,
   "id": "c8539774",
   "metadata": {},
   "outputs": [],
   "source": [
    "# importing statsmodels for Simple Linear Regression\n",
    "\n",
    "import statsmodels.formula.api as smf\n",
    "\n",
    "model = smf.ols('Churn_out_rate ~ Salary_hike',data = data).fit()    # fiting the data to OLS model"
   ]
  },
  {
   "cell_type": "code",
   "execution_count": 13,
   "id": "9cb8aeb9",
   "metadata": {},
   "outputs": [
    {
     "data": {
      "text/html": [
       "<table class=\"simpletable\">\n",
       "<caption>OLS Regression Results</caption>\n",
       "<tr>\n",
       "  <th>Dep. Variable:</th>     <td>Churn_out_rate</td>  <th>  R-squared:         </th> <td>   0.831</td>\n",
       "</tr>\n",
       "<tr>\n",
       "  <th>Model:</th>                   <td>OLS</td>       <th>  Adj. R-squared:    </th> <td>   0.810</td>\n",
       "</tr>\n",
       "<tr>\n",
       "  <th>Method:</th>             <td>Least Squares</td>  <th>  F-statistic:       </th> <td>   39.40</td>\n",
       "</tr>\n",
       "<tr>\n",
       "  <th>Date:</th>             <td>Thu, 28 Jul 2022</td> <th>  Prob (F-statistic):</th> <td>0.000239</td>\n",
       "</tr>\n",
       "<tr>\n",
       "  <th>Time:</th>                 <td>12:00:15</td>     <th>  Log-Likelihood:    </th> <td> -28.046</td>\n",
       "</tr>\n",
       "<tr>\n",
       "  <th>No. Observations:</th>      <td>    10</td>      <th>  AIC:               </th> <td>   60.09</td>\n",
       "</tr>\n",
       "<tr>\n",
       "  <th>Df Residuals:</th>          <td>     8</td>      <th>  BIC:               </th> <td>   60.70</td>\n",
       "</tr>\n",
       "<tr>\n",
       "  <th>Df Model:</th>              <td>     1</td>      <th>                     </th>     <td> </td>   \n",
       "</tr>\n",
       "<tr>\n",
       "  <th>Covariance Type:</th>      <td>nonrobust</td>    <th>                     </th>     <td> </td>   \n",
       "</tr>\n",
       "</table>\n",
       "<table class=\"simpletable\">\n",
       "<tr>\n",
       "       <td></td>          <th>coef</th>     <th>std err</th>      <th>t</th>      <th>P>|t|</th>  <th>[0.025</th>    <th>0.975]</th>  \n",
       "</tr>\n",
       "<tr>\n",
       "  <th>Intercept</th>   <td>  244.3649</td> <td>   27.352</td> <td>    8.934</td> <td> 0.000</td> <td>  181.291</td> <td>  307.439</td>\n",
       "</tr>\n",
       "<tr>\n",
       "  <th>Salary_hike</th> <td>   -0.1015</td> <td>    0.016</td> <td>   -6.277</td> <td> 0.000</td> <td>   -0.139</td> <td>   -0.064</td>\n",
       "</tr>\n",
       "</table>\n",
       "<table class=\"simpletable\">\n",
       "<tr>\n",
       "  <th>Omnibus:</th>       <td> 2.201</td> <th>  Durbin-Watson:     </th> <td>   0.562</td>\n",
       "</tr>\n",
       "<tr>\n",
       "  <th>Prob(Omnibus):</th> <td> 0.333</td> <th>  Jarque-Bera (JB):  </th> <td>   1.408</td>\n",
       "</tr>\n",
       "<tr>\n",
       "  <th>Skew:</th>          <td> 0.851</td> <th>  Prob(JB):          </th> <td>   0.495</td>\n",
       "</tr>\n",
       "<tr>\n",
       "  <th>Kurtosis:</th>      <td> 2.304</td> <th>  Cond. No.          </th> <td>3.27e+04</td>\n",
       "</tr>\n",
       "</table><br/><br/>Notes:<br/>[1] Standard Errors assume that the covariance matrix of the errors is correctly specified.<br/>[2] The condition number is large, 3.27e+04. This might indicate that there are<br/>strong multicollinearity or other numerical problems."
      ],
      "text/plain": [
       "<class 'statsmodels.iolib.summary.Summary'>\n",
       "\"\"\"\n",
       "                            OLS Regression Results                            \n",
       "==============================================================================\n",
       "Dep. Variable:         Churn_out_rate   R-squared:                       0.831\n",
       "Model:                            OLS   Adj. R-squared:                  0.810\n",
       "Method:                 Least Squares   F-statistic:                     39.40\n",
       "Date:                Thu, 28 Jul 2022   Prob (F-statistic):           0.000239\n",
       "Time:                        12:00:15   Log-Likelihood:                -28.046\n",
       "No. Observations:                  10   AIC:                             60.09\n",
       "Df Residuals:                       8   BIC:                             60.70\n",
       "Df Model:                           1                                         \n",
       "Covariance Type:            nonrobust                                         \n",
       "===============================================================================\n",
       "                  coef    std err          t      P>|t|      [0.025      0.975]\n",
       "-------------------------------------------------------------------------------\n",
       "Intercept     244.3649     27.352      8.934      0.000     181.291     307.439\n",
       "Salary_hike    -0.1015      0.016     -6.277      0.000      -0.139      -0.064\n",
       "==============================================================================\n",
       "Omnibus:                        2.201   Durbin-Watson:                   0.562\n",
       "Prob(Omnibus):                  0.333   Jarque-Bera (JB):                1.408\n",
       "Skew:                           0.851   Prob(JB):                        0.495\n",
       "Kurtosis:                       2.304   Cond. No.                     3.27e+04\n",
       "==============================================================================\n",
       "\n",
       "Notes:\n",
       "[1] Standard Errors assume that the covariance matrix of the errors is correctly specified.\n",
       "[2] The condition number is large, 3.27e+04. This might indicate that there are\n",
       "strong multicollinearity or other numerical problems.\n",
       "\"\"\""
      ]
     },
     "execution_count": 13,
     "metadata": {},
     "output_type": "execute_result"
    }
   ],
   "source": [
    "# Summary of the model\n",
    "\n",
    "model.summary()"
   ]
  },
  {
   "cell_type": "markdown",
   "id": "4b7406e2",
   "metadata": {},
   "source": [
    "We get an R-squared value of 0.831"
   ]
  },
  {
   "cell_type": "code",
   "execution_count": 14,
   "id": "12b6c2f2",
   "metadata": {
    "scrolled": true
   },
   "outputs": [
    {
     "data": {
      "text/plain": [
       "0    83.927531\n",
       "1    81.896678\n",
       "2    80.881252\n",
       "3    77.834973\n",
       "4    75.804120\n",
       "5    72.757840\n",
       "6    71.133158\n",
       "7    68.696134\n",
       "8    61.588149\n",
       "9    54.480164\n",
       "dtype: float64"
      ]
     },
     "execution_count": 14,
     "metadata": {},
     "output_type": "execute_result"
    }
   ],
   "source": [
    "# Predicting the Weight based on the model \n",
    "pred1 = model.predict(data.Salary_hike)\n",
    "pred1"
   ]
  },
  {
   "cell_type": "code",
   "execution_count": 15,
   "id": "14227dbb",
   "metadata": {},
   "outputs": [
    {
     "name": "stdout",
     "output_type": "stream",
     "text": [
      "\n",
      "R-Squared value for model 1 : 0.8312363099883752\n",
      "\n",
      "RMSE for model 1 : 3.997528462337793\n"
     ]
    }
   ],
   "source": [
    "# RMSE Error calculation (Model-1)\n",
    "\n",
    "res1 = data.Churn_out_rate - pred1\n",
    "rmse1 = np.sqrt(np.mean(res1 * res1))\n",
    "\n",
    "r_sqared1 = model.rsquared  \n",
    "print(f'\\nR-Squared value for model 1 : {r_sqared1}')\n",
    "print(f'\\nRMSE for model 1 : {rmse1}')"
   ]
  },
  {
   "cell_type": "markdown",
   "id": "34afa948",
   "metadata": {},
   "source": [
    "# MODEL 2"
   ]
  },
  {
   "cell_type": "markdown",
   "id": "8c42f114",
   "metadata": {},
   "source": [
    "Using log of x"
   ]
  },
  {
   "cell_type": "code",
   "execution_count": 16,
   "id": "e181cf9b",
   "metadata": {},
   "outputs": [
    {
     "name": "stdout",
     "output_type": "stream",
     "text": [
      "                            OLS Regression Results                            \n",
      "==============================================================================\n",
      "Dep. Variable:         Churn_out_rate   R-squared:                       0.849\n",
      "Model:                            OLS   Adj. R-squared:                  0.830\n",
      "Method:                 Least Squares   F-statistic:                     44.85\n",
      "Date:                Thu, 28 Jul 2022   Prob (F-statistic):           0.000153\n",
      "Time:                        12:01:20   Log-Likelihood:                -27.502\n",
      "No. Observations:                  10   AIC:                             59.00\n",
      "Df Residuals:                       8   BIC:                             59.61\n",
      "Df Model:                           1                                         \n",
      "Covariance Type:            nonrobust                                         \n",
      "=======================================================================================\n",
      "                          coef    std err          t      P>|t|      [0.025      0.975]\n",
      "---------------------------------------------------------------------------------------\n",
      "Intercept            1381.4562    195.402      7.070      0.000     930.858    1832.054\n",
      "np.log(Salary_hike)  -176.1097     26.297     -6.697      0.000    -236.751    -115.468\n",
      "==============================================================================\n",
      "Omnibus:                        2.213   Durbin-Watson:                   0.571\n",
      "Prob(Omnibus):                  0.331   Jarque-Bera (JB):                1.418\n",
      "Skew:                           0.853   Prob(JB):                        0.492\n",
      "Kurtosis:                       2.298   Cond. No.                     1.10e+03\n",
      "==============================================================================\n",
      "\n",
      "Notes:\n",
      "[1] Standard Errors assume that the covariance matrix of the errors is correctly specified.\n",
      "[2] The condition number is large, 1.1e+03. This might indicate that there are\n",
      "strong multicollinearity or other numerical problems.\n",
      "\n",
      "R-Squared value for model 2 : 0.8486236840445509\n",
      "\n",
      "RMSE for model 2 : 3.7860036130227708\n"
     ]
    }
   ],
   "source": [
    "model2 = smf.ols('Churn_out_rate ~ np.log(Salary_hike)',data = data).fit()\n",
    "summary2 = model2.summary() ; print(summary2)                    # Model summary \n",
    "r_sqared2 = model2.rsquared                                      # Model r-squared value\n",
    "\n",
    "pred2 = model2.predict(data.Salary_hike)                            # Using the model to predict \n",
    "\n",
    "res2 = data.Churn_out_rate - pred2                                       # Calculating Error between actual and predicted \n",
    "rmse2 = np.sqrt(np.mean(res2 * res2))\n",
    "print(f'\\nR-Squared value for model 2 : {r_sqared2}')\n",
    "print(f'\\nRMSE for model 2 : {rmse2}')"
   ]
  },
  {
   "cell_type": "markdown",
   "id": "13c260bf",
   "metadata": {},
   "source": [
    "# MODEL 3"
   ]
  },
  {
   "cell_type": "markdown",
   "id": "9ee0f396",
   "metadata": {},
   "source": [
    "Using log of y and log of x"
   ]
  },
  {
   "cell_type": "code",
   "execution_count": 17,
   "id": "232d16af",
   "metadata": {},
   "outputs": [
    {
     "name": "stdout",
     "output_type": "stream",
     "text": [
      "                              OLS Regression Results                              \n",
      "==================================================================================\n",
      "Dep. Variable:     np.log(Churn_out_rate)   R-squared:                       0.889\n",
      "Model:                                OLS   Adj. R-squared:                  0.875\n",
      "Method:                     Least Squares   F-statistic:                     64.13\n",
      "Date:                    Thu, 28 Jul 2022   Prob (F-statistic):           4.33e-05\n",
      "Time:                            12:02:12   Log-Likelihood:                 17.167\n",
      "No. Observations:                      10   AIC:                            -30.33\n",
      "Df Residuals:                           8   BIC:                            -29.73\n",
      "Df Model:                               1                                         \n",
      "Covariance Type:                nonrobust                                         \n",
      "=======================================================================================\n",
      "                          coef    std err          t      P>|t|      [0.025      0.975]\n",
      "---------------------------------------------------------------------------------------\n",
      "Intercept              22.2472      2.244      9.916      0.000      17.073      27.421\n",
      "np.log(Salary_hike)    -2.4180      0.302     -8.008      0.000      -3.114      -1.722\n",
      "==============================================================================\n",
      "Omnibus:                        1.962   Durbin-Watson:                   0.597\n",
      "Prob(Omnibus):                  0.375   Jarque-Bera (JB):                1.329\n",
      "Skew:                           0.786   Prob(JB):                        0.515\n",
      "Kurtosis:                       2.151   Cond. No.                     1.10e+03\n",
      "==============================================================================\n",
      "\n",
      "Notes:\n",
      "[1] Standard Errors assume that the covariance matrix of the errors is correctly specified.\n",
      "[2] The condition number is large, 1.1e+03. This might indicate that there are\n",
      "strong multicollinearity or other numerical problems.\n",
      "\n",
      "R-Squared value for model 3 : 0.8890925507825574\n",
      "\n",
      "RMSE for model 3 : 3.318328242107731\n"
     ]
    }
   ],
   "source": [
    "model3 = smf.ols('np.log(Churn_out_rate) ~ np.log(Salary_hike)',data = data).fit()\n",
    "summary3 = model3.summary() ; print(summary3)                    # Model summary \n",
    "r_sqared3 = model3.rsquared                                      # Model r-squared value\n",
    "\n",
    "pred3 = np.exp(model3.predict(data.Salary_hike))                       # Using the model to predict \n",
    "\n",
    "res3 = data.Churn_out_rate - pred3                                       # Calculating Error between actual and predicted \n",
    "rmse3 = np.sqrt(np.mean(res3 * res3))\n",
    "print(f'\\nR-Squared value for model 3 : {r_sqared3}')\n",
    "print(f'\\nRMSE for model 3 : {rmse3}')"
   ]
  },
  {
   "cell_type": "markdown",
   "id": "46d30c4b",
   "metadata": {},
   "source": [
    "# MODEL 4"
   ]
  },
  {
   "cell_type": "markdown",
   "id": "9b2beb16",
   "metadata": {},
   "source": [
    "Using polynomial relationship between x and y"
   ]
  },
  {
   "cell_type": "code",
   "execution_count": 18,
   "id": "13c25242",
   "metadata": {
    "scrolled": false
   },
   "outputs": [
    {
     "name": "stdout",
     "output_type": "stream",
     "text": [
      "                              OLS Regression Results                              \n",
      "==================================================================================\n",
      "Dep. Variable:     np.log(Churn_out_rate)   R-squared:                       0.984\n",
      "Model:                                OLS   Adj. R-squared:                  0.979\n",
      "Method:                     Least Squares   F-statistic:                     210.1\n",
      "Date:                    Thu, 28 Jul 2022   Prob (F-statistic):           5.63e-07\n",
      "Time:                            12:02:54   Log-Likelihood:                 26.728\n",
      "No. Observations:                      10   AIC:                            -47.46\n",
      "Df Residuals:                           7   BIC:                            -46.55\n",
      "Df Model:                               2                                         \n",
      "Covariance Type:                nonrobust                                         \n",
      "================================================================================================\n",
      "                                   coef    std err          t      P>|t|      [0.025      0.975]\n",
      "------------------------------------------------------------------------------------------------\n",
      "Intercept                       23.1762      2.415      9.597      0.000      17.466      28.887\n",
      "Salary_hike                     -0.0207      0.003     -7.351      0.000      -0.027      -0.014\n",
      "I(Salary_hike * Salary_hike)  5.605e-06   8.17e-07      6.857      0.000    3.67e-06    7.54e-06\n",
      "==============================================================================\n",
      "Omnibus:                        0.520   Durbin-Watson:                   1.272\n",
      "Prob(Omnibus):                  0.771   Jarque-Bera (JB):                0.506\n",
      "Skew:                          -0.088   Prob(JB):                        0.777\n",
      "Kurtosis:                       1.913   Cond. No.                     1.10e+09\n",
      "==============================================================================\n",
      "\n",
      "Notes:\n",
      "[1] Standard Errors assume that the covariance matrix of the errors is correctly specified.\n",
      "[2] The condition number is large, 1.1e+09. This might indicate that there are\n",
      "strong multicollinearity or other numerical problems.\n",
      "\n",
      "R-Squared value for model 4 : 0.9836121816469403\n",
      "\n",
      "RMSE for model 4 : 1.3267899683869546\n"
     ]
    }
   ],
   "source": [
    "model4 = smf.ols('np.log(Churn_out_rate) ~ Salary_hike + I(Salary_hike * Salary_hike)',data = data).fit()\n",
    "summary4 = model4.summary() ; print(summary4)                    # Model summary \n",
    "r_sqared4 = model4.rsquared                                      # Model r-squared value\n",
    "\n",
    "pred4 = np.exp(model4.predict(data.Salary_hike))                       # Using the model to predict \n",
    "\n",
    "res4 = data.Churn_out_rate - pred4                                       # Calculating Error between actual and predicted \n",
    "rmse4 = np.sqrt(np.mean(res4 * res4))\n",
    "print(f'\\nR-Squared value for model 4 : {r_sqared4}')\n",
    "print(f'\\nRMSE for model 4 : {rmse4}')"
   ]
  },
  {
   "cell_type": "markdown",
   "id": "e265cb55",
   "metadata": {},
   "source": [
    "# MODEL 5"
   ]
  },
  {
   "cell_type": "markdown",
   "id": "602154a6",
   "metadata": {},
   "source": [
    "Using log of y with x"
   ]
  },
  {
   "cell_type": "code",
   "execution_count": 19,
   "id": "934191b8",
   "metadata": {},
   "outputs": [
    {
     "name": "stdout",
     "output_type": "stream",
     "text": [
      "                              OLS Regression Results                              \n",
      "==================================================================================\n",
      "Dep. Variable:     np.log(Churn_out_rate)   R-squared:                       0.874\n",
      "Model:                                OLS   Adj. R-squared:                  0.858\n",
      "Method:                     Least Squares   F-statistic:                     55.26\n",
      "Date:                    Thu, 28 Jul 2022   Prob (F-statistic):           7.38e-05\n",
      "Time:                            12:03:22   Log-Likelihood:                 16.511\n",
      "No. Observations:                      10   AIC:                            -29.02\n",
      "Df Residuals:                           8   BIC:                            -28.42\n",
      "Df Model:                               1                                         \n",
      "Covariance Type:                nonrobust                                         \n",
      "===============================================================================\n",
      "                  coef    std err          t      P>|t|      [0.025      0.975]\n",
      "-------------------------------------------------------------------------------\n",
      "Intercept       6.6383      0.318     20.902      0.000       5.906       7.371\n",
      "Salary_hike    -0.0014      0.000     -7.434      0.000      -0.002      -0.001\n",
      "==============================================================================\n",
      "Omnibus:                        1.935   Durbin-Watson:                   0.585\n",
      "Prob(Omnibus):                  0.380   Jarque-Bera (JB):                1.314\n",
      "Skew:                           0.780   Prob(JB):                        0.519\n",
      "Kurtosis:                       2.152   Cond. No.                     3.27e+04\n",
      "==============================================================================\n",
      "\n",
      "Notes:\n",
      "[1] Standard Errors assume that the covariance matrix of the errors is correctly specified.\n",
      "[2] The condition number is large, 3.27e+04. This might indicate that there are\n",
      "strong multicollinearity or other numerical problems.\n",
      "\n",
      "R-Squared value for model 5 : 0.8735445851763276\n",
      "\n",
      "RMSE for model 5 : 3.5415493188215756\n"
     ]
    }
   ],
   "source": [
    "model5 = smf.ols('np.log(Churn_out_rate) ~ Salary_hike',data = data).fit()\n",
    "summary5 = model5.summary() ; print(summary5)                    # Model summary \n",
    "r_sqared5 = model5.rsquared                                      # Model r-squared value\n",
    "\n",
    "pred5 = np.exp(model5.predict(data.Salary_hike))                       # Using the model to predict \n",
    "\n",
    "res5 = data.Churn_out_rate - pred5                                       # Calculating Error between actual and predicted \n",
    "rmse5 = np.sqrt(np.mean(res5 * res5))\n",
    "print(f'\\nR-Squared value for model 5 : {r_sqared5}')\n",
    "print(f'\\nRMSE for model 5 : {rmse5}')"
   ]
  },
  {
   "cell_type": "code",
   "execution_count": 20,
   "id": "867637da",
   "metadata": {},
   "outputs": [
    {
     "data": {
      "text/html": [
       "<div>\n",
       "<style scoped>\n",
       "    .dataframe tbody tr th:only-of-type {\n",
       "        vertical-align: middle;\n",
       "    }\n",
       "\n",
       "    .dataframe tbody tr th {\n",
       "        vertical-align: top;\n",
       "    }\n",
       "\n",
       "    .dataframe thead th {\n",
       "        text-align: right;\n",
       "    }\n",
       "</style>\n",
       "<table border=\"1\" class=\"dataframe\">\n",
       "  <thead>\n",
       "    <tr style=\"text-align: right;\">\n",
       "      <th></th>\n",
       "      <th>R-Squared</th>\n",
       "      <th>RMSE</th>\n",
       "    </tr>\n",
       "  </thead>\n",
       "  <tbody>\n",
       "    <tr>\n",
       "      <th>Model_1</th>\n",
       "      <td>0.831236</td>\n",
       "      <td>3.997528</td>\n",
       "    </tr>\n",
       "    <tr>\n",
       "      <th>Model_2</th>\n",
       "      <td>0.848624</td>\n",
       "      <td>3.786004</td>\n",
       "    </tr>\n",
       "    <tr>\n",
       "      <th>Model_3</th>\n",
       "      <td>0.889093</td>\n",
       "      <td>3.318328</td>\n",
       "    </tr>\n",
       "    <tr>\n",
       "      <th>Model_4</th>\n",
       "      <td>0.983612</td>\n",
       "      <td>1.326790</td>\n",
       "    </tr>\n",
       "    <tr>\n",
       "      <th>Model_5</th>\n",
       "      <td>0.873545</td>\n",
       "      <td>3.541549</td>\n",
       "    </tr>\n",
       "  </tbody>\n",
       "</table>\n",
       "</div>"
      ],
      "text/plain": [
       "         R-Squared      RMSE\n",
       "Model_1   0.831236  3.997528\n",
       "Model_2   0.848624  3.786004\n",
       "Model_3   0.889093  3.318328\n",
       "Model_4   0.983612  1.326790\n",
       "Model_5   0.873545  3.541549"
      ]
     },
     "execution_count": 20,
     "metadata": {},
     "output_type": "execute_result"
    }
   ],
   "source": [
    "# Comparing R-squared and error for each model\n",
    "\n",
    "results = pd.DataFrame([],index =['R-Squared', 'RMSE'])\n",
    "results['Model_1'] = r_sqared1, rmse1\n",
    "results['Model_2'] = r_sqared2, rmse2\n",
    "results['Model_3'] = r_sqared3, rmse3\n",
    "results['Model_4'] = r_sqared4, rmse4\n",
    "results['Model_5'] = r_sqared5, rmse5\n",
    "results.T"
   ]
  },
  {
   "cell_type": "markdown",
   "id": "7f37715c",
   "metadata": {},
   "source": [
    "Model_4 using polynomial equation is the best model with the highest R-squared value and has low RMSE"
   ]
  },
  {
   "cell_type": "code",
   "execution_count": 21,
   "id": "d31667df",
   "metadata": {},
   "outputs": [],
   "source": [
    "# Using train test split\n",
    "\n",
    "from sklearn import model_selection\n",
    "\n",
    "train, test = model_selection.train_test_split(data, test_size = 0.2)"
   ]
  },
  {
   "cell_type": "code",
   "execution_count": 22,
   "id": "750f815e",
   "metadata": {},
   "outputs": [],
   "source": [
    "# Using the best model (Model_4)\n",
    "# Fitting the train data to the model\n",
    "\n",
    "best_model = smf.ols('np.log(Churn_out_rate) ~ Salary_hike + I(Salary_hike * Salary_hike)',data = train).fit()"
   ]
  },
  {
   "cell_type": "code",
   "execution_count": 23,
   "id": "66c45709",
   "metadata": {},
   "outputs": [
    {
     "data": {
      "text/plain": [
       "7    4.170394\n",
       "6    4.204666\n",
       "dtype: float64"
      ]
     },
     "execution_count": 23,
     "metadata": {},
     "output_type": "execute_result"
    }
   ],
   "source": [
    "# Predicting for test data\n",
    "best_pred_test = best_model.predict(test.Salary_hike)\n",
    "best_pred_test"
   ]
  },
  {
   "cell_type": "code",
   "execution_count": 24,
   "id": "c61d4e81",
   "metadata": {},
   "outputs": [
    {
     "name": "stdout",
     "output_type": "stream",
     "text": [
      "\n",
      "R-Squared value for test data : 0.9826485463824176\n",
      "\n",
      "RMSE for test data : 62.33011169052652\n"
     ]
    }
   ],
   "source": [
    "# RMSE Error calculation for test data\n",
    "\n",
    "res_test = test.Churn_out_rate - best_pred_test\n",
    "rmse_test = np.sqrt(np.mean(res_test * res_test))\n",
    "\n",
    "r_sqared_test = best_model.rsquared  \n",
    "print(f'\\nR-Squared value for test data : {r_sqared_test}')\n",
    "print(f'\\nRMSE for test data : {rmse_test}')"
   ]
  },
  {
   "cell_type": "code",
   "execution_count": 25,
   "id": "fcf25243",
   "metadata": {},
   "outputs": [
    {
     "name": "stdout",
     "output_type": "stream",
     "text": [
      "\n",
      "R-Squared value for train data : 0.9826485463824176\n",
      "\n",
      "RMSE for train data : 70.92331430195128\n"
     ]
    }
   ],
   "source": [
    "# Predicting for train data\n",
    "best_pred_train = best_model.predict(train.Salary_hike)\n",
    "\n",
    "# RMSE Error calculation for train data\n",
    "\n",
    "res_train = train.Churn_out_rate - best_pred_train\n",
    "rmse_train = np.sqrt(np.mean(res_train * res_train))\n",
    "\n",
    "r_sqared_train = best_model.rsquared  \n",
    "print(f'\\nR-Squared value for train data : {r_sqared_train}')\n",
    "print(f'\\nRMSE for train data : {rmse_train}')"
   ]
  },
  {
   "cell_type": "markdown",
   "id": "96089c60",
   "metadata": {},
   "source": [
    "The train and test data have the same rsquared value and very low RMSE values.\n",
    "\n",
    "The base model_4 gives a good relationship between the churn out rate and salary of the employee"
   ]
  }
 ],
 "metadata": {
  "kernelspec": {
   "display_name": "Python 3 (ipykernel)",
   "language": "python",
   "name": "python3"
  },
  "language_info": {
   "codemirror_mode": {
    "name": "ipython",
    "version": 3
   },
   "file_extension": ".py",
   "mimetype": "text/x-python",
   "name": "python",
   "nbconvert_exporter": "python",
   "pygments_lexer": "ipython3",
   "version": "3.9.12"
  }
 },
 "nbformat": 4,
 "nbformat_minor": 5
}
