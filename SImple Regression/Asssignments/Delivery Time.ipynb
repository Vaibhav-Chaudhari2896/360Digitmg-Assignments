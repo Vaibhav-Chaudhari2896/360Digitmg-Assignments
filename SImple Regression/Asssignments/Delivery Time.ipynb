{
 "cells": [
  {
   "cell_type": "markdown",
   "id": "4ffcc7f8",
   "metadata": {},
   "source": [
    "A logistics company recorded the time taken for delivery and the time taken for the sorting of the items for delivery. Build a Simple Linear Regression model to find the relationship between delivery time and sorting time with delivery time as the target variable. Apply necessary transformations and record the RMSE and correlation coefficient values for different models."
   ]
  },
  {
   "cell_type": "code",
   "execution_count": 1,
   "id": "f3215fc2",
   "metadata": {},
   "outputs": [],
   "source": [
    "# Importing libraries\n",
    "\n",
    "import pandas as pd\n",
    "import numpy as np \n",
    "import matplotlib.pyplot as plt\n",
    "import seaborn as sns\n",
    "import sklearn \n",
    "import scipy\n",
    "import warnings\n",
    "warnings.filterwarnings(action='ignore',category=UserWarning)"
   ]
  },
  {
   "cell_type": "code",
   "execution_count": 2,
   "id": "600203e4",
   "metadata": {},
   "outputs": [
    {
     "data": {
      "text/html": [
       "<div>\n",
       "<style scoped>\n",
       "    .dataframe tbody tr th:only-of-type {\n",
       "        vertical-align: middle;\n",
       "    }\n",
       "\n",
       "    .dataframe tbody tr th {\n",
       "        vertical-align: top;\n",
       "    }\n",
       "\n",
       "    .dataframe thead th {\n",
       "        text-align: right;\n",
       "    }\n",
       "</style>\n",
       "<table border=\"1\" class=\"dataframe\">\n",
       "  <thead>\n",
       "    <tr style=\"text-align: right;\">\n",
       "      <th></th>\n",
       "      <th>Delivery Time</th>\n",
       "      <th>Sorting Time</th>\n",
       "    </tr>\n",
       "  </thead>\n",
       "  <tbody>\n",
       "    <tr>\n",
       "      <th>0</th>\n",
       "      <td>21.00</td>\n",
       "      <td>10</td>\n",
       "    </tr>\n",
       "    <tr>\n",
       "      <th>1</th>\n",
       "      <td>13.50</td>\n",
       "      <td>4</td>\n",
       "    </tr>\n",
       "    <tr>\n",
       "      <th>2</th>\n",
       "      <td>19.75</td>\n",
       "      <td>6</td>\n",
       "    </tr>\n",
       "    <tr>\n",
       "      <th>3</th>\n",
       "      <td>24.00</td>\n",
       "      <td>9</td>\n",
       "    </tr>\n",
       "    <tr>\n",
       "      <th>4</th>\n",
       "      <td>29.00</td>\n",
       "      <td>10</td>\n",
       "    </tr>\n",
       "  </tbody>\n",
       "</table>\n",
       "</div>"
      ],
      "text/plain": [
       "   Delivery Time  Sorting Time\n",
       "0          21.00            10\n",
       "1          13.50             4\n",
       "2          19.75             6\n",
       "3          24.00             9\n",
       "4          29.00            10"
      ]
     },
     "execution_count": 2,
     "metadata": {},
     "output_type": "execute_result"
    }
   ],
   "source": [
    "# Importing dataset\n",
    "data = pd.read_csv('C:/Users/vaibh/Desktop/360 Digitmg/SImple Regression\\Asssignments/delivery_time.csv')\n",
    "data.head()"
   ]
  },
  {
   "cell_type": "code",
   "execution_count": 3,
   "id": "1af58256",
   "metadata": {},
   "outputs": [
    {
     "data": {
      "text/plain": [
       "(21, 2)"
      ]
     },
     "execution_count": 3,
     "metadata": {},
     "output_type": "execute_result"
    }
   ],
   "source": [
    "# checking dimensions of the dataset\n",
    "data.shape"
   ]
  },
  {
   "cell_type": "code",
   "execution_count": 4,
   "id": "c7295189",
   "metadata": {},
   "outputs": [
    {
     "data": {
      "text/plain": [
       "Delivery Time    0\n",
       "Sorting Time     0\n",
       "dtype: int64"
      ]
     },
     "execution_count": 4,
     "metadata": {},
     "output_type": "execute_result"
    }
   ],
   "source": [
    "# checking for null values\n",
    "data.isnull().sum()"
   ]
  },
  {
   "cell_type": "markdown",
   "id": "d1d86883",
   "metadata": {},
   "source": [
    "There are no null values"
   ]
  },
  {
   "cell_type": "code",
   "execution_count": 5,
   "id": "d7f4683c",
   "metadata": {},
   "outputs": [
    {
     "data": {
      "text/plain": [
       "0"
      ]
     },
     "execution_count": 5,
     "metadata": {},
     "output_type": "execute_result"
    }
   ],
   "source": [
    "# checking for duplicate value\n",
    "data.duplicated().sum()"
   ]
  },
  {
   "cell_type": "markdown",
   "id": "b4e11ae8",
   "metadata": {},
   "source": [
    "There are no duplicate values"
   ]
  },
  {
   "cell_type": "code",
   "execution_count": 6,
   "id": "c47827bd",
   "metadata": {},
   "outputs": [
    {
     "data": {
      "text/html": [
       "<div>\n",
       "<style scoped>\n",
       "    .dataframe tbody tr th:only-of-type {\n",
       "        vertical-align: middle;\n",
       "    }\n",
       "\n",
       "    .dataframe tbody tr th {\n",
       "        vertical-align: top;\n",
       "    }\n",
       "\n",
       "    .dataframe thead th {\n",
       "        text-align: right;\n",
       "    }\n",
       "</style>\n",
       "<table border=\"1\" class=\"dataframe\">\n",
       "  <thead>\n",
       "    <tr style=\"text-align: right;\">\n",
       "      <th></th>\n",
       "      <th>count</th>\n",
       "      <th>mean</th>\n",
       "      <th>std</th>\n",
       "      <th>min</th>\n",
       "      <th>25%</th>\n",
       "      <th>50%</th>\n",
       "      <th>75%</th>\n",
       "      <th>max</th>\n",
       "    </tr>\n",
       "  </thead>\n",
       "  <tbody>\n",
       "    <tr>\n",
       "      <th>Delivery Time</th>\n",
       "      <td>21.0</td>\n",
       "      <td>16.790952</td>\n",
       "      <td>5.074901</td>\n",
       "      <td>8.0</td>\n",
       "      <td>13.5</td>\n",
       "      <td>17.83</td>\n",
       "      <td>19.75</td>\n",
       "      <td>29.0</td>\n",
       "    </tr>\n",
       "    <tr>\n",
       "      <th>Sorting Time</th>\n",
       "      <td>21.0</td>\n",
       "      <td>6.190476</td>\n",
       "      <td>2.542028</td>\n",
       "      <td>2.0</td>\n",
       "      <td>4.0</td>\n",
       "      <td>6.00</td>\n",
       "      <td>8.00</td>\n",
       "      <td>10.0</td>\n",
       "    </tr>\n",
       "  </tbody>\n",
       "</table>\n",
       "</div>"
      ],
      "text/plain": [
       "               count       mean       std  min   25%    50%    75%   max\n",
       "Delivery Time   21.0  16.790952  5.074901  8.0  13.5  17.83  19.75  29.0\n",
       "Sorting Time    21.0   6.190476  2.542028  2.0   4.0   6.00   8.00  10.0"
      ]
     },
     "execution_count": 6,
     "metadata": {},
     "output_type": "execute_result"
    }
   ],
   "source": [
    "# Descriptive statistics of the dataset\n",
    "data.describe().T"
   ]
  },
  {
   "cell_type": "code",
   "execution_count": 7,
   "id": "42e71822",
   "metadata": {},
   "outputs": [
    {
     "name": "stdout",
     "output_type": "stream",
     "text": [
      "<class 'pandas.core.frame.DataFrame'>\n",
      "RangeIndex: 21 entries, 0 to 20\n",
      "Data columns (total 2 columns):\n",
      " #   Column         Non-Null Count  Dtype  \n",
      "---  ------         --------------  -----  \n",
      " 0   Delivery Time  21 non-null     float64\n",
      " 1   Sorting Time   21 non-null     int64  \n",
      "dtypes: float64(1), int64(1)\n",
      "memory usage: 464.0 bytes\n"
     ]
    }
   ],
   "source": [
    "# Info of the dataset\n",
    "data.info()"
   ]
  },
  {
   "cell_type": "code",
   "execution_count": 8,
   "id": "212fdd27",
   "metadata": {
    "scrolled": false
   },
   "outputs": [
    {
     "data": {
      "image/png": "[encoded data removed]",
      "text/plain": [
       "<Figure size 432x288 with 1 Axes>"
      ]
     },
     "metadata": {
      "needs_background": "light"
     },
     "output_type": "display_data"
    },
    {
     "data": {
      "image/png": "[encoded data removed]",
      "text/plain": [
       "<Figure size 432x288 with 1 Axes>"
      ]
     },
     "metadata": {
      "needs_background": "light"
     },
     "output_type": "display_data"
    }
   ],
   "source": [
    "# Plotting histogram to check distribution of the features\n",
    "sns.histplot(data['Delivery Time'],kde=1);plt.show()\n",
    "sns.histplot(data['Sorting Time'],kde=1);plt.show()"
   ]
  },
  {
   "cell_type": "markdown",
   "id": "d2d3ef0e",
   "metadata": {},
   "source": [
    "The data seems to be right skewed"
   ]
  },
  {
   "cell_type": "code",
   "execution_count": 9,
   "id": "424a469d",
   "metadata": {},
   "outputs": [
    {
     "data": {
      "text/plain": [
       "<AxesSubplot:>"
      ]
     },
     "execution_count": 9,
     "metadata": {},
     "output_type": "execute_result"
    },
    {
     "data": {
      "image/png": "[encoded data removed]",
      "text/plain": [
       "<Figure size 432x288 with 1 Axes>"
      ]
     },
     "metadata": {
      "needs_background": "light"
     },
     "output_type": "display_data"
    }
   ],
   "source": [
    "# Checking for outliers\n",
    "sns.boxplot(data = data)"
   ]
  },
  {
   "cell_type": "markdown",
   "id": "1584e176",
   "metadata": {},
   "source": [
    "There are no outliers in the dataset"
   ]
  },
  {
   "cell_type": "code",
   "execution_count": 10,
   "id": "8a02a3d1",
   "metadata": {},
   "outputs": [
    {
     "data": {
      "text/plain": [
       "<AxesSubplot:xlabel='Sorting Time', ylabel='Delivery Time'>"
      ]
     },
     "execution_count": 10,
     "metadata": {},
     "output_type": "execute_result"
    },
    {
     "data": {
      "image/png": "[encoded data removed]",
      "text/plain": [
       "<Figure size 432x288 with 1 Axes>"
      ]
     },
     "metadata": {
      "needs_background": "light"
     },
     "output_type": "display_data"
    }
   ],
   "source": [
    "sns.scatterplot(y = data['Delivery Time'], x = data['Sorting Time'])"
   ]
  },
  {
   "cell_type": "code",
   "execution_count": 11,
   "id": "9bef129e",
   "metadata": {},
   "outputs": [
    {
     "data": {
      "text/html": [
       "<div>\n",
       "<style scoped>\n",
       "    .dataframe tbody tr th:only-of-type {\n",
       "        vertical-align: middle;\n",
       "    }\n",
       "\n",
       "    .dataframe tbody tr th {\n",
       "        vertical-align: top;\n",
       "    }\n",
       "\n",
       "    .dataframe thead th {\n",
       "        text-align: right;\n",
       "    }\n",
       "</style>\n",
       "<table border=\"1\" class=\"dataframe\">\n",
       "  <thead>\n",
       "    <tr style=\"text-align: right;\">\n",
       "      <th></th>\n",
       "      <th>Delivery Time</th>\n",
       "      <th>Sorting Time</th>\n",
       "    </tr>\n",
       "  </thead>\n",
       "  <tbody>\n",
       "    <tr>\n",
       "      <th>Delivery Time</th>\n",
       "      <td>1.000000</td>\n",
       "      <td>0.825997</td>\n",
       "    </tr>\n",
       "    <tr>\n",
       "      <th>Sorting Time</th>\n",
       "      <td>0.825997</td>\n",
       "      <td>1.000000</td>\n",
       "    </tr>\n",
       "  </tbody>\n",
       "</table>\n",
       "</div>"
      ],
      "text/plain": [
       "               Delivery Time  Sorting Time\n",
       "Delivery Time       1.000000      0.825997\n",
       "Sorting Time        0.825997      1.000000"
      ]
     },
     "execution_count": 11,
     "metadata": {},
     "output_type": "execute_result"
    }
   ],
   "source": [
    "# Correlation between the features\n",
    "data.corr()"
   ]
  },
  {
   "cell_type": "markdown",
   "id": "8e5f60b3",
   "metadata": {},
   "source": [
    "There is high correlation between the two features Delivery Time and Sorting Time"
   ]
  },
  {
   "cell_type": "code",
   "execution_count": 12,
   "id": "0a3bc098",
   "metadata": {},
   "outputs": [],
   "source": [
    "# Rename columns\n",
    "data = data.rename(columns = {'Delivery Time':'DTime','Sorting Time':\"STime\"})"
   ]
  },
  {
   "cell_type": "markdown",
   "id": "a4307b6f",
   "metadata": {},
   "source": [
    "# MODEL 1"
   ]
  },
  {
   "cell_type": "code",
   "execution_count": 13,
   "id": "c8539774",
   "metadata": {},
   "outputs": [],
   "source": [
    "# importing statsmodels for Simple Linear Regression\n",
    "\n",
    "import statsmodels.formula.api as smf\n",
    "\n",
    "model = smf.ols('DTime ~ STime',data = data).fit()    # fiting the data to OLS model"
   ]
  },
  {
   "cell_type": "code",
   "execution_count": 14,
   "id": "9cb8aeb9",
   "metadata": {},
   "outputs": [
    {
     "data": {
      "text/html": [
       "<table class=\"simpletable\">\n",
       "<caption>OLS Regression Results</caption>\n",
       "<tr>\n",
       "  <th>Dep. Variable:</th>          <td>DTime</td>      <th>  R-squared:         </th> <td>   0.682</td>\n",
       "</tr>\n",
       "<tr>\n",
       "  <th>Model:</th>                   <td>OLS</td>       <th>  Adj. R-squared:    </th> <td>   0.666</td>\n",
       "</tr>\n",
       "<tr>\n",
       "  <th>Method:</th>             <td>Least Squares</td>  <th>  F-statistic:       </th> <td>   40.80</td>\n",
       "</tr>\n",
       "<tr>\n",
       "  <th>Date:</th>             <td>Thu, 28 Jul 2022</td> <th>  Prob (F-statistic):</th> <td>3.98e-06</td>\n",
       "</tr>\n",
       "<tr>\n",
       "  <th>Time:</th>                 <td>11:23:07</td>     <th>  Log-Likelihood:    </th> <td> -51.357</td>\n",
       "</tr>\n",
       "<tr>\n",
       "  <th>No. Observations:</th>      <td>    21</td>      <th>  AIC:               </th> <td>   106.7</td>\n",
       "</tr>\n",
       "<tr>\n",
       "  <th>Df Residuals:</th>          <td>    19</td>      <th>  BIC:               </th> <td>   108.8</td>\n",
       "</tr>\n",
       "<tr>\n",
       "  <th>Df Model:</th>              <td>     1</td>      <th>                     </th>     <td> </td>   \n",
       "</tr>\n",
       "<tr>\n",
       "  <th>Covariance Type:</th>      <td>nonrobust</td>    <th>                     </th>     <td> </td>   \n",
       "</tr>\n",
       "</table>\n",
       "<table class=\"simpletable\">\n",
       "<tr>\n",
       "      <td></td>         <th>coef</th>     <th>std err</th>      <th>t</th>      <th>P>|t|</th>  <th>[0.025</th>    <th>0.975]</th>  \n",
       "</tr>\n",
       "<tr>\n",
       "  <th>Intercept</th> <td>    6.5827</td> <td>    1.722</td> <td>    3.823</td> <td> 0.001</td> <td>    2.979</td> <td>   10.186</td>\n",
       "</tr>\n",
       "<tr>\n",
       "  <th>STime</th>     <td>    1.6490</td> <td>    0.258</td> <td>    6.387</td> <td> 0.000</td> <td>    1.109</td> <td>    2.189</td>\n",
       "</tr>\n",
       "</table>\n",
       "<table class=\"simpletable\">\n",
       "<tr>\n",
       "  <th>Omnibus:</th>       <td> 3.649</td> <th>  Durbin-Watson:     </th> <td>   1.248</td>\n",
       "</tr>\n",
       "<tr>\n",
       "  <th>Prob(Omnibus):</th> <td> 0.161</td> <th>  Jarque-Bera (JB):  </th> <td>   2.086</td>\n",
       "</tr>\n",
       "<tr>\n",
       "  <th>Skew:</th>          <td> 0.750</td> <th>  Prob(JB):          </th> <td>   0.352</td>\n",
       "</tr>\n",
       "<tr>\n",
       "  <th>Kurtosis:</th>      <td> 3.367</td> <th>  Cond. No.          </th> <td>    18.3</td>\n",
       "</tr>\n",
       "</table><br/><br/>Notes:<br/>[1] Standard Errors assume that the covariance matrix of the errors is correctly specified."
      ],
      "text/plain": [
       "<class 'statsmodels.iolib.summary.Summary'>\n",
       "\"\"\"\n",
       "                            OLS Regression Results                            \n",
       "==============================================================================\n",
       "Dep. Variable:                  DTime   R-squared:                       0.682\n",
       "Model:                            OLS   Adj. R-squared:                  0.666\n",
       "Method:                 Least Squares   F-statistic:                     40.80\n",
       "Date:                Thu, 28 Jul 2022   Prob (F-statistic):           3.98e-06\n",
       "Time:                        11:23:07   Log-Likelihood:                -51.357\n",
       "No. Observations:                  21   AIC:                             106.7\n",
       "Df Residuals:                      19   BIC:                             108.8\n",
       "Df Model:                           1                                         \n",
       "Covariance Type:            nonrobust                                         \n",
       "==============================================================================\n",
       "                 coef    std err          t      P>|t|      [0.025      0.975]\n",
       "------------------------------------------------------------------------------\n",
       "Intercept      6.5827      1.722      3.823      0.001       2.979      10.186\n",
       "STime          1.6490      0.258      6.387      0.000       1.109       2.189\n",
       "==============================================================================\n",
       "Omnibus:                        3.649   Durbin-Watson:                   1.248\n",
       "Prob(Omnibus):                  0.161   Jarque-Bera (JB):                2.086\n",
       "Skew:                           0.750   Prob(JB):                        0.352\n",
       "Kurtosis:                       3.367   Cond. No.                         18.3\n",
       "==============================================================================\n",
       "\n",
       "Notes:\n",
       "[1] Standard Errors assume that the covariance matrix of the errors is correctly specified.\n",
       "\"\"\""
      ]
     },
     "execution_count": 14,
     "metadata": {},
     "output_type": "execute_result"
    }
   ],
   "source": [
    "# Summary of the model\n",
    "\n",
    "model.summary()"
   ]
  },
  {
   "cell_type": "markdown",
   "id": "4b7406e2",
   "metadata": {},
   "source": [
    "We get an R-squared value of 0.682"
   ]
  },
  {
   "cell_type": "code",
   "execution_count": 15,
   "id": "12b6c2f2",
   "metadata": {},
   "outputs": [
    {
     "data": {
      "text/plain": [
       "0     23.072933\n",
       "1     13.178814\n",
       "2     16.476853\n",
       "3     21.423913\n",
       "4     23.072933\n",
       "5     16.476853\n",
       "6     18.125873\n",
       "7     11.529794\n",
       "8     23.072933\n",
       "9     21.423913\n",
       "10    19.774893\n",
       "11    13.178814\n",
       "12    18.125873\n",
       "13    11.529794\n",
       "14    11.529794\n",
       "15    13.178814\n",
       "16    16.476853\n",
       "17    18.125873\n",
       "18     9.880774\n",
       "19    18.125873\n",
       "20    14.827833\n",
       "dtype: float64"
      ]
     },
     "execution_count": 15,
     "metadata": {},
     "output_type": "execute_result"
    }
   ],
   "source": [
    "# Predicting the Weight based on the model \n",
    "pred1 = model.predict(data.STime)\n",
    "pred1"
   ]
  },
  {
   "cell_type": "code",
   "execution_count": 16,
   "id": "ce53337c",
   "metadata": {},
   "outputs": [
    {
     "data": {
      "image/png": "[encoded data removed]",
      "text/plain": [
       "<Figure size 432x288 with 1 Axes>"
      ]
     },
     "metadata": {
      "needs_background": "light"
     },
     "output_type": "display_data"
    }
   ],
   "source": [
    "# Regression Line\n",
    "\n",
    "plt.scatter(data.STime, data.DTime)\n",
    "plt.plot(data.STime, pred1, \"r\")\n",
    "plt.legend(['Predicted line', 'Observed data'])\n",
    "plt.show()"
   ]
  },
  {
   "cell_type": "code",
   "execution_count": 17,
   "id": "14227dbb",
   "metadata": {},
   "outputs": [
    {
     "name": "stdout",
     "output_type": "stream",
     "text": [
      "\n",
      "R-Squared value for model 1 : 0.6822714748417231\n",
      "\n",
      "RMSE for model 1 : 2.7916503270617654\n"
     ]
    }
   ],
   "source": [
    "# RMSE Error calculation (Model-1)\n",
    "\n",
    "res1 = data.DTime - pred1\n",
    "rmse1 = np.sqrt(np.mean(res1 * res1))\n",
    "\n",
    "r_sqared1 = model.rsquared  \n",
    "print(f'\\nR-Squared value for model 1 : {r_sqared1}')\n",
    "print(f'\\nRMSE for model 1 : {rmse1}')"
   ]
  },
  {
   "cell_type": "markdown",
   "id": "34afa948",
   "metadata": {},
   "source": [
    "# MODEL 2"
   ]
  },
  {
   "cell_type": "markdown",
   "id": "8c42f114",
   "metadata": {},
   "source": [
    "Using log of x"
   ]
  },
  {
   "cell_type": "code",
   "execution_count": 18,
   "id": "e181cf9b",
   "metadata": {},
   "outputs": [
    {
     "name": "stdout",
     "output_type": "stream",
     "text": [
      "                            OLS Regression Results                            \n",
      "==============================================================================\n",
      "Dep. Variable:                  DTime   R-squared:                       0.695\n",
      "Model:                            OLS   Adj. R-squared:                  0.679\n",
      "Method:                 Least Squares   F-statistic:                     43.39\n",
      "Date:                Thu, 28 Jul 2022   Prob (F-statistic):           2.64e-06\n",
      "Time:                        11:23:07   Log-Likelihood:                -50.912\n",
      "No. Observations:                  21   AIC:                             105.8\n",
      "Df Residuals:                      19   BIC:                             107.9\n",
      "Df Model:                           1                                         \n",
      "Covariance Type:            nonrobust                                         \n",
      "=================================================================================\n",
      "                    coef    std err          t      P>|t|      [0.025      0.975]\n",
      "---------------------------------------------------------------------------------\n",
      "Intercept         1.1597      2.455      0.472      0.642      -3.978       6.297\n",
      "np.log(STime)     9.0434      1.373      6.587      0.000       6.170      11.917\n",
      "==============================================================================\n",
      "Omnibus:                        5.552   Durbin-Watson:                   1.427\n",
      "Prob(Omnibus):                  0.062   Jarque-Bera (JB):                3.481\n",
      "Skew:                           0.946   Prob(JB):                        0.175\n",
      "Kurtosis:                       3.628   Cond. No.                         9.08\n",
      "==============================================================================\n",
      "\n",
      "Notes:\n",
      "[1] Standard Errors assume that the covariance matrix of the errors is correctly specified.\n",
      "\n",
      "R-Squared value for model 2 : 0.6954434611324223\n",
      "\n",
      "RMSE for model 2 : 2.733171476682066\n"
     ]
    }
   ],
   "source": [
    "model2 = smf.ols('DTime ~ np.log(STime)',data = data).fit()\n",
    "summary2 = model2.summary() ; print(summary2)                    # Model summary \n",
    "r_sqared2 = model2.rsquared                                      # Model r-squared value\n",
    "\n",
    "pred2 = model2.predict(data.STime)                            # Using the model to predict \n",
    "\n",
    "res2 = data.DTime - pred2                                       # Calculating Error between actual and predicted \n",
    "rmse2 = np.sqrt(np.mean(res2 * res2))\n",
    "print(f'\\nR-Squared value for model 2 : {r_sqared2}')\n",
    "print(f'\\nRMSE for model 2 : {rmse2}')"
   ]
  },
  {
   "cell_type": "markdown",
   "id": "13c260bf",
   "metadata": {},
   "source": [
    "# MODEL 3"
   ]
  },
  {
   "cell_type": "markdown",
   "id": "9ee0f396",
   "metadata": {},
   "source": [
    "Using log of y and log of x"
   ]
  },
  {
   "cell_type": "code",
   "execution_count": 19,
   "id": "232d16af",
   "metadata": {},
   "outputs": [
    {
     "name": "stdout",
     "output_type": "stream",
     "text": [
      "                            OLS Regression Results                            \n",
      "==============================================================================\n",
      "Dep. Variable:          np.log(DTime)   R-squared:                       0.772\n",
      "Model:                            OLS   Adj. R-squared:                  0.760\n",
      "Method:                 Least Squares   F-statistic:                     64.39\n",
      "Date:                Thu, 28 Jul 2022   Prob (F-statistic):           1.60e-07\n",
      "Time:                        11:23:07   Log-Likelihood:                 10.291\n",
      "No. Observations:                  21   AIC:                            -16.58\n",
      "Df Residuals:                      19   BIC:                            -14.49\n",
      "Df Model:                           1                                         \n",
      "Covariance Type:            nonrobust                                         \n",
      "=================================================================================\n",
      "                    coef    std err          t      P>|t|      [0.025      0.975]\n",
      "---------------------------------------------------------------------------------\n",
      "Intercept         1.7420      0.133     13.086      0.000       1.463       2.021\n",
      "np.log(STime)     0.5975      0.074      8.024      0.000       0.442       0.753\n",
      "==============================================================================\n",
      "Omnibus:                        1.871   Durbin-Watson:                   1.322\n",
      "Prob(Omnibus):                  0.392   Jarque-Bera (JB):                1.170\n",
      "Skew:                           0.577   Prob(JB):                        0.557\n",
      "Kurtosis:                       2.916   Cond. No.                         9.08\n",
      "==============================================================================\n",
      "\n",
      "Notes:\n",
      "[1] Standard Errors assume that the covariance matrix of the errors is correctly specified.\n",
      "\n",
      "R-Squared value for model 3 : 0.77216134926874\n",
      "\n",
      "RMSE for model 3 : 2.74582889761455\n"
     ]
    }
   ],
   "source": [
    "model3 = smf.ols('np.log(DTime) ~ np.log(STime)',data = data).fit()\n",
    "summary3 = model3.summary() ; print(summary3)                    # Model summary \n",
    "r_sqared3 = model3.rsquared                                      # Model r-squared value\n",
    "\n",
    "pred3 = np.exp(model3.predict(data.STime))                       # Using the model to predict \n",
    "\n",
    "res3 = data.DTime - pred3                                       # Calculating Error between actual and predicted \n",
    "rmse3 = np.sqrt(np.mean(res3 * res3))\n",
    "print(f'\\nR-Squared value for model 3 : {r_sqared3}')\n",
    "print(f'\\nRMSE for model 3 : {rmse3}')"
   ]
  },
  {
   "cell_type": "markdown",
   "id": "46d30c4b",
   "metadata": {},
   "source": [
    "# MODEL 4"
   ]
  },
  {
   "cell_type": "markdown",
   "id": "9b2beb16",
   "metadata": {},
   "source": [
    "Using polynomial relationship between x and y"
   ]
  },
  {
   "cell_type": "code",
   "execution_count": 20,
   "id": "13c25242",
   "metadata": {
    "scrolled": false
   },
   "outputs": [
    {
     "name": "stdout",
     "output_type": "stream",
     "text": [
      "                            OLS Regression Results                            \n",
      "==============================================================================\n",
      "Dep. Variable:          np.log(DTime)   R-squared:                       0.765\n",
      "Model:                            OLS   Adj. R-squared:                  0.739\n",
      "Method:                 Least Squares   F-statistic:                     29.28\n",
      "Date:                Thu, 28 Jul 2022   Prob (F-statistic):           2.20e-06\n",
      "Time:                        11:23:08   Log-Likelihood:                 9.9597\n",
      "No. Observations:                  21   AIC:                            -13.92\n",
      "Df Residuals:                      18   BIC:                            -10.79\n",
      "Df Model:                           2                                         \n",
      "Covariance Type:            nonrobust                                         \n",
      "====================================================================================\n",
      "                       coef    std err          t      P>|t|      [0.025      0.975]\n",
      "------------------------------------------------------------------------------------\n",
      "Intercept            1.6997      0.228      7.441      0.000       1.220       2.180\n",
      "STime                0.2659      0.080      3.315      0.004       0.097       0.434\n",
      "I(STime * STime)    -0.0128      0.006     -2.032      0.057      -0.026       0.000\n",
      "==============================================================================\n",
      "Omnibus:                        2.548   Durbin-Watson:                   1.369\n",
      "Prob(Omnibus):                  0.280   Jarque-Bera (JB):                1.777\n",
      "Skew:                           0.708   Prob(JB):                        0.411\n",
      "Kurtosis:                       2.846   Cond. No.                         373.\n",
      "==============================================================================\n",
      "\n",
      "Notes:\n",
      "[1] Standard Errors assume that the covariance matrix of the errors is correctly specified.\n",
      "\n",
      "R-Squared value for model 4 : 0.764866634295373\n",
      "\n",
      "RMSE for model 4 : 2.799041988740925\n"
     ]
    }
   ],
   "source": [
    "model4 = smf.ols('np.log(DTime) ~ STime + I(STime*STime)',data = data).fit()\n",
    "summary4 = model4.summary() ; print(summary4)                    # Model summary \n",
    "r_sqared4 = model4.rsquared                                      # Model r-squared value\n",
    "\n",
    "pred4 = np.exp(model4.predict(data.STime))                       # Using the model to predict \n",
    "\n",
    "res4 = data.DTime - pred4                                       # Calculating Error between actual and predicted \n",
    "rmse4 = np.sqrt(np.mean(res4 * res4))\n",
    "print(f'\\nR-Squared value for model 4 : {r_sqared4}')\n",
    "print(f'\\nRMSE for model 4 : {rmse4}')"
   ]
  },
  {
   "cell_type": "markdown",
   "id": "e265cb55",
   "metadata": {},
   "source": [
    "# MODEL 5"
   ]
  },
  {
   "cell_type": "markdown",
   "id": "602154a6",
   "metadata": {},
   "source": [
    "Using log of y with x"
   ]
  },
  {
   "cell_type": "code",
   "execution_count": 21,
   "id": "934191b8",
   "metadata": {},
   "outputs": [
    {
     "name": "stdout",
     "output_type": "stream",
     "text": [
      "                            OLS Regression Results                            \n",
      "==============================================================================\n",
      "Dep. Variable:          np.log(DTime)   R-squared:                       0.711\n",
      "Model:                            OLS   Adj. R-squared:                  0.696\n",
      "Method:                 Least Squares   F-statistic:                     46.73\n",
      "Date:                Thu, 28 Jul 2022   Prob (F-statistic):           1.59e-06\n",
      "Time:                        11:23:08   Log-Likelihood:                 7.7920\n",
      "No. Observations:                  21   AIC:                            -11.58\n",
      "Df Residuals:                      19   BIC:                            -9.495\n",
      "Df Model:                           1                                         \n",
      "Covariance Type:            nonrobust                                         \n",
      "==============================================================================\n",
      "                 coef    std err          t      P>|t|      [0.025      0.975]\n",
      "------------------------------------------------------------------------------\n",
      "Intercept      2.1214      0.103     20.601      0.000       1.906       2.337\n",
      "STime          0.1056      0.015      6.836      0.000       0.073       0.138\n",
      "==============================================================================\n",
      "Omnibus:                        1.238   Durbin-Watson:                   1.325\n",
      "Prob(Omnibus):                  0.538   Jarque-Bera (JB):                0.544\n",
      "Skew:                           0.393   Prob(JB):                        0.762\n",
      "Kurtosis:                       3.067   Cond. No.                         18.3\n",
      "==============================================================================\n",
      "\n",
      "Notes:\n",
      "[1] Standard Errors assume that the covariance matrix of the errors is correctly specified.\n",
      "\n",
      "R-Squared value for model 5 : 0.7109478980584187\n",
      "\n",
      "RMSE for model 5 : 2.940250323056201\n"
     ]
    }
   ],
   "source": [
    "model5 = smf.ols('np.log(DTime) ~ STime',data = data).fit()\n",
    "summary5 = model5.summary() ; print(summary5)                    # Model summary \n",
    "r_sqared5 = model5.rsquared                                      # Model r-squared value\n",
    "\n",
    "pred5 = np.exp(model5.predict(data.STime))                       # Using the model to predict \n",
    "\n",
    "res5 = data.DTime - pred5                                       # Calculating Error between actual and predicted \n",
    "rmse5 = np.sqrt(np.mean(res5 * res5))\n",
    "print(f'\\nR-Squared value for model 5 : {r_sqared5}')\n",
    "print(f'\\nRMSE for model 5 : {rmse5}')"
   ]
  },
  {
   "cell_type": "code",
   "execution_count": 22,
   "id": "867637da",
   "metadata": {},
   "outputs": [
    {
     "data": {
      "text/html": [
       "<div>\n",
       "<style scoped>\n",
       "    .dataframe tbody tr th:only-of-type {\n",
       "        vertical-align: middle;\n",
       "    }\n",
       "\n",
       "    .dataframe tbody tr th {\n",
       "        vertical-align: top;\n",
       "    }\n",
       "\n",
       "    .dataframe thead th {\n",
       "        text-align: right;\n",
       "    }\n",
       "</style>\n",
       "<table border=\"1\" class=\"dataframe\">\n",
       "  <thead>\n",
       "    <tr style=\"text-align: right;\">\n",
       "      <th></th>\n",
       "      <th>R-Squared</th>\n",
       "      <th>RMSE</th>\n",
       "    </tr>\n",
       "  </thead>\n",
       "  <tbody>\n",
       "    <tr>\n",
       "      <th>Model_1</th>\n",
       "      <td>0.682271</td>\n",
       "      <td>2.791650</td>\n",
       "    </tr>\n",
       "    <tr>\n",
       "      <th>Model_2</th>\n",
       "      <td>0.695443</td>\n",
       "      <td>2.733171</td>\n",
       "    </tr>\n",
       "    <tr>\n",
       "      <th>Model_3</th>\n",
       "      <td>0.772161</td>\n",
       "      <td>2.745829</td>\n",
       "    </tr>\n",
       "    <tr>\n",
       "      <th>Model_4</th>\n",
       "      <td>0.764867</td>\n",
       "      <td>2.799042</td>\n",
       "    </tr>\n",
       "    <tr>\n",
       "      <th>Model_5</th>\n",
       "      <td>0.710948</td>\n",
       "      <td>2.940250</td>\n",
       "    </tr>\n",
       "  </tbody>\n",
       "</table>\n",
       "</div>"
      ],
      "text/plain": [
       "         R-Squared      RMSE\n",
       "Model_1   0.682271  2.791650\n",
       "Model_2   0.695443  2.733171\n",
       "Model_3   0.772161  2.745829\n",
       "Model_4   0.764867  2.799042\n",
       "Model_5   0.710948  2.940250"
      ]
     },
     "execution_count": 22,
     "metadata": {},
     "output_type": "execute_result"
    }
   ],
   "source": [
    "# Comparing R-squared and error for each model\n",
    "\n",
    "results = pd.DataFrame([],index =['R-Squared', 'RMSE'])\n",
    "results['Model_1'] = r_sqared1, rmse1\n",
    "results['Model_2'] = r_sqared2, rmse2\n",
    "results['Model_3'] = r_sqared3, rmse3\n",
    "results['Model_4'] = r_sqared4, rmse4\n",
    "results['Model_5'] = r_sqared5, rmse5\n",
    "results.T"
   ]
  },
  {
   "cell_type": "markdown",
   "id": "7f37715c",
   "metadata": {},
   "source": [
    "Model_3 with log of y and log of x is the best model with the highest R-squared value and has low RMSE"
   ]
  },
  {
   "cell_type": "code",
   "execution_count": 23,
   "id": "d31667df",
   "metadata": {},
   "outputs": [],
   "source": [
    "# Using train test split\n",
    "\n",
    "from sklearn import model_selection\n",
    "\n",
    "train, test = model_selection.train_test_split(data, test_size = 0.2)"
   ]
  },
  {
   "cell_type": "code",
   "execution_count": 24,
   "id": "750f815e",
   "metadata": {},
   "outputs": [],
   "source": [
    "# Using the best model (Model_1)\n",
    "# Fitting the train data to the model\n",
    "\n",
    "best_model = smf.ols('np.log(DTime)~np.log(STime)',data = train).fit()"
   ]
  },
  {
   "cell_type": "code",
   "execution_count": 25,
   "id": "66c45709",
   "metadata": {},
   "outputs": [
    {
     "data": {
      "text/plain": [
       "0     21.910451\n",
       "4     21.910451\n",
       "7     11.732002\n",
       "11    13.620488\n",
       "5     16.809395\n",
       "dtype: float64"
      ]
     },
     "execution_count": 25,
     "metadata": {},
     "output_type": "execute_result"
    }
   ],
   "source": [
    "# Predicting for test data\n",
    "best_pred_test = np.exp(best_model.predict(test.STime))\n",
    "best_pred_test"
   ]
  },
  {
   "cell_type": "code",
   "execution_count": 26,
   "id": "c61d4e81",
   "metadata": {},
   "outputs": [
    {
     "name": "stdout",
     "output_type": "stream",
     "text": [
      "\n",
      "R-Squared value for test data : 0.7393008097967917\n",
      "\n",
      "RMSE for test data : 3.6453255369114195\n"
     ]
    }
   ],
   "source": [
    "# RMSE Error calculation for test data\n",
    "\n",
    "res_test = test.DTime - best_pred_test\n",
    "rmse_test = np.sqrt(np.mean(res_test * res_test))\n",
    "\n",
    "r_sqared_test = best_model.rsquared  \n",
    "print(f'\\nR-Squared value for test data : {r_sqared_test}')\n",
    "print(f'\\nRMSE for test data : {rmse_test}')"
   ]
  },
  {
   "cell_type": "code",
   "execution_count": 27,
   "id": "fcf25243",
   "metadata": {},
   "outputs": [
    {
     "name": "stdout",
     "output_type": "stream",
     "text": [
      "\n",
      "R-Squared value for train data : 0.7393008097967917\n",
      "\n",
      "RMSE for train data : 2.42938717357824\n"
     ]
    }
   ],
   "source": [
    "# Predicting for train data\n",
    "best_pred_train = np.exp(best_model.predict(train.STime))\n",
    "\n",
    "# RMSE Error calculation for train data\n",
    "\n",
    "res_train = train.DTime - best_pred_train\n",
    "rmse_train = np.sqrt(np.mean(res_train * res_train))\n",
    "\n",
    "r_sqared_train = best_model.rsquared  \n",
    "print(f'\\nR-Squared value for train data : {r_sqared_train}')\n",
    "print(f'\\nRMSE for train data : {rmse_train}')"
   ]
  },
  {
   "cell_type": "markdown",
   "id": "96089c60",
   "metadata": {},
   "source": [
    "The train and test data have the same rsquared value and very low RMSE values.\n",
    "\n",
    "This model gives a good relationship between delivery time and sorting time"
   ]
  }
 ],
 "metadata": {
  "kernelspec": {
   "display_name": "Python 3 (ipykernel)",
   "language": "python",
   "name": "python3"
  },
  "language_info": {
   "codemirror_mode": {
    "name": "ipython",
    "version": 3
   },
   "file_extension": ".py",
   "mimetype": "text/x-python",
   "name": "python",
   "nbconvert_exporter": "python",
   "pygments_lexer": "ipython3",
   "version": "3.9.12"
  }
 },
 "nbformat": 4,
 "nbformat_minor": 5
}
