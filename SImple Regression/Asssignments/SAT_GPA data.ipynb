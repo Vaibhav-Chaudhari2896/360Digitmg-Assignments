{
 "cells": [
  {
   "cell_type": "markdown",
   "id": "4ffcc7f8",
   "metadata": {},
   "source": [
    "A certain university wants to understand the relationship between students’ SAT scores and their GPA. Build a Simple Linear Regression model with GPA as the target variable and record the RMSE and correlation coefficient values for different models."
   ]
  },
  {
   "cell_type": "code",
   "execution_count": 1,
   "id": "f3215fc2",
   "metadata": {},
   "outputs": [],
   "source": [
    "# Importing libraries\n",
    "\n",
    "import pandas as pd\n",
    "import numpy as np \n",
    "import matplotlib.pyplot as plt\n",
    "import seaborn as sns\n",
    "import sklearn \n",
    "import scipy\n",
    "import warnings\n",
    "warnings.filterwarnings(action='ignore',category=UserWarning)"
   ]
  },
  {
   "cell_type": "code",
   "execution_count": 2,
   "id": "600203e4",
   "metadata": {},
   "outputs": [
    {
     "data": {
      "text/html": [
       "<div>\n",
       "<style scoped>\n",
       "    .dataframe tbody tr th:only-of-type {\n",
       "        vertical-align: middle;\n",
       "    }\n",
       "\n",
       "    .dataframe tbody tr th {\n",
       "        vertical-align: top;\n",
       "    }\n",
       "\n",
       "    .dataframe thead th {\n",
       "        text-align: right;\n",
       "    }\n",
       "</style>\n",
       "<table border=\"1\" class=\"dataframe\">\n",
       "  <thead>\n",
       "    <tr style=\"text-align: right;\">\n",
       "      <th></th>\n",
       "      <th>SAT_Scores</th>\n",
       "      <th>GPA</th>\n",
       "    </tr>\n",
       "  </thead>\n",
       "  <tbody>\n",
       "    <tr>\n",
       "      <th>0</th>\n",
       "      <td>206</td>\n",
       "      <td>2.3</td>\n",
       "    </tr>\n",
       "    <tr>\n",
       "      <th>1</th>\n",
       "      <td>214</td>\n",
       "      <td>2.4</td>\n",
       "    </tr>\n",
       "    <tr>\n",
       "      <th>2</th>\n",
       "      <td>717</td>\n",
       "      <td>3.5</td>\n",
       "    </tr>\n",
       "    <tr>\n",
       "      <th>3</th>\n",
       "      <td>580</td>\n",
       "      <td>2.8</td>\n",
       "    </tr>\n",
       "    <tr>\n",
       "      <th>4</th>\n",
       "      <td>404</td>\n",
       "      <td>2.6</td>\n",
       "    </tr>\n",
       "  </tbody>\n",
       "</table>\n",
       "</div>"
      ],
      "text/plain": [
       "   SAT_Scores  GPA\n",
       "0         206  2.3\n",
       "1         214  2.4\n",
       "2         717  3.5\n",
       "3         580  2.8\n",
       "4         404  2.6"
      ]
     },
     "execution_count": 2,
     "metadata": {},
     "output_type": "execute_result"
    }
   ],
   "source": [
    "# Importing dataset\n",
    "data = pd.read_csv('C:/Users/vaibh/Desktop/360 Digitmg/SImple Regression\\Asssignments/SAT_GPA.csv')\n",
    "data.head()"
   ]
  },
  {
   "cell_type": "code",
   "execution_count": 3,
   "id": "1af58256",
   "metadata": {},
   "outputs": [
    {
     "data": {
      "text/plain": [
       "(200, 2)"
      ]
     },
     "execution_count": 3,
     "metadata": {},
     "output_type": "execute_result"
    }
   ],
   "source": [
    "# checking dimensions of the dataset\n",
    "data.shape"
   ]
  },
  {
   "cell_type": "code",
   "execution_count": 4,
   "id": "c7295189",
   "metadata": {},
   "outputs": [
    {
     "data": {
      "text/plain": [
       "SAT_Scores    0\n",
       "GPA           0\n",
       "dtype: int64"
      ]
     },
     "execution_count": 4,
     "metadata": {},
     "output_type": "execute_result"
    }
   ],
   "source": [
    "# checking for null values\n",
    "data.isnull().sum()"
   ]
  },
  {
   "cell_type": "markdown",
   "id": "d1d86883",
   "metadata": {},
   "source": [
    "There are no null values"
   ]
  },
  {
   "cell_type": "code",
   "execution_count": 5,
   "id": "d7f4683c",
   "metadata": {},
   "outputs": [
    {
     "data": {
      "text/plain": [
       "2"
      ]
     },
     "execution_count": 5,
     "metadata": {},
     "output_type": "execute_result"
    }
   ],
   "source": [
    "# checking for duplicate value\n",
    "data.duplicated().sum()"
   ]
  },
  {
   "cell_type": "markdown",
   "id": "b4e11ae8",
   "metadata": {},
   "source": [
    "There are 2 duplicate values"
   ]
  },
  {
   "cell_type": "code",
   "execution_count": 6,
   "id": "c59ac011",
   "metadata": {},
   "outputs": [],
   "source": [
    "data.drop_duplicates(ignore_index=True, inplace=True)"
   ]
  },
  {
   "cell_type": "code",
   "execution_count": 7,
   "id": "c47827bd",
   "metadata": {},
   "outputs": [
    {
     "data": {
      "text/html": [
       "<div>\n",
       "<style scoped>\n",
       "    .dataframe tbody tr th:only-of-type {\n",
       "        vertical-align: middle;\n",
       "    }\n",
       "\n",
       "    .dataframe tbody tr th {\n",
       "        vertical-align: top;\n",
       "    }\n",
       "\n",
       "    .dataframe thead th {\n",
       "        text-align: right;\n",
       "    }\n",
       "</style>\n",
       "<table border=\"1\" class=\"dataframe\">\n",
       "  <thead>\n",
       "    <tr style=\"text-align: right;\">\n",
       "      <th></th>\n",
       "      <th>count</th>\n",
       "      <th>mean</th>\n",
       "      <th>std</th>\n",
       "      <th>min</th>\n",
       "      <th>25%</th>\n",
       "      <th>50%</th>\n",
       "      <th>75%</th>\n",
       "      <th>max</th>\n",
       "    </tr>\n",
       "  </thead>\n",
       "  <tbody>\n",
       "    <tr>\n",
       "      <th>SAT_Scores</th>\n",
       "      <td>198.0</td>\n",
       "      <td>493.843434</td>\n",
       "      <td>174.423025</td>\n",
       "      <td>202.0</td>\n",
       "      <td>351.25</td>\n",
       "      <td>481.5</td>\n",
       "      <td>644.5</td>\n",
       "      <td>797.0</td>\n",
       "    </tr>\n",
       "    <tr>\n",
       "      <th>GPA</th>\n",
       "      <td>198.0</td>\n",
       "      <td>2.846970</td>\n",
       "      <td>0.538626</td>\n",
       "      <td>2.0</td>\n",
       "      <td>2.40</td>\n",
       "      <td>2.8</td>\n",
       "      <td>3.4</td>\n",
       "      <td>3.9</td>\n",
       "    </tr>\n",
       "  </tbody>\n",
       "</table>\n",
       "</div>"
      ],
      "text/plain": [
       "            count        mean         std    min     25%    50%    75%    max\n",
       "SAT_Scores  198.0  493.843434  174.423025  202.0  351.25  481.5  644.5  797.0\n",
       "GPA         198.0    2.846970    0.538626    2.0    2.40    2.8    3.4    3.9"
      ]
     },
     "execution_count": 7,
     "metadata": {},
     "output_type": "execute_result"
    }
   ],
   "source": [
    "# Descriptive statistics of the dataset\n",
    "data.describe().T"
   ]
  },
  {
   "cell_type": "code",
   "execution_count": 8,
   "id": "42e71822",
   "metadata": {},
   "outputs": [
    {
     "name": "stdout",
     "output_type": "stream",
     "text": [
      "<class 'pandas.core.frame.DataFrame'>\n",
      "RangeIndex: 198 entries, 0 to 197\n",
      "Data columns (total 2 columns):\n",
      " #   Column      Non-Null Count  Dtype  \n",
      "---  ------      --------------  -----  \n",
      " 0   SAT_Scores  198 non-null    int64  \n",
      " 1   GPA         198 non-null    float64\n",
      "dtypes: float64(1), int64(1)\n",
      "memory usage: 3.2 KB\n"
     ]
    }
   ],
   "source": [
    "# Info of the dataset\n",
    "data.info()"
   ]
  },
  {
   "cell_type": "code",
   "execution_count": 9,
   "id": "212fdd27",
   "metadata": {
    "scrolled": false
   },
   "outputs": [
    {
     "data": {
      "image/png": "[encoded data removed]",
      "text/plain": [
       "<Figure size 432x288 with 1 Axes>"
      ]
     },
     "metadata": {
      "needs_background": "light"
     },
     "output_type": "display_data"
    },
    {
     "data": {
      "image/png": "[encoded data removed]",
      "text/plain": [
       "<Figure size 432x288 with 1 Axes>"
      ]
     },
     "metadata": {
      "needs_background": "light"
     },
     "output_type": "display_data"
    }
   ],
   "source": [
    "# Plotting histogram to check distribution of the features\n",
    "sns.histplot(data['SAT_Scores'],kde=1);plt.show()\n",
    "sns.histplot(data['GPA'],kde=1);plt.show()"
   ]
  },
  {
   "cell_type": "markdown",
   "id": "d2d3ef0e",
   "metadata": {},
   "source": [
    "The data seems to be slighly right skewed"
   ]
  },
  {
   "cell_type": "code",
   "execution_count": 10,
   "id": "424a469d",
   "metadata": {},
   "outputs": [
    {
     "data": {
      "image/png": "[encoded data removed]",
      "text/plain": [
       "<Figure size 432x288 with 1 Axes>"
      ]
     },
     "metadata": {
      "needs_background": "light"
     },
     "output_type": "display_data"
    },
    {
     "data": {
      "image/png": "[encoded data removed]",
      "text/plain": [
       "<Figure size 432x288 with 1 Axes>"
      ]
     },
     "metadata": {
      "needs_background": "light"
     },
     "output_type": "display_data"
    }
   ],
   "source": [
    "# Checking for outliers\n",
    "sns.boxplot(data = data.GPA); plt.show()\n",
    "sns.boxplot(data = data.SAT_Scores); plt.show()"
   ]
  },
  {
   "cell_type": "markdown",
   "id": "1584e176",
   "metadata": {},
   "source": [
    "There are no outliers in the dataset"
   ]
  },
  {
   "cell_type": "code",
   "execution_count": 11,
   "id": "8a02a3d1",
   "metadata": {},
   "outputs": [
    {
     "data": {
      "text/plain": [
       "<AxesSubplot:xlabel='GPA', ylabel='SAT_Scores'>"
      ]
     },
     "execution_count": 11,
     "metadata": {},
     "output_type": "execute_result"
    },
    {
     "data": {
      "image/png": "[encoded data removed]",
      "text/plain": [
       "<Figure size 432x288 with 1 Axes>"
      ]
     },
     "metadata": {
      "needs_background": "light"
     },
     "output_type": "display_data"
    }
   ],
   "source": [
    "# Lineplot \n",
    "sns.lineplot(y = data['SAT_Scores'], x = data['GPA'])"
   ]
  },
  {
   "cell_type": "code",
   "execution_count": 12,
   "id": "9bef129e",
   "metadata": {},
   "outputs": [
    {
     "data": {
      "text/html": [
       "<div>\n",
       "<style scoped>\n",
       "    .dataframe tbody tr th:only-of-type {\n",
       "        vertical-align: middle;\n",
       "    }\n",
       "\n",
       "    .dataframe tbody tr th {\n",
       "        vertical-align: top;\n",
       "    }\n",
       "\n",
       "    .dataframe thead th {\n",
       "        text-align: right;\n",
       "    }\n",
       "</style>\n",
       "<table border=\"1\" class=\"dataframe\">\n",
       "  <thead>\n",
       "    <tr style=\"text-align: right;\">\n",
       "      <th></th>\n",
       "      <th>SAT_Scores</th>\n",
       "      <th>GPA</th>\n",
       "    </tr>\n",
       "  </thead>\n",
       "  <tbody>\n",
       "    <tr>\n",
       "      <th>SAT_Scores</th>\n",
       "      <td>1.000000</td>\n",
       "      <td>0.298389</td>\n",
       "    </tr>\n",
       "    <tr>\n",
       "      <th>GPA</th>\n",
       "      <td>0.298389</td>\n",
       "      <td>1.000000</td>\n",
       "    </tr>\n",
       "  </tbody>\n",
       "</table>\n",
       "</div>"
      ],
      "text/plain": [
       "            SAT_Scores       GPA\n",
       "SAT_Scores    1.000000  0.298389\n",
       "GPA           0.298389  1.000000"
      ]
     },
     "execution_count": 12,
     "metadata": {},
     "output_type": "execute_result"
    }
   ],
   "source": [
    "# Correlation between the features\n",
    "data.corr()"
   ]
  },
  {
   "cell_type": "markdown",
   "id": "8e5f60b3",
   "metadata": {},
   "source": [
    "There is low correlation between the SAT Scores and GPA"
   ]
  },
  {
   "cell_type": "markdown",
   "id": "a4307b6f",
   "metadata": {},
   "source": [
    "# MODEL 1"
   ]
  },
  {
   "cell_type": "code",
   "execution_count": 13,
   "id": "c8539774",
   "metadata": {},
   "outputs": [],
   "source": [
    "# importing statsmodels for Simple Linear Regression\n",
    "\n",
    "import statsmodels.formula.api as smf\n",
    "\n",
    "model = smf.ols('GPA ~ SAT_Scores',data = data).fit()    # fiting the data to OLS model"
   ]
  },
  {
   "cell_type": "code",
   "execution_count": 14,
   "id": "9cb8aeb9",
   "metadata": {},
   "outputs": [
    {
     "data": {
      "text/html": [
       "<table class=\"simpletable\">\n",
       "<caption>OLS Regression Results</caption>\n",
       "<tr>\n",
       "  <th>Dep. Variable:</th>           <td>GPA</td>       <th>  R-squared:         </th> <td>   0.089</td>\n",
       "</tr>\n",
       "<tr>\n",
       "  <th>Model:</th>                   <td>OLS</td>       <th>  Adj. R-squared:    </th> <td>   0.084</td>\n",
       "</tr>\n",
       "<tr>\n",
       "  <th>Method:</th>             <td>Least Squares</td>  <th>  F-statistic:       </th> <td>   19.16</td>\n",
       "</tr>\n",
       "<tr>\n",
       "  <th>Date:</th>             <td>Thu, 28 Jul 2022</td> <th>  Prob (F-statistic):</th> <td>1.96e-05</td>\n",
       "</tr>\n",
       "<tr>\n",
       "  <th>Time:</th>                 <td>15:18:18</td>     <th>  Log-Likelihood:    </th> <td> -148.71</td>\n",
       "</tr>\n",
       "<tr>\n",
       "  <th>No. Observations:</th>      <td>   198</td>      <th>  AIC:               </th> <td>   301.4</td>\n",
       "</tr>\n",
       "<tr>\n",
       "  <th>Df Residuals:</th>          <td>   196</td>      <th>  BIC:               </th> <td>   308.0</td>\n",
       "</tr>\n",
       "<tr>\n",
       "  <th>Df Model:</th>              <td>     1</td>      <th>                     </th>     <td> </td>   \n",
       "</tr>\n",
       "<tr>\n",
       "  <th>Covariance Type:</th>      <td>nonrobust</td>    <th>                     </th>     <td> </td>   \n",
       "</tr>\n",
       "</table>\n",
       "<table class=\"simpletable\">\n",
       "<tr>\n",
       "       <td></td>         <th>coef</th>     <th>std err</th>      <th>t</th>      <th>P>|t|</th>  <th>[0.025</th>    <th>0.975]</th>  \n",
       "</tr>\n",
       "<tr>\n",
       "  <th>Intercept</th>  <td>    2.3919</td> <td>    0.110</td> <td>   21.699</td> <td> 0.000</td> <td>    2.175</td> <td>    2.609</td>\n",
       "</tr>\n",
       "<tr>\n",
       "  <th>SAT_Scores</th> <td>    0.0009</td> <td>    0.000</td> <td>    4.377</td> <td> 0.000</td> <td>    0.001</td> <td>    0.001</td>\n",
       "</tr>\n",
       "</table>\n",
       "<table class=\"simpletable\">\n",
       "<tr>\n",
       "  <th>Omnibus:</th>       <td>11.942</td> <th>  Durbin-Watson:     </th> <td>   1.352</td>\n",
       "</tr>\n",
       "<tr>\n",
       "  <th>Prob(Omnibus):</th> <td> 0.003</td> <th>  Jarque-Bera (JB):  </th> <td>   7.209</td>\n",
       "</tr>\n",
       "<tr>\n",
       "  <th>Skew:</th>          <td> 0.307</td> <th>  Prob(JB):          </th> <td>  0.0272</td>\n",
       "</tr>\n",
       "<tr>\n",
       "  <th>Kurtosis:</th>      <td> 2.295</td> <th>  Cond. No.          </th> <td>1.58e+03</td>\n",
       "</tr>\n",
       "</table><br/><br/>Notes:<br/>[1] Standard Errors assume that the covariance matrix of the errors is correctly specified.<br/>[2] The condition number is large, 1.58e+03. This might indicate that there are<br/>strong multicollinearity or other numerical problems."
      ],
      "text/plain": [
       "<class 'statsmodels.iolib.summary.Summary'>\n",
       "\"\"\"\n",
       "                            OLS Regression Results                            \n",
       "==============================================================================\n",
       "Dep. Variable:                    GPA   R-squared:                       0.089\n",
       "Model:                            OLS   Adj. R-squared:                  0.084\n",
       "Method:                 Least Squares   F-statistic:                     19.16\n",
       "Date:                Thu, 28 Jul 2022   Prob (F-statistic):           1.96e-05\n",
       "Time:                        15:18:18   Log-Likelihood:                -148.71\n",
       "No. Observations:                 198   AIC:                             301.4\n",
       "Df Residuals:                     196   BIC:                             308.0\n",
       "Df Model:                           1                                         \n",
       "Covariance Type:            nonrobust                                         \n",
       "==============================================================================\n",
       "                 coef    std err          t      P>|t|      [0.025      0.975]\n",
       "------------------------------------------------------------------------------\n",
       "Intercept      2.3919      0.110     21.699      0.000       2.175       2.609\n",
       "SAT_Scores     0.0009      0.000      4.377      0.000       0.001       0.001\n",
       "==============================================================================\n",
       "Omnibus:                       11.942   Durbin-Watson:                   1.352\n",
       "Prob(Omnibus):                  0.003   Jarque-Bera (JB):                7.209\n",
       "Skew:                           0.307   Prob(JB):                       0.0272\n",
       "Kurtosis:                       2.295   Cond. No.                     1.58e+03\n",
       "==============================================================================\n",
       "\n",
       "Notes:\n",
       "[1] Standard Errors assume that the covariance matrix of the errors is correctly specified.\n",
       "[2] The condition number is large, 1.58e+03. This might indicate that there are\n",
       "strong multicollinearity or other numerical problems.\n",
       "\"\"\""
      ]
     },
     "execution_count": 14,
     "metadata": {},
     "output_type": "execute_result"
    }
   ],
   "source": [
    "# Summary of the model\n",
    "\n",
    "model.summary()"
   ]
  },
  {
   "cell_type": "markdown",
   "id": "4b7406e2",
   "metadata": {},
   "source": [
    "We get an R-squared value of 0.089"
   ]
  },
  {
   "cell_type": "code",
   "execution_count": 15,
   "id": "12b6c2f2",
   "metadata": {},
   "outputs": [
    {
     "data": {
      "text/plain": [
       "0      2.581740\n",
       "1      2.589111\n",
       "2      3.052595\n",
       "3      2.926358\n",
       "4      2.764185\n",
       "         ...   \n",
       "193    2.860936\n",
       "194    2.821314\n",
       "195    3.012051\n",
       "196    3.074709\n",
       "197    2.630576\n",
       "Length: 198, dtype: float64"
      ]
     },
     "execution_count": 15,
     "metadata": {},
     "output_type": "execute_result"
    }
   ],
   "source": [
    "# Predicting the Weight based on the model \n",
    "pred1 = model.predict(data.SAT_Scores)\n",
    "pred1"
   ]
  },
  {
   "cell_type": "code",
   "execution_count": 16,
   "id": "14227dbb",
   "metadata": {},
   "outputs": [
    {
     "name": "stdout",
     "output_type": "stream",
     "text": [
      "\n",
      "R-Squared value for model 1 : 0.08903607347445475\n",
      "\n",
      "RMSE for model 1 : 0.5127884107057588\n"
     ]
    }
   ],
   "source": [
    "# RMSE Error calculation (Model-1)\n",
    "\n",
    "res1 = data.GPA - pred1\n",
    "rmse1 = np.sqrt(np.mean(res1 * res1))\n",
    "\n",
    "r_sqared1 = model.rsquared  \n",
    "print(f'\\nR-Squared value for model 1 : {r_sqared1}')\n",
    "print(f'\\nRMSE for model 1 : {rmse1}')"
   ]
  },
  {
   "cell_type": "markdown",
   "id": "34afa948",
   "metadata": {},
   "source": [
    "# MODEL 2"
   ]
  },
  {
   "cell_type": "markdown",
   "id": "8c42f114",
   "metadata": {},
   "source": [
    "Using log of x"
   ]
  },
  {
   "cell_type": "code",
   "execution_count": 17,
   "id": "e181cf9b",
   "metadata": {},
   "outputs": [
    {
     "name": "stdout",
     "output_type": "stream",
     "text": [
      "                            OLS Regression Results                            \n",
      "==============================================================================\n",
      "Dep. Variable:                    GPA   R-squared:                       0.079\n",
      "Model:                            OLS   Adj. R-squared:                  0.074\n",
      "Method:                 Least Squares   F-statistic:                     16.71\n",
      "Date:                Thu, 28 Jul 2022   Prob (F-statistic):           6.36e-05\n",
      "Time:                        15:18:18   Log-Likelihood:                -149.84\n",
      "No. Observations:                 198   AIC:                             303.7\n",
      "Df Residuals:                     196   BIC:                             310.3\n",
      "Df Model:                           1                                         \n",
      "Covariance Type:            nonrobust                                         \n",
      "======================================================================================\n",
      "                         coef    std err          t      P>|t|      [0.025      0.975]\n",
      "--------------------------------------------------------------------------------------\n",
      "Intercept              0.4508      0.587      0.767      0.444      -0.708       1.609\n",
      "np.log(SAT_Scores)     0.3907      0.096      4.088      0.000       0.202       0.579\n",
      "==============================================================================\n",
      "Omnibus:                       15.351   Durbin-Watson:                   1.360\n",
      "Prob(Omnibus):                  0.000   Jarque-Bera (JB):                8.165\n",
      "Skew:                           0.313   Prob(JB):                       0.0169\n",
      "Kurtosis:                       2.227   Cond. No.                         101.\n",
      "==============================================================================\n",
      "\n",
      "Notes:\n",
      "[1] Standard Errors assume that the covariance matrix of the errors is correctly specified.\n",
      "\n",
      "R-Squared value for model 2 : 0.07855087370135949\n",
      "\n",
      "RMSE for model 2 : 0.5157310661416382\n"
     ]
    }
   ],
   "source": [
    "model2 = smf.ols('GPA ~ np.log(SAT_Scores)',data = data).fit()\n",
    "summary2 = model2.summary() ; print(summary2)                    # Model summary \n",
    "r_sqared2 = model2.rsquared                                      # Model r-squared value\n",
    "\n",
    "pred2 = model2.predict(data.SAT_Scores)                            # Using the model to predict \n",
    "\n",
    "res2 = data.GPA - pred2                                       # Calculating Error between actual and predicted \n",
    "rmse2 = np.sqrt(np.mean(res2 * res2))\n",
    "print(f'\\nR-Squared value for model 2 : {r_sqared2}')\n",
    "print(f'\\nRMSE for model 2 : {rmse2}')"
   ]
  },
  {
   "cell_type": "markdown",
   "id": "13c260bf",
   "metadata": {},
   "source": [
    "# MODEL 3"
   ]
  },
  {
   "cell_type": "markdown",
   "id": "9ee0f396",
   "metadata": {},
   "source": [
    "Using log of y and log of x"
   ]
  },
  {
   "cell_type": "code",
   "execution_count": 18,
   "id": "232d16af",
   "metadata": {},
   "outputs": [
    {
     "name": "stdout",
     "output_type": "stream",
     "text": [
      "                            OLS Regression Results                            \n",
      "==============================================================================\n",
      "Dep. Variable:            np.log(GPA)   R-squared:                       0.080\n",
      "Model:                            OLS   Adj. R-squared:                  0.076\n",
      "Method:                 Least Squares   F-statistic:                     17.09\n",
      "Date:                Thu, 28 Jul 2022   Prob (F-statistic):           5.28e-05\n",
      "Time:                        15:18:18   Log-Likelihood:                 57.996\n",
      "No. Observations:                 198   AIC:                            -112.0\n",
      "Df Residuals:                     196   BIC:                            -105.4\n",
      "Df Model:                           1                                         \n",
      "Covariance Type:            nonrobust                                         \n",
      "======================================================================================\n",
      "                         coef    std err          t      P>|t|      [0.025      0.975]\n",
      "--------------------------------------------------------------------------------------\n",
      "Intercept              0.1802      0.206      0.876      0.382      -0.225       0.586\n",
      "np.log(SAT_Scores)     0.1383      0.033      4.134      0.000       0.072       0.204\n",
      "==============================================================================\n",
      "Omnibus:                       13.897   Durbin-Watson:                   1.410\n",
      "Prob(Omnibus):                  0.001   Jarque-Bera (JB):                5.443\n",
      "Skew:                           0.064   Prob(JB):                       0.0658\n",
      "Kurtosis:                       2.198   Cond. No.                         101.\n",
      "==============================================================================\n",
      "\n",
      "Notes:\n",
      "[1] Standard Errors assume that the covariance matrix of the errors is correctly specified.\n",
      "\n",
      "R-Squared value for model 3 : 0.08020160416971622\n",
      "\n",
      "RMSE for model 3 : 0.5173814711966994\n"
     ]
    }
   ],
   "source": [
    "model3 = smf.ols('np.log(GPA) ~ np.log(SAT_Scores)',data = data).fit()\n",
    "summary3 = model3.summary() ; print(summary3)                    # Model summary \n",
    "r_sqared3 = model3.rsquared                                      # Model r-squared value\n",
    "\n",
    "pred3 = np.exp(model3.predict(data.SAT_Scores))                       # Using the model to predict \n",
    "\n",
    "res3 = data.GPA - pred3                                       # Calculating Error between actual and predicted \n",
    "rmse3 = np.sqrt(np.mean(res3 * res3))\n",
    "print(f'\\nR-Squared value for model 3 : {r_sqared3}')\n",
    "print(f'\\nRMSE for model 3 : {rmse3}')"
   ]
  },
  {
   "cell_type": "markdown",
   "id": "46d30c4b",
   "metadata": {},
   "source": [
    "# MODEL 4"
   ]
  },
  {
   "cell_type": "markdown",
   "id": "9b2beb16",
   "metadata": {},
   "source": [
    "Using polynomial relationship between x and y"
   ]
  },
  {
   "cell_type": "code",
   "execution_count": 19,
   "id": "13c25242",
   "metadata": {
    "scrolled": false
   },
   "outputs": [
    {
     "name": "stdout",
     "output_type": "stream",
     "text": [
      "                            OLS Regression Results                            \n",
      "==============================================================================\n",
      "Dep. Variable:            np.log(GPA)   R-squared:                       0.098\n",
      "Model:                            OLS   Adj. R-squared:                  0.089\n",
      "Method:                 Least Squares   F-statistic:                     10.62\n",
      "Date:                Thu, 28 Jul 2022   Prob (F-statistic):           4.19e-05\n",
      "Time:                        15:18:18   Log-Likelihood:                 59.954\n",
      "No. Observations:                 198   AIC:                            -113.9\n",
      "Df Residuals:                     195   BIC:                            -104.0\n",
      "Df Model:                           2                                         \n",
      "Covariance Type:            nonrobust                                         \n",
      "==============================================================================================\n",
      "                                 coef    std err          t      P>|t|      [0.025      0.975]\n",
      "----------------------------------------------------------------------------------------------\n",
      "Intercept                      1.0174      0.111      9.138      0.000       0.798       1.237\n",
      "SAT_Scores                    -0.0004      0.000     -0.736      0.463      -0.001       0.001\n",
      "I(SAT_Scores * SAT_Scores)  6.816e-07    4.8e-07      1.419      0.158   -2.66e-07    1.63e-06\n",
      "==============================================================================\n",
      "Omnibus:                        8.058   Durbin-Watson:                   1.385\n",
      "Prob(Omnibus):                  0.018   Jarque-Bera (JB):                3.921\n",
      "Skew:                           0.028   Prob(JB):                        0.141\n",
      "Kurtosis:                       2.313   Cond. No.                     2.83e+06\n",
      "==============================================================================\n",
      "\n",
      "Notes:\n",
      "[1] Standard Errors assume that the covariance matrix of the errors is correctly specified.\n",
      "[2] The condition number is large, 2.83e+06. This might indicate that there are\n",
      "strong multicollinearity or other numerical problems.\n",
      "\n",
      "R-Squared value for model 4 : 0.09821997102345736\n",
      "\n",
      "RMSE for model 4 : 0.5106520912740962\n"
     ]
    }
   ],
   "source": [
    "model4 = smf.ols('np.log(GPA) ~ SAT_Scores + I(SAT_Scores * SAT_Scores)',data = data).fit()\n",
    "summary4 = model4.summary() ; print(summary4)                    # Model summary \n",
    "r_sqared4 = model4.rsquared                                      # Model r-squared value\n",
    "\n",
    "pred4 = np.exp(model4.predict(data.SAT_Scores))                       # Using the model to predict \n",
    "\n",
    "res4 = data.GPA - pred4                                       # Calculating Error between actual and predicted \n",
    "rmse4 = np.sqrt(np.mean(res4 * res4))\n",
    "print(f'\\nR-Squared value for model 4 : {r_sqared4}')\n",
    "print(f'\\nRMSE for model 4 : {rmse4}')"
   ]
  },
  {
   "cell_type": "markdown",
   "id": "e265cb55",
   "metadata": {},
   "source": [
    "# MODEL 5"
   ]
  },
  {
   "cell_type": "markdown",
   "id": "602154a6",
   "metadata": {},
   "source": [
    "Using log of y with x"
   ]
  },
  {
   "cell_type": "code",
   "execution_count": 20,
   "id": "934191b8",
   "metadata": {},
   "outputs": [
    {
     "name": "stdout",
     "output_type": "stream",
     "text": [
      "                            OLS Regression Results                            \n",
      "==============================================================================\n",
      "Dep. Variable:            np.log(GPA)   R-squared:                       0.089\n",
      "Model:                            OLS   Adj. R-squared:                  0.084\n",
      "Method:                 Least Squares   F-statistic:                     19.13\n",
      "Date:                Thu, 28 Jul 2022   Prob (F-statistic):           1.98e-05\n",
      "Time:                        15:18:19   Log-Likelihood:                 58.937\n",
      "No. Observations:                 198   AIC:                            -113.9\n",
      "Df Residuals:                     196   BIC:                            -107.3\n",
      "Df Model:                           1                                         \n",
      "Covariance Type:            nonrobust                                         \n",
      "==============================================================================\n",
      "                 coef    std err          t      P>|t|      [0.025      0.975]\n",
      "------------------------------------------------------------------------------\n",
      "Intercept      0.8692      0.039     22.505      0.000       0.793       0.945\n",
      "SAT_Scores     0.0003   7.38e-05      4.373      0.000       0.000       0.000\n",
      "==============================================================================\n",
      "Omnibus:                       10.630   Durbin-Watson:                   1.402\n",
      "Prob(Omnibus):                  0.005   Jarque-Bera (JB):                4.667\n",
      "Skew:                           0.055   Prob(JB):                       0.0969\n",
      "Kurtosis:                       2.256   Cond. No.                     1.58e+03\n",
      "==============================================================================\n",
      "\n",
      "Notes:\n",
      "[1] Standard Errors assume that the covariance matrix of the errors is correctly specified.\n",
      "[2] The condition number is large, 1.58e+03. This might indicate that there are\n",
      "strong multicollinearity or other numerical problems.\n",
      "\n",
      "R-Squared value for model 5 : 0.08891001731049497\n",
      "\n",
      "RMSE for model 5 : 0.5143520706362246\n"
     ]
    }
   ],
   "source": [
    "model5 = smf.ols('np.log(GPA) ~ SAT_Scores',data = data).fit()\n",
    "summary5 = model5.summary() ; print(summary5)                    # Model summary \n",
    "r_sqared5 = model5.rsquared                                      # Model r-squared value\n",
    "\n",
    "pred5 = np.exp(model5.predict(data.SAT_Scores))                       # Using the model to predict \n",
    "\n",
    "res5 = data.GPA - pred5                                       # Calculating Error between actual and predicted \n",
    "rmse5 = np.sqrt(np.mean(res5 * res5))\n",
    "print(f'\\nR-Squared value for model 5 : {r_sqared5}')\n",
    "print(f'\\nRMSE for model 5 : {rmse5}')"
   ]
  },
  {
   "cell_type": "code",
   "execution_count": 21,
   "id": "867637da",
   "metadata": {},
   "outputs": [
    {
     "data": {
      "text/html": [
       "<div>\n",
       "<style scoped>\n",
       "    .dataframe tbody tr th:only-of-type {\n",
       "        vertical-align: middle;\n",
       "    }\n",
       "\n",
       "    .dataframe tbody tr th {\n",
       "        vertical-align: top;\n",
       "    }\n",
       "\n",
       "    .dataframe thead th {\n",
       "        text-align: right;\n",
       "    }\n",
       "</style>\n",
       "<table border=\"1\" class=\"dataframe\">\n",
       "  <thead>\n",
       "    <tr style=\"text-align: right;\">\n",
       "      <th></th>\n",
       "      <th>R-Squared</th>\n",
       "      <th>RMSE</th>\n",
       "    </tr>\n",
       "  </thead>\n",
       "  <tbody>\n",
       "    <tr>\n",
       "      <th>Model_1</th>\n",
       "      <td>0.089036</td>\n",
       "      <td>0.512788</td>\n",
       "    </tr>\n",
       "    <tr>\n",
       "      <th>Model_2</th>\n",
       "      <td>0.078551</td>\n",
       "      <td>0.515731</td>\n",
       "    </tr>\n",
       "    <tr>\n",
       "      <th>Model_3</th>\n",
       "      <td>0.080202</td>\n",
       "      <td>0.517381</td>\n",
       "    </tr>\n",
       "    <tr>\n",
       "      <th>Model_4</th>\n",
       "      <td>0.098220</td>\n",
       "      <td>0.510652</td>\n",
       "    </tr>\n",
       "    <tr>\n",
       "      <th>Model_5</th>\n",
       "      <td>0.088910</td>\n",
       "      <td>0.514352</td>\n",
       "    </tr>\n",
       "  </tbody>\n",
       "</table>\n",
       "</div>"
      ],
      "text/plain": [
       "         R-Squared      RMSE\n",
       "Model_1   0.089036  0.512788\n",
       "Model_2   0.078551  0.515731\n",
       "Model_3   0.080202  0.517381\n",
       "Model_4   0.098220  0.510652\n",
       "Model_5   0.088910  0.514352"
      ]
     },
     "execution_count": 21,
     "metadata": {},
     "output_type": "execute_result"
    }
   ],
   "source": [
    "# Comparing R-squared and error for each model\n",
    "\n",
    "results = pd.DataFrame([],index =['R-Squared', 'RMSE'])\n",
    "results['Model_1'] = r_sqared1, rmse1\n",
    "results['Model_2'] = r_sqared2, rmse2\n",
    "results['Model_3'] = r_sqared3, rmse3\n",
    "results['Model_4'] = r_sqared4, rmse4\n",
    "results['Model_5'] = r_sqared5, rmse5\n",
    "results.T"
   ]
  },
  {
   "cell_type": "markdown",
   "id": "7f37715c",
   "metadata": {},
   "source": [
    "Model_4 with oplynomial relationship is the best model with the highest R-squared value and has low RMSE"
   ]
  },
  {
   "cell_type": "code",
   "execution_count": 22,
   "id": "d31667df",
   "metadata": {},
   "outputs": [],
   "source": [
    "# Using train test split\n",
    "\n",
    "from sklearn import model_selection\n",
    "\n",
    "train, test = model_selection.train_test_split(data, test_size = 0.2)"
   ]
  },
  {
   "cell_type": "code",
   "execution_count": 23,
   "id": "750f815e",
   "metadata": {},
   "outputs": [],
   "source": [
    "# Using the best model (Model_1)\n",
    "# Fitting the train data to the model\n",
    "\n",
    "best_model = smf.ols('np.log(GPA) ~ SAT_Scores + I(SAT_Scores * SAT_Scores)' ,data = train).fit()"
   ]
  },
  {
   "cell_type": "code",
   "execution_count": 24,
   "id": "66c45709",
   "metadata": {},
   "outputs": [
    {
     "data": {
      "text/plain": [
       "196    3.080505\n",
       "64     3.070407\n",
       "135    3.166636\n",
       "47     2.769911\n",
       "146    2.912225\n",
       "14     2.694656\n",
       "37     2.663774\n",
       "67     2.903188\n",
       "175    2.666390\n",
       "190    2.659303\n",
       "125    2.724358\n",
       "36     2.692347\n",
       "43     2.652006\n",
       "115    3.035238\n",
       "19     2.879965\n",
       "70     2.714044\n",
       "137    2.651573\n",
       "149    2.659056\n",
       "103    2.885653\n",
       "51     2.729822\n",
       "113    2.658092\n",
       "114    2.707841\n",
       "60     3.068404\n",
       "105    2.656796\n",
       "134    2.651485\n",
       "97     3.201471\n",
       "157    2.652627\n",
       "53     3.094888\n",
       "162    2.860669\n",
       "161    3.099050\n",
       "21     2.765995\n",
       "20     2.729029\n",
       "106    2.652337\n",
       "12     2.689005\n",
       "174    2.652951\n",
       "15     2.656796\n",
       "98     3.029555\n",
       "108    2.653568\n",
       "59     2.658813\n",
       "144    3.086634\n",
       "dtype: float64"
      ]
     },
     "execution_count": 24,
     "metadata": {},
     "output_type": "execute_result"
    }
   ],
   "source": [
    "# Predicting for test data\n",
    "best_pred_test = np.exp(best_model.predict(test.SAT_Scores))\n",
    "best_pred_test"
   ]
  },
  {
   "cell_type": "code",
   "execution_count": 25,
   "id": "c61d4e81",
   "metadata": {},
   "outputs": [
    {
     "name": "stdout",
     "output_type": "stream",
     "text": [
      "\n",
      "R-Squared value for test data : 0.08610290335058679\n",
      "\n",
      "RMSE for test data : 0.505653838696831\n"
     ]
    }
   ],
   "source": [
    "# RMSE Error calculation for test data\n",
    "\n",
    "res_test = test.GPA - best_pred_test\n",
    "rmse_test = np.sqrt(np.mean(res_test * res_test))\n",
    "\n",
    "r_sqared_test = best_model.rsquared  \n",
    "print(f'\\nR-Squared value for test data : {r_sqared_test}')\n",
    "print(f'\\nRMSE for test data : {rmse_test}')"
   ]
  },
  {
   "cell_type": "code",
   "execution_count": 26,
   "id": "fcf25243",
   "metadata": {},
   "outputs": [
    {
     "name": "stdout",
     "output_type": "stream",
     "text": [
      "\n",
      "R-Squared value for train data : 0.08610290335058679\n",
      "\n",
      "RMSE for train data : 0.5120737408686814\n"
     ]
    }
   ],
   "source": [
    "# Predicting for train data\n",
    "best_pred_train = np.exp(best_model.predict(train.SAT_Scores))\n",
    "\n",
    "# RMSE Error calculation for train data\n",
    "\n",
    "res_train = train.GPA - best_pred_train\n",
    "rmse_train = np.sqrt(np.mean(res_train * res_train))\n",
    "\n",
    "r_sqared_train = best_model.rsquared  \n",
    "print(f'\\nR-Squared value for train data : {r_sqared_train}')\n",
    "print(f'\\nRMSE for train data : {rmse_train}')"
   ]
  },
  {
   "cell_type": "markdown",
   "id": "96089c60",
   "metadata": {},
   "source": [
    "All the models gave very low R-squared value of 0.1 indicating the model explains only 10% of variation within the data.\n",
    "\n",
    "Using polynomial relationship model, we can see that the train and test data have the same rsquared value and very low RMSE values.\n",
    "\n",
    "This model thus can be used to describe the relationshp between SAT_scores and GPA"
   ]
  }
 ],
 "metadata": {
  "kernelspec": {
   "display_name": "Python 3 (ipykernel)",
   "language": "python",
   "name": "python3"
  },
  "language_info": {
   "codemirror_mode": {
    "name": "ipython",
    "version": 3
   },
   "file_extension": ".py",
   "mimetype": "text/x-python",
   "name": "python",
   "nbconvert_exporter": "python",
   "pygments_lexer": "ipython3",
   "version": "3.9.12"
  }
 },
 "nbformat": 4,
 "nbformat_minor": 5
}
