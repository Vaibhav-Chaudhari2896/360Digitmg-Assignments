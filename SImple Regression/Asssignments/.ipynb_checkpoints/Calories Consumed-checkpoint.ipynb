{
 "cells": [
  {
   "cell_type": "markdown",
   "id": "4ffcc7f8",
   "metadata": {},
   "source": [
    "A certain food-based company conducted a survey with the help of a fitness company to find the relationship between a person’s weight gain and the number of calories they consumed in order to come up with diet plans for these individuals. Build a Simple Linear Regression model with calories consumed as the target variable. Apply necessary transformations and record the RMSE and correlation coefficient values for different models. "
   ]
  },
  {
   "cell_type": "code",
   "execution_count": 1,
   "id": "f3215fc2",
   "metadata": {},
   "outputs": [],
   "source": [
    "# Importing libraries\n",
    "\n",
    "import pandas as pd\n",
    "import numpy as np \n",
    "import matplotlib.pyplot as plt\n",
    "import seaborn as sns\n",
    "import sklearn \n",
    "import scipy\n",
    "import warnings\n",
    "warnings.filterwarnings(action='ignore',category=UserWarning)"
   ]
  },
  {
   "cell_type": "code",
   "execution_count": 2,
   "id": "600203e4",
   "metadata": {},
   "outputs": [
    {
     "data": {
      "text/html": [
       "<div>\n",
       "<style scoped>\n",
       "    .dataframe tbody tr th:only-of-type {\n",
       "        vertical-align: middle;\n",
       "    }\n",
       "\n",
       "    .dataframe tbody tr th {\n",
       "        vertical-align: top;\n",
       "    }\n",
       "\n",
       "    .dataframe thead th {\n",
       "        text-align: right;\n",
       "    }\n",
       "</style>\n",
       "<table border=\"1\" class=\"dataframe\">\n",
       "  <thead>\n",
       "    <tr style=\"text-align: right;\">\n",
       "      <th></th>\n",
       "      <th>Weight gained (grams)</th>\n",
       "      <th>Calories Consumed</th>\n",
       "    </tr>\n",
       "  </thead>\n",
       "  <tbody>\n",
       "    <tr>\n",
       "      <th>0</th>\n",
       "      <td>108</td>\n",
       "      <td>1500</td>\n",
       "    </tr>\n",
       "    <tr>\n",
       "      <th>1</th>\n",
       "      <td>200</td>\n",
       "      <td>2300</td>\n",
       "    </tr>\n",
       "    <tr>\n",
       "      <th>2</th>\n",
       "      <td>900</td>\n",
       "      <td>3400</td>\n",
       "    </tr>\n",
       "    <tr>\n",
       "      <th>3</th>\n",
       "      <td>200</td>\n",
       "      <td>2200</td>\n",
       "    </tr>\n",
       "    <tr>\n",
       "      <th>4</th>\n",
       "      <td>300</td>\n",
       "      <td>2500</td>\n",
       "    </tr>\n",
       "  </tbody>\n",
       "</table>\n",
       "</div>"
      ],
      "text/plain": [
       "   Weight gained (grams)  Calories Consumed\n",
       "0                    108               1500\n",
       "1                    200               2300\n",
       "2                    900               3400\n",
       "3                    200               2200\n",
       "4                    300               2500"
      ]
     },
     "execution_count": 2,
     "metadata": {},
     "output_type": "execute_result"
    }
   ],
   "source": [
    "# Importing dataset\n",
    "data = pd.read_csv('C:/Users/vaibh/Desktop/360 Digitmg/SImple Regression\\Asssignments/calories_consumed.csv')\n",
    "data.head()"
   ]
  },
  {
   "cell_type": "code",
   "execution_count": 3,
   "id": "1af58256",
   "metadata": {},
   "outputs": [
    {
     "data": {
      "text/plain": [
       "(14, 2)"
      ]
     },
     "execution_count": 3,
     "metadata": {},
     "output_type": "execute_result"
    }
   ],
   "source": [
    "# checking dimensions of the dataset\n",
    "data.shape"
   ]
  },
  {
   "cell_type": "code",
   "execution_count": 4,
   "id": "c7295189",
   "metadata": {},
   "outputs": [
    {
     "data": {
      "text/plain": [
       "Weight gained (grams)    0\n",
       "Calories Consumed        0\n",
       "dtype: int64"
      ]
     },
     "execution_count": 4,
     "metadata": {},
     "output_type": "execute_result"
    }
   ],
   "source": [
    "# checking for null values\n",
    "data.isnull().sum()"
   ]
  },
  {
   "cell_type": "markdown",
   "id": "d1d86883",
   "metadata": {},
   "source": [
    "There are no null values"
   ]
  },
  {
   "cell_type": "code",
   "execution_count": 5,
   "id": "d7f4683c",
   "metadata": {},
   "outputs": [
    {
     "data": {
      "text/plain": [
       "0"
      ]
     },
     "execution_count": 5,
     "metadata": {},
     "output_type": "execute_result"
    }
   ],
   "source": [
    "# checking for duplicate value\n",
    "data.duplicated().sum()"
   ]
  },
  {
   "cell_type": "markdown",
   "id": "b4e11ae8",
   "metadata": {},
   "source": [
    "There are no duplicate values"
   ]
  },
  {
   "cell_type": "code",
   "execution_count": 6,
   "id": "c47827bd",
   "metadata": {},
   "outputs": [
    {
     "data": {
      "text/html": [
       "<div>\n",
       "<style scoped>\n",
       "    .dataframe tbody tr th:only-of-type {\n",
       "        vertical-align: middle;\n",
       "    }\n",
       "\n",
       "    .dataframe tbody tr th {\n",
       "        vertical-align: top;\n",
       "    }\n",
       "\n",
       "    .dataframe thead th {\n",
       "        text-align: right;\n",
       "    }\n",
       "</style>\n",
       "<table border=\"1\" class=\"dataframe\">\n",
       "  <thead>\n",
       "    <tr style=\"text-align: right;\">\n",
       "      <th></th>\n",
       "      <th>count</th>\n",
       "      <th>mean</th>\n",
       "      <th>std</th>\n",
       "      <th>min</th>\n",
       "      <th>25%</th>\n",
       "      <th>50%</th>\n",
       "      <th>75%</th>\n",
       "      <th>max</th>\n",
       "    </tr>\n",
       "  </thead>\n",
       "  <tbody>\n",
       "    <tr>\n",
       "      <th>Weight gained (grams)</th>\n",
       "      <td>14.0</td>\n",
       "      <td>357.714286</td>\n",
       "      <td>333.692495</td>\n",
       "      <td>62.0</td>\n",
       "      <td>114.5</td>\n",
       "      <td>200.0</td>\n",
       "      <td>537.5</td>\n",
       "      <td>1100.0</td>\n",
       "    </tr>\n",
       "    <tr>\n",
       "      <th>Calories Consumed</th>\n",
       "      <td>14.0</td>\n",
       "      <td>2340.714286</td>\n",
       "      <td>752.109488</td>\n",
       "      <td>1400.0</td>\n",
       "      <td>1727.5</td>\n",
       "      <td>2250.0</td>\n",
       "      <td>2775.0</td>\n",
       "      <td>3900.0</td>\n",
       "    </tr>\n",
       "  </tbody>\n",
       "</table>\n",
       "</div>"
      ],
      "text/plain": [
       "                       count         mean         std     min     25%     50%  \\\n",
       "Weight gained (grams)   14.0   357.714286  333.692495    62.0   114.5   200.0   \n",
       "Calories Consumed       14.0  2340.714286  752.109488  1400.0  1727.5  2250.0   \n",
       "\n",
       "                          75%     max  \n",
       "Weight gained (grams)   537.5  1100.0  \n",
       "Calories Consumed      2775.0  3900.0  "
      ]
     },
     "execution_count": 6,
     "metadata": {},
     "output_type": "execute_result"
    }
   ],
   "source": [
    "# Descriptive statistics of the dataset\n",
    "data.describe().T"
   ]
  },
  {
   "cell_type": "code",
   "execution_count": 7,
   "id": "42e71822",
   "metadata": {},
   "outputs": [
    {
     "name": "stdout",
     "output_type": "stream",
     "text": [
      "<class 'pandas.core.frame.DataFrame'>\n",
      "RangeIndex: 14 entries, 0 to 13\n",
      "Data columns (total 2 columns):\n",
      " #   Column                 Non-Null Count  Dtype\n",
      "---  ------                 --------------  -----\n",
      " 0   Weight gained (grams)  14 non-null     int64\n",
      " 1   Calories Consumed      14 non-null     int64\n",
      "dtypes: int64(2)\n",
      "memory usage: 352.0 bytes\n"
     ]
    }
   ],
   "source": [
    "# Info of the dataset\n",
    "data.info()"
   ]
  },
  {
   "cell_type": "code",
   "execution_count": 8,
   "id": "212fdd27",
   "metadata": {
    "scrolled": false
   },
   "outputs": [
    {
     "data": {
      "image/png": "[encoded data removed]",
      "text/plain": [
       "<Figure size 432x288 with 1 Axes>"
      ]
     },
     "metadata": {
      "needs_background": "light"
     },
     "output_type": "display_data"
    },
    {
     "data": {
      "image/png": "[encoded data removed]",
      "text/plain": [
       "<Figure size 432x288 with 1 Axes>"
      ]
     },
     "metadata": {
      "needs_background": "light"
     },
     "output_type": "display_data"
    }
   ],
   "source": [
    "# Plotting histogram to check distribution of the features\n",
    "sns.histplot(data['Weight gained (grams)'],kde=1);plt.show()\n",
    "sns.histplot(data['Calories Consumed'],kde=1);plt.show()"
   ]
  },
  {
   "cell_type": "markdown",
   "id": "d2d3ef0e",
   "metadata": {},
   "source": [
    "The data seems to be right skewed"
   ]
  },
  {
   "cell_type": "code",
   "execution_count": 9,
   "id": "424a469d",
   "metadata": {},
   "outputs": [
    {
     "data": {
      "text/plain": [
       "<AxesSubplot:>"
      ]
     },
     "execution_count": 9,
     "metadata": {},
     "output_type": "execute_result"
    },
    {
     "data": {
      "image/png": "[encoded data removed]",
      "text/plain": [
       "<Figure size 432x288 with 1 Axes>"
      ]
     },
     "metadata": {
      "needs_background": "light"
     },
     "output_type": "display_data"
    }
   ],
   "source": [
    "# Checking for outliers\n",
    "sns.boxplot(data = data)"
   ]
  },
  {
   "cell_type": "markdown",
   "id": "1584e176",
   "metadata": {},
   "source": [
    "There are no outliers in the dataset"
   ]
  },
  {
   "cell_type": "code",
   "execution_count": 10,
   "id": "8a02a3d1",
   "metadata": {},
   "outputs": [
    {
     "data": {
      "text/plain": [
       "<AxesSubplot:xlabel='Calories Consumed', ylabel='Weight gained (grams)'>"
      ]
     },
     "execution_count": 10,
     "metadata": {},
     "output_type": "execute_result"
    },
    {
     "data": {
      "image/png": "[encoded data removed]",
      "text/plain": [
       "<Figure size 432x288 with 1 Axes>"
      ]
     },
     "metadata": {
      "needs_background": "light"
     },
     "output_type": "display_data"
    }
   ],
   "source": [
    "sns.scatterplot(y = data['Weight gained (grams)'], x = data['Calories Consumed'])"
   ]
  },
  {
   "cell_type": "code",
   "execution_count": 11,
   "id": "9bef129e",
   "metadata": {},
   "outputs": [
    {
     "data": {
      "text/html": [
       "<div>\n",
       "<style scoped>\n",
       "    .dataframe tbody tr th:only-of-type {\n",
       "        vertical-align: middle;\n",
       "    }\n",
       "\n",
       "    .dataframe tbody tr th {\n",
       "        vertical-align: top;\n",
       "    }\n",
       "\n",
       "    .dataframe thead th {\n",
       "        text-align: right;\n",
       "    }\n",
       "</style>\n",
       "<table border=\"1\" class=\"dataframe\">\n",
       "  <thead>\n",
       "    <tr style=\"text-align: right;\">\n",
       "      <th></th>\n",
       "      <th>Weight gained (grams)</th>\n",
       "      <th>Calories Consumed</th>\n",
       "    </tr>\n",
       "  </thead>\n",
       "  <tbody>\n",
       "    <tr>\n",
       "      <th>Weight gained (grams)</th>\n",
       "      <td>1.000000</td>\n",
       "      <td>0.946991</td>\n",
       "    </tr>\n",
       "    <tr>\n",
       "      <th>Calories Consumed</th>\n",
       "      <td>0.946991</td>\n",
       "      <td>1.000000</td>\n",
       "    </tr>\n",
       "  </tbody>\n",
       "</table>\n",
       "</div>"
      ],
      "text/plain": [
       "                       Weight gained (grams)  Calories Consumed\n",
       "Weight gained (grams)               1.000000           0.946991\n",
       "Calories Consumed                   0.946991           1.000000"
      ]
     },
     "execution_count": 11,
     "metadata": {},
     "output_type": "execute_result"
    }
   ],
   "source": [
    "# Correlation between the features\n",
    "data.corr()"
   ]
  },
  {
   "cell_type": "markdown",
   "id": "8e5f60b3",
   "metadata": {},
   "source": [
    "There is high correlation between the two features Weight gained and Calories consumed"
   ]
  },
  {
   "cell_type": "code",
   "execution_count": 12,
   "id": "0a3bc098",
   "metadata": {},
   "outputs": [],
   "source": [
    "# Rename columns\n",
    "data = data.rename(columns = {'Weight gained (grams)':'Weight','Calories Consumed':\"Calories\"})"
   ]
  },
  {
   "cell_type": "markdown",
   "id": "a4307b6f",
   "metadata": {},
   "source": [
    "# MODEL 1"
   ]
  },
  {
   "cell_type": "code",
   "execution_count": 13,
   "id": "c8539774",
   "metadata": {},
   "outputs": [],
   "source": [
    "# importing statsmodels for Simple Linear Regression\n",
    "\n",
    "import statsmodels.formula.api as smf\n",
    "\n",
    "model = smf.ols('Weight ~ Calories',data = data).fit()    # fiting the data to OLS model"
   ]
  },
  {
   "cell_type": "code",
   "execution_count": 14,
   "id": "9cb8aeb9",
   "metadata": {},
   "outputs": [
    {
     "data": {
      "text/html": [
       "<table class=\"simpletable\">\n",
       "<caption>OLS Regression Results</caption>\n",
       "<tr>\n",
       "  <th>Dep. Variable:</th>         <td>Weight</td>      <th>  R-squared:         </th> <td>   0.897</td>\n",
       "</tr>\n",
       "<tr>\n",
       "  <th>Model:</th>                   <td>OLS</td>       <th>  Adj. R-squared:    </th> <td>   0.888</td>\n",
       "</tr>\n",
       "<tr>\n",
       "  <th>Method:</th>             <td>Least Squares</td>  <th>  F-statistic:       </th> <td>   104.3</td>\n",
       "</tr>\n",
       "<tr>\n",
       "  <th>Date:</th>             <td>Thu, 28 Jul 2022</td> <th>  Prob (F-statistic):</th> <td>2.86e-07</td>\n",
       "</tr>\n",
       "<tr>\n",
       "  <th>Time:</th>                 <td>09:58:48</td>     <th>  Log-Likelihood:    </th> <td> -84.792</td>\n",
       "</tr>\n",
       "<tr>\n",
       "  <th>No. Observations:</th>      <td>    14</td>      <th>  AIC:               </th> <td>   173.6</td>\n",
       "</tr>\n",
       "<tr>\n",
       "  <th>Df Residuals:</th>          <td>    12</td>      <th>  BIC:               </th> <td>   174.9</td>\n",
       "</tr>\n",
       "<tr>\n",
       "  <th>Df Model:</th>              <td>     1</td>      <th>                     </th>     <td> </td>   \n",
       "</tr>\n",
       "<tr>\n",
       "  <th>Covariance Type:</th>      <td>nonrobust</td>    <th>                     </th>     <td> </td>   \n",
       "</tr>\n",
       "</table>\n",
       "<table class=\"simpletable\">\n",
       "<tr>\n",
       "      <td></td>         <th>coef</th>     <th>std err</th>      <th>t</th>      <th>P>|t|</th>  <th>[0.025</th>    <th>0.975]</th>  \n",
       "</tr>\n",
       "<tr>\n",
       "  <th>Intercept</th> <td> -625.7524</td> <td>  100.823</td> <td>   -6.206</td> <td> 0.000</td> <td> -845.427</td> <td> -406.078</td>\n",
       "</tr>\n",
       "<tr>\n",
       "  <th>Calories</th>  <td>    0.4202</td> <td>    0.041</td> <td>   10.211</td> <td> 0.000</td> <td>    0.331</td> <td>    0.510</td>\n",
       "</tr>\n",
       "</table>\n",
       "<table class=\"simpletable\">\n",
       "<tr>\n",
       "  <th>Omnibus:</th>       <td> 3.394</td> <th>  Durbin-Watson:     </th> <td>   2.537</td>\n",
       "</tr>\n",
       "<tr>\n",
       "  <th>Prob(Omnibus):</th> <td> 0.183</td> <th>  Jarque-Bera (JB):  </th> <td>   1.227</td>\n",
       "</tr>\n",
       "<tr>\n",
       "  <th>Skew:</th>          <td>-0.203</td> <th>  Prob(JB):          </th> <td>   0.541</td>\n",
       "</tr>\n",
       "<tr>\n",
       "  <th>Kurtosis:</th>      <td> 1.608</td> <th>  Cond. No.          </th> <td>8.28e+03</td>\n",
       "</tr>\n",
       "</table><br/><br/>Notes:<br/>[1] Standard Errors assume that the covariance matrix of the errors is correctly specified.<br/>[2] The condition number is large, 8.28e+03. This might indicate that there are<br/>strong multicollinearity or other numerical problems."
      ],
      "text/plain": [
       "<class 'statsmodels.iolib.summary.Summary'>\n",
       "\"\"\"\n",
       "                            OLS Regression Results                            \n",
       "==============================================================================\n",
       "Dep. Variable:                 Weight   R-squared:                       0.897\n",
       "Model:                            OLS   Adj. R-squared:                  0.888\n",
       "Method:                 Least Squares   F-statistic:                     104.3\n",
       "Date:                Thu, 28 Jul 2022   Prob (F-statistic):           2.86e-07\n",
       "Time:                        09:58:48   Log-Likelihood:                -84.792\n",
       "No. Observations:                  14   AIC:                             173.6\n",
       "Df Residuals:                      12   BIC:                             174.9\n",
       "Df Model:                           1                                         \n",
       "Covariance Type:            nonrobust                                         \n",
       "==============================================================================\n",
       "                 coef    std err          t      P>|t|      [0.025      0.975]\n",
       "------------------------------------------------------------------------------\n",
       "Intercept   -625.7524    100.823     -6.206      0.000    -845.427    -406.078\n",
       "Calories       0.4202      0.041     10.211      0.000       0.331       0.510\n",
       "==============================================================================\n",
       "Omnibus:                        3.394   Durbin-Watson:                   2.537\n",
       "Prob(Omnibus):                  0.183   Jarque-Bera (JB):                1.227\n",
       "Skew:                          -0.203   Prob(JB):                        0.541\n",
       "Kurtosis:                       1.608   Cond. No.                     8.28e+03\n",
       "==============================================================================\n",
       "\n",
       "Notes:\n",
       "[1] Standard Errors assume that the covariance matrix of the errors is correctly specified.\n",
       "[2] The condition number is large, 8.28e+03. This might indicate that there are\n",
       "strong multicollinearity or other numerical problems.\n",
       "\"\"\""
      ]
     },
     "execution_count": 14,
     "metadata": {},
     "output_type": "execute_result"
    }
   ],
   "source": [
    "# Summary of the model\n",
    "\n",
    "model.summary()"
   ]
  },
  {
   "cell_type": "markdown",
   "id": "4b7406e2",
   "metadata": {},
   "source": [
    "We get an R-squared value of 0.897"
   ]
  },
  {
   "cell_type": "code",
   "execution_count": 15,
   "id": "12b6c2f2",
   "metadata": {},
   "outputs": [
    {
     "data": {
      "text/plain": [
       "0        4.482599\n",
       "1      340.607908\n",
       "2      802.780209\n",
       "3      298.592245\n",
       "4      424.639236\n",
       "5       46.498263\n",
       "6      -37.533065\n",
       "7      172.545254\n",
       "8      550.686227\n",
       "9     1012.858527\n",
       "10      75.909227\n",
       "11     172.545254\n",
       "12     508.670563\n",
       "13     634.717554\n",
       "dtype: float64"
      ]
     },
     "execution_count": 15,
     "metadata": {},
     "output_type": "execute_result"
    }
   ],
   "source": [
    "# Predicting the Weight based on the model \n",
    "pred1 = model.predict(data.Calories)\n",
    "pred1"
   ]
  },
  {
   "cell_type": "code",
   "execution_count": 16,
   "id": "ce53337c",
   "metadata": {},
   "outputs": [
    {
     "data": {
      "image/png": "[encoded data removed]",
      "text/plain": [
       "<Figure size 432x288 with 1 Axes>"
      ]
     },
     "metadata": {
      "needs_background": "light"
     },
     "output_type": "display_data"
    }
   ],
   "source": [
    "# Regression Line\n",
    "\n",
    "plt.scatter(data.Calories, data.Weight)\n",
    "plt.plot(data.Calories, pred1, \"r\")\n",
    "plt.legend(['Predicted line', 'Observed data'])\n",
    "plt.show()"
   ]
  },
  {
   "cell_type": "code",
   "execution_count": 17,
   "id": "14227dbb",
   "metadata": {},
   "outputs": [
    {
     "name": "stdout",
     "output_type": "stream",
     "text": [
      "\n",
      "R-Squared value for model 1 : 0.8967919708530552\n",
      "\n",
      "RMSE for model 1 : 103.30250194726932\n"
     ]
    }
   ],
   "source": [
    "# RMSE Error calculation (Model-1)\n",
    "\n",
    "res1 = data.Weight - pred1\n",
    "rmse1 = np.sqrt(np.mean(res1 * res1))\n",
    "\n",
    "r_sqared1 = model.rsquared  \n",
    "print(f'\\nR-Squared value for model 1 : {r_sqared1}')\n",
    "print(f'\\nRMSE for model 1 : {rmse1}')"
   ]
  },
  {
   "cell_type": "markdown",
   "id": "34afa948",
   "metadata": {},
   "source": [
    "# MODEL 2"
   ]
  },
  {
   "cell_type": "markdown",
   "id": "8c42f114",
   "metadata": {},
   "source": [
    "Using log of x"
   ]
  },
  {
   "cell_type": "code",
   "execution_count": 18,
   "id": "e181cf9b",
   "metadata": {},
   "outputs": [
    {
     "name": "stdout",
     "output_type": "stream",
     "text": [
      "                            OLS Regression Results                            \n",
      "==============================================================================\n",
      "Dep. Variable:                 Weight   R-squared:                       0.808\n",
      "Model:                            OLS   Adj. R-squared:                  0.792\n",
      "Method:                 Least Squares   F-statistic:                     50.40\n",
      "Date:                Thu, 28 Jul 2022   Prob (F-statistic):           1.25e-05\n",
      "Time:                        09:58:49   Log-Likelihood:                -89.148\n",
      "No. Observations:                  14   AIC:                             182.3\n",
      "Df Residuals:                      12   BIC:                             183.6\n",
      "Df Model:                           1                                         \n",
      "Covariance Type:            nonrobust                                         \n",
      "====================================================================================\n",
      "                       coef    std err          t      P>|t|      [0.025      0.975]\n",
      "------------------------------------------------------------------------------------\n",
      "Intercept        -6955.6501   1030.908     -6.747      0.000   -9201.806   -4709.494\n",
      "np.log(Calories)   948.3717    133.580      7.100      0.000     657.325    1239.418\n",
      "==============================================================================\n",
      "Omnibus:                        3.265   Durbin-Watson:                   2.438\n",
      "Prob(Omnibus):                  0.195   Jarque-Bera (JB):                1.139\n",
      "Skew:                           0.046   Prob(JB):                        0.566\n",
      "Kurtosis:                       1.606   Cond. No.                         199.\n",
      "==============================================================================\n",
      "\n",
      "Notes:\n",
      "[1] Standard Errors assume that the covariance matrix of the errors is correctly specified.\n",
      "\n",
      "R-Squared value for model 2 : 0.8077071298615186\n",
      "\n",
      "RMSE for model 2 : 141.00538169425104\n"
     ]
    }
   ],
   "source": [
    "model2 = smf.ols('Weight ~ np.log(Calories)',data = data).fit()\n",
    "summary2 = model2.summary() ; print(summary2)                    # Model summary \n",
    "r_sqared2 = model2.rsquared                                      # Model r-squared value\n",
    "\n",
    "pred2 = model2.predict(data.Calories)                            # Using the model to predict \n",
    "\n",
    "res2 = data.Weight - pred2                                       # Calculating Error between actual and predicted \n",
    "rmse2 = np.sqrt(np.mean(res2 * res2))\n",
    "print(f'\\nR-Squared value for model 2 : {r_sqared2}')\n",
    "print(f'\\nRMSE for model 2 : {rmse2}')"
   ]
  },
  {
   "cell_type": "markdown",
   "id": "13c260bf",
   "metadata": {},
   "source": [
    "# MODEL 3"
   ]
  },
  {
   "cell_type": "markdown",
   "id": "9ee0f396",
   "metadata": {},
   "source": [
    "Using log of y and log of x"
   ]
  },
  {
   "cell_type": "code",
   "execution_count": 19,
   "id": "232d16af",
   "metadata": {},
   "outputs": [
    {
     "name": "stdout",
     "output_type": "stream",
     "text": [
      "                            OLS Regression Results                            \n",
      "==============================================================================\n",
      "Dep. Variable:         np.log(Weight)   R-squared:                       0.846\n",
      "Model:                            OLS   Adj. R-squared:                  0.834\n",
      "Method:                 Least Squares   F-statistic:                     66.17\n",
      "Date:                Thu, 28 Jul 2022   Prob (F-statistic):           3.17e-06\n",
      "Time:                        09:58:49   Log-Likelihood:                -4.9095\n",
      "No. Observations:                  14   AIC:                             13.82\n",
      "Df Residuals:                      12   BIC:                             15.10\n",
      "Df Model:                           1                                         \n",
      "Covariance Type:            nonrobust                                         \n",
      "====================================================================================\n",
      "                       coef    std err          t      P>|t|      [0.025      0.975]\n",
      "------------------------------------------------------------------------------------\n",
      "Intercept          -14.9275      2.512     -5.942      0.000     -20.401      -9.454\n",
      "np.log(Calories)     2.6479      0.326      8.135      0.000       1.939       3.357\n",
      "==============================================================================\n",
      "Omnibus:                        7.694   Durbin-Watson:                   3.072\n",
      "Prob(Omnibus):                  0.021   Jarque-Bera (JB):                4.028\n",
      "Skew:                          -0.991   Prob(JB):                        0.133\n",
      "Kurtosis:                       4.726   Cond. No.                         199.\n",
      "==============================================================================\n",
      "\n",
      "Notes:\n",
      "[1] Standard Errors assume that the covariance matrix of the errors is correctly specified.\n",
      "\n",
      "R-Squared value for model 3 : 0.8464957571780118\n",
      "\n",
      "RMSE for model 3 : 476.4365845071114\n"
     ]
    }
   ],
   "source": [
    "model3 = smf.ols('np.log(Weight) ~ np.log(Calories)',data = data).fit()\n",
    "summary3 = model3.summary() ; print(summary3)                    # Model summary \n",
    "r_sqared3 = model3.rsquared                                      # Model r-squared value\n",
    "\n",
    "pred3 = model3.predict(data.Calories)                            # Using the model to predict \n",
    "\n",
    "res3 = data.Weight - pred3                                       # Calculating Error between actual and predicted \n",
    "rmse3 = np.sqrt(np.mean(res3 * res3))\n",
    "print(f'\\nR-Squared value for model 3 : {r_sqared3}')\n",
    "print(f'\\nRMSE for model 3 : {rmse3}')"
   ]
  },
  {
   "cell_type": "markdown",
   "id": "46d30c4b",
   "metadata": {},
   "source": [
    "# MODEL 4"
   ]
  },
  {
   "cell_type": "markdown",
   "id": "9b2beb16",
   "metadata": {},
   "source": [
    "Using polynomial relationship between x and y"
   ]
  },
  {
   "cell_type": "code",
   "execution_count": 20,
   "id": "13c25242",
   "metadata": {},
   "outputs": [
    {
     "name": "stdout",
     "output_type": "stream",
     "text": [
      "                            OLS Regression Results                            \n",
      "==============================================================================\n",
      "Dep. Variable:         np.log(Weight)   R-squared:                       0.878\n",
      "Model:                            OLS   Adj. R-squared:                  0.855\n",
      "Method:                 Least Squares   F-statistic:                     39.44\n",
      "Date:                Thu, 28 Jul 2022   Prob (F-statistic):           9.61e-06\n",
      "Time:                        09:58:50   Log-Likelihood:                -3.3243\n",
      "No. Observations:                  14   AIC:                             12.65\n",
      "Df Residuals:                      11   BIC:                             14.57\n",
      "Df Model:                           2                                         \n",
      "Covariance Type:            nonrobust                                         \n",
      "==========================================================================================\n",
      "                             coef    std err          t      P>|t|      [0.025      0.975]\n",
      "------------------------------------------------------------------------------------------\n",
      "Intercept                  2.8287      1.062      2.664      0.022       0.492       5.165\n",
      "Calories                   0.0011      0.001      1.297      0.221      -0.001       0.003\n",
      "I(Calories * Calories) -1.675e-09   1.71e-07     -0.010      0.992   -3.77e-07    3.74e-07\n",
      "==============================================================================\n",
      "Omnibus:                       10.177   Durbin-Watson:                   3.131\n",
      "Prob(Omnibus):                  0.006   Jarque-Bera (JB):                6.133\n",
      "Skew:                          -1.240   Prob(JB):                       0.0466\n",
      "Kurtosis:                       5.088   Cond. No.                     8.12e+07\n",
      "==============================================================================\n",
      "\n",
      "Notes:\n",
      "[1] Standard Errors assume that the covariance matrix of the errors is correctly specified.\n",
      "[2] The condition number is large, 8.12e+07. This might indicate that there are\n",
      "strong multicollinearity or other numerical problems.\n",
      "\n",
      "R-Squared value for model 4 : 0.8776022251364207\n",
      "\n",
      "RMSE for model 4 : 476.4010781223708\n"
     ]
    }
   ],
   "source": [
    "model4 = smf.ols('np.log(Weight) ~ Calories + I(Calories*Calories)',data = data).fit()\n",
    "summary4 = model4.summary() ; print(summary4)                    # Model summary \n",
    "r_sqared4 = model4.rsquared                                      # Model r-squared value\n",
    "\n",
    "pred4 = model4.predict(data.Calories)                            # Using the model to predict \n",
    "\n",
    "res4 = data.Weight - pred4                                       # Calculating Error between actual and predicted \n",
    "rmse4 = np.sqrt(np.mean(res4 * res4))\n",
    "print(f'\\nR-Squared value for model 4 : {r_sqared4}')\n",
    "print(f'\\nRMSE for model 4 : {rmse4}')"
   ]
  },
  {
   "cell_type": "code",
   "execution_count": 21,
   "id": "867637da",
   "metadata": {},
   "outputs": [
    {
     "data": {
      "text/html": [
       "<div>\n",
       "<style scoped>\n",
       "    .dataframe tbody tr th:only-of-type {\n",
       "        vertical-align: middle;\n",
       "    }\n",
       "\n",
       "    .dataframe tbody tr th {\n",
       "        vertical-align: top;\n",
       "    }\n",
       "\n",
       "    .dataframe thead th {\n",
       "        text-align: right;\n",
       "    }\n",
       "</style>\n",
       "<table border=\"1\" class=\"dataframe\">\n",
       "  <thead>\n",
       "    <tr style=\"text-align: right;\">\n",
       "      <th></th>\n",
       "      <th>R-Squared</th>\n",
       "      <th>RMSE</th>\n",
       "    </tr>\n",
       "  </thead>\n",
       "  <tbody>\n",
       "    <tr>\n",
       "      <th>Model_1</th>\n",
       "      <td>0.896792</td>\n",
       "      <td>103.302502</td>\n",
       "    </tr>\n",
       "    <tr>\n",
       "      <th>Model_2</th>\n",
       "      <td>0.807707</td>\n",
       "      <td>141.005382</td>\n",
       "    </tr>\n",
       "    <tr>\n",
       "      <th>Model_3</th>\n",
       "      <td>0.846496</td>\n",
       "      <td>476.436585</td>\n",
       "    </tr>\n",
       "    <tr>\n",
       "      <th>Model_4</th>\n",
       "      <td>0.877602</td>\n",
       "      <td>476.401078</td>\n",
       "    </tr>\n",
       "  </tbody>\n",
       "</table>\n",
       "</div>"
      ],
      "text/plain": [
       "         R-Squared        RMSE\n",
       "Model_1   0.896792  103.302502\n",
       "Model_2   0.807707  141.005382\n",
       "Model_3   0.846496  476.436585\n",
       "Model_4   0.877602  476.401078"
      ]
     },
     "execution_count": 21,
     "metadata": {},
     "output_type": "execute_result"
    }
   ],
   "source": [
    "# Comparing R-squared and error for each model\n",
    "\n",
    "results = pd.DataFrame([],index =['R-Squared', 'RMSE'])\n",
    "results['Model_1'] = r_sqared1, rmse1\n",
    "results['Model_2'] = r_sqared2, rmse2\n",
    "results['Model_3'] = r_sqared3, rmse3\n",
    "results['Model_4'] = r_sqared4, rmse4\n",
    "results.T"
   ]
  },
  {
   "cell_type": "markdown",
   "id": "7f37715c",
   "metadata": {},
   "source": [
    "Model_1 is the best model with the highest R-squared value and minimum RMSE"
   ]
  },
  {
   "cell_type": "code",
   "execution_count": 22,
   "id": "d31667df",
   "metadata": {},
   "outputs": [],
   "source": [
    "# Using train test split\n",
    "\n",
    "from sklearn import model_selection\n",
    "\n",
    "train, test = model_selection.train_test_split(data, test_size = 0.2)"
   ]
  },
  {
   "cell_type": "code",
   "execution_count": 23,
   "id": "750f815e",
   "metadata": {},
   "outputs": [],
   "source": [
    "# Using the best model (Model_1)\n",
    "# Fitting the train data to the model\n",
    "\n",
    "best_model = smf.ols('Weight~Calories',data = train).fit()"
   ]
  },
  {
   "cell_type": "code",
   "execution_count": 24,
   "id": "66c45709",
   "metadata": {},
   "outputs": [
    {
     "data": {
      "text/plain": [
       "6    -51.377550\n",
       "9    998.559900\n",
       "3    284.602434\n",
       "dtype: float64"
      ]
     },
     "execution_count": 24,
     "metadata": {},
     "output_type": "execute_result"
    }
   ],
   "source": [
    "# Predicting for test data\n",
    "best_pred_test = best_model.predict(test.Calories)\n",
    "best_pred_test"
   ]
  },
  {
   "cell_type": "code",
   "execution_count": 25,
   "id": "c61d4e81",
   "metadata": {},
   "outputs": [
    {
     "name": "stdout",
     "output_type": "stream",
     "text": [
      "\n",
      "R-Squared value for test data : 0.8730297900182804\n",
      "\n",
      "RMSE for test data : 128.61307769373522\n"
     ]
    }
   ],
   "source": [
    "# RMSE Error calculation for test data\n",
    "\n",
    "res_test = test.Weight - best_pred_test\n",
    "rmse_test = np.sqrt(np.mean(res_test * res_test))\n",
    "\n",
    "r_sqared_test = best_model.rsquared  \n",
    "print(f'\\nR-Squared value for test data : {r_sqared_test}')\n",
    "print(f'\\nRMSE for test data : {rmse_test}')"
   ]
  },
  {
   "cell_type": "code",
   "execution_count": 26,
   "id": "fcf25243",
   "metadata": {},
   "outputs": [
    {
     "name": "stdout",
     "output_type": "stream",
     "text": [
      "\n",
      "R-Squared value for train data : 0.8730297900182804\n",
      "\n",
      "RMSE for train data : 96.54297088391158\n"
     ]
    }
   ],
   "source": [
    "# Predicting for train data\n",
    "best_pred_train = best_model.predict(train.Calories)\n",
    "\n",
    "# RMSE Error calculation for train data\n",
    "\n",
    "res_train = train.Weight - best_pred_train\n",
    "rmse_train = np.sqrt(np.mean(res_train * res_train))\n",
    "\n",
    "r_sqared_train = best_model.rsquared  \n",
    "print(f'\\nR-Squared value for train data : {r_sqared_train}')\n",
    "print(f'\\nRMSE for train data : {rmse_train}')"
   ]
  },
  {
   "cell_type": "markdown",
   "id": "96089c60",
   "metadata": {},
   "source": [
    "The train and test data have the same rsquared value and very low RMSE values.\n",
    "\n",
    "This model can be used to predict the Weight of the person depending on the calories intake."
   ]
  }
 ],
 "metadata": {
  "kernelspec": {
   "display_name": "Python 3 (ipykernel)",
   "language": "python",
   "name": "python3"
  },
  "language_info": {
   "codemirror_mode": {
    "name": "ipython",
    "version": 3
   },
   "file_extension": ".py",
   "mimetype": "text/x-python",
   "name": "python",
   "nbconvert_exporter": "python",
   "pygments_lexer": "ipython3",
   "version": "3.9.12"
  }
 },
 "nbformat": 4,
 "nbformat_minor": 5
}
