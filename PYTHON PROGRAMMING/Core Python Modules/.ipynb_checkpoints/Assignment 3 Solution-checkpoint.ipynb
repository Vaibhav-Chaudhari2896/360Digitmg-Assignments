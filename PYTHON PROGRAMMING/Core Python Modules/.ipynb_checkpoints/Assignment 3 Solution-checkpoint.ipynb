{
 "cells": [
  {
   "cell_type": "markdown",
   "id": "e1118b9d",
   "metadata": {},
   "source": [
    "# Assignment Module : Variables"
   ]
  },
  {
   "cell_type": "markdown",
   "id": "81deff6b",
   "metadata": {},
   "source": [
    "Q1. What will be the output of the following (can/cannot):\n",
    "    \n",
    "a. Age1 = 5 \n",
    "Can\n",
    "\n",
    "b. 5age = 55 \n",
    "Cannot.\n",
    "\n",
    "Variable name can be alphanumeric and underscores. Variable name can start with a letter or underscore but cannot start with a number "
   ]
  },
  {
   "cell_type": "markdown",
   "id": "b7a20684",
   "metadata": {},
   "source": [
    "."
   ]
  },
  {
   "cell_type": "markdown",
   "id": "7dc82ad7",
   "metadata": {},
   "source": [
    "Q2. What will be the output of the following (can/cannot):\n",
    "\n",
    "a. Age_1 = 100  Can\n",
    "\n",
    "b. age@1= 100   Cannot \n",
    "\n",
    "Variable name can be alphanumeric and underscores. Variable name can start with a letter or underscore but cannot start with a number"
   ]
  },
  {
   "cell_type": "markdown",
   "id": "8f26e625",
   "metadata": {},
   "source": [
    "."
   ]
  },
  {
   "cell_type": "code",
   "execution_count": 1,
   "id": "5d9c401e",
   "metadata": {},
   "outputs": [
    {
     "ename": "NameError",
     "evalue": "name 'Age_1' is not defined",
     "output_type": "error",
     "traceback": [
      "\u001b[1;31m---------------------------------------------------------------------------\u001b[0m",
      "\u001b[1;31mNameError\u001b[0m                                 Traceback (most recent call last)",
      "\u001b[1;32m~\\AppData\\Local\\Temp/ipykernel_13656/1242792357.py\u001b[0m in \u001b[0;36m<module>\u001b[1;34m\u001b[0m\n\u001b[0;32m      7\u001b[0m \u001b[1;33m\u001b[0m\u001b[0m\n\u001b[0;32m      8\u001b[0m \u001b[1;31m# Check variable Age_1\u001b[0m\u001b[1;33m\u001b[0m\u001b[1;33m\u001b[0m\u001b[0m\n\u001b[1;32m----> 9\u001b[1;33m \u001b[0mAge_1\u001b[0m\u001b[1;33m\u001b[0m\u001b[1;33m\u001b[0m\u001b[0m\n\u001b[0m",
      "\u001b[1;31mNameError\u001b[0m: name 'Age_1' is not defined"
     ]
    }
   ],
   "source": [
    "# Q3. How can you delete variables in Python ?\n",
    "\n",
    "Age_1 = 100\n",
    "\n",
    "# delete variable using del() method\n",
    "del(Age_1)  \n",
    "\n",
    "# Check variable Age_1\n",
    "Age_1"
   ]
  },
  {
   "cell_type": "code",
   "execution_count": null,
   "id": "bfcdbcc9",
   "metadata": {},
   "outputs": [],
   "source": []
  }
 ],
 "metadata": {
  "kernelspec": {
   "display_name": "Python 3 (ipykernel)",
   "language": "python",
   "name": "python3"
  },
  "language_info": {
   "codemirror_mode": {
    "name": "ipython",
    "version": 3
   },
   "file_extension": ".py",
   "mimetype": "text/x-python",
   "name": "python",
   "nbconvert_exporter": "python",
   "pygments_lexer": "ipython3",
   "version": "3.9.7"
  }
 },
 "nbformat": 4,
 "nbformat_minor": 5
}
