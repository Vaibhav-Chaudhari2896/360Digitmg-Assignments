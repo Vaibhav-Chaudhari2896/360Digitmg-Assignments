{
 "cells": [
  {
   "cell_type": "markdown",
   "id": "2b769e8d",
   "metadata": {},
   "source": [
    "# Assignment Module 4: Conditonal Statements"
   ]
  },
  {
   "cell_type": "code",
   "execution_count": 1,
   "id": "a5e8158f",
   "metadata": {},
   "outputs": [
    {
     "name": "stdout",
     "output_type": "stream",
     "text": [
      "Enter the age: 55\n",
      "Normal Citizen\n"
     ]
    }
   ],
   "source": [
    "# Q1.Take a variable ‘age’ which is of positive value and check the following:\n",
    "# a. If age is less than 10, print “Children”.\n",
    "# b. If age is more than 60 , print ‘senior citizens’\n",
    "# c. If it is in between 10 and 60, print ‘normal citizen’\n",
    "\n",
    "age = int(input('Enter the age: '));\n",
    "\n",
    "if age < 10:\n",
    "    print('Children')\n",
    "elif age > 60:\n",
    "    print('Senior Citizen')\n",
    "else:\n",
    "    print('Normal Citizen')\n"
   ]
  },
  {
   "cell_type": "code",
   "execution_count": 2,
   "id": "052ed6c6",
   "metadata": {},
   "outputs": [
    {
     "name": "stdout",
     "output_type": "stream",
     "text": [
      "Gender: Male or Female: male\n",
      "Age: 55\n",
      "100% of fare applicable\n"
     ]
    }
   ],
   "source": [
    "# Q2. Find  the final train ticket price with the following conditions. \n",
    "# a. If male and sr.citizen, 70% of fare is applicable\n",
    "# b. If female and sr.citizen, 50% of fare is applicable.\n",
    "# c. If female and normal citizen, 70% of fare is applicable\n",
    "# d. If male and normal citizen, 100% of fare is applicable\n",
    "\n",
    "Gender = input('Gender: Male or Female: ').capitalize()\n",
    "Age = int(input('Age: '))\n",
    "\n",
    "if Gender == 'Male' and Age >= 60:\n",
    "    print('70% of fare applicable')\n",
    "elif Gender == 'Female' and Age >= 60:\n",
    "    print('50% of fare applicable')\n",
    "elif Gender == 'Male' and Age < 60:\n",
    "    print('100% of fare applicable')\n",
    "elif Gender == 'Female' and Age < 60: \n",
    "    print('70% of fare applicable')\n",
    "else:\n",
    "    print('Enter valid inputs')"
   ]
  },
  {
   "cell_type": "code",
   "execution_count": 3,
   "id": "82327789",
   "metadata": {},
   "outputs": [
    {
     "name": "stdout",
     "output_type": "stream",
     "text": [
      "Enter the number: 55\n",
      "Given number is both positive and divisible by 5\n"
     ]
    }
   ],
   "source": [
    "# Q3.Check whether the given number is positive and divisible by 5 or not.  \n",
    "\n",
    "num = int(input('Enter the number: '))\n",
    "if num > 0 and num % 5 ==0:\n",
    "    print('Given number is both positive and divisible by 5')\n",
    "else:\n",
    "    print('Given number is not both positive and divisible by 5')"
   ]
  },
  {
   "cell_type": "code",
   "execution_count": null,
   "id": "8f29b712",
   "metadata": {},
   "outputs": [],
   "source": []
  }
 ],
 "metadata": {
  "kernelspec": {
   "display_name": "Python 3 (ipykernel)",
   "language": "python",
   "name": "python3"
  },
  "language_info": {
   "codemirror_mode": {
    "name": "ipython",
    "version": 3
   },
   "file_extension": ".py",
   "mimetype": "text/x-python",
   "name": "python",
   "nbconvert_exporter": "python",
   "pygments_lexer": "ipython3",
   "version": "3.9.7"
  }
 },
 "nbformat": 4,
 "nbformat_minor": 5
}
