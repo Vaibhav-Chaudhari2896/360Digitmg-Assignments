{
 "cells": [
  {
   "cell_type": "markdown",
   "id": "937f9361",
   "metadata": {},
   "source": [
    "# Assignment Module 6: Packages"
   ]
  },
  {
   "cell_type": "code",
   "execution_count": 33,
   "id": "065f9cb8",
   "metadata": {},
   "outputs": [
    {
     "data": {
      "text/html": [
       "<div>\n",
       "<style scoped>\n",
       "    .dataframe tbody tr th:only-of-type {\n",
       "        vertical-align: middle;\n",
       "    }\n",
       "\n",
       "    .dataframe tbody tr th {\n",
       "        vertical-align: top;\n",
       "    }\n",
       "\n",
       "    .dataframe thead th {\n",
       "        text-align: right;\n",
       "    }\n",
       "</style>\n",
       "<table border=\"1\" class=\"dataframe\">\n",
       "  <thead>\n",
       "    <tr style=\"text-align: right;\">\n",
       "      <th></th>\n",
       "      <th>name_of_city</th>\n",
       "      <th>sex_ratio</th>\n",
       "    </tr>\n",
       "  </thead>\n",
       "  <tbody>\n",
       "    <tr>\n",
       "      <th>0</th>\n",
       "      <td>Kozhikode</td>\n",
       "      <td>1093</td>\n",
       "    </tr>\n",
       "    <tr>\n",
       "      <th>1</th>\n",
       "      <td>Kollam</td>\n",
       "      <td>1077</td>\n",
       "    </tr>\n",
       "    <tr>\n",
       "      <th>2</th>\n",
       "      <td>Alappuzha</td>\n",
       "      <td>1076</td>\n",
       "    </tr>\n",
       "    <tr>\n",
       "      <th>3</th>\n",
       "      <td>Thrissur</td>\n",
       "      <td>1076</td>\n",
       "    </tr>\n",
       "    <tr>\n",
       "      <th>4</th>\n",
       "      <td>Thiruvananthapuram</td>\n",
       "      <td>1064</td>\n",
       "    </tr>\n",
       "    <tr>\n",
       "      <th>5</th>\n",
       "      <td>Imphal</td>\n",
       "      <td>1055</td>\n",
       "    </tr>\n",
       "    <tr>\n",
       "      <th>6</th>\n",
       "      <td>Palakkad</td>\n",
       "      <td>1053</td>\n",
       "    </tr>\n",
       "    <tr>\n",
       "      <th>7</th>\n",
       "      <td>Kakinada</td>\n",
       "      <td>1046</td>\n",
       "    </tr>\n",
       "    <tr>\n",
       "      <th>8</th>\n",
       "      <td>Puducherry</td>\n",
       "      <td>1045</td>\n",
       "    </tr>\n",
       "    <tr>\n",
       "      <th>9</th>\n",
       "      <td>Shillong</td>\n",
       "      <td>1042</td>\n",
       "    </tr>\n",
       "  </tbody>\n",
       "</table>\n",
       "</div>"
      ],
      "text/plain": [
       "          name_of_city  sex_ratio\n",
       "0           Kozhikode        1093\n",
       "1              Kollam        1077\n",
       "2           Alappuzha        1076\n",
       "3            Thrissur        1076\n",
       "4  Thiruvananthapuram        1064\n",
       "5              Imphal        1055\n",
       "6            Palakkad        1053\n",
       "7            Kakinada        1046\n",
       "8          Puducherry        1045\n",
       "9            Shillong        1042"
      ]
     },
     "execution_count": 33,
     "metadata": {},
     "output_type": "execute_result"
    }
   ],
   "source": [
    "# Q1. For the dataset “Indian_cities”, \n",
    "\n",
    "# a) Find out top 10 states in female-male sex ratio\n",
    "import pandas as pd;\n",
    "data = pd.read_csv('C:\\\\Users\\\\vaibh\\\\Desktop\\\\360 Digitmg\\\\PYTHON PROGRAMMING\\\\Python Problem Statements\\\\Indian_cities.csv')\n",
    "data.head()\n",
    "\n",
    "data1 = data[['name_of_city','sex_ratio']]\n",
    "data1.sort_values(by='sex_ratio',ascending = False, ignore_index = True).head(10)\n"
   ]
  },
  {
   "cell_type": "code",
   "execution_count": 32,
   "id": "91a23c00",
   "metadata": {},
   "outputs": [
    {
     "data": {
      "text/html": [
       "<div>\n",
       "<style scoped>\n",
       "    .dataframe tbody tr th:only-of-type {\n",
       "        vertical-align: middle;\n",
       "    }\n",
       "\n",
       "    .dataframe tbody tr th {\n",
       "        vertical-align: top;\n",
       "    }\n",
       "\n",
       "    .dataframe thead th {\n",
       "        text-align: right;\n",
       "    }\n",
       "</style>\n",
       "<table border=\"1\" class=\"dataframe\">\n",
       "  <thead>\n",
       "    <tr style=\"text-align: right;\">\n",
       "      <th></th>\n",
       "      <th>name_of_city</th>\n",
       "      <th>total_graduates</th>\n",
       "    </tr>\n",
       "  </thead>\n",
       "  <tbody>\n",
       "    <tr>\n",
       "      <th>0</th>\n",
       "      <td>Delhi</td>\n",
       "      <td>2221137</td>\n",
       "    </tr>\n",
       "    <tr>\n",
       "      <th>1</th>\n",
       "      <td>Greater Mumbai</td>\n",
       "      <td>1802371</td>\n",
       "    </tr>\n",
       "    <tr>\n",
       "      <th>2</th>\n",
       "      <td>Bengaluru</td>\n",
       "      <td>1591163</td>\n",
       "    </tr>\n",
       "    <tr>\n",
       "      <th>3</th>\n",
       "      <td>Greater Hyderabad</td>\n",
       "      <td>1164149</td>\n",
       "    </tr>\n",
       "    <tr>\n",
       "      <th>4</th>\n",
       "      <td>Chennai</td>\n",
       "      <td>879695</td>\n",
       "    </tr>\n",
       "    <tr>\n",
       "      <th>5</th>\n",
       "      <td>Kolkata</td>\n",
       "      <td>818476</td>\n",
       "    </tr>\n",
       "    <tr>\n",
       "      <th>6</th>\n",
       "      <td>Ahmadabad</td>\n",
       "      <td>769858</td>\n",
       "    </tr>\n",
       "    <tr>\n",
       "      <th>7</th>\n",
       "      <td>Pune</td>\n",
       "      <td>656508</td>\n",
       "    </tr>\n",
       "    <tr>\n",
       "      <th>8</th>\n",
       "      <td>Lucknow</td>\n",
       "      <td>596990</td>\n",
       "    </tr>\n",
       "    <tr>\n",
       "      <th>9</th>\n",
       "      <td>Jaipur</td>\n",
       "      <td>533148</td>\n",
       "    </tr>\n",
       "  </tbody>\n",
       "</table>\n",
       "</div>"
      ],
      "text/plain": [
       "         name_of_city  total_graduates\n",
       "0              Delhi           2221137\n",
       "1     Greater Mumbai           1802371\n",
       "2           Bengaluru          1591163\n",
       "3  Greater Hyderabad           1164149\n",
       "4            Chennai            879695\n",
       "5            Kolkata            818476\n",
       "6          Ahmadabad            769858\n",
       "7               Pune            656508\n",
       "8            Lucknow            596990\n",
       "9             Jaipur            533148"
      ]
     },
     "execution_count": 32,
     "metadata": {},
     "output_type": "execute_result"
    }
   ],
   "source": [
    "# b) Find out top 10 cities in total number of graduates\n",
    "data2 = data[['name_of_city','total_graduates']]\n",
    "data2.sort_values(by='total_graduates',ascending = False, ignore_index = True).head(10)"
   ]
  },
  {
   "cell_type": "code",
   "execution_count": 36,
   "id": "646353a6",
   "metadata": {
    "scrolled": true
   },
   "outputs": [
    {
     "data": {
      "text/html": [
       "<div>\n",
       "<style scoped>\n",
       "    .dataframe tbody tr th:only-of-type {\n",
       "        vertical-align: middle;\n",
       "    }\n",
       "\n",
       "    .dataframe tbody tr th {\n",
       "        vertical-align: top;\n",
       "    }\n",
       "\n",
       "    .dataframe thead th {\n",
       "        text-align: right;\n",
       "    }\n",
       "</style>\n",
       "<table border=\"1\" class=\"dataframe\">\n",
       "  <thead>\n",
       "    <tr style=\"text-align: right;\">\n",
       "      <th></th>\n",
       "      <th>name_of_city</th>\n",
       "      <th>location</th>\n",
       "      <th>effective_literacy_rate_total</th>\n",
       "    </tr>\n",
       "  </thead>\n",
       "  <tbody>\n",
       "    <tr>\n",
       "      <th>0</th>\n",
       "      <td>Aizawl</td>\n",
       "      <td>23.727107,92.7176389</td>\n",
       "      <td>98.80</td>\n",
       "    </tr>\n",
       "    <tr>\n",
       "      <th>1</th>\n",
       "      <td>Kochi</td>\n",
       "      <td>9.9312328,76.2673041</td>\n",
       "      <td>97.49</td>\n",
       "    </tr>\n",
       "    <tr>\n",
       "      <th>2</th>\n",
       "      <td>Thrissur</td>\n",
       "      <td>10.5276416,76.2144349</td>\n",
       "      <td>97.24</td>\n",
       "    </tr>\n",
       "    <tr>\n",
       "      <th>3</th>\n",
       "      <td>Kozhikode</td>\n",
       "      <td>11.2587531,75.78041</td>\n",
       "      <td>96.80</td>\n",
       "    </tr>\n",
       "    <tr>\n",
       "      <th>4</th>\n",
       "      <td>Alappuzha</td>\n",
       "      <td>9.4980667,76.3388484</td>\n",
       "      <td>96.56</td>\n",
       "    </tr>\n",
       "    <tr>\n",
       "      <th>5</th>\n",
       "      <td>Khardaha</td>\n",
       "      <td>22.7002943,88.3753455</td>\n",
       "      <td>95.50</td>\n",
       "    </tr>\n",
       "    <tr>\n",
       "      <th>6</th>\n",
       "      <td>Nagercoil</td>\n",
       "      <td>8.1832857,77.4118996</td>\n",
       "      <td>95.35</td>\n",
       "    </tr>\n",
       "    <tr>\n",
       "      <th>7</th>\n",
       "      <td>Alandur</td>\n",
       "      <td>12.9974873,80.2006371</td>\n",
       "      <td>95.15</td>\n",
       "    </tr>\n",
       "    <tr>\n",
       "      <th>8</th>\n",
       "      <td>North Barrackpur</td>\n",
       "      <td>22.7902358,88.367179</td>\n",
       "      <td>94.78</td>\n",
       "    </tr>\n",
       "    <tr>\n",
       "      <th>9</th>\n",
       "      <td>Shimla</td>\n",
       "      <td>31.1048145,77.1734033</td>\n",
       "      <td>94.67</td>\n",
       "    </tr>\n",
       "  </tbody>\n",
       "</table>\n",
       "</div>"
      ],
      "text/plain": [
       "        name_of_city               location  effective_literacy_rate_total\n",
       "0            Aizawl    23.727107,92.7176389                          98.80\n",
       "1             Kochi    9.9312328,76.2673041                          97.49\n",
       "2          Thrissur   10.5276416,76.2144349                          97.24\n",
       "3         Kozhikode     11.2587531,75.78041                          96.80\n",
       "4         Alappuzha    9.4980667,76.3388484                          96.56\n",
       "5          Khardaha   22.7002943,88.3753455                          95.50\n",
       "6         Nagercoil    8.1832857,77.4118996                          95.35\n",
       "7           Alandur   12.9974873,80.2006371                          95.15\n",
       "8  North Barrackpur    22.7902358,88.367179                          94.78\n",
       "9            Shimla   31.1048145,77.1734033                          94.67"
      ]
     },
     "execution_count": 36,
     "metadata": {},
     "output_type": "execute_result"
    }
   ],
   "source": [
    "# c) Find out top 10 cities and their locations in respect of  total effective_literacy_rate.\n",
    "\n",
    "data3 = data[['name_of_city','location','effective_literacy_rate_total']]\n",
    "data3.sort_values(by='effective_literacy_rate_total',ascending = False, ignore_index = True).head(10)"
   ]
  },
  {
   "cell_type": "markdown",
   "id": "67c3a1cf",
   "metadata": {},
   "source": [
    "### Q2. "
   ]
  },
  {
   "cell_type": "markdown",
   "id": "4a89cf4b",
   "metadata": {},
   "source": [
    "For the data set “Indian_cities”\n",
    "\n",
    "a) Construct histogram on literates_total and comment about the inferences\n",
    "\n",
    "b) Construct scatter  plot between  male graduates and female graduates\n"
   ]
  },
  {
   "cell_type": "code",
   "execution_count": 52,
   "id": "e39aecf1",
   "metadata": {},
   "outputs": [
    {
     "data": {
      "image/png": "[encoded data removed]",
      "text/plain": [
       "<Figure size 432x288 with 1 Axes>"
      ]
     },
     "metadata": {
      "needs_background": "light"
     },
     "output_type": "display_data"
    }
   ],
   "source": [
    "# a) Construct histogram on literates_total and comment about the inferences\n",
    "\n",
    "data.columns\n",
    "import matplotlib.pyplot as plt\n",
    "\n",
    "plt.hist(data['literates_total'])\n",
    "plt.xlabel('X-axis')\n",
    "plt.ylabel('literates_total')\n",
    "plt.show()\n"
   ]
  },
  {
   "cell_type": "markdown",
   "id": "4056fba6",
   "metadata": {},
   "source": [
    "From the histogram, we can see data is skewed towards the right i.e majority of data is clustered to the left of the distribution. It is also called as positive skewness. Mean > Median > Mode"
   ]
  },
  {
   "cell_type": "code",
   "execution_count": 54,
   "id": "9fce290d",
   "metadata": {},
   "outputs": [
    {
     "data": {
      "text/plain": [
       "Text(0, 0.5, 'female_graduates')"
      ]
     },
     "execution_count": 54,
     "metadata": {},
     "output_type": "execute_result"
    },
    {
     "data": {
      "image/png": "[encoded data removed]",
      "text/plain": [
       "<Figure size 432x288 with 1 Axes>"
      ]
     },
     "metadata": {
      "needs_background": "light"
     },
     "output_type": "display_data"
    }
   ],
   "source": [
    "# b) Construct scatter  plot between  male graduates and female graduates\n",
    "\n",
    "plt.scatter(data['male_graduates'],data['female_graduates'])\n",
    "plt.xlabel('male_graduates')\n",
    "plt.ylabel('female_graduates')"
   ]
  },
  {
   "cell_type": "markdown",
   "id": "0e6f4c43",
   "metadata": {},
   "source": [
    "### Q3."
   ]
  },
  {
   "cell_type": "markdown",
   "id": "76b3ef6c",
   "metadata": {},
   "source": [
    "For the data set “Indian_cities”\n",
    "\n",
    "a) Construct Boxplot on total effective literacy rate and draw inferences\n",
    "\n",
    "b) Find out the number of null values in each column of the dataset and delete them.\n"
   ]
  },
  {
   "cell_type": "code",
   "execution_count": 57,
   "id": "b38f18cc",
   "metadata": {},
   "outputs": [
    {
     "data": {
      "image/png": "[encoded data removed]",
      "text/plain": [
       "<Figure size 432x288 with 1 Axes>"
      ]
     },
     "metadata": {
      "needs_background": "light"
     },
     "output_type": "display_data"
    }
   ],
   "source": [
    "bx_plot = plt.boxplot(data['effective_literacy_rate_total'])"
   ]
  },
  {
   "cell_type": "markdown",
   "id": "facb58cf",
   "metadata": {},
   "source": [
    "Box Plot also called as Box and whisker plot is used primarily to check for outliers in the dataset.\n",
    "From the above plot, it is clear that there are outliers below the total effective literacy rate of 70. "
   ]
  },
  {
   "cell_type": "code",
   "execution_count": 59,
   "id": "70959704",
   "metadata": {},
   "outputs": [
    {
     "data": {
      "text/plain": [
       "name_of_city                      0\n",
       "state_code                        0\n",
       "state_name                        0\n",
       "dist_code                         0\n",
       "population_total                  0\n",
       "population_male                   0\n",
       "population_female                 0\n",
       "0-6_population_total              0\n",
       "0-6_population_male               0\n",
       "0-6_population_female             0\n",
       "literates_total                   0\n",
       "literates_male                    0\n",
       "literates_female                  0\n",
       "sex_ratio                         0\n",
       "child_sex_ratio                   0\n",
       "effective_literacy_rate_total     0\n",
       "effective_literacy_rate_male      0\n",
       "effective_literacy_rate_female    0\n",
       "location                          0\n",
       "total_graduates                   0\n",
       "male_graduates                    0\n",
       "female_graduates                  0\n",
       "dtype: int64"
      ]
     },
     "execution_count": 59,
     "metadata": {},
     "output_type": "execute_result"
    }
   ],
   "source": [
    "# Find out the number of null values in each column of the dataset and delete them.\n",
    "\n",
    "data.isnull().sum() "
   ]
  },
  {
   "cell_type": "markdown",
   "id": "44f69a6d",
   "metadata": {},
   "source": [
    "There are no null values in the given dataset."
   ]
  },
  {
   "cell_type": "code",
   "execution_count": null,
   "id": "ed077147",
   "metadata": {},
   "outputs": [],
   "source": []
  }
 ],
 "metadata": {
  "kernelspec": {
   "display_name": "Python 3 (ipykernel)",
   "language": "python",
   "name": "python3"
  },
  "language_info": {
   "codemirror_mode": {
    "name": "ipython",
    "version": 3
   },
   "file_extension": ".py",
   "mimetype": "text/x-python",
   "name": "python",
   "nbconvert_exporter": "python",
   "pygments_lexer": "ipython3",
   "version": "3.9.7"
  }
 },
 "nbformat": 4,
 "nbformat_minor": 5
}
