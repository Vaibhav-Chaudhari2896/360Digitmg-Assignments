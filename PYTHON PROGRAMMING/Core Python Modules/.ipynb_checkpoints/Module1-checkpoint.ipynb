{
 "cells": [
  {
   "cell_type": "markdown",
   "metadata": {},
   "source": [
    "# Data types"
   ]
  },
  {
   "cell_type": "code",
   "execution_count": 3,
   "metadata": {},
   "outputs": [
    {
     "name": "stdout",
     "output_type": "stream",
     "text": [
      "1\n",
      "<class 'int'>\n",
      "6\n",
      "36\n"
     ]
    }
   ],
   "source": [
    "#Integer\n",
    "\n",
    "print(1)\n",
    "\n",
    "a = 15\n",
    "print(type(a))\n",
    "\n",
    "print(2+4)  #addition\n",
    "\n",
    "print(12*3) # Multiplication \n"
   ]
  },
  {
   "cell_type": "code",
   "execution_count": 3,
   "metadata": {},
   "outputs": [
    {
     "name": "stdout",
     "output_type": "stream",
     "text": [
      "11.5\n",
      "55.45\n"
     ]
    },
    {
     "data": {
      "text/plain": [
       "float"
      ]
     },
     "execution_count": 3,
     "metadata": {},
     "output_type": "execute_result"
    }
   ],
   "source": [
    "# Float\n",
    "\n",
    "print(11.5)\n",
    "\n",
    "x = 55.45\n",
    "\n",
    "print(x)\n",
    "\n",
    "type(x)\n"
   ]
  },
  {
   "cell_type": "code",
   "execution_count": 4,
   "metadata": {},
   "outputs": [
    {
     "name": "stdout",
     "output_type": "stream",
     "text": [
      "(2+3j)\n"
     ]
    },
    {
     "data": {
      "text/plain": [
       "complex"
      ]
     },
     "execution_count": 4,
     "metadata": {},
     "output_type": "execute_result"
    }
   ],
   "source": [
    "# Complex Number\n",
    "\n",
    "print(2+3j)\n",
    "\n",
    "type(2+3j)\n"
   ]
  },
  {
   "cell_type": "code",
   "execution_count": 5,
   "metadata": {},
   "outputs": [
    {
     "data": {
      "text/plain": [
       "(bool, bool)"
      ]
     },
     "execution_count": 5,
     "metadata": {},
     "output_type": "execute_result"
    }
   ],
   "source": [
    "# Boolean Type\n",
    "\n",
    "type(True) ,type(False)                                                                                \n"
   ]
  },
  {
   "cell_type": "markdown",
   "metadata": {},
   "source": [
    "# Operators\n",
    "\n",
    "## Arithmetic operators\n"
   ]
  },
  {
   "cell_type": "code",
   "execution_count": 6,
   "metadata": {},
   "outputs": [
    {
     "data": {
      "text/plain": [
       "(10, 20)"
      ]
     },
     "execution_count": 6,
     "metadata": {},
     "output_type": "execute_result"
    }
   ],
   "source": [
    "#consider\n",
    "a = 10\n",
    "b = 20\n",
    "a, b"
   ]
  },
  {
   "cell_type": "code",
   "execution_count": 7,
   "metadata": {},
   "outputs": [
    {
     "data": {
      "text/plain": [
       "30"
      ]
     },
     "execution_count": 7,
     "metadata": {},
     "output_type": "execute_result"
    }
   ],
   "source": [
    "#Addition\n",
    "a + b"
   ]
  },
  {
   "cell_type": "code",
   "execution_count": 59,
   "metadata": {},
   "outputs": [
    {
     "data": {
      "text/plain": [
       "-10"
      ]
     },
     "execution_count": 59,
     "metadata": {},
     "output_type": "execute_result"
    }
   ],
   "source": [
    "#subtraction\n",
    "a - b"
   ]
  },
  {
   "cell_type": "code",
   "execution_count": 60,
   "metadata": {},
   "outputs": [
    {
     "data": {
      "text/plain": [
       "200"
      ]
     },
     "execution_count": 60,
     "metadata": {},
     "output_type": "execute_result"
    }
   ],
   "source": [
    "#Multiplication\n",
    "a * b"
   ]
  },
  {
   "cell_type": "code",
   "execution_count": 61,
   "metadata": {},
   "outputs": [
    {
     "data": {
      "text/plain": [
       "0.5"
      ]
     },
     "execution_count": 61,
     "metadata": {},
     "output_type": "execute_result"
    }
   ],
   "source": [
    "#division \n",
    "a/b"
   ]
  },
  {
   "cell_type": "code",
   "execution_count": 62,
   "metadata": {},
   "outputs": [
    {
     "data": {
      "text/plain": [
       "0"
      ]
     },
     "execution_count": 62,
     "metadata": {},
     "output_type": "execute_result"
    }
   ],
   "source": [
    "#Floor divisions\n",
    "a//b #it rounds the result(quotient) to nearest integer that is less than the result (0 <0.5)"
   ]
  },
  {
   "cell_type": "code",
   "execution_count": 63,
   "metadata": {},
   "outputs": [
    {
     "data": {
      "text/plain": [
       "0"
      ]
     },
     "execution_count": 63,
     "metadata": {},
     "output_type": "execute_result"
    }
   ],
   "source": [
    "#Remainders\n",
    "b%a\n"
   ]
  },
  {
   "cell_type": "code",
   "execution_count": 64,
   "metadata": {},
   "outputs": [
    {
     "data": {
      "text/plain": [
       "100000000000000000000"
      ]
     },
     "execution_count": 64,
     "metadata": {},
     "output_type": "execute_result"
    }
   ],
   "source": [
    "#exponential\n",
    "a**b \n"
   ]
  },
  {
   "cell_type": "markdown",
   "metadata": {},
   "source": [
    "## Comparision Operator\n"
   ]
  },
  {
   "cell_type": "code",
   "execution_count": 65,
   "metadata": {},
   "outputs": [
    {
     "data": {
      "text/plain": [
       "(False, True, False)"
      ]
     },
     "execution_count": 65,
     "metadata": {},
     "output_type": "execute_result"
    }
   ],
   "source": [
    "#It gives in bool values\n",
    "\n",
    "a == b , a != b, a > b\n",
    " \n"
   ]
  },
  {
   "cell_type": "code",
   "execution_count": 66,
   "metadata": {},
   "outputs": [
    {
     "data": {
      "text/plain": [
       "(True, False, True)"
      ]
     },
     "execution_count": 66,
     "metadata": {},
     "output_type": "execute_result"
    }
   ],
   "source": [
    "a < b, a >= b ,a <= b\n"
   ]
  },
  {
   "cell_type": "markdown",
   "metadata": {},
   "source": [
    "## Assignment Operators\n"
   ]
  },
  {
   "cell_type": "code",
   "execution_count": 8,
   "metadata": {},
   "outputs": [
    {
     "name": "stdout",
     "output_type": "stream",
     "text": [
      "30\n"
     ]
    },
    {
     "data": {
      "text/plain": [
       "50"
      ]
     },
     "execution_count": 8,
     "metadata": {},
     "output_type": "execute_result"
    }
   ],
   "source": [
    "a = 10\n",
    "b = 20\n",
    "c = a+b\n",
    "\n",
    "print(c)\n",
    "\n",
    "c += b  #its nothing but c = c+b\n",
    "c"
   ]
  },
  {
   "cell_type": "code",
   "execution_count": 68,
   "metadata": {},
   "outputs": [
    {
     "data": {
      "text/plain": [
       "30"
      ]
     },
     "execution_count": 68,
     "metadata": {},
     "output_type": "execute_result"
    }
   ],
   "source": [
    "c -= b\n",
    "c\n"
   ]
  },
  {
   "cell_type": "code",
   "execution_count": 10,
   "metadata": {},
   "outputs": [
    {
     "name": "stdout",
     "output_type": "stream",
     "text": [
      "20000\n"
     ]
    },
    {
     "data": {
      "text/plain": [
       "int"
      ]
     },
     "execution_count": 10,
     "metadata": {},
     "output_type": "execute_result"
    }
   ],
   "source": [
    "c *= b\n",
    "print(c)\n",
    "type(c)"
   ]
  },
  {
   "cell_type": "code",
   "execution_count": 14,
   "metadata": {},
   "outputs": [
    {
     "name": "stdout",
     "output_type": "stream",
     "text": [
      "0.0\n"
     ]
    },
    {
     "data": {
      "text/plain": [
       "float"
      ]
     },
     "execution_count": 14,
     "metadata": {},
     "output_type": "execute_result"
    }
   ],
   "source": [
    "\n",
    "c /= b\n",
    "print(c)\n",
    "type(c)"
   ]
  },
  {
   "cell_type": "code",
   "execution_count": 13,
   "metadata": {},
   "outputs": [
    {
     "data": {
      "text/plain": [
       "0.0"
      ]
     },
     "execution_count": 13,
     "metadata": {},
     "output_type": "execute_result"
    }
   ],
   "source": [
    "c %= b\n",
    "c\n"
   ]
  },
  {
   "cell_type": "code",
   "execution_count": 72,
   "metadata": {},
   "outputs": [
    {
     "data": {
      "text/plain": [
       "1e+20"
      ]
     },
     "execution_count": 72,
     "metadata": {},
     "output_type": "execute_result"
    }
   ],
   "source": [
    "c **= b\n",
    "c\n"
   ]
  },
  {
   "cell_type": "code",
   "execution_count": 73,
   "metadata": {},
   "outputs": [
    {
     "data": {
      "text/plain": [
       "5e+18"
      ]
     },
     "execution_count": 73,
     "metadata": {},
     "output_type": "execute_result"
    }
   ],
   "source": [
    "c //= b\n",
    "c\n"
   ]
  },
  {
   "cell_type": "markdown",
   "metadata": {},
   "source": [
    "## bitwise operator\n"
   ]
  },
  {
   "cell_type": "code",
   "execution_count": 21,
   "metadata": {},
   "outputs": [
    {
     "data": {
      "text/plain": [
       "('60.00', '1101')"
      ]
     },
     "execution_count": 21,
     "metadata": {},
     "output_type": "execute_result"
    }
   ],
   "source": [
    "a = 60\n",
    "b = 13\n",
    "\n",
    "format(60,\"0.2f\") ,format(13,\"b\")\n"
   ]
  },
  {
   "cell_type": "code",
   "execution_count": 22,
   "metadata": {},
   "outputs": [
    {
     "data": {
      "text/plain": [
       "('111100', '1101')"
      ]
     },
     "execution_count": 22,
     "metadata": {},
     "output_type": "execute_result"
    }
   ],
   "source": [
    "format(a,'b'),format(b,'b')"
   ]
  },
  {
   "cell_type": "code",
   "execution_count": 79,
   "metadata": {},
   "outputs": [
    {
     "data": {
      "text/plain": [
       "(12, '1100')"
      ]
     },
     "execution_count": 79,
     "metadata": {},
     "output_type": "execute_result"
    }
   ],
   "source": [
    "#Binary And\n",
    "\n",
    "a & b , format(a&b,'b')\n"
   ]
  },
  {
   "cell_type": "code",
   "execution_count": 81,
   "metadata": {},
   "outputs": [
    {
     "data": {
      "text/plain": [
       "(61, '111101')"
      ]
     },
     "execution_count": 81,
     "metadata": {},
     "output_type": "execute_result"
    }
   ],
   "source": [
    "#Binary Or\n",
    "\n",
    "a|b, format(a|b,'b')\n"
   ]
  },
  {
   "cell_type": "code",
   "execution_count": 82,
   "metadata": {},
   "outputs": [
    {
     "data": {
      "text/plain": [
       "(49, '110001')"
      ]
     },
     "execution_count": 82,
     "metadata": {},
     "output_type": "execute_result"
    }
   ],
   "source": [
    "#Binary XOr\n",
    "\n",
    "a^b, format(a^b,'b')\n"
   ]
  },
  {
   "cell_type": "markdown",
   "metadata": {},
   "source": [
    "## Logical Operators"
   ]
  },
  {
   "cell_type": "code",
   "execution_count": 25,
   "metadata": {},
   "outputs": [
    {
     "data": {
      "text/plain": [
       "3"
      ]
     },
     "execution_count": 25,
     "metadata": {},
     "output_type": "execute_result"
    }
   ],
   "source": [
    "a=3 ; b=2; c=0\n",
    "a & b\n",
    "a | b"
   ]
  },
  {
   "cell_type": "code",
   "execution_count": 180,
   "metadata": {},
   "outputs": [
    {
     "data": {
      "text/plain": [
       "(2, 0)"
      ]
     },
     "execution_count": 180,
     "metadata": {},
     "output_type": "execute_result"
    }
   ],
   "source": [
    "# Logical And -- All the values should be non zero in order to have non zero output\n",
    "a=3 ; b=2; c=0\n",
    "\n",
    "a and b, b and c"
   ]
  },
  {
   "cell_type": "code",
   "execution_count": 181,
   "metadata": {},
   "outputs": [
    {
     "data": {
      "text/plain": [
       "(3, 2)"
      ]
     },
     "execution_count": 181,
     "metadata": {},
     "output_type": "execute_result"
    }
   ],
   "source": [
    "# Logical OR -- Any one should be true in order to have non zero output\n",
    "a=3 ; b=2; c=0\n",
    "\n",
    "a or b, b or c"
   ]
  },
  {
   "cell_type": "markdown",
   "metadata": {},
   "source": [
    "## Membership Operators\n"
   ]
  },
  {
   "cell_type": "code",
   "execution_count": 83,
   "metadata": {},
   "outputs": [
    {
     "data": {
      "text/plain": [
       "(True, False)"
      ]
     },
     "execution_count": 83,
     "metadata": {},
     "output_type": "execute_result"
    }
   ],
   "source": [
    "# It will check that left value is a member of right value or not \n",
    "\n",
    "\"y\" in \"Python\" ,      \"l\" in \"Python\"\n"
   ]
  },
  {
   "cell_type": "code",
   "execution_count": 85,
   "metadata": {},
   "outputs": [
    {
     "data": {
      "text/plain": [
       "(False, True)"
      ]
     },
     "execution_count": 85,
     "metadata": {},
     "output_type": "execute_result"
    }
   ],
   "source": [
    "\"p\" in \"Python\" ,      \"P\" not in \"python\"\n"
   ]
  },
  {
   "cell_type": "markdown",
   "metadata": {},
   "source": [
    "## Identity Operators"
   ]
  },
  {
   "cell_type": "code",
   "execution_count": 86,
   "metadata": {},
   "outputs": [
    {
     "data": {
      "text/plain": [
       "(False, True, False)"
      ]
     },
     "execution_count": 86,
     "metadata": {},
     "output_type": "execute_result"
    }
   ],
   "source": [
    "# It Check will check that left value is equal to the right value or not\n",
    "\n",
    "\"y\" is \"Python\" ,    1 is 1 ,    2 is 1\n",
    "\n"
   ]
  },
  {
   "cell_type": "code",
   "execution_count": 87,
   "metadata": {},
   "outputs": [
    {
     "data": {
      "text/plain": [
       "(False, False)"
      ]
     },
     "execution_count": 87,
     "metadata": {},
     "output_type": "execute_result"
    }
   ],
   "source": [
    "\"python\" is \"Python\",   1 is 0 \n"
   ]
  },
  {
   "cell_type": "code",
   "execution_count": 88,
   "metadata": {},
   "outputs": [
    {
     "data": {
      "text/plain": [
       "(False, True)"
      ]
     },
     "execution_count": 88,
     "metadata": {},
     "output_type": "execute_result"
    }
   ],
   "source": [
    "1 is not 1 ,        \"hi hello\"  is not   \"hello hi\""
   ]
  },
  {
   "cell_type": "markdown",
   "metadata": {},
   "source": [
    "# Data Structures\n"
   ]
  },
  {
   "cell_type": "markdown",
   "metadata": {},
   "source": [
    "## Arrays/Vectors"
   ]
  },
  {
   "cell_type": "code",
   "execution_count": 182,
   "metadata": {},
   "outputs": [
    {
     "name": "stdout",
     "output_type": "stream",
     "text": [
      "10\n",
      "20\n",
      "30\n",
      "40\n",
      "50\n"
     ]
    }
   ],
   "source": [
    "#creating an array\n",
    "from array import *       #Array is created in Python by importing array module to the python program.\n",
    "\n",
    "array1 = array('i', [10,20,30,40,50])\n",
    "\n",
    "for x in array1:\n",
    " print(x)"
   ]
  },
  {
   "cell_type": "code",
   "execution_count": 31,
   "metadata": {},
   "outputs": [
    {
     "ename": "NameError",
     "evalue": "name 'x' is not defined",
     "output_type": "error",
     "traceback": [
      "\u001b[1;31m---------------------------------------------------------------------------\u001b[0m",
      "\u001b[1;31mNameError\u001b[0m                                 Traceback (most recent call last)",
      "\u001b[1;32m~\\AppData\\Local\\Temp/ipykernel_9620/2824491416.py\u001b[0m in \u001b[0;36m<module>\u001b[1;34m\u001b[0m\n\u001b[0;32m      1\u001b[0m \u001b[0mx\u001b[0m\u001b[1;33m=\u001b[0m\u001b[1;36m5\u001b[0m\u001b[1;33m\u001b[0m\u001b[1;33m\u001b[0m\u001b[0m\n\u001b[0;32m      2\u001b[0m \u001b[1;32mdel\u001b[0m \u001b[0mx\u001b[0m\u001b[1;33m\u001b[0m\u001b[1;33m\u001b[0m\u001b[0m\n\u001b[1;32m----> 3\u001b[1;33m \u001b[0mx\u001b[0m\u001b[1;33m\u001b[0m\u001b[1;33m\u001b[0m\u001b[0m\n\u001b[0m",
      "\u001b[1;31mNameError\u001b[0m: name 'x' is not defined"
     ]
    }
   ],
   "source": [
    "x=5\n",
    "del x\n",
    "x"
   ]
  },
  {
   "cell_type": "code",
   "execution_count": 72,
   "metadata": {},
   "outputs": [],
   "source": [
    "# list1=[0,1,2,3]\n",
    "# list2=['Zero','One','Two','Three']\n",
    "# dict1={list1[i] : list2[i] for i in range(len(list1))}\n",
    "# dict1.values()\n",
    "\n",
    "# list1 = [3,4,5,6,7,8]\n",
    "# for i in range(len(list1)):\n",
    "#     if list1[i]%2==0:\n",
    "#         list1[i] += 10\n",
    "#     else:\n",
    "#         list1[i] *= 5\n",
    "# list2=list1\n",
    "# list2\n",
    "\n",
    "# name = str(input('Input Your Name: '))\n",
    "# message = str(input('Input Your message: '))\n",
    "# if len(message) == 0:\n",
    "#     message = 'How are you ?'\n",
    "# print('Hello {}, {}. '.format(name,message))\n"
   ]
  },
  {
   "cell_type": "code",
   "execution_count": 183,
   "metadata": {},
   "outputs": [
    {
     "name": "stdout",
     "output_type": "stream",
     "text": [
      "10\n",
      "60\n",
      "20\n",
      "30\n",
      "40\n",
      "50\n"
     ]
    }
   ],
   "source": [
    "#insert operation\n",
    "from array import *\n",
    "\n",
    "array1 = array('i', [10,20,30,40,50])\n",
    "\n",
    "array1.insert(1,60) #inserting the data at specified location\n",
    "\n",
    "for x in array1:\n",
    " print(x)"
   ]
  },
  {
   "cell_type": "code",
   "execution_count": 184,
   "metadata": {},
   "outputs": [
    {
     "name": "stdout",
     "output_type": "stream",
     "text": [
      "10\n",
      "20\n",
      "30\n",
      "50\n"
     ]
    }
   ],
   "source": [
    "# Deletion operation\n",
    "from array import *\n",
    "\n",
    "array1 = array('i', [10,20,30,40,50])\n",
    "\n",
    "array1.remove(40) #deleting data we want\n",
    "\n",
    "for x in array1:\n",
    " print(x)"
   ]
  },
  {
   "cell_type": "code",
   "execution_count": 185,
   "metadata": {},
   "outputs": [
    {
     "name": "stdout",
     "output_type": "stream",
     "text": [
      "10\n",
      "20\n",
      "80\n",
      "40\n",
      "50\n"
     ]
    }
   ],
   "source": [
    "# Update operation\n",
    "from array import *\n",
    "\n",
    "array1 = array('i', [10,20,30,40,50])\n",
    "\n",
    "array1[2] = 80 #updating\n",
    "\n",
    "for x in array1:\n",
    " print(x)"
   ]
  },
  {
   "cell_type": "markdown",
   "metadata": {},
   "source": [
    "## 2D Arrays"
   ]
  },
  {
   "cell_type": "code",
   "execution_count": 186,
   "metadata": {},
   "outputs": [
    {
     "name": "stdout",
     "output_type": "stream",
     "text": [
      "[11, 12, 5, 2]\n",
      "10\n"
     ]
    }
   ],
   "source": [
    "#Accessing Values in a Two Dimensional Array\n",
    "#The data elements in two dimesnional arrays can be accessed using two indices. \n",
    "#One index referring to the main or parent array and another index referring to \n",
    "#the position of the data element in the inner array. \n",
    "#If we mention only one index then the entire inner array is printed for that index position.\n",
    "\n",
    "from array import *\n",
    "\n",
    "T = [[11, 12, 5, 2], [15, 6,10], [10, 8, 12, 5], [12,15,8,6]] # 2D array\n",
    "\n",
    "print(T[0])\n",
    "\n",
    "print(T[1][2])"
   ]
  },
  {
   "cell_type": "code",
   "execution_count": 188,
   "metadata": {},
   "outputs": [
    {
     "name": "stdout",
     "output_type": "stream",
     "text": [
      "[[11, 12, 5, 2], [15, 6, 10], [10, 8, 12, 5], [12, 15, 8, 6]]\n"
     ]
    },
    {
     "data": {
      "text/plain": [
       "[[11, 12, 5, 2],\n",
       " [15, 6, 10],\n",
       " [0, 5, 11, 13, 6],\n",
       " [10, 8, 12, 5],\n",
       " [12, 15, 8, 6]]"
      ]
     },
     "execution_count": 188,
     "metadata": {},
     "output_type": "execute_result"
    }
   ],
   "source": [
    "#Inserting Values in Two Dimensional Array\n",
    "from array import *\n",
    "T = [[11, 12, 5, 2], [15, 6,10], [10, 8, 12, 5], [12,15,8,6]]\n",
    "print(T)\n",
    "\n",
    "T.insert(2, [0,5,11,13,6]) #inserting at index=2\n",
    "\n",
    "T"
   ]
  },
  {
   "cell_type": "code",
   "execution_count": 189,
   "metadata": {},
   "outputs": [
    {
     "name": "stdout",
     "output_type": "stream",
     "text": [
      "[[11, 12, 5, 2], [15, 6, 10], [10, 8, 12, 5], [12, 15, 8, 6]]\n"
     ]
    },
    {
     "data": {
      "text/plain": [
       "[[11, 12, 5, 7], [15, 6, 10], [11, 9], [12, 15, 8, 6]]"
      ]
     },
     "execution_count": 189,
     "metadata": {},
     "output_type": "execute_result"
    }
   ],
   "source": [
    "#Updating Values in Two Dimensional Array\n",
    "from array import *\n",
    "\n",
    "T = [[11, 12, 5, 2], [15, 6,10], [10, 8, 12, 5], [12,15,8,6]]\n",
    "print(T)\n",
    "\n",
    "T[2] = [11,9] #updating element (row) at index=2\n",
    "T[0][3] = 7 #updating element in first row, 4th column\n",
    "T\n"
   ]
  },
  {
   "cell_type": "code",
   "execution_count": 190,
   "metadata": {},
   "outputs": [
    {
     "name": "stdout",
     "output_type": "stream",
     "text": [
      "[[11, 12, 5, 2], [15, 6, 10], [10, 8, 12, 5], [12, 15, 8, 6]]\n"
     ]
    },
    {
     "data": {
      "text/plain": [
       "[[11, 12, 5, 2], [15, 6, 10], [10, 8, 12, 5]]"
      ]
     },
     "execution_count": 190,
     "metadata": {},
     "output_type": "execute_result"
    }
   ],
   "source": [
    "#Deleting the Values in Two Dimensional Array\n",
    "from array import *\n",
    "T = [[11, 12, 5, 2], [15, 6,10], [10, 8, 12, 5], [12,15,8,6]]\n",
    "print(T)\n",
    "\n",
    "del T[3] #deleting at index=3\n",
    "T"
   ]
  },
  {
   "cell_type": "markdown",
   "metadata": {},
   "source": [
    "## Matrix\n",
    "Matrix is a special case of two dimensional array where each data element is of strictly same size. So every matrix is also a two dimensional array but not vice versa. Matrices are very important data structures for many mathematical and scientific calculations."
   ]
  },
  {
   "cell_type": "code",
   "execution_count": 191,
   "metadata": {},
   "outputs": [
    {
     "name": "stdout",
     "output_type": "stream",
     "text": [
      "[['Mon' '18' '20' '22' '17']\n",
      " ['Tue' '11' '18' '21' '18']\n",
      " ['Wed' '15' '21' '20' '19']\n",
      " ['Thu' '11' '20' '22' '21']\n",
      " ['Fri' '18' '17' '23' '22']\n",
      " ['Sat' '12' '22' '20' '18']\n",
      " ['Sun' '13' '15' '19' '16']]\n"
     ]
    }
   ],
   "source": [
    "#Matrix Example\n",
    "from numpy import * \n",
    "a = array([['Mon',18,20,22,17],['Tue',11,18,21,18],\n",
    "           ['Wed',15,21,20,19],['Thu',11,20,22,21],\n",
    "           ['Fri',18,17,23,22],['Sat',12,22,20,18],\n",
    "           ['Sun',13,15,19,16]])\n",
    "    \n",
    "m = reshape(a,(7,5)) #dimentisions of matrix aka rows*columns\n",
    "print(m)"
   ]
  },
  {
   "cell_type": "code",
   "execution_count": 192,
   "metadata": {},
   "outputs": [
    {
     "name": "stdout",
     "output_type": "stream",
     "text": [
      "['Wed' '15' '21' '20' '19']\n",
      "23\n"
     ]
    }
   ],
   "source": [
    "#Accessing Values in a Matrix\n",
    "from numpy import * \n",
    "m = array([['Mon',18,20,22,17],['Tue',11,18,21,18],\n",
    "           ['Wed',15,21,20,19],['Thu',11,20,22,21],\n",
    "           ['Fri',18,17,23,22],['Sat',12,22,20,18],\n",
    "           ['Sun',13,15,19,16]])\n",
    "    \n",
    "# Print data for Wednesday\n",
    "print(m[2])\n",
    "\n",
    "# Print data for friday evening\n",
    "print(m[4][3])"
   ]
  },
  {
   "cell_type": "code",
   "execution_count": 195,
   "metadata": {},
   "outputs": [
    {
     "name": "stdout",
     "output_type": "stream",
     "text": [
      "[['Mon' '18' '20' '22' '17']\n",
      " ['Tue' '11' '18' '21' '18']\n",
      " ['Wed' '15' '21' '20' '19']\n",
      " ['Thu' '11' '20' '22' '21']\n",
      " ['Fri' '18' '17' '23' '22']\n",
      " ['Sat' '12' '22' '20' '18']\n",
      " ['Sun' '13' '15' '19' '16']\n",
      " ['Avg' '12' '15' '13' '11']]\n",
      "***********\n",
      "[['Mon' '18' '20' '22' '17' '1']\n",
      " ['Tue' '11' '18' '21' '18' '2']\n",
      " ['Wed' '15' '21' '20' '19' '3']\n",
      " ['Thu' '11' '20' '22' '21' '4']\n",
      " ['Fri' '18' '17' '23' '22' '5']\n",
      " ['Sat' '12' '22' '20' '18' '6']\n",
      " ['Sun' '13' '15' '19' '16' '7']]\n"
     ]
    }
   ],
   "source": [
    "#Adding the data\n",
    "from numpy import * \n",
    "m = array([['Mon',18,20,22,17],['Tue',11,18,21,18],\n",
    "           ['Wed',15,21,20,19],['Thu',11,20,22,21],\n",
    "           ['Fri',18,17,23,22],['Sat',12,22,20,18],\n",
    "           ['Sun',13,15,19,16]])\n",
    "    \n",
    "m_r = append(m,[['Avg',12,15,13,11]],0) #adding by using append at the end .(0-- row)\n",
    "m_c = insert(m,[5],[[1],[2],[3],[4],[5],[6],[7]],1) #adding by using insert at required location .(1-- column)\n",
    "#print(m)\n",
    "print(m_r)\n",
    "print('***********')\n",
    "print(m_c)"
   ]
  },
  {
   "cell_type": "code",
   "execution_count": 196,
   "metadata": {},
   "outputs": [
    {
     "name": "stdout",
     "output_type": "stream",
     "text": [
      "[['Mon' '18' '20' '22' '17']\n",
      " ['Tue' '11' '18' '21' '18']\n",
      " ['Wed' '15' '21' '20' '19']\n",
      " ['Thu' '11' '20' '22' '21']\n",
      " ['Fri' '18' '17' '23' '22']\n",
      " ['Sat' '12' '22' '20' '18']\n",
      " ['Sun' '13' '15' '19' '16']]\n",
      "********************\n",
      "[['Mon' '18' '20' '22' '17']\n",
      " ['Tue' '11' '18' '21' '18']\n",
      " ['Thu' '11' '20' '22' '21']\n",
      " ['Fri' '18' '17' '23' '22']\n",
      " ['Sat' '12' '22' '20' '18']\n",
      " ['Sun' '13' '15' '19' '16']]\n",
      "***********\n"
     ]
    },
    {
     "data": {
      "text/plain": [
       "array([['Mon', '18', '22', '17'],\n",
       "       ['Tue', '11', '21', '18'],\n",
       "       ['Thu', '11', '22', '21'],\n",
       "       ['Fri', '18', '23', '22'],\n",
       "       ['Sat', '12', '20', '18'],\n",
       "       ['Sun', '13', '19', '16']], dtype='<U3')"
      ]
     },
     "execution_count": 196,
     "metadata": {},
     "output_type": "execute_result"
    }
   ],
   "source": [
    "#Delete from matrix\n",
    "from numpy import * \n",
    "m = array([['Mon',18,20,22,17],['Tue',11,18,21,18],\n",
    "           ['Wed',15,21,20,19],['Thu',11,20,22,21],\n",
    "           ['Fri',18,17,23,22],['Sat',12,22,20,18],\n",
    "           ['Sun',13,15,19,16]])\n",
    "\n",
    "print(m) #original matrix\n",
    "print('********************')\n",
    "    \n",
    "m = delete(m,[2],0) #deleting row at index=2\n",
    "print(m)\n",
    "print('***********')\n",
    "m = delete(m,[2],1) #deleting column at index=2\n",
    "m"
   ]
  },
  {
   "cell_type": "markdown",
   "metadata": {},
   "source": [
    "## Lists"
   ]
  },
  {
   "cell_type": "code",
   "execution_count": 198,
   "metadata": {},
   "outputs": [
    {
     "data": {
      "text/plain": [
       "['Nikhil', '360DigiTMG', 2013, 2018]"
      ]
     },
     "execution_count": 198,
     "metadata": {},
     "output_type": "execute_result"
    }
   ],
   "source": [
    "###############################   List   ################################\n",
    "\n",
    "# A list data type is given in square brackets and each element is separated by comma.\n",
    " \n",
    "list1 = ['Nikhil', '360DigiTMG', 2013, 2018]\n",
    "list1"
   ]
  },
  {
   "cell_type": "code",
   "execution_count": 199,
   "metadata": {},
   "outputs": [
    {
     "name": "stdout",
     "output_type": "stream",
     "text": [
      "Nikhil\n",
      "2018\n",
      "['Nikhil', '360DigiTMG', 2013, 2018]\n"
     ]
    }
   ],
   "source": [
    "#Access values in the variable using index numbers\n",
    "  \n",
    "print(list1[0])\n",
    "\n",
    "print(list1[3])\n",
    "\n",
    "print(list1[:4])\n"
   ]
  },
  {
   "cell_type": "code",
   "execution_count": 200,
   "metadata": {},
   "outputs": [
    {
     "name": "stdout",
     "output_type": "stream",
     "text": [
      "[123, 'xyz', 'zara', 'abc', 2009]\n"
     ]
    }
   ],
   "source": [
    "#functions in list data type\n",
    "\n",
    "# Append : add  new element to the existing list\n",
    "\n",
    "aList = [123, 'xyz', 'zara', 'abc'];\n",
    "aList.append( 2009 );\n",
    "print(aList)\n"
   ]
  },
  {
   "cell_type": "code",
   "execution_count": 201,
   "metadata": {},
   "outputs": [
    {
     "name": "stdout",
     "output_type": "stream",
     "text": [
      "2009\n"
     ]
    }
   ],
   "source": [
    "#Pop : remove the elment from existing list\n",
    "print (aList.pop())\n"
   ]
  },
  {
   "cell_type": "code",
   "execution_count": 202,
   "metadata": {},
   "outputs": [
    {
     "name": "stdout",
     "output_type": "stream",
     "text": [
      "123\n"
     ]
    }
   ],
   "source": [
    "# pop the element using index number\n",
    "print (aList.pop(0))\n"
   ]
  },
  {
   "cell_type": "code",
   "execution_count": 203,
   "metadata": {},
   "outputs": [
    {
     "name": "stdout",
     "output_type": "stream",
     "text": [
      "[123, 'xyz', 'tommy', 2009, 'abc', 123]\n"
     ]
    }
   ],
   "source": [
    "#Insert: insert a value using index number \n",
    "aList = [123, 'xyz', 'tommy', 'abc', 123]\n",
    "aList.insert( 3, 2009)\n",
    "print (aList)\n"
   ]
  },
  {
   "cell_type": "code",
   "execution_count": 204,
   "metadata": {},
   "outputs": [
    {
     "data": {
      "text/plain": [
       "([123, 'xyz', 'tommy', 'abc', 123, 2009, 'beneli'],\n",
       " [2009, 'beneli', 123, 'xyz', 'tommy', 'abc', 123, 2009, 'beneli'])"
      ]
     },
     "execution_count": 204,
     "metadata": {},
     "output_type": "execute_result"
    }
   ],
   "source": [
    "#Extend: extend the two list one after another \n",
    "aList = [123, 'xyz', 'tommy', 'abc', 123]\n",
    "bList = [2009, 'beneli']\n",
    "aList.extend(bList)\n",
    "bList.extend(aList)\n",
    "aList, bList"
   ]
  },
  {
   "cell_type": "code",
   "execution_count": 205,
   "metadata": {},
   "outputs": [
    {
     "name": "stdout",
     "output_type": "stream",
     "text": [
      "[342, 'abc', 'tommy', 'xyz', 123]\n"
     ]
    }
   ],
   "source": [
    "#Reverse: to reverse the given list \n",
    "aList = [123, 'xyz', 'tommy', 'abc', 342]\n",
    "aList.reverse()\n",
    "print(aList)"
   ]
  },
  {
   "cell_type": "code",
   "execution_count": 206,
   "metadata": {},
   "outputs": [
    {
     "name": "stdout",
     "output_type": "stream",
     "text": [
      "[99, 45, 33, 8]\n"
     ]
    }
   ],
   "source": [
    "#Sort: sort the given list from ascending or descending\n",
    "\n",
    "blist = [8,99,45,33]\n",
    "blist.sort(reverse=True)\n",
    "print(blist)\n"
   ]
  },
  {
   "cell_type": "code",
   "execution_count": 207,
   "metadata": {},
   "outputs": [
    {
     "name": "stdout",
     "output_type": "stream",
     "text": [
      "2\n"
     ]
    }
   ],
   "source": [
    "#count: count the value in given list of elements\n",
    "\n",
    "aList = [123, 'xyz', 'zara', 'abc', 123, \"zara\"]\n",
    "print(aList.count(\"zara\"))"
   ]
  },
  {
   "cell_type": "markdown",
   "metadata": {},
   "source": [
    "## Tuples"
   ]
  },
  {
   "cell_type": "code",
   "execution_count": 208,
   "metadata": {},
   "outputs": [
    {
     "name": "stdout",
     "output_type": "stream",
     "text": [
      "('Street triple', 'Detona', 'Beneli', 8055)\n",
      "(1, 2, 3, 4, 5)\n",
      "()\n"
     ]
    },
    {
     "data": {
      "text/plain": [
       "(50,)"
      ]
     },
     "execution_count": 208,
     "metadata": {},
     "output_type": "execute_result"
    }
   ],
   "source": [
    "##################################### Tuples ####################################\n",
    "\n",
    "\n",
    "## Create a tuple dataset\n",
    "tup1 = ('Street triple','Detona','Beneli', 8055)\n",
    "tup2 = (1, 2, 3, 4, 5 )\n",
    "print(tup1)\n",
    "print(tup2)\n",
    "\n",
    "### Create a empty tuple \n",
    "tup1 = ()\n",
    "print(tup1)\n",
    "\n",
    "#Create a single tuple\n",
    "tup1 = (50,)\n",
    "tup1"
   ]
  },
  {
   "cell_type": "code",
   "execution_count": 209,
   "metadata": {},
   "outputs": [
    {
     "name": "stdout",
     "output_type": "stream",
     "text": [
      "Street triple\n",
      "(2, 3, 4, 5)\n"
     ]
    }
   ],
   "source": [
    "#Accessing Values in Tuples\n",
    "\n",
    "tup1 = ('Street triple','Detona','Beneli', 8055)\n",
    "print(tup1[0])\n",
    "\n",
    "tup2 = (1, 2, 3, 4, 5, 6, 7 )\n",
    "print(tup2[1:5])\n"
   ]
  },
  {
   "cell_type": "code",
   "execution_count": 210,
   "metadata": {},
   "outputs": [
    {
     "name": "stdout",
     "output_type": "stream",
     "text": [
      "(12, 34.56, 'abc', 'xyz')\n"
     ]
    }
   ],
   "source": [
    "#Updating Tuples\n",
    "tup1 = (12, 34.56)\n",
    "tup2 = ('abc', 'xyz')\n",
    "\n",
    "# So,create a new tuple as follows\n",
    "tup1 = tup1 + tup2\n",
    "print(tup1)\n"
   ]
  },
  {
   "cell_type": "code",
   "execution_count": 211,
   "metadata": {},
   "outputs": [
    {
     "name": "stdout",
     "output_type": "stream",
     "text": [
      "('Street triple', 'Detona', 'Beneli', 8055)\n"
     ]
    }
   ],
   "source": [
    "#Delete Tuple Elements\n",
    "tup = ('Street triple','Detona','Beneli', 8055)\n",
    "print(tup)"
   ]
  },
  {
   "cell_type": "code",
   "execution_count": 212,
   "metadata": {},
   "outputs": [
    {
     "ename": "TypeError",
     "evalue": "'tuple' object doesn't support item deletion",
     "output_type": "error",
     "traceback": [
      "\u001b[1;31m---------------------------------------------------------------------------\u001b[0m",
      "\u001b[1;31mTypeError\u001b[0m                                 Traceback (most recent call last)",
      "\u001b[1;32m<ipython-input-212-bc4a44cd3751>\u001b[0m in \u001b[0;36m<module>\u001b[1;34m()\u001b[0m\n\u001b[0;32m      1\u001b[0m \u001b[1;31m#Delete Tuple Elements\u001b[0m\u001b[1;33m\u001b[0m\u001b[1;33m\u001b[0m\u001b[0m\n\u001b[0;32m      2\u001b[0m \u001b[0mtup\u001b[0m \u001b[1;33m=\u001b[0m \u001b[1;33m(\u001b[0m\u001b[1;34m'Street triple'\u001b[0m\u001b[1;33m,\u001b[0m\u001b[1;34m'Detona'\u001b[0m\u001b[1;33m,\u001b[0m\u001b[1;34m'Beneli'\u001b[0m\u001b[1;33m,\u001b[0m \u001b[1;36m8055\u001b[0m\u001b[1;33m)\u001b[0m\u001b[1;33m\u001b[0m\u001b[0m\n\u001b[1;32m----> 3\u001b[1;33m \u001b[1;32mdel\u001b[0m \u001b[0mtup\u001b[0m\u001b[1;33m[\u001b[0m\u001b[1;36m1\u001b[0m\u001b[1;33m]\u001b[0m \u001b[1;31m# We cannot delete individual items of tuple as it is immutable.\u001b[0m\u001b[1;33m\u001b[0m\u001b[0m\n\u001b[0m\u001b[0;32m      4\u001b[0m \u001b[0mprint\u001b[0m\u001b[1;33m(\u001b[0m\u001b[0mtup\u001b[0m\u001b[1;33m)\u001b[0m\u001b[1;33m\u001b[0m\u001b[0m\n",
      "\u001b[1;31mTypeError\u001b[0m: 'tuple' object doesn't support item deletion"
     ]
    }
   ],
   "source": [
    "#Delete Tuple Elements\n",
    "tup = ('Street triple','Detona','Beneli', 8055)\n",
    "del tup[1] # We cannot delete individual items of tuple as it is immutable.\n",
    "print(tup) "
   ]
  },
  {
   "cell_type": "code",
   "execution_count": 213,
   "metadata": {},
   "outputs": [],
   "source": [
    "# to delete the given tuple \n",
    "del(tup)"
   ]
  },
  {
   "cell_type": "markdown",
   "metadata": {},
   "source": [
    "## Sets"
   ]
  },
  {
   "cell_type": "code",
   "execution_count": 214,
   "metadata": {},
   "outputs": [
    {
     "name": "stdout",
     "output_type": "stream",
     "text": [
      "Normal Set\n",
      "{'b', 'a', 'd', 'c'}\n"
     ]
    }
   ],
   "source": [
    "# Sets and Frozen Sets\n",
    "# A normal Set\n",
    "normal_set = set([\"a\", \"b\",\"c\"]) \n",
    "normal_set.add(\"d\") \n",
    "  \n",
    "print(\"Normal Set\") \n",
    "print(normal_set) \n"
   ]
  },
  {
   "cell_type": "code",
   "execution_count": 215,
   "metadata": {},
   "outputs": [
    {
     "name": "stdout",
     "output_type": "stream",
     "text": [
      "Frozen Set\n",
      "frozenset({'f', 'g', 'e'})\n"
     ]
    }
   ],
   "source": [
    "# A frozen set \n",
    "frozen_set = frozenset([\"e\", \"f\", \"g\"]) \n",
    "  \n",
    "print(\"Frozen Set\") \n",
    "print(frozen_set) \n"
   ]
  },
  {
   "cell_type": "code",
   "execution_count": 216,
   "metadata": {},
   "outputs": [
    {
     "ename": "AttributeError",
     "evalue": "'frozenset' object has no attribute 'add'",
     "output_type": "error",
     "traceback": [
      "\u001b[1;31m---------------------------------------------------------------------------\u001b[0m",
      "\u001b[1;31mAttributeError\u001b[0m                            Traceback (most recent call last)",
      "\u001b[1;32m<ipython-input-216-031678ea494e>\u001b[0m in \u001b[0;36m<module>\u001b[1;34m()\u001b[0m\n\u001b[0;32m      1\u001b[0m \u001b[1;31m# adding a member to set in frozen set and should throw an error\u001b[0m\u001b[1;33m\u001b[0m\u001b[1;33m\u001b[0m\u001b[0m\n\u001b[1;32m----> 2\u001b[1;33m \u001b[0mfrozen_set\u001b[0m\u001b[1;33m.\u001b[0m\u001b[0madd\u001b[0m\u001b[1;33m(\u001b[0m\u001b[1;34m\"h\"\u001b[0m\u001b[1;33m)\u001b[0m\u001b[1;33m\u001b[0m\u001b[0m\n\u001b[0m",
      "\u001b[1;31mAttributeError\u001b[0m: 'frozenset' object has no attribute 'add'"
     ]
    }
   ],
   "source": [
    "# adding a member to set in frozen set and should throw an error\n",
    "frozen_set.add(\"h\")\n"
   ]
  },
  {
   "cell_type": "code",
   "execution_count": 217,
   "metadata": {},
   "outputs": [
    {
     "name": "stdout",
     "output_type": "stream",
     "text": [
      "set() set()\n"
     ]
    },
    {
     "data": {
      "text/plain": [
       "{1, 2, 3, 4, 5, 6, 7, 8, 9}"
      ]
     },
     "execution_count": 217,
     "metadata": {},
     "output_type": "execute_result"
    }
   ],
   "source": [
    "# Set Operations \n",
    "\n",
    "# Let us create sets \n",
    "set1 = set() # Null Set\n",
    "set2 = set() # Null Set\n",
    "print(set1,set2)\n",
    "\n",
    "# Adding elements to set1 \n",
    "for i in range(1, 10): \n",
    "    set1.add(i) \n",
    "\n",
    "set1\n"
   ]
  },
  {
   "cell_type": "code",
   "execution_count": 218,
   "metadata": {},
   "outputs": [
    {
     "data": {
      "text/plain": [
       "{3, 4, 5, 6, 7, 8, 9}"
      ]
     },
     "execution_count": 218,
     "metadata": {},
     "output_type": "execute_result"
    }
   ],
   "source": [
    "#Adding elements to set2\n",
    "\n",
    "for i in range(3, 10): \n",
    "    set2.add(i) \n",
    "set2\n"
   ]
  },
  {
   "cell_type": "code",
   "execution_count": 219,
   "metadata": {},
   "outputs": [
    {
     "name": "stdout",
     "output_type": "stream",
     "text": [
      "Union of Set1 & Set2: Set3 =  {1, 2, 3, 4, 5, 6, 7, 8, 9}\n",
      "Intersection of Set1 & Set2: Set4 =  {3, 4, 5, 6, 7, 8, 9}\n"
     ]
    }
   ],
   "source": [
    "# Union of set1 and set2 \n",
    "# Uninon shows all the values in set1 ans set2\n",
    "set3 = set1 | set2 # set1.union(set2) \n",
    "print(\"Union of Set1 & Set2: Set3 = \", set3) \n",
    "\n",
    "# Intersection of set1 and set2 \n",
    "# Intersection shows common values in set1 and set2 \n",
    "set4 = set1 & set2# set1.intersection(set2) \n",
    "print(\"Intersection of Set1 & Set2: Set4 = \", set4)     \n"
   ]
  },
  {
   "cell_type": "code",
   "execution_count": 220,
   "metadata": {},
   "outputs": [
    {
     "name": "stdout",
     "output_type": "stream",
     "text": [
      "Set3 is superset of Set4\n"
     ]
    }
   ],
   "source": [
    "# Lets us check is there any relationship between set3 and set4\n",
    "# Checking relation between set3 and set4 \n",
    "if set3 > set4: # set3.issuperset(set4) \n",
    "    print(\"Set3 is superset of Set4\") \n",
    "elif set3 < set4: # set3.issubset(set4) \n",
    "    print(\"Set3 is subset of Set4\") \n",
    "else : # set3 == set4 \n",
    "    print(\"Set3 is same as Set4\") \n"
   ]
  },
  {
   "cell_type": "code",
   "execution_count": 221,
   "metadata": {},
   "outputs": [
    {
     "name": "stdout",
     "output_type": "stream",
     "text": [
      "\n",
      "\n",
      "Set4 is subset of Set3\n",
      "\n",
      "\n"
     ]
    }
   ],
   "source": [
    "# displaying relation between set4 and set3 \n",
    "if set4 < set3: # set4.issubset(set3) \n",
    "    print(\"\\n\")\n",
    "    print(\"Set4 is subset of Set3\") \n",
    "    print(\"\\n\") "
   ]
  },
  {
   "cell_type": "code",
   "execution_count": 222,
   "metadata": {},
   "outputs": [
    {
     "name": "stdout",
     "output_type": "stream",
     "text": [
      "Elements in Set3 and not in Set4: Set5 =  {1, 2}\n",
      "\n",
      "\n"
     ]
    }
   ],
   "source": [
    "# difference between set3 and set4 \n",
    "set5 = set3 - set4 \n",
    "print(\"Elements in Set3 and not in Set4: Set5 = \", set5) \n",
    "print(\"\\n\") \n"
   ]
  },
  {
   "cell_type": "code",
   "execution_count": 223,
   "metadata": {},
   "outputs": [
    {
     "name": "stdout",
     "output_type": "stream",
     "text": [
      "Set4 and Set5 have nothing in common\n",
      "\n"
     ]
    }
   ],
   "source": [
    "# checkv if set4 and set5 are disjoint sets \n",
    "if set4.isdisjoint(set5): \n",
    "    print(\"Set4 and Set5 have nothing in common\\n\") \n"
   ]
  },
  {
   "cell_type": "code",
   "execution_count": 224,
   "metadata": {},
   "outputs": [
    {
     "name": "stdout",
     "output_type": "stream",
     "text": [
      "After applying clear on sets Set5: \n",
      "Set5 =  set()\n"
     ]
    }
   ],
   "source": [
    "# Removing all the values of set5 \n",
    "set5.clear() \n",
    "  \n",
    "print(\"After applying clear on sets Set5: \") \n",
    "print(\"Set5 = \", set5) \n"
   ]
  },
  {
   "cell_type": "markdown",
   "metadata": {},
   "source": [
    "## Strings"
   ]
  },
  {
   "cell_type": "code",
   "execution_count": 6,
   "metadata": {},
   "outputs": [
    {
     "name": "stdout",
     "output_type": "stream",
     "text": [
      "A\n",
      "t\n",
      "dit\n",
      "y\n",
      "ty\n"
     ]
    }
   ],
   "source": [
    "#######Strings###############\n",
    "\n",
    "\n",
    "#Accesing Value in Strings   \n",
    "Name = \"Aditya\"\n",
    "  \n",
    "print(Name[0])\n",
    "\n",
    "print(Name[3])\n",
    "\n",
    "print(Name[1:4])\n",
    "\n",
    "print(Name[-2])\n",
    "\n",
    "print(Name[-3:-1])\n",
    "    \n"
   ]
  },
  {
   "cell_type": "code",
   "execution_count": 7,
   "metadata": {},
   "outputs": [
    {
     "name": "stdout",
     "output_type": "stream",
     "text": [
      "Updated String :-  Hello World!  Python\n",
      "Updated String :-  Hello Python\n"
     ]
    }
   ],
   "source": [
    "#Update Strings    \n",
    "var = 'Hello World!  '\n",
    "print (\"Updated String :- \", var + 'Python')\n",
    "print (\"Updated String :- \", var[:6] + 'Python')\n"
   ]
  },
  {
   "cell_type": "code",
   "execution_count": 8,
   "metadata": {},
   "outputs": [
    {
     "name": "stdout",
     "output_type": "stream",
     "text": [
      "My name is  Nikhiland weight is 65 kgs!\n"
     ]
    }
   ],
   "source": [
    "# String Formating \n",
    "print(\"My name is  %sand weight is %d kgs!\" % ('Nikhil', 65))\n"
   ]
  },
  {
   "cell_type": "code",
   "execution_count": 9,
   "metadata": {},
   "outputs": [
    {
     "name": "stdout",
     "output_type": "stream",
     "text": [
      "Enter your name: aaa\n",
      "Enter your Weight: 55\n",
      "My name is aaa and my Weight is 55\n"
     ]
    },
    {
     "data": {
      "text/plain": [
       "int"
      ]
     },
     "execution_count": 9,
     "metadata": {},
     "output_type": "execute_result"
    }
   ],
   "source": [
    "#Ex :1 \n",
    "\n",
    "Name = input(\"Enter your name: \")\n",
    "Weight = eval(input(\"Enter your Weight: \"))\n",
    "print(\"My name is %s and my Weight is %d\"%(Name,Weight))\n",
    "\n",
    "type(Weight)\n"
   ]
  },
  {
   "cell_type": "code",
   "execution_count": 11,
   "metadata": {},
   "outputs": [
    {
     "data": {
      "text/plain": [
       "str"
      ]
     },
     "execution_count": 11,
     "metadata": {},
     "output_type": "execute_result"
    }
   ],
   "source": [
    "#Triple Quotes\n",
    "\n",
    "\n",
    "# my name is 'nikhil' and my age is '25'\n",
    "\n",
    "Statement = \"\"\"my name is \"nikhil\" and my age is \"25\".\"\"\"\n",
    "type(Statement)"
   ]
  },
  {
   "cell_type": "code",
   "execution_count": 13,
   "metadata": {},
   "outputs": [
    {
     "name": "stdout",
     "output_type": "stream",
     "text": [
      "<class 'str'>\n",
      "Nikhil\n",
      "NIKHIL\n"
     ]
    }
   ],
   "source": [
    "Name = \"nikhil\"\n",
    "print(type(Name))\n",
    "\n",
    "# To make first letter capital\n",
    "print(Name.capitalize())\n",
    "print(Name.upper())\n"
   ]
  },
  {
   "cell_type": "code",
   "execution_count": 14,
   "metadata": {},
   "outputs": [
    {
     "data": {
      "text/plain": [
       "'                      nikhil                      '"
      ]
     },
     "execution_count": 14,
     "metadata": {},
     "output_type": "execute_result"
    }
   ],
   "source": [
    "# To make string at center in given spaces\n",
    "Name.center(50)\n"
   ]
  },
  {
   "cell_type": "code",
   "execution_count": 15,
   "metadata": {},
   "outputs": [
    {
     "name": "stdout",
     "output_type": "stream",
     "text": [
      "The count is: 4\n"
     ]
    }
   ],
   "source": [
    "#count() method returns the number of occurrences of the substring in the given string.\n",
    "string = \"nikhil is trainer\"\n",
    "\n",
    "substring = \"i\"\n",
    "\n",
    "count = string.count(substring)\n",
    "count\n",
    "\n",
    "print(\"The count is:\", count)\n"
   ]
  },
  {
   "cell_type": "code",
   "execution_count": 16,
   "metadata": {},
   "outputs": [
    {
     "name": "stdout",
     "output_type": "stream",
     "text": [
      "The count is: 1\n"
     ]
    }
   ],
   "source": [
    "#Count number of occurrences of a given substring using start and end\n",
    "# define string\n",
    "string = \"nikhil is trainer\"\n",
    "substring = \"i\"\n",
    "\n",
    "# count after first 'i' and before the last 'i'\n",
    "count = string.count(substring, 8, 25)\n",
    "count\n",
    "# print count\n",
    "print(\"The count is:\", count)\n"
   ]
  },
  {
   "cell_type": "code",
   "execution_count": 17,
   "metadata": {},
   "outputs": [
    {
     "name": "stdout",
     "output_type": "stream",
     "text": [
      "True\n"
     ]
    },
    {
     "data": {
      "text/plain": [
       "False"
      ]
     },
     "execution_count": 17,
     "metadata": {},
     "output_type": "execute_result"
    }
   ],
   "source": [
    "##Returns true if string has at least 1 character and all characters are alphanumeric and false otherwise.\n",
    "\n",
    "Num = 'thishi34';  # No space in this string\n",
    "type(Num)\n",
    "print(Num.isalnum())\n",
    "\n",
    "Num = \"this is string examplehi!!!\";\n",
    "Num.isalnum()\n"
   ]
  },
  {
   "cell_type": "code",
   "execution_count": 20,
   "metadata": {},
   "outputs": [
    {
     "name": "stdout",
     "output_type": "stream",
     "text": [
      "True\n"
     ]
    },
    {
     "data": {
      "text/plain": [
       "False"
      ]
     },
     "execution_count": 20,
     "metadata": {},
     "output_type": "execute_result"
    }
   ],
   "source": [
    "#This method returns true if all characters in the string are alphabetic and there is at least one character, false otherwise.\n",
    "Num = \"thisis\";  # No space & digit in this string\n",
    "print(Num.isalpha())\n",
    "\n",
    "Num = \"this is string example0909090!!!\";\n",
    "Num.isalpha()\n"
   ]
  },
  {
   "cell_type": "code",
   "execution_count": 21,
   "metadata": {},
   "outputs": [
    {
     "name": "stdout",
     "output_type": "stream",
     "text": [
      "<class 'str'>\n",
      "True\n"
     ]
    },
    {
     "data": {
      "text/plain": [
       "False"
      ]
     },
     "execution_count": 21,
     "metadata": {},
     "output_type": "execute_result"
    }
   ],
   "source": [
    "#This method returns true if all characters in the string are digits and there is at least one character, false otherwise.\n",
    "\n",
    "Num = \"123456\";  # Only digit in this string\n",
    "print(type(Num))\n",
    "print(Num.isdigit())\n",
    "\n",
    "Num = \"this is string example!!!\";\n",
    "Num.isdigit()\n"
   ]
  },
  {
   "cell_type": "code",
   "execution_count": 22,
   "metadata": {},
   "outputs": [
    {
     "data": {
      "text/plain": [
       "'this is string example!!!'"
      ]
     },
     "execution_count": 22,
     "metadata": {},
     "output_type": "execute_result"
    }
   ],
   "source": [
    "#his method returns a copy of the string in which all case-based characters have been lowercased.\n",
    "Num = \"THIS IS STRING EXAMPLE!!!\";\n",
    "A = Num.lower()\n",
    "A\n"
   ]
  },
  {
   "cell_type": "code",
   "execution_count": 23,
   "metadata": {},
   "outputs": [
    {
     "data": {
      "text/plain": [
       "'THIS IS STRING EXAMPLE!!!'"
      ]
     },
     "execution_count": 23,
     "metadata": {},
     "output_type": "execute_result"
    }
   ],
   "source": [
    "#This method returns a copy of the string in which all case-based characters have been Uppercase.\n",
    "Num = \"this is string example!!!\";\n",
    "\n",
    "Num.upper()\n"
   ]
  },
  {
   "cell_type": "code",
   "execution_count": 24,
   "metadata": {},
   "outputs": [
    {
     "name": "stdout",
     "output_type": "stream",
     "text": [
      "it was string example!!! was really a string was was was was \n",
      "it was string example!!! was really a string was is is is \n"
     ]
    }
   ],
   "source": [
    "#The following example shows the usage of replace() method.\n",
    "\n",
    "reply = \"it is string example!!! is really a string is is is is \"\n",
    "print(reply.replace(\"is\", \"was\"))\n",
    "print(reply.replace(\"is\", \"was\", 3))\n",
    "\n"
   ]
  },
  {
   "cell_type": "code",
   "execution_count": 25,
   "metadata": {},
   "outputs": [
    {
     "name": "stdout",
     "output_type": "stream",
     "text": [
      "['Line1-abcdef', 'Line2-abc', 'Line3-abcd']\n",
      "['Line1-abcdef', '\\nLine2-abc \\nLine3-abcd']\n"
     ]
    },
    {
     "data": {
      "text/plain": [
       "['Line1-abcdef', 'Line2-abc', 'Line3-abcd']"
      ]
     },
     "execution_count": 25,
     "metadata": {},
     "output_type": "execute_result"
    }
   ],
   "source": [
    "#The following example shows the usage of split() method.\n",
    "split1 = \"Line1-abcdef \\nLine2-abc \\nLine3-abcd\";\n",
    "print(split1.split( ))\n",
    "print(split1.split(' ', 1 ))\n",
    "\n"
   ]
  },
  {
   "cell_type": "markdown",
   "metadata": {},
   "source": [
    "## Dictionary"
   ]
  },
  {
   "cell_type": "code",
   "execution_count": 51,
   "metadata": {},
   "outputs": [
    {
     "name": "stdout",
     "output_type": "stream",
     "text": [
      "{'Name': 'Nikhil', 'Age': 25, 'bike': 'Beneli'}\n",
      "Nikhil\n",
      "25\n"
     ]
    }
   ],
   "source": [
    "#Accessing Values in Dictionary\n",
    "dict1 = {'Name': 'Nikhil', 'Age': 25, 'bike': 'Beneli'}\n",
    "print(dict1)\n",
    "print(dict1['Name'])\n",
    "print(dict1['Age'])   \n"
   ]
  },
  {
   "cell_type": "code",
   "execution_count": 52,
   "metadata": {},
   "outputs": [
    {
     "data": {
      "text/plain": [
       "{'Name': 'Nikhil', 'Age': 27, 'bike': 'Beneli'}"
      ]
     },
     "execution_count": 52,
     "metadata": {},
     "output_type": "execute_result"
    }
   ],
   "source": [
    "##Updating Dictionary\n",
    "dict1 = {'Name': 'Nikhil', 'Age': 25, 'bike': 'Beneli'}\n",
    "\n",
    "# update existing entry\n",
    "dict1['Age'] = 27\n",
    "# Add new entry\n",
    "dict1"
   ]
  },
  {
   "cell_type": "code",
   "execution_count": 53,
   "metadata": {},
   "outputs": [
    {
     "data": {
      "text/plain": [
       "{'Name': 'Nikhil',\n",
       " 'Age': 27,\n",
       " 'bike': 'Beneli',\n",
       " 'School': 'DPS School',\n",
       " 'sal': 50000}"
      ]
     },
     "execution_count": 53,
     "metadata": {},
     "output_type": "execute_result"
    }
   ],
   "source": [
    "dict1['School'] = \"DPS School\"\n",
    "dict1['sal'] = 50000\n",
    "\n",
    "dict1"
   ]
  },
  {
   "cell_type": "code",
   "execution_count": 54,
   "metadata": {},
   "outputs": [
    {
     "data": {
      "text/plain": [
       "{'Age': 25, 'bike': 'Beneli'}"
      ]
     },
     "execution_count": 54,
     "metadata": {},
     "output_type": "execute_result"
    }
   ],
   "source": [
    "#Delete Dictionary Elements\n",
    "dict1 = {'Name': 'Nikhil', 'Age': 25, 'bike': 'Beneli'}\n",
    "\n",
    "# remove entry with key 'Name'\n",
    "del(dict1['Name'])\n",
    "dict1"
   ]
  },
  {
   "cell_type": "code",
   "execution_count": 55,
   "metadata": {},
   "outputs": [
    {
     "data": {
      "text/plain": [
       "{}"
      ]
     },
     "execution_count": 55,
     "metadata": {},
     "output_type": "execute_result"
    }
   ],
   "source": [
    "# remove all entries in given dictionary\n",
    "dict1.clear()\n",
    "dict1"
   ]
  },
  {
   "cell_type": "code",
   "execution_count": 56,
   "metadata": {},
   "outputs": [
    {
     "ename": "NameError",
     "evalue": "name 'dict1' is not defined",
     "output_type": "error",
     "traceback": [
      "\u001b[1;31m---------------------------------------------------------------------------\u001b[0m",
      "\u001b[1;31mNameError\u001b[0m                                 Traceback (most recent call last)",
      "\u001b[1;32m<ipython-input-56-584680430a58>\u001b[0m in \u001b[0;36m<module>\u001b[1;34m()\u001b[0m\n\u001b[0;32m      1\u001b[0m \u001b[1;31m# delete entire dictionary\u001b[0m\u001b[1;33m\u001b[0m\u001b[1;33m\u001b[0m\u001b[0m\n\u001b[0;32m      2\u001b[0m \u001b[1;32mdel\u001b[0m\u001b[1;33m(\u001b[0m\u001b[0mdict1\u001b[0m\u001b[1;33m)\u001b[0m \u001b[1;33m;\u001b[0m\u001b[1;33m\u001b[0m\u001b[0m\n\u001b[1;32m----> 3\u001b[1;33m \u001b[0mdict1\u001b[0m\u001b[1;33m\u001b[0m\u001b[0m\n\u001b[0m",
      "\u001b[1;31mNameError\u001b[0m: name 'dict1' is not defined"
     ]
    }
   ],
   "source": [
    "# delete entire dictionary\n",
    "del(dict1) ;       \n",
    "dict1"
   ]
  },
  {
   "cell_type": "markdown",
   "metadata": {},
   "source": [
    "# Conditional Statements"
   ]
  },
  {
   "cell_type": "code",
   "execution_count": 90,
   "metadata": {},
   "outputs": [
    {
     "name": "stdout",
     "output_type": "stream",
     "text": [
      "you are male\n"
     ]
    }
   ],
   "source": [
    "# ################################## Conditional Statement ##############################################\n",
    "\n",
    "# Example:1 - simple if and else conditions when you have  two  conditions\n",
    "is_male = True\n",
    "\n",
    "if is_male:\n",
    "    print(\"you are male\")\n",
    "else:\n",
    "    print(\"you are female\")\n"
   ]
  },
  {
   "cell_type": "code",
   "execution_count": 91,
   "metadata": {},
   "outputs": [
    {
     "name": "stdout",
     "output_type": "stream",
     "text": [
      "you are short male\n"
     ]
    }
   ],
   "source": [
    "# Example: 2 - if you have more than two condition use elif \n",
    "is_male = True\n",
    "is_tall = False \n",
    "\n",
    "if is_male and is_tall:              ## and & not operator \n",
    "    print(\"you are tall male\")\n",
    "elif is_male and not(is_tall):\n",
    "    print(\"you are short male\")\n",
    "elif not(is_male) and is_tall:\n",
    "    print(\"you are not male but tall\")\n",
    "else:\n",
    "    print(\"you are not male and not tall\")\n",
    "    \n"
   ]
  },
  {
   "cell_type": "code",
   "execution_count": 92,
   "metadata": {},
   "outputs": [
    {
     "name": "stdout",
     "output_type": "stream",
     "text": [
      "You got good points\n",
      "you have a high points but you do not have enough money\n"
     ]
    }
   ],
   "source": [
    "#Example:  3 - conditional inside a conditional \n",
    "### Nested if Statement\n",
    "\n",
    "score = 500\n",
    "money = 2000\n",
    "age = 65\n",
    "\n",
    "if score > 100:\n",
    "    print(\"You got good points\")\n",
    "    \n",
    "    if money >= 5000:\n",
    "        print(\"you win\")\n",
    "        \n",
    "        if age >= 30:\n",
    "            print(\"You win in middle age\")\n",
    "        else:\n",
    "            print(\"You are win in young age\")\n",
    "    else:\n",
    "        print(\"you have a high points but you do not have enough money\")\n",
    "        \n",
    "else:\n",
    "    print(\"your loser\")\n"
   ]
  },
  {
   "cell_type": "markdown",
   "metadata": {},
   "source": [
    "# Loops"
   ]
  },
  {
   "cell_type": "code",
   "execution_count": 102,
   "metadata": {},
   "outputs": [],
   "source": [
    "############################################# Loops ##########################################################\n",
    "\n",
    "# There are two loops pre-loop and post-loop: pre-loop - checking the condition and calculating next, post-loop – calculating first and checking the condition\n",
    "# There are two types of loops - infinite loop and finite loop, infinite loop is called while loop and finite loop is called  for loop\n"
   ]
  },
  {
   "cell_type": "markdown",
   "metadata": {},
   "source": [
    "## While Loop"
   ]
  },
  {
   "cell_type": "code",
   "execution_count": 103,
   "metadata": {},
   "outputs": [
    {
     "name": "stdout",
     "output_type": "stream",
     "text": [
      "New Number: 5\n",
      "number is too small\n",
      "New Number: 55\n",
      "number is too large\n",
      "New Number: 25\n",
      "number is too large\n",
      "New Number: -1\n",
      "sorry that you are giveup!\n"
     ]
    }
   ],
   "source": [
    "# While Loop\n",
    "\n",
    "#Example for 'While loop'\n",
    "\n",
    "import random \n",
    "\n",
    "n = 20\n",
    "\n",
    "random_number = int(n * random.random())\n",
    "\n",
    "guess = 0\n",
    "\n",
    "while guess != random_number:\n",
    "    guess = int(input(\"New Number: \"))\n",
    "    if guess > 0:\n",
    "        if guess > random_number:\n",
    "            print(\"number is too large\")\n",
    "        elif guess < random_number:\n",
    "            print(\"number is too small\")\n",
    "    else:\n",
    "        print(\"sorry that you are giveup!\")\n",
    "        break\n",
    "else:\n",
    "    print(\"Congratulations. YOU WON!\")\n"
   ]
  },
  {
   "cell_type": "markdown",
   "metadata": {},
   "source": [
    "## While-else\n",
    "### If the else statement is used with a while loop, the else statement is executed when the condition becomes false."
   ]
  },
  {
   "cell_type": "code",
   "execution_count": 225,
   "metadata": {},
   "outputs": [
    {
     "name": "stdout",
     "output_type": "stream",
     "text": [
      "0  is  less than 5\n",
      "1  is  less than 5\n",
      "2  is  less than 5\n",
      "3  is  less than 5\n",
      "4  is  less than 5\n",
      "5  is not less than 5\n"
     ]
    }
   ],
   "source": [
    "\n",
    "count = 0\n",
    "while count < 5:\n",
    "   print (count, \" is  less than 5\")\n",
    "   count = count + 1\n",
    "else:\n",
    "   print (count, \" is not less than 5\")"
   ]
  },
  {
   "cell_type": "markdown",
   "metadata": {},
   "source": [
    "## for loop"
   ]
  },
  {
   "cell_type": "code",
   "execution_count": 104,
   "metadata": {},
   "outputs": [
    {
     "name": "stdout",
     "output_type": "stream",
     "text": [
      "current snack:  pizza\n",
      "current snack:  burger\n",
      "current snack:  shawarma\n",
      "current snack:  franky\n",
      "Good day!\n"
     ]
    }
   ],
   "source": [
    "# for Loop\n",
    "    \n",
    "#Example for 'for loop' \n",
    "\n",
    "#Example : 1\n",
    "    \n",
    "snacks = ['pizza','burger','shawarma','franky']\n",
    "\n",
    "for snack in snacks:\n",
    "    print(\"current snack: \", snack)\n",
    "    \n",
    "print(\"Good day!\")\n"
   ]
  },
  {
   "cell_type": "code",
   "execution_count": 105,
   "metadata": {},
   "outputs": [
    {
     "name": "stdout",
     "output_type": "stream",
     "text": [
      "number: 5\n",
      "factorial =   120\n"
     ]
    }
   ],
   "source": [
    "#Example: 2\n",
    "\n",
    "num = int(input(\"number: \"))\n",
    "factorial =1 \n",
    "\n",
    "if num < 0:\n",
    "    print(\"must be positive\")\n",
    "elif num == 0:\n",
    "    print(\"factorial = 1\")\n",
    "else:\n",
    "    for i in range(1,num+1):\n",
    "        factorial = factorial * i\n",
    "    print(\"factorial =  \" ,factorial)\n"
   ]
  },
  {
   "cell_type": "markdown",
   "metadata": {},
   "source": [
    "## For-else\n",
    "### If the else statement is used with a for loop, the else block is executed only if for loops terminates normally (and not by encountering break statement)\n"
   ]
  },
  {
   "cell_type": "code",
   "execution_count": null,
   "metadata": {},
   "outputs": [],
   "source": [
    "#example\n",
    "numbers = [11,33,55,39,55,75,37,21,23,41,13]\n",
    "\n",
    "for num in numbers:\n",
    "   if num%2 == 0:\n",
    "      print ('the list contains an even number')\n",
    "      break\n",
    "else:\n",
    "   print ('the list doesnot contain even number')"
   ]
  },
  {
   "cell_type": "markdown",
   "metadata": {},
   "source": [
    "## Iterators\n",
    "Iterator is an object which allows a programmer to traverse through all the elements of a collection, regardless of its specific implementation."
   ]
  },
  {
   "cell_type": "code",
   "execution_count": 226,
   "metadata": {},
   "outputs": [
    {
     "name": "stdout",
     "output_type": "stream",
     "text": [
      "M\n",
      "a\n",
      "c\n",
      "h\n",
      "i\n",
      "n\n",
      "e\n",
      " \n",
      "L\n",
      "e\n",
      "a\n",
      "r\n",
      "n\n",
      "i\n",
      "n\n",
      "g\n"
     ]
    }
   ],
   "source": [
    "iterable_value = 'Machine Learning'\n",
    "iterable_obj = iter(iterable_value) \n",
    "  \n",
    "while True: \n",
    "    try: \n",
    "  \n",
    "        # Iterate by calling next \n",
    "        item = next(iterable_obj) \n",
    "        print(item) \n",
    "    except StopIteration: \n",
    "  \n",
    "        # exception will happen when iteration will over \n",
    "        break"
   ]
  },
  {
   "cell_type": "markdown",
   "metadata": {},
   "source": [
    "## Generator\n",
    "A generator is a function that produces or yields a sequence of values using yield method.\n",
    "\n",
    "When a generator function is called, it returns a generator object without even beginning execution of the function. When the next() method is called for the first time, the function starts executing until it reaches the yield statement, which returns the yielded value. The yield keeps track i.e. remembers the last execution and the second next() call continues from previous value."
   ]
  },
  {
   "cell_type": "code",
   "execution_count": 227,
   "metadata": {},
   "outputs": [
    {
     "name": "stdout",
     "output_type": "stream",
     "text": [
      "0\n",
      "1\n",
      "1\n",
      "2\n",
      "3\n"
     ]
    }
   ],
   "source": [
    "# A simple generator for Fibonacci Numbers \n",
    "def fib(limit): \n",
    "      \n",
    "    # Initialize first two Fibonacci Numbers  \n",
    "    a, b = 0, 1\n",
    "  \n",
    "    # One by one yield next Fibonacci Number \n",
    "    while a < limit: \n",
    "        yield a \n",
    "        a, b = b, a + b \n",
    "\n",
    "#create a generator object \n",
    "x = fib(5) \n",
    "  \n",
    "# Iterating over the generator object using next \n",
    "while True:\n",
    "   try:\n",
    "      print (next(x), end=\"\\n\")\n",
    "   except StopIteration:\n",
    "      break\n"
   ]
  },
  {
   "cell_type": "markdown",
   "metadata": {},
   "source": [
    "# Functions"
   ]
  },
  {
   "cell_type": "code",
   "execution_count": 115,
   "metadata": {},
   "outputs": [
    {
     "name": "stdout",
     "output_type": "stream",
     "text": [
      "Hello Function.nikhil?\n",
      "Hello Function.nikhil?\n",
      "Hello Function.nikhil?\n",
      "Hello Function.nikhil?\n"
     ]
    }
   ],
   "source": [
    "############################### define function ##################################################\n",
    "\n",
    "#Example for advantage of functions \n",
    "    \n",
    "#Imagine there are 1000 of code is created based on requirement without using functions \n",
    "# If same requirement is repeated in the same code as given below with reference of line numbers\n",
    "print(\"Hello Function.nikhil?\") #10\n",
    "print(\"Hello Function.nikhil?\")#14\n",
    "print(\"Hello Function.nikhil?\")#40\n",
    "print(\"Hello Function.nikhil?\")#67\n",
    "\n"
   ]
  },
  {
   "cell_type": "code",
   "execution_count": 233,
   "metadata": {},
   "outputs": [
    {
     "name": "stdout",
     "output_type": "stream",
     "text": [
      "Hello Function.nikhil\n",
      "Hello Function.nikhil\n",
      "Hello Function.nikhil\n",
      "Hello Function.nikhil\n"
     ]
    }
   ],
   "source": [
    "#how to create function? \n",
    "def hello_func():\n",
    "    print(\"Hello Function.nikhil\")\n",
    "\n",
    "#call the function as and when required than writing whole code again \n",
    "hello_func()#10\n",
    "hello_func()#14\n",
    "hello_func()#40\n",
    "hello_func()#67\n",
    "\n",
    "#Advantages about functions - optimize code, good performance, fast, easy to access etc \n"
   ]
  },
  {
   "cell_type": "code",
   "execution_count": 234,
   "metadata": {},
   "outputs": [
    {
     "name": "stdout",
     "output_type": "stream",
     "text": [
      "hi Nikhil your age: 25 your salary: 50000\n"
     ]
    }
   ],
   "source": [
    "#simple function \n",
    "def hello(name,age,sal):                 \n",
    "    print(\"hi\",name,\"your age:\",age,\"your salary:\",sal)\n",
    "\n",
    "hello(\"Nikhil\",25,50000)\n"
   ]
  },
  {
   "cell_type": "code",
   "execution_count": 228,
   "metadata": {},
   "outputs": [
    {
     "data": {
      "text/plain": [
       "5"
      ]
     },
     "execution_count": 228,
     "metadata": {},
     "output_type": "execute_result"
    }
   ],
   "source": [
    "# formal and actual arguments #\n",
    "\n",
    "# function defination #\n",
    "def add(a,b):\n",
    "    return a+b\n",
    "# funtion call#\n",
    "add(2,3)\n",
    "#Formal arguments are identifiers used in the function definition to represent corresponding actual arguments.\n",
    "#actual arguments are values(or variables)/expressions that are used inside the parentheses of a function call.\n"
   ]
  },
  {
   "cell_type": "code",
   "execution_count": 229,
   "metadata": {},
   "outputs": [
    {
     "name": "stdout",
     "output_type": "stream",
     "text": [
      "2\n"
     ]
    }
   ],
   "source": [
    "# positional arguments #\n",
    "\n",
    "def rectangleArea(width, height):\n",
    "    return width * height\n",
    "\n",
    "print (rectangleArea(width=1, height=2))\n",
    "\n",
    "#A positional argument is a name that is not followed by an equal sign (=) and default value.\n"
   ]
  },
  {
   "cell_type": "code",
   "execution_count": 230,
   "metadata": {},
   "outputs": [
    {
     "name": "stdout",
     "output_type": "stream",
     "text": [
      "The youngest child is Linus\n"
     ]
    }
   ],
   "source": [
    "# keyword arguments #\n",
    "# in this argument key= value syntax\n",
    "def my_function(child3, child2, child1):\n",
    "  print(\"The youngest child is \" + child3)\n",
    "\n",
    "my_function(child1 = \"Emil\", child2 = \"Tobias\", child3 = \"Linus\")\n",
    "\n",
    "# in this keys are child1,child2,child3\n",
    "#The phrase Keyword Arguments are often shortened to kwargs in Python documentations."
   ]
  },
  {
   "cell_type": "code",
   "execution_count": 231,
   "metadata": {},
   "outputs": [
    {
     "name": "stdout",
     "output_type": "stream",
     "text": [
      "Hello\n",
      "Welcome\n",
      "to\n",
      "360degreedigitmg\n"
     ]
    }
   ],
   "source": [
    "# variable arguments\n",
    "# *args for variable number of arguments \n",
    "def myFun(*argv):  \n",
    "    for arg in argv:  \n",
    "        print (arg) \n",
    "    \n",
    "myFun('Hello', 'Welcome', 'to', '360degreedigitmg')  \n",
    "\n",
    "\n",
    "#First argument through *argv : Hello\n",
    "#Next argument through *argv : Welcome\n",
    "#Next argument through *argv : to\n",
    "#Next argument through *argv : GeeksforGeeks"
   ]
  },
  {
   "cell_type": "code",
   "execution_count": 232,
   "metadata": {},
   "outputs": [
    {
     "name": "stdout",
     "output_type": "stream",
     "text": [
      "\n",
      "Data type of argument: <class 'dict'>\n",
      "Firstname is Sita\n",
      "Lastname is Sharma\n",
      "Age is 22\n",
      "Phone is 1234567890\n",
      "\n",
      "Data type of argument: <class 'dict'>\n",
      "Firstname is John\n",
      "Lastname is Wood\n",
      "Email is johnwood@nomail.com\n",
      "Country is Wakanda\n",
      "Age is 25\n",
      "Phone is 9876543210\n"
     ]
    }
   ],
   "source": [
    "#Using **kwargs to pass the variable keyword arguments to the function \n",
    "# in this function kwargs=data\n",
    "def intro(**data):\n",
    "    print(\"\\nData type of argument:\",type(data))\n",
    "\n",
    "    for key, value in data.items():\n",
    "        print(\"{} is {}\".format(key,value))\n",
    "\n",
    "intro(Firstname=\"Sita\", Lastname=\"Sharma\", Age=22, Phone=1234567890)\n",
    "intro(Firstname=\"John\", Lastname=\"Wood\", Email=\"johnwood@nomail.com\", Country=\"Wakanda\", Age=25, Phone=9876543210)"
   ]
  },
  {
   "cell_type": "code",
   "execution_count": 119,
   "metadata": {},
   "outputs": [
    {
     "data": {
      "text/plain": [
       "27"
      ]
     },
     "execution_count": 119,
     "metadata": {},
     "output_type": "execute_result"
    }
   ],
   "source": [
    "#cube of n value \n",
    "def cube(num):                  \n",
    "    return (num*num*num)\n",
    "\n",
    "cube(3) \n"
   ]
  },
  {
   "cell_type": "code",
   "execution_count": 120,
   "metadata": {},
   "outputs": [],
   "source": [
    "# not defined any value but just defined function \n",
    "def hello_func():              \n",
    "    pass\n"
   ]
  },
  {
   "cell_type": "markdown",
   "metadata": {},
   "source": [
    "## Function call stack\n",
    "### locals(), globals()"
   ]
  },
  {
   "cell_type": "code",
   "execution_count": 236,
   "metadata": {},
   "outputs": [
    {
     "name": "stdout",
     "output_type": "stream",
     "text": [
      "Aayush is 1 years old and lives in Nagpur.\n",
      "Somesh is 23 years old and lives in Pune.\n"
     ]
    }
   ],
   "source": [
    "age = 23 #Age Global variable\n",
    "name = \"Somesh\" # Name Global Variable\n",
    "places = [\"Nagpur\", \"Mumbai\", \"Pune\"] #Places Global Variable\n",
    "\n",
    "def local(): #Function declaration  \n",
    "    age = 1 #Age Local Variable\n",
    "    name = 'Aayush' # Name Local Variable\n",
    "    print(\"%s is %i years old and lives in %s.\" % (name, age,places[0])) #Function Definition for Local Variable\n",
    "    #In the Above line of code name and age variables are Local and place is Global Variable \n",
    "    return\n",
    "\n",
    "local() #Function call Local() Variables\n",
    "print(\"%s is %i years old and lives in %s.\" % (name, age,places[2])) #Calling Definition for Global Variable\n",
    "#In the Above line of code name,age and place is Global Variable \n"
   ]
  },
  {
   "cell_type": "markdown",
   "metadata": {},
   "source": [
    "# Modules"
   ]
  },
  {
   "cell_type": "code",
   "execution_count": 106,
   "metadata": {},
   "outputs": [
    {
     "data": {
      "text/plain": [
       "(4.0, 32.0)"
      ]
     },
     "execution_count": 106,
     "metadata": {},
     "output_type": "execute_result"
    }
   ],
   "source": [
    "################ Modules ######################\n",
    "\n",
    "# Modules are also called as packages \n",
    "# how to call package is : Import package_name\n",
    "    \n",
    "#Example:1\n",
    "\n",
    "#maths related package\n",
    "import math\n",
    "\n",
    "math.sqrt(16) ,math.pow(2,5)\n"
   ]
  },
  {
   "cell_type": "code",
   "execution_count": 107,
   "metadata": {},
   "outputs": [
    {
     "name": "stdout",
     "output_type": "stream",
     "text": [
      "    January 2018\n",
      "Mo Tu We Th Fr Sa Su\n",
      " 1  2  3  4  5  6  7\n",
      " 8  9 10 11 12 13 14\n",
      "15 16 17 18 19 20 21\n",
      "22 23 24 25 26 27 28\n",
      "29 30 31\n",
      "\n"
     ]
    },
    {
     "data": {
      "text/plain": [
       "(False, True)"
      ]
     },
     "execution_count": 107,
     "metadata": {},
     "output_type": "execute_result"
    }
   ],
   "source": [
    "#Example:2\n",
    "\n",
    "#calendar related package \n",
    "import calendar \n",
    "\n",
    "cal = calendar.month(2018,1)\n",
    "\n",
    "print(cal)\n",
    "\n",
    "\n",
    "calendar.isleap(2018) , calendar.isleap(2020)\n"
   ]
  },
  {
   "cell_type": "markdown",
   "metadata": {},
   "source": [
    "### how to create own module? "
   ]
  },
  {
   "cell_type": "code",
   "execution_count": null,
   "metadata": {},
   "outputs": [],
   "source": [
    "\n",
    "# create a new python file \"find_area.py\"with different fuctions as given below\n",
    "#\n",
    "#def cal_area_triangle(length,hight):\n",
    "#    return 1/2*length*hight\n",
    "\n",
    "#def cal_area_sqr(length):\n",
    "#    return length*length\n",
    "\n",
    "\n",
    "#def cal_area_rec(leng,bth):\n",
    "#    return leng*bth\n",
    "\n",
    "#def cal_area_cir(r):\n",
    "#    return 3.14*r*r\n",
    "\n",
    "#Please find above code in different python file  \n"
   ]
  },
  {
   "cell_type": "markdown",
   "metadata": {},
   "source": [
    "### Importing function from another file"
   ]
  },
  {
   "cell_type": "code",
   "execution_count": 112,
   "metadata": {},
   "outputs": [
    {
     "name": "stdout",
     "output_type": "stream",
     "text": [
      "25\n"
     ]
    }
   ],
   "source": [
    "#to give path for the module\n",
    "import sys\n",
    "sys.path.append(\"E:\\\\360 Digitmg\\\\Python Agenda\\\\pythoncodes\")\n",
    "\n",
    "#call module and use functions\n",
    "import find_area as f\n",
    "\n",
    "area = f.cal_area_sqr(5)\n",
    "print(area)\n"
   ]
  },
  {
   "cell_type": "code",
   "execution_count": 114,
   "metadata": {},
   "outputs": [
    {
     "name": "stdout",
     "output_type": "stream",
     "text": [
      "25.0\n"
     ]
    }
   ],
   "source": [
    "area = f.cal_area_triangle(5,10)\n",
    "print(area)\n"
   ]
  },
  {
   "cell_type": "code",
   "execution_count": 238,
   "metadata": {},
   "outputs": [],
   "source": [
    "# 1. Importing from folder \n",
    "#There are generally two types of import syntax. When you use the first one, you import the resource directly, like this:\n",
    "\"import abc\"  #abc can be a package or a module.\n",
    "import math\n",
    "\n",
    "#When you use the second syntax, you import the resource from another package or module. Here’s an example:\n",
    "\"from abc import xyz \" #xyz can be a module, subpackage, or object, such as a class or function.\n",
    "from math import cos\n",
    "\n",
    "#You can also choose to rename an imported resource, like so:\n",
    "\"import abc as Other_name\"\n",
    "import math as m\n",
    "\n"
   ]
  },
  {
   "cell_type": "markdown",
   "metadata": {},
   "source": [
    "###  Folders vs Packages"
   ]
  },
  {
   "cell_type": "code",
   "execution_count": 239,
   "metadata": {},
   "outputs": [],
   "source": [
    "\n",
    "# 1. A module is a file containing Python code. A package, however, is like a directory that holds sub-packages and modules.\n",
    "# 2. A package must hold the file __init__.py. This does not apply to modules.\n",
    "# 3. To import everything from a module, we use the wildcard *. But this does not work with packages.\n"
   ]
  },
  {
   "cell_type": "markdown",
   "metadata": {},
   "source": [
    "### Namespaces"
   ]
  },
  {
   "cell_type": "code",
   "execution_count": 242,
   "metadata": {},
   "outputs": [],
   "source": [
    "\n",
    "\n",
    "#import this #run this in the console window for a fun read about how interesting Namespaces are\n",
    "\n",
    "#what is a Name? \n",
    "#Name (also called identifier) is simply a name given to objects. \n",
    "#Everything in Python is an object. Name is a way to access the underlying object.\n",
    "# For example, when we do the assignment a = 2, 2 is an object stored in memory and a is the name we associate it with. "
   ]
  },
  {
   "cell_type": "markdown",
   "metadata": {},
   "source": [
    " \n",
    "###  __all__"
   ]
  },
  {
   "cell_type": "code",
   "execution_count": 243,
   "metadata": {},
   "outputs": [
    {
     "name": "stdout",
     "output_type": "stream",
     "text": [
      "True\n"
     ]
    }
   ],
   "source": [
    "\n",
    "#__all__ or all()\n",
    "\n",
    "#The all() method returns True when all elements in the given iterable are true. If not, it returns False.\n",
    "\n",
    "#The syntax of all() method is:\n",
    "# all(iterable)\n",
    "\n",
    "#all() Parameters\n",
    "#all() method takes a single parameter:\n",
    "\n",
    "#iterable - any iterable (list, tuple, dictionary, etc.) which contains the elements.\n",
    "\n",
    "#How all() works for lists?\n",
    "\n",
    "# all values true\n",
    "l = [1, 3, 4, 5]\n",
    "print(all(l))\n"
   ]
  },
  {
   "cell_type": "code",
   "execution_count": 244,
   "metadata": {},
   "outputs": [
    {
     "name": "stdout",
     "output_type": "stream",
     "text": [
      "{0: 'False', 1: 'False'}\n",
      "{1: 'True', 2: 'True'}\n",
      "{1: 'True', False: 0}\n"
     ]
    }
   ],
   "source": [
    "#How all() works for dictionaries\n",
    "\n",
    "s = {0: 'False', 1: 'False'}\n",
    "print(all(s))\n",
    "\n",
    "s = {1: 'True', 2: 'True'}\n",
    "print(all(s))\n",
    "\n",
    "s = {1: 'True', False: 0}\n",
    "print(all(s))\n"
   ]
  },
  {
   "cell_type": "markdown",
   "metadata": {},
   "source": [
    "### __init__.py"
   ]
  },
  {
   "cell_type": "code",
   "execution_count": 246,
   "metadata": {},
   "outputs": [],
   "source": [
    "#__init__.py\n",
    "\n",
    "\n",
    "\n",
    "\"\"\"\n",
    "The __init__.py files are required to make Python treat the directories as containing packages;\n",
    "this is done to prevent directories with a common name, such as string, \n",
    "from unintentionally hiding valid modules that occur later on the module search path. \n",
    "In the simplest case, __init__.py can just be an empty file, \n",
    "but it can also execute initialization code for the package or set the __all__ variable.\n",
    " \"\"\"\n",
    "\n",
    "from math import sin\n",
    "\n",
    "#The above code ensures that the imported functions are available in the package's modules \n",
    "#when it is imported as it is defined in the __init__.py file.\n"
   ]
  },
  {
   "cell_type": "code",
   "execution_count": 247,
   "metadata": {},
   "outputs": [],
   "source": [
    "#import *\n",
    "from math import *\n",
    "# it ensures that everything that are present in math is imported and ready to use"
   ]
  },
  {
   "cell_type": "markdown",
   "metadata": {},
   "source": [
    "### Recursive Import"
   ]
  },
  {
   "cell_type": "code",
   "execution_count": 249,
   "metadata": {},
   "outputs": [
    {
     "name": "stdout",
     "output_type": "stream",
     "text": [
      "a in\n",
      "b imported: False\n",
      "b in\n",
      "a in\n",
      "b imported: True\n",
      "a out\n",
      "b out\n",
      "a out\n"
     ]
    }
   ],
   "source": [
    "# WE define 2 modules a and b.. such that both will import one in other.. a import b and b import a.\n",
    "\n",
    "#b.py\n",
    "'''\n",
    "print (\"b in\")\n",
    "import a\n",
    "print (\"b out\")\n",
    "x = 3\n",
    "'''\n",
    "\n",
    "#a.py:\n",
    "\n",
    "print (\"a in\")\n",
    "import sys\n",
    "print (\"b imported: %s\" % (\"b\" in sys.modules, ))\n",
    "import b\n",
    "print (\"a out\")\n",
    "\n"
   ]
  },
  {
   "cell_type": "markdown",
   "metadata": {},
   "source": [
    "# File Handling"
   ]
  },
  {
   "cell_type": "code",
   "execution_count": 250,
   "metadata": {},
   "outputs": [
    {
     "data": {
      "text/plain": [
       "<_io.TextIOWrapper name='demofile.txt' mode='r' encoding='cp1252'>"
      ]
     },
     "execution_count": 250,
     "metadata": {},
     "output_type": "execute_result"
    }
   ],
   "source": [
    "# file handling #\n",
    "# the open function takes two parameters filename and model #\n",
    "\n",
    "# there are 4 different methods for opening a file #\n",
    "# \"r\" - reads a default value\n",
    "# \"a\" - opens the file for append  and creates a file if it doesnot exist\n",
    "#\"w\"-write- opens a file for writing\n",
    "#\"x\"- creates a file \n",
    "\n",
    "# syntax #\n",
    "# to open a file or read a file \n",
    "\n",
    "f = open(\"demofile.txt\") \n",
    "f"
   ]
  },
  {
   "cell_type": "code",
   "execution_count": 251,
   "metadata": {},
   "outputs": [
    {
     "name": "stdout",
     "output_type": "stream",
     "text": [
      "this file is for testing purposesNow the file has more content!Now the file has more content!Now the file has more content!Now the file has more content!Now the file has more content!\n"
     ]
    }
   ],
   "source": [
    "# open files from different location #\n",
    "f = open(\"D:/demofile.txt\", \"r\")\n",
    "print(f.read()) # reads content in the file"
   ]
  },
  {
   "cell_type": "code",
   "execution_count": 252,
   "metadata": {},
   "outputs": [
    {
     "data": {
      "text/plain": [
       "'this '"
      ]
     },
     "execution_count": 252,
     "metadata": {},
     "output_type": "execute_result"
    }
   ],
   "source": [
    "f = open(\"demofile.txt\") \n",
    "f.read(5) #reads first 5 characters"
   ]
  },
  {
   "cell_type": "code",
   "execution_count": 253,
   "metadata": {},
   "outputs": [
    {
     "data": {
      "text/plain": [
       "'this file is for testing purposesNow the file has more content!Now the file has more content!Now the file has more content!Now the file has more content!Now the file has more content!Now the file has more content!'"
      ]
     },
     "execution_count": 253,
     "metadata": {},
     "output_type": "execute_result"
    }
   ],
   "source": [
    "# write to an existing file #\n",
    "f = open(\"demofile.txt\", \"a\")\n",
    "f.write(\"Now the file has more content!\")\n",
    "f.close()\n",
    "\n",
    "f = open(\"demofile.txt\", \"r\")\n",
    "f.read() #observe one extra line is added"
   ]
  },
  {
   "cell_type": "code",
   "execution_count": 259,
   "metadata": {},
   "outputs": [],
   "source": [
    "# creating a new file #\n",
    "f = open(\"D:/myfile1.txt\", \"x\")\n",
    "f.write(' New file')\n",
    "f.close()\n",
    "f=open('D:/myfile1.txt','r')\n",
    "f.read()\n",
    "f.close()"
   ]
  },
  {
   "cell_type": "code",
   "execution_count": 260,
   "metadata": {},
   "outputs": [],
   "source": [
    "#Delete a File\n",
    "#To delete a file, you must import the OS module, and run its os.remove() function:\n",
    "import os\n",
    "os.remove(\"D:/myfile1.txt\")"
   ]
  },
  {
   "cell_type": "markdown",
   "metadata": {},
   "source": [
    "# Exception Handling"
   ]
  },
  {
   "cell_type": "code",
   "execution_count": 175,
   "metadata": {},
   "outputs": [
    {
     "name": "stdout",
     "output_type": "stream",
     "text": [
      "enter the 1st value = 2\n",
      "enter the 2nd value = 3\n",
      "5\n"
     ]
    }
   ],
   "source": [
    "# try: and except: are key words for exceptional handling, try: provide the code ; except: except the error with a proper statement\n",
    "\n",
    "#Ex - 1:\n",
    "try:\n",
    "    x = eval(input(\"enter the 1st value = \"))\n",
    "    y = eval(input(\"enter the 2nd value = \"))\n",
    "    results = x+y\n",
    "    print(results)\n",
    "except:\n",
    "    print(\"please enter a valid number\")\n"
   ]
  },
  {
   "cell_type": "code",
   "execution_count": 176,
   "metadata": {},
   "outputs": [
    {
     "name": "stdout",
     "output_type": "stream",
     "text": [
      "enter the 1st value = 2\n",
      "enter the 2nd value = 0\n",
      "please enter a non-zero value for the divisor\n"
     ]
    }
   ],
   "source": [
    "#Ex - 2: \n",
    "try:\n",
    "    x = eval(input(\"enter the 1st value = \"))\n",
    "    y = eval(input(\"enter the 2nd value = \"))\n",
    "    results = x/y\n",
    "    print(\"final results = \", results)\n",
    "except(ZeroDivisionError):\n",
    "    print(\"please enter a non-zero value for the divisor\")\n",
    "except(NameError):\n",
    "    print(\"Please enter valid number\")\n",
    "except(TypeError):\n",
    "    print(\"Please enter both same type\")\n"
   ]
  },
  {
   "cell_type": "code",
   "execution_count": 261,
   "metadata": {},
   "outputs": [
    {
     "name": "stdout",
     "output_type": "stream",
     "text": [
      "try block\n",
      "Enter a number: 2\n",
      "Enter another number: 5\n",
      "else block\n",
      "Division =  0.4\n",
      "finally block\n",
      "Out of try, except, else and finally blocks.\n"
     ]
    }
   ],
   "source": [
    "##In Python, keywords else and finally can also be used along with the try and except clauses. While the except block is executed\n",
    "##if the exception occurs inside the try block, the else block gets processed if the try block is found to be exception free.\n",
    "try:\n",
    "    print(\"try block\")\n",
    "    x=int(input('Enter a number: '))\n",
    "    y=int(input('Enter another number: '))\n",
    "    z=x/y\n",
    "except ZeroDivisionError:\n",
    "    print(\"except ZeroDivisionError block\")\n",
    "    print(\"Division by 0 not accepted\")\n",
    "else:\n",
    "    print(\"else block\")\n",
    "    print(\"Division = \", z)\n",
    "finally:\n",
    "    print(\"finally block\")\n",
    "    x=0\n",
    "    y=0\n",
    "print (\"Out of try, except, else and finally blocks.\" )"
   ]
  },
  {
   "cell_type": "markdown",
   "metadata": {},
   "source": [
    "### Built-in Exceptions"
   ]
  },
  {
   "cell_type": "code",
   "execution_count": 262,
   "metadata": {},
   "outputs": [
    {
     "name": "stdout",
     "output_type": "stream",
     "text": [
      "['ArithmeticError', 'AssertionError', 'AttributeError', 'BaseException', 'BlockingIOError', 'BrokenPipeError', 'BufferError', 'BytesWarning', 'ChildProcessError', 'ConnectionAbortedError', 'ConnectionError', 'ConnectionRefusedError', 'ConnectionResetError', 'DeprecationWarning', 'EOFError', 'Ellipsis', 'EnvironmentError', 'Exception', 'False', 'FileExistsError', 'FileNotFoundError', 'FloatingPointError', 'FutureWarning', 'GeneratorExit', 'IOError', 'ImportError', 'ImportWarning', 'IndentationError', 'IndexError', 'InterruptedError', 'IsADirectoryError', 'KeyError', 'KeyboardInterrupt', 'LookupError', 'MemoryError', 'ModuleNotFoundError', 'NameError', 'None', 'NotADirectoryError', 'NotImplemented', 'NotImplementedError', 'OSError', 'OverflowError', 'PendingDeprecationWarning', 'PermissionError', 'ProcessLookupError', 'RecursionError', 'ReferenceError', 'ResourceWarning', 'RuntimeError', 'RuntimeWarning', 'StopAsyncIteration', 'StopIteration', 'SyntaxError', 'SyntaxWarning', 'SystemError', 'SystemExit', 'TabError', 'TimeoutError', 'True', 'TypeError', 'UnboundLocalError', 'UnicodeDecodeError', 'UnicodeEncodeError', 'UnicodeError', 'UnicodeTranslateError', 'UnicodeWarning', 'UserWarning', 'ValueError', 'Warning', 'WindowsError', 'ZeroDivisionError', '__IPYTHON__', '__build_class__', '__debug__', '__doc__', '__import__', '__loader__', '__name__', '__package__', '__spec__', 'abs', 'all', 'any', 'ascii', 'bin', 'bool', 'breakpoint', 'bytearray', 'bytes', 'callable', 'chr', 'classmethod', 'compile', 'complex', 'copyright', 'credits', 'delattr', 'dict', 'dir', 'display', 'divmod', 'enumerate', 'eval', 'exec', 'filter', 'float', 'format', 'frozenset', 'get_ipython', 'getattr', 'globals', 'hasattr', 'hash', 'help', 'hex', 'id', 'input', 'int', 'isinstance', 'issubclass', 'iter', 'len', 'license', 'list', 'locals', 'map', 'max', 'memoryview', 'min', 'next', 'object', 'oct', 'open', 'ord', 'pow', 'print', 'property', 'range', 'repr', 'reversed', 'round', 'set', 'setattr', 'slice', 'sorted', 'staticmethod', 'str', 'sum', 'super', 'tuple', 'type', 'vars', 'zip']\n"
     ]
    }
   ],
   "source": [
    "## There are plenty of built-in exceptions in Python that are raised when corresponding errors occur. \n",
    "##We can view all the built-in exceptions using the built-in local() function as follows:\n",
    "print(dir(locals()['__builtins__']))"
   ]
  },
  {
   "cell_type": "markdown",
   "metadata": {},
   "source": [
    "### USer defined Exceptions"
   ]
  },
  {
   "cell_type": "code",
   "execution_count": 264,
   "metadata": {},
   "outputs": [
    {
     "name": "stdout",
     "output_type": "stream",
     "text": [
      "enter the number3\n",
      "you entered 3\n"
     ]
    }
   ],
   "source": [
    "# User defined Exceptions\n",
    "x=int(input('enter the number'))\n",
    "if x < 0:\n",
    "  raise Exception(\"Sorry, please enter positive number\")\n",
    "else:\n",
    "    print('you entered',x)"
   ]
  },
  {
   "cell_type": "markdown",
   "metadata": {},
   "source": [
    "# Regular Expressions"
   ]
  },
  {
   "cell_type": "code",
   "execution_count": 121,
   "metadata": {},
   "outputs": [
    {
     "name": "stdout",
     "output_type": "stream",
     "text": [
      "{'Nikhil': '25', 'Pavan': '28', 'Kaleem': '35', 'Ganesh': '16'}\n"
     ]
    }
   ],
   "source": [
    "#Ex:1  \n",
    "import re\n",
    "\n",
    "Nameage = '''Nikhil is 25 and Pavan is 28 and Kaleem is 35 and Ganesh is 16'''\n",
    "\n",
    "age = re.findall(r'\\d{1,3}',Nameage)\n",
    "names = re.findall(r'[A-Z][a-z]*',Nameage)\n",
    "\n",
    "agedict = {}\n",
    "\n",
    "x = 0\n",
    "\n",
    "for eachname in names:\n",
    "     agedict[eachname] = age[x]\n",
    "     x +=1\n",
    "     \n",
    "print(agedict)\n"
   ]
  },
  {
   "cell_type": "code",
   "execution_count": 122,
   "metadata": {},
   "outputs": [
    {
     "name": "stdout",
     "output_type": "stream",
     "text": [
      "name\n",
      "name\n"
     ]
    }
   ],
   "source": [
    "#Ex:2\n",
    "\n",
    "import re\n",
    "\n",
    "allname = re.findall(\"name\",\"My name is Nikhil and what is your name\")\n",
    "\n",
    "for name in allname:\n",
    "    print(name)"
   ]
  },
  {
   "cell_type": "code",
   "execution_count": 123,
   "metadata": {},
   "outputs": [
    {
     "name": "stdout",
     "output_type": "stream",
     "text": [
      "(3, 7)\n",
      "(35, 39)\n"
     ]
    }
   ],
   "source": [
    "#Ex 3\n",
    "        \n",
    "import re\n",
    "\n",
    "allname = \"My name is Nikhil and what is your name\"   \n",
    "\n",
    "for i in re.finditer(\"name\",allname):\n",
    "    loctup = i.span()\n",
    "    print(loctup)\n"
   ]
  },
  {
   "cell_type": "code",
   "execution_count": 124,
   "metadata": {},
   "outputs": [
    {
     "name": "stdout",
     "output_type": "stream",
     "text": [
      "Aam\n",
      "Bam\n",
      "Sam\n",
      "Ram\n",
      "Mam\n",
      "Jam\n"
     ]
    }
   ],
   "source": [
    "#Ex: 4 Find match pattern\n",
    "    \n",
    "import re\n",
    "\n",
    "names = \"Aam,Bam,Sam,Ram,Mam,Jam\"\n",
    "\n",
    "allnames = re.findall(\"[A-Z]am\",names) \n",
    "\n",
    "for i in allnames:\n",
    "    \n",
    "    print(i)\n"
   ]
  },
  {
   "cell_type": "code",
   "execution_count": 125,
   "metadata": {},
   "outputs": [
    {
     "name": "stdout",
     "output_type": "stream",
     "text": [
      "Sam,Rama,Mam,Jam\n"
     ]
    }
   ],
   "source": [
    "#Replace string \n",
    "\n",
    "import re \n",
    "\n",
    "names = \"Sam,Ram,Mam,Jam\"\n",
    "\n",
    "regex =  re.compile(\"[R]am\")  \n",
    "\n",
    "names = regex.sub(\"Rama\",names)\n",
    "\n",
    "print(names)\n",
    "\n"
   ]
  },
  {
   "cell_type": "code",
   "execution_count": 126,
   "metadata": {},
   "outputs": [
    {
     "data": {
      "text/plain": [
       "',,, 1231,,,, #@$@,,,,,312'"
      ]
     },
     "execution_count": 126,
     "metadata": {},
     "output_type": "execute_result"
    }
   ],
   "source": [
    "## dividing num,alpha,special char\n",
    "import re\n",
    "\n",
    "re.sub(\"[A-Za-z]\",\",\",\"ada 1231zxdq #@$@zxfsd312\")\n",
    "       \n"
   ]
  },
  {
   "cell_type": "code",
   "execution_count": 127,
   "metadata": {},
   "outputs": [
    {
     "data": {
      "text/plain": [
       "'ada     zxdq     zxfsd   '"
      ]
     },
     "execution_count": 127,
     "metadata": {},
     "output_type": "execute_result"
    }
   ],
   "source": [
    "re.sub(\"[^A-Za-z]\",\" \",\"ada 1231zxdq #@$@zxfsd312\")\n"
   ]
  },
  {
   "cell_type": "code",
   "execution_count": 129,
   "metadata": {},
   "outputs": [
    {
     "name": "stdout",
     "output_type": "stream",
     "text": [
      " \n",
      "My \n",
      "name \n",
      "is \n",
      "nikhil\n",
      "\n",
      " My name is nikhil\n"
     ]
    }
   ],
   "source": [
    "## Remove white space\n",
    "\n",
    "randstr = ''' \n",
    "My \n",
    "name \n",
    "is \n",
    "nikhil\n",
    "'''\n",
    "print(randstr)\n",
    "regex = re.compile(\"\\n\")\n",
    "\n",
    "randstr = regex.sub(\"\",randstr)\n",
    "\n",
    "print(randstr)\n"
   ]
  },
  {
   "cell_type": "code",
   "execution_count": 268,
   "metadata": {},
   "outputs": [
    {
     "name": "stdout",
     "output_type": "stream",
     "text": [
      "5\n",
      "<re.Match object; span=(0, 3), match='123'>\n"
     ]
    }
   ],
   "source": [
    "## Number\n",
    "\n",
    "import re\n",
    "\n",
    "randstr = \"12345\"\n",
    "\n",
    "print(len(re.findall(\"\\d\",randstr)))\n",
    "\n",
    "print(re.search(r\"\\d{3}\",randstr))\n",
    "\n"
   ]
  },
  {
   "cell_type": "code",
   "execution_count": 267,
   "metadata": {},
   "outputs": [
    {
     "name": "stdout",
     "output_type": "stream",
     "text": [
      "3\n"
     ]
    }
   ],
   "source": [
    "num = \"123 1234 12345 123456 1234567\"\n",
    "\n",
    "print(len(re.findall(\"\\d{5,7}\",num))) #gives max frequency in the given numbers\n"
   ]
  },
  {
   "cell_type": "code",
   "execution_count": 132,
   "metadata": {},
   "outputs": [
    {
     "name": "stdout",
     "output_type": "stream",
     "text": [
      "its not a Pan No.\n"
     ]
    }
   ],
   "source": [
    "## Phone number verification \n",
    "\n",
    "import re\n",
    "\n",
    "#\\w [a-zA-Z0-9]\n",
    "#\\w [^a-zA-Z0-9]\n",
    "\n",
    "\n",
    "phn = \"4669-5549-AA1212hhwjjwkq3\"\n",
    "\n",
    "if re.search(\"\\d{3}-\\d{3}-\\w{6}\",phn):\n",
    "    \n",
    "    print(\"it is a Pan No.\")\n",
    "    \n",
    "else:\n",
    "    print(\"its not a Pan No.\")\n"
   ]
  },
  {
   "cell_type": "code",
   "execution_count": 133,
   "metadata": {},
   "outputs": [
    {
     "name": "stdout",
     "output_type": "stream",
     "text": [
      "EmailMatches: ['nk@hyd.com md']\n"
     ]
    }
   ],
   "source": [
    "#Email Match \n",
    "    \n",
    "import re\n",
    "\n",
    "email = \"nk@hyd.com md@.com @llo.com j@com\"\n",
    "\n",
    "print(\"EmailMatches:\", (re.findall(\"[\\w._%+-]{1,20}@[\\w.-]{2,20}.[A-Za-z]{2,3}\",email)))  \n"
   ]
  },
  {
   "cell_type": "markdown",
   "metadata": {},
   "source": [
    "# Classes and Objects\n"
   ]
  },
  {
   "cell_type": "code",
   "execution_count": 134,
   "metadata": {},
   "outputs": [],
   "source": [
    "#Object\n",
    "\n",
    "x = 10 # x is an object and strong the value of 10\n"
   ]
  },
  {
   "cell_type": "code",
   "execution_count": 135,
   "metadata": {},
   "outputs": [],
   "source": [
    "#Class\n",
    "#bike is a class and will multiple objects in a class, as example followes    \n",
    "\n",
    "class bike:\n",
    "    \n",
    "    def __init__(self,MPG,Speed,length,b):\n",
    "        self.MPG = MPG\n",
    "        self.Speed = Speed\n",
    "        self.length = length\n",
    "        self.b = b\n",
    "    def get_MPG(self):\n",
    "        print(self.MPG)\n",
    "    \n",
    "    def area(self):\n",
    "        return self.length*self.b\n",
    "    \n",
    "    def config(self):\n",
    "        print(\"1000cc,abs\")\n",
    "    def speed(self):\n",
    "        print(\"Top Speed is 250KMPS\") \n"
   ]
  },
  {
   "cell_type": "code",
   "execution_count": 146,
   "metadata": {},
   "outputs": [
    {
     "name": "stdout",
     "output_type": "stream",
     "text": [
      "1000cc,abs\n"
     ]
    }
   ],
   "source": [
    "comp1 = bike(55,200,1,0.5)  #once we create class we have to save in a constructor so, comp1 is a constructor \n",
    "\n",
    "# using below functions we can call different objects from a class \n",
    "comp1.config()"
   ]
  },
  {
   "cell_type": "code",
   "execution_count": 145,
   "metadata": {},
   "outputs": [
    {
     "name": "stdout",
     "output_type": "stream",
     "text": [
      "55\n"
     ]
    }
   ],
   "source": [
    "comp1.get_MPG()\n"
   ]
  },
  {
   "cell_type": "markdown",
   "metadata": {},
   "source": [
    "# Inheritance"
   ]
  },
  {
   "cell_type": "code",
   "execution_count": 147,
   "metadata": {},
   "outputs": [],
   "source": [
    "#What is Inheritance?\n",
    "#Inheritance is a powerful feature in object oriented programming.\n",
    "#Single level, Multi-level, Multiple Inheritance\n"
   ]
  },
  {
   "cell_type": "code",
   "execution_count": 151,
   "metadata": {},
   "outputs": [
    {
     "name": "stdout",
     "output_type": "stream",
     "text": [
      "1878247663712\n",
      "print product name1: \n"
     ]
    }
   ],
   "source": [
    "#Ex: Normal class definition\n",
    "class A:\n",
    "    def product1(self):\n",
    "        print(\"print product name1: \")\n",
    "    \n",
    "    \n",
    "    def product2(self):\n",
    "        print(\"print product name2: \")\n",
    "        \n",
    "    \n",
    "name_a = A() \n",
    "     \n",
    "print(id(name_a))\n",
    "name_a.product1()"
   ]
  },
  {
   "cell_type": "code",
   "execution_count": 152,
   "metadata": {},
   "outputs": [
    {
     "name": "stdout",
     "output_type": "stream",
     "text": [
      "1878247664104\n",
      "print product name3: \n"
     ]
    }
   ],
   "source": [
    "# Inheritance.. A is super class and B is sub class\n",
    "\n",
    "class B(A):\n",
    "    def product3(self):\n",
    "        print(\"print product name3: \")\n",
    "    def product4(self):\n",
    "        print(\"print product name4: \")\n",
    "        \n",
    "name_b = B() \n",
    "print(id(name_b))\n",
    "name_b.product3() #function in the sub class"
   ]
  },
  {
   "cell_type": "code",
   "execution_count": 153,
   "metadata": {},
   "outputs": [
    {
     "name": "stdout",
     "output_type": "stream",
     "text": [
      "print product name1: \n"
     ]
    }
   ],
   "source": [
    "name_b.product1() #function in the super class accessed with the sub class object"
   ]
  },
  {
   "cell_type": "code",
   "execution_count": 269,
   "metadata": {},
   "outputs": [],
   "source": [
    "class C():\n",
    "    def product5(self):\n",
    "        print(\"print product name5: \")\n",
    "    def product6(self):\n",
    "        print(\"print product name6: \")\n",
    "        \n",
    "name_c = C()"
   ]
  },
  {
   "cell_type": "code",
   "execution_count": 270,
   "metadata": {},
   "outputs": [],
   "source": [
    "# Multiple Inheritance\n",
    "class D(A,C):\n",
    "    def product7(self):\n",
    "        print(\"Print product name7: \")\n",
    "    def product8(self):\n",
    "        print(\"Print Product name8: \")\n",
    "\n",
    "name_d = D()\n"
   ]
  },
  {
   "cell_type": "code",
   "execution_count": 157,
   "metadata": {},
   "outputs": [
    {
     "name": "stdout",
     "output_type": "stream",
     "text": [
      "print product name1: \n"
     ]
    }
   ],
   "source": [
    "name_d.product1() #super class function accessed by sub class "
   ]
  },
  {
   "cell_type": "markdown",
   "metadata": {},
   "source": [
    "# Polymorphism"
   ]
  },
  {
   "cell_type": "code",
   "execution_count": 158,
   "metadata": {},
   "outputs": [],
   "source": [
    "#What is Polymorphism\n",
    "#Polymorphism means that different types respond to the same function. Polymorphism is very useful as it makes \n",
    "#programming more intuitive and therefore easier.\n",
    "\n"
   ]
  },
  {
   "cell_type": "code",
   "execution_count": 271,
   "metadata": {},
   "outputs": [],
   "source": [
    "class Bird: \n",
    "    def intro(self):\n",
    "        print(\"There are many types of birds.\") \n",
    "\n",
    "    def flight(self): \n",
    "        print(\"Most of the birds can fly but some cannot.\") \n"
   ]
  },
  {
   "cell_type": "code",
   "execution_count": 272,
   "metadata": {},
   "outputs": [],
   "source": [
    "class sparrow(Bird): \n",
    "    def flight(self): \n",
    "        print(\"Sparrows can fly.\") \n",
    "\n",
    "class ostrich(Bird): \n",
    "    def flight(self):\n",
    "        print(\"Ostriches cannot fly.\") \n",
    "        \n",
    "# different classses implimenting same method"
   ]
  },
  {
   "cell_type": "code",
   "execution_count": 273,
   "metadata": {},
   "outputs": [],
   "source": [
    "# Creating instances of respective classes\n",
    "obj_bird = Bird() \n",
    "obj_spr = sparrow() \n",
    "obj_ost = ostrich() \n"
   ]
  },
  {
   "cell_type": "code",
   "execution_count": 164,
   "metadata": {},
   "outputs": [
    {
     "name": "stdout",
     "output_type": "stream",
     "text": [
      "Most of the birds can fly but some cannot.\n"
     ]
    }
   ],
   "source": [
    "obj_bird.flight() #\n"
   ]
  },
  {
   "cell_type": "code",
   "execution_count": 165,
   "metadata": {},
   "outputs": [
    {
     "name": "stdout",
     "output_type": "stream",
     "text": [
      "Sparrows can fly.\n"
     ]
    }
   ],
   "source": [
    "obj_spr.flight()"
   ]
  },
  {
   "cell_type": "code",
   "execution_count": 166,
   "metadata": {},
   "outputs": [
    {
     "name": "stdout",
     "output_type": "stream",
     "text": [
      "Ostriches cannot fly.\n"
     ]
    }
   ],
   "source": [
    "obj_ost.flight()"
   ]
  },
  {
   "cell_type": "markdown",
   "metadata": {},
   "source": [
    "# Multi Threding\n"
   ]
  },
  {
   "cell_type": "code",
   "execution_count": 167,
   "metadata": {},
   "outputs": [],
   "source": [
    "#Multi Threding\n",
    "#----multithreading using sum of square---#\n",
    "import time\n",
    "\n",
    "def calc_square(numbers):\n",
    "    print(\"calculate square numbers\")\n",
    "    for n in numbers:\n",
    "        time.sleep(0.2)\n",
    "        print('square:',n*n)\n",
    "\n",
    "def calc_cube(numbers):\n",
    "    print(\"calculate cube of numbers\")\n",
    "    for n in numbers:\n",
    "        time.sleep(0.2)\n",
    "        print('cube:',n*n*n)\n"
   ]
  },
  {
   "cell_type": "code",
   "execution_count": 168,
   "metadata": {},
   "outputs": [
    {
     "name": "stdout",
     "output_type": "stream",
     "text": [
      "calculate square numbers\n",
      "square: 4\n",
      "square: 25\n",
      "square: 49\n",
      "square: 81\n"
     ]
    }
   ],
   "source": [
    "arr = [2,5,7,9]\n",
    "\n",
    "t = time.time()        \n",
    "calc_square(arr)\n"
   ]
  },
  {
   "cell_type": "code",
   "execution_count": 169,
   "metadata": {},
   "outputs": [
    {
     "name": "stdout",
     "output_type": "stream",
     "text": [
      "calculate cube of numbers\n",
      "cube: 8\n",
      "cube: 125\n",
      "cube: 343\n",
      "cube: 729\n"
     ]
    }
   ],
   "source": [
    "calc_cube(arr)\n"
   ]
  },
  {
   "cell_type": "code",
   "execution_count": 170,
   "metadata": {},
   "outputs": [
    {
     "name": "stdout",
     "output_type": "stream",
     "text": [
      "done in:  25.746253967285156\n",
      "completed my way to work!\n"
     ]
    }
   ],
   "source": [
    "print(\"done in: \",time.time()-t)\n",
    "print(\"completed my way to work!\")\n"
   ]
  },
  {
   "cell_type": "code",
   "execution_count": 171,
   "metadata": {},
   "outputs": [],
   "source": [
    "import threading\n",
    "t = time.time()\n",
    "\n",
    "t1 = threading.Thread(target=calc_square, args=(arr,))\n",
    "t2 = threading.Thread(target=calc_cube, args=(arr,))\n"
   ]
  },
  {
   "cell_type": "code",
   "execution_count": 172,
   "metadata": {},
   "outputs": [
    {
     "name": "stdout",
     "output_type": "stream",
     "text": [
      "calculate square numberscalculate cube of numbers\n",
      "\n",
      "cube: 8\n",
      "square: 4\n",
      "cube: 125\n",
      "square: 25\n",
      "cube: 343\n",
      "square: 49\n",
      "cube: 729\n",
      "square: 81\n",
      "done in:  15.436661958694458\n",
      "completed my way to work!\n"
     ]
    }
   ],
   "source": [
    "t1.start()\n",
    "t2.start()\n",
    "\n",
    "t1.join()\n",
    "t2.join()\n",
    "\n",
    "print(\"done in: \",time.time()-t)\n",
    "print(\"completed my way to work!\")\n"
   ]
  },
  {
   "cell_type": "code",
   "execution_count": null,
   "metadata": {},
   "outputs": [],
   "source": []
  },
  {
   "cell_type": "code",
   "execution_count": null,
   "metadata": {},
   "outputs": [],
   "source": []
  },
  {
   "cell_type": "code",
   "execution_count": null,
   "metadata": {},
   "outputs": [],
   "source": []
  }
 ],
 "metadata": {
  "kernelspec": {
   "display_name": "Python 3 (ipykernel)",
   "language": "python",
   "name": "python3"
  },
  "language_info": {
   "codemirror_mode": {
    "name": "ipython",
    "version": 3
   },
   "file_extension": ".py",
   "mimetype": "text/x-python",
   "name": "python",
   "nbconvert_exporter": "python",
   "pygments_lexer": "ipython3",
   "version": "3.9.7"
  }
 },
 "nbformat": 4,
 "nbformat_minor": 2
}
