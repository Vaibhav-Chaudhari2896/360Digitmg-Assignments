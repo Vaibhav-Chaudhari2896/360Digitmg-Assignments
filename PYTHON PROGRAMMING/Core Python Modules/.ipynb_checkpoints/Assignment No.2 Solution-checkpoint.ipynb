{
 "cells": [
  {
   "cell_type": "markdown",
   "id": "a66d42d6",
   "metadata": {},
   "source": [
    "## Assignment Module 2"
   ]
  },
  {
   "cell_type": "code",
   "execution_count": 1,
   "id": "b22eb55d",
   "metadata": {},
   "outputs": [
    {
     "name": "stdout",
     "output_type": "stream",
     "text": [
      "Equation: 399*1 + 543*22 = 12345\n"
     ]
    }
   ],
   "source": [
    "# Q1.Sol \n",
    "# a. Write an equation which relates   399, 543 and 12345\n",
    "\n",
    "for x in range(100):\n",
    "    for y in range(100):\n",
    "        if (399*x + 543 *y) == 12345:\n",
    "            print('Equation: 399*{} + 543*{} = 12345'.format(x,y))\n",
    "            break\n",
    "            "
   ]
  },
  {
   "cell_type": "markdown",
   "id": "4d9f0e35",
   "metadata": {},
   "source": [
    "Q1b. “When I divide 5 with 3, I got 1. But when I divide -5 with 3, I got -2”—How would you justify it.\n",
    "\n",
    "Answer: \n",
    "Floor method is used to get the largest integer, smaller than the number to be floored.\n",
    "In case of positive numbers, floor method returns an integer closet to zero.\n",
    "Eg. 5//3 (=1.667) will return 1. \n",
    "\n",
    "In case of negative numbers, floor method returns an integer away from zero.\n",
    "Eg. -5//3 (= -1.667) will return -2."
   ]
  },
  {
   "cell_type": "markdown",
   "id": "5ed8875e",
   "metadata": {},
   "source": [
    "."
   ]
  },
  {
   "cell_type": "code",
   "execution_count": 2,
   "id": "98c85632",
   "metadata": {},
   "outputs": [
    {
     "name": "stdout",
     "output_type": "stream",
     "text": [
      "a/=b : 1.6666666666666667\n",
      "c*=5 : 50\n"
     ]
    }
   ],
   "source": [
    "# Q2. \n",
    "\n",
    "a = 5;\n",
    "b = 3;\n",
    "c = 10;\n",
    "\n",
    "a/=b  # a = a/b\n",
    "print('a/=b : {}'.format(a))\n",
    "\n",
    "c*=5  # c = c*5\n",
    "print('c*=5 : {}'.format(c))"
   ]
  },
  {
   "cell_type": "code",
   "execution_count": 3,
   "id": "bd937a6d",
   "metadata": {},
   "outputs": [
    {
     "name": "stdout",
     "output_type": "stream",
     "text": [
      "Character not present in the word\n"
     ]
    }
   ],
   "source": [
    "# Q3.a How to check the presence of an alphabet ‘s’ in word “Data Science” \n",
    "\n",
    "word = 'Data Science'\n",
    "ch = 's'\n",
    "if ch in word:\n",
    "    print('Character present in the word')\n",
    "else:\n",
    "    print('Character not present in the word')"
   ]
  },
  {
   "cell_type": "code",
   "execution_count": 4,
   "id": "f799566c",
   "metadata": {},
   "outputs": [
    {
     "data": {
      "text/plain": [
       "64"
      ]
     },
     "execution_count": 4,
     "metadata": {},
     "output_type": "execute_result"
    }
   ],
   "source": [
    "# Q3.b How can you obtain 64 by using numbers 4 and 3\n",
    "\n",
    "4 ** 3"
   ]
  },
  {
   "cell_type": "code",
   "execution_count": null,
   "id": "fe543894",
   "metadata": {},
   "outputs": [],
   "source": []
  }
 ],
 "metadata": {
  "kernelspec": {
   "display_name": "Python 3 (ipykernel)",
   "language": "python",
   "name": "python3"
  },
  "language_info": {
   "codemirror_mode": {
    "name": "ipython",
    "version": 3
   },
   "file_extension": ".py",
   "mimetype": "text/x-python",
   "name": "python",
   "nbconvert_exporter": "python",
   "pygments_lexer": "ipython3",
   "version": "3.9.7"
  }
 },
 "nbformat": 4,
 "nbformat_minor": 5
}
