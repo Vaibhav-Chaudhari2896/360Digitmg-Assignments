{
 "cells": [
  {
   "cell_type": "markdown",
   "id": "f0e67eca",
   "metadata": {},
   "source": [
    "# Assignment Module 5: Loops and Functions"
   ]
  },
  {
   "cell_type": "code",
   "execution_count": 47,
   "id": "474b39e1",
   "metadata": {},
   "outputs": [
    {
     "name": "stdout",
     "output_type": "stream",
     "text": [
      "[1, 5.5, (10+20j), 'data science']\n",
      "[1, 5.5, (10+20j), 'data science', 'Hello']\n",
      "5\n"
     ]
    }
   ],
   "source": [
    "# Q1. \n",
    "# A. list1=[1,5.5,(10+20j),’data science’].. Print default functions and parameters exists in list1.\n",
    "\n",
    "list1 = [1,5.5,(10+20j),'data science']; print(list1);\n",
    "add1 = list1.append('Hello'); print(list1)\n",
    "length = len(list1); print(length);\n"
   ]
  },
  {
   "cell_type": "code",
   "execution_count": 96,
   "id": "41b00686",
   "metadata": {},
   "outputs": [
    {
     "name": "stdout",
     "output_type": "stream",
     "text": [
      "[0, 1, 2, 3, 4, 5, 6, 7, 8, 9]\n",
      "[10, 11, 12, 13, 14, 15, 16, 17, 18, 19]\n"
     ]
    }
   ],
   "source": [
    "# B. How do we create a sequence of numbers in Python.\n",
    "\n",
    "# using range function\n",
    "list1 = list(range(10))\n",
    "print(list1)\n",
    "\n",
    "# using numpy \n",
    "import numpy as np\n",
    "list2 = list(np.arange(10,20))\n",
    "print(list2)\n"
   ]
  },
  {
   "cell_type": "code",
   "execution_count": 97,
   "id": "1120de97",
   "metadata": {},
   "outputs": [
    {
     "name": "stdout",
     "output_type": "stream",
     "text": [
      "Enter the number: 10\n",
      "0\n",
      "1\n",
      "2\n",
      "3\n",
      "4\n",
      "5\n",
      "6\n",
      "7\n",
      "8\n",
      "9\n"
     ]
    }
   ],
   "source": [
    "# C.  Read the input from keyboard and print a sequence of numbers up to that number\n",
    "\n",
    "num = int(input('Enter the number: '));\n",
    "for i in range(num):\n",
    "    print(i)"
   ]
  },
  {
   "cell_type": "markdown",
   "id": "a9a5e4bf",
   "metadata": {},
   "source": [
    "### Q2.\n",
    "Create 2 lists.. one list contains 10 numbers (list1=[0,1,2,3....9]) and other \n",
    "list contains words of those 10 numbers (list2=['zero','one','two',.... ,'nine']).\n",
    "Create a dictionary such that list2 are keys and list 1 are values\n"
   ]
  },
  {
   "cell_type": "code",
   "execution_count": 46,
   "id": "aef375c8",
   "metadata": {},
   "outputs": [
    {
     "name": "stdout",
     "output_type": "stream",
     "text": [
      "{'Zero': 0, 'One': 1, 'Two': 2, 'Three': 3, 'Four': 4, 'Five': 5, 'Six': 6, 'Seven': 7, 'Eight': 8, 'Nine': 9}\n"
     ]
    }
   ],
   "source": [
    "list1 = [0,1,2,3,4,5,6,7,8,9];\n",
    "list2 = ['Zero','One','Two','Three','Four','Five','Six','Seven','Eight','Nine'];\n",
    "\n",
    "dict1 = {}\n",
    "for i in range(len(list2)):\n",
    "    dict1[list2[i]] = list1[i];\n",
    "print(dict1)"
   ]
  },
  {
   "cell_type": "markdown",
   "id": "d898b7cd",
   "metadata": {},
   "source": [
    "### Q3.\n",
    "Consider a list1 [3,4,5,6,7,8]. Create a new list2 such that Add 10 to the even number and multiply with 5 if it is odd number in the list1.."
   ]
  },
  {
   "cell_type": "code",
   "execution_count": 52,
   "id": "7258cc3a",
   "metadata": {},
   "outputs": [
    {
     "name": "stdout",
     "output_type": "stream",
     "text": [
      "list2: [15, 14, 25, 16, 35, 18]\n"
     ]
    }
   ],
   "source": [
    "list1 = [3,4,5,6,7,8] \n",
    "list2 = []\n",
    "for i in list1:\n",
    "    if i % 2 == 0:\n",
    "        list2.append(i+10)\n",
    "    else:\n",
    "        list2.append(i*5)\n",
    "print(f'list2: {list2}')"
   ]
  },
  {
   "cell_type": "markdown",
   "id": "84c458a1",
   "metadata": {},
   "source": [
    "### Q4. \n",
    "Write a simple user defined function that greets a person in such a way that :\n",
    "             i) It should accept both name of person and message you want to deliver.\n",
    "              ii) If no message is provided, it should greet a default message ‘How are you’\n",
    "           Ex: Hello ---xxxx---, How are you  - default message.\n",
    "            Ex: Hello ---xxxx---, --xx your message xx---\n"
   ]
  },
  {
   "cell_type": "code",
   "execution_count": 85,
   "id": "07e45bc2",
   "metadata": {},
   "outputs": [
    {
     "name": "stdout",
     "output_type": "stream",
     "text": [
      "Hello Sheldon, Bazinga!!. \n",
      "Hello Sheldon, How are you?. \n"
     ]
    }
   ],
   "source": [
    "def greet(name, message = 'How are you?'):\n",
    "    return ('Hello {}, {}. '.format(name,message))\n",
    "\n",
    "# printing name with the message\n",
    "print(greet('Sheldon','Bazinga!!'))\n",
    "\n",
    "# printing name with default message\n",
    "print(greet ('Sheldon'))"
   ]
  },
  {
   "cell_type": "code",
   "execution_count": null,
   "id": "7fb9cc0e",
   "metadata": {},
   "outputs": [],
   "source": []
  }
 ],
 "metadata": {
  "kernelspec": {
   "display_name": "Python 3 (ipykernel)",
   "language": "python",
   "name": "python3"
  },
  "language_info": {
   "codemirror_mode": {
    "name": "ipython",
    "version": 3
   },
   "file_extension": ".py",
   "mimetype": "text/x-python",
   "name": "python",
   "nbconvert_exporter": "python",
   "pygments_lexer": "ipython3",
   "version": "3.9.7"
  }
 },
 "nbformat": 4,
 "nbformat_minor": 5
}
