{
 "cells": [
  {
   "cell_type": "markdown",
   "id": "3535e9d2",
   "metadata": {},
   "source": [
    "## Assignment Module 1 :- Data Types"
   ]
  },
  {
   "cell_type": "code",
   "execution_count": 1,
   "id": "a50e0ab4",
   "metadata": {},
   "outputs": [
    {
     "name": "stdout",
     "output_type": "stream",
     "text": [
      "Concanated list: [2, 3.76, 'Hello', (2+3j), True, 6, 8.9, '360Digitmg', (7-6j), False]\n",
      "\n",
      "\n",
      "Frequency of 2 is: 1\n",
      "Frequency of 3.76 is: 1\n",
      "Frequency of Hello is: 1\n",
      "Frequency of (2+3j) is: 1\n",
      "Frequency of True is: 1\n",
      "Frequency of 6 is: 1\n",
      "Frequency of 8.9 is: 1\n",
      "Frequency of 360Digitmg is: 1\n",
      "Frequency of (7-6j) is: 1\n",
      "Frequency of False is: 1\n",
      "\n",
      "\n",
      "Reversed list: [False, (7-6j), '360Digitmg', 8.9, 6, True, (2+3j), 'Hello', 3.76, 2]\n"
     ]
    }
   ],
   "source": [
    "# Q1.Solution \n",
    "\n",
    "list1 = [2,3.76,'Hello',(2+3j),True];\n",
    "list2 = [6,8.9,'360Digitmg',(7-6j),False];\n",
    "\n",
    "# a. Concat\n",
    "list3 = list1+list2\n",
    "print('Concanated list: {}'.format(list3))\n",
    "\n",
    "print('\\n')\n",
    "# b. frequency of each element in the concatenated list\n",
    "for item in list3:\n",
    "    freq = str(list3.count(item));\n",
    "    print('Frequency of ' + str(item) + ' is: '+ freq)\n",
    "\n",
    "print('\\n')    \n",
    "# c. list in reverse order\n",
    "list3_rev = reversed(list3)\n",
    "print('Reversed list: {}'.format(list(list3_rev)))\n"
   ]
  },
  {
   "cell_type": "code",
   "execution_count": 2,
   "id": "21defaf1",
   "metadata": {},
   "outputs": [
    {
     "name": "stdout",
     "output_type": "stream",
     "text": [
      "Elements common in both sets: {5, 6, 7, 8, 9, 10}\n",
      "Elements not common in both sets: {1, 2, 3, 4, 11, 12, 13, 14, 15}\n",
      "After removing 7 from set1: {1, 2, 3, 4, 5, 6, 8, 9, 10}\n",
      "After removing 7 from set2: {5, 6, 8, 9, 10, 11, 12, 13, 14, 15}\n"
     ]
    }
   ],
   "source": [
    "# Q2. Solution\n",
    "set1 = {1,2,3,4,5,6,7,8,9,10}\n",
    "set2 = {5,6,7,8,9,10,11,12,13,14,15}\n",
    "\n",
    "# a. Common element in set1 and set2\n",
    "common = set1 & set2\n",
    "print ('Elements common in both sets: {}'.format(common))\n",
    "\n",
    "# b. Elements not common in set1 and set2\n",
    "difference1 = set1.difference(set2)\n",
    "difference2 = set2.difference(set1)\n",
    "print( 'Elements not common in both sets: {}'.format(difference1 | difference2 ))\n",
    "\n",
    "# c. Remove element 7 from both the Sets\n",
    "set1.remove(7)\n",
    "print('After removing 7 from set1: {}'.format(set1))\n",
    "set2.remove(7)\n",
    "print('After removing 7 from set2: {}'.format(set2))"
   ]
  },
  {
   "cell_type": "code",
   "execution_count": 3,
   "id": "36ecb8aa",
   "metadata": {},
   "outputs": [
    {
     "name": "stdout",
     "output_type": "stream",
     "text": [
      "dict_keys(['Maharashtra', 'Andra Pradesh', 'Tamil Nadu', 'Kerala', 'Goa'])\n",
      "{'Maharashtra': 8000000, 'Andra Pradesh': 4500000, 'Tamil Nadu': 3500000, 'Kerala': 1500000, 'Goa': 250000, 'Delhi': 2700000}\n"
     ]
    }
   ],
   "source": [
    "# Q3. Solution\n",
    "dict1 = {'Maharashtra':8000000,'Andra Pradesh':4500000,'Tamil Nadu':3500000,'Kerala':1500000,'Goa':250000 }\n",
    "\n",
    "# a. Print only state names from the dictionary.\n",
    "print(dict1.keys())\n",
    "\n",
    "# b. Update another country and it’s covid-19 cases in the dictionary.\n",
    "dict1['Delhi']=2700000\n",
    "print(dict1)"
   ]
  }
 ],
 "metadata": {
  "kernelspec": {
   "display_name": "Python 3 (ipykernel)",
   "language": "python",
   "name": "python3"
  },
  "language_info": {
   "codemirror_mode": {
    "name": "ipython",
    "version": 3
   },
   "file_extension": ".py",
   "mimetype": "text/x-python",
   "name": "python",
   "nbconvert_exporter": "python",
   "pygments_lexer": "ipython3",
   "version": "3.9.7"
  }
 },
 "nbformat": 4,
 "nbformat_minor": 5
}
