{
 "cells": [
  {
   "cell_type": "markdown",
   "metadata": {},
   "source": [
    "## List Comprehensions"
   ]
  },
  {
   "cell_type": "code",
   "execution_count": 2,
   "metadata": {},
   "outputs": [
    {
     "data": {
      "text/plain": [
       "[36, 162, 163, 165, 8364, 164]"
      ]
     },
     "execution_count": 2,
     "metadata": {},
     "output_type": "execute_result"
    }
   ],
   "source": [
    "# List Comprehensions and Readability \n",
    "\n",
    "# Build a list of Unicode codepoints from a string in ordinary way \n",
    "symbols = '$¢£¥€¤'\n",
    "codes = []\n",
    "for symbol in symbols:\n",
    "     codes.append(ord(symbol))\n",
    "codes \n",
    "\n"
   ]
  },
  {
   "cell_type": "code",
   "execution_count": 3,
   "metadata": {},
   "outputs": [
    {
     "data": {
      "text/plain": [
       "[36, 162, 163, 165, 8364]"
      ]
     },
     "execution_count": 3,
     "metadata": {},
     "output_type": "execute_result"
    }
   ],
   "source": [
    "# Alternative way to perform the above Unicode using List comprehension\n",
    "symbols = '$¢£¥€'\n",
    "codes = [ord(symbol) for symbol in symbols] \n",
    "codes \n"
   ]
  },
  {
   "cell_type": "markdown",
   "metadata": {},
   "source": [
    "## Dictionary Comprehension"
   ]
  },
  {
   "cell_type": "code",
   "execution_count": 64,
   "metadata": {},
   "outputs": [
    {
     "name": "stdout",
     "output_type": "stream",
     "text": [
      "{0: 0, 2: 4, 4: 16, 6: 36, 8: 64}\n"
     ]
    }
   ],
   "source": [
    "##Let's see how the same probem can be solved using a for loop and dictionary comprehension\n",
    "##We want to create a new dictionary where the key is a number divisible by 2 in a range of 0-10 and it's value is the square of the number.\n",
    "numbers = range(10)\n",
    "new_dict_for = {}\n",
    "\n",
    "# Add values to `new_dict` using for loop\n",
    "for n in numbers:\n",
    "    if n%2==0:\n",
    "        new_dict_for[n] = n**2\n",
    "\n",
    "print(new_dict_for)"
   ]
  },
  {
   "cell_type": "code",
   "execution_count": 65,
   "metadata": {},
   "outputs": [
    {
     "name": "stdout",
     "output_type": "stream",
     "text": [
      "{0: 0, 2: 4, 4: 16, 6: 36, 8: 64}\n"
     ]
    }
   ],
   "source": [
    "# Use dictionary comprehension\n",
    "new_dict_comp = {n:n**2 for n in numbers if n%2 == 0}\n",
    "\n",
    "print(new_dict_comp)"
   ]
  },
  {
   "cell_type": "code",
   "execution_count": 66,
   "metadata": {},
   "outputs": [
    {
     "name": "stdout",
     "output_type": "stream",
     "text": [
      "{'aa': 2, 'bb': 4, 'cc': 6, 'dd': 8, 'ee': 10}\n"
     ]
    }
   ],
   "source": [
    "##Another example\n",
    "\n",
    "dict1 = {'a': 1, 'b': 2, 'c': 3, 'd': 4, 'e': 5}\n",
    "dict1_keys = {k*2:v*2 for (k,v) in dict1.items()}\n",
    "print(dict1_keys)"
   ]
  },
  {
   "cell_type": "markdown",
   "metadata": {},
   "source": [
    "### Enumerate"
   ]
  },
  {
   "cell_type": "code",
   "execution_count": 67,
   "metadata": {},
   "outputs": [
    {
     "name": "stdout",
     "output_type": "stream",
     "text": [
      "<class 'enumerate'>\n"
     ]
    },
    {
     "data": {
      "text/plain": [
       "[(0, 'bread'), (1, 'milk'), (2, 'butter')]"
      ]
     },
     "execution_count": 67,
     "metadata": {},
     "output_type": "execute_result"
    }
   ],
   "source": [
    "##enumerate() works in Python-- it gives index and element of the data structure\n",
    "grocery = ['bread', 'milk', 'butter']\n",
    "enumerateGrocery = enumerate(grocery)\n",
    "\n",
    "print(type(enumerateGrocery))\n",
    "list(enumerateGrocery)"
   ]
  },
  {
   "cell_type": "code",
   "execution_count": 68,
   "metadata": {},
   "outputs": [
    {
     "name": "stdout",
     "output_type": "stream",
     "text": [
      "[(10, 'bread'), (11, 'milk'), (12, 'butter')]\n"
     ]
    }
   ],
   "source": [
    "##changing the default starting index\n",
    "enumerateGrocery = enumerate(grocery, 10)\n",
    "print(list(enumerateGrocery))"
   ]
  },
  {
   "cell_type": "markdown",
   "metadata": {},
   "source": [
    "### Zip and Unzip"
   ]
  },
  {
   "cell_type": "code",
   "execution_count": 69,
   "metadata": {},
   "outputs": [
    {
     "name": "stdout",
     "output_type": "stream",
     "text": [
      "The zipped result is : {('Astha', 2, 70), ('Nikhil', 1, 50), ('Shambhavi', 3, 60), ('Manjeet', 4, 40)}\n"
     ]
    }
   ],
   "source": [
    "##Python code to demonstrate the working of  zip()\n",
    "# initializing lists \n",
    "name = [ \"Manjeet\", \"Nikhil\", \"Shambhavi\", \"Astha\" ] \n",
    "roll_no = [ 4, 1, 3, 2 ] \n",
    "marks = [ 40, 50, 60, 70 ] \n",
    "  \n",
    "# using zip() to map values \n",
    "mapped = zip(name, roll_no, marks) \n",
    "  \n",
    "# converting values to print as set \n",
    "mapped = set(mapped) \n",
    "  \n",
    "# printing resultant values  \n",
    "print (\"The zipped result is : \",end=\"\") \n",
    "print (mapped) "
   ]
  },
  {
   "cell_type": "code",
   "execution_count": 71,
   "metadata": {},
   "outputs": [
    {
     "name": "stdout",
     "output_type": "stream",
     "text": [
      "The unzipped result: \n",
      "The name list is : ('Astha', 'Nikhil', 'Shambhavi', 'Manjeet')\n",
      "The roll_no list is : (2, 1, 3, 4)\n",
      "The marks list is : (70, 50, 60, 40)\n"
     ]
    }
   ],
   "source": [
    "# unzipping values \n",
    "namz, roll_noz, marksz = zip(*mapped) \n",
    "  \n",
    "print (\"The unzipped result: \\n\",end=\"\") \n",
    "print (\"The name list is : \",end=\"\") \n",
    "print (namz) \n",
    "print (\"The roll_no list is : \",end=\"\") \n",
    "print (roll_noz) \n",
    "  \n",
    "print (\"The marks list is : \",end=\"\") \n",
    "print (marksz)"
   ]
  },
  {
   "cell_type": "markdown",
   "metadata": {},
   "source": [
    "# Generator Expressions"
   ]
  },
  {
   "cell_type": "code",
   "execution_count": 4,
   "metadata": {},
   "outputs": [
    {
     "data": {
      "text/plain": [
       "array('I', [36, 162, 163, 165, 8364, 164])"
      ]
     },
     "execution_count": 4,
     "metadata": {},
     "output_type": "execute_result"
    }
   ],
   "source": [
    "# Expression Generator \n",
    "\n",
    "symbols = '$¢£¥€¤'\n",
    "tuple(ord(symbol) for symbol in symbols) \n",
    "import array as a\n",
    "a.array('I', (ord(symbol) for symbol in symbols)) "
   ]
  },
  {
   "cell_type": "markdown",
   "metadata": {},
   "source": [
    "## Ellipsis"
   ]
  },
  {
   "cell_type": "code",
   "execution_count": 75,
   "metadata": {},
   "outputs": [
    {
     "name": "stdout",
     "output_type": "stream",
     "text": [
      "[[[[ 0  1]\n",
      "   [ 2  3]]\n",
      "\n",
      "  [[ 4  5]\n",
      "   [ 6  7]]]\n",
      "\n",
      "\n",
      " [[[ 8  9]\n",
      "   [10 11]]\n",
      "\n",
      "  [[12 13]\n",
      "   [14 15]]]]\n",
      "**********\n"
     ]
    },
    {
     "data": {
      "text/plain": [
       "array([[ 9, 11],\n",
       "       [13, 15]])"
      ]
     },
     "execution_count": 75,
     "metadata": {},
     "output_type": "execute_result"
    }
   ],
   "source": [
    "import numpy\n",
    "n = numpy.arange(16).reshape(2, 2, 2, 2)\n",
    "print(n)\n",
    "print('**********')\n",
    "n[1,...,1]  # equivalent to n[1,:,:,1]\n"
   ]
  },
  {
   "cell_type": "code",
   "execution_count": 74,
   "metadata": {},
   "outputs": [
    {
     "data": {
      "text/plain": [
       "array([[ 9, 11],\n",
       "       [13, 15]])"
      ]
     },
     "execution_count": 74,
     "metadata": {},
     "output_type": "execute_result"
    }
   ],
   "source": [
    " # also Ellipsis object can be used interchangeably\n",
    "n[1, Ellipsis, 1]"
   ]
  },
  {
   "cell_type": "markdown",
   "metadata": {},
   "source": [
    "# Augmented Assignments with Sequences"
   ]
  },
  {
   "cell_type": "code",
   "execution_count": 6,
   "metadata": {},
   "outputs": [
    {
     "name": "stdout",
     "output_type": "stream",
     "text": [
      "2038229152584 [1, 2, 3]\n",
      "2038229152584 [1, 2, 3, 1, 2, 3]\n"
     ]
    }
   ],
   "source": [
    "# Augumented assignment operators with *=\n",
    "# id of lists \n",
    "l = [1,2,3]\n",
    "print(id(l), l)\n",
    "# ID of list will not change jsut append the values to the same ID\n",
    "l *= 2 # Eql to L*2\n",
    "print(id(l),l)\n"
   ]
  },
  {
   "cell_type": "code",
   "execution_count": 8,
   "metadata": {},
   "outputs": [
    {
     "name": "stdout",
     "output_type": "stream",
     "text": [
      "2038229779872 (1, 2, 3)\n",
      "2038229716040 (1, 2, 3, 1, 2, 3)\n"
     ]
    }
   ],
   "source": [
    "# Augumented assignment operators with *=\n",
    "t = (1,2,3)\n",
    "print(id(t),t)\n",
    "# ID of the tuple will change insteead of appending the values to the same ID \n",
    "t *= 2\n",
    "print(id(t),t) \n"
   ]
  },
  {
   "cell_type": "markdown",
   "metadata": {},
   "source": [
    "# Built-in Sort Functions"
   ]
  },
  {
   "cell_type": "code",
   "execution_count": 9,
   "metadata": {},
   "outputs": [
    {
     "data": {
      "text/plain": [
       "['cat', 'dog', 'goat', 'sheep']"
      ]
     },
     "execution_count": 9,
     "metadata": {},
     "output_type": "execute_result"
    }
   ],
   "source": [
    "animals = ['dog', 'cat', 'sheep', 'goat']\n",
    "# Assending order with alphaabet \n",
    "sorted(animals)\n"
   ]
  },
  {
   "cell_type": "code",
   "execution_count": 10,
   "metadata": {},
   "outputs": [
    {
     "data": {
      "text/plain": [
       "['sheep', 'goat', 'dog', 'cat']"
      ]
     },
     "execution_count": 10,
     "metadata": {},
     "output_type": "execute_result"
    }
   ],
   "source": [
    "# Desending order with alphabet \n",
    "sorted(animals, reverse = True)\n"
   ]
  },
  {
   "cell_type": "code",
   "execution_count": 11,
   "metadata": {},
   "outputs": [
    {
     "data": {
      "text/plain": [
       "['sheep', 'goat', 'dog', 'cat']"
      ]
     },
     "execution_count": 11,
     "metadata": {},
     "output_type": "execute_result"
    }
   ],
   "source": [
    "# Assending order with respect to length of the character\n",
    "sorted(animals, key = len, reverse = True)\n"
   ]
  },
  {
   "cell_type": "code",
   "execution_count": 12,
   "metadata": {},
   "outputs": [
    {
     "data": {
      "text/plain": [
       "['dog', 'cat', 'goat', 'sheep']"
      ]
     },
     "execution_count": 12,
     "metadata": {},
     "output_type": "execute_result"
    }
   ],
   "source": [
    "# Desending order with respect to length of the character \n",
    "sorted(animals, key = len)\n"
   ]
  },
  {
   "cell_type": "code",
   "execution_count": 13,
   "metadata": {},
   "outputs": [
    {
     "data": {
      "text/plain": [
       "['cat', 'dog', 'goat', 'sheep']"
      ]
     },
     "execution_count": 13,
     "metadata": {},
     "output_type": "execute_result"
    }
   ],
   "source": [
    "# Built in Function for sort\n",
    "animals.sort()\n",
    "animals\n"
   ]
  },
  {
   "cell_type": "markdown",
   "metadata": {},
   "source": [
    "# Arrays, Memory Views, Deques"
   ]
  },
  {
   "cell_type": "code",
   "execution_count": 80,
   "metadata": {},
   "outputs": [
    {
     "data": {
      "text/plain": [
       "array('h', [-2, -1, 0, 1, 2])"
      ]
     },
     "execution_count": 80,
     "metadata": {},
     "output_type": "execute_result"
    }
   ],
   "source": [
    "import array\n",
    "numbers = array.array('h', [-2, -1, 0, 1, 2]) \n",
    "numbers"
   ]
  },
  {
   "cell_type": "code",
   "execution_count": 81,
   "metadata": {},
   "outputs": [
    {
     "name": "stdout",
     "output_type": "stream",
     "text": [
      "5\n"
     ]
    },
    {
     "data": {
      "text/plain": [
       "<memory at 0x000001DA96485B88>"
      ]
     },
     "execution_count": 81,
     "metadata": {},
     "output_type": "execute_result"
    }
   ],
   "source": [
    "memv = memoryview(numbers) # Build memory View from signed array\n",
    "print(len(memv)) # length of an array \n",
    "memv"
   ]
  },
  {
   "cell_type": "code",
   "execution_count": 82,
   "metadata": {},
   "outputs": [
    {
     "data": {
      "text/plain": [
       "[-2, -1, 0, 1, 2]"
      ]
     },
     "execution_count": 82,
     "metadata": {},
     "output_type": "execute_result"
    }
   ],
   "source": [
    "memv.tolist()"
   ]
  },
  {
   "cell_type": "code",
   "execution_count": 79,
   "metadata": {},
   "outputs": [
    {
     "name": "stdout",
     "output_type": "stream",
     "text": [
      "<memory at 0x000001DA96485C48> array('h', [-2, -1, 0, 1, 2])\n"
     ]
    },
    {
     "data": {
      "text/plain": [
       "[254, 255, 255, 255, 0, 0, 1, 0, 2, 0]"
      ]
     },
     "execution_count": 79,
     "metadata": {},
     "output_type": "execute_result"
    }
   ],
   "source": [
    "memv_oct = memv.cast('B') # unassigned operator \n",
    "print(memv_oct, numbers)\n",
    "memv_oct.tolist() # Export elements to list\n"
   ]
  },
  {
   "cell_type": "code",
   "execution_count": 23,
   "metadata": {},
   "outputs": [
    {
     "data": {
      "text/plain": [
       "array('h', [-2, -1, 1024, 1, 2])"
      ]
     },
     "execution_count": 23,
     "metadata": {},
     "output_type": "execute_result"
    }
   ],
   "source": [
    "memv_oct[5] = 4 # Convert an array to list to view \n",
    "numbers"
   ]
  },
  {
   "cell_type": "markdown",
   "metadata": {},
   "source": [
    "# Handling Missing Keys"
   ]
  },
  {
   "cell_type": "code",
   "execution_count": 24,
   "metadata": {},
   "outputs": [
    {
     "name": "stdout",
     "output_type": "stream",
     "text": [
      "The value associated with 'c' is : \n"
     ]
    },
    {
     "ename": "KeyError",
     "evalue": "'c'",
     "output_type": "error",
     "traceback": [
      "\u001b[1;31m---------------------------------------------------------------------------\u001b[0m",
      "\u001b[1;31mKeyError\u001b[0m                                  Traceback (most recent call last)",
      "\u001b[1;32m<ipython-input-24-b279400f539a>\u001b[0m in \u001b[0;36m<module>\u001b[1;34m()\u001b[0m\n\u001b[0;32m      6\u001b[0m \u001b[1;31m# trying to output value of absent key\u001b[0m\u001b[1;33m\u001b[0m\u001b[1;33m\u001b[0m\u001b[0m\n\u001b[0;32m      7\u001b[0m \u001b[0mprint\u001b[0m \u001b[1;33m(\u001b[0m\u001b[1;34m\"The value associated with 'c' is : \"\u001b[0m\u001b[1;33m)\u001b[0m\u001b[1;33m\u001b[0m\u001b[0m\n\u001b[1;32m----> 8\u001b[1;33m \u001b[0mprint\u001b[0m \u001b[1;33m(\u001b[0m\u001b[0md\u001b[0m\u001b[1;33m[\u001b[0m\u001b[1;34m'c'\u001b[0m\u001b[1;33m]\u001b[0m\u001b[1;33m)\u001b[0m\u001b[1;33m\u001b[0m\u001b[0m\n\u001b[0m",
      "\u001b[1;31mKeyError\u001b[0m: 'c'"
     ]
    }
   ],
   "source": [
    "\n",
    "# initializing Dictionary \n",
    "d = { 'a' : 1 , 'b' : 2 } \n",
    "  \n",
    "# trying to output value of absent key  \n",
    "print (\"The value associated with 'c' is : \") \n",
    "print (d['c']) \n"
   ]
  },
  {
   "cell_type": "code",
   "execution_count": 27,
   "metadata": {},
   "outputs": [
    {
     "name": "stdout",
     "output_type": "stream",
     "text": [
      "The value of 'a' is : 1\n",
      "The value of 'c' is : Key Not available\n"
     ]
    }
   ],
   "source": [
    "# We need to handle these kind of errors  \n",
    "# importing \"collections\" for defaultdict \n",
    "import collections as cl\n",
    "  \n",
    "# declaring defaultdict \n",
    "# sets default value 'Key Not found' to absent keys \n",
    "defd = cl.defaultdict(lambda : 'Key Not available') \n",
    "# initializing values  \n",
    "defd['a'] = 1\n",
    "  \n",
    "# initializing values  \n",
    "defd['b'] = 2\n",
    "  \n",
    "# printing value  \n",
    "print (\"The value of 'a' is : \",end=\"\") \n",
    "print (defd['a']) \n",
    "  \n",
    "# printing value associated with 'c' \n",
    "print (\"The value of 'c' is : \",end=\"\") \n",
    "print (defd['c']) \n"
   ]
  },
  {
   "cell_type": "markdown",
   "metadata": {},
   "source": [
    "## Function annotations"
   ]
  },
  {
   "cell_type": "code",
   "execution_count": null,
   "metadata": {},
   "outputs": [],
   "source": [
    "#Function annotations are arbitrary python expressions that are associated with various part of functions. \n",
    "#Annotations for simple parameters :def foobar(a: expression, b: expression = 5):\n",
    "#Annotations for excess parameters :def foobar(*args: expression, *kwargs: expression):\n",
    "#Annotations for nested parameters :def foobar((a: expression, b: expression), (c: expression, d: expression)):\n",
    "#Annotations for return type :def foobar(a: expression)->expression:"
   ]
  },
  {
   "cell_type": "code",
   "execution_count": 83,
   "metadata": {},
   "outputs": [
    {
     "name": "stdout",
     "output_type": "stream",
     "text": [
      "{'n': 'int', 'output': 'list', 'return': 'list'}\n"
     ]
    }
   ],
   "source": [
    "#Accessing Function Annotations\n",
    "# Python program to illustrate Function Annotations \n",
    "def fib(n:'int', output:'list'=[])-> 'list': \n",
    "    if n == 0: \n",
    "        return output \n",
    "    else: \n",
    "        if len(output)< 2: \n",
    "            output.append(1) \n",
    "            fib(n-1, output) \n",
    "        else: \n",
    "            last = output[-1] \n",
    "            second_last = output[-2] \n",
    "            output.append(last + second_last) \n",
    "            fib(n-1, output) \n",
    "        return output \n",
    "print(fib.__annotations__) "
   ]
  },
  {
   "cell_type": "code",
   "execution_count": 84,
   "metadata": {},
   "outputs": [
    {
     "name": "stdout",
     "output_type": "stream",
     "text": [
      "FullArgSpec(args=['n', 'output'], varargs=None, varkw=None, defaults=([],), kwonlyargs=[], kwonlydefaults=None, annotations={'return': 'list', 'n': 'int', 'output': 'list'})\n"
     ]
    }
   ],
   "source": [
    "# Python program to illustrate Function Annotations \n",
    "import inspect \n",
    "def fib(n:'int', output:'list'=[])-> 'list': \n",
    "    if n == 0: \n",
    "        return output \n",
    "    else: \n",
    "        if len(output)< 2: \n",
    "            output.append(1) \n",
    "            fib(n-1, output) \n",
    "        else: \n",
    "            last = output[-1] \n",
    "            second_last = output[-2] \n",
    "            output.append(last + second_last) \n",
    "            fib(n-1, output) \n",
    "        return output \n",
    "print(inspect.getfullargspec(fib)) "
   ]
  },
  {
   "cell_type": "markdown",
   "metadata": {},
   "source": [
    "## Higher order functions"
   ]
  },
  {
   "cell_type": "code",
   "execution_count": 85,
   "metadata": {},
   "outputs": [
    {
     "name": "stdout",
     "output_type": "stream",
     "text": [
      "25\n"
     ]
    }
   ],
   "source": [
    "#Returning function\n",
    "# Python program to illustrate functions  \n",
    "# Functions can return another function  \n",
    "    \n",
    "def create_adder(x):  # return a function from another function\n",
    "    def adder(y):  \n",
    "        return x + y  \n",
    "    \n",
    "    return adder  \n",
    "    \n",
    "add_15 = create_adder(15)  \n",
    "    \n",
    "print(add_15(10)) "
   ]
  },
  {
   "cell_type": "code",
   "execution_count": 86,
   "metadata": {},
   "outputs": [
    {
     "name": "stdout",
     "output_type": "stream",
     "text": [
      "6\n"
     ]
    }
   ],
   "source": [
    "#Functions as arguments\n",
    "def summation(nums): # normal function\n",
    "    return sum(nums)\n",
    "\n",
    "def main(f, *args): # function as an argument\n",
    "    result = f(*args)\n",
    "    print(result)\n",
    "\n",
    "if __name__ == \"__main__\": #pass functions as one of the arguments to another function\n",
    "    main(summation, [1,2,3])"
   ]
  },
  {
   "cell_type": "markdown",
   "metadata": {},
   "source": [
    "# Functional Programming Packages"
   ]
  },
  {
   "cell_type": "markdown",
   "metadata": {},
   "source": [
    "## Procedural vs Functional"
   ]
  },
  {
   "cell_type": "markdown",
   "metadata": {},
   "source": [
    "Procedural**  procedural style relies on procedure calls to create modularized code. This approach simplifies your application code by breaking it into small pieces that a developer can view easily. Even though procedural coding is an older form of application development, it’s still a viable approach for tasks that lend themselves to step-by-step execution.\n"
   ]
  },
  {
   "cell_type": "code",
   "execution_count": 88,
   "metadata": {},
   "outputs": [
    {
     "name": "stdout",
     "output_type": "stream",
     "text": [
      "15\n"
     ]
    }
   ],
   "source": [
    "#Procedural coding style\n",
    "my_list = [1, 2, 3, 4, 5]\n",
    "def do_add(any_list):\n",
    "    sum = 0\n",
    "    for x in any_list:\n",
    "        sum += x\n",
    "    return sum\n",
    "print(do_add(my_list))"
   ]
  },
  {
   "cell_type": "markdown",
   "metadata": {},
   "source": [
    "Functional:** Every statement is treated as a mathematical equation and any forms of state or mutable data are avoided. The main advantage of this approach is that it lends itself well to parallel processing because there is no state to consider. Many developers prefer this coding style for recursion and for lambda calculus. (Note that Python’s implementation of functional programming deviates from the standard—read, is impure— because it’s possible to maintain state and create side effects if you’re not careful."
   ]
  },
  {
   "cell_type": "code",
   "execution_count": 89,
   "metadata": {},
   "outputs": [
    {
     "name": "stdout",
     "output_type": "stream",
     "text": [
      "15\n"
     ]
    }
   ],
   "source": [
    "#Functional coding style\n",
    "import functools\n",
    "my_list = [1, 2, 3, 4, 5]\n",
    "def add_it(x, y):\n",
    "    return (x + y)\n",
    "sum = functools.reduce(add_it, my_list)\n",
    "print(sum)"
   ]
  },
  {
   "cell_type": "markdown",
   "metadata": {},
   "source": [
    "### Pure Functions :"
   ]
  },
  {
   "cell_type": "markdown",
   "metadata": {},
   "source": [
    "\n",
    "Are functions without side effects, like mathematical functions.\n",
    "For the same input the functions always returns the same output.\n",
    "The result of any function call is fully determined by its arguments.\n",
    "\n",
    "Pure functions don't rely on global variable and don't have internal states.\n",
    "They don't do IO, i.e .:. don't print, don't write a file …\n",
    "Pure functions are stateless\n",
    "Pure functions are deterministic\n",
    "\n"
   ]
  },
  {
   "cell_type": "code",
   "execution_count": 90,
   "metadata": {},
   "outputs": [
    {
     "data": {
      "text/plain": [
       "3"
      ]
     },
     "execution_count": 90,
     "metadata": {},
     "output_type": "execute_result"
    }
   ],
   "source": [
    "def min(x, y): #To Find the Minimum value min(Argument 1 , Argument 2)\n",
    "    if x < y:\n",
    "        return x\n",
    "    else:\n",
    "        return y\n",
    "min(5,3)"
   ]
  },
  {
   "cell_type": "markdown",
   "metadata": {},
   "source": [
    "## lambda"
   ]
  },
  {
   "cell_type": "code",
   "execution_count": 41,
   "metadata": {},
   "outputs": [
    {
     "data": {
      "text/plain": [
       "144"
      ]
     },
     "execution_count": 41,
     "metadata": {},
     "output_type": "execute_result"
    }
   ],
   "source": [
    "# Defining the lambda function \n",
    "\n",
    "s = lambda x: x * x\n",
    "s(12)\n"
   ]
  },
  {
   "cell_type": "markdown",
   "metadata": {},
   "source": [
    "## map()"
   ]
  },
  {
   "cell_type": "code",
   "execution_count": 92,
   "metadata": {},
   "outputs": [
    {
     "data": {
      "text/plain": [
       "[2, 4, 6, 8, 10, 12]"
      ]
     },
     "execution_count": 92,
     "metadata": {},
     "output_type": "execute_result"
    }
   ],
   "source": [
    "#map()\n",
    "val = [1, 2, 3, 4, 5, 6]\n",
    "list(map(lambda x: x * 2, val))\n"
   ]
  },
  {
   "cell_type": "code",
   "execution_count": 96,
   "metadata": {},
   "outputs": [
    {
     "data": {
      "text/plain": [
       "[1, 3, 5]"
      ]
     },
     "execution_count": 96,
     "metadata": {},
     "output_type": "execute_result"
    }
   ],
   "source": [
    "#filter() -- used to check the condition\n",
    "val1 = [1, 2, 3, 4, 5, 6]\n",
    "list(filter(lambda x: x % 2, val1))\n"
   ]
  },
  {
   "cell_type": "markdown",
   "metadata": {},
   "source": [
    "## reduce()"
   ]
  },
  {
   "cell_type": "code",
   "execution_count": 94,
   "metadata": {},
   "outputs": [
    {
     "data": {
      "text/plain": [
       "720"
      ]
     },
     "execution_count": 94,
     "metadata": {},
     "output_type": "execute_result"
    }
   ],
   "source": [
    "from functools import reduce \n",
    "reduce(lambda x, y: x * y, val)\n"
   ]
  },
  {
   "cell_type": "markdown",
   "metadata": {},
   "source": [
    "## Identify, Equality & References\n"
   ]
  },
  {
   "cell_type": "code",
   "execution_count": 44,
   "metadata": {},
   "outputs": [
    {
     "name": "stdout",
     "output_type": "stream",
     "text": [
      "No\n"
     ]
    }
   ],
   "source": [
    "data = [10,20,30]\n",
    "my_data = [10,20,30]\n",
    "\n",
    "if  data is my_data: \n",
    "    print(\"Yes\") \n",
    "else: \n",
    "    print(\"No\")\n"
   ]
  },
  {
   "cell_type": "code",
   "execution_count": 45,
   "metadata": {},
   "outputs": [
    {
     "name": "stdout",
     "output_type": "stream",
     "text": [
      "Yes\n"
     ]
    }
   ],
   "source": [
    "# create another reference x3 to same list. \n",
    "df = data \n",
    "\n",
    "if  data is df: \n",
    "    print(\"Yes\") \n",
    "else: \n",
    "    print(\"No\")\n"
   ]
  },
  {
   "cell_type": "code",
   "execution_count": 46,
   "metadata": {},
   "outputs": [
    {
     "name": "stdout",
     "output_type": "stream",
     "text": [
      "Yes\n"
     ]
    }
   ],
   "source": [
    "# Let us try to use comparitive operative \n",
    "if  data == df: \n",
    "    print(\"Yes\") \n",
    "else: \n",
    "    print(\"No\") \n"
   ]
  },
  {
   "cell_type": "code",
   "execution_count": 47,
   "metadata": {},
   "outputs": [
    {
     "name": "stdout",
     "output_type": "stream",
     "text": [
      "Yes\n"
     ]
    }
   ],
   "source": [
    " # Alternative way to run above code\n",
    "data = [10,20,30]   \n",
    "df = list(data)\n",
    "\n",
    "if  data == df: \n",
    "    print(\"Yes\") \n",
    "else: \n",
    "    print(\"No\") \n"
   ]
  },
  {
   "cell_type": "markdown",
   "metadata": {},
   "source": [
    "## Loop vs Comprehension vs map"
   ]
  },
  {
   "cell_type": "code",
   "execution_count": 97,
   "metadata": {},
   "outputs": [
    {
     "data": {
      "text/plain": [
       "([1, 4, 9, 16, 25], [1, 4, 9, 16, 25], [1, 4, 9, 16, 25])"
      ]
     },
     "execution_count": 97,
     "metadata": {},
     "output_type": "execute_result"
    }
   ],
   "source": [
    "list1=[1,2,3,4,5]\n",
    "squares1=[]\n",
    "\n",
    "#Loop\n",
    "for i in list1:\n",
    "    squares1.append(i**2)\n",
    "    \n",
    "#Comprehension\n",
    "squares2=[i**2 for i in list1]\n",
    "\n",
    "#map\n",
    "squares3=list(map(lambda x:x**2,list1))\n",
    "\n",
    "squares1, squares2,squares3"
   ]
  },
  {
   "cell_type": "markdown",
   "metadata": {},
   "source": [
    "# MySQL DB connection with Python\n"
   ]
  },
  {
   "cell_type": "markdown",
   "metadata": {},
   "source": [
    "### Connecting to MySQL"
   ]
  },
  {
   "cell_type": "code",
   "execution_count": 98,
   "metadata": {},
   "outputs": [
    {
     "name": "stdout",
     "output_type": "stream",
     "text": [
      "<mysql.connector.connection_cext.CMySQLConnection object at 0x000001DA975F2780>\n"
     ]
    }
   ],
   "source": [
    "# importing package \n",
    "import mysql.connector as sql\n",
    "\n",
    "#connecting to mysql database\n",
    "mydb = sql.connect(\n",
    "  host=\"localhost\",\n",
    "  user=\"root\",\n",
    "  passwd=\"mysqldatascience\",\n",
    "  auth_plugin='mysql_native_password'\n",
    ")\n",
    "print(mydb)\n"
   ]
  },
  {
   "cell_type": "markdown",
   "metadata": {},
   "source": [
    "### creating database schema"
   ]
  },
  {
   "cell_type": "code",
   "execution_count": 100,
   "metadata": {},
   "outputs": [],
   "source": [
    "mycursor = mydb.cursor()\n",
    "\n",
    "#Create Database\n",
    "mycursor.execute(\"CREATE DATABASE EMP\")\n"
   ]
  },
  {
   "cell_type": "markdown",
   "metadata": {},
   "source": [
    "### connectin to the database schema created"
   ]
  },
  {
   "cell_type": "code",
   "execution_count": 101,
   "metadata": {},
   "outputs": [
    {
     "name": "stdout",
     "output_type": "stream",
     "text": [
      "<mysql.connector.connection_cext.CMySQLConnection object at 0x000001DA975F2B38>\n"
     ]
    }
   ],
   "source": [
    "# Connecting to Database created\n",
    "mydb = sql.connect(\n",
    "  host=\"localhost\",\n",
    "  user=\"root\",\n",
    "  passwd=\"mysqldatascience\",\n",
    "  database = 'EMP',\n",
    "  auth_plugin='mysql_native_password'\n",
    ")\n",
    "print(mydb)\n",
    "\n",
    "mycursor = mydb.cursor()\n"
   ]
  },
  {
   "cell_type": "markdown",
   "metadata": {},
   "source": [
    "### creating table"
   ]
  },
  {
   "cell_type": "code",
   "execution_count": 102,
   "metadata": {},
   "outputs": [],
   "source": [
    "#creating table\n",
    "mycursor.execute(\"CREATE TABLE HR \\\n",
    "                 (Emp_no int primary key, Emp_name varchar(20), \\\n",
    "                 Emp_desig varchar(20), Emp_contact int)\")\n"
   ]
  },
  {
   "cell_type": "markdown",
   "metadata": {},
   "source": [
    "### Inserting data into the table"
   ]
  },
  {
   "cell_type": "code",
   "execution_count": 103,
   "metadata": {},
   "outputs": [],
   "source": [
    "#Inseting values into Table\n",
    "SQL_Insert = \"INSERT INTO HR(Emp_no, Emp_name, Emp_desig, Emp_contact) \\\n",
    "                VALUES (%s,%s,%s,%s)\"\n",
    "                \n",
    "SQL_Insert_values = [ ('1','abc','hr','123456'),\n",
    "                      ('2','abc1','hr','12345678'),\n",
    "                      ('3', 'abc2','hr','1234567')\n",
    "                    ]\n",
    "                \n",
    "mycursor.executemany(SQL_Insert,SQL_Insert_values)\n",
    "\n",
    "mydb.commit() #commit() is used to save changes to database\n"
   ]
  },
  {
   "cell_type": "code",
   "execution_count": 54,
   "metadata": {},
   "outputs": [
    {
     "name": "stdout",
     "output_type": "stream",
     "text": [
      "3 rows were inserted\n"
     ]
    }
   ],
   "source": [
    "print(mycursor.rowcount,\"rows were inserted\")\n"
   ]
  },
  {
   "cell_type": "markdown",
   "metadata": {},
   "source": [
    "### Creating another table"
   ]
  },
  {
   "cell_type": "code",
   "execution_count": 104,
   "metadata": {},
   "outputs": [],
   "source": [
    "#Creating another table Finance\n",
    "mycursor.execute(\"CREATE TABLE FINANCE \\\n",
    "                 (Tax_No int primary key AUTO_INCREMENT, \\\n",
    "                 Emp_no int unique,\\\n",
    "                 Salary float)\")\n"
   ]
  },
  {
   "cell_type": "markdown",
   "metadata": {},
   "source": [
    "### Inserting data "
   ]
  },
  {
   "cell_type": "code",
   "execution_count": 105,
   "metadata": {},
   "outputs": [
    {
     "name": "stdout",
     "output_type": "stream",
     "text": [
      "3 rows were updated\n"
     ]
    }
   ],
   "source": [
    "#Inserting values into Finance Table\n",
    "SQL_Insert_Finance = \"INSERT INTO FINANCE(Emp_no,Salary) VALUES (%s,%s)\" \n",
    "\n",
    "SQL_Insert_Values_Finance = [(1,10.5),\n",
    "                             (2,11.5),\n",
    "                             (3,12.5)\n",
    "                            ]\n",
    "\n",
    "mycursor.executemany(SQL_Insert_Finance,SQL_Insert_Values_Finance)\n",
    "\n",
    "mydb.commit() #commit() is used to save changes\n",
    "\n",
    "print(mycursor.rowcount,\"rows were updated\")\n"
   ]
  },
  {
   "cell_type": "markdown",
   "metadata": {},
   "source": [
    "### Selecting data"
   ]
  },
  {
   "cell_type": "code",
   "execution_count": 118,
   "metadata": {},
   "outputs": [
    {
     "name": "stdout",
     "output_type": "stream",
     "text": [
      "(2, 'abc1', 'hr', 12345678)\n",
      "(3, 'abc2', 'hr', 1234567)\n"
     ]
    }
   ],
   "source": [
    "# Condition -- where cluase or where conditions\n",
    "\n",
    "SQL_where = \"SELECT * from HR WHERE Emp_no > 1\"\n",
    "\n",
    "mycursor.execute(SQL_where)\n",
    "\n",
    "SQL_where_results = mycursor.fetchall()\n",
    "\n",
    "for x in SQL_where_results:\n",
    "    print(x)\n"
   ]
  },
  {
   "cell_type": "code",
   "execution_count": 119,
   "metadata": {},
   "outputs": [
    {
     "name": "stdout",
     "output_type": "stream",
     "text": [
      "(3, 3, 12.5)\n"
     ]
    }
   ],
   "source": [
    "# Where Condition\n",
    "\n",
    "SQL_where_finance = \"SELECT * from FINANCE WHERE Salary >= 11.5\"\n",
    "\n",
    "mycursor.execute(SQL_where_finance)\n",
    "\n",
    "SQL_where_results_finance = mycursor.fetchall()\n",
    "\n",
    "for x in SQL_where_results_finance:\n",
    "    print(x)"
   ]
  },
  {
   "cell_type": "code",
   "execution_count": 106,
   "metadata": {},
   "outputs": [
    {
     "name": "stdout",
     "output_type": "stream",
     "text": [
      "('abc', 'hr', 10.5)\n",
      "('abc1', 'hr', 11.5)\n",
      "('abc2', 'hr', 12.5)\n"
     ]
    }
   ],
   "source": [
    "# INNER Join Functions\n",
    "\n",
    "SQL_join = \"SELECT A.Emp_name, A.Emp_desig, B.Salary \\\n",
    "            from HR as A \\\n",
    "            Inner join FINANCE as B\\\n",
    "            on A.Emp_no = B.Tax_no\"\n",
    "            \n",
    "mycursor.execute(SQL_join)\n",
    "\n",
    "SQL_results = mycursor.fetchall()\n",
    "\n",
    "for x in SQL_results:\n",
    "    print(x)\n"
   ]
  },
  {
   "cell_type": "code",
   "execution_count": 61,
   "metadata": {},
   "outputs": [
    {
     "name": "stdout",
     "output_type": "stream",
     "text": [
      "(1, 'abc', 'hr', 123456, 1, 1, 10.5)\n",
      "(2, 'abc1', 'hr', 12345678, 1, 1, 10.5)\n",
      "(3, 'abc2', 'hr', 1234567, 1, 1, 10.5)\n",
      "(1, 'abc', 'hr', 123456, 2, 2, 11.5)\n",
      "(2, 'abc1', 'hr', 12345678, 2, 2, 11.5)\n",
      "(3, 'abc2', 'hr', 1234567, 2, 2, 11.5)\n",
      "(1, 'abc', 'hr', 123456, 3, 3, 12.5)\n",
      "(2, 'abc1', 'hr', 12345678, 3, 3, 12.5)\n",
      "(3, 'abc2', 'hr', 1234567, 3, 3, 12.5)\n"
     ]
    }
   ],
   "source": [
    "# OUTER Join Functions\n",
    "\n",
    "SQL_join_cross = \"SELECT *  \\\n",
    "            from HR \\\n",
    "            CROSS join FINANCE \"\n",
    "            \n",
    "mycursor.execute(SQL_join_cross)\n",
    "\n",
    "SQL_results = mycursor.fetchall()\n",
    "\n",
    "for x in SQL_results:\n",
    "    print(x)\n"
   ]
  },
  {
   "cell_type": "markdown",
   "metadata": {},
   "source": [
    "### Update the data"
   ]
  },
  {
   "cell_type": "code",
   "execution_count": 116,
   "metadata": {},
   "outputs": [],
   "source": [
    "# Where Condition\n",
    "\n",
    "SQL_salary = \"UPDATE FINANCE SET Salary=11 WHERE Salary = 11.5\"\n",
    "mycursor.execute(SQL_salary)\n",
    "\n",
    "mydb.commit()"
   ]
  },
  {
   "cell_type": "code",
   "execution_count": 117,
   "metadata": {},
   "outputs": [
    {
     "name": "stdout",
     "output_type": "stream",
     "text": [
      "(3, 3, 12.5)\n"
     ]
    }
   ],
   "source": [
    "# Where Condition\n",
    "\n",
    "SQL_where_finance = \"SELECT * from FINANCE WHERE Salary >= 11.5\"\n",
    "\n",
    "mycursor.execute(SQL_where_finance)\n",
    "\n",
    "SQL_where_results_finance = mycursor.fetchall()\n",
    "\n",
    "for x in SQL_where_results_finance:\n",
    "    print(x)"
   ]
  },
  {
   "cell_type": "markdown",
   "metadata": {},
   "source": [
    "### Delete the data"
   ]
  },
  {
   "cell_type": "code",
   "execution_count": 130,
   "metadata": {},
   "outputs": [],
   "source": [
    "# rollback()-- it won't allow the execution of command\n",
    "\n",
    "SQL_salary = \"DELETE FROM FINANCE WHERE Salary >= 11.5\"  #deleting salary data if >=11.5\n",
    "mycursor.execute(SQL_salary)\n",
    "mydb.rollback()\n",
    "mydb.commit()"
   ]
  },
  {
   "cell_type": "code",
   "execution_count": 131,
   "metadata": {},
   "outputs": [
    {
     "name": "stdout",
     "output_type": "stream",
     "text": [
      "(3, 3, 12.5)\n"
     ]
    }
   ],
   "source": [
    "# Testing of rollback\n",
    "\n",
    "SQL_where_finance = \"SELECT * from FINANCE WHERE Salary >= 11.5\"\n",
    "\n",
    "mycursor.execute(SQL_where_finance)\n",
    "\n",
    "SQL_where_results_finance = mycursor.fetchall()\n",
    "\n",
    "for x in SQL_where_results_finance:\n",
    "    print(x)\n",
    "\n",
    "    \n",
    "# We still get the record of salary>=11.5 as we have used rollback() earlier which stopped the deletion"
   ]
  },
  {
   "cell_type": "code",
   "execution_count": 132,
   "metadata": {},
   "outputs": [],
   "source": [
    "# Without rollback\n",
    "\n",
    "SQL_salary = \"DELETE FROM FINANCE WHERE Salary >= 11.5\"\n",
    "mycursor.execute(SQL_salary)\n",
    "mydb.commit()"
   ]
  },
  {
   "cell_type": "code",
   "execution_count": 133,
   "metadata": {},
   "outputs": [],
   "source": [
    "SQL_where_finance = \"SELECT * from FINANCE WHERE Salary >= 11.5\"\n",
    "\n",
    "mycursor.execute(SQL_where_finance)\n",
    "\n",
    "SQL_where_results_finance = mycursor.fetchall()\n",
    "\n",
    "for x in SQL_where_results_finance:\n",
    "    print(x)"
   ]
  },
  {
   "cell_type": "code",
   "execution_count": null,
   "metadata": {},
   "outputs": [],
   "source": []
  }
 ],
 "metadata": {
  "kernelspec": {
   "display_name": "Python 3 (ipykernel)",
   "language": "python",
   "name": "python3"
  },
  "language_info": {
   "codemirror_mode": {
    "name": "ipython",
    "version": 3
   },
   "file_extension": ".py",
   "mimetype": "text/x-python",
   "name": "python",
   "nbconvert_exporter": "python",
   "pygments_lexer": "ipython3",
   "version": "3.9.7"
  }
 },
 "nbformat": 4,
 "nbformat_minor": 2
}
