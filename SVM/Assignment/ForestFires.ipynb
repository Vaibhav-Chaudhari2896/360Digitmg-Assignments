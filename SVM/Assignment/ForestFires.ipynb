{
 "cells": [
  {
   "cell_type": "markdown",
   "id": "224ba213",
   "metadata": {},
   "source": [
    "2. In California, annual forest fires can cause huge loss of wildlife, human life, and can cost billions of dollars in property damage. Local officials would like to predict the size of the burnt area in forest fires annually so that they can be better prepared in future calamities. \n",
    "Build a Support Vector Machines algorithm on the dataset and share your insights on it in the documentation. \n",
    "Note: - Size_ category is the output variable."
   ]
  },
  {
   "cell_type": "code",
   "execution_count": 1,
   "id": "643cf09b",
   "metadata": {},
   "outputs": [],
   "source": [
    "# import libraries\n",
    "import pandas as pd \n",
    "import numpy as np\n",
    "import matplotlib.pyplot as plt\n",
    "import seaborn as sns\n",
    "import warnings\n",
    "warnings.filterwarnings(action='ignore', category=FutureWarning)\n",
    "pd.set_option('display.max_columns',60)"
   ]
  },
  {
   "cell_type": "code",
   "execution_count": 2,
   "id": "e8857a29",
   "metadata": {},
   "outputs": [],
   "source": [
    "# import dataset\n",
    "data = pd.read_csv('C:\\\\Users\\\\vaibh\\\\Desktop\\\\360 Digitmg\\\\SVM\\\\Assignment\\\\forestfires.csv')"
   ]
  },
  {
   "cell_type": "code",
   "execution_count": 3,
   "id": "62faf4f7",
   "metadata": {},
   "outputs": [
    {
     "data": {
      "text/html": [
       "<div>\n",
       "<style scoped>\n",
       "    .dataframe tbody tr th:only-of-type {\n",
       "        vertical-align: middle;\n",
       "    }\n",
       "\n",
       "    .dataframe tbody tr th {\n",
       "        vertical-align: top;\n",
       "    }\n",
       "\n",
       "    .dataframe thead th {\n",
       "        text-align: right;\n",
       "    }\n",
       "</style>\n",
       "<table border=\"1\" class=\"dataframe\">\n",
       "  <thead>\n",
       "    <tr style=\"text-align: right;\">\n",
       "      <th></th>\n",
       "      <th>month</th>\n",
       "      <th>day</th>\n",
       "      <th>FFMC</th>\n",
       "      <th>DMC</th>\n",
       "      <th>DC</th>\n",
       "      <th>ISI</th>\n",
       "      <th>temp</th>\n",
       "      <th>RH</th>\n",
       "      <th>wind</th>\n",
       "      <th>rain</th>\n",
       "      <th>area</th>\n",
       "      <th>dayfri</th>\n",
       "      <th>daymon</th>\n",
       "      <th>daysat</th>\n",
       "      <th>daysun</th>\n",
       "      <th>daythu</th>\n",
       "      <th>daytue</th>\n",
       "      <th>daywed</th>\n",
       "      <th>monthapr</th>\n",
       "      <th>monthaug</th>\n",
       "      <th>monthdec</th>\n",
       "      <th>monthfeb</th>\n",
       "      <th>monthjan</th>\n",
       "      <th>monthjul</th>\n",
       "      <th>monthjun</th>\n",
       "      <th>monthmar</th>\n",
       "      <th>monthmay</th>\n",
       "      <th>monthnov</th>\n",
       "      <th>monthoct</th>\n",
       "      <th>monthsep</th>\n",
       "      <th>size_category</th>\n",
       "    </tr>\n",
       "  </thead>\n",
       "  <tbody>\n",
       "    <tr>\n",
       "      <th>0</th>\n",
       "      <td>mar</td>\n",
       "      <td>fri</td>\n",
       "      <td>86.2</td>\n",
       "      <td>26.2</td>\n",
       "      <td>94.3</td>\n",
       "      <td>5.1</td>\n",
       "      <td>8.2</td>\n",
       "      <td>51</td>\n",
       "      <td>6.7</td>\n",
       "      <td>0.0</td>\n",
       "      <td>0.0</td>\n",
       "      <td>1</td>\n",
       "      <td>0</td>\n",
       "      <td>0</td>\n",
       "      <td>0</td>\n",
       "      <td>0</td>\n",
       "      <td>0</td>\n",
       "      <td>0</td>\n",
       "      <td>0</td>\n",
       "      <td>0</td>\n",
       "      <td>0</td>\n",
       "      <td>0</td>\n",
       "      <td>0</td>\n",
       "      <td>0</td>\n",
       "      <td>0</td>\n",
       "      <td>1</td>\n",
       "      <td>0</td>\n",
       "      <td>0</td>\n",
       "      <td>0</td>\n",
       "      <td>0</td>\n",
       "      <td>small</td>\n",
       "    </tr>\n",
       "    <tr>\n",
       "      <th>1</th>\n",
       "      <td>oct</td>\n",
       "      <td>tue</td>\n",
       "      <td>90.6</td>\n",
       "      <td>35.4</td>\n",
       "      <td>669.1</td>\n",
       "      <td>6.7</td>\n",
       "      <td>18.0</td>\n",
       "      <td>33</td>\n",
       "      <td>0.9</td>\n",
       "      <td>0.0</td>\n",
       "      <td>0.0</td>\n",
       "      <td>0</td>\n",
       "      <td>0</td>\n",
       "      <td>0</td>\n",
       "      <td>0</td>\n",
       "      <td>0</td>\n",
       "      <td>1</td>\n",
       "      <td>0</td>\n",
       "      <td>0</td>\n",
       "      <td>0</td>\n",
       "      <td>0</td>\n",
       "      <td>0</td>\n",
       "      <td>0</td>\n",
       "      <td>0</td>\n",
       "      <td>0</td>\n",
       "      <td>0</td>\n",
       "      <td>0</td>\n",
       "      <td>0</td>\n",
       "      <td>1</td>\n",
       "      <td>0</td>\n",
       "      <td>small</td>\n",
       "    </tr>\n",
       "    <tr>\n",
       "      <th>2</th>\n",
       "      <td>oct</td>\n",
       "      <td>sat</td>\n",
       "      <td>90.6</td>\n",
       "      <td>43.7</td>\n",
       "      <td>686.9</td>\n",
       "      <td>6.7</td>\n",
       "      <td>14.6</td>\n",
       "      <td>33</td>\n",
       "      <td>1.3</td>\n",
       "      <td>0.0</td>\n",
       "      <td>0.0</td>\n",
       "      <td>0</td>\n",
       "      <td>0</td>\n",
       "      <td>1</td>\n",
       "      <td>0</td>\n",
       "      <td>0</td>\n",
       "      <td>0</td>\n",
       "      <td>0</td>\n",
       "      <td>0</td>\n",
       "      <td>0</td>\n",
       "      <td>0</td>\n",
       "      <td>0</td>\n",
       "      <td>0</td>\n",
       "      <td>0</td>\n",
       "      <td>0</td>\n",
       "      <td>0</td>\n",
       "      <td>0</td>\n",
       "      <td>0</td>\n",
       "      <td>1</td>\n",
       "      <td>0</td>\n",
       "      <td>small</td>\n",
       "    </tr>\n",
       "    <tr>\n",
       "      <th>3</th>\n",
       "      <td>mar</td>\n",
       "      <td>fri</td>\n",
       "      <td>91.7</td>\n",
       "      <td>33.3</td>\n",
       "      <td>77.5</td>\n",
       "      <td>9.0</td>\n",
       "      <td>8.3</td>\n",
       "      <td>97</td>\n",
       "      <td>4.0</td>\n",
       "      <td>0.2</td>\n",
       "      <td>0.0</td>\n",
       "      <td>1</td>\n",
       "      <td>0</td>\n",
       "      <td>0</td>\n",
       "      <td>0</td>\n",
       "      <td>0</td>\n",
       "      <td>0</td>\n",
       "      <td>0</td>\n",
       "      <td>0</td>\n",
       "      <td>0</td>\n",
       "      <td>0</td>\n",
       "      <td>0</td>\n",
       "      <td>0</td>\n",
       "      <td>0</td>\n",
       "      <td>0</td>\n",
       "      <td>1</td>\n",
       "      <td>0</td>\n",
       "      <td>0</td>\n",
       "      <td>0</td>\n",
       "      <td>0</td>\n",
       "      <td>small</td>\n",
       "    </tr>\n",
       "    <tr>\n",
       "      <th>4</th>\n",
       "      <td>mar</td>\n",
       "      <td>sun</td>\n",
       "      <td>89.3</td>\n",
       "      <td>51.3</td>\n",
       "      <td>102.2</td>\n",
       "      <td>9.6</td>\n",
       "      <td>11.4</td>\n",
       "      <td>99</td>\n",
       "      <td>1.8</td>\n",
       "      <td>0.0</td>\n",
       "      <td>0.0</td>\n",
       "      <td>0</td>\n",
       "      <td>0</td>\n",
       "      <td>0</td>\n",
       "      <td>1</td>\n",
       "      <td>0</td>\n",
       "      <td>0</td>\n",
       "      <td>0</td>\n",
       "      <td>0</td>\n",
       "      <td>0</td>\n",
       "      <td>0</td>\n",
       "      <td>0</td>\n",
       "      <td>0</td>\n",
       "      <td>0</td>\n",
       "      <td>0</td>\n",
       "      <td>1</td>\n",
       "      <td>0</td>\n",
       "      <td>0</td>\n",
       "      <td>0</td>\n",
       "      <td>0</td>\n",
       "      <td>small</td>\n",
       "    </tr>\n",
       "  </tbody>\n",
       "</table>\n",
       "</div>"
      ],
      "text/plain": [
       "  month  day  FFMC   DMC     DC  ISI  temp  RH  wind  rain  area  dayfri  \\\n",
       "0   mar  fri  86.2  26.2   94.3  5.1   8.2  51   6.7   0.0   0.0       1   \n",
       "1   oct  tue  90.6  35.4  669.1  6.7  18.0  33   0.9   0.0   0.0       0   \n",
       "2   oct  sat  90.6  43.7  686.9  6.7  14.6  33   1.3   0.0   0.0       0   \n",
       "3   mar  fri  91.7  33.3   77.5  9.0   8.3  97   4.0   0.2   0.0       1   \n",
       "4   mar  sun  89.3  51.3  102.2  9.6  11.4  99   1.8   0.0   0.0       0   \n",
       "\n",
       "   daymon  daysat  daysun  daythu  daytue  daywed  monthapr  monthaug  \\\n",
       "0       0       0       0       0       0       0         0         0   \n",
       "1       0       0       0       0       1       0         0         0   \n",
       "2       0       1       0       0       0       0         0         0   \n",
       "3       0       0       0       0       0       0         0         0   \n",
       "4       0       0       1       0       0       0         0         0   \n",
       "\n",
       "   monthdec  monthfeb  monthjan  monthjul  monthjun  monthmar  monthmay  \\\n",
       "0         0         0         0         0         0         1         0   \n",
       "1         0         0         0         0         0         0         0   \n",
       "2         0         0         0         0         0         0         0   \n",
       "3         0         0         0         0         0         1         0   \n",
       "4         0         0         0         0         0         1         0   \n",
       "\n",
       "   monthnov  monthoct  monthsep size_category  \n",
       "0         0         0         0         small  \n",
       "1         0         1         0         small  \n",
       "2         0         1         0         small  \n",
       "3         0         0         0         small  \n",
       "4         0         0         0         small  "
      ]
     },
     "execution_count": 3,
     "metadata": {},
     "output_type": "execute_result"
    }
   ],
   "source": [
    "data.head()"
   ]
  },
  {
   "cell_type": "code",
   "execution_count": 4,
   "id": "793e4aac",
   "metadata": {},
   "outputs": [
    {
     "data": {
      "text/plain": [
       "(517, 31)"
      ]
     },
     "execution_count": 4,
     "metadata": {},
     "output_type": "execute_result"
    }
   ],
   "source": [
    "data.shape"
   ]
  },
  {
   "cell_type": "code",
   "execution_count": 5,
   "id": "ae159674",
   "metadata": {},
   "outputs": [
    {
     "data": {
      "text/plain": [
       "month            0\n",
       "day              0\n",
       "FFMC             0\n",
       "DMC              0\n",
       "DC               0\n",
       "ISI              0\n",
       "temp             0\n",
       "RH               0\n",
       "wind             0\n",
       "rain             0\n",
       "area             0\n",
       "dayfri           0\n",
       "daymon           0\n",
       "daysat           0\n",
       "daysun           0\n",
       "daythu           0\n",
       "daytue           0\n",
       "daywed           0\n",
       "monthapr         0\n",
       "monthaug         0\n",
       "monthdec         0\n",
       "monthfeb         0\n",
       "monthjan         0\n",
       "monthjul         0\n",
       "monthjun         0\n",
       "monthmar         0\n",
       "monthmay         0\n",
       "monthnov         0\n",
       "monthoct         0\n",
       "monthsep         0\n",
       "size_category    0\n",
       "dtype: int64"
      ]
     },
     "execution_count": 5,
     "metadata": {},
     "output_type": "execute_result"
    }
   ],
   "source": [
    "# Checking for null values\n",
    "data.isnull().sum()"
   ]
  },
  {
   "cell_type": "markdown",
   "id": "b5cb8ff4",
   "metadata": {},
   "source": [
    "    There are no null values"
   ]
  },
  {
   "cell_type": "code",
   "execution_count": 6,
   "id": "7ab8de6f",
   "metadata": {},
   "outputs": [
    {
     "data": {
      "text/plain": [
       "8"
      ]
     },
     "execution_count": 6,
     "metadata": {},
     "output_type": "execute_result"
    }
   ],
   "source": [
    "# Checking for duplicated values\n",
    "data.duplicated().sum()"
   ]
  },
  {
   "cell_type": "code",
   "execution_count": 7,
   "id": "88ea8a3a",
   "metadata": {},
   "outputs": [],
   "source": [
    "# Dropping duplicated rows\n",
    "data.drop_duplicates(keep='first', inplace=True, ignore_index=True)"
   ]
  },
  {
   "cell_type": "code",
   "execution_count": 8,
   "id": "eac85727",
   "metadata": {},
   "outputs": [
    {
     "data": {
      "text/plain": [
       "(509, 31)"
      ]
     },
     "execution_count": 8,
     "metadata": {},
     "output_type": "execute_result"
    }
   ],
   "source": [
    "data.shape"
   ]
  },
  {
   "cell_type": "code",
   "execution_count": 9,
   "id": "b9a048ea",
   "metadata": {},
   "outputs": [
    {
     "data": {
      "text/html": [
       "<div>\n",
       "<style scoped>\n",
       "    .dataframe tbody tr th:only-of-type {\n",
       "        vertical-align: middle;\n",
       "    }\n",
       "\n",
       "    .dataframe tbody tr th {\n",
       "        vertical-align: top;\n",
       "    }\n",
       "\n",
       "    .dataframe thead th {\n",
       "        text-align: right;\n",
       "    }\n",
       "</style>\n",
       "<table border=\"1\" class=\"dataframe\">\n",
       "  <thead>\n",
       "    <tr style=\"text-align: right;\">\n",
       "      <th></th>\n",
       "      <th>count</th>\n",
       "      <th>mean</th>\n",
       "      <th>std</th>\n",
       "      <th>min</th>\n",
       "      <th>25%</th>\n",
       "      <th>50%</th>\n",
       "      <th>75%</th>\n",
       "      <th>max</th>\n",
       "    </tr>\n",
       "  </thead>\n",
       "  <tbody>\n",
       "    <tr>\n",
       "      <th>FFMC</th>\n",
       "      <td>509.0</td>\n",
       "      <td>90.618075</td>\n",
       "      <td>5.555527</td>\n",
       "      <td>18.7</td>\n",
       "      <td>90.2</td>\n",
       "      <td>91.60</td>\n",
       "      <td>92.90</td>\n",
       "      <td>96.20</td>\n",
       "    </tr>\n",
       "    <tr>\n",
       "      <th>DMC</th>\n",
       "      <td>509.0</td>\n",
       "      <td>110.235756</td>\n",
       "      <td>63.804112</td>\n",
       "      <td>1.1</td>\n",
       "      <td>62.3</td>\n",
       "      <td>108.30</td>\n",
       "      <td>141.30</td>\n",
       "      <td>291.30</td>\n",
       "    </tr>\n",
       "    <tr>\n",
       "      <th>DC</th>\n",
       "      <td>509.0</td>\n",
       "      <td>547.787623</td>\n",
       "      <td>248.196222</td>\n",
       "      <td>7.9</td>\n",
       "      <td>437.7</td>\n",
       "      <td>664.20</td>\n",
       "      <td>713.90</td>\n",
       "      <td>860.60</td>\n",
       "    </tr>\n",
       "    <tr>\n",
       "      <th>ISI</th>\n",
       "      <td>509.0</td>\n",
       "      <td>9.023576</td>\n",
       "      <td>4.585083</td>\n",
       "      <td>0.0</td>\n",
       "      <td>6.4</td>\n",
       "      <td>8.40</td>\n",
       "      <td>11.00</td>\n",
       "      <td>56.10</td>\n",
       "    </tr>\n",
       "    <tr>\n",
       "      <th>temp</th>\n",
       "      <td>509.0</td>\n",
       "      <td>18.865422</td>\n",
       "      <td>5.841083</td>\n",
       "      <td>2.2</td>\n",
       "      <td>15.4</td>\n",
       "      <td>19.30</td>\n",
       "      <td>22.80</td>\n",
       "      <td>33.30</td>\n",
       "    </tr>\n",
       "    <tr>\n",
       "      <th>RH</th>\n",
       "      <td>509.0</td>\n",
       "      <td>44.253438</td>\n",
       "      <td>16.365192</td>\n",
       "      <td>15.0</td>\n",
       "      <td>32.0</td>\n",
       "      <td>42.00</td>\n",
       "      <td>53.00</td>\n",
       "      <td>100.00</td>\n",
       "    </tr>\n",
       "    <tr>\n",
       "      <th>wind</th>\n",
       "      <td>509.0</td>\n",
       "      <td>4.011395</td>\n",
       "      <td>1.800926</td>\n",
       "      <td>0.4</td>\n",
       "      <td>2.7</td>\n",
       "      <td>4.00</td>\n",
       "      <td>4.90</td>\n",
       "      <td>9.40</td>\n",
       "    </tr>\n",
       "    <tr>\n",
       "      <th>rain</th>\n",
       "      <td>509.0</td>\n",
       "      <td>0.020432</td>\n",
       "      <td>0.296261</td>\n",
       "      <td>0.0</td>\n",
       "      <td>0.0</td>\n",
       "      <td>0.00</td>\n",
       "      <td>0.00</td>\n",
       "      <td>6.40</td>\n",
       "    </tr>\n",
       "    <tr>\n",
       "      <th>area</th>\n",
       "      <td>509.0</td>\n",
       "      <td>12.992908</td>\n",
       "      <td>64.133357</td>\n",
       "      <td>0.0</td>\n",
       "      <td>0.0</td>\n",
       "      <td>0.61</td>\n",
       "      <td>6.58</td>\n",
       "      <td>1090.84</td>\n",
       "    </tr>\n",
       "    <tr>\n",
       "      <th>dayfri</th>\n",
       "      <td>509.0</td>\n",
       "      <td>0.163065</td>\n",
       "      <td>0.369788</td>\n",
       "      <td>0.0</td>\n",
       "      <td>0.0</td>\n",
       "      <td>0.00</td>\n",
       "      <td>0.00</td>\n",
       "      <td>1.00</td>\n",
       "    </tr>\n",
       "    <tr>\n",
       "      <th>daymon</th>\n",
       "      <td>509.0</td>\n",
       "      <td>0.145383</td>\n",
       "      <td>0.352833</td>\n",
       "      <td>0.0</td>\n",
       "      <td>0.0</td>\n",
       "      <td>0.00</td>\n",
       "      <td>0.00</td>\n",
       "      <td>1.00</td>\n",
       "    </tr>\n",
       "    <tr>\n",
       "      <th>daysat</th>\n",
       "      <td>509.0</td>\n",
       "      <td>0.161100</td>\n",
       "      <td>0.367985</td>\n",
       "      <td>0.0</td>\n",
       "      <td>0.0</td>\n",
       "      <td>0.00</td>\n",
       "      <td>0.00</td>\n",
       "      <td>1.00</td>\n",
       "    </tr>\n",
       "    <tr>\n",
       "      <th>daysun</th>\n",
       "      <td>509.0</td>\n",
       "      <td>0.184676</td>\n",
       "      <td>0.388416</td>\n",
       "      <td>0.0</td>\n",
       "      <td>0.0</td>\n",
       "      <td>0.00</td>\n",
       "      <td>0.00</td>\n",
       "      <td>1.00</td>\n",
       "    </tr>\n",
       "    <tr>\n",
       "      <th>daythu</th>\n",
       "      <td>509.0</td>\n",
       "      <td>0.117878</td>\n",
       "      <td>0.322781</td>\n",
       "      <td>0.0</td>\n",
       "      <td>0.0</td>\n",
       "      <td>0.00</td>\n",
       "      <td>0.00</td>\n",
       "      <td>1.00</td>\n",
       "    </tr>\n",
       "    <tr>\n",
       "      <th>daytue</th>\n",
       "      <td>509.0</td>\n",
       "      <td>0.123772</td>\n",
       "      <td>0.329645</td>\n",
       "      <td>0.0</td>\n",
       "      <td>0.0</td>\n",
       "      <td>0.00</td>\n",
       "      <td>0.00</td>\n",
       "      <td>1.00</td>\n",
       "    </tr>\n",
       "    <tr>\n",
       "      <th>daywed</th>\n",
       "      <td>509.0</td>\n",
       "      <td>0.104126</td>\n",
       "      <td>0.305724</td>\n",
       "      <td>0.0</td>\n",
       "      <td>0.0</td>\n",
       "      <td>0.00</td>\n",
       "      <td>0.00</td>\n",
       "      <td>1.00</td>\n",
       "    </tr>\n",
       "    <tr>\n",
       "      <th>monthapr</th>\n",
       "      <td>509.0</td>\n",
       "      <td>0.017682</td>\n",
       "      <td>0.131921</td>\n",
       "      <td>0.0</td>\n",
       "      <td>0.0</td>\n",
       "      <td>0.00</td>\n",
       "      <td>0.00</td>\n",
       "      <td>1.00</td>\n",
       "    </tr>\n",
       "    <tr>\n",
       "      <th>monthaug</th>\n",
       "      <td>509.0</td>\n",
       "      <td>0.349705</td>\n",
       "      <td>0.477346</td>\n",
       "      <td>0.0</td>\n",
       "      <td>0.0</td>\n",
       "      <td>0.00</td>\n",
       "      <td>1.00</td>\n",
       "      <td>1.00</td>\n",
       "    </tr>\n",
       "    <tr>\n",
       "      <th>monthdec</th>\n",
       "      <td>509.0</td>\n",
       "      <td>0.017682</td>\n",
       "      <td>0.131921</td>\n",
       "      <td>0.0</td>\n",
       "      <td>0.0</td>\n",
       "      <td>0.00</td>\n",
       "      <td>0.00</td>\n",
       "      <td>1.00</td>\n",
       "    </tr>\n",
       "    <tr>\n",
       "      <th>monthfeb</th>\n",
       "      <td>509.0</td>\n",
       "      <td>0.039293</td>\n",
       "      <td>0.194482</td>\n",
       "      <td>0.0</td>\n",
       "      <td>0.0</td>\n",
       "      <td>0.00</td>\n",
       "      <td>0.00</td>\n",
       "      <td>1.00</td>\n",
       "    </tr>\n",
       "    <tr>\n",
       "      <th>monthjan</th>\n",
       "      <td>509.0</td>\n",
       "      <td>0.003929</td>\n",
       "      <td>0.062622</td>\n",
       "      <td>0.0</td>\n",
       "      <td>0.0</td>\n",
       "      <td>0.00</td>\n",
       "      <td>0.00</td>\n",
       "      <td>1.00</td>\n",
       "    </tr>\n",
       "    <tr>\n",
       "      <th>monthjul</th>\n",
       "      <td>509.0</td>\n",
       "      <td>0.062868</td>\n",
       "      <td>0.242965</td>\n",
       "      <td>0.0</td>\n",
       "      <td>0.0</td>\n",
       "      <td>0.00</td>\n",
       "      <td>0.00</td>\n",
       "      <td>1.00</td>\n",
       "    </tr>\n",
       "    <tr>\n",
       "      <th>monthjun</th>\n",
       "      <td>509.0</td>\n",
       "      <td>0.031434</td>\n",
       "      <td>0.174660</td>\n",
       "      <td>0.0</td>\n",
       "      <td>0.0</td>\n",
       "      <td>0.00</td>\n",
       "      <td>0.00</td>\n",
       "      <td>1.00</td>\n",
       "    </tr>\n",
       "    <tr>\n",
       "      <th>monthmar</th>\n",
       "      <td>509.0</td>\n",
       "      <td>0.104126</td>\n",
       "      <td>0.305724</td>\n",
       "      <td>0.0</td>\n",
       "      <td>0.0</td>\n",
       "      <td>0.00</td>\n",
       "      <td>0.00</td>\n",
       "      <td>1.00</td>\n",
       "    </tr>\n",
       "    <tr>\n",
       "      <th>monthmay</th>\n",
       "      <td>509.0</td>\n",
       "      <td>0.003929</td>\n",
       "      <td>0.062622</td>\n",
       "      <td>0.0</td>\n",
       "      <td>0.0</td>\n",
       "      <td>0.00</td>\n",
       "      <td>0.00</td>\n",
       "      <td>1.00</td>\n",
       "    </tr>\n",
       "    <tr>\n",
       "      <th>monthnov</th>\n",
       "      <td>509.0</td>\n",
       "      <td>0.001965</td>\n",
       "      <td>0.044324</td>\n",
       "      <td>0.0</td>\n",
       "      <td>0.0</td>\n",
       "      <td>0.00</td>\n",
       "      <td>0.00</td>\n",
       "      <td>1.00</td>\n",
       "    </tr>\n",
       "    <tr>\n",
       "      <th>monthoct</th>\n",
       "      <td>509.0</td>\n",
       "      <td>0.029470</td>\n",
       "      <td>0.169285</td>\n",
       "      <td>0.0</td>\n",
       "      <td>0.0</td>\n",
       "      <td>0.00</td>\n",
       "      <td>0.00</td>\n",
       "      <td>1.00</td>\n",
       "    </tr>\n",
       "    <tr>\n",
       "      <th>monthsep</th>\n",
       "      <td>509.0</td>\n",
       "      <td>0.337917</td>\n",
       "      <td>0.473466</td>\n",
       "      <td>0.0</td>\n",
       "      <td>0.0</td>\n",
       "      <td>0.00</td>\n",
       "      <td>1.00</td>\n",
       "      <td>1.00</td>\n",
       "    </tr>\n",
       "  </tbody>\n",
       "</table>\n",
       "</div>"
      ],
      "text/plain": [
       "          count        mean         std   min    25%     50%     75%      max\n",
       "FFMC      509.0   90.618075    5.555527  18.7   90.2   91.60   92.90    96.20\n",
       "DMC       509.0  110.235756   63.804112   1.1   62.3  108.30  141.30   291.30\n",
       "DC        509.0  547.787623  248.196222   7.9  437.7  664.20  713.90   860.60\n",
       "ISI       509.0    9.023576    4.585083   0.0    6.4    8.40   11.00    56.10\n",
       "temp      509.0   18.865422    5.841083   2.2   15.4   19.30   22.80    33.30\n",
       "RH        509.0   44.253438   16.365192  15.0   32.0   42.00   53.00   100.00\n",
       "wind      509.0    4.011395    1.800926   0.4    2.7    4.00    4.90     9.40\n",
       "rain      509.0    0.020432    0.296261   0.0    0.0    0.00    0.00     6.40\n",
       "area      509.0   12.992908   64.133357   0.0    0.0    0.61    6.58  1090.84\n",
       "dayfri    509.0    0.163065    0.369788   0.0    0.0    0.00    0.00     1.00\n",
       "daymon    509.0    0.145383    0.352833   0.0    0.0    0.00    0.00     1.00\n",
       "daysat    509.0    0.161100    0.367985   0.0    0.0    0.00    0.00     1.00\n",
       "daysun    509.0    0.184676    0.388416   0.0    0.0    0.00    0.00     1.00\n",
       "daythu    509.0    0.117878    0.322781   0.0    0.0    0.00    0.00     1.00\n",
       "daytue    509.0    0.123772    0.329645   0.0    0.0    0.00    0.00     1.00\n",
       "daywed    509.0    0.104126    0.305724   0.0    0.0    0.00    0.00     1.00\n",
       "monthapr  509.0    0.017682    0.131921   0.0    0.0    0.00    0.00     1.00\n",
       "monthaug  509.0    0.349705    0.477346   0.0    0.0    0.00    1.00     1.00\n",
       "monthdec  509.0    0.017682    0.131921   0.0    0.0    0.00    0.00     1.00\n",
       "monthfeb  509.0    0.039293    0.194482   0.0    0.0    0.00    0.00     1.00\n",
       "monthjan  509.0    0.003929    0.062622   0.0    0.0    0.00    0.00     1.00\n",
       "monthjul  509.0    0.062868    0.242965   0.0    0.0    0.00    0.00     1.00\n",
       "monthjun  509.0    0.031434    0.174660   0.0    0.0    0.00    0.00     1.00\n",
       "monthmar  509.0    0.104126    0.305724   0.0    0.0    0.00    0.00     1.00\n",
       "monthmay  509.0    0.003929    0.062622   0.0    0.0    0.00    0.00     1.00\n",
       "monthnov  509.0    0.001965    0.044324   0.0    0.0    0.00    0.00     1.00\n",
       "monthoct  509.0    0.029470    0.169285   0.0    0.0    0.00    0.00     1.00\n",
       "monthsep  509.0    0.337917    0.473466   0.0    0.0    0.00    1.00     1.00"
      ]
     },
     "execution_count": 9,
     "metadata": {},
     "output_type": "execute_result"
    }
   ],
   "source": [
    "# Descriptive statistics\n",
    "data.describe().T"
   ]
  },
  {
   "cell_type": "code",
   "execution_count": 10,
   "id": "849a8586",
   "metadata": {},
   "outputs": [
    {
     "name": "stdout",
     "output_type": "stream",
     "text": [
      "<class 'pandas.core.frame.DataFrame'>\n",
      "RangeIndex: 509 entries, 0 to 508\n",
      "Data columns (total 31 columns):\n",
      " #   Column         Non-Null Count  Dtype  \n",
      "---  ------         --------------  -----  \n",
      " 0   month          509 non-null    object \n",
      " 1   day            509 non-null    object \n",
      " 2   FFMC           509 non-null    float64\n",
      " 3   DMC            509 non-null    float64\n",
      " 4   DC             509 non-null    float64\n",
      " 5   ISI            509 non-null    float64\n",
      " 6   temp           509 non-null    float64\n",
      " 7   RH             509 non-null    int64  \n",
      " 8   wind           509 non-null    float64\n",
      " 9   rain           509 non-null    float64\n",
      " 10  area           509 non-null    float64\n",
      " 11  dayfri         509 non-null    int64  \n",
      " 12  daymon         509 non-null    int64  \n",
      " 13  daysat         509 non-null    int64  \n",
      " 14  daysun         509 non-null    int64  \n",
      " 15  daythu         509 non-null    int64  \n",
      " 16  daytue         509 non-null    int64  \n",
      " 17  daywed         509 non-null    int64  \n",
      " 18  monthapr       509 non-null    int64  \n",
      " 19  monthaug       509 non-null    int64  \n",
      " 20  monthdec       509 non-null    int64  \n",
      " 21  monthfeb       509 non-null    int64  \n",
      " 22  monthjan       509 non-null    int64  \n",
      " 23  monthjul       509 non-null    int64  \n",
      " 24  monthjun       509 non-null    int64  \n",
      " 25  monthmar       509 non-null    int64  \n",
      " 26  monthmay       509 non-null    int64  \n",
      " 27  monthnov       509 non-null    int64  \n",
      " 28  monthoct       509 non-null    int64  \n",
      " 29  monthsep       509 non-null    int64  \n",
      " 30  size_category  509 non-null    object \n",
      "dtypes: float64(8), int64(20), object(3)\n",
      "memory usage: 123.4+ KB\n"
     ]
    }
   ],
   "source": [
    "# Info \n",
    "data.info()"
   ]
  },
  {
   "cell_type": "code",
   "execution_count": 11,
   "id": "62f7d56c",
   "metadata": {},
   "outputs": [],
   "source": [
    "# Categorical data\n",
    "cat_data = []\n",
    "num_data = []\n",
    "for i in data.columns:\n",
    "    if np.dtype(data[i]) == 'O':\n",
    "        cat_data.append(i)\n",
    "    else:\n",
    "        num_data.append(i) "
   ]
  },
  {
   "cell_type": "code",
   "execution_count": 12,
   "id": "e5fe6b26",
   "metadata": {},
   "outputs": [
    {
     "data": {
      "image/png": "[encoded data removed]",
      "text/plain": [
       "<Figure size 1080x360 with 3 Axes>"
      ]
     },
     "metadata": {
      "needs_background": "light"
     },
     "output_type": "display_data"
    }
   ],
   "source": [
    "# Countplot \n",
    "fig,axes = plt.subplots(1,3,figsize=(15,5))\n",
    "axes = axes.flatten()\n",
    "index = 0\n",
    "for col in cat_data:\n",
    "    sns.countplot(y = data[col], ax=axes[index])\n",
    "    index += 1\n",
    "plt.tight_layout(w_pad = 0.5, h_pad = 0.5, pad= 1)"
   ]
  },
  {
   "cell_type": "markdown",
   "id": "df917409",
   "metadata": {},
   "source": [
    "    1. Most of the forest fires can be seen in the month of august and september\n",
    "    2. There have been cases of forest fires around weekends\n",
    "    3. A large number of Small sized forest fires can be seen"
   ]
  },
  {
   "cell_type": "code",
   "execution_count": 13,
   "id": "b1c59327",
   "metadata": {},
   "outputs": [
    {
     "data": {
      "text/plain": [
       "size_category\n",
       "large    18.960870\n",
       "small    18.829919\n",
       "Name: temp, dtype: float64"
      ]
     },
     "execution_count": 13,
     "metadata": {},
     "output_type": "execute_result"
    }
   ],
   "source": [
    "# Temperature based on size of fires\n",
    "data.temp.groupby(data.size_category).mean()"
   ]
  },
  {
   "cell_type": "code",
   "execution_count": 14,
   "id": "7cb0db78",
   "metadata": {},
   "outputs": [
    {
     "data": {
      "text/plain": [
       "size_category\n",
       "large    4.186957\n",
       "small    3.946092\n",
       "Name: wind, dtype: float64"
      ]
     },
     "execution_count": 14,
     "metadata": {},
     "output_type": "execute_result"
    }
   ],
   "source": [
    "# Wind based on size of fires\n",
    "data.wind.groupby(data.size_category).mean()"
   ]
  },
  {
   "cell_type": "markdown",
   "id": "52f465c3",
   "metadata": {},
   "source": [
    "    We can clearly see, with increase in wind size of fires increased"
   ]
  },
  {
   "cell_type": "code",
   "execution_count": 15,
   "id": "dbcd47e5",
   "metadata": {},
   "outputs": [
    {
     "data": {
      "image/png": "[encoded data removed]",
      "text/plain": [
       "<Figure size 1080x720 with 9 Axes>"
      ]
     },
     "metadata": {
      "needs_background": "light"
     },
     "output_type": "display_data"
    }
   ],
   "source": [
    "# Histogram for numerical data\n",
    "\n",
    "figure,axes = plt.subplots(3,3,figsize=(15,10))\n",
    "index = 0\n",
    "axes = axes.flatten()\n",
    "\n",
    "for i in num_data[:9]:\n",
    "    sns.histplot(data = data[i], kde=1, ax=axes[index])\n",
    "    index +=1\n",
    "plt.tight_layout(h_pad=0.5, w_pad=0.5, pad=1)"
   ]
  },
  {
   "cell_type": "markdown",
   "id": "26a1d927",
   "metadata": {},
   "source": [
    "    Temp and wind data distribution is normal. The rest are skewed."
   ]
  },
  {
   "cell_type": "code",
   "execution_count": 16,
   "id": "39bf4587",
   "metadata": {},
   "outputs": [
    {
     "data": {
      "image/png": "[encoded data removed]",
      "text/plain": [
       "<Figure size 720x360 with 2 Axes>"
      ]
     },
     "metadata": {
      "needs_background": "light"
     },
     "output_type": "display_data"
    }
   ],
   "source": [
    "# Correlation \n",
    "data1 = data.iloc[:,0:11]\n",
    "\n",
    "plt.figure(figsize=(10,5))\n",
    "sns.heatmap(data1.corr(), annot = True)\n",
    "plt.show()"
   ]
  },
  {
   "cell_type": "code",
   "execution_count": 17,
   "id": "08c2c386",
   "metadata": {},
   "outputs": [],
   "source": [
    "# Dropping irrelevant features\n",
    "data.drop(['month', 'day'], axis =1, inplace=True)"
   ]
  },
  {
   "cell_type": "code",
   "execution_count": 18,
   "id": "2ac717c0",
   "metadata": {},
   "outputs": [],
   "source": [
    "# Converting categorical to numerical \n",
    "data.size_category = data.size_category.map({'small':0, 'large': 1})"
   ]
  },
  {
   "cell_type": "markdown",
   "id": "37548762",
   "metadata": {},
   "source": [
    "."
   ]
  },
  {
   "cell_type": "code",
   "execution_count": 19,
   "id": "2238a992",
   "metadata": {},
   "outputs": [],
   "source": [
    "# Splitting into x and y\n",
    "x = data.drop('size_category', axis=1)\n",
    "y = data.size_category"
   ]
  },
  {
   "cell_type": "code",
   "execution_count": 20,
   "id": "16a04bf2",
   "metadata": {},
   "outputs": [],
   "source": [
    "# train test split\n",
    "from sklearn.model_selection import train_test_split\n",
    "x_train, x_test, y_train, y_test = train_test_split(x, y, test_size = 0.3)"
   ]
  },
  {
   "cell_type": "code",
   "execution_count": 21,
   "id": "6bdf3ccb",
   "metadata": {},
   "outputs": [],
   "source": [
    "# Normalizing\n",
    "from sklearn.preprocessing import MinMaxScaler\n",
    "mms = MinMaxScaler()\n",
    "mms_x_train = mms.fit_transform(x_train)\n",
    "mms_x_test = mms.fit_transform(x_test)"
   ]
  },
  {
   "cell_type": "markdown",
   "id": "5a13d377",
   "metadata": {},
   "source": [
    "# SVM"
   ]
  },
  {
   "cell_type": "code",
   "execution_count": 22,
   "id": "3c84b338",
   "metadata": {},
   "outputs": [
    {
     "data": {
      "text/plain": [
       "SVC(kernel='linear')"
      ]
     },
     "execution_count": 22,
     "metadata": {},
     "output_type": "execute_result"
    }
   ],
   "source": [
    "# Using linear kernel\n",
    "from sklearn.svm import SVC\n",
    "\n",
    "model_linear = SVC(kernel = \"linear\")\n",
    "model_linear.fit(mms_x_train, y_train)"
   ]
  },
  {
   "cell_type": "code",
   "execution_count": 23,
   "id": "18c6b547",
   "metadata": {},
   "outputs": [],
   "source": [
    "pred_test_linear = model_linear.predict(mms_x_test)"
   ]
  },
  {
   "cell_type": "code",
   "execution_count": 24,
   "id": "d4bde3cc",
   "metadata": {
    "scrolled": true
   },
   "outputs": [
    {
     "data": {
      "text/plain": [
       "0.7712418300653595"
      ]
     },
     "execution_count": 24,
     "metadata": {},
     "output_type": "execute_result"
    }
   ],
   "source": [
    "np.mean(pred_test_linear == y_test)"
   ]
  },
  {
   "cell_type": "code",
   "execution_count": 25,
   "id": "1c28a67b",
   "metadata": {},
   "outputs": [
    {
     "data": {
      "text/plain": [
       "0.7581699346405228"
      ]
     },
     "execution_count": 25,
     "metadata": {},
     "output_type": "execute_result"
    }
   ],
   "source": [
    "# Using rbf kernel\n",
    "\n",
    "model_rbf = SVC(kernel = \"rbf\")\n",
    "model_rbf.fit(mms_x_train, y_train)\n",
    "pred_test_rbf = model_rbf.predict(mms_x_test)\n",
    "\n",
    "np.mean(pred_test_rbf==y_test)"
   ]
  },
  {
   "cell_type": "markdown",
   "id": "bc605385",
   "metadata": {},
   "source": [
    "Using linear kernel gives good result compared to rbf kernel"
   ]
  }
 ],
 "metadata": {
  "kernelspec": {
   "display_name": "Python 3 (ipykernel)",
   "language": "python",
   "name": "python3"
  },
  "language_info": {
   "codemirror_mode": {
    "name": "ipython",
    "version": 3
   },
   "file_extension": ".py",
   "mimetype": "text/x-python",
   "name": "python",
   "nbconvert_exporter": "python",
   "pygments_lexer": "ipython3",
   "version": "3.9.12"
  }
 },
 "nbformat": 4,
 "nbformat_minor": 5
}
